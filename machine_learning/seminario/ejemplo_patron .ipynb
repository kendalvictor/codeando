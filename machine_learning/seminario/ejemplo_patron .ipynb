{
 "cells": [
  {
   "cell_type": "code",
   "execution_count": 1,
   "metadata": {
    "collapsed": false
   },
   "outputs": [
    {
     "name": "stdout",
     "output_type": "stream",
     "text": [
      "\n",
      "+\n",
      "**\n",
      "+++\n",
      "****\n",
      "+++++\n",
      "****\n",
      "+++\n",
      "**\n",
      "+\n"
     ]
    }
   ],
   "source": [
    "def patron(x):\n",
    "    for i in range(2*x):\n",
    "        simbolo = \"*\" if i%2 == 0 else \"+\"\n",
    "        veces = i if i <= x else 2*x - i\n",
    "        print(simbolo*veces)\n",
    "patron(5)"
   ]
  },
  {
   "cell_type": "code",
   "execution_count": 2,
   "metadata": {
    "collapsed": false
   },
   "outputs": [
    {
     "name": "stdout",
     "output_type": "stream",
     "text": [
      "\n",
      "+\n",
      "**\n",
      "+++\n",
      "****\n",
      "+++++\n",
      "******\n",
      "+++++\n",
      "****\n",
      "+++\n",
      "**\n",
      "+\n"
     ]
    }
   ],
   "source": [
    "patron(6)"
   ]
  },
  {
   "cell_type": "code",
   "execution_count": 3,
   "metadata": {
    "collapsed": false
   },
   "outputs": [
    {
     "name": "stdout",
     "output_type": "stream",
     "text": [
      "\n",
      "+\n",
      "**\n",
      "+\n"
     ]
    }
   ],
   "source": [
    "patron(2)\n"
   ]
  },
  {
   "cell_type": "code",
   "execution_count": 4,
   "metadata": {
    "collapsed": false
   },
   "outputs": [
    {
     "name": "stdout",
     "output_type": "stream",
     "text": [
      "\n",
      "+\n",
      "**\n",
      "+++\n",
      "**\n",
      "+\n"
     ]
    }
   ],
   "source": [
    "patron(3)"
   ]
  },
  {
   "cell_type": "code",
   "execution_count": null,
   "metadata": {
    "collapsed": true
   },
   "outputs": [],
   "source": []
  }
 ],
 "metadata": {
  "kernelspec": {
   "display_name": "Python 3",
   "language": "python",
   "name": "python3"
  },
  "language_info": {
   "codemirror_mode": {
    "name": "ipython",
    "version": 3
   },
   "file_extension": ".py",
   "mimetype": "text/x-python",
   "name": "python",
   "nbconvert_exporter": "python",
   "pygments_lexer": "ipython3",
   "version": "3.6.0"
  }
 },
 "nbformat": 4,
 "nbformat_minor": 2
}
