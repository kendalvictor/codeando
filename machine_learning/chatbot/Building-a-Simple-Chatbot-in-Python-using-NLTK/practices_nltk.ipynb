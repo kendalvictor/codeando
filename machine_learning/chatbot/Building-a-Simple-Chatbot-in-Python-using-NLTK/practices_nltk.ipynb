{
 "cells": [
  {
   "cell_type": "code",
   "execution_count": 2,
   "metadata": {},
   "outputs": [],
   "source": [
    "import nltk\n",
    "# nltk.download('all')\n",
    "import warnings\n",
    "warnings.filterwarnings(\"ignore\")\n",
    "import numpy as np\n",
    "import random\n",
    "import string"
   ]
  },
  {
   "cell_type": "code",
   "execution_count": 6,
   "metadata": {},
   "outputs": [
    {
     "data": {
      "text/plain": [
       "'a chatbot (also known as a talkbot, chatterbot, bot, im bot, interactive agent, or artificial conversational entity) is a computer program or an artificial intelligence which conducts a conversation via auditory or textual methods. such programs are often designed to convincingly simulate how a human would behave as a conversational partner, thereby passing the turing test. chatbots are typically used in dialog systems for various practical purposes including customer service or information acquisition. some chatterbots use sophisticated natural language processing systems, but many simpler systems scan for keywords within the input, then pull a reply with the most matching keywords, or the most similar wording pattern, from a database.\\n\\nthe term \"chatterbot\" was originally coined by michael mauldin (creator of the first verbot, julia) in 1994 to describe these conversational programs.today, most chatbots are either accessed via virtual assistants such as google assistant and amazon al'"
      ]
     },
     "execution_count": 6,
     "metadata": {},
     "output_type": "execute_result"
    }
   ],
   "source": [
    "with open('chatbot.txt','r',errors = 'ignore') as f:\n",
    "    raw=f.read().lower()\n",
    "raw[:1000]"
   ]
  },
  {
   "cell_type": "code",
   "execution_count": 8,
   "metadata": {},
   "outputs": [
    {
     "name": "stdout",
     "output_type": "stream",
     "text": [
      "['a chatbot (also known as a talkbot, chatterbot, bot, im bot, interactive agent, or artificial conversational entity) is a computer program or an artificial intelligence which conducts a conversation via auditory or textual methods.', 'such programs are often designed to convincingly simulate how a human would behave as a conversational partner, thereby passing the turing test.', 'chatbots are typically used in dialog systems for various practical purposes including customer service or information acquisition.', 'some chatterbots use sophisticated natural language processing systems, but many simpler systems scan for keywords within the input, then pull a reply with the most matching keywords, or the most similar wording pattern, from a database.', 'the term \"chatterbot\" was originally coined by michael mauldin (creator of the first verbot, julia) in 1994 to describe these conversational programs.today, most chatbots are either accessed via virtual assistants such as google assistant and amazon alexa, via messaging apps such as facebook messenger or wechat, or via individual organizations\\' apps and websites.']\n",
      "//////////////////////////////////////////////////\n",
      "['a', 'chatbot', '(', 'also', 'known', 'as', 'a', 'talkbot', ',', 'chatterbot', ',', 'bot', ',', 'im', 'bot']\n"
     ]
    }
   ],
   "source": [
    "sent_tokens = nltk.sent_tokenize(raw)\n",
    "word_tokens = nltk.word_tokenize(raw)\n",
    "\n",
    "print(sent_tokens[:5])\n",
    "print(\"/\"*50)\n",
    "print(word_tokens[:15])"
   ]
  },
  {
   "cell_type": "code",
   "execution_count": 9,
   "metadata": {},
   "outputs": [
    {
     "name": "stdout",
     "output_type": "stream",
     "text": [
      "lemmer  <WordNetLemmatizer> <class 'nltk.stem.wordnet.WordNetLemmatizer'>\n",
      "remove_punct_dict  {33: None, 34: None, 35: None, 36: None, 37: None, 38: None, 39: None, 40: None, 41: None, 42: None, 43: None, 44: None, 45: None, 46: None, 47: None, 58: None, 59: None, 60: None, 61: None, 62: None, 63: None, 64: None, 91: None, 92: None, 93: None, 94: None, 95: None, 96: None, 123: None, 124: None, 125: None, 126: None} <class 'dict'>\n"
     ]
    }
   ],
   "source": [
    "lemmer = nltk.stem.WordNetLemmatizer()\n",
    "print(\"lemmer \", lemmer, type(lemmer))\n",
    "\n",
    "def LemTokens(tokens):\n",
    "    return [lemmer.lemmatize(token) for token in tokens]\n",
    "\n",
    "remove_punct_dict = dict((ord(punct), None) for punct in string.punctuation)\n",
    "\n",
    "print(\"remove_punct_dict \", remove_punct_dict, type(remove_punct_dict))"
   ]
  },
  {
   "cell_type": "code",
   "execution_count": 10,
   "metadata": {},
   "outputs": [
    {
     "data": {
      "text/plain": [
       "'!\"#$%&\\'()*+,-./:;<=>?@[\\\\]^_`{|}~'"
      ]
     },
     "execution_count": 10,
     "metadata": {},
     "output_type": "execute_result"
    }
   ],
   "source": [
    "string.punctuation"
   ]
  },
  {
   "cell_type": "code",
   "execution_count": 33,
   "metadata": {},
   "outputs": [
    {
     "name": "stdout",
     "output_type": "stream",
     "text": [
      "['a', 'chatbot', 'also', 'known', 'a', 'a', 'talkbot', 'chatterbot', 'bot', 'im', 'bot', 'interactive', 'agent', 'or', 'artificial', 'conversational', 'entity', 'is', 'a', 'computer', 'program', 'or', 'an', 'artificial', 'intelligence', 'which', 'conduct', 'a', 'conversation', 'via', 'auditory', 'or', 'textual', 'method']\n"
     ]
    }
   ],
   "source": [
    "def LemNormalize(text):\n",
    "    return LemTokens(nltk.word_tokenize(text.lower().translate(remove_punct_dict)))\n",
    "\n",
    "sent_proof = 'a chatbot (also known as a talkbot, chatterbot, bot, im bot, interactive agent, or artificial conversational entity) is a computer program or an artificial intelligence which conducts a conversation via auditory or textual methods.'\n",
    "\n",
    "print(LemNormalize(sent_proof))"
   ]
  },
  {
   "cell_type": "code",
   "execution_count": 30,
   "metadata": {},
   "outputs": [
    {
     "name": "stdout",
     "output_type": "stream",
     "text": [
      "hi there\n",
      "-\n",
      "hello\n",
      "hey\n",
      "-\n"
     ]
    }
   ],
   "source": [
    "GREETING_INPUTS = (\"hello\", \"hi\", \"greetings\", \"sup\", \"what's up\",\"hey\",)\n",
    "GREETING_RESPONSES = [\"hi\", \"hey\", \"hi there\", \"hello\", \"I am glad! You are talking to me\"]\n",
    "\n",
    "def greeting(sentence):\n",
    "    for word in sentence.split():\n",
    "        if word.lower() in GREETING_INPUTS:\n",
    "            return random.choice(GREETING_RESPONSES)\n",
    "    return '-'\n",
    "\n",
    "print(greeting('hi mon'))\n",
    "print(greeting('goog morning'))\n",
    "print(greeting('sup now'))\n",
    "print(greeting('hello go'))\n",
    "print(greeting('bad day'))"
   ]
  },
  {
   "cell_type": "code",
   "execution_count": 77,
   "metadata": {},
   "outputs": [],
   "source": [
    "from sklearn.feature_extraction.text import TfidfVectorizer\n",
    "from sklearn.metrics.pairwise import cosine_similarity"
   ]
  },
  {
   "cell_type": "code",
   "execution_count": 56,
   "metadata": {},
   "outputs": [
    {
     "data": {
      "text/plain": [
       "['a chatbot (also known as a talkbot, chatterbot, bot, im bot, interactive agent, or artificial conversational entity) is a computer program or an artificial intelligence which conducts a conversation via auditory or textual methods.',\n",
       " 'such programs are often designed to convincingly simulate how a human would behave as a conversational partner, thereby passing the turing test.',\n",
       " 'chatbots are typically used in dialog systems for various practical purposes including customer service or information acquisition.',\n",
       " 'some chatterbots use sophisticated natural language processing systems, but many simpler systems scan for keywords within the input, then pull a reply with the most matching keywords, or the most similar wording pattern, from a database.',\n",
       " 'the term \"chatterbot\" was originally coined by michael mauldin (creator of the first verbot, julia) in 1994 to describe these conversational programs.today, most chatbots are either accessed via virtual assistants such as google assistant and amazon alexa, via messaging apps such as facebook messenger or wechat, or via individual organizations\\' apps and websites.']"
      ]
     },
     "execution_count": 56,
     "metadata": {},
     "output_type": "execute_result"
    }
   ],
   "source": [
    "list_tokens = sent_tokens[:5]\n",
    "list_tokens"
   ]
  },
  {
   "cell_type": "code",
   "execution_count": 57,
   "metadata": {},
   "outputs": [
    {
     "data": {
      "text/plain": [
       "<5x82 sparse matrix of type '<class 'numpy.float64'>'\n",
       "\twith 87 stored elements in Compressed Sparse Row format>"
      ]
     },
     "execution_count": 57,
     "metadata": {},
     "output_type": "execute_result"
    }
   ],
   "source": [
    "TfidfVec_kv = TfidfVectorizer(tokenizer=LemNormalize, stop_words='english')\n",
    "tfidf = TfidfVec_kv.fit_transform(list_tokens)\n",
    "tfidf"
   ]
  },
  {
   "cell_type": "code",
   "execution_count": 58,
   "metadata": {},
   "outputs": [
    {
     "data": {
      "text/plain": [
       "matrix([[0.        , 0.        , 0.        , 0.20519418, 0.        ,\n",
       "         0.        , 0.        , 0.41038835, 0.        , 0.20519418,\n",
       "         0.        , 0.41038835, 0.20519418, 0.        , 0.16554937,\n",
       "         0.        , 0.        , 0.20519418, 0.20519418, 0.20519418,\n",
       "         0.13742093, 0.        , 0.        , 0.        , 0.        ,\n",
       "         0.        , 0.        , 0.20519418, 0.        , 0.        ,\n",
       "         0.        , 0.20519418, 0.        , 0.        , 0.        ,\n",
       "         0.        , 0.20519418, 0.20519418, 0.        , 0.        ,\n",
       "         0.20519418, 0.        , 0.        , 0.        , 0.        ,\n",
       "         0.        , 0.20519418, 0.        , 0.        , 0.        ,\n",
       "         0.        , 0.        , 0.        , 0.        , 0.        ,\n",
       "         0.        , 0.16554937, 0.        , 0.        , 0.        ,\n",
       "         0.        , 0.        , 0.        , 0.        , 0.        ,\n",
       "         0.        , 0.        , 0.20519418, 0.        , 0.        ,\n",
       "         0.20519418, 0.        , 0.        , 0.        , 0.        ,\n",
       "         0.        , 0.        , 0.        , 0.        , 0.        ,\n",
       "         0.        , 0.        ],\n",
       "        [0.        , 0.        , 0.        , 0.        , 0.        ,\n",
       "         0.        , 0.        , 0.        , 0.        , 0.        ,\n",
       "         0.31466727, 0.        , 0.        , 0.        , 0.        ,\n",
       "         0.        , 0.        , 0.        , 0.        , 0.        ,\n",
       "         0.21073634, 0.31466727, 0.        , 0.        , 0.        ,\n",
       "         0.31466727, 0.        , 0.        , 0.        , 0.        ,\n",
       "         0.31466727, 0.        , 0.        , 0.        , 0.        ,\n",
       "         0.        , 0.        , 0.        , 0.        , 0.        ,\n",
       "         0.        , 0.        , 0.        , 0.        , 0.        ,\n",
       "         0.        , 0.        , 0.        , 0.        , 0.        ,\n",
       "         0.        , 0.31466727, 0.31466727, 0.        , 0.        ,\n",
       "         0.        , 0.25387157, 0.        , 0.        , 0.        ,\n",
       "         0.        , 0.        , 0.        , 0.        , 0.        ,\n",
       "         0.31466727, 0.        , 0.        , 0.        , 0.31466727,\n",
       "         0.        , 0.31466727, 0.        , 0.        , 0.        ,\n",
       "         0.        , 0.        , 0.        , 0.        , 0.        ,\n",
       "         0.        , 0.        ],\n",
       "        [0.        , 0.        , 0.29296785, 0.        , 0.        ,\n",
       "         0.        , 0.        , 0.        , 0.        , 0.        ,\n",
       "         0.        , 0.        , 0.        , 0.23636462, 0.        ,\n",
       "         0.        , 0.        , 0.        , 0.        , 0.        ,\n",
       "         0.        , 0.        , 0.        , 0.29296785, 0.        ,\n",
       "         0.        , 0.29296785, 0.        , 0.        , 0.        ,\n",
       "         0.        , 0.        , 0.29296785, 0.        , 0.29296785,\n",
       "         0.        , 0.        , 0.        , 0.        , 0.        ,\n",
       "         0.        , 0.        , 0.        , 0.        , 0.        ,\n",
       "         0.        , 0.        , 0.        , 0.        , 0.        ,\n",
       "         0.        , 0.        , 0.        , 0.        , 0.29296785,\n",
       "         0.        , 0.        , 0.        , 0.        , 0.29296785,\n",
       "         0.        , 0.        , 0.29296785, 0.        , 0.        ,\n",
       "         0.        , 0.        , 0.        , 0.        , 0.        ,\n",
       "         0.        , 0.        , 0.29296785, 0.        , 0.29296785,\n",
       "         0.29296785, 0.        , 0.        , 0.        , 0.        ,\n",
       "         0.        , 0.        ],\n",
       "        [0.        , 0.        , 0.        , 0.        , 0.        ,\n",
       "         0.        , 0.        , 0.        , 0.        , 0.        ,\n",
       "         0.        , 0.        , 0.        , 0.        , 0.        ,\n",
       "         0.2236068 , 0.        , 0.        , 0.        , 0.        ,\n",
       "         0.        , 0.        , 0.        , 0.        , 0.2236068 ,\n",
       "         0.        , 0.        , 0.        , 0.        , 0.        ,\n",
       "         0.        , 0.        , 0.        , 0.        , 0.        ,\n",
       "         0.2236068 , 0.        , 0.        , 0.        , 0.4472136 ,\n",
       "         0.        , 0.2236068 , 0.2236068 , 0.        , 0.        ,\n",
       "         0.        , 0.        , 0.        , 0.2236068 , 0.        ,\n",
       "         0.        , 0.        , 0.        , 0.2236068 , 0.        ,\n",
       "         0.2236068 , 0.        , 0.        , 0.2236068 , 0.        ,\n",
       "         0.2236068 , 0.2236068 , 0.        , 0.2236068 , 0.2236068 ,\n",
       "         0.        , 0.2236068 , 0.        , 0.        , 0.        ,\n",
       "         0.        , 0.        , 0.        , 0.2236068 , 0.        ,\n",
       "         0.        , 0.        , 0.        , 0.        , 0.        ,\n",
       "         0.        , 0.2236068 ],\n",
       "        [0.17473989, 0.17473989, 0.        , 0.        , 0.17473989,\n",
       "         0.17473989, 0.34947978, 0.        , 0.34947978, 0.        ,\n",
       "         0.        , 0.        , 0.        , 0.14097904, 0.14097904,\n",
       "         0.        , 0.17473989, 0.        , 0.        , 0.        ,\n",
       "         0.11702534, 0.        , 0.17473989, 0.        , 0.        ,\n",
       "         0.        , 0.        , 0.        , 0.17473989, 0.17473989,\n",
       "         0.        , 0.        , 0.        , 0.17473989, 0.        ,\n",
       "         0.        , 0.        , 0.        , 0.17473989, 0.        ,\n",
       "         0.        , 0.        , 0.        , 0.17473989, 0.17473989,\n",
       "         0.17473989, 0.        , 0.17473989, 0.        , 0.17473989,\n",
       "         0.17473989, 0.        , 0.        , 0.        , 0.        ,\n",
       "         0.        , 0.        , 0.17473989, 0.        , 0.        ,\n",
       "         0.        , 0.        , 0.        , 0.        , 0.        ,\n",
       "         0.        , 0.        , 0.        , 0.17473989, 0.        ,\n",
       "         0.        , 0.        , 0.        , 0.        , 0.        ,\n",
       "         0.        , 0.17473989, 0.17473989, 0.17473989, 0.17473989,\n",
       "         0.17473989, 0.        ]])"
      ]
     },
     "execution_count": 58,
     "metadata": {},
     "output_type": "execute_result"
    }
   ],
   "source": [
    "tfidf.todense()"
   ]
  },
  {
   "cell_type": "code",
   "execution_count": 59,
   "metadata": {},
   "outputs": [
    {
     "name": "stdout",
     "output_type": "stream",
     "text": [
      "['1994', 'accessed', 'acquisition', 'agent', 'alexa', 'amazon', 'apps', 'artificial', 'assistant', 'auditory', 'behave', 'bot', 'chatbot', 'chatbots', 'chatterbot', 'chatterbots', 'coined', 'computer', 'conduct', 'conversation', 'conversational', 'convincingly', 'creator', 'customer', 'database', 'designed', 'dialog', 'entity', 'facebook', 'google', 'human', 'im', 'including', 'individual', 'information', 'input', 'intelligence', 'interactive', 'julia', 'keywords', 'known', 'language', 'matching', 'mauldin', 'messaging', 'messenger', 'method', 'michael', 'natural', 'organization', 'originally', 'partner', 'passing', 'pattern', 'practical', 'processing', 'program', 'programstoday', 'pull', 'purpose', 'reply', 'scan', 'service', 'similar', 'simpler', 'simulate', 'sophisticated', 'talkbot', 'term', 'test', 'textual', 'turing', 'typically', 'use', 'used', 'various', 'verbot', 'virtual', 'wa', 'website', 'wechat', 'wording']\n"
     ]
    }
   ],
   "source": [
    "print(TfidfVec_kv.get_feature_names())"
   ]
  },
  {
   "cell_type": "code",
   "execution_count": 60,
   "metadata": {},
   "outputs": [
    {
     "data": {
      "text/plain": [
       "array([[0.03942072, 0.02466149, 0.03332246, 0.        , 1.        ]])"
      ]
     },
     "execution_count": 60,
     "metadata": {},
     "output_type": "execute_result"
    }
   ],
   "source": [
    "vals = cosine_similarity(tfidf[-1], tfidf)\n",
    "vals"
   ]
  },
  {
   "cell_type": "code",
   "execution_count": 61,
   "metadata": {},
   "outputs": [
    {
     "data": {
      "text/plain": [
       "array([[3, 1, 2, 0, 4]])"
      ]
     },
     "execution_count": 61,
     "metadata": {},
     "output_type": "execute_result"
    }
   ],
   "source": [
    "vals.argsort()"
   ]
  },
  {
   "cell_type": "code",
   "execution_count": 75,
   "metadata": {},
   "outputs": [
    {
     "data": {
      "text/plain": [
       "0"
      ]
     },
     "execution_count": 75,
     "metadata": {},
     "output_type": "execute_result"
    }
   ],
   "source": [
    "idx=vals.argsort()[0][-2]\n",
    "idx"
   ]
  },
  {
   "cell_type": "code",
   "execution_count": 66,
   "metadata": {},
   "outputs": [
    {
     "data": {
      "text/plain": [
       "array([0.03942072, 0.02466149, 0.03332246, 0.        , 1.        ])"
      ]
     },
     "execution_count": 66,
     "metadata": {},
     "output_type": "execute_result"
    }
   ],
   "source": [
    "flat = vals.flatten()\n",
    "flat"
   ]
  },
  {
   "cell_type": "code",
   "execution_count": 67,
   "metadata": {},
   "outputs": [
    {
     "data": {
      "text/plain": [
       "array([0.        , 0.02466149, 0.03332246, 0.03942072, 1.        ])"
      ]
     },
     "execution_count": 67,
     "metadata": {},
     "output_type": "execute_result"
    }
   ],
   "source": [
    "flat.sort()\n",
    "flat"
   ]
  },
  {
   "cell_type": "code",
   "execution_count": 69,
   "metadata": {},
   "outputs": [
    {
     "data": {
      "text/plain": [
       "0.03942072270417901"
      ]
     },
     "execution_count": 69,
     "metadata": {},
     "output_type": "execute_result"
    }
   ],
   "source": [
    "req_tfidf = flat[-2]\n",
    "req_tfidf"
   ]
  },
  {
   "cell_type": "code",
   "execution_count": 76,
   "metadata": {},
   "outputs": [
    {
     "data": {
      "text/plain": [
       "'a chatbot (also known as a talkbot, chatterbot, bot, im bot, interactive agent, or artificial conversational entity) is a computer program or an artificial intelligence which conducts a conversation via auditory or textual methods.'"
      ]
     },
     "execution_count": 76,
     "metadata": {},
     "output_type": "execute_result"
    }
   ],
   "source": [
    "sent_tokens[idx]"
   ]
  },
  {
   "cell_type": "markdown",
   "metadata": {},
   "source": [
    "### PROBANDO TODO JUNTO EN FUNCION:"
   ]
  },
  {
   "cell_type": "code",
   "execution_count": 78,
   "metadata": {},
   "outputs": [
    {
     "name": "stdout",
     "output_type": "stream",
     "text": [
      "comparacion por cosenos :  [[0. 0. 0. 0. 0. 0. 0. 0. 0. 0. 0. 0. 0. 0. 0. 0. 0. 0. 0. 0. 0. 0. 0. 0.\n",
      "  0. 0. 0. 0. 0. 0. 0. 0. 0. 0. 0. 0. 0. 0. 0. 0. 0. 0. 0. 0. 0. 0. 0. 0.\n",
      "  0. 0. 0. 0. 0. 0. 0. 0. 0. 0. 0. 0. 0. 0. 0. 0. 0. 0. 0. 0. 0. 1.]]\n",
      "indice con mas similitud :  25\n",
      "------>  0.0\n"
     ]
    },
    {
     "data": {
      "text/plain": [
       "'------ NOLA ------'"
      ]
     },
     "execution_count": 78,
     "metadata": {},
     "output_type": "execute_result"
    }
   ],
   "source": [
    "def chat_kv(sent_tokens, user_response, tokenizer):\n",
    "    robo_response=''\n",
    "    sent_tokens.append(user_response)\n",
    "    \n",
    "    TfidfVec = TfidfVectorizer(\n",
    "        tokenizer=tokenizer, \n",
    "        stop_words='english'\n",
    "    )\n",
    "    \n",
    "    tfidf = TfidfVec.fit_transform(sent_tokens)\n",
    "    \n",
    "    vals = cosine_similarity(tfidf[-1], tfidf)\n",
    "    print(\"comparacion por cosenos : \", vals)\n",
    "    \n",
    "    idx = vals.argsort()[0][-2]\n",
    "    print(\"indice con mas similitud : \", idx)\n",
    "    \n",
    "    flat = vals.flatten()\n",
    "    flat.sort()\n",
    "    req_tfidf = flat[-2]\n",
    "    \n",
    "    print('------> ', req_tfidf)\n",
    "    if req_tfidf == 0:\n",
    "        robo_response=robo_response + \"------ NOLA ------\"\n",
    "        return robo_response\n",
    "    else:\n",
    "        robo_response = robo_response + sent_tokens[idx]\n",
    "        return robo_response\n",
    "\n",
    "chat_kv(sent_tokens, 'Hola amigos', LemNormalize)"
   ]
  },
  {
   "cell_type": "code",
   "execution_count": null,
   "metadata": {},
   "outputs": [],
   "source": []
  }
 ],
 "metadata": {
  "kernelspec": {
   "display_name": "Python 3",
   "language": "python",
   "name": "python3"
  },
  "language_info": {
   "codemirror_mode": {
    "name": "ipython",
    "version": 3
   },
   "file_extension": ".py",
   "mimetype": "text/x-python",
   "name": "python",
   "nbconvert_exporter": "python",
   "pygments_lexer": "ipython3",
   "version": "3.6.5"
  }
 },
 "nbformat": 4,
 "nbformat_minor": 2
}
