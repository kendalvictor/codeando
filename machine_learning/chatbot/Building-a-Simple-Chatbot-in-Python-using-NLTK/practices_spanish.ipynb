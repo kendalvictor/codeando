{
 "cells": [
  {
   "cell_type": "code",
   "execution_count": 6,
   "metadata": {},
   "outputs": [
    {
     "data": {
      "text/plain": [
       "'3.6.5 |Anaconda, Inc.| (default, Apr 29 2018, 16:14:56) \\n[GCC 7.2.0]'"
      ]
     },
     "execution_count": 6,
     "metadata": {},
     "output_type": "execute_result"
    }
   ],
   "source": [
    "import glob\n",
    "import re\n",
    "import sys\n",
    "import random\n",
    "import string\n",
    "import warnings\n",
    "warnings.filterwarnings(\"ignore\")\n",
    "from unicodedata import normalize, category\n",
    "\n",
    "import nltk\n",
    "# nltk.download('all')\n",
    "import numpy as np\n",
    "from nltk.corpus import stopwords\n",
    "from nltk.stem.snowball import SnowballStemmer\n",
    "sys.version"
   ]
  },
  {
   "cell_type": "code",
   "execution_count": 4,
   "metadata": {},
   "outputs": [],
   "source": [
    "def clean_text(text_nasty):\n",
    "    return ''.join(\n",
    "        (_ for _ in normalize('NFD', text_nasty) if category(_) in ['Ll', 'Zs'])\n",
    "    )"
   ]
  },
  {
   "cell_type": "code",
   "execution_count": 16,
   "metadata": {},
   "outputs": [
    {
     "name": "stdout",
     "output_type": "stream",
     "text": [
      "{'fuerais', 'hubistes', 'algunos', 'fuistes', 'tendrá', 'que', 'habiamos', 'hubiste', 'teniamos', 'habria', 'y', 'ellas', 'fuisteis', 'tengáis', 'éramos', 'hubieron', 'vuestra', 'habreis', 'tuviésemos', 'teniais', 'estan', 'esté', 'tendría', 'estuvieron', 'tendrian', 'sobre', 'tuyo', 'seran', 'habes', 'estés', 'tuvieseis', 'tendras', 'habríais', 'estamos', 'tus', 'eramos', 'habré', 'con', 'estuvierais', 'les', 'tuviste', 'estuviesemos', 'tuvierais', 'ni', 'hubo', 'habréis', 'habrían', 'estas', 'estad', 'hubiésemos', 'esos', 'tendréis', 'suyos', 'hube', 'cual', 'mío', 'tuviese', 'o', 'mías', 'soy', 'seres', 'estarías', 'estares', 'nosotras', 'habriamos', 'por', 'uno', 'erais', 'se', 'tendreis', 'seriamos', 'estuvieras', 'el', 'hubiéramos', 'has', 'hayamos', 'ellos', 'somos', 'no', 'estaban', 'os', 'todo', 'serás', 'poco', 'seréis', 'esa', 'tengais', 'seremos', 'hemos', 'esto', 'porque', 'han', 'tenéis', 'estoy', 'habra', 'estemos', 'habeis', 'haya', 'tendré', 'estareis', 'tuya', 'sereis', 'tuvieran', 'qué', 'tendria', 'tenga', 'estariamos', 'estarían', 'tengo', 'hayais', 'habian', 'estuvo', 'estaria', 'estara', 'estarias', 'tuviesen', 'lo', 'él', 'tanto', 'estuviera', 'sentido', 'míos', 'había', 'tienes', 'sintiendo', 'tenía', 'estuviéramos', 'otros', 'son', 'esta', 'desde', 'los', 'estadas', 'teníais', 'vuestros', 'como', 'es', 'estuvistes', 'tendriais', 'fuese', 'tendre', 'tendrías', 'tuviesemos', 'te', 'la', 'fueseis', 'estais', 'tuvistes', 'estar', 'estuvieran', 'seais', 'esas', 'ha', 'hubieras', 'estuviesen', 'estabais', 'tuvieras', 'mio', 'también', 'sean', 'habíais', 'seras', 'habrian', 'pero', 'hubiese', 'mis', 'tendríamos', 'teneis', 'estaras', 'habremos', 'seríamos', 'seas', 'a', 'mí', 'durante', 'sera', 'estaremos', 'más', 'tú', 'habíamos', 'habre', 'ti', 'si', 'hubisteis', 'tendrias', 'fueron', 'tuviéramos', 'un', 'muy', 'hubieran', 'estaréis', 'mios', 'estarán', 'tenían', 'hasta', 'sos', 'tendremos', 'sois', 'están', 'estuvieseis', 'tenida', 'habiendo', 'me', 'seríais', 'hay', 'tendres', 'tengas', 'estarás', 'estuviésemos', 'habran', 'tendra', 'ese', 'hayan', 'habia', 'entre', 'tenidos', 'estos', 'tenian', 'tienen', 'hubierais', 'vosostros', 'tendrían', 'suya', 'habría', 'fueses', 'serías', 'habrás', 'mas', 'estarian', 'tendrán', 'estuvimos', 'suyas', 'sus', 'estuvieramos', 'fuesen', 'nuestros', 'en', 'habrá', 'he', 'donde', 'habidos', 'tened', 'hubieses', 'eso', 'habriais', 'tengan', 'muchos', 'mi', 'yo', 'algo', 'tuvieramos', 'unos', 'habras', 'estada', 'mucho', 'habríamos', 'tuvieses', 'fui', 'teníamos', 'tenia', 'al', 'sentid', 'estaríamos', 'sí', 'sentidos', 'algunas', 'eras', 'habias', 'fuiste', 'ante', 'las', 'estado', 'estaran', 'teniendo', 'fuésemos', 'estéis', 'estaba', 'hubiesemos', 'tendran', 'fuera', 'tu', 'hayas', 'sin', 'serias', 'tendríais', 'estando', 'habías', 'hubimos', 'estáis', 'esteis', 'seáis', 'tengamos', 'tenemos', 'sentida', 'fuimos', 'siente', 'serían', 'estaré', 'todos', 'fuéramos', 'suyo', 'está', 'contra', 'sea', 'ella', 'habrán', 'estariais', 'habrías', 'tuve', 'estabas', 'otro', 'nos', 'nuestras', 'habida', 'vuestro', 'sería', 'tambien', 'estes', 'fuesemos', 'tuvimos', 'mía', 'hubieramos', 'serán', 'del', 'nada', 'nuestra', 'estás', 'tuvieron', 'tenias', 'habidas', 'hayáis', 'quienes', 'hubiesen', 'una', 'estábamos', 'habrias', 'tuyas', 'e', 'tenes', 'estuviste', 'nosotros', 'estuve', 'vosostras', 'fueran', 'seriais', 'ya', 'estará', 'tuvo', 'estaríais', 'fueramos', 'habiais', 'era', 'serian', 'tiene', 'eran', 'eres', 'tuvisteis', 'mias', 'tenías', 'este', 'nuestro', 'su', 'estuvisteis', 'seamos', 'fueras', 'vuestras', 'cuando', 'tuviera', 'tendrás', 'fue', 'seré', 'seria', 'otra', 'estuvieses', 'tendriamos', 'sere', 'será', 'esten', 'habían', 'estén', 'antes', 'para', 'hubieseis', 'quien', 'otras', 'sentidas', 'mia', 'estuviese', 'le', 'estados', 'estaría', 'habéis', 'tenido', 'estare', 'tuyos', 'habres', 'tenidas', 'de', 'habido', 'hubiera', 'estabamos'}\n"
     ]
    }
   ],
   "source": [
    "stopword_spanish = set(stopwords.words(\"spanish\"))\n",
    "stopword_spanish.update(\n",
    "    [clean_text(_) for _ in stopword_spanish]\n",
    ")\n",
    "stopword_spanish.update(\n",
    "    [''.join([text[:-2], 's']) \n",
    "     for text in stopword_spanish if text.endswith('is') and text[-3] in ['a', 'e', 'o']]\n",
    ")\n",
    "print(stopword_spanish)"
   ]
  },
  {
   "cell_type": "code",
   "execution_count": 7,
   "metadata": {},
   "outputs": [],
   "source": []
  },
  {
   "cell_type": "code",
   "execution_count": null,
   "metadata": {},
   "outputs": [],
   "source": []
  }
 ],
 "metadata": {
  "kernelspec": {
   "display_name": "Python 3",
   "language": "python",
   "name": "python3"
  },
  "language_info": {
   "codemirror_mode": {
    "name": "ipython",
    "version": 3
   },
   "file_extension": ".py",
   "mimetype": "text/x-python",
   "name": "python",
   "nbconvert_exporter": "python",
   "pygments_lexer": "ipython3",
   "version": "3.6.5"
  }
 },
 "nbformat": 4,
 "nbformat_minor": 2
}
