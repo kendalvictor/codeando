{
 "cells": [
  {
   "cell_type": "code",
   "execution_count": 7,
   "metadata": {
    "collapsed": false
   },
   "outputs": [
    {
     "name": "stdout",
     "output_type": "stream",
     "text": [
      "#############TESTEO DE ALGORITMO #################\n",
      "\n",
      " Durante 3 días consecutivos se vio un paraguas\n",
      "Estados mas probables [1, 1, 1]\n",
      "\n",
      " Durante 3 días consecutivos NO se vio un paraguas\n",
      "Estados mas probables [0, 0, 0]\n",
      "\n",
      " Durante 2 días consecutivos se vio un paraguas y al tercero NO\n",
      "Estados mas probables [1, 1, 1]\n",
      "\n",
      " El 1er día no se vio paraguas  los consecutivos si\n",
      "Estados mas probables [1, 1, 1]\n"
     ]
    }
   ],
   "source": [
    "import numpy as np\n",
    "initialProb = np.array([[0.25],[0.75]])\n",
    "transProb = np.array([[0.7, 0.3],[0.1, 0.9]])\n",
    "obsProb = np.array([[0.9, 0.1],[0.2, 0.8]])\n",
    "\n",
    "class Viterbi(object):\n",
    "    def __init__(self, initialProb, transProb, obsProb):\n",
    "        self.N = initialProb.shape[0]\n",
    "        self.initialProb = initialProb\n",
    "        self.transProb = transProb\n",
    "        self.obsProb = obsProb\n",
    "        #print(self.initialProb.shape)\n",
    "        #print(initialProb.shape[0])\n",
    "        assert self.initialProb.shape == (self.N, 1)\n",
    "        #print(\"//////////////////////\")\n",
    "        \n",
    "        assert self.transProb.shape == (self.N, self.N)\n",
    "        assert self.obsProb.shape[0] == self.N\n",
    " \n",
    "    def Obs(self, obs):\n",
    "        return self.obsProb[:, obs, None]\n",
    " \n",
    "    def run(self, obs):\n",
    "        trellis = np.zeros((self.N, len(obs)))\n",
    "        backpt = np.ones((self.N, len(obs)), 'int32') * -1\n",
    " \n",
    "        trellis[:, 0] = np.squeeze(self.initialProb * self.Obs(obs[0]))\n",
    "        #print(trellis[:, 0])\n",
    "         \n",
    "        for t in range(1, len(obs)):\n",
    "            trellis[:, t] = (trellis[:, t-1, None].dot(self.Obs(obs[t]).T) * self.transProb).max(0)\n",
    "            #print(\"trellis: \", trellis[:, t])\n",
    "            backpt[:, t] = (np.tile(trellis[:, t-1, None], [1, self.N]) * self.transProb).argmax(0)\n",
    "            #print(\"backpt: \", trellis[:, t])\n",
    "        \n",
    "        tokens = [trellis[:, -1].argmax()]\n",
    "        for i in range(len(obs)-1, 0, -1):\n",
    "            tokens.append(backpt[tokens[-1], i])\n",
    "        return tokens[::-1]\n",
    "    \n",
    "algoritmo = Viterbi(initialProb, transProb, obsProb)\n",
    "\n",
    "print(\"#############TESTEO DE ALGORITMO #################\")\n",
    "print(\"\\n Durante 3 días consecutivos se vio un paraguas\")\n",
    "mas_probable = algoritmo.run([1, 1, 1])\n",
    "print(\"Estados mas probables\", mas_probable)\n",
    "print(\"\\n Durante 3 días consecutivos NO se vio un paraguas\")\n",
    "mas_probable = algoritmo.run([0, 0, 0])\n",
    "print(\"Estados mas probables\", mas_probable)\n",
    "print(\"\\n Durante 2 días consecutivos se vio un paraguas y al tercero NO\")\n",
    "mas_probable = algoritmo.run([1, 1, 0])\n",
    "print(\"Estados mas probables\", mas_probable)\n",
    "print(\"\\n El 1er día no se vio paraguas  los consecutivos si\")\n",
    "mas_probable = algoritmo.run([0, 1, 1])\n",
    "print(\"Estados mas probables\", mas_probable)"
   ]
  },
  {
   "cell_type": "code",
   "execution_count": null,
   "metadata": {
    "collapsed": true
   },
   "outputs": [],
   "source": []
  }
 ],
 "metadata": {
  "kernelspec": {
   "display_name": "Python 3",
   "language": "python",
   "name": "python3"
  },
  "language_info": {
   "codemirror_mode": {
    "name": "ipython",
    "version": 3
   },
   "file_extension": ".py",
   "mimetype": "text/x-python",
   "name": "python",
   "nbconvert_exporter": "python",
   "pygments_lexer": "ipython3",
   "version": "3.6.0"
  }
 },
 "nbformat": 4,
 "nbformat_minor": 2
}
