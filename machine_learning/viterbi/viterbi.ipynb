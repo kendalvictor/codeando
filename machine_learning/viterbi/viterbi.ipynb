{
 "cells": [
  {
   "cell_type": "code",
   "execution_count": 1,
   "metadata": {
    "collapsed": false
   },
   "outputs": [],
   "source": [
    "import numpy as np\n",
    "initialProb = np.array([\n",
    "    [0.25],\n",
    "    [0.75]\n",
    "])\n",
    "transProb = np.array([\n",
    "    [0.7, 0.3],\n",
    "    [0.1, 0.9]\n",
    "])\n",
    "obsProb = np.array([\n",
    "    [0.9, 0.1],\n",
    "    [0.2, 0.8]\n",
    "])\n",
    "\n",
    "class Viterbi(object):\n",
    "    def __init__(self, initialProb, transProb, obsProb):\n",
    "        self.N = initialProb.shape[0]\n",
    "        self.initialProb = initialProb\n",
    "        self.transProb = transProb\n",
    "        self.obsProb = obsProb\n",
    "        #print(self.initialProb.shape)\n",
    "        #print(initialProb.shape[0])\n",
    "        assert self.initialProb.shape == (self.N, 1)\n",
    "        #print(\"//////////////////////\")\n",
    "        \n",
    "        assert self.transProb.shape == (self.N, self.N)\n",
    "        assert self.obsProb.shape[0] == self.N\n",
    " \n",
    "    def Obs(self, obs):\n",
    "        return self.obsProb[:, obs, None]\n",
    " \n",
    "    def run(self, obs):\n",
    "        trellis = np.zeros((self.N, len(obs)))\n",
    "        backpt = np.ones((self.N, len(obs)), 'int32') * -1\n",
    " \n",
    "        trellis[:, 0] = np.squeeze(self.initialProb * self.Obs(obs[0]))\n",
    "        #print(trellis[:, 0])\n",
    "         \n",
    "        for t in range(1, len(obs)):\n",
    "            trellis[:, t] = (trellis[:, t-1, None].dot(self.Obs(obs[t]).T) * self.transProb).max(0)\n",
    "            #print(\"trellis: \", trellis[:, t])\n",
    "            backpt[:, t] = (np.tile(trellis[:, t-1, None], [1, self.N]) * self.transProb).argmax(0)\n",
    "            #print(\"backpt: \", trellis[:, t])\n",
    "        \n",
    "        tokens = [trellis[:, -1].argmax()]\n",
    "        for i in range(len(obs)-1, 0, -1):\n",
    "            tokens.append(backpt[tokens[-1], i])\n",
    "        return tokens[::-1]\n",
    "    \n",
    "algoritmo = Viterbi(initialProb, transProb, obsProb)"
   ]
  },
  {
   "cell_type": "code",
   "execution_count": 15,
   "metadata": {
    "collapsed": true
   },
   "outputs": [
    {
     "name": "stdout",
     "output_type": "stream",
     "text": [
      "#############TESTEO DE ALGORITMO #################\n",
      "\n",
      " Durante 5 días consecutivos se vio un paraguas\n",
      "Estados mas probables [1, 1, 1, 1, 1]\n",
      "\n",
      " Durante 5 días consecutivos NO se vio un paraguas\n",
      "Estados mas probables [0, 0, 0, 0, 0]\n",
      "\n",
      " Solo el Lunes Martes y Jueves se vio paraguas\n",
      "Estados mas probables [1, 1, 1, 1, 1]\n",
      "\n",
      " Solo el Lunes Martes y Jueves se vio paraguas\n",
      "Estados mas probables [0, 0, 1, 1, 1]\n",
      "\n",
      " Solo el Lunes Martes y Jueves se vio paraguas\n",
      "Estados mas probables [0, 0, 0, 0, 0]\n"
     ]
    }
   ],
   "source": [
    "print(\"#############TESTEO DE ALGORITMO #################\")\n",
    "print(\"\\n Durante 5 días consecutivos se vio un paraguas\")\n",
    "print(\"Estados mas probables\", algoritmo.run([1, 1, 1, 1, 1]))\n",
    "\n",
    "print(\"\\n Durante 5 días consecutivos NO se vio un paraguas\")\n",
    "print(\"Estados mas probables\", algoritmo.run([0, 0, 0, 0, 0]))\n",
    "\n",
    "print(\"\\n Solo el Lunes Martes y Jueves se vio paraguas\")\n",
    "print(\"Estados mas probables\", algoritmo.run([1, 1, 0, 1, 0]))\n",
    "\n",
    "print(\"\\n Solo Miercoles y Viernes se vio paraguas\")\n",
    "print(\"Estados mas probables\", algoritmo.run([0, 0, 1, 0, 1]))\n",
    "\n",
    "print(\"\\n Solo el Jueves se vio paraguas\")\n",
    "print(\"Estados mas probables\", algoritmo.run([0, 0, 0, 1, 0]))"
   ]
  },
  {
   "cell_type": "code",
   "execution_count": null,
   "metadata": {},
   "outputs": [],
   "source": []
  }
 ],
 "metadata": {
  "kernelspec": {
   "display_name": "Python 3",
   "language": "python",
   "name": "python3"
  },
  "language_info": {
   "codemirror_mode": {
    "name": "ipython",
    "version": 3
   },
   "file_extension": ".py",
   "mimetype": "text/x-python",
   "name": "python",
   "nbconvert_exporter": "python",
   "pygments_lexer": "ipython3",
   "version": "3.6.4"
  }
 },
 "nbformat": 4,
 "nbformat_minor": 2
}
