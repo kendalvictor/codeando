{
 "cells": [
  {
   "cell_type": "code",
   "execution_count": 2,
   "metadata": {},
   "outputs": [],
   "source": [
    "from keras.models import Sequential\n",
    "from keras.layers import LSTM, Dense\n",
    "from keras.datasets import mnist\n",
    "from keras.utils import np_utils\n"
   ]
  },
  {
   "cell_type": "code",
   "execution_count": 3,
   "metadata": {},
   "outputs": [],
   "source": [
    "# Hyper parameters\n",
    "batch_size = 128\n",
    "nb_epoch = 50\n",
    "\n",
    "# Parameters for MNIST dataset\n",
    "img_rows, img_cols = 28, 28\n",
    "nb_classes = 10\n",
    "\n",
    "# Parameters for LSTM network\n",
    "nb_lstm_outputs = 30\n",
    "nb_time_steps = img_rows\n",
    "dim_input_vector = img_cols"
   ]
  },
  {
   "cell_type": "code",
   "execution_count": 4,
   "metadata": {},
   "outputs": [
    {
     "name": "stdout",
     "output_type": "stream",
     "text": [
      "X_train original shape: (60000, 28, 28)\n",
      "X_train shape: (60000, 28, 28)\n",
      "60000 train samples\n",
      "10000 test samples\n"
     ]
    }
   ],
   "source": [
    "# Load MNIST dataset\n",
    "(X_train, y_train), (X_test, y_test) = mnist.load_data()\n",
    "print('X_train original shape:', X_train.shape)\n",
    "input_shape = (nb_time_steps, dim_input_vector)\n",
    "\n",
    "X_train = X_train.astype('float32') / 255.\n",
    "X_test = X_test.astype('float32') / 255.\n",
    "Y_train = np_utils.to_categorical(y_train, nb_classes)\n",
    "Y_test = np_utils.to_categorical(y_test, nb_classes)\n",
    "\n",
    "print('X_train shape:', X_train.shape)\n",
    "print(X_train.shape[0], 'train samples')\n",
    "print(X_test.shape[0], 'test samples')"
   ]
  },
  {
   "cell_type": "code",
   "execution_count": 5,
   "metadata": {},
   "outputs": [
    {
     "name": "stdout",
     "output_type": "stream",
     "text": [
      "_________________________________________________________________\n",
      "Layer (type)                 Output Shape              Param #   \n",
      "=================================================================\n",
      "lstm_1 (LSTM)                (None, 30)                7080      \n",
      "_________________________________________________________________\n",
      "dense_1 (Dense)              (None, 10)                310       \n",
      "=================================================================\n",
      "Total params: 7,390\n",
      "Trainable params: 7,390\n",
      "Non-trainable params: 0\n",
      "_________________________________________________________________\n"
     ]
    },
    {
     "name": "stderr",
     "output_type": "stream",
     "text": [
      "/home/gbejarano/anaconda2/envs/ml/lib/python3.6/site-packages/ipykernel_launcher.py:4: UserWarning: Update your `Dense` call to the Keras 2 API: `Dense(10, activation=\"softmax\", kernel_initializer=\"normal\")`\n",
      "  after removing the cwd from sys.path.\n"
     ]
    }
   ],
   "source": [
    "# Build LSTM network\n",
    "model = Sequential()\n",
    "model.add(LSTM(nb_lstm_outputs, input_shape=input_shape))\n",
    "model.add(Dense(nb_classes, activation='softmax', init='normal'))\n",
    "model.compile(optimizer='rmsprop', loss='categorical_crossentropy', metrics=['accuracy'])\n",
    "model.summary()"
   ]
  },
  {
   "cell_type": "code",
   "execution_count": 6,
   "metadata": {},
   "outputs": [
    {
     "name": "stderr",
     "output_type": "stream",
     "text": [
      "/home/gbejarano/anaconda2/envs/ml/lib/python3.6/site-packages/ipykernel_launcher.py:2: UserWarning: The `nb_epoch` argument in `fit` has been renamed `epochs`.\n",
      "  \n"
     ]
    },
    {
     "name": "stdout",
     "output_type": "stream",
     "text": [
      "Epoch 1/50\n",
      "60000/60000 [==============================] - 8s 128us/step - loss: 1.3049 - acc: 0.5823\n",
      "Epoch 2/50\n",
      "60000/60000 [==============================] - 7s 119us/step - loss: 0.5395 - acc: 0.8424\n",
      "Epoch 3/50\n",
      "60000/60000 [==============================] - 8s 141us/step - loss: 0.3521 - acc: 0.8971\n",
      "Epoch 4/50\n",
      "60000/60000 [==============================] - 9s 157us/step - loss: 0.2666 - acc: 0.9222\n",
      "Epoch 5/50\n",
      "60000/60000 [==============================] - 9s 156us/step - loss: 0.2161 - acc: 0.9368\n",
      "Epoch 6/50\n",
      "60000/60000 [==============================] - 9s 157us/step - loss: 0.1832 - acc: 0.9465\n",
      "Epoch 7/50\n",
      "60000/60000 [==============================] - 9s 157us/step - loss: 0.1600 - acc: 0.9540\n",
      "Epoch 8/50\n",
      "60000/60000 [==============================] - 9s 158us/step - loss: 0.1427 - acc: 0.9588\n",
      "Epoch 9/50\n",
      "60000/60000 [==============================] - 10s 165us/step - loss: 0.1298 - acc: 0.9627\n",
      "Epoch 10/50\n",
      "60000/60000 [==============================] - 10s 167us/step - loss: 0.1195 - acc: 0.9649\n",
      "Epoch 11/50\n",
      "60000/60000 [==============================] - 9s 157us/step - loss: 0.1107 - acc: 0.9675\n",
      "Epoch 12/50\n",
      "60000/60000 [==============================] - 9s 157us/step - loss: 0.1016 - acc: 0.9696\n",
      "Epoch 13/50\n",
      "60000/60000 [==============================] - 10s 159us/step - loss: 0.0953 - acc: 0.9713\n",
      "Epoch 14/50\n",
      "60000/60000 [==============================] - 9s 158us/step - loss: 0.0894 - acc: 0.9730\n",
      "Epoch 15/50\n",
      "60000/60000 [==============================] - 10s 166us/step - loss: 0.0837 - acc: 0.9748\n",
      "Epoch 16/50\n",
      "60000/60000 [==============================] - 10s 165us/step - loss: 0.0787 - acc: 0.9769\n",
      "Epoch 17/50\n",
      "60000/60000 [==============================] - 10s 160us/step - loss: 0.0754 - acc: 0.9776\n",
      "Epoch 18/50\n",
      "60000/60000 [==============================] - 10s 165us/step - loss: 0.0719 - acc: 0.9783\n",
      "Epoch 19/50\n",
      "60000/60000 [==============================] - 16s 270us/step - loss: 0.0688 - acc: 0.9792\n",
      "Epoch 20/50\n",
      "60000/60000 [==============================] - 17s 288us/step - loss: 0.0655 - acc: 0.9799\n",
      "Epoch 21/50\n",
      "60000/60000 [==============================] - 18s 300us/step - loss: 0.0628 - acc: 0.9815\n",
      "Epoch 22/50\n",
      "60000/60000 [==============================] - 13s 222us/step - loss: 0.0603 - acc: 0.9819\n",
      "Epoch 23/50\n",
      "60000/60000 [==============================] - 13s 216us/step - loss: 0.0578 - acc: 0.9826\n",
      "Epoch 24/50\n",
      "60000/60000 [==============================] - 11s 177us/step - loss: 0.0548 - acc: 0.9836\n",
      "Epoch 25/50\n",
      "60000/60000 [==============================] - 10s 166us/step - loss: 0.0534 - acc: 0.9840\n",
      "Epoch 26/50\n",
      "60000/60000 [==============================] - 9s 149us/step - loss: 0.0516 - acc: 0.9847\n",
      "Epoch 27/50\n",
      "60000/60000 [==============================] - 9s 150us/step - loss: 0.0492 - acc: 0.9851\n",
      "Epoch 28/50\n",
      "60000/60000 [==============================] - 9s 149us/step - loss: 0.0467 - acc: 0.9857\n",
      "Epoch 29/50\n",
      "60000/60000 [==============================] - 9s 157us/step - loss: 0.0467 - acc: 0.9861\n",
      "Epoch 30/50\n",
      "60000/60000 [==============================] - 10s 167us/step - loss: 0.0444 - acc: 0.9865\n",
      "Epoch 31/50\n",
      "60000/60000 [==============================] - 10s 170us/step - loss: 0.0429 - acc: 0.9869\n",
      "Epoch 32/50\n",
      "60000/60000 [==============================] - 10s 173us/step - loss: 0.0413 - acc: 0.9875\n",
      "Epoch 33/50\n",
      "60000/60000 [==============================] - 10s 175us/step - loss: 0.0406 - acc: 0.9877\n",
      "Epoch 34/50\n",
      "60000/60000 [==============================] - 10s 171us/step - loss: 0.0394 - acc: 0.9882\n",
      "Epoch 35/50\n",
      "60000/60000 [==============================] - 9s 155us/step - loss: 0.0387 - acc: 0.9884\n",
      "Epoch 36/50\n",
      "60000/60000 [==============================] - 9s 148us/step - loss: 0.0374 - acc: 0.9883\n",
      "Epoch 37/50\n",
      "60000/60000 [==============================] - 9s 148us/step - loss: 0.0369 - acc: 0.9885\n",
      "Epoch 38/50\n",
      "60000/60000 [==============================] - 9s 157us/step - loss: 0.0354 - acc: 0.9890\n",
      "Epoch 39/50\n",
      "60000/60000 [==============================] - 10s 166us/step - loss: 0.0351 - acc: 0.9889\n",
      "Epoch 40/50\n",
      "60000/60000 [==============================] - 12s 196us/step - loss: 0.0331 - acc: 0.9900\n",
      "Epoch 41/50\n",
      "60000/60000 [==============================] - 9s 151us/step - loss: 0.0330 - acc: 0.9898\n",
      "Epoch 42/50\n",
      "60000/60000 [==============================] - 9s 157us/step - loss: 0.0311 - acc: 0.9903\n",
      "Epoch 43/50\n",
      "60000/60000 [==============================] - 17s 284us/step - loss: 0.0311 - acc: 0.9905\n",
      "Epoch 44/50\n",
      "60000/60000 [==============================] - 11s 185us/step - loss: 0.0305 - acc: 0.9903\n",
      "Epoch 45/50\n",
      "60000/60000 [==============================] - 9s 147us/step - loss: 0.0287 - acc: 0.9910\n",
      "Epoch 46/50\n",
      "60000/60000 [==============================] - 9s 146us/step - loss: 0.0285 - acc: 0.9910\n",
      "Epoch 47/50\n",
      "60000/60000 [==============================] - 9s 149us/step - loss: 0.0277 - acc: 0.9917\n",
      "Epoch 48/50\n",
      "60000/60000 [==============================] - 9s 155us/step - loss: 0.0283 - acc: 0.9914\n",
      "Epoch 49/50\n",
      "60000/60000 [==============================] - 23s 379us/step - loss: 0.0275 - acc: 0.9915\n",
      "Epoch 50/50\n",
      "60000/60000 [==============================] - 24s 400us/step - loss: 0.0259 - acc: 0.9924\n"
     ]
    }
   ],
   "source": [
    "# Train\n",
    "history = model.fit(X_train, Y_train, nb_epoch=nb_epoch, batch_size=batch_size, shuffle=True, verbose=1)"
   ]
  },
  {
   "cell_type": "code",
   "execution_count": 6,
   "metadata": {},
   "outputs": [
    {
     "name": "stdout",
     "output_type": "stream",
     "text": [
      "10000/10000 [==============================] - 0s     \n",
      "Summary: Loss over the test dataset: 0.07, Accuracy: 0.98\n"
     ]
    }
   ],
   "source": [
    "# Evaluate\n",
    "evaluation = model.evaluate(X_test, Y_test, batch_size=batch_size, verbose=1)\n",
    "print('Summary: Loss over the test dataset: %.2f, Accuracy: %.2f' % (evaluation[0], evaluation[1]))"
   ]
  }
 ],
 "metadata": {
  "kernelspec": {
   "display_name": "Python 3",
   "language": "python",
   "name": "python3"
  },
  "language_info": {
   "codemirror_mode": {
    "name": "ipython",
    "version": 3
   },
   "file_extension": ".py",
   "mimetype": "text/x-python",
   "name": "python",
   "nbconvert_exporter": "python",
   "pygments_lexer": "ipython3",
   "version": "3.6.6"
  }
 },
 "nbformat": 4,
 "nbformat_minor": 1
}
