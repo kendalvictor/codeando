{
 "cells": [
  {
   "cell_type": "markdown",
   "metadata": {},
   "source": [
    "# Logistic Regression Example\n",
    "A linear regression learning algorithm example using Keras library adapted from.\n",
    "\n",
    "- Author: Taegyun Jeon (tgjeon)\n",
    "- Project: https://github.com/tgjeon/Keras-Tutorials"
   ]
  },
  {
   "cell_type": "code",
   "execution_count": 2,
   "metadata": {},
   "outputs": [
    {
     "name": "stderr",
     "output_type": "stream",
     "text": [
      "Using TensorFlow backend.\n"
     ]
    }
   ],
   "source": [
    "from keras.models import Sequential\n",
    "from keras.layers import Dense\n",
    "from keras.optimizers import SGD\n",
    "from keras.datasets import mnist\n",
    "from keras.utils import np_utils"
   ]
  },
  {
   "cell_type": "code",
   "execution_count": 3,
   "metadata": {},
   "outputs": [],
   "source": [
    "batch_size = 128\n",
    "nb_classes = 10\n",
    "nb_epoch = 100"
   ]
  },
  {
   "cell_type": "code",
   "execution_count": 4,
   "metadata": {},
   "outputs": [
    {
     "name": "stdout",
     "output_type": "stream",
     "text": [
      "Downloading data from https://s3.amazonaws.com/img-datasets/mnist.npz\n",
      "11493376/11490434 [==============================] - 0s 0us/step\n"
     ]
    }
   ],
   "source": [
    "# Load MNIST dataset\n",
    "(X_train, y_train), (X_test, y_test) = mnist.load_data()\n",
    "X_train = X_train.reshape(60000, 784)\n",
    "X_test = X_test.reshape(10000, 784)\n",
    "X_train = X_train.astype('float32')\n",
    "X_test = X_test.astype('float32')\n",
    "X_train /= 255\n",
    "X_test /= 255\n",
    "Y_Train = np_utils.to_categorical(y_train, nb_classes)\n",
    "Y_Test = np_utils.to_categorical(y_test, nb_classes)"
   ]
  },
  {
   "cell_type": "code",
   "execution_count": 5,
   "metadata": {},
   "outputs": [
    {
     "name": "stdout",
     "output_type": "stream",
     "text": [
      "_________________________________________________________________\n",
      "Layer (type)                 Output Shape              Param #   \n",
      "=================================================================\n",
      "dense_1 (Dense)              (None, 10)                7850      \n",
      "=================================================================\n",
      "Total params: 7,850\n",
      "Trainable params: 7,850\n",
      "Non-trainable params: 0\n",
      "_________________________________________________________________\n"
     ]
    },
    {
     "name": "stderr",
     "output_type": "stream",
     "text": [
      "/home/gissella/anaconda2/envs/ml/lib/python3.6/site-packages/ipykernel_launcher.py:3: UserWarning: Update your `Dense` call to the Keras 2 API: `Dense(input_shape=(784,), activation=\"softmax\", units=10, kernel_initializer=\"normal\")`\n",
      "  This is separate from the ipykernel package so we can avoid doing imports until\n"
     ]
    }
   ],
   "source": [
    "# Logistic regression model\n",
    "model = Sequential()\n",
    "model.add(Dense(output_dim=10, input_shape=(784,), init='normal', activation='softmax'))\n",
    "model.compile(optimizer=SGD(lr=0.05), loss='categorical_crossentropy', metrics=['accuracy'])\n",
    "model.summary()"
   ]
  },
  {
   "cell_type": "code",
   "execution_count": 6,
   "metadata": {},
   "outputs": [
    {
     "name": "stderr",
     "output_type": "stream",
     "text": [
      "/home/gissella/anaconda2/envs/ml/lib/python3.6/site-packages/ipykernel_launcher.py:2: UserWarning: The `nb_epoch` argument in `fit` has been renamed `epochs`.\n",
      "  \n"
     ]
    },
    {
     "name": "stdout",
     "output_type": "stream",
     "text": [
      "Epoch 1/100\n",
      "60000/60000 [==============================] - 1s 11us/step - loss: 0.7262 - acc: 0.8246\n",
      "Epoch 2/100\n",
      "60000/60000 [==============================] - 1s 8us/step - loss: 0.4349 - acc: 0.8844\n",
      "Epoch 3/100\n",
      "60000/60000 [==============================] - 0s 6us/step - loss: 0.3878 - acc: 0.8938\n",
      "Epoch 4/100\n",
      "60000/60000 [==============================] - 0s 6us/step - loss: 0.3639 - acc: 0.9001\n",
      "Epoch 5/100\n",
      "60000/60000 [==============================] - 0s 7us/step - loss: 0.3487 - acc: 0.9033\n",
      "Epoch 6/100\n",
      "60000/60000 [==============================] - 0s 7us/step - loss: 0.3379 - acc: 0.9062\n",
      "Epoch 7/100\n",
      "60000/60000 [==============================] - 0s 7us/step - loss: 0.3295 - acc: 0.9078\n",
      "Epoch 8/100\n",
      "60000/60000 [==============================] - 0s 7us/step - loss: 0.3230 - acc: 0.9096\n",
      "Epoch 9/100\n",
      "60000/60000 [==============================] - 0s 6us/step - loss: 0.3177 - acc: 0.9110\n",
      "Epoch 10/100\n",
      "60000/60000 [==============================] - 0s 8us/step - loss: 0.3131 - acc: 0.9129\n",
      "Epoch 11/100\n",
      "60000/60000 [==============================] - 0s 7us/step - loss: 0.3091 - acc: 0.9136\n",
      "Epoch 12/100\n",
      "60000/60000 [==============================] - 0s 6us/step - loss: 0.3057 - acc: 0.9144\n",
      "Epoch 13/100\n",
      "60000/60000 [==============================] - 0s 6us/step - loss: 0.3029 - acc: 0.9152\n",
      "Epoch 14/100\n",
      "60000/60000 [==============================] - 0s 6us/step - loss: 0.3002 - acc: 0.9162\n",
      "Epoch 15/100\n",
      "60000/60000 [==============================] - 0s 6us/step - loss: 0.2979 - acc: 0.9169\n",
      "Epoch 16/100\n",
      "60000/60000 [==============================] - 0s 6us/step - loss: 0.2957 - acc: 0.9174\n",
      "Epoch 17/100\n",
      "60000/60000 [==============================] - 0s 7us/step - loss: 0.2938 - acc: 0.9178\n",
      "Epoch 18/100\n",
      "60000/60000 [==============================] - 0s 8us/step - loss: 0.2920 - acc: 0.9183\n",
      "Epoch 19/100\n",
      "60000/60000 [==============================] - 0s 7us/step - loss: 0.2903 - acc: 0.9190\n",
      "Epoch 20/100\n",
      "60000/60000 [==============================] - 0s 6us/step - loss: 0.2887 - acc: 0.9191\n",
      "Epoch 21/100\n",
      "60000/60000 [==============================] - 0s 6us/step - loss: 0.2873 - acc: 0.9196\n",
      "Epoch 22/100\n",
      "60000/60000 [==============================] - 0s 6us/step - loss: 0.2860 - acc: 0.9196\n",
      "Epoch 23/100\n",
      "60000/60000 [==============================] - 0s 7us/step - loss: 0.2848 - acc: 0.9205\n",
      "Epoch 24/100\n",
      "60000/60000 [==============================] - 0s 6us/step - loss: 0.2837 - acc: 0.9210\n",
      "Epoch 25/100\n",
      "60000/60000 [==============================] - 1s 9us/step - loss: 0.2825 - acc: 0.9211\n",
      "Epoch 26/100\n",
      "60000/60000 [==============================] - 1s 9us/step - loss: 0.2815 - acc: 0.9214\n",
      "Epoch 27/100\n",
      "60000/60000 [==============================] - 1s 9us/step - loss: 0.2806 - acc: 0.9219\n",
      "Epoch 28/100\n",
      "60000/60000 [==============================] - 0s 7us/step - loss: 0.2797 - acc: 0.9219\n",
      "Epoch 29/100\n",
      "60000/60000 [==============================] - 0s 7us/step - loss: 0.2787 - acc: 0.9217\n",
      "Epoch 30/100\n",
      "60000/60000 [==============================] - 0s 6us/step - loss: 0.2779 - acc: 0.9227\n",
      "Epoch 31/100\n",
      "60000/60000 [==============================] - 0s 7us/step - loss: 0.2770 - acc: 0.9230\n",
      "Epoch 32/100\n",
      "60000/60000 [==============================] - 0s 6us/step - loss: 0.2763 - acc: 0.9230\n",
      "Epoch 33/100\n",
      "60000/60000 [==============================] - 0s 6us/step - loss: 0.2756 - acc: 0.9235\n",
      "Epoch 34/100\n",
      "60000/60000 [==============================] - 0s 6us/step - loss: 0.2748 - acc: 0.9231\n",
      "Epoch 35/100\n",
      "60000/60000 [==============================] - 0s 6us/step - loss: 0.2743 - acc: 0.9234\n",
      "Epoch 36/100\n",
      "60000/60000 [==============================] - 0s 6us/step - loss: 0.2735 - acc: 0.9237\n",
      "Epoch 37/100\n",
      "60000/60000 [==============================] - 0s 6us/step - loss: 0.2730 - acc: 0.9240\n",
      "Epoch 38/100\n",
      "60000/60000 [==============================] - 0s 6us/step - loss: 0.2725 - acc: 0.9244\n",
      "Epoch 39/100\n",
      "60000/60000 [==============================] - 0s 6us/step - loss: 0.2719 - acc: 0.9243\n",
      "Epoch 40/100\n",
      "60000/60000 [==============================] - 0s 6us/step - loss: 0.2713 - acc: 0.9247\n",
      "Epoch 41/100\n",
      "60000/60000 [==============================] - 0s 7us/step - loss: 0.2708 - acc: 0.9250\n",
      "Epoch 42/100\n",
      "60000/60000 [==============================] - 0s 7us/step - loss: 0.2703 - acc: 0.9245\n",
      "Epoch 43/100\n",
      "60000/60000 [==============================] - 0s 7us/step - loss: 0.2697 - acc: 0.9252\n",
      "Epoch 44/100\n",
      "60000/60000 [==============================] - 0s 8us/step - loss: 0.2693 - acc: 0.9253\n",
      "Epoch 45/100\n",
      "60000/60000 [==============================] - 1s 10us/step - loss: 0.2688 - acc: 0.9253\n",
      "Epoch 46/100\n",
      "60000/60000 [==============================] - 0s 8us/step - loss: 0.2682 - acc: 0.9255\n",
      "Epoch 47/100\n",
      "60000/60000 [==============================] - 1s 9us/step - loss: 0.2679 - acc: 0.9259\n",
      "Epoch 48/100\n",
      "60000/60000 [==============================] - 1s 9us/step - loss: 0.2675 - acc: 0.9256\n",
      "Epoch 49/100\n",
      "60000/60000 [==============================] - 1s 8us/step - loss: 0.2670 - acc: 0.9254\n",
      "Epoch 50/100\n",
      "60000/60000 [==============================] - 0s 8us/step - loss: 0.2667 - acc: 0.9259\n",
      "Epoch 51/100\n",
      "60000/60000 [==============================] - 0s 8us/step - loss: 0.2662 - acc: 0.9263\n",
      "Epoch 52/100\n",
      "60000/60000 [==============================] - 1s 9us/step - loss: 0.2657 - acc: 0.9262\n",
      "Epoch 53/100\n",
      "60000/60000 [==============================] - 0s 8us/step - loss: 0.2655 - acc: 0.9262\n",
      "Epoch 54/100\n",
      "60000/60000 [==============================] - 1s 9us/step - loss: 0.2650 - acc: 0.9267\n",
      "Epoch 55/100\n",
      "60000/60000 [==============================] - 1s 10us/step - loss: 0.2647 - acc: 0.9270\n",
      "Epoch 56/100\n",
      "60000/60000 [==============================] - 1s 9us/step - loss: 0.2643 - acc: 0.9270\n",
      "Epoch 57/100\n",
      "60000/60000 [==============================] - 1s 10us/step - loss: 0.2640 - acc: 0.9271\n",
      "Epoch 58/100\n",
      "60000/60000 [==============================] - 1s 9us/step - loss: 0.2636 - acc: 0.9270\n",
      "Epoch 59/100\n",
      "60000/60000 [==============================] - 1s 9us/step - loss: 0.2633 - acc: 0.9273\n",
      "Epoch 60/100\n",
      "60000/60000 [==============================] - 0s 8us/step - loss: 0.2630 - acc: 0.9273\n",
      "Epoch 61/100\n",
      "60000/60000 [==============================] - 1s 9us/step - loss: 0.2627 - acc: 0.9272\n",
      "Epoch 62/100\n",
      "60000/60000 [==============================] - 0s 8us/step - loss: 0.2624 - acc: 0.9275\n",
      "Epoch 63/100\n",
      "60000/60000 [==============================] - 1s 9us/step - loss: 0.2620 - acc: 0.9276\n",
      "Epoch 64/100\n",
      "60000/60000 [==============================] - 0s 8us/step - loss: 0.2618 - acc: 0.9276\n",
      "Epoch 65/100\n",
      "60000/60000 [==============================] - 1s 9us/step - loss: 0.2615 - acc: 0.9276\n",
      "Epoch 66/100\n",
      "60000/60000 [==============================] - 1s 8us/step - loss: 0.2613 - acc: 0.9278\n",
      "Epoch 67/100\n",
      "60000/60000 [==============================] - 1s 9us/step - loss: 0.2610 - acc: 0.9276\n",
      "Epoch 68/100\n",
      "60000/60000 [==============================] - 0s 8us/step - loss: 0.2607 - acc: 0.9277\n",
      "Epoch 69/100\n",
      "60000/60000 [==============================] - 1s 9us/step - loss: 0.2605 - acc: 0.9282\n",
      "Epoch 70/100\n",
      "60000/60000 [==============================] - 0s 8us/step - loss: 0.2602 - acc: 0.9283\n",
      "Epoch 71/100\n",
      "60000/60000 [==============================] - 1s 9us/step - loss: 0.2598 - acc: 0.9282\n",
      "Epoch 72/100\n",
      "60000/60000 [==============================] - 1s 9us/step - loss: 0.2597 - acc: 0.9280\n",
      "Epoch 73/100\n",
      "60000/60000 [==============================] - 1s 9us/step - loss: 0.2594 - acc: 0.9286\n",
      "Epoch 74/100\n",
      "60000/60000 [==============================] - 0s 8us/step - loss: 0.2592 - acc: 0.9285\n",
      "Epoch 75/100\n",
      "60000/60000 [==============================] - 0s 8us/step - loss: 0.2591 - acc: 0.9282\n",
      "Epoch 76/100\n",
      "60000/60000 [==============================] - 0s 8us/step - loss: 0.2588 - acc: 0.9286\n",
      "Epoch 77/100\n",
      "60000/60000 [==============================] - 0s 8us/step - loss: 0.2586 - acc: 0.9284\n",
      "Epoch 78/100\n",
      "60000/60000 [==============================] - 0s 8us/step - loss: 0.2583 - acc: 0.9289\n",
      "Epoch 79/100\n",
      "60000/60000 [==============================] - 0s 8us/step - loss: 0.2580 - acc: 0.9286\n",
      "Epoch 80/100\n",
      "60000/60000 [==============================] - 0s 8us/step - loss: 0.2578 - acc: 0.9290\n",
      "Epoch 81/100\n",
      "60000/60000 [==============================] - 0s 8us/step - loss: 0.2575 - acc: 0.9289\n",
      "Epoch 82/100\n"
     ]
    },
    {
     "name": "stdout",
     "output_type": "stream",
     "text": [
      "60000/60000 [==============================] - 0s 8us/step - loss: 0.2573 - acc: 0.9292\n",
      "Epoch 83/100\n",
      "60000/60000 [==============================] - 0s 7us/step - loss: 0.2572 - acc: 0.9292\n",
      "Epoch 84/100\n",
      "60000/60000 [==============================] - 0s 8us/step - loss: 0.2571 - acc: 0.9293\n",
      "Epoch 85/100\n",
      "60000/60000 [==============================] - 1s 8us/step - loss: 0.2568 - acc: 0.9291\n",
      "Epoch 86/100\n",
      "60000/60000 [==============================] - 1s 10us/step - loss: 0.2565 - acc: 0.9292\n",
      "Epoch 87/100\n",
      "60000/60000 [==============================] - 1s 9us/step - loss: 0.2565 - acc: 0.9292\n",
      "Epoch 88/100\n",
      "60000/60000 [==============================] - 0s 8us/step - loss: 0.2562 - acc: 0.9291\n",
      "Epoch 89/100\n",
      "60000/60000 [==============================] - 1s 9us/step - loss: 0.2560 - acc: 0.9294\n",
      "Epoch 90/100\n",
      "60000/60000 [==============================] - 1s 8us/step - loss: 0.2558 - acc: 0.9298\n",
      "Epoch 91/100\n",
      "60000/60000 [==============================] - 1s 9us/step - loss: 0.2556 - acc: 0.9297\n",
      "Epoch 92/100\n",
      "60000/60000 [==============================] - 0s 8us/step - loss: 0.2554 - acc: 0.9296\n",
      "Epoch 93/100\n",
      "60000/60000 [==============================] - 0s 8us/step - loss: 0.2552 - acc: 0.9293\n",
      "Epoch 94/100\n",
      "60000/60000 [==============================] - 1s 9us/step - loss: 0.2550 - acc: 0.9301\n",
      "Epoch 95/100\n",
      "60000/60000 [==============================] - 0s 8us/step - loss: 0.2548 - acc: 0.9300\n",
      "Epoch 96/100\n",
      "60000/60000 [==============================] - 0s 8us/step - loss: 0.2547 - acc: 0.9299\n",
      "Epoch 97/100\n",
      "60000/60000 [==============================] - 1s 9us/step - loss: 0.2545 - acc: 0.9298\n",
      "Epoch 98/100\n",
      "60000/60000 [==============================] - 0s 8us/step - loss: 0.2543 - acc: 0.9297\n",
      "Epoch 99/100\n",
      "60000/60000 [==============================] - 0s 8us/step - loss: 0.2542 - acc: 0.9302\n",
      "Epoch 100/100\n",
      "60000/60000 [==============================] - 0s 8us/step - loss: 0.2541 - acc: 0.9301\n"
     ]
    }
   ],
   "source": [
    "# Train\n",
    "history = model.fit(X_train, Y_Train, nb_epoch=nb_epoch, batch_size=batch_size, verbose=1)"
   ]
  },
  {
   "cell_type": "code",
   "execution_count": 7,
   "metadata": {},
   "outputs": [
    {
     "name": "stdout",
     "output_type": "stream",
     "text": [
      "10000/10000 [==============================] - 0s 9us/step\n",
      "Summary: Loss over the test dataset: 0.27, Accuracy: 0.93\n"
     ]
    }
   ],
   "source": [
    "# Evaluate\n",
    "evaluation = model.evaluate(X_test, Y_Test, verbose=1)\n",
    "print('Summary: Loss over the test dataset: %.2f, Accuracy: %.2f' % (evaluation[0], evaluation[1]))"
   ]
  },
  {
   "cell_type": "code",
   "execution_count": null,
   "metadata": {},
   "outputs": [],
   "source": []
  }
 ],
 "metadata": {
  "kernelspec": {
   "display_name": "Python 3",
   "language": "python",
   "name": "python3"
  },
  "language_info": {
   "codemirror_mode": {
    "name": "ipython",
    "version": 3
   },
   "file_extension": ".py",
   "mimetype": "text/x-python",
   "name": "python",
   "nbconvert_exporter": "python",
   "pygments_lexer": "ipython3",
   "version": "3.6.6"
  }
 },
 "nbformat": 4,
 "nbformat_minor": 1
}
