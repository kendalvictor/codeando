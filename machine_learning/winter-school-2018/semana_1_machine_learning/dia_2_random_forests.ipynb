{
 "cells": [
  {
   "cell_type": "code",
   "execution_count": 1,
   "metadata": {},
   "outputs": [],
   "source": [
    "import utils, pickle\n",
    "import numpy as np\n",
    "import pandas as pd\n",
    "import seaborn as sns\n",
    "import matplotlib.pyplot as plt\n",
    "%matplotlib inline\n",
    "\n",
    "pd.set_option('display.max_columns', 50)"
   ]
  },
  {
   "cell_type": "markdown",
   "metadata": {},
   "source": [
    "# Random Forests"
   ]
  },
  {
   "cell_type": "markdown",
   "metadata": {},
   "source": [
    "## Data"
   ]
  },
  {
   "cell_type": "markdown",
   "metadata": {},
   "source": [
    "Census Income Data Set: http://mlr.cs.umass.edu/ml/datasets/Census+Income\n",
    "\n",
    "Abstract: Predict whether income exceeds $50K/yr based on census data. Also known as \"Adult\" dataset."
   ]
  },
  {
   "cell_type": "markdown",
   "metadata": {},
   "source": [
    "* **age:** continuous.\n",
    "* **workclass:** Private, Self-emp-not-inc, Self-emp-inc, Federal-gov, Local-gov, State-gov, Without-pay, Never-worked.\n",
    "* **fnlwgt:** continuous.\n",
    "* **education:** Bachelors, Some-college, 11th, HS-grad, Prof-school, Assoc-acdm, Assoc-voc, 9th, 7th-8th, 12th, Masters, 1st-4th, 10th, Doctorate, 5th-6th, Preschool.\n",
    "* **education-num:** continuous.\n",
    "* **marital-status:** Married-civ-spouse, Divorced, Never-married, Separated, Widowed, Married-spouse-absent, Married-AF-spouse.\n",
    "* **occupation:** Tech-support, Craft-repair, Other-service, Sales, Exec-managerial, Prof-specialty, Handlers-cleaners, Machine-op-inspct, Adm-clerical, Farming-fishing, Transport-moving, Priv-house-serv, Protective-serv, Armed-Forces.\n",
    "* **relationship:** Wife, Own-child, Husband, Not-in-family, Other-relative, Unmarried.\n",
    "* **race:** White, Asian-Pac-Islander, Amer-Indian-Eskimo, Other, Black.\n",
    "* **sex:** Female, Male.\n",
    "* **capital-gain:** continuous.\n",
    "* **capital-loss:** continuous.\n",
    "* **hours-per-week:** continuous.\n",
    "* **native-country:** United-States, Cambodia, England, Puerto-Rico, Canada, Germany, Outlying-US(Guam-USVI-etc), India, Japan, Greece, South, China, Cuba, Iran, Honduras, Philippines, Italy, Poland, Jamaica, Vietnam, Mexico, Portugal, Ireland, France, Dominican-Republic, Laos, Ecuador, Taiwan, Haiti, Columbia, Hungary, Guatemala, Nicaragua, Scotland, Thailand, Yugoslavia, El-Salvador, Trinadad&Tobago, Peru, Hong, Holand-Netherlands."
   ]
  },
  {
   "cell_type": "code",
   "execution_count": 171,
   "metadata": {},
   "outputs": [
    {
     "data": {
      "text/plain": [
       "((32561, 15), (16281, 15))"
      ]
     },
     "execution_count": 171,
     "metadata": {},
     "output_type": "execute_result"
    }
   ],
   "source": [
    "df_raw = pd.read_csv('data/census_train.csv')\n",
    "df_test = pd.read_csv('data/census_test.csv')\n",
    "df_raw.shape, df_test.shape"
   ]
  },
  {
   "cell_type": "code",
   "execution_count": 172,
   "metadata": {},
   "outputs": [
    {
     "data": {
      "text/html": [
       "<div>\n",
       "<style scoped>\n",
       "    .dataframe tbody tr th:only-of-type {\n",
       "        vertical-align: middle;\n",
       "    }\n",
       "\n",
       "    .dataframe tbody tr th {\n",
       "        vertical-align: top;\n",
       "    }\n",
       "\n",
       "    .dataframe thead th {\n",
       "        text-align: right;\n",
       "    }\n",
       "</style>\n",
       "<table border=\"1\" class=\"dataframe\">\n",
       "  <thead>\n",
       "    <tr style=\"text-align: right;\">\n",
       "      <th></th>\n",
       "      <th>age</th>\n",
       "      <th>workclass</th>\n",
       "      <th>fnlwgt</th>\n",
       "      <th>education</th>\n",
       "      <th>education-num</th>\n",
       "      <th>marital-status</th>\n",
       "      <th>occupation</th>\n",
       "      <th>relationship</th>\n",
       "      <th>race</th>\n",
       "      <th>sex</th>\n",
       "      <th>capital-gain</th>\n",
       "      <th>capital-loss</th>\n",
       "      <th>hours-per-week</th>\n",
       "      <th>native-country</th>\n",
       "      <th>label</th>\n",
       "    </tr>\n",
       "  </thead>\n",
       "  <tbody>\n",
       "    <tr>\n",
       "      <th>0</th>\n",
       "      <td>39</td>\n",
       "      <td>State-gov</td>\n",
       "      <td>77516</td>\n",
       "      <td>Bachelors</td>\n",
       "      <td>13</td>\n",
       "      <td>Never-married</td>\n",
       "      <td>Adm-clerical</td>\n",
       "      <td>Not-in-family</td>\n",
       "      <td>White</td>\n",
       "      <td>Male</td>\n",
       "      <td>2174</td>\n",
       "      <td>0</td>\n",
       "      <td>40</td>\n",
       "      <td>United-States</td>\n",
       "      <td>&lt;=50K</td>\n",
       "    </tr>\n",
       "    <tr>\n",
       "      <th>1</th>\n",
       "      <td>50</td>\n",
       "      <td>Self-emp-not-inc</td>\n",
       "      <td>83311</td>\n",
       "      <td>Bachelors</td>\n",
       "      <td>13</td>\n",
       "      <td>Married-civ-spouse</td>\n",
       "      <td>Exec-managerial</td>\n",
       "      <td>Husband</td>\n",
       "      <td>White</td>\n",
       "      <td>Male</td>\n",
       "      <td>0</td>\n",
       "      <td>0</td>\n",
       "      <td>13</td>\n",
       "      <td>United-States</td>\n",
       "      <td>&lt;=50K</td>\n",
       "    </tr>\n",
       "    <tr>\n",
       "      <th>2</th>\n",
       "      <td>38</td>\n",
       "      <td>Private</td>\n",
       "      <td>215646</td>\n",
       "      <td>HS-grad</td>\n",
       "      <td>9</td>\n",
       "      <td>Divorced</td>\n",
       "      <td>Handlers-cleaners</td>\n",
       "      <td>Not-in-family</td>\n",
       "      <td>White</td>\n",
       "      <td>Male</td>\n",
       "      <td>0</td>\n",
       "      <td>0</td>\n",
       "      <td>40</td>\n",
       "      <td>United-States</td>\n",
       "      <td>&lt;=50K</td>\n",
       "    </tr>\n",
       "  </tbody>\n",
       "</table>\n",
       "</div>"
      ],
      "text/plain": [
       "   age          workclass  fnlwgt   education  education-num  \\\n",
       "0   39          State-gov   77516   Bachelors             13   \n",
       "1   50   Self-emp-not-inc   83311   Bachelors             13   \n",
       "2   38            Private  215646     HS-grad              9   \n",
       "\n",
       "        marital-status          occupation    relationship    race    sex  \\\n",
       "0        Never-married        Adm-clerical   Not-in-family   White   Male   \n",
       "1   Married-civ-spouse     Exec-managerial         Husband   White   Male   \n",
       "2             Divorced   Handlers-cleaners   Not-in-family   White   Male   \n",
       "\n",
       "   capital-gain  capital-loss  hours-per-week  native-country   label  \n",
       "0          2174             0              40   United-States   <=50K  \n",
       "1             0             0              13   United-States   <=50K  \n",
       "2             0             0              40   United-States   <=50K  "
      ]
     },
     "execution_count": 172,
     "metadata": {},
     "output_type": "execute_result"
    }
   ],
   "source": [
    "df_raw.head(3)"
   ]
  },
  {
   "cell_type": "code",
   "execution_count": 173,
   "metadata": {},
   "outputs": [
    {
     "data": {
      "text/html": [
       "<div>\n",
       "<style scoped>\n",
       "    .dataframe tbody tr th:only-of-type {\n",
       "        vertical-align: middle;\n",
       "    }\n",
       "\n",
       "    .dataframe tbody tr th {\n",
       "        vertical-align: top;\n",
       "    }\n",
       "\n",
       "    .dataframe thead th {\n",
       "        text-align: right;\n",
       "    }\n",
       "</style>\n",
       "<table border=\"1\" class=\"dataframe\">\n",
       "  <thead>\n",
       "    <tr style=\"text-align: right;\">\n",
       "      <th></th>\n",
       "      <th>education</th>\n",
       "      <th>education-num</th>\n",
       "    </tr>\n",
       "  </thead>\n",
       "  <tbody>\n",
       "    <tr>\n",
       "      <th>0</th>\n",
       "      <td>Bachelors</td>\n",
       "      <td>13</td>\n",
       "    </tr>\n",
       "    <tr>\n",
       "      <th>2</th>\n",
       "      <td>HS-grad</td>\n",
       "      <td>9</td>\n",
       "    </tr>\n",
       "    <tr>\n",
       "      <th>3</th>\n",
       "      <td>11th</td>\n",
       "      <td>7</td>\n",
       "    </tr>\n",
       "    <tr>\n",
       "      <th>5</th>\n",
       "      <td>Masters</td>\n",
       "      <td>14</td>\n",
       "    </tr>\n",
       "    <tr>\n",
       "      <th>6</th>\n",
       "      <td>9th</td>\n",
       "      <td>5</td>\n",
       "    </tr>\n",
       "    <tr>\n",
       "      <th>10</th>\n",
       "      <td>Some-college</td>\n",
       "      <td>10</td>\n",
       "    </tr>\n",
       "    <tr>\n",
       "      <th>13</th>\n",
       "      <td>Assoc-acdm</td>\n",
       "      <td>12</td>\n",
       "    </tr>\n",
       "    <tr>\n",
       "      <th>14</th>\n",
       "      <td>Assoc-voc</td>\n",
       "      <td>11</td>\n",
       "    </tr>\n",
       "    <tr>\n",
       "      <th>15</th>\n",
       "      <td>7th-8th</td>\n",
       "      <td>4</td>\n",
       "    </tr>\n",
       "    <tr>\n",
       "      <th>20</th>\n",
       "      <td>Doctorate</td>\n",
       "      <td>16</td>\n",
       "    </tr>\n",
       "    <tr>\n",
       "      <th>52</th>\n",
       "      <td>Prof-school</td>\n",
       "      <td>15</td>\n",
       "    </tr>\n",
       "    <tr>\n",
       "      <th>56</th>\n",
       "      <td>5th-6th</td>\n",
       "      <td>3</td>\n",
       "    </tr>\n",
       "    <tr>\n",
       "      <th>77</th>\n",
       "      <td>10th</td>\n",
       "      <td>6</td>\n",
       "    </tr>\n",
       "    <tr>\n",
       "      <th>160</th>\n",
       "      <td>1st-4th</td>\n",
       "      <td>2</td>\n",
       "    </tr>\n",
       "    <tr>\n",
       "      <th>224</th>\n",
       "      <td>Preschool</td>\n",
       "      <td>1</td>\n",
       "    </tr>\n",
       "    <tr>\n",
       "      <th>415</th>\n",
       "      <td>12th</td>\n",
       "      <td>8</td>\n",
       "    </tr>\n",
       "  </tbody>\n",
       "</table>\n",
       "</div>"
      ],
      "text/plain": [
       "         education  education-num\n",
       "0        Bachelors             13\n",
       "2          HS-grad              9\n",
       "3             11th              7\n",
       "5          Masters             14\n",
       "6              9th              5\n",
       "10    Some-college             10\n",
       "13      Assoc-acdm             12\n",
       "14       Assoc-voc             11\n",
       "15         7th-8th              4\n",
       "20       Doctorate             16\n",
       "52     Prof-school             15\n",
       "56         5th-6th              3\n",
       "77            10th              6\n",
       "160        1st-4th              2\n",
       "224      Preschool              1\n",
       "415           12th              8"
      ]
     },
     "execution_count": 173,
     "metadata": {},
     "output_type": "execute_result"
    }
   ],
   "source": [
    "# La variable \"education-num\" contiene la misma informacion que \"education\",\n",
    "# en tipo numérica y ordenada, por lo que borraremos \"education\"\n",
    "# pero guardaremos sus código en \"cat_dict\".\n",
    "education_codes = df_raw[['education', 'education-num']].drop_duplicates()\n",
    "education_codes"
   ]
  },
  {
   "cell_type": "code",
   "execution_count": 174,
   "metadata": {},
   "outputs": [
    {
     "data": {
      "text/plain": [
       "{'education': {13: ' Bachelors',\n",
       "  9: ' HS-grad',\n",
       "  7: ' 11th',\n",
       "  14: ' Masters',\n",
       "  5: ' 9th',\n",
       "  10: ' Some-college',\n",
       "  12: ' Assoc-acdm',\n",
       "  11: ' Assoc-voc',\n",
       "  4: ' 7th-8th',\n",
       "  16: ' Doctorate',\n",
       "  15: ' Prof-school',\n",
       "  3: ' 5th-6th',\n",
       "  6: ' 10th',\n",
       "  2: ' 1st-4th',\n",
       "  1: ' Preschool',\n",
       "  8: ' 12th'}}"
      ]
     },
     "execution_count": 174,
     "metadata": {},
     "output_type": "execute_result"
    }
   ],
   "source": [
    "cat_dict = education_codes.set_index('education-num').to_dict()\n",
    "cat_dict"
   ]
  },
  {
   "cell_type": "code",
   "execution_count": 176,
   "metadata": {},
   "outputs": [
    {
     "data": {
      "text/html": [
       "<div>\n",
       "<style scoped>\n",
       "    .dataframe tbody tr th:only-of-type {\n",
       "        vertical-align: middle;\n",
       "    }\n",
       "\n",
       "    .dataframe tbody tr th {\n",
       "        vertical-align: top;\n",
       "    }\n",
       "\n",
       "    .dataframe thead th {\n",
       "        text-align: right;\n",
       "    }\n",
       "</style>\n",
       "<table border=\"1\" class=\"dataframe\">\n",
       "  <thead>\n",
       "    <tr style=\"text-align: right;\">\n",
       "      <th></th>\n",
       "      <th>age</th>\n",
       "      <th>workclass</th>\n",
       "      <th>fnlwgt</th>\n",
       "      <th>education</th>\n",
       "      <th>marital-status</th>\n",
       "      <th>occupation</th>\n",
       "      <th>relationship</th>\n",
       "      <th>race</th>\n",
       "      <th>sex</th>\n",
       "      <th>capital-gain</th>\n",
       "      <th>capital-loss</th>\n",
       "      <th>hours-per-week</th>\n",
       "      <th>native-country</th>\n",
       "      <th>label</th>\n",
       "    </tr>\n",
       "  </thead>\n",
       "  <tbody>\n",
       "    <tr>\n",
       "      <th>0</th>\n",
       "      <td>39</td>\n",
       "      <td>State-gov</td>\n",
       "      <td>77516</td>\n",
       "      <td>13</td>\n",
       "      <td>Never-married</td>\n",
       "      <td>Adm-clerical</td>\n",
       "      <td>Not-in-family</td>\n",
       "      <td>White</td>\n",
       "      <td>Male</td>\n",
       "      <td>2174</td>\n",
       "      <td>0</td>\n",
       "      <td>40</td>\n",
       "      <td>United-States</td>\n",
       "      <td>&lt;=50K</td>\n",
       "    </tr>\n",
       "    <tr>\n",
       "      <th>1</th>\n",
       "      <td>50</td>\n",
       "      <td>Self-emp-not-inc</td>\n",
       "      <td>83311</td>\n",
       "      <td>13</td>\n",
       "      <td>Married-civ-spouse</td>\n",
       "      <td>Exec-managerial</td>\n",
       "      <td>Husband</td>\n",
       "      <td>White</td>\n",
       "      <td>Male</td>\n",
       "      <td>0</td>\n",
       "      <td>0</td>\n",
       "      <td>13</td>\n",
       "      <td>United-States</td>\n",
       "      <td>&lt;=50K</td>\n",
       "    </tr>\n",
       "    <tr>\n",
       "      <th>2</th>\n",
       "      <td>38</td>\n",
       "      <td>Private</td>\n",
       "      <td>215646</td>\n",
       "      <td>9</td>\n",
       "      <td>Divorced</td>\n",
       "      <td>Handlers-cleaners</td>\n",
       "      <td>Not-in-family</td>\n",
       "      <td>White</td>\n",
       "      <td>Male</td>\n",
       "      <td>0</td>\n",
       "      <td>0</td>\n",
       "      <td>40</td>\n",
       "      <td>United-States</td>\n",
       "      <td>&lt;=50K</td>\n",
       "    </tr>\n",
       "  </tbody>\n",
       "</table>\n",
       "</div>"
      ],
      "text/plain": [
       "   age          workclass  fnlwgt  education       marital-status  \\\n",
       "0   39          State-gov   77516         13        Never-married   \n",
       "1   50   Self-emp-not-inc   83311         13   Married-civ-spouse   \n",
       "2   38            Private  215646          9             Divorced   \n",
       "\n",
       "           occupation    relationship    race    sex  capital-gain  \\\n",
       "0        Adm-clerical   Not-in-family   White   Male          2174   \n",
       "1     Exec-managerial         Husband   White   Male             0   \n",
       "2   Handlers-cleaners   Not-in-family   White   Male             0   \n",
       "\n",
       "   capital-loss  hours-per-week  native-country   label  \n",
       "0             0              40   United-States   <=50K  \n",
       "1             0              13   United-States   <=50K  \n",
       "2             0              40   United-States   <=50K  "
      ]
     },
     "execution_count": 176,
     "metadata": {},
     "output_type": "execute_result"
    }
   ],
   "source": [
    "# Borramos \"education\" y cambiamos el nombre de \"education-num\" a \"education\"\n",
    "\n",
    "# Este estilo de escribir métodos de pandas, seguidos uno de otro, se llama method chaining\n",
    "df_raw = (df_raw.drop('education', axis=1)\n",
    "                .rename({'education-num': 'education'}, axis=1))\n",
    "          \n",
    "df_raw.head(3)"
   ]
  },
  {
   "cell_type": "markdown",
   "metadata": {},
   "source": [
    "## Ejercicio 1: Preprocesar los datos"
   ]
  },
  {
   "cell_type": "code",
   "execution_count": null,
   "metadata": {},
   "outputs": [],
   "source": [
    "# 1. Convertir las columnas a tipo \"category\", ignorar la variable dependiente\n",
    "for n,col in df_raw.items():\n",
    "    # COMPLETAR\n",
    "        \n",
    "df_raw.dtypes"
   ]
  },
  {
   "cell_type": "code",
   "execution_count": null,
   "metadata": {},
   "outputs": [],
   "source": [
    "# 2. El dataset no tiene data faltante, por que vamos directo a trasnformar\n",
    "#    las columnas categóricas a numéricas.\n",
    "df = df_raw.copy()\n",
    "\n",
    "# Convertir cada columna categórica a numérica\n",
    "# COMPLETAR\n",
    "        \n",
    "df.head(3)"
   ]
  },
  {
   "cell_type": "code",
   "execution_count": null,
   "metadata": {},
   "outputs": [],
   "source": [
    "# 3. Train-validation split\n",
    "\n",
    "# COMPLETAR\n",
    "\n",
    "print(f'Train shape     : {x_train.shape}')\n",
    "print(f'Validation shape: {x_val.shape}')"
   ]
  },
  {
   "cell_type": "markdown",
   "metadata": {},
   "source": [
    "## Entrenando un Random Forest"
   ]
  },
  {
   "cell_type": "code",
   "execution_count": 180,
   "metadata": {},
   "outputs": [
    {
     "data": {
      "text/plain": [
       "RandomForestClassifier(bootstrap=True, class_weight=None, criterion='gini',\n",
       "            max_depth=None, max_features='auto', max_leaf_nodes=None,\n",
       "            min_impurity_decrease=0.0, min_impurity_split=None,\n",
       "            min_samples_leaf=1, min_samples_split=2,\n",
       "            min_weight_fraction_leaf=0.0, n_estimators=10, n_jobs=-1,\n",
       "            oob_score=False, random_state=None, verbose=0,\n",
       "            warm_start=False)"
      ]
     },
     "execution_count": 180,
     "metadata": {},
     "output_type": "execute_result"
    }
   ],
   "source": [
    "from sklearn.ensemble import RandomForestClassifier\n",
    "\n",
    "m = RandomForestClassifier(n_estimators=10, n_jobs=-1)\n",
    "m.fit(x_train, y_train)"
   ]
  },
  {
   "cell_type": "code",
   "execution_count": 181,
   "metadata": {},
   "outputs": [
    {
     "name": "stdout",
     "output_type": "stream",
     "text": [
      "Scores:\n",
      "Train      = 0.9873\n",
      "Validation = 0.854\n"
     ]
    }
   ],
   "source": [
    "# Vamos a definir una función para ver los resultados del entrenamiento.\n",
    "def score():\n",
    "    print(f'Scores:')\n",
    "    print(f'Train      = {m.score(x_train, y_train):.4}')\n",
    "    print(f'Validation = {m.score(x_val, y_val):.4}')\n",
    "    \n",
    "score()    "
   ]
  },
  {
   "cell_type": "code",
   "execution_count": 182,
   "metadata": {
    "scrolled": true
   },
   "outputs": [
    {
     "name": "stdout",
     "output_type": "stream",
     "text": [
      "(10, 6513)\n"
     ]
    },
    {
     "data": {
      "text/plain": [
       "array([[0., 1., 1., ..., 1., 0., 0.],\n",
       "       [0., 0., 1., ..., 1., 0., 0.],\n",
       "       [0., 0., 0., ..., 1., 0., 0.],\n",
       "       ...,\n",
       "       [0., 1., 1., ..., 1., 0., 0.],\n",
       "       [0., 0., 1., ..., 1., 0., 0.],\n",
       "       [0., 0., 0., ..., 1., 0., 0.]])"
      ]
     },
     "execution_count": 182,
     "metadata": {},
     "output_type": "execute_result"
    }
   ],
   "source": [
    "# El parámetro \"estimators_\" del modelo, contiene los árboles entrenados.\n",
    "# Vamos a obtener las prediciones de cada árbol\n",
    "preds = np.stack([t.predict(x_val) for t in m.estimators_])\n",
    "print(preds.shape)\n",
    "preds"
   ]
  },
  {
   "cell_type": "code",
   "execution_count": 183,
   "metadata": {},
   "outputs": [
    {
     "data": {
      "image/png": "[encoded data removed]",
      "text/plain": [
       "<Figure size 432x288 with 1 Axes>"
      ]
     },
     "metadata": {},
     "output_type": "display_data"
    }
   ],
   "source": [
    "# Veamos el score de cada árbol\n",
    "from sklearn.metrics import accuracy_score\n",
    "\n",
    "accs = [accuracy_score(y_val==' >50K', p) for p in preds]\n",
    "plt.plot(accs, '-o')\n",
    "plt.title('Scores invididuales');"
   ]
  },
  {
   "cell_type": "code",
   "execution_count": 184,
   "metadata": {},
   "outputs": [
    {
     "data": {
      "image/png": "[encoded data removed]",
      "text/plain": [
       "<Figure size 432x288 with 1 Axes>"
      ]
     },
     "metadata": {},
     "output_type": "display_data"
    }
   ],
   "source": [
    "# Ahora veamos el score acumulado\n",
    "acum_accs = [accuracy_score(y_val==' >50K', np.mean(preds[:i+1,:], axis=0) > 0.5) for i in range(len(preds))]\n",
    "plt.plot(acum_accs, '-o')\n",
    "plt.title('Scores acumulados');"
   ]
  },
  {
   "cell_type": "code",
   "execution_count": 186,
   "metadata": {},
   "outputs": [
    {
     "data": {
      "text/plain": [
       "(False, 0.4898979485566356)"
      ]
     },
     "execution_count": 186,
     "metadata": {},
     "output_type": "execute_result"
    }
   ],
   "source": [
    "# Usemos los árboles para obtener una predicción con una estimación de confianza.\n",
    "sample = x_val.sample(1)\n",
    "\n",
    "pred = np.stack([t.predict(sample) for t in m.estimators_])\n",
    "\n",
    "pred.mean() > 0.5, pred.std()"
   ]
  },
  {
   "cell_type": "code",
   "execution_count": 187,
   "metadata": {},
   "outputs": [
    {
     "data": {
      "text/plain": [
       "array([[0.],\n",
       "       [0.],\n",
       "       [0.],\n",
       "       [0.],\n",
       "       [1.],\n",
       "       [1.],\n",
       "       [0.],\n",
       "       [1.],\n",
       "       [0.],\n",
       "       [1.]])"
      ]
     },
     "execution_count": 187,
     "metadata": {},
     "output_type": "execute_result"
    }
   ],
   "source": [
    "pred"
   ]
  },
  {
   "cell_type": "markdown",
   "metadata": {},
   "source": [
    "## Out-of-bag (OOB) score"
   ]
  },
  {
   "cell_type": "markdown",
   "metadata": {},
   "source": [
    "¿Nuestra validación es peor en el conjunto de validación debido a overfitting, o es porque el conjunto de validación es para un período de tiempo diferente, o un poco de ambos?\n",
    "\n",
    "Con la información existente que hemos mostrado, no podemos decirlo. Sin embargo, los bosques aleatorios tienen un truco muy ingenioso: oobs core (error fuera de la bolsa).\n",
    "\n",
    "La idea es calcular el error en el conjunto de entrenamiento, donde la predicción de cada elemento se haga sólo por los árboles que no lo incluyeron en su entrenamiento. Esto nos permite ver si el modelo se ajusta demasiado, sin necesidad de un conjunto de validación por separado."
   ]
  },
  {
   "cell_type": "code",
   "execution_count": 188,
   "metadata": {},
   "outputs": [
    {
     "data": {
      "text/plain": [
       "RandomForestClassifier(bootstrap=True, class_weight=None, criterion='gini',\n",
       "            max_depth=None, max_features='auto', max_leaf_nodes=None,\n",
       "            min_impurity_decrease=0.0, min_impurity_split=None,\n",
       "            min_samples_leaf=1, min_samples_split=2,\n",
       "            min_weight_fraction_leaf=0.0, n_estimators=40, n_jobs=-1,\n",
       "            oob_score=True, random_state=None, verbose=0, warm_start=False)"
      ]
     },
     "execution_count": 188,
     "metadata": {},
     "output_type": "execute_result"
    }
   ],
   "source": [
    "m = RandomForestClassifier(n_estimators=40, n_jobs=-1, oob_score=True)\n",
    "m.fit(x_train, y_train)"
   ]
  },
  {
   "cell_type": "code",
   "execution_count": 189,
   "metadata": {},
   "outputs": [
    {
     "data": {
      "text/plain": [
       "0.8504683660933661"
      ]
     },
     "execution_count": 189,
     "metadata": {},
     "output_type": "execute_result"
    }
   ],
   "source": [
    "m.oob_score_"
   ]
  },
  {
   "cell_type": "code",
   "execution_count": 190,
   "metadata": {},
   "outputs": [
    {
     "name": "stdout",
     "output_type": "stream",
     "text": [
      "Scores:\n",
      "Train      = 0.9993\n",
      "Validation = 0.862\n",
      "OOB        = 0.8505\n"
     ]
    }
   ],
   "source": [
    "# Vamos a modificar la función score, para incluir el oob score.\n",
    "def score():\n",
    "    print(f'Scores:')\n",
    "    print(f'Train      = {m.score(x_train, y_train):.4}')\n",
    "    print(f'Validation = {m.score(x_val, y_val):.4}')\n",
    "    if hasattr(m, 'oob_score_'): print(f'OOB        = {m.oob_score_:.4}')\n",
    "    \n",
    "score()    "
   ]
  },
  {
   "cell_type": "markdown",
   "metadata": {},
   "source": [
    "**Algunos paŕametros importantes al crear un Random Forest:**\n",
    "* n_estimators: cantidad de árboles\n",
    "* max_depth: la máxima profundidad de cada árbol\n",
    "* min_samples_leaf: cantidad de muestras mínimas para que puede tener una rama.\n",
    "* max_features: cantidad de columnas que ve cada árbol."
   ]
  },
  {
   "cell_type": "markdown",
   "metadata": {},
   "source": [
    "# Regresión"
   ]
  },
  {
   "cell_type": "markdown",
   "metadata": {},
   "source": [
    "House Sales Prediction Data Set: https://www.kaggle.com/harlfoxem/housesalesprediction/home\n",
    "\n",
    "Abstract: This dataset contains house sale prices for King County, which includes Seattle. It includes homes sold between May 2014 and May 2015."
   ]
  },
  {
   "cell_type": "markdown",
   "metadata": {},
   "source": [
    "- **id**: a notation for a house\n",
    "- **date**: Date house was sold\n",
    "- **price**: Price is prediction target\n",
    "- **bedrooms**: Number of Bedrooms/House\n",
    "- **bathrooms**: Number of bathrooms/bedrooms\n",
    "- **sqft_living**: square footage of the home\n",
    "- **sqft_lot**: square footage of the lot\n",
    "- **floors**: Total floors (levels) in house\n",
    "- **waterfront**: House which has a view to a waterfront\n",
    "- **view**: Has been viewed\n",
    "- **condition**: How good the condition is ( Overall )\n",
    "- **grade**: overall grade given to the housing unit, based on King County grading system\n",
    "- **sqft_above**: square footage of house apart from basement\n",
    "- **sqft_basement**: square footage of the basement\n",
    "- **yr_built**: Built Year\n",
    "- **yr_renovated**: Year when house was renovated\n",
    "- **zipcode**: zip\n",
    "- **lat**: Latitude coordinate\n",
    "- **long**: Longitude coordinate\n",
    "- **sqft_living15**: Living room area in 2015(implies-- some renovations) This might or might not have affected the lotsize area\n",
    "- **sqft_lot15**: lotSize area in 2015(implies-- some renovations)"
   ]
  },
  {
   "cell_type": "code",
   "execution_count": 303,
   "metadata": {},
   "outputs": [
    {
     "name": "stdout",
     "output_type": "stream",
     "text": [
      "(21613, 21)\n"
     ]
    },
    {
     "data": {
      "text/html": [
       "<div>\n",
       "<style scoped>\n",
       "    .dataframe tbody tr th:only-of-type {\n",
       "        vertical-align: middle;\n",
       "    }\n",
       "\n",
       "    .dataframe tbody tr th {\n",
       "        vertical-align: top;\n",
       "    }\n",
       "\n",
       "    .dataframe thead th {\n",
       "        text-align: right;\n",
       "    }\n",
       "</style>\n",
       "<table border=\"1\" class=\"dataframe\">\n",
       "  <thead>\n",
       "    <tr style=\"text-align: right;\">\n",
       "      <th></th>\n",
       "      <th>id</th>\n",
       "      <th>date</th>\n",
       "      <th>price</th>\n",
       "      <th>bedrooms</th>\n",
       "      <th>bathrooms</th>\n",
       "      <th>sqft_living</th>\n",
       "      <th>sqft_lot</th>\n",
       "      <th>floors</th>\n",
       "      <th>waterfront</th>\n",
       "      <th>view</th>\n",
       "      <th>condition</th>\n",
       "      <th>grade</th>\n",
       "      <th>sqft_above</th>\n",
       "      <th>sqft_basement</th>\n",
       "      <th>yr_built</th>\n",
       "      <th>yr_renovated</th>\n",
       "      <th>zipcode</th>\n",
       "      <th>lat</th>\n",
       "      <th>long</th>\n",
       "      <th>sqft_living15</th>\n",
       "      <th>sqft_lot15</th>\n",
       "    </tr>\n",
       "  </thead>\n",
       "  <tbody>\n",
       "    <tr>\n",
       "      <th>0</th>\n",
       "      <td>7129300520</td>\n",
       "      <td>2014-10-13</td>\n",
       "      <td>221900.0</td>\n",
       "      <td>3</td>\n",
       "      <td>1.00</td>\n",
       "      <td>1180</td>\n",
       "      <td>5650</td>\n",
       "      <td>1.0</td>\n",
       "      <td>0</td>\n",
       "      <td>0</td>\n",
       "      <td>3</td>\n",
       "      <td>7</td>\n",
       "      <td>1180</td>\n",
       "      <td>0</td>\n",
       "      <td>1955</td>\n",
       "      <td>0</td>\n",
       "      <td>98178</td>\n",
       "      <td>47.5112</td>\n",
       "      <td>-122.257</td>\n",
       "      <td>1340</td>\n",
       "      <td>5650</td>\n",
       "    </tr>\n",
       "    <tr>\n",
       "      <th>1</th>\n",
       "      <td>6414100192</td>\n",
       "      <td>2014-12-09</td>\n",
       "      <td>538000.0</td>\n",
       "      <td>3</td>\n",
       "      <td>2.25</td>\n",
       "      <td>2570</td>\n",
       "      <td>7242</td>\n",
       "      <td>2.0</td>\n",
       "      <td>0</td>\n",
       "      <td>0</td>\n",
       "      <td>3</td>\n",
       "      <td>7</td>\n",
       "      <td>2170</td>\n",
       "      <td>400</td>\n",
       "      <td>1951</td>\n",
       "      <td>1991</td>\n",
       "      <td>98125</td>\n",
       "      <td>47.7210</td>\n",
       "      <td>-122.319</td>\n",
       "      <td>1690</td>\n",
       "      <td>7639</td>\n",
       "    </tr>\n",
       "    <tr>\n",
       "      <th>2</th>\n",
       "      <td>5631500400</td>\n",
       "      <td>2015-02-25</td>\n",
       "      <td>180000.0</td>\n",
       "      <td>2</td>\n",
       "      <td>1.00</td>\n",
       "      <td>770</td>\n",
       "      <td>10000</td>\n",
       "      <td>1.0</td>\n",
       "      <td>0</td>\n",
       "      <td>0</td>\n",
       "      <td>3</td>\n",
       "      <td>6</td>\n",
       "      <td>770</td>\n",
       "      <td>0</td>\n",
       "      <td>1933</td>\n",
       "      <td>0</td>\n",
       "      <td>98028</td>\n",
       "      <td>47.7379</td>\n",
       "      <td>-122.233</td>\n",
       "      <td>2720</td>\n",
       "      <td>8062</td>\n",
       "    </tr>\n",
       "    <tr>\n",
       "      <th>3</th>\n",
       "      <td>2487200875</td>\n",
       "      <td>2014-12-09</td>\n",
       "      <td>604000.0</td>\n",
       "      <td>4</td>\n",
       "      <td>3.00</td>\n",
       "      <td>1960</td>\n",
       "      <td>5000</td>\n",
       "      <td>1.0</td>\n",
       "      <td>0</td>\n",
       "      <td>0</td>\n",
       "      <td>5</td>\n",
       "      <td>7</td>\n",
       "      <td>1050</td>\n",
       "      <td>910</td>\n",
       "      <td>1965</td>\n",
       "      <td>0</td>\n",
       "      <td>98136</td>\n",
       "      <td>47.5208</td>\n",
       "      <td>-122.393</td>\n",
       "      <td>1360</td>\n",
       "      <td>5000</td>\n",
       "    </tr>\n",
       "    <tr>\n",
       "      <th>4</th>\n",
       "      <td>1954400510</td>\n",
       "      <td>2015-02-18</td>\n",
       "      <td>510000.0</td>\n",
       "      <td>3</td>\n",
       "      <td>2.00</td>\n",
       "      <td>1680</td>\n",
       "      <td>8080</td>\n",
       "      <td>1.0</td>\n",
       "      <td>0</td>\n",
       "      <td>0</td>\n",
       "      <td>3</td>\n",
       "      <td>8</td>\n",
       "      <td>1680</td>\n",
       "      <td>0</td>\n",
       "      <td>1987</td>\n",
       "      <td>0</td>\n",
       "      <td>98074</td>\n",
       "      <td>47.6168</td>\n",
       "      <td>-122.045</td>\n",
       "      <td>1800</td>\n",
       "      <td>7503</td>\n",
       "    </tr>\n",
       "  </tbody>\n",
       "</table>\n",
       "</div>"
      ],
      "text/plain": [
       "           id       date     price  bedrooms  bathrooms  sqft_living  \\\n",
       "0  7129300520 2014-10-13  221900.0         3       1.00         1180   \n",
       "1  6414100192 2014-12-09  538000.0         3       2.25         2570   \n",
       "2  5631500400 2015-02-25  180000.0         2       1.00          770   \n",
       "3  2487200875 2014-12-09  604000.0         4       3.00         1960   \n",
       "4  1954400510 2015-02-18  510000.0         3       2.00         1680   \n",
       "\n",
       "   sqft_lot  floors  waterfront  view  condition  grade  sqft_above  \\\n",
       "0      5650     1.0           0     0          3      7        1180   \n",
       "1      7242     2.0           0     0          3      7        2170   \n",
       "2     10000     1.0           0     0          3      6         770   \n",
       "3      5000     1.0           0     0          5      7        1050   \n",
       "4      8080     1.0           0     0          3      8        1680   \n",
       "\n",
       "   sqft_basement  yr_built  yr_renovated  zipcode      lat     long  \\\n",
       "0              0      1955             0    98178  47.5112 -122.257   \n",
       "1            400      1951          1991    98125  47.7210 -122.319   \n",
       "2              0      1933             0    98028  47.7379 -122.233   \n",
       "3            910      1965             0    98136  47.5208 -122.393   \n",
       "4              0      1987             0    98074  47.6168 -122.045   \n",
       "\n",
       "   sqft_living15  sqft_lot15  \n",
       "0           1340        5650  \n",
       "1           1690        7639  \n",
       "2           2720        8062  \n",
       "3           1360        5000  \n",
       "4           1800        7503  "
      ]
     },
     "execution_count": 303,
     "metadata": {},
     "output_type": "execute_result"
    }
   ],
   "source": [
    "df_raw = pd.read_csv('data/kc_house_data.csv', parse_dates=['date'])\n",
    "print(df_raw.shape)\n",
    "df_raw.head()"
   ]
  },
  {
   "cell_type": "code",
   "execution_count": 304,
   "metadata": {},
   "outputs": [
    {
     "data": {
      "text/html": [
       "<div>\n",
       "<style scoped>\n",
       "    .dataframe tbody tr th:only-of-type {\n",
       "        vertical-align: middle;\n",
       "    }\n",
       "\n",
       "    .dataframe tbody tr th {\n",
       "        vertical-align: top;\n",
       "    }\n",
       "\n",
       "    .dataframe thead th {\n",
       "        text-align: right;\n",
       "    }\n",
       "</style>\n",
       "<table border=\"1\" class=\"dataframe\">\n",
       "  <thead>\n",
       "    <tr style=\"text-align: right;\">\n",
       "      <th></th>\n",
       "      <th>date</th>\n",
       "      <th>price</th>\n",
       "      <th>bedrooms</th>\n",
       "      <th>bathrooms</th>\n",
       "      <th>sqft_living</th>\n",
       "      <th>sqft_lot</th>\n",
       "      <th>floors</th>\n",
       "      <th>waterfront</th>\n",
       "      <th>view</th>\n",
       "      <th>condition</th>\n",
       "      <th>grade</th>\n",
       "      <th>sqft_above</th>\n",
       "      <th>sqft_basement</th>\n",
       "      <th>yr_built</th>\n",
       "      <th>yr_renovated</th>\n",
       "      <th>zipcode</th>\n",
       "      <th>lat</th>\n",
       "      <th>long</th>\n",
       "      <th>sqft_living15</th>\n",
       "      <th>sqft_lot15</th>\n",
       "    </tr>\n",
       "  </thead>\n",
       "  <tbody>\n",
       "    <tr>\n",
       "      <th>0</th>\n",
       "      <td>2014-10-13</td>\n",
       "      <td>221900.0</td>\n",
       "      <td>3</td>\n",
       "      <td>1.00</td>\n",
       "      <td>1180</td>\n",
       "      <td>5650</td>\n",
       "      <td>1.0</td>\n",
       "      <td>0</td>\n",
       "      <td>0</td>\n",
       "      <td>3</td>\n",
       "      <td>7</td>\n",
       "      <td>1180</td>\n",
       "      <td>0</td>\n",
       "      <td>1955</td>\n",
       "      <td>0</td>\n",
       "      <td>98178</td>\n",
       "      <td>47.5112</td>\n",
       "      <td>-122.257</td>\n",
       "      <td>1340</td>\n",
       "      <td>5650</td>\n",
       "    </tr>\n",
       "    <tr>\n",
       "      <th>1</th>\n",
       "      <td>2014-12-09</td>\n",
       "      <td>538000.0</td>\n",
       "      <td>3</td>\n",
       "      <td>2.25</td>\n",
       "      <td>2570</td>\n",
       "      <td>7242</td>\n",
       "      <td>2.0</td>\n",
       "      <td>0</td>\n",
       "      <td>0</td>\n",
       "      <td>3</td>\n",
       "      <td>7</td>\n",
       "      <td>2170</td>\n",
       "      <td>400</td>\n",
       "      <td>1951</td>\n",
       "      <td>1991</td>\n",
       "      <td>98125</td>\n",
       "      <td>47.7210</td>\n",
       "      <td>-122.319</td>\n",
       "      <td>1690</td>\n",
       "      <td>7639</td>\n",
       "    </tr>\n",
       "    <tr>\n",
       "      <th>2</th>\n",
       "      <td>2015-02-25</td>\n",
       "      <td>180000.0</td>\n",
       "      <td>2</td>\n",
       "      <td>1.00</td>\n",
       "      <td>770</td>\n",
       "      <td>10000</td>\n",
       "      <td>1.0</td>\n",
       "      <td>0</td>\n",
       "      <td>0</td>\n",
       "      <td>3</td>\n",
       "      <td>6</td>\n",
       "      <td>770</td>\n",
       "      <td>0</td>\n",
       "      <td>1933</td>\n",
       "      <td>0</td>\n",
       "      <td>98028</td>\n",
       "      <td>47.7379</td>\n",
       "      <td>-122.233</td>\n",
       "      <td>2720</td>\n",
       "      <td>8062</td>\n",
       "    </tr>\n",
       "    <tr>\n",
       "      <th>3</th>\n",
       "      <td>2014-12-09</td>\n",
       "      <td>604000.0</td>\n",
       "      <td>4</td>\n",
       "      <td>3.00</td>\n",
       "      <td>1960</td>\n",
       "      <td>5000</td>\n",
       "      <td>1.0</td>\n",
       "      <td>0</td>\n",
       "      <td>0</td>\n",
       "      <td>5</td>\n",
       "      <td>7</td>\n",
       "      <td>1050</td>\n",
       "      <td>910</td>\n",
       "      <td>1965</td>\n",
       "      <td>0</td>\n",
       "      <td>98136</td>\n",
       "      <td>47.5208</td>\n",
       "      <td>-122.393</td>\n",
       "      <td>1360</td>\n",
       "      <td>5000</td>\n",
       "    </tr>\n",
       "    <tr>\n",
       "      <th>4</th>\n",
       "      <td>2015-02-18</td>\n",
       "      <td>510000.0</td>\n",
       "      <td>3</td>\n",
       "      <td>2.00</td>\n",
       "      <td>1680</td>\n",
       "      <td>8080</td>\n",
       "      <td>1.0</td>\n",
       "      <td>0</td>\n",
       "      <td>0</td>\n",
       "      <td>3</td>\n",
       "      <td>8</td>\n",
       "      <td>1680</td>\n",
       "      <td>0</td>\n",
       "      <td>1987</td>\n",
       "      <td>0</td>\n",
       "      <td>98074</td>\n",
       "      <td>47.6168</td>\n",
       "      <td>-122.045</td>\n",
       "      <td>1800</td>\n",
       "      <td>7503</td>\n",
       "    </tr>\n",
       "  </tbody>\n",
       "</table>\n",
       "</div>"
      ],
      "text/plain": [
       "        date     price  bedrooms  bathrooms  sqft_living  sqft_lot  floors  \\\n",
       "0 2014-10-13  221900.0         3       1.00         1180      5650     1.0   \n",
       "1 2014-12-09  538000.0         3       2.25         2570      7242     2.0   \n",
       "2 2015-02-25  180000.0         2       1.00          770     10000     1.0   \n",
       "3 2014-12-09  604000.0         4       3.00         1960      5000     1.0   \n",
       "4 2015-02-18  510000.0         3       2.00         1680      8080     1.0   \n",
       "\n",
       "   waterfront  view  condition  grade  sqft_above  sqft_basement  yr_built  \\\n",
       "0           0     0          3      7        1180              0      1955   \n",
       "1           0     0          3      7        2170            400      1951   \n",
       "2           0     0          3      6         770              0      1933   \n",
       "3           0     0          5      7        1050            910      1965   \n",
       "4           0     0          3      8        1680              0      1987   \n",
       "\n",
       "   yr_renovated  zipcode      lat     long  sqft_living15  sqft_lot15  \n",
       "0             0    98178  47.5112 -122.257           1340        5650  \n",
       "1          1991    98125  47.7210 -122.319           1690        7639  \n",
       "2             0    98028  47.7379 -122.233           2720        8062  \n",
       "3             0    98136  47.5208 -122.393           1360        5000  \n",
       "4             0    98074  47.6168 -122.045           1800        7503  "
      ]
     },
     "execution_count": 304,
     "metadata": {},
     "output_type": "execute_result"
    }
   ],
   "source": [
    "# Borramos la variable \"id\"\n",
    "df_raw.drop('id', axis=1, inplace=True)\n",
    "df_raw.head()"
   ]
  },
  {
   "cell_type": "markdown",
   "metadata": {},
   "source": [
    "## Preprocess"
   ]
  },
  {
   "cell_type": "markdown",
   "metadata": {},
   "source": [
    "### El target"
   ]
  },
  {
   "cell_type": "code",
   "execution_count": 305,
   "metadata": {},
   "outputs": [
    {
     "data": {
      "image/png": "[encoded data removed]",
      "text/plain": [
       "<Figure size 864x216 with 1 Axes>"
      ]
     },
     "metadata": {},
     "output_type": "display_data"
    }
   ],
   "source": [
    "plt.figure(figsize=(12,3))\n",
    "sns.distplot(df_raw.price);"
   ]
  },
  {
   "cell_type": "code",
   "execution_count": 306,
   "metadata": {},
   "outputs": [
    {
     "data": {
      "image/png": "[encoded data removed]",
      "text/plain": [
       "<Figure size 864x216 with 1 Axes>"
      ]
     },
     "metadata": {},
     "output_type": "display_data"
    }
   ],
   "source": [
    "plt.figure(figsize=(12,3))\n",
    "sns.distplot(np.log(df_raw.price));"
   ]
  },
  {
   "cell_type": "markdown",
   "metadata": {},
   "source": [
    "Es importante tener en cuenta lo que estamos evaluando, en el caso de precios es bastante común tener mayor interes en el ratio del error que en el valor del error.\n",
    "\n",
    "* La predicción fallo en S/.10 vs la predicción fallo en 10%.\n",
    "* Un error de S/.100 en un precio de S/.1,000,000 vs un error de S/.100 en un precio de S/.1000.\n",
    "\n",
    "Por eso vamos a considerar el **log** del precio."
   ]
  },
  {
   "cell_type": "code",
   "execution_count": 307,
   "metadata": {},
   "outputs": [
    {
     "data": {
      "text/html": [
       "<div>\n",
       "<style scoped>\n",
       "    .dataframe tbody tr th:only-of-type {\n",
       "        vertical-align: middle;\n",
       "    }\n",
       "\n",
       "    .dataframe tbody tr th {\n",
       "        vertical-align: top;\n",
       "    }\n",
       "\n",
       "    .dataframe thead th {\n",
       "        text-align: right;\n",
       "    }\n",
       "</style>\n",
       "<table border=\"1\" class=\"dataframe\">\n",
       "  <thead>\n",
       "    <tr style=\"text-align: right;\">\n",
       "      <th></th>\n",
       "      <th>date</th>\n",
       "      <th>price</th>\n",
       "      <th>bedrooms</th>\n",
       "      <th>bathrooms</th>\n",
       "      <th>sqft_living</th>\n",
       "      <th>sqft_lot</th>\n",
       "      <th>floors</th>\n",
       "      <th>waterfront</th>\n",
       "      <th>view</th>\n",
       "      <th>condition</th>\n",
       "      <th>grade</th>\n",
       "      <th>sqft_above</th>\n",
       "      <th>sqft_basement</th>\n",
       "      <th>yr_built</th>\n",
       "      <th>yr_renovated</th>\n",
       "      <th>zipcode</th>\n",
       "      <th>lat</th>\n",
       "      <th>long</th>\n",
       "      <th>sqft_living15</th>\n",
       "      <th>sqft_lot15</th>\n",
       "    </tr>\n",
       "  </thead>\n",
       "  <tbody>\n",
       "    <tr>\n",
       "      <th>0</th>\n",
       "      <td>2014-10-13</td>\n",
       "      <td>12.309982</td>\n",
       "      <td>3</td>\n",
       "      <td>1.00</td>\n",
       "      <td>1180</td>\n",
       "      <td>5650</td>\n",
       "      <td>1.0</td>\n",
       "      <td>0</td>\n",
       "      <td>0</td>\n",
       "      <td>3</td>\n",
       "      <td>7</td>\n",
       "      <td>1180</td>\n",
       "      <td>0</td>\n",
       "      <td>1955</td>\n",
       "      <td>0</td>\n",
       "      <td>98178</td>\n",
       "      <td>47.5112</td>\n",
       "      <td>-122.257</td>\n",
       "      <td>1340</td>\n",
       "      <td>5650</td>\n",
       "    </tr>\n",
       "    <tr>\n",
       "      <th>1</th>\n",
       "      <td>2014-12-09</td>\n",
       "      <td>13.195614</td>\n",
       "      <td>3</td>\n",
       "      <td>2.25</td>\n",
       "      <td>2570</td>\n",
       "      <td>7242</td>\n",
       "      <td>2.0</td>\n",
       "      <td>0</td>\n",
       "      <td>0</td>\n",
       "      <td>3</td>\n",
       "      <td>7</td>\n",
       "      <td>2170</td>\n",
       "      <td>400</td>\n",
       "      <td>1951</td>\n",
       "      <td>1991</td>\n",
       "      <td>98125</td>\n",
       "      <td>47.7210</td>\n",
       "      <td>-122.319</td>\n",
       "      <td>1690</td>\n",
       "      <td>7639</td>\n",
       "    </tr>\n",
       "    <tr>\n",
       "      <th>2</th>\n",
       "      <td>2015-02-25</td>\n",
       "      <td>12.100712</td>\n",
       "      <td>2</td>\n",
       "      <td>1.00</td>\n",
       "      <td>770</td>\n",
       "      <td>10000</td>\n",
       "      <td>1.0</td>\n",
       "      <td>0</td>\n",
       "      <td>0</td>\n",
       "      <td>3</td>\n",
       "      <td>6</td>\n",
       "      <td>770</td>\n",
       "      <td>0</td>\n",
       "      <td>1933</td>\n",
       "      <td>0</td>\n",
       "      <td>98028</td>\n",
       "      <td>47.7379</td>\n",
       "      <td>-122.233</td>\n",
       "      <td>2720</td>\n",
       "      <td>8062</td>\n",
       "    </tr>\n",
       "    <tr>\n",
       "      <th>3</th>\n",
       "      <td>2014-12-09</td>\n",
       "      <td>13.311329</td>\n",
       "      <td>4</td>\n",
       "      <td>3.00</td>\n",
       "      <td>1960</td>\n",
       "      <td>5000</td>\n",
       "      <td>1.0</td>\n",
       "      <td>0</td>\n",
       "      <td>0</td>\n",
       "      <td>5</td>\n",
       "      <td>7</td>\n",
       "      <td>1050</td>\n",
       "      <td>910</td>\n",
       "      <td>1965</td>\n",
       "      <td>0</td>\n",
       "      <td>98136</td>\n",
       "      <td>47.5208</td>\n",
       "      <td>-122.393</td>\n",
       "      <td>1360</td>\n",
       "      <td>5000</td>\n",
       "    </tr>\n",
       "    <tr>\n",
       "      <th>4</th>\n",
       "      <td>2015-02-18</td>\n",
       "      <td>13.142166</td>\n",
       "      <td>3</td>\n",
       "      <td>2.00</td>\n",
       "      <td>1680</td>\n",
       "      <td>8080</td>\n",
       "      <td>1.0</td>\n",
       "      <td>0</td>\n",
       "      <td>0</td>\n",
       "      <td>3</td>\n",
       "      <td>8</td>\n",
       "      <td>1680</td>\n",
       "      <td>0</td>\n",
       "      <td>1987</td>\n",
       "      <td>0</td>\n",
       "      <td>98074</td>\n",
       "      <td>47.6168</td>\n",
       "      <td>-122.045</td>\n",
       "      <td>1800</td>\n",
       "      <td>7503</td>\n",
       "    </tr>\n",
       "  </tbody>\n",
       "</table>\n",
       "</div>"
      ],
      "text/plain": [
       "        date      price  bedrooms  bathrooms  sqft_living  sqft_lot  floors  \\\n",
       "0 2014-10-13  12.309982         3       1.00         1180      5650     1.0   \n",
       "1 2014-12-09  13.195614         3       2.25         2570      7242     2.0   \n",
       "2 2015-02-25  12.100712         2       1.00          770     10000     1.0   \n",
       "3 2014-12-09  13.311329         4       3.00         1960      5000     1.0   \n",
       "4 2015-02-18  13.142166         3       2.00         1680      8080     1.0   \n",
       "\n",
       "   waterfront  view  condition  grade  sqft_above  sqft_basement  yr_built  \\\n",
       "0           0     0          3      7        1180              0      1955   \n",
       "1           0     0          3      7        2170            400      1951   \n",
       "2           0     0          3      6         770              0      1933   \n",
       "3           0     0          5      7        1050            910      1965   \n",
       "4           0     0          3      8        1680              0      1987   \n",
       "\n",
       "   yr_renovated  zipcode      lat     long  sqft_living15  sqft_lot15  \n",
       "0             0    98178  47.5112 -122.257           1340        5650  \n",
       "1          1991    98125  47.7210 -122.319           1690        7639  \n",
       "2             0    98028  47.7379 -122.233           2720        8062  \n",
       "3             0    98136  47.5208 -122.393           1360        5000  \n",
       "4             0    98074  47.6168 -122.045           1800        7503  "
      ]
     },
     "execution_count": 307,
     "metadata": {},
     "output_type": "execute_result"
    }
   ],
   "source": [
    "df_raw.price = np.log(df_raw.price)\n",
    "df_raw.head()"
   ]
  },
  {
   "cell_type": "markdown",
   "metadata": {},
   "source": [
    "### Fechas"
   ]
  },
  {
   "cell_type": "code",
   "execution_count": 308,
   "metadata": {},
   "outputs": [
    {
     "data": {
      "text/plain": [
       "count                   21613\n",
       "unique                    372\n",
       "top       2014-06-23 00:00:00\n",
       "freq                      142\n",
       "first     2014-05-02 00:00:00\n",
       "last      2015-05-27 00:00:00\n",
       "Name: date, dtype: object"
      ]
     },
     "execution_count": 308,
     "metadata": {},
     "output_type": "execute_result"
    }
   ],
   "source": [
    "df_raw.date.describe()"
   ]
  },
  {
   "cell_type": "code",
   "execution_count": 309,
   "metadata": {},
   "outputs": [
    {
     "data": {
      "text/plain": [
       "0    2014\n",
       "1    2014\n",
       "2    2015\n",
       "3    2014\n",
       "4    2015\n",
       "Name: date, dtype: int64"
      ]
     },
     "execution_count": 309,
     "metadata": {},
     "output_type": "execute_result"
    }
   ],
   "source": [
    "# Podemos usar \"dt\" para acceder a los métodos de fechas.\n",
    "df_raw.date.dt.year.head()"
   ]
  },
  {
   "cell_type": "code",
   "execution_count": 310,
   "metadata": {},
   "outputs": [
    {
     "data": {
      "text/plain": [
       "0    2014\n",
       "1    2014\n",
       "2    2015\n",
       "3    2014\n",
       "4    2015\n",
       "Name: date, dtype: int64"
      ]
     },
     "execution_count": 310,
     "metadata": {},
     "output_type": "execute_result"
    }
   ],
   "source": [
    "# Si queremos acceder al atributo \"year\" desde una variable string usamos \"getattr()\"\n",
    "getattr(df_raw.date.dt, \"year\").head()"
   ]
  },
  {
   "cell_type": "code",
   "execution_count": 311,
   "metadata": {},
   "outputs": [
    {
     "data": {
      "text/html": [
       "<div>\n",
       "<style scoped>\n",
       "    .dataframe tbody tr th:only-of-type {\n",
       "        vertical-align: middle;\n",
       "    }\n",
       "\n",
       "    .dataframe tbody tr th {\n",
       "        vertical-align: top;\n",
       "    }\n",
       "\n",
       "    .dataframe thead th {\n",
       "        text-align: right;\n",
       "    }\n",
       "</style>\n",
       "<table border=\"1\" class=\"dataframe\">\n",
       "  <thead>\n",
       "    <tr style=\"text-align: right;\">\n",
       "      <th></th>\n",
       "      <th>price</th>\n",
       "      <th>bedrooms</th>\n",
       "      <th>bathrooms</th>\n",
       "      <th>sqft_living</th>\n",
       "      <th>sqft_lot</th>\n",
       "      <th>floors</th>\n",
       "      <th>waterfront</th>\n",
       "      <th>view</th>\n",
       "      <th>condition</th>\n",
       "      <th>grade</th>\n",
       "      <th>sqft_above</th>\n",
       "      <th>sqft_basement</th>\n",
       "      <th>yr_built</th>\n",
       "      <th>yr_renovated</th>\n",
       "      <th>zipcode</th>\n",
       "      <th>lat</th>\n",
       "      <th>long</th>\n",
       "      <th>sqft_living15</th>\n",
       "      <th>sqft_lot15</th>\n",
       "      <th>date_Year</th>\n",
       "      <th>date_Month</th>\n",
       "      <th>date_Week</th>\n",
       "      <th>date_Day</th>\n",
       "      <th>date_Dayofweek</th>\n",
       "      <th>date_Dayofyear</th>\n",
       "      <th>date_Is_month_end</th>\n",
       "      <th>date_Is_month_start</th>\n",
       "      <th>date_Is_quarter_end</th>\n",
       "      <th>date_Is_quarter_start</th>\n",
       "      <th>date_Is_year_end</th>\n",
       "      <th>date_Is_year_start</th>\n",
       "      <th>date_elapsed</th>\n",
       "    </tr>\n",
       "  </thead>\n",
       "  <tbody>\n",
       "    <tr>\n",
       "      <th>0</th>\n",
       "      <td>12.309982</td>\n",
       "      <td>3</td>\n",
       "      <td>1.00</td>\n",
       "      <td>1180</td>\n",
       "      <td>5650</td>\n",
       "      <td>1.0</td>\n",
       "      <td>0</td>\n",
       "      <td>0</td>\n",
       "      <td>3</td>\n",
       "      <td>7</td>\n",
       "      <td>1180</td>\n",
       "      <td>0</td>\n",
       "      <td>1955</td>\n",
       "      <td>0</td>\n",
       "      <td>98178</td>\n",
       "      <td>47.5112</td>\n",
       "      <td>-122.257</td>\n",
       "      <td>1340</td>\n",
       "      <td>5650</td>\n",
       "      <td>2014</td>\n",
       "      <td>10</td>\n",
       "      <td>42</td>\n",
       "      <td>13</td>\n",
       "      <td>0</td>\n",
       "      <td>286</td>\n",
       "      <td>False</td>\n",
       "      <td>False</td>\n",
       "      <td>False</td>\n",
       "      <td>False</td>\n",
       "      <td>False</td>\n",
       "      <td>False</td>\n",
       "      <td>1413158400</td>\n",
       "    </tr>\n",
       "    <tr>\n",
       "      <th>1</th>\n",
       "      <td>13.195614</td>\n",
       "      <td>3</td>\n",
       "      <td>2.25</td>\n",
       "      <td>2570</td>\n",
       "      <td>7242</td>\n",
       "      <td>2.0</td>\n",
       "      <td>0</td>\n",
       "      <td>0</td>\n",
       "      <td>3</td>\n",
       "      <td>7</td>\n",
       "      <td>2170</td>\n",
       "      <td>400</td>\n",
       "      <td>1951</td>\n",
       "      <td>1991</td>\n",
       "      <td>98125</td>\n",
       "      <td>47.7210</td>\n",
       "      <td>-122.319</td>\n",
       "      <td>1690</td>\n",
       "      <td>7639</td>\n",
       "      <td>2014</td>\n",
       "      <td>12</td>\n",
       "      <td>50</td>\n",
       "      <td>9</td>\n",
       "      <td>1</td>\n",
       "      <td>343</td>\n",
       "      <td>False</td>\n",
       "      <td>False</td>\n",
       "      <td>False</td>\n",
       "      <td>False</td>\n",
       "      <td>False</td>\n",
       "      <td>False</td>\n",
       "      <td>1418083200</td>\n",
       "    </tr>\n",
       "    <tr>\n",
       "      <th>2</th>\n",
       "      <td>12.100712</td>\n",
       "      <td>2</td>\n",
       "      <td>1.00</td>\n",
       "      <td>770</td>\n",
       "      <td>10000</td>\n",
       "      <td>1.0</td>\n",
       "      <td>0</td>\n",
       "      <td>0</td>\n",
       "      <td>3</td>\n",
       "      <td>6</td>\n",
       "      <td>770</td>\n",
       "      <td>0</td>\n",
       "      <td>1933</td>\n",
       "      <td>0</td>\n",
       "      <td>98028</td>\n",
       "      <td>47.7379</td>\n",
       "      <td>-122.233</td>\n",
       "      <td>2720</td>\n",
       "      <td>8062</td>\n",
       "      <td>2015</td>\n",
       "      <td>2</td>\n",
       "      <td>9</td>\n",
       "      <td>25</td>\n",
       "      <td>2</td>\n",
       "      <td>56</td>\n",
       "      <td>False</td>\n",
       "      <td>False</td>\n",
       "      <td>False</td>\n",
       "      <td>False</td>\n",
       "      <td>False</td>\n",
       "      <td>False</td>\n",
       "      <td>1424822400</td>\n",
       "    </tr>\n",
       "    <tr>\n",
       "      <th>3</th>\n",
       "      <td>13.311329</td>\n",
       "      <td>4</td>\n",
       "      <td>3.00</td>\n",
       "      <td>1960</td>\n",
       "      <td>5000</td>\n",
       "      <td>1.0</td>\n",
       "      <td>0</td>\n",
       "      <td>0</td>\n",
       "      <td>5</td>\n",
       "      <td>7</td>\n",
       "      <td>1050</td>\n",
       "      <td>910</td>\n",
       "      <td>1965</td>\n",
       "      <td>0</td>\n",
       "      <td>98136</td>\n",
       "      <td>47.5208</td>\n",
       "      <td>-122.393</td>\n",
       "      <td>1360</td>\n",
       "      <td>5000</td>\n",
       "      <td>2014</td>\n",
       "      <td>12</td>\n",
       "      <td>50</td>\n",
       "      <td>9</td>\n",
       "      <td>1</td>\n",
       "      <td>343</td>\n",
       "      <td>False</td>\n",
       "      <td>False</td>\n",
       "      <td>False</td>\n",
       "      <td>False</td>\n",
       "      <td>False</td>\n",
       "      <td>False</td>\n",
       "      <td>1418083200</td>\n",
       "    </tr>\n",
       "    <tr>\n",
       "      <th>4</th>\n",
       "      <td>13.142166</td>\n",
       "      <td>3</td>\n",
       "      <td>2.00</td>\n",
       "      <td>1680</td>\n",
       "      <td>8080</td>\n",
       "      <td>1.0</td>\n",
       "      <td>0</td>\n",
       "      <td>0</td>\n",
       "      <td>3</td>\n",
       "      <td>8</td>\n",
       "      <td>1680</td>\n",
       "      <td>0</td>\n",
       "      <td>1987</td>\n",
       "      <td>0</td>\n",
       "      <td>98074</td>\n",
       "      <td>47.6168</td>\n",
       "      <td>-122.045</td>\n",
       "      <td>1800</td>\n",
       "      <td>7503</td>\n",
       "      <td>2015</td>\n",
       "      <td>2</td>\n",
       "      <td>8</td>\n",
       "      <td>18</td>\n",
       "      <td>2</td>\n",
       "      <td>49</td>\n",
       "      <td>False</td>\n",
       "      <td>False</td>\n",
       "      <td>False</td>\n",
       "      <td>False</td>\n",
       "      <td>False</td>\n",
       "      <td>False</td>\n",
       "      <td>1424217600</td>\n",
       "    </tr>\n",
       "  </tbody>\n",
       "</table>\n",
       "</div>"
      ],
      "text/plain": [
       "       price  bedrooms  bathrooms  sqft_living  sqft_lot  floors  waterfront  \\\n",
       "0  12.309982         3       1.00         1180      5650     1.0           0   \n",
       "1  13.195614         3       2.25         2570      7242     2.0           0   \n",
       "2  12.100712         2       1.00          770     10000     1.0           0   \n",
       "3  13.311329         4       3.00         1960      5000     1.0           0   \n",
       "4  13.142166         3       2.00         1680      8080     1.0           0   \n",
       "\n",
       "   view  condition  grade  sqft_above  sqft_basement  yr_built  yr_renovated  \\\n",
       "0     0          3      7        1180              0      1955             0   \n",
       "1     0          3      7        2170            400      1951          1991   \n",
       "2     0          3      6         770              0      1933             0   \n",
       "3     0          5      7        1050            910      1965             0   \n",
       "4     0          3      8        1680              0      1987             0   \n",
       "\n",
       "   zipcode      lat     long  sqft_living15  sqft_lot15  date_Year  \\\n",
       "0    98178  47.5112 -122.257           1340        5650       2014   \n",
       "1    98125  47.7210 -122.319           1690        7639       2014   \n",
       "2    98028  47.7379 -122.233           2720        8062       2015   \n",
       "3    98136  47.5208 -122.393           1360        5000       2014   \n",
       "4    98074  47.6168 -122.045           1800        7503       2015   \n",
       "\n",
       "   date_Month  date_Week  date_Day  date_Dayofweek  date_Dayofyear  \\\n",
       "0          10         42        13               0             286   \n",
       "1          12         50         9               1             343   \n",
       "2           2          9        25               2              56   \n",
       "3          12         50         9               1             343   \n",
       "4           2          8        18               2              49   \n",
       "\n",
       "   date_Is_month_end  date_Is_month_start  date_Is_quarter_end  \\\n",
       "0              False                False                False   \n",
       "1              False                False                False   \n",
       "2              False                False                False   \n",
       "3              False                False                False   \n",
       "4              False                False                False   \n",
       "\n",
       "   date_Is_quarter_start  date_Is_year_end  date_Is_year_start  date_elapsed  \n",
       "0                  False             False               False    1413158400  \n",
       "1                  False             False               False    1418083200  \n",
       "2                  False             False               False    1424822400  \n",
       "3                  False             False               False    1418083200  \n",
       "4                  False             False               False    1424217600  "
      ]
     },
     "execution_count": 311,
     "metadata": {},
     "output_type": "execute_result"
    }
   ],
   "source": [
    "# 1. Vamos a extrarer los parámetros útiles que se pueden extraer de fechas\n",
    "date_attr = ['Year', 'Month', 'Week', 'Day', 'Dayofweek', 'Dayofyear', 'Is_month_end',\n",
    "             'Is_month_start', 'Is_quarter_end', 'Is_quarter_start', 'Is_year_end', 'Is_year_start']\n",
    "\n",
    "for n in date_attr:\n",
    "    df_raw['date_' + n] = getattr(df_raw['date'].dt, n.lower())\n",
    "\n",
    "# 2. Agregamos una columan con una representación numérica de la fecha\n",
    "df_raw['date_elapsed'] = df_raw['date'].astype(np.int64) // 10 ** 9\n",
    "\n",
    "\n",
    "# 3. Eliminamos la variable date\n",
    "df_raw.drop('date', axis=1, inplace=True)\n",
    "\n",
    "df_raw.head()"
   ]
  },
  {
   "cell_type": "code",
   "execution_count": 312,
   "metadata": {},
   "outputs": [
    {
     "data": {
      "text/plain": [
       "date_Year                  2\n",
       "date_Month                12\n",
       "date_Week                 52\n",
       "date_Day                  31\n",
       "date_Dayofweek             7\n",
       "date_Dayofyear           356\n",
       "date_Is_month_end          2\n",
       "date_Is_month_start        2\n",
       "date_Is_quarter_end        2\n",
       "date_Is_quarter_start      2\n",
       "date_Is_year_end           2\n",
       "date_Is_year_start         1\n",
       "dtype: int64"
      ]
     },
     "execution_count": 312,
     "metadata": {},
     "output_type": "execute_result"
    }
   ],
   "source": [
    "# Veamos la cantidad de valores únicos de las variables que hemos creado\n",
    "df_raw[['date_'+e for e in date_attr]].nunique()"
   ]
  },
  {
   "cell_type": "code",
   "execution_count": 313,
   "metadata": {},
   "outputs": [],
   "source": [
    "# Vamos a eliminar \"date_Is_year_start\" dado que tiene el mismo valor para todo el dataset\n",
    "df_raw.drop('date_Is_year_start', axis=1, inplace=True)"
   ]
  },
  {
   "cell_type": "markdown",
   "metadata": {},
   "source": [
    "### Train-validation split"
   ]
  },
  {
   "cell_type": "code",
   "execution_count": 314,
   "metadata": {},
   "outputs": [
    {
     "name": "stdout",
     "output_type": "stream",
     "text": [
      "Train shape     : (17290, 30)\n",
      "Validation shape: (4323, 30)\n"
     ]
    }
   ],
   "source": [
    "x = df_raw.drop('price', axis=1)\n",
    "y = df_raw['price']\n",
    "\n",
    "x_train, x_val, y_train, y_val = train_test_split(x, y, test_size=0.2, random_state=42)\n",
    "print(f'Train shape     : {x_train.shape}')\n",
    "print(f'Validation shape: {x_val.shape}')"
   ]
  },
  {
   "cell_type": "markdown",
   "metadata": {},
   "source": [
    "## Entrenar un árbol de regresión"
   ]
  },
  {
   "cell_type": "code",
   "execution_count": 315,
   "metadata": {},
   "outputs": [
    {
     "data": {
      "text/plain": [
       "DecisionTreeRegressor(criterion='mse', max_depth=2, max_features=None,\n",
       "           max_leaf_nodes=None, min_impurity_decrease=0.0,\n",
       "           min_impurity_split=None, min_samples_leaf=1,\n",
       "           min_samples_split=2, min_weight_fraction_leaf=0.0,\n",
       "           presort=False, random_state=None, splitter='best')"
      ]
     },
     "execution_count": 315,
     "metadata": {},
     "output_type": "execute_result"
    }
   ],
   "source": [
    "from sklearn.tree import DecisionTreeRegressor\n",
    "\n",
    "m = DecisionTreeRegressor(max_depth=2)\n",
    "m.fit(x_train, y_train)"
   ]
  },
  {
   "cell_type": "code",
   "execution_count": 316,
   "metadata": {},
   "outputs": [
    {
     "name": "stdout",
     "output_type": "stream",
     "text": [
      "Scores:\n",
      "Train      = 0.5539\n",
      "Validation = 0.5383\n"
     ]
    }
   ],
   "source": [
    "# m.score retorna el coeficiente de determinación de la predicción\n",
    "score()"
   ]
  },
  {
   "cell_type": "code",
   "execution_count": 317,
   "metadata": {},
   "outputs": [
    {
     "data": {
      "text/plain": [
       "(0.1228812589234029, 0.1315939214603434)"
      ]
     },
     "execution_count": 317,
     "metadata": {},
     "output_type": "execute_result"
    }
   ],
   "source": [
    "# veamos el mse\n",
    "from sklearn.metrics import mean_squared_error\n",
    "mean_squared_error(y_train, m.predict(x_train)), mean_squared_error(y_val, m.predict(x_val))"
   ]
  },
  {
   "cell_type": "code",
   "execution_count": 318,
   "metadata": {},
   "outputs": [
    {
     "data": {
      "image/svg+xml": [
       "<?xml version=\"1.0\" encoding=\"UTF-8\" standalone=\"no\"?>\n",
       "<!DOCTYPE svg PUBLIC \"-//W3C//DTD SVG 1.1//EN\"\n",
       " \"http://www.w3.org/Graphics/SVG/1.1/DTD/svg11.dtd\">\n",
       "<!-- Generated by graphviz version 2.38.0 (20140413.2041)\n",
       " -->\n",
       "<!-- Title: Tree Pages: 1 -->\n",
       "<svg width=\"484pt\" height=\"269pt\"\n",
       " viewBox=\"0.00 0.00 483.50 269.00\" xmlns=\"http://www.w3.org/2000/svg\" xmlns:xlink=\"http://www.w3.org/1999/xlink\">\n",
       "<g id=\"graph0\" class=\"graph\" transform=\"scale(1 1) rotate(0) translate(4 265)\">\n",
       "<title>Tree</title>\n",
       "<polygon fill=\"white\" stroke=\"none\" points=\"-4,4 -4,-265 479.5,-265 479.5,4 -4,4\"/>\n",
       "<!-- 0 -->\n",
       "<g id=\"node1\" class=\"node\"><title>0</title>\n",
       "<polygon fill=\"#e58139\" fill-opacity=\"0.301961\" stroke=\"black\" points=\"295,-261 185,-261 185,-193 295,-193 295,-261\"/>\n",
       "<text text-anchor=\"middle\" x=\"240\" y=\"-245.8\" font-family=\"Times,serif\" font-size=\"14.00\">grade &lt;= 8.5</text>\n",
       "<text text-anchor=\"middle\" x=\"240\" y=\"-230.8\" font-family=\"Times,serif\" font-size=\"14.00\">mse = 0.275</text>\n",
       "<text text-anchor=\"middle\" x=\"240\" y=\"-215.8\" font-family=\"Times,serif\" font-size=\"14.00\">samples = 17290</text>\n",
       "<text text-anchor=\"middle\" x=\"240\" y=\"-200.8\" font-family=\"Times,serif\" font-size=\"14.00\">value = 13.045</text>\n",
       "</g>\n",
       "<!-- 1 -->\n",
       "<g id=\"node2\" class=\"node\"><title>1</title>\n",
       "<polygon fill=\"#e58139\" fill-opacity=\"0.203922\" stroke=\"black\" points=\"224,-157 114,-157 114,-89 224,-89 224,-157\"/>\n",
       "<text text-anchor=\"middle\" x=\"169\" y=\"-141.8\" font-family=\"Times,serif\" font-size=\"14.00\">lat &lt;= 47.534</text>\n",
       "<text text-anchor=\"middle\" x=\"169\" y=\"-126.8\" font-family=\"Times,serif\" font-size=\"14.00\">mse = 0.18</text>\n",
       "<text text-anchor=\"middle\" x=\"169\" y=\"-111.8\" font-family=\"Times,serif\" font-size=\"14.00\">samples = 13918</text>\n",
       "<text text-anchor=\"middle\" x=\"169\" y=\"-96.8\" font-family=\"Times,serif\" font-size=\"14.00\">value = 12.897</text>\n",
       "</g>\n",
       "<!-- 0&#45;&gt;1 -->\n",
       "<g id=\"edge1\" class=\"edge\"><title>0&#45;&gt;1</title>\n",
       "<path fill=\"none\" stroke=\"black\" d=\"M216.948,-192.884C210.872,-184.154 204.239,-174.625 197.897,-165.514\"/>\n",
       "<polygon fill=\"black\" stroke=\"black\" points=\"200.765,-163.507 192.179,-157.299 195.019,-167.506 200.765,-163.507\"/>\n",
       "<text text-anchor=\"middle\" x=\"187.769\" y=\"-178.207\" font-family=\"Times,serif\" font-size=\"14.00\">True</text>\n",
       "</g>\n",
       "<!-- 4 -->\n",
       "<g id=\"node5\" class=\"node\"><title>4</title>\n",
       "<polygon fill=\"#e58139\" fill-opacity=\"0.717647\" stroke=\"black\" points=\"379.5,-157 242.5,-157 242.5,-89 379.5,-89 379.5,-157\"/>\n",
       "<text text-anchor=\"middle\" x=\"311\" y=\"-141.8\" font-family=\"Times,serif\" font-size=\"14.00\">sqft_living &lt;= 3765.0</text>\n",
       "<text text-anchor=\"middle\" x=\"311\" y=\"-126.8\" font-family=\"Times,serif\" font-size=\"14.00\">mse = 0.205</text>\n",
       "<text text-anchor=\"middle\" x=\"311\" y=\"-111.8\" font-family=\"Times,serif\" font-size=\"14.00\">samples = 3372</text>\n",
       "<text text-anchor=\"middle\" x=\"311\" y=\"-96.8\" font-family=\"Times,serif\" font-size=\"14.00\">value = 13.657</text>\n",
       "</g>\n",
       "<!-- 0&#45;&gt;4 -->\n",
       "<g id=\"edge4\" class=\"edge\"><title>0&#45;&gt;4</title>\n",
       "<path fill=\"none\" stroke=\"black\" d=\"M263.052,-192.884C269.128,-184.154 275.761,-174.625 282.103,-165.514\"/>\n",
       "<polygon fill=\"black\" stroke=\"black\" points=\"284.981,-167.506 287.821,-157.299 279.235,-163.507 284.981,-167.506\"/>\n",
       "<text text-anchor=\"middle\" x=\"292.231\" y=\"-178.207\" font-family=\"Times,serif\" font-size=\"14.00\">False</text>\n",
       "</g>\n",
       "<!-- 2 -->\n",
       "<g id=\"node3\" class=\"node\"><title>2</title>\n",
       "<polygon fill=\"none\" stroke=\"black\" points=\"104,-53 0,-53 0,-0 104,-0 104,-53\"/>\n",
       "<text text-anchor=\"middle\" x=\"52\" y=\"-37.8\" font-family=\"Times,serif\" font-size=\"14.00\">mse = 0.116</text>\n",
       "<text text-anchor=\"middle\" x=\"52\" y=\"-22.8\" font-family=\"Times,serif\" font-size=\"14.00\">samples = 5843</text>\n",
       "<text text-anchor=\"middle\" x=\"52\" y=\"-7.8\" font-family=\"Times,serif\" font-size=\"14.00\">value = 12.598</text>\n",
       "</g>\n",
       "<!-- 1&#45;&gt;2 -->\n",
       "<g id=\"edge2\" class=\"edge\"><title>1&#45;&gt;2</title>\n",
       "<path fill=\"none\" stroke=\"black\" d=\"M128.079,-88.9485C116.3,-79.4346 103.473,-69.074 91.7646,-59.6175\"/>\n",
       "<polygon fill=\"black\" stroke=\"black\" points=\"93.8431,-56.7973 83.8645,-53.2367 89.4447,-62.2429 93.8431,-56.7973\"/>\n",
       "</g>\n",
       "<!-- 3 -->\n",
       "<g id=\"node4\" class=\"node\"><title>3</title>\n",
       "<polygon fill=\"#e58139\" fill-opacity=\"0.349020\" stroke=\"black\" points=\"226,-53 122,-53 122,-0 226,-0 226,-53\"/>\n",
       "<text text-anchor=\"middle\" x=\"174\" y=\"-37.8\" font-family=\"Times,serif\" font-size=\"14.00\">mse = 0.115</text>\n",
       "<text text-anchor=\"middle\" x=\"174\" y=\"-22.8\" font-family=\"Times,serif\" font-size=\"14.00\">samples = 8075</text>\n",
       "<text text-anchor=\"middle\" x=\"174\" y=\"-7.8\" font-family=\"Times,serif\" font-size=\"14.00\">value = 13.113</text>\n",
       "</g>\n",
       "<!-- 1&#45;&gt;3 -->\n",
       "<g id=\"edge3\" class=\"edge\"><title>1&#45;&gt;3</title>\n",
       "<path fill=\"none\" stroke=\"black\" d=\"M170.749,-88.9485C171.184,-80.7153 171.654,-71.848 172.096,-63.4814\"/>\n",
       "<polygon fill=\"black\" stroke=\"black\" points=\"175.605,-63.4077 172.638,-53.2367 168.615,-63.0378 175.605,-63.4077\"/>\n",
       "</g>\n",
       "<!-- 5 -->\n",
       "<g id=\"node6\" class=\"node\"><title>5</title>\n",
       "<polygon fill=\"#e58139\" fill-opacity=\"0.635294\" stroke=\"black\" points=\"358,-53 254,-53 254,-0 358,-0 358,-53\"/>\n",
       "<text text-anchor=\"middle\" x=\"306\" y=\"-37.8\" font-family=\"Times,serif\" font-size=\"14.00\">mse = 0.138</text>\n",
       "<text text-anchor=\"middle\" x=\"306\" y=\"-22.8\" font-family=\"Times,serif\" font-size=\"14.00\">samples = 2600</text>\n",
       "<text text-anchor=\"middle\" x=\"306\" y=\"-7.8\" font-family=\"Times,serif\" font-size=\"14.00\">value = 13.534</text>\n",
       "</g>\n",
       "<!-- 4&#45;&gt;5 -->\n",
       "<g id=\"edge5\" class=\"edge\"><title>4&#45;&gt;5</title>\n",
       "<path fill=\"none\" stroke=\"black\" d=\"M309.251,-88.9485C308.816,-80.7153 308.346,-71.848 307.904,-63.4814\"/>\n",
       "<polygon fill=\"black\" stroke=\"black\" points=\"311.385,-63.0378 307.362,-53.2367 304.395,-63.4077 311.385,-63.0378\"/>\n",
       "</g>\n",
       "<!-- 6 -->\n",
       "<g id=\"node7\" class=\"node\"><title>6</title>\n",
       "<polygon fill=\"#e58139\" stroke=\"black\" points=\"475.5,-53 376.5,-53 376.5,-0 475.5,-0 475.5,-53\"/>\n",
       "<text text-anchor=\"middle\" x=\"426\" y=\"-37.8\" font-family=\"Times,serif\" font-size=\"14.00\">mse = 0.207</text>\n",
       "<text text-anchor=\"middle\" x=\"426\" y=\"-22.8\" font-family=\"Times,serif\" font-size=\"14.00\">samples = 772</text>\n",
       "<text text-anchor=\"middle\" x=\"426\" y=\"-7.8\" font-family=\"Times,serif\" font-size=\"14.00\">value = 14.071</text>\n",
       "</g>\n",
       "<!-- 4&#45;&gt;6 -->\n",
       "<g id=\"edge6\" class=\"edge\"><title>4&#45;&gt;6</title>\n",
       "<path fill=\"none\" stroke=\"black\" d=\"M351.221,-88.9485C362.799,-79.4346 375.407,-69.074 386.915,-59.6175\"/>\n",
       "<polygon fill=\"black\" stroke=\"black\" points=\"389.176,-62.2897 394.68,-53.2367 384.732,-56.8814 389.176,-62.2897\"/>\n",
       "</g>\n",
       "</g>\n",
       "</svg>\n"
      ],
      "text/plain": [
       "<graphviz.files.Source at 0x7f8015760668>"
      ]
     },
     "execution_count": 318,
     "metadata": {},
     "output_type": "execute_result"
    }
   ],
   "source": [
    "utils.draw_tree(m, x_train)"
   ]
  },
  {
   "cell_type": "markdown",
   "metadata": {},
   "source": [
    "## Calculando los valores del árbol"
   ]
  },
  {
   "cell_type": "code",
   "execution_count": 319,
   "metadata": {},
   "outputs": [
    {
     "data": {
      "text/plain": [
       "13.045165229875252"
      ]
     },
     "execution_count": 319,
     "metadata": {},
     "output_type": "execute_result"
    }
   ],
   "source": [
    "y_train.mean()"
   ]
  },
  {
   "cell_type": "code",
   "execution_count": 320,
   "metadata": {},
   "outputs": [
    {
     "data": {
      "text/plain": [
       "0.27543630032941563"
      ]
     },
     "execution_count": 320,
     "metadata": {},
     "output_type": "execute_result"
    }
   ],
   "source": [
    "((y_train - y_train.mean())**2).mean()"
   ]
  },
  {
   "cell_type": "code",
   "execution_count": 321,
   "metadata": {},
   "outputs": [
    {
     "data": {
      "text/plain": [
       "12.896989327477723"
      ]
     },
     "execution_count": 321,
     "metadata": {},
     "output_type": "execute_result"
    }
   ],
   "source": [
    "y_train[x_train['grade'] <= 8.5].mean()"
   ]
  },
  {
   "cell_type": "code",
   "execution_count": 322,
   "metadata": {},
   "outputs": [
    {
     "data": {
      "text/plain": [
       "0.17996169928110842"
      ]
     },
     "execution_count": 322,
     "metadata": {},
     "output_type": "execute_result"
    }
   ],
   "source": [
    "((y_train[x_train['grade'] <= 8.5] - y_train[x_train['grade'] <= 8.5].mean())**2).mean()"
   ]
  },
  {
   "cell_type": "code",
   "execution_count": 323,
   "metadata": {},
   "outputs": [
    {
     "data": {
      "text/plain": [
       "13.656764343033267"
      ]
     },
     "execution_count": 323,
     "metadata": {},
     "output_type": "execute_result"
    }
   ],
   "source": [
    "y_train[x_train['grade'] > 8.5].mean()"
   ]
  },
  {
   "cell_type": "code",
   "execution_count": 324,
   "metadata": {},
   "outputs": [
    {
     "data": {
      "text/plain": [
       "0.2048319724186241"
      ]
     },
     "execution_count": 324,
     "metadata": {},
     "output_type": "execute_result"
    }
   ],
   "source": [
    "((y_train[x_train['grade'] > 8.5] - y_train[x_train['grade'] > 8.5].mean())**2).mean()"
   ]
  },
  {
   "cell_type": "markdown",
   "metadata": {},
   "source": [
    "## Usando un random forest"
   ]
  },
  {
   "cell_type": "code",
   "execution_count": 325,
   "metadata": {},
   "outputs": [
    {
     "data": {
      "text/plain": [
       "RandomForestRegressor(bootstrap=True, criterion='mse', max_depth=None,\n",
       "           max_features='auto', max_leaf_nodes=None,\n",
       "           min_impurity_decrease=0.0, min_impurity_split=None,\n",
       "           min_samples_leaf=1, min_samples_split=2,\n",
       "           min_weight_fraction_leaf=0.0, n_estimators=40, n_jobs=-1,\n",
       "           oob_score=True, random_state=None, verbose=0, warm_start=False)"
      ]
     },
     "execution_count": 325,
     "metadata": {},
     "output_type": "execute_result"
    }
   ],
   "source": [
    "from sklearn.ensemble import RandomForestRegressor\n",
    "m = RandomForestRegressor(40, n_jobs=-1, oob_score=True)\n",
    "m.fit(x_train, y_train)"
   ]
  },
  {
   "cell_type": "code",
   "execution_count": 326,
   "metadata": {},
   "outputs": [
    {
     "name": "stdout",
     "output_type": "stream",
     "text": [
      "Scores:\n",
      "Train      = 0.983\n",
      "Validation = 0.8882\n",
      "OOB        = 0.8775\n"
     ]
    }
   ],
   "source": [
    "score()"
   ]
  },
  {
   "cell_type": "markdown",
   "metadata": {},
   "source": [
    "# Interpretación del modelo"
   ]
  },
  {
   "cell_type": "markdown",
   "metadata": {},
   "source": [
    "## Feature importance"
   ]
  },
  {
   "cell_type": "markdown",
   "metadata": {},
   "source": [
    "### Sklearn feature importance (mean decrease impurity)"
   ]
  },
  {
   "cell_type": "code",
   "execution_count": 41,
   "metadata": {},
   "outputs": [
    {
     "data": {
      "text/plain": [
       "array([2.03670355e-03, 4.50843424e-03, 1.72523499e-01, 1.40612542e-02,\n",
       "       1.21074770e-03, 5.87445038e-03, 7.40117341e-03, 4.38675470e-03,\n",
       "       3.45969818e-01, 1.33080438e-02, 2.53301263e-03, 1.96107427e-02,\n",
       "       1.00683370e-03, 1.01554808e-02, 2.89542932e-01, 4.22852358e-02,\n",
       "       2.47588867e-02, 1.24132174e-02, 2.20282307e-04, 1.50441244e-03,\n",
       "       3.13706288e-03, 5.61963128e-03, 2.76062033e-03, 4.61702482e-03,\n",
       "       1.19727452e-04, 1.39722637e-04, 6.93801285e-05, 5.70974133e-05,\n",
       "       3.34979522e-06, 0.00000000e+00, 8.16446745e-03])"
      ]
     },
     "execution_count": 41,
     "metadata": {},
     "output_type": "execute_result"
    }
   ],
   "source": [
    "m.feature_importances_"
   ]
  },
  {
   "cell_type": "code",
   "execution_count": 42,
   "metadata": {
    "scrolled": true
   },
   "outputs": [
    {
     "data": {
      "text/html": [
       "<style  type=\"text/css\" >\n",
       "    #T_8b011a5e_9134_11e8_9d17_74d43500427crow0_col1 {\n",
       "            width:  10em;\n",
       "             height:  80%;\n",
       "            background:  linear-gradient(90deg,#d65f5f 100.0%, transparent 0%);\n",
       "        }    #T_8b011a5e_9134_11e8_9d17_74d43500427crow1_col1 {\n",
       "            width:  10em;\n",
       "             height:  80%;\n",
       "            background:  linear-gradient(90deg,#d65f5f 83.7%, transparent 0%);\n",
       "        }    #T_8b011a5e_9134_11e8_9d17_74d43500427crow2_col1 {\n",
       "            width:  10em;\n",
       "             height:  80%;\n",
       "            background:  linear-gradient(90deg,#d65f5f 49.9%, transparent 0%);\n",
       "        }    #T_8b011a5e_9134_11e8_9d17_74d43500427crow3_col1 {\n",
       "            width:  10em;\n",
       "             height:  80%;\n",
       "            background:  linear-gradient(90deg,#d65f5f 12.2%, transparent 0%);\n",
       "        }    #T_8b011a5e_9134_11e8_9d17_74d43500427crow4_col1 {\n",
       "            width:  10em;\n",
       "             height:  80%;\n",
       "            background:  linear-gradient(90deg,#d65f5f 7.2%, transparent 0%);\n",
       "        }    #T_8b011a5e_9134_11e8_9d17_74d43500427crow5_col1 {\n",
       "            width:  10em;\n",
       "             height:  80%;\n",
       "            background:  linear-gradient(90deg,#d65f5f 5.7%, transparent 0%);\n",
       "        }    #T_8b011a5e_9134_11e8_9d17_74d43500427crow6_col1 {\n",
       "            width:  10em;\n",
       "             height:  80%;\n",
       "            background:  linear-gradient(90deg,#d65f5f 4.1%, transparent 0%);\n",
       "        }    #T_8b011a5e_9134_11e8_9d17_74d43500427crow7_col1 {\n",
       "            width:  10em;\n",
       "             height:  80%;\n",
       "            background:  linear-gradient(90deg,#d65f5f 3.8%, transparent 0%);\n",
       "        }    #T_8b011a5e_9134_11e8_9d17_74d43500427crow8_col1 {\n",
       "            width:  10em;\n",
       "             height:  80%;\n",
       "            background:  linear-gradient(90deg,#d65f5f 3.6%, transparent 0%);\n",
       "        }    #T_8b011a5e_9134_11e8_9d17_74d43500427crow9_col1 {\n",
       "            width:  10em;\n",
       "             height:  80%;\n",
       "            background:  linear-gradient(90deg,#d65f5f 2.9%, transparent 0%);\n",
       "        }    #T_8b011a5e_9134_11e8_9d17_74d43500427crow10_col1 {\n",
       "            width:  10em;\n",
       "             height:  80%;\n",
       "            background:  linear-gradient(90deg,#d65f5f 2.4%, transparent 0%);\n",
       "        }    #T_8b011a5e_9134_11e8_9d17_74d43500427crow11_col1 {\n",
       "            width:  10em;\n",
       "             height:  80%;\n",
       "            background:  linear-gradient(90deg,#d65f5f 2.1%, transparent 0%);\n",
       "        }    #T_8b011a5e_9134_11e8_9d17_74d43500427crow12_col1 {\n",
       "            width:  10em;\n",
       "             height:  80%;\n",
       "            background:  linear-gradient(90deg,#d65f5f 1.7%, transparent 0%);\n",
       "        }    #T_8b011a5e_9134_11e8_9d17_74d43500427crow13_col1 {\n",
       "            width:  10em;\n",
       "             height:  80%;\n",
       "            background:  linear-gradient(90deg,#d65f5f 1.6%, transparent 0%);\n",
       "        }    #T_8b011a5e_9134_11e8_9d17_74d43500427crow14_col1 {\n",
       "            width:  10em;\n",
       "             height:  80%;\n",
       "            background:  linear-gradient(90deg,#d65f5f 1.3%, transparent 0%);\n",
       "        }    #T_8b011a5e_9134_11e8_9d17_74d43500427crow15_col1 {\n",
       "            width:  10em;\n",
       "             height:  80%;\n",
       "            background:  linear-gradient(90deg,#d65f5f 1.3%, transparent 0%);\n",
       "        }    #T_8b011a5e_9134_11e8_9d17_74d43500427crow16_col1 {\n",
       "            width:  10em;\n",
       "             height:  80%;\n",
       "            background:  linear-gradient(90deg,#d65f5f 1.3%, transparent 0%);\n",
       "        }    #T_8b011a5e_9134_11e8_9d17_74d43500427crow17_col1 {\n",
       "            width:  10em;\n",
       "             height:  80%;\n",
       "            background:  linear-gradient(90deg,#d65f5f 0.9%, transparent 0%);\n",
       "        }    #T_8b011a5e_9134_11e8_9d17_74d43500427crow18_col1 {\n",
       "            width:  10em;\n",
       "             height:  80%;\n",
       "            background:  linear-gradient(90deg,#d65f5f 0.8%, transparent 0%);\n",
       "        }    #T_8b011a5e_9134_11e8_9d17_74d43500427crow19_col1 {\n",
       "            width:  10em;\n",
       "             height:  80%;\n",
       "            background:  linear-gradient(90deg,#d65f5f 0.7%, transparent 0%);\n",
       "        }    #T_8b011a5e_9134_11e8_9d17_74d43500427crow20_col1 {\n",
       "            width:  10em;\n",
       "             height:  80%;\n",
       "            background:  linear-gradient(90deg,#d65f5f 0.6%, transparent 0%);\n",
       "        }    #T_8b011a5e_9134_11e8_9d17_74d43500427crow21_col1 {\n",
       "            width:  10em;\n",
       "             height:  80%;\n",
       "            background:  linear-gradient(90deg,#d65f5f 0.4%, transparent 0%);\n",
       "        }    #T_8b011a5e_9134_11e8_9d17_74d43500427crow22_col1 {\n",
       "            width:  10em;\n",
       "             height:  80%;\n",
       "            background:  linear-gradient(90deg,#d65f5f 0.3%, transparent 0%);\n",
       "        }    #T_8b011a5e_9134_11e8_9d17_74d43500427crow23_col1 {\n",
       "            width:  10em;\n",
       "             height:  80%;\n",
       "            background:  linear-gradient(90deg,#d65f5f 0.3%, transparent 0%);\n",
       "        }    #T_8b011a5e_9134_11e8_9d17_74d43500427crow24_col1 {\n",
       "            width:  10em;\n",
       "             height:  80%;\n",
       "            background:  linear-gradient(90deg,#d65f5f 0.1%, transparent 0%);\n",
       "        }    #T_8b011a5e_9134_11e8_9d17_74d43500427crow25_col1 {\n",
       "            width:  10em;\n",
       "             height:  80%;\n",
       "            background:  linear-gradient(90deg,#d65f5f 0.0%, transparent 0%);\n",
       "        }    #T_8b011a5e_9134_11e8_9d17_74d43500427crow26_col1 {\n",
       "            width:  10em;\n",
       "             height:  80%;\n",
       "            background:  linear-gradient(90deg,#d65f5f 0.0%, transparent 0%);\n",
       "        }    #T_8b011a5e_9134_11e8_9d17_74d43500427crow27_col1 {\n",
       "            width:  10em;\n",
       "             height:  80%;\n",
       "            background:  linear-gradient(90deg,#d65f5f 0.0%, transparent 0%);\n",
       "        }    #T_8b011a5e_9134_11e8_9d17_74d43500427crow28_col1 {\n",
       "            width:  10em;\n",
       "             height:  80%;\n",
       "            background:  linear-gradient(90deg,#d65f5f 0.0%, transparent 0%);\n",
       "        }    #T_8b011a5e_9134_11e8_9d17_74d43500427crow29_col1 {\n",
       "            width:  10em;\n",
       "             height:  80%;\n",
       "            background:  linear-gradient(90deg,#d65f5f 0.0%, transparent 0%);\n",
       "        }    #T_8b011a5e_9134_11e8_9d17_74d43500427crow30_col1 {\n",
       "            width:  10em;\n",
       "             height:  80%;\n",
       "        }</style>  \n",
       "<table id=\"T_8b011a5e_9134_11e8_9d17_74d43500427c\" > \n",
       "<thead>    <tr> \n",
       "        <th class=\"blank level0\" ></th> \n",
       "        <th class=\"col_heading level0 col0\" >cols</th> \n",
       "        <th class=\"col_heading level0 col1\" >imp</th> \n",
       "    </tr></thead> \n",
       "<tbody>    <tr> \n",
       "        <th id=\"T_8b011a5e_9134_11e8_9d17_74d43500427clevel0_row0\" class=\"row_heading level0 row0\" >8</th> \n",
       "        <td id=\"T_8b011a5e_9134_11e8_9d17_74d43500427crow0_col0\" class=\"data row0 col0\" >grade</td> \n",
       "        <td id=\"T_8b011a5e_9134_11e8_9d17_74d43500427crow0_col1\" class=\"data row0 col1\" >0.34597</td> \n",
       "    </tr>    <tr> \n",
       "        <th id=\"T_8b011a5e_9134_11e8_9d17_74d43500427clevel0_row1\" class=\"row_heading level0 row1\" >14</th> \n",
       "        <td id=\"T_8b011a5e_9134_11e8_9d17_74d43500427crow1_col0\" class=\"data row1 col0\" >lat</td> \n",
       "        <td id=\"T_8b011a5e_9134_11e8_9d17_74d43500427crow1_col1\" class=\"data row1 col1\" >0.289543</td> \n",
       "    </tr>    <tr> \n",
       "        <th id=\"T_8b011a5e_9134_11e8_9d17_74d43500427clevel0_row2\" class=\"row_heading level0 row2\" >2</th> \n",
       "        <td id=\"T_8b011a5e_9134_11e8_9d17_74d43500427crow2_col0\" class=\"data row2 col0\" >sqft_living</td> \n",
       "        <td id=\"T_8b011a5e_9134_11e8_9d17_74d43500427crow2_col1\" class=\"data row2 col1\" >0.172523</td> \n",
       "    </tr>    <tr> \n",
       "        <th id=\"T_8b011a5e_9134_11e8_9d17_74d43500427clevel0_row3\" class=\"row_heading level0 row3\" >15</th> \n",
       "        <td id=\"T_8b011a5e_9134_11e8_9d17_74d43500427crow3_col0\" class=\"data row3 col0\" >long</td> \n",
       "        <td id=\"T_8b011a5e_9134_11e8_9d17_74d43500427crow3_col1\" class=\"data row3 col1\" >0.0422852</td> \n",
       "    </tr>    <tr> \n",
       "        <th id=\"T_8b011a5e_9134_11e8_9d17_74d43500427clevel0_row4\" class=\"row_heading level0 row4\" >16</th> \n",
       "        <td id=\"T_8b011a5e_9134_11e8_9d17_74d43500427crow4_col0\" class=\"data row4 col0\" >sqft_living15</td> \n",
       "        <td id=\"T_8b011a5e_9134_11e8_9d17_74d43500427crow4_col1\" class=\"data row4 col1\" >0.0247589</td> \n",
       "    </tr>    <tr> \n",
       "        <th id=\"T_8b011a5e_9134_11e8_9d17_74d43500427clevel0_row5\" class=\"row_heading level0 row5\" >11</th> \n",
       "        <td id=\"T_8b011a5e_9134_11e8_9d17_74d43500427crow5_col0\" class=\"data row5 col0\" >yr_built</td> \n",
       "        <td id=\"T_8b011a5e_9134_11e8_9d17_74d43500427crow5_col1\" class=\"data row5 col1\" >0.0196107</td> \n",
       "    </tr>    <tr> \n",
       "        <th id=\"T_8b011a5e_9134_11e8_9d17_74d43500427clevel0_row6\" class=\"row_heading level0 row6\" >3</th> \n",
       "        <td id=\"T_8b011a5e_9134_11e8_9d17_74d43500427crow6_col0\" class=\"data row6 col0\" >sqft_lot</td> \n",
       "        <td id=\"T_8b011a5e_9134_11e8_9d17_74d43500427crow6_col1\" class=\"data row6 col1\" >0.0140613</td> \n",
       "    </tr>    <tr> \n",
       "        <th id=\"T_8b011a5e_9134_11e8_9d17_74d43500427clevel0_row7\" class=\"row_heading level0 row7\" >9</th> \n",
       "        <td id=\"T_8b011a5e_9134_11e8_9d17_74d43500427crow7_col0\" class=\"data row7 col0\" >sqft_above</td> \n",
       "        <td id=\"T_8b011a5e_9134_11e8_9d17_74d43500427crow7_col1\" class=\"data row7 col1\" >0.013308</td> \n",
       "    </tr>    <tr> \n",
       "        <th id=\"T_8b011a5e_9134_11e8_9d17_74d43500427clevel0_row8\" class=\"row_heading level0 row8\" >17</th> \n",
       "        <td id=\"T_8b011a5e_9134_11e8_9d17_74d43500427crow8_col0\" class=\"data row8 col0\" >sqft_lot15</td> \n",
       "        <td id=\"T_8b011a5e_9134_11e8_9d17_74d43500427crow8_col1\" class=\"data row8 col1\" >0.0124132</td> \n",
       "    </tr>    <tr> \n",
       "        <th id=\"T_8b011a5e_9134_11e8_9d17_74d43500427clevel0_row9\" class=\"row_heading level0 row9\" >13</th> \n",
       "        <td id=\"T_8b011a5e_9134_11e8_9d17_74d43500427crow9_col0\" class=\"data row9 col0\" >zipcode</td> \n",
       "        <td id=\"T_8b011a5e_9134_11e8_9d17_74d43500427crow9_col1\" class=\"data row9 col1\" >0.0101555</td> \n",
       "    </tr>    <tr> \n",
       "        <th id=\"T_8b011a5e_9134_11e8_9d17_74d43500427clevel0_row10\" class=\"row_heading level0 row10\" >30</th> \n",
       "        <td id=\"T_8b011a5e_9134_11e8_9d17_74d43500427crow10_col0\" class=\"data row10 col0\" >date_elapsed</td> \n",
       "        <td id=\"T_8b011a5e_9134_11e8_9d17_74d43500427crow10_col1\" class=\"data row10 col1\" >0.00816447</td> \n",
       "    </tr>    <tr> \n",
       "        <th id=\"T_8b011a5e_9134_11e8_9d17_74d43500427clevel0_row11\" class=\"row_heading level0 row11\" >6</th> \n",
       "        <td id=\"T_8b011a5e_9134_11e8_9d17_74d43500427crow11_col0\" class=\"data row11 col0\" >view</td> \n",
       "        <td id=\"T_8b011a5e_9134_11e8_9d17_74d43500427crow11_col1\" class=\"data row11 col1\" >0.00740117</td> \n",
       "    </tr>    <tr> \n",
       "        <th id=\"T_8b011a5e_9134_11e8_9d17_74d43500427clevel0_row12\" class=\"row_heading level0 row12\" >5</th> \n",
       "        <td id=\"T_8b011a5e_9134_11e8_9d17_74d43500427crow12_col0\" class=\"data row12 col0\" >waterfront</td> \n",
       "        <td id=\"T_8b011a5e_9134_11e8_9d17_74d43500427crow12_col1\" class=\"data row12 col1\" >0.00587445</td> \n",
       "    </tr>    <tr> \n",
       "        <th id=\"T_8b011a5e_9134_11e8_9d17_74d43500427clevel0_row13\" class=\"row_heading level0 row13\" >21</th> \n",
       "        <td id=\"T_8b011a5e_9134_11e8_9d17_74d43500427crow13_col0\" class=\"data row13 col0\" >date_Day</td> \n",
       "        <td id=\"T_8b011a5e_9134_11e8_9d17_74d43500427crow13_col1\" class=\"data row13 col1\" >0.00561963</td> \n",
       "    </tr>    <tr> \n",
       "        <th id=\"T_8b011a5e_9134_11e8_9d17_74d43500427clevel0_row14\" class=\"row_heading level0 row14\" >23</th> \n",
       "        <td id=\"T_8b011a5e_9134_11e8_9d17_74d43500427crow14_col0\" class=\"data row14 col0\" >date_Dayofyear</td> \n",
       "        <td id=\"T_8b011a5e_9134_11e8_9d17_74d43500427crow14_col1\" class=\"data row14 col1\" >0.00461702</td> \n",
       "    </tr>    <tr> \n",
       "        <th id=\"T_8b011a5e_9134_11e8_9d17_74d43500427clevel0_row15\" class=\"row_heading level0 row15\" >1</th> \n",
       "        <td id=\"T_8b011a5e_9134_11e8_9d17_74d43500427crow15_col0\" class=\"data row15 col0\" >bathrooms</td> \n",
       "        <td id=\"T_8b011a5e_9134_11e8_9d17_74d43500427crow15_col1\" class=\"data row15 col1\" >0.00450843</td> \n",
       "    </tr>    <tr> \n",
       "        <th id=\"T_8b011a5e_9134_11e8_9d17_74d43500427clevel0_row16\" class=\"row_heading level0 row16\" >7</th> \n",
       "        <td id=\"T_8b011a5e_9134_11e8_9d17_74d43500427crow16_col0\" class=\"data row16 col0\" >condition</td> \n",
       "        <td id=\"T_8b011a5e_9134_11e8_9d17_74d43500427crow16_col1\" class=\"data row16 col1\" >0.00438675</td> \n",
       "    </tr>    <tr> \n",
       "        <th id=\"T_8b011a5e_9134_11e8_9d17_74d43500427clevel0_row17\" class=\"row_heading level0 row17\" >20</th> \n",
       "        <td id=\"T_8b011a5e_9134_11e8_9d17_74d43500427crow17_col0\" class=\"data row17 col0\" >date_Week</td> \n",
       "        <td id=\"T_8b011a5e_9134_11e8_9d17_74d43500427crow17_col1\" class=\"data row17 col1\" >0.00313706</td> \n",
       "    </tr>    <tr> \n",
       "        <th id=\"T_8b011a5e_9134_11e8_9d17_74d43500427clevel0_row18\" class=\"row_heading level0 row18\" >22</th> \n",
       "        <td id=\"T_8b011a5e_9134_11e8_9d17_74d43500427crow18_col0\" class=\"data row18 col0\" >date_Dayofweek</td> \n",
       "        <td id=\"T_8b011a5e_9134_11e8_9d17_74d43500427crow18_col1\" class=\"data row18 col1\" >0.00276062</td> \n",
       "    </tr>    <tr> \n",
       "        <th id=\"T_8b011a5e_9134_11e8_9d17_74d43500427clevel0_row19\" class=\"row_heading level0 row19\" >10</th> \n",
       "        <td id=\"T_8b011a5e_9134_11e8_9d17_74d43500427crow19_col0\" class=\"data row19 col0\" >sqft_basement</td> \n",
       "        <td id=\"T_8b011a5e_9134_11e8_9d17_74d43500427crow19_col1\" class=\"data row19 col1\" >0.00253301</td> \n",
       "    </tr>    <tr> \n",
       "        <th id=\"T_8b011a5e_9134_11e8_9d17_74d43500427clevel0_row20\" class=\"row_heading level0 row20\" >0</th> \n",
       "        <td id=\"T_8b011a5e_9134_11e8_9d17_74d43500427crow20_col0\" class=\"data row20 col0\" >bedrooms</td> \n",
       "        <td id=\"T_8b011a5e_9134_11e8_9d17_74d43500427crow20_col1\" class=\"data row20 col1\" >0.0020367</td> \n",
       "    </tr>    <tr> \n",
       "        <th id=\"T_8b011a5e_9134_11e8_9d17_74d43500427clevel0_row21\" class=\"row_heading level0 row21\" >19</th> \n",
       "        <td id=\"T_8b011a5e_9134_11e8_9d17_74d43500427crow21_col0\" class=\"data row21 col0\" >date_Month</td> \n",
       "        <td id=\"T_8b011a5e_9134_11e8_9d17_74d43500427crow21_col1\" class=\"data row21 col1\" >0.00150441</td> \n",
       "    </tr>    <tr> \n",
       "        <th id=\"T_8b011a5e_9134_11e8_9d17_74d43500427clevel0_row22\" class=\"row_heading level0 row22\" >4</th> \n",
       "        <td id=\"T_8b011a5e_9134_11e8_9d17_74d43500427crow22_col0\" class=\"data row22 col0\" >floors</td> \n",
       "        <td id=\"T_8b011a5e_9134_11e8_9d17_74d43500427crow22_col1\" class=\"data row22 col1\" >0.00121075</td> \n",
       "    </tr>    <tr> \n",
       "        <th id=\"T_8b011a5e_9134_11e8_9d17_74d43500427clevel0_row23\" class=\"row_heading level0 row23\" >12</th> \n",
       "        <td id=\"T_8b011a5e_9134_11e8_9d17_74d43500427crow23_col0\" class=\"data row23 col0\" >yr_renovated</td> \n",
       "        <td id=\"T_8b011a5e_9134_11e8_9d17_74d43500427crow23_col1\" class=\"data row23 col1\" >0.00100683</td> \n",
       "    </tr>    <tr> \n",
       "        <th id=\"T_8b011a5e_9134_11e8_9d17_74d43500427clevel0_row24\" class=\"row_heading level0 row24\" >18</th> \n",
       "        <td id=\"T_8b011a5e_9134_11e8_9d17_74d43500427crow24_col0\" class=\"data row24 col0\" >date_Year</td> \n",
       "        <td id=\"T_8b011a5e_9134_11e8_9d17_74d43500427crow24_col1\" class=\"data row24 col1\" >0.000220282</td> \n",
       "    </tr>    <tr> \n",
       "        <th id=\"T_8b011a5e_9134_11e8_9d17_74d43500427clevel0_row25\" class=\"row_heading level0 row25\" >25</th> \n",
       "        <td id=\"T_8b011a5e_9134_11e8_9d17_74d43500427crow25_col0\" class=\"data row25 col0\" >date_Is_month_start</td> \n",
       "        <td id=\"T_8b011a5e_9134_11e8_9d17_74d43500427crow25_col1\" class=\"data row25 col1\" >0.000139723</td> \n",
       "    </tr>    <tr> \n",
       "        <th id=\"T_8b011a5e_9134_11e8_9d17_74d43500427clevel0_row26\" class=\"row_heading level0 row26\" >24</th> \n",
       "        <td id=\"T_8b011a5e_9134_11e8_9d17_74d43500427crow26_col0\" class=\"data row26 col0\" >date_Is_month_end</td> \n",
       "        <td id=\"T_8b011a5e_9134_11e8_9d17_74d43500427crow26_col1\" class=\"data row26 col1\" >0.000119727</td> \n",
       "    </tr>    <tr> \n",
       "        <th id=\"T_8b011a5e_9134_11e8_9d17_74d43500427clevel0_row27\" class=\"row_heading level0 row27\" >26</th> \n",
       "        <td id=\"T_8b011a5e_9134_11e8_9d17_74d43500427crow27_col0\" class=\"data row27 col0\" >date_Is_quarter_end</td> \n",
       "        <td id=\"T_8b011a5e_9134_11e8_9d17_74d43500427crow27_col1\" class=\"data row27 col1\" >6.93801e-05</td> \n",
       "    </tr>    <tr> \n",
       "        <th id=\"T_8b011a5e_9134_11e8_9d17_74d43500427clevel0_row28\" class=\"row_heading level0 row28\" >27</th> \n",
       "        <td id=\"T_8b011a5e_9134_11e8_9d17_74d43500427crow28_col0\" class=\"data row28 col0\" >date_Is_quarter_start</td> \n",
       "        <td id=\"T_8b011a5e_9134_11e8_9d17_74d43500427crow28_col1\" class=\"data row28 col1\" >5.70974e-05</td> \n",
       "    </tr>    <tr> \n",
       "        <th id=\"T_8b011a5e_9134_11e8_9d17_74d43500427clevel0_row29\" class=\"row_heading level0 row29\" >28</th> \n",
       "        <td id=\"T_8b011a5e_9134_11e8_9d17_74d43500427crow29_col0\" class=\"data row29 col0\" >date_Is_year_end</td> \n",
       "        <td id=\"T_8b011a5e_9134_11e8_9d17_74d43500427crow29_col1\" class=\"data row29 col1\" >3.3498e-06</td> \n",
       "    </tr>    <tr> \n",
       "        <th id=\"T_8b011a5e_9134_11e8_9d17_74d43500427clevel0_row30\" class=\"row_heading level0 row30\" >29</th> \n",
       "        <td id=\"T_8b011a5e_9134_11e8_9d17_74d43500427crow30_col0\" class=\"data row30 col0\" >date_Is_year_start</td> \n",
       "        <td id=\"T_8b011a5e_9134_11e8_9d17_74d43500427crow30_col1\" class=\"data row30 col1\" >0</td> \n",
       "    </tr></tbody> \n",
       "</table> "
      ],
      "text/plain": [
       "<pandas.io.formats.style.Styler at 0x7f8072d2b0f0>"
      ]
     },
     "execution_count": 42,
     "metadata": {},
     "output_type": "execute_result"
    }
   ],
   "source": [
    "imp = pd.DataFrame({'cols':x_train.columns, 'imp':m.feature_importances_}).sort_values('imp', ascending=False)\n",
    "imp.style.bar()"
   ]
  },
  {
   "cell_type": "markdown",
   "metadata": {},
   "source": [
    "### Permutation importance"
   ]
  },
  {
   "cell_type": "code",
   "execution_count": 79,
   "metadata": {
    "scrolled": false
   },
   "outputs": [
    {
     "data": {
      "image/png": "[encoded data removed]",
      "text/plain": [
       "<Figure size 360x648 with 1 Axes>"
      ]
     },
     "metadata": {},
     "output_type": "display_data"
    },
    {
     "name": "stdout",
     "output_type": "stream",
     "text": [
      "CPU times: user 2.15 s, sys: 65 ms, total: 2.22 s\n",
      "Wall time: 3.86 s\n"
     ]
    }
   ],
   "source": [
    "%%time\n",
    "from rfpimp import importances, plot_importances\n",
    "\n",
    "imp = importances(m, x_val, y_val)\n",
    "plot_importances(imp, figsize=(5,9));"
   ]
  },
  {
   "cell_type": "markdown",
   "metadata": {
    "heading_collapsed": true
   },
   "source": [
    "### Drop-column importance"
   ]
  },
  {
   "cell_type": "code",
   "execution_count": 80,
   "metadata": {
    "hidden": true
   },
   "outputs": [
    {
     "data": {
      "image/png": "[encoded data removed]",
      "text/plain": [
       "<Figure size 360x648 with 1 Axes>"
      ]
     },
     "metadata": {},
     "output_type": "display_data"
    },
    {
     "name": "stdout",
     "output_type": "stream",
     "text": [
      "CPU times: user 3min 52s, sys: 803 ms, total: 3min 53s\n",
      "Wall time: 1min 8s\n"
     ]
    }
   ],
   "source": [
    "%%time\n",
    "from rfpimp import dropcol_importances\n",
    "\n",
    "imp = dropcol_importances(m, x_train, y_train)\n",
    "plot_importances(imp, figsize=(5,9));"
   ]
  },
  {
   "cell_type": "markdown",
   "metadata": {},
   "source": [
    "## Partial Dependence Plot"
   ]
  },
  {
   "cell_type": "markdown",
   "metadata": {},
   "source": [
    "- **id**: a notation for a house\n",
    "- **date**: Date house was sold\n",
    "- **price**: Price is prediction target\n",
    "- **bedrooms**: Number of Bedrooms/House\n",
    "- **bathrooms**: Number of bathrooms/bedrooms\n",
    "- **sqft_living**: square footage of the home\n",
    "- **sqft_lot**: square footage of the lot\n",
    "- **floors**: Total floors (levels) in house\n",
    "- **waterfront**: House which has a view to a waterfront\n",
    "- **view**: Has been viewed\n",
    "- **condition**: How good the condition is ( Overall )\n",
    "- **grade**: overall grade given to the housing unit, based on King County grading system\n",
    "- **sqft_above**: square footage of house apart from basement\n",
    "- **sqft_basement**: square footage of the basement\n",
    "- **yr_built**: Built Year\n",
    "- **yr_renovated**: Year when house was renovated\n",
    "- **zipcode**: zip\n",
    "- **lat**: Latitude coordinate\n",
    "- **long**: Longitude coordinate\n",
    "- **sqft_living15**: Living room area in 2015(implies-- some renovations) This might or might not have affected the lotsize area\n",
    "- **sqft_lot15**: lotSize area in 2015(implies-- some renovations)"
   ]
  },
  {
   "cell_type": "code",
   "execution_count": 83,
   "metadata": {},
   "outputs": [
    {
     "data": {
      "text/html": [
       "<div>\n",
       "<style scoped>\n",
       "    .dataframe tbody tr th:only-of-type {\n",
       "        vertical-align: middle;\n",
       "    }\n",
       "\n",
       "    .dataframe tbody tr th {\n",
       "        vertical-align: top;\n",
       "    }\n",
       "\n",
       "    .dataframe thead th {\n",
       "        text-align: right;\n",
       "    }\n",
       "</style>\n",
       "<table border=\"1\" class=\"dataframe\">\n",
       "  <thead>\n",
       "    <tr style=\"text-align: right;\">\n",
       "      <th></th>\n",
       "      <th>bedrooms</th>\n",
       "      <th>bathrooms</th>\n",
       "      <th>sqft_living</th>\n",
       "      <th>sqft_lot</th>\n",
       "      <th>floors</th>\n",
       "      <th>waterfront</th>\n",
       "      <th>view</th>\n",
       "      <th>condition</th>\n",
       "      <th>grade</th>\n",
       "      <th>sqft_above</th>\n",
       "      <th>sqft_basement</th>\n",
       "      <th>yr_built</th>\n",
       "      <th>yr_renovated</th>\n",
       "      <th>zipcode</th>\n",
       "      <th>lat</th>\n",
       "      <th>long</th>\n",
       "      <th>sqft_living15</th>\n",
       "      <th>sqft_lot15</th>\n",
       "      <th>date_Year</th>\n",
       "      <th>date_Month</th>\n",
       "      <th>date_Week</th>\n",
       "      <th>date_Day</th>\n",
       "      <th>date_Dayofweek</th>\n",
       "      <th>date_Dayofyear</th>\n",
       "      <th>date_Is_month_end</th>\n",
       "      <th>date_Is_month_start</th>\n",
       "      <th>date_Is_quarter_end</th>\n",
       "      <th>date_Is_quarter_start</th>\n",
       "      <th>date_Is_year_end</th>\n",
       "      <th>date_Is_year_start</th>\n",
       "      <th>date_elapsed</th>\n",
       "      <th>price</th>\n",
       "    </tr>\n",
       "  </thead>\n",
       "  <tbody>\n",
       "    <tr>\n",
       "      <th>6325</th>\n",
       "      <td>3</td>\n",
       "      <td>1.75</td>\n",
       "      <td>1780</td>\n",
       "      <td>13095</td>\n",
       "      <td>1.0</td>\n",
       "      <td>0</td>\n",
       "      <td>0</td>\n",
       "      <td>4</td>\n",
       "      <td>9</td>\n",
       "      <td>1780</td>\n",
       "      <td>0</td>\n",
       "      <td>1983</td>\n",
       "      <td>0</td>\n",
       "      <td>98042</td>\n",
       "      <td>47.367</td>\n",
       "      <td>-122.152</td>\n",
       "      <td>2750</td>\n",
       "      <td>13095</td>\n",
       "      <td>2014</td>\n",
       "      <td>5</td>\n",
       "      <td>22</td>\n",
       "      <td>27</td>\n",
       "      <td>1</td>\n",
       "      <td>147</td>\n",
       "      <td>False</td>\n",
       "      <td>False</td>\n",
       "      <td>False</td>\n",
       "      <td>False</td>\n",
       "      <td>False</td>\n",
       "      <td>False</td>\n",
       "      <td>1401148800</td>\n",
       "      <td>12.691580</td>\n",
       "    </tr>\n",
       "    <tr>\n",
       "      <th>13473</th>\n",
       "      <td>2</td>\n",
       "      <td>1.00</td>\n",
       "      <td>1000</td>\n",
       "      <td>3700</td>\n",
       "      <td>1.0</td>\n",
       "      <td>0</td>\n",
       "      <td>0</td>\n",
       "      <td>3</td>\n",
       "      <td>6</td>\n",
       "      <td>800</td>\n",
       "      <td>200</td>\n",
       "      <td>1929</td>\n",
       "      <td>0</td>\n",
       "      <td>98118</td>\n",
       "      <td>47.552</td>\n",
       "      <td>-122.290</td>\n",
       "      <td>1270</td>\n",
       "      <td>5000</td>\n",
       "      <td>2015</td>\n",
       "      <td>3</td>\n",
       "      <td>11</td>\n",
       "      <td>10</td>\n",
       "      <td>1</td>\n",
       "      <td>69</td>\n",
       "      <td>False</td>\n",
       "      <td>False</td>\n",
       "      <td>False</td>\n",
       "      <td>False</td>\n",
       "      <td>False</td>\n",
       "      <td>False</td>\n",
       "      <td>1425945600</td>\n",
       "      <td>12.456831</td>\n",
       "    </tr>\n",
       "  </tbody>\n",
       "</table>\n",
       "</div>"
      ],
      "text/plain": [
       "       bedrooms  bathrooms  sqft_living  sqft_lot  floors  waterfront  view  \\\n",
       "6325          3       1.75         1780     13095     1.0           0     0   \n",
       "13473         2       1.00         1000      3700     1.0           0     0   \n",
       "\n",
       "       condition  grade  sqft_above  sqft_basement  yr_built  yr_renovated  \\\n",
       "6325           4      9        1780              0      1983             0   \n",
       "13473          3      6         800            200      1929             0   \n",
       "\n",
       "       zipcode     lat     long  sqft_living15  sqft_lot15  date_Year  \\\n",
       "6325     98042  47.367 -122.152           2750       13095       2014   \n",
       "13473    98118  47.552 -122.290           1270        5000       2015   \n",
       "\n",
       "       date_Month  date_Week  date_Day  date_Dayofweek  date_Dayofyear  \\\n",
       "6325            5         22        27               1             147   \n",
       "13473           3         11        10               1              69   \n",
       "\n",
       "       date_Is_month_end  date_Is_month_start  date_Is_quarter_end  \\\n",
       "6325               False                False                False   \n",
       "13473              False                False                False   \n",
       "\n",
       "       date_Is_quarter_start  date_Is_year_end  date_Is_year_start  \\\n",
       "6325                   False             False               False   \n",
       "13473                  False             False               False   \n",
       "\n",
       "       date_elapsed      price  \n",
       "6325     1401148800  12.691580  \n",
       "13473    1425945600  12.456831  "
      ]
     },
     "execution_count": 83,
     "metadata": {},
     "output_type": "execute_result"
    }
   ],
   "source": [
    "from pdpbox import pdp, info_plots\n",
    "\n",
    "df_train = x_train.assign(price=y_train)\n",
    "df_train.head(2)"
   ]
  },
  {
   "cell_type": "markdown",
   "metadata": {},
   "source": [
    "### Examinemos la variable \"yr_built\""
   ]
  },
  {
   "cell_type": "code",
   "execution_count": 84,
   "metadata": {},
   "outputs": [
    {
     "data": {
      "image/png": "[encoded data removed]",
      "text/plain": [
       "<Figure size 1080x648 with 3 Axes>"
      ]
     },
     "metadata": {},
     "output_type": "display_data"
    }
   ],
   "source": [
    "# Veamos como se distribuye en la data que tenemos, con respecto a nuestro target\n",
    "info_plots.target_plot(df_train, 'yr_built', 'Year built', 'price');"
   ]
  },
  {
   "cell_type": "code",
   "execution_count": 87,
   "metadata": {},
   "outputs": [],
   "source": [
    "# Ahora veamos como reacciona el modelo a esta variable\n",
    "pdp_year_built = pdp.pdp_isolate(m, x_train, x_train.columns, 'yr_built')"
   ]
  },
  {
   "cell_type": "code",
   "execution_count": 94,
   "metadata": {
    "scrolled": false
   },
   "outputs": [
    {
     "data": {
      "image/png": "[encoded data removed]",
      "text/plain": [
       "<Figure size 1080x684 with 2 Axes>"
      ]
     },
     "metadata": {},
     "output_type": "display_data"
    }
   ],
   "source": [
    "pdp.pdp_plot(pdp_year_built, 'Year built', plot_lines=True, frac_to_plot=100);"
   ]
  },
  {
   "cell_type": "code",
   "execution_count": 80,
   "metadata": {},
   "outputs": [
    {
     "data": {
      "image/png": "[encoded data removed]",
      "text/plain": [
       "<Figure size 1080x684 with 2 Axes>"
      ]
     },
     "metadata": {},
     "output_type": "display_data"
    }
   ],
   "source": [
    "# Usamos la opción de clusters para agrupar mejor los comportamientos\n",
    "fig, axes = pdp.pdp_plot(pdp_year_built, 'Year built', cluster=True, n_cluster_centers=5)\n",
    "axes['pdp_ax'].set_ylim(-0.45,0.2);"
   ]
  },
  {
   "cell_type": "markdown",
   "metadata": {},
   "source": [
    "### Veamos las interacciones entre longitud y latitud"
   ]
  },
  {
   "cell_type": "code",
   "execution_count": 111,
   "metadata": {},
   "outputs": [],
   "source": [
    "pdp_lat_long = pdp.pdp_interact(m, x_train, x_train.columns, ['long', 'lat'])"
   ]
  },
  {
   "cell_type": "code",
   "execution_count": 117,
   "metadata": {},
   "outputs": [
    {
     "data": {
      "image/png": "[encoded data removed]",
      "text/plain": [
       "<Figure size 756x900 with 5 Axes>"
      ]
     },
     "metadata": {},
     "output_type": "display_data"
    }
   ],
   "source": [
    "pdp.pdp_interact_plot(pdp_lat_long, ['long', 'lat'], plot_pdp=True);"
   ]
  },
  {
   "cell_type": "markdown",
   "metadata": {},
   "source": [
    "## Tree interpreter"
   ]
  },
  {
   "cell_type": "code",
   "execution_count": 236,
   "metadata": {},
   "outputs": [
    {
     "name": "stdout",
     "output_type": "stream",
     "text": [
      "Real price = 14.093142294562554\n"
     ]
    },
    {
     "data": {
      "text/html": [
       "<div>\n",
       "<style scoped>\n",
       "    .dataframe tbody tr th:only-of-type {\n",
       "        vertical-align: middle;\n",
       "    }\n",
       "\n",
       "    .dataframe tbody tr th {\n",
       "        vertical-align: top;\n",
       "    }\n",
       "\n",
       "    .dataframe thead th {\n",
       "        text-align: right;\n",
       "    }\n",
       "</style>\n",
       "<table border=\"1\" class=\"dataframe\">\n",
       "  <thead>\n",
       "    <tr style=\"text-align: right;\">\n",
       "      <th></th>\n",
       "      <th>bedrooms</th>\n",
       "      <th>bathrooms</th>\n",
       "      <th>sqft_living</th>\n",
       "      <th>sqft_lot</th>\n",
       "      <th>floors</th>\n",
       "      <th>waterfront</th>\n",
       "      <th>view</th>\n",
       "      <th>condition</th>\n",
       "      <th>grade</th>\n",
       "      <th>sqft_above</th>\n",
       "      <th>sqft_basement</th>\n",
       "      <th>yr_built</th>\n",
       "      <th>yr_renovated</th>\n",
       "      <th>zipcode</th>\n",
       "      <th>lat</th>\n",
       "      <th>long</th>\n",
       "      <th>sqft_living15</th>\n",
       "      <th>sqft_lot15</th>\n",
       "      <th>date_Year</th>\n",
       "      <th>date_Month</th>\n",
       "      <th>date_Week</th>\n",
       "      <th>date_Day</th>\n",
       "      <th>date_Dayofweek</th>\n",
       "      <th>date_Dayofyear</th>\n",
       "      <th>date_Is_month_end</th>\n",
       "      <th>date_Is_month_start</th>\n",
       "      <th>date_Is_quarter_end</th>\n",
       "      <th>date_Is_quarter_start</th>\n",
       "      <th>date_Is_year_end</th>\n",
       "      <th>date_Is_year_start</th>\n",
       "      <th>date_elapsed</th>\n",
       "    </tr>\n",
       "  </thead>\n",
       "  <tbody>\n",
       "    <tr>\n",
       "      <th>7536</th>\n",
       "      <td>4</td>\n",
       "      <td>3.0</td>\n",
       "      <td>2120</td>\n",
       "      <td>3600</td>\n",
       "      <td>2.0</td>\n",
       "      <td>0</td>\n",
       "      <td>3</td>\n",
       "      <td>4</td>\n",
       "      <td>8</td>\n",
       "      <td>1830</td>\n",
       "      <td>290</td>\n",
       "      <td>1908</td>\n",
       "      <td>1996</td>\n",
       "      <td>98119</td>\n",
       "      <td>47.6344</td>\n",
       "      <td>-122.369</td>\n",
       "      <td>2120</td>\n",
       "      <td>3600</td>\n",
       "      <td>2014</td>\n",
       "      <td>12</td>\n",
       "      <td>51</td>\n",
       "      <td>20</td>\n",
       "      <td>5</td>\n",
       "      <td>354</td>\n",
       "      <td>False</td>\n",
       "      <td>False</td>\n",
       "      <td>False</td>\n",
       "      <td>False</td>\n",
       "      <td>False</td>\n",
       "      <td>False</td>\n",
       "      <td>1419033600</td>\n",
       "    </tr>\n",
       "  </tbody>\n",
       "</table>\n",
       "</div>"
      ],
      "text/plain": [
       "      bedrooms  bathrooms  sqft_living  sqft_lot  floors  waterfront  view  \\\n",
       "7536         4        3.0         2120      3600     2.0           0     3   \n",
       "\n",
       "      condition  grade  sqft_above  sqft_basement  yr_built  yr_renovated  \\\n",
       "7536          4      8        1830            290      1908          1996   \n",
       "\n",
       "      zipcode      lat     long  sqft_living15  sqft_lot15  date_Year  \\\n",
       "7536    98119  47.6344 -122.369           2120        3600       2014   \n",
       "\n",
       "      date_Month  date_Week  date_Day  date_Dayofweek  date_Dayofyear  \\\n",
       "7536          12         51        20               5             354   \n",
       "\n",
       "      date_Is_month_end  date_Is_month_start  date_Is_quarter_end  \\\n",
       "7536              False                False                False   \n",
       "\n",
       "      date_Is_quarter_start  date_Is_year_end  date_Is_year_start  \\\n",
       "7536                  False             False               False   \n",
       "\n",
       "      date_elapsed  \n",
       "7536    1419033600  "
      ]
     },
     "execution_count": 236,
     "metadata": {},
     "output_type": "execute_result"
    }
   ],
   "source": [
    "from treeinterpreter import treeinterpreter as ti\n",
    "\n",
    "sample = x_val.sample()\n",
    "print(f'Real price = {y_val[sample.index[0]]}')\n",
    "sample"
   ]
  },
  {
   "cell_type": "code",
   "execution_count": 237,
   "metadata": {},
   "outputs": [],
   "source": [
    "preds, bias, contributions = ti.predict(m, sample)"
   ]
  },
  {
   "cell_type": "code",
   "execution_count": 238,
   "metadata": {},
   "outputs": [
    {
     "data": {
      "text/plain": [
       "array([13.6414084])"
      ]
     },
     "execution_count": 238,
     "metadata": {},
     "output_type": "execute_result"
    }
   ],
   "source": [
    "# Predicción final\n",
    "preds"
   ]
  },
  {
   "cell_type": "code",
   "execution_count": 239,
   "metadata": {},
   "outputs": [
    {
     "data": {
      "text/plain": [
       "array([13.04555006])"
      ]
     },
     "execution_count": 239,
     "metadata": {},
     "output_type": "execute_result"
    }
   ],
   "source": [
    "# Bias inicial\n",
    "bias"
   ]
  },
  {
   "cell_type": "code",
   "execution_count": 240,
   "metadata": {},
   "outputs": [
    {
     "data": {
      "text/plain": [
       "array([[-3.16159203e-03,  2.03414082e-02,  6.38170631e-02,\n",
       "        -2.69453380e-03,  7.74784393e-03,  0.00000000e+00,\n",
       "        -2.00218957e-03,  5.61156517e-03, -1.16673818e-01,\n",
       "         5.19588020e-02,  3.36895797e-03,  5.78505400e-02,\n",
       "         1.14284111e-02, -1.50036341e-02,  4.11542264e-01,\n",
       "         5.33375978e-02,  9.22139631e-02,  2.58478712e-03,\n",
       "         0.00000000e+00, -3.02214367e-03, -1.46487105e-02,\n",
       "         6.00833936e-04, -1.22190307e-02, -2.13358764e-02,\n",
       "        -3.80433663e-04, -7.71668326e-04,  0.00000000e+00,\n",
       "         0.00000000e+00,  0.00000000e+00,  0.00000000e+00,\n",
       "         5.36793806e-03]])"
      ]
     },
     "execution_count": 240,
     "metadata": {},
     "output_type": "execute_result"
    }
   ],
   "source": [
    "# Contribuciones de cada variable\n",
    "contributions"
   ]
  },
  {
   "cell_type": "code",
   "execution_count": 241,
   "metadata": {},
   "outputs": [
    {
     "data": {
      "text/html": [
       "<style  type=\"text/css\" >\n",
       "    #T_eb770b00_9143_11e8_9d17_74d43500427crow0_col0 {\n",
       "            background-color:  #ffffcc;\n",
       "        }    #T_eb770b00_9143_11e8_9d17_74d43500427crow1_col0 {\n",
       "            background-color:  #ffe48d;\n",
       "        }    #T_eb770b00_9143_11e8_9d17_74d43500427crow2_col0 {\n",
       "            background-color:  #fee289;\n",
       "        }    #T_eb770b00_9143_11e8_9d17_74d43500427crow3_col0 {\n",
       "            background-color:  #fee289;\n",
       "        }    #T_eb770b00_9143_11e8_9d17_74d43500427crow4_col0 {\n",
       "            background-color:  #fee288;\n",
       "        }    #T_eb770b00_9143_11e8_9d17_74d43500427crow5_col0 {\n",
       "            background-color:  #fede82;\n",
       "        }    #T_eb770b00_9143_11e8_9d17_74d43500427crow6_col0 {\n",
       "            background-color:  #fede82;\n",
       "        }    #T_eb770b00_9143_11e8_9d17_74d43500427crow7_col0 {\n",
       "            background-color:  #fede82;\n",
       "        }    #T_eb770b00_9143_11e8_9d17_74d43500427crow8_col0 {\n",
       "            background-color:  #fede82;\n",
       "        }    #T_eb770b00_9143_11e8_9d17_74d43500427crow9_col0 {\n",
       "            background-color:  #fede80;\n",
       "        }    #T_eb770b00_9143_11e8_9d17_74d43500427crow10_col0 {\n",
       "            background-color:  #fede80;\n",
       "        }    #T_eb770b00_9143_11e8_9d17_74d43500427crow11_col0 {\n",
       "            background-color:  #fede80;\n",
       "        }    #T_eb770b00_9143_11e8_9d17_74d43500427crow12_col0 {\n",
       "            background-color:  #fede80;\n",
       "        }    #T_eb770b00_9143_11e8_9d17_74d43500427crow13_col0 {\n",
       "            background-color:  #fede80;\n",
       "        }    #T_eb770b00_9143_11e8_9d17_74d43500427crow14_col0 {\n",
       "            background-color:  #fede80;\n",
       "        }    #T_eb770b00_9143_11e8_9d17_74d43500427crow15_col0 {\n",
       "            background-color:  #fede80;\n",
       "        }    #T_eb770b00_9143_11e8_9d17_74d43500427crow16_col0 {\n",
       "            background-color:  #fede80;\n",
       "        }    #T_eb770b00_9143_11e8_9d17_74d43500427crow17_col0 {\n",
       "            background-color:  #fede80;\n",
       "        }    #T_eb770b00_9143_11e8_9d17_74d43500427crow18_col0 {\n",
       "            background-color:  #fedd7f;\n",
       "        }    #T_eb770b00_9143_11e8_9d17_74d43500427crow19_col0 {\n",
       "            background-color:  #fedd7e;\n",
       "        }    #T_eb770b00_9143_11e8_9d17_74d43500427crow20_col0 {\n",
       "            background-color:  #fedc7c;\n",
       "        }    #T_eb770b00_9143_11e8_9d17_74d43500427crow21_col0 {\n",
       "            background-color:  #fedc7c;\n",
       "        }    #T_eb770b00_9143_11e8_9d17_74d43500427crow22_col0 {\n",
       "            background-color:  #fedb7b;\n",
       "        }    #T_eb770b00_9143_11e8_9d17_74d43500427crow23_col0 {\n",
       "            background-color:  #feda78;\n",
       "        }    #T_eb770b00_9143_11e8_9d17_74d43500427crow24_col0 {\n",
       "            background-color:  #fed673;\n",
       "        }    #T_eb770b00_9143_11e8_9d17_74d43500427crow25_col0 {\n",
       "            background-color:  #fec45f;\n",
       "        }    #T_eb770b00_9143_11e8_9d17_74d43500427crow26_col0 {\n",
       "            background-color:  #fec35e;\n",
       "        }    #T_eb770b00_9143_11e8_9d17_74d43500427crow27_col0 {\n",
       "            background-color:  #fec05b;\n",
       "        }    #T_eb770b00_9143_11e8_9d17_74d43500427crow28_col0 {\n",
       "            background-color:  #febd57;\n",
       "        }    #T_eb770b00_9143_11e8_9d17_74d43500427crow29_col0 {\n",
       "            background-color:  #feac49;\n",
       "        }    #T_eb770b00_9143_11e8_9d17_74d43500427crow30_col0 {\n",
       "            background-color:  #800026;\n",
       "        }</style>  \n",
       "<table id=\"T_eb770b00_9143_11e8_9d17_74d43500427c\" > \n",
       "<thead>    <tr> \n",
       "        <th class=\"blank level0\" ></th> \n",
       "        <th class=\"col_heading level0 col0\" >0</th> \n",
       "    </tr></thead> \n",
       "<tbody>    <tr> \n",
       "        <th id=\"T_eb770b00_9143_11e8_9d17_74d43500427clevel0_row0\" class=\"row_heading level0 row0\" >grade</th> \n",
       "        <td id=\"T_eb770b00_9143_11e8_9d17_74d43500427crow0_col0\" class=\"data row0 col0\" >-0.116674</td> \n",
       "    </tr>    <tr> \n",
       "        <th id=\"T_eb770b00_9143_11e8_9d17_74d43500427clevel0_row1\" class=\"row_heading level0 row1\" >date_Dayofyear</th> \n",
       "        <td id=\"T_eb770b00_9143_11e8_9d17_74d43500427crow1_col0\" class=\"data row1 col0\" >-0.0213359</td> \n",
       "    </tr>    <tr> \n",
       "        <th id=\"T_eb770b00_9143_11e8_9d17_74d43500427clevel0_row2\" class=\"row_heading level0 row2\" >zipcode</th> \n",
       "        <td id=\"T_eb770b00_9143_11e8_9d17_74d43500427crow2_col0\" class=\"data row2 col0\" >-0.0150036</td> \n",
       "    </tr>    <tr> \n",
       "        <th id=\"T_eb770b00_9143_11e8_9d17_74d43500427clevel0_row3\" class=\"row_heading level0 row3\" >date_Week</th> \n",
       "        <td id=\"T_eb770b00_9143_11e8_9d17_74d43500427crow3_col0\" class=\"data row3 col0\" >-0.0146487</td> \n",
       "    </tr>    <tr> \n",
       "        <th id=\"T_eb770b00_9143_11e8_9d17_74d43500427clevel0_row4\" class=\"row_heading level0 row4\" >date_Dayofweek</th> \n",
       "        <td id=\"T_eb770b00_9143_11e8_9d17_74d43500427crow4_col0\" class=\"data row4 col0\" >-0.012219</td> \n",
       "    </tr>    <tr> \n",
       "        <th id=\"T_eb770b00_9143_11e8_9d17_74d43500427clevel0_row5\" class=\"row_heading level0 row5\" >bedrooms</th> \n",
       "        <td id=\"T_eb770b00_9143_11e8_9d17_74d43500427crow5_col0\" class=\"data row5 col0\" >-0.00316159</td> \n",
       "    </tr>    <tr> \n",
       "        <th id=\"T_eb770b00_9143_11e8_9d17_74d43500427clevel0_row6\" class=\"row_heading level0 row6\" >date_Month</th> \n",
       "        <td id=\"T_eb770b00_9143_11e8_9d17_74d43500427crow6_col0\" class=\"data row6 col0\" >-0.00302214</td> \n",
       "    </tr>    <tr> \n",
       "        <th id=\"T_eb770b00_9143_11e8_9d17_74d43500427clevel0_row7\" class=\"row_heading level0 row7\" >sqft_lot</th> \n",
       "        <td id=\"T_eb770b00_9143_11e8_9d17_74d43500427crow7_col0\" class=\"data row7 col0\" >-0.00269453</td> \n",
       "    </tr>    <tr> \n",
       "        <th id=\"T_eb770b00_9143_11e8_9d17_74d43500427clevel0_row8\" class=\"row_heading level0 row8\" >view</th> \n",
       "        <td id=\"T_eb770b00_9143_11e8_9d17_74d43500427crow8_col0\" class=\"data row8 col0\" >-0.00200219</td> \n",
       "    </tr>    <tr> \n",
       "        <th id=\"T_eb770b00_9143_11e8_9d17_74d43500427clevel0_row9\" class=\"row_heading level0 row9\" >date_Is_month_start</th> \n",
       "        <td id=\"T_eb770b00_9143_11e8_9d17_74d43500427crow9_col0\" class=\"data row9 col0\" >-0.000771668</td> \n",
       "    </tr>    <tr> \n",
       "        <th id=\"T_eb770b00_9143_11e8_9d17_74d43500427clevel0_row10\" class=\"row_heading level0 row10\" >date_Is_month_end</th> \n",
       "        <td id=\"T_eb770b00_9143_11e8_9d17_74d43500427crow10_col0\" class=\"data row10 col0\" >-0.000380434</td> \n",
       "    </tr>    <tr> \n",
       "        <th id=\"T_eb770b00_9143_11e8_9d17_74d43500427clevel0_row11\" class=\"row_heading level0 row11\" >waterfront</th> \n",
       "        <td id=\"T_eb770b00_9143_11e8_9d17_74d43500427crow11_col0\" class=\"data row11 col0\" >0</td> \n",
       "    </tr>    <tr> \n",
       "        <th id=\"T_eb770b00_9143_11e8_9d17_74d43500427clevel0_row12\" class=\"row_heading level0 row12\" >date_Year</th> \n",
       "        <td id=\"T_eb770b00_9143_11e8_9d17_74d43500427crow12_col0\" class=\"data row12 col0\" >0</td> \n",
       "    </tr>    <tr> \n",
       "        <th id=\"T_eb770b00_9143_11e8_9d17_74d43500427clevel0_row13\" class=\"row_heading level0 row13\" >date_Is_quarter_end</th> \n",
       "        <td id=\"T_eb770b00_9143_11e8_9d17_74d43500427crow13_col0\" class=\"data row13 col0\" >0</td> \n",
       "    </tr>    <tr> \n",
       "        <th id=\"T_eb770b00_9143_11e8_9d17_74d43500427clevel0_row14\" class=\"row_heading level0 row14\" >date_Is_quarter_start</th> \n",
       "        <td id=\"T_eb770b00_9143_11e8_9d17_74d43500427crow14_col0\" class=\"data row14 col0\" >0</td> \n",
       "    </tr>    <tr> \n",
       "        <th id=\"T_eb770b00_9143_11e8_9d17_74d43500427clevel0_row15\" class=\"row_heading level0 row15\" >date_Is_year_start</th> \n",
       "        <td id=\"T_eb770b00_9143_11e8_9d17_74d43500427crow15_col0\" class=\"data row15 col0\" >0</td> \n",
       "    </tr>    <tr> \n",
       "        <th id=\"T_eb770b00_9143_11e8_9d17_74d43500427clevel0_row16\" class=\"row_heading level0 row16\" >date_Is_year_end</th> \n",
       "        <td id=\"T_eb770b00_9143_11e8_9d17_74d43500427crow16_col0\" class=\"data row16 col0\" >0</td> \n",
       "    </tr>    <tr> \n",
       "        <th id=\"T_eb770b00_9143_11e8_9d17_74d43500427clevel0_row17\" class=\"row_heading level0 row17\" >date_Day</th> \n",
       "        <td id=\"T_eb770b00_9143_11e8_9d17_74d43500427crow17_col0\" class=\"data row17 col0\" >0.000600834</td> \n",
       "    </tr>    <tr> \n",
       "        <th id=\"T_eb770b00_9143_11e8_9d17_74d43500427clevel0_row18\" class=\"row_heading level0 row18\" >sqft_lot15</th> \n",
       "        <td id=\"T_eb770b00_9143_11e8_9d17_74d43500427crow18_col0\" class=\"data row18 col0\" >0.00258479</td> \n",
       "    </tr>    <tr> \n",
       "        <th id=\"T_eb770b00_9143_11e8_9d17_74d43500427clevel0_row19\" class=\"row_heading level0 row19\" >sqft_basement</th> \n",
       "        <td id=\"T_eb770b00_9143_11e8_9d17_74d43500427crow19_col0\" class=\"data row19 col0\" >0.00336896</td> \n",
       "    </tr>    <tr> \n",
       "        <th id=\"T_eb770b00_9143_11e8_9d17_74d43500427clevel0_row20\" class=\"row_heading level0 row20\" >date_elapsed</th> \n",
       "        <td id=\"T_eb770b00_9143_11e8_9d17_74d43500427crow20_col0\" class=\"data row20 col0\" >0.00536794</td> \n",
       "    </tr>    <tr> \n",
       "        <th id=\"T_eb770b00_9143_11e8_9d17_74d43500427clevel0_row21\" class=\"row_heading level0 row21\" >condition</th> \n",
       "        <td id=\"T_eb770b00_9143_11e8_9d17_74d43500427crow21_col0\" class=\"data row21 col0\" >0.00561157</td> \n",
       "    </tr>    <tr> \n",
       "        <th id=\"T_eb770b00_9143_11e8_9d17_74d43500427clevel0_row22\" class=\"row_heading level0 row22\" >floors</th> \n",
       "        <td id=\"T_eb770b00_9143_11e8_9d17_74d43500427crow22_col0\" class=\"data row22 col0\" >0.00774784</td> \n",
       "    </tr>    <tr> \n",
       "        <th id=\"T_eb770b00_9143_11e8_9d17_74d43500427clevel0_row23\" class=\"row_heading level0 row23\" >yr_renovated</th> \n",
       "        <td id=\"T_eb770b00_9143_11e8_9d17_74d43500427crow23_col0\" class=\"data row23 col0\" >0.0114284</td> \n",
       "    </tr>    <tr> \n",
       "        <th id=\"T_eb770b00_9143_11e8_9d17_74d43500427clevel0_row24\" class=\"row_heading level0 row24\" >bathrooms</th> \n",
       "        <td id=\"T_eb770b00_9143_11e8_9d17_74d43500427crow24_col0\" class=\"data row24 col0\" >0.0203414</td> \n",
       "    </tr>    <tr> \n",
       "        <th id=\"T_eb770b00_9143_11e8_9d17_74d43500427clevel0_row25\" class=\"row_heading level0 row25\" >sqft_above</th> \n",
       "        <td id=\"T_eb770b00_9143_11e8_9d17_74d43500427crow25_col0\" class=\"data row25 col0\" >0.0519588</td> \n",
       "    </tr>    <tr> \n",
       "        <th id=\"T_eb770b00_9143_11e8_9d17_74d43500427clevel0_row26\" class=\"row_heading level0 row26\" >long</th> \n",
       "        <td id=\"T_eb770b00_9143_11e8_9d17_74d43500427crow26_col0\" class=\"data row26 col0\" >0.0533376</td> \n",
       "    </tr>    <tr> \n",
       "        <th id=\"T_eb770b00_9143_11e8_9d17_74d43500427clevel0_row27\" class=\"row_heading level0 row27\" >yr_built</th> \n",
       "        <td id=\"T_eb770b00_9143_11e8_9d17_74d43500427crow27_col0\" class=\"data row27 col0\" >0.0578505</td> \n",
       "    </tr>    <tr> \n",
       "        <th id=\"T_eb770b00_9143_11e8_9d17_74d43500427clevel0_row28\" class=\"row_heading level0 row28\" >sqft_living</th> \n",
       "        <td id=\"T_eb770b00_9143_11e8_9d17_74d43500427crow28_col0\" class=\"data row28 col0\" >0.0638171</td> \n",
       "    </tr>    <tr> \n",
       "        <th id=\"T_eb770b00_9143_11e8_9d17_74d43500427clevel0_row29\" class=\"row_heading level0 row29\" >sqft_living15</th> \n",
       "        <td id=\"T_eb770b00_9143_11e8_9d17_74d43500427crow29_col0\" class=\"data row29 col0\" >0.092214</td> \n",
       "    </tr>    <tr> \n",
       "        <th id=\"T_eb770b00_9143_11e8_9d17_74d43500427clevel0_row30\" class=\"row_heading level0 row30\" >lat</th> \n",
       "        <td id=\"T_eb770b00_9143_11e8_9d17_74d43500427crow30_col0\" class=\"data row30 col0\" >0.411542</td> \n",
       "    </tr></tbody> \n",
       "</table> "
      ],
      "text/plain": [
       "<pandas.io.formats.style.Styler at 0x7f8015073c50>"
      ]
     },
     "execution_count": 241,
     "metadata": {},
     "output_type": "execute_result"
    }
   ],
   "source": [
    "# Veamos las contribuciones con el nombre de las variables\n",
    "tt = pd.DataFrame(contributions, columns=sample.columns).T.sort_values(0)\n",
    "tt.style.background_gradient(cmap='YlOrRd')"
   ]
  },
  {
   "cell_type": "code",
   "execution_count": 242,
   "metadata": {},
   "outputs": [
    {
     "data": {
      "image/png": "[encoded data removed]",
      "text/plain": [
       "<Figure size 936x432 with 1 Axes>"
      ]
     },
     "metadata": {},
     "output_type": "display_data"
    }
   ],
   "source": [
    "# Usamos un waterfallplot para tener una mejor visualización de la predicción\n",
    "utils.waterfallplot(sample, contributions[0], formatting='{:,.3f}', size=(13,6), sorted_value=True, threshold=0.05);"
   ]
  },
  {
   "cell_type": "markdown",
   "metadata": {},
   "source": [
    "## Ejercicio 2: Utilizar los métodos de interpretación en el Census Income Data Set"
   ]
  },
  {
   "cell_type": "markdown",
   "metadata": {},
   "source": [
    "* **age:** continuous.\n",
    "* **workclass:** Private, Self-emp-not-inc, Self-emp-inc, Federal-gov, Local-gov, State-gov, Without-pay, Never-worked.\n",
    "* **fnlwgt:** continuous.\n",
    "* **education:** Bachelors, Some-college, 11th, HS-grad, Prof-school, Assoc-acdm, Assoc-voc, 9th, 7th-8th, 12th, Masters, 1st-4th, 10th, Doctorate, 5th-6th, Preschool.\n",
    "* **education-num:** continuous.\n",
    "* **marital-status:** Married-civ-spouse, Divorced, Never-married, Separated, Widowed, Married-spouse-absent, Married-AF-spouse.\n",
    "* **occupation:** Tech-support, Craft-repair, Other-service, Sales, Exec-managerial, Prof-specialty, Handlers-cleaners, Machine-op-inspct, Adm-clerical, Farming-fishing, Transport-moving, Priv-house-serv, Protective-serv, Armed-Forces.\n",
    "* **relationship:** Wife, Own-child, Husband, Not-in-family, Other-relative, Unmarried.\n",
    "* **race:** White, Asian-Pac-Islander, Amer-Indian-Eskimo, Other, Black.\n",
    "* **sex:** Female, Male.\n",
    "* **capital-gain:** continuous.\n",
    "* **capital-loss:** continuous.\n",
    "* **hours-per-week:** continuous.\n",
    "* **native-country:** United-States, Cambodia, England, Puerto-Rico, Canada, Germany, Outlying-US(Guam-USVI-etc), India, Japan, Greece, South, China, Cuba, Iran, Honduras, Philippines, Italy, Poland, Jamaica, Vietnam, Mexico, Portugal, Ireland, France, Dominican-Republic, Laos, Ecuador, Taiwan, Haiti, Columbia, Hungary, Guatemala, Nicaragua, Scotland, Thailand, Yugoslavia, El-Salvador, Trinadad&Tobago, Peru, Hong, Holand-Netherlands."
   ]
  },
  {
   "cell_type": "code",
   "execution_count": null,
   "metadata": {},
   "outputs": [],
   "source": [
    "# COMPLETAR"
   ]
  },
  {
   "cell_type": "markdown",
   "metadata": {},
   "source": [
    "# Revisitando Train-validation split"
   ]
  },
  {
   "cell_type": "code",
   "execution_count": 336,
   "metadata": {},
   "outputs": [
    {
     "name": "stdout",
     "output_type": "stream",
     "text": [
      "Train shape     : (17290, 30)\n",
      "Validation shape: (4323, 30)\n"
     ]
    }
   ],
   "source": [
    "# Cargar la data del ejemplo de regresión\n",
    "df = df_raw.sort_values('date_elapsed')\n",
    "x = df.drop('price', axis=1)\n",
    "y = df['price']\n",
    "\n",
    "x_train, x_val, y_train, y_val = train_test_split(x, y, test_size=0.2, shuffle=False)\n",
    "print(f'Train shape     : {x_train.shape}')\n",
    "print(f'Validation shape: {x_val.shape}')"
   ]
  },
  {
   "cell_type": "code",
   "execution_count": 337,
   "metadata": {},
   "outputs": [
    {
     "data": {
      "text/plain": [
       "RandomForestRegressor(bootstrap=True, criterion='mse', max_depth=None,\n",
       "           max_features='auto', max_leaf_nodes=None,\n",
       "           min_impurity_decrease=0.0, min_impurity_split=None,\n",
       "           min_samples_leaf=1, min_samples_split=2,\n",
       "           min_weight_fraction_leaf=0.0, n_estimators=40, n_jobs=-1,\n",
       "           oob_score=True, random_state=None, verbose=0, warm_start=False)"
      ]
     },
     "execution_count": 337,
     "metadata": {},
     "output_type": "execute_result"
    }
   ],
   "source": [
    "m = RandomForestRegressor(40, n_jobs=-1, oob_score=True)\n",
    "m.fit(x_train, y_train)"
   ]
  },
  {
   "cell_type": "markdown",
   "metadata": {},
   "source": [
    "**Last score**:\n",
    "\n",
    "* Train score      = 0.9833\n",
    "* Validation score = 0.8884\n",
    "* OOB score        = 0.879"
   ]
  },
  {
   "cell_type": "code",
   "execution_count": 338,
   "metadata": {},
   "outputs": [
    {
     "name": "stdout",
     "output_type": "stream",
     "text": [
      "Scores:\n",
      "Train      = 0.9839\n",
      "Validation = 0.8557\n",
      "OOB        = 0.8846\n"
     ]
    }
   ],
   "source": [
    "score()"
   ]
  },
  {
   "cell_type": "markdown",
   "metadata": {},
   "source": [
    "# Debilidades de Random Forest"
   ]
  },
  {
   "cell_type": "code",
   "execution_count": 99,
   "metadata": {},
   "outputs": [
    {
     "data": {
      "image/png": "[encoded data removed]",
      "text/plain": [
       "<Figure size 432x288 with 1 Axes>"
      ]
     },
     "metadata": {},
     "output_type": "display_data"
    }
   ],
   "source": [
    "x = np.arange(100)/100\n",
    "y = x + np.random.normal(scale=0.05, size=100)\n",
    "\n",
    "plt.scatter(x, y, alpha=0.5);"
   ]
  },
  {
   "cell_type": "code",
   "execution_count": 100,
   "metadata": {},
   "outputs": [
    {
     "data": {
      "image/png": "[encoded data removed]",
      "text/plain": [
       "<Figure size 432x288 with 1 Axes>"
      ]
     },
     "metadata": {},
     "output_type": "display_data"
    }
   ],
   "source": [
    "x_train, x_val, y_train, y_val = train_test_split(x, y, test_size=0.4, shuffle=False)\n",
    "plt.scatter(x_train, y_train, alpha=0.5)\n",
    "plt.scatter(x_val, y_val, alpha=0.5);"
   ]
  },
  {
   "cell_type": "code",
   "execution_count": 105,
   "metadata": {},
   "outputs": [
    {
     "data": {
      "text/plain": [
       "(60,)"
      ]
     },
     "execution_count": 105,
     "metadata": {},
     "output_type": "execute_result"
    }
   ],
   "source": [
    "x_train.shape"
   ]
  },
  {
   "cell_type": "code",
   "execution_count": 104,
   "metadata": {},
   "outputs": [
    {
     "data": {
      "text/plain": [
       "(60, 1)"
      ]
     },
     "execution_count": 104,
     "metadata": {},
     "output_type": "execute_result"
    }
   ],
   "source": [
    "# Para poder entrenar la data, esta tiene que tener 2 dimensiones\n",
    "x_train[:, None].shape"
   ]
  },
  {
   "cell_type": "code",
   "execution_count": 107,
   "metadata": {},
   "outputs": [],
   "source": [
    "x_train = x_train[:, None]\n",
    "x_val = x_val[:, None]"
   ]
  },
  {
   "cell_type": "code",
   "execution_count": 111,
   "metadata": {},
   "outputs": [
    {
     "data": {
      "text/plain": [
       "RandomForestRegressor(bootstrap=True, criterion='mse', max_depth=None,\n",
       "           max_features='auto', max_leaf_nodes=None,\n",
       "           min_impurity_decrease=0.0, min_impurity_split=None,\n",
       "           min_samples_leaf=1, min_samples_split=2,\n",
       "           min_weight_fraction_leaf=0.0, n_estimators=40, n_jobs=1,\n",
       "           oob_score=True, random_state=None, verbose=0, warm_start=False)"
      ]
     },
     "execution_count": 111,
     "metadata": {},
     "output_type": "execute_result"
    }
   ],
   "source": [
    "m = RandomForestRegressor(40, oob_score=True)\n",
    "m.fit(x_train, y_train)"
   ]
  },
  {
   "cell_type": "code",
   "execution_count": 112,
   "metadata": {},
   "outputs": [
    {
     "name": "stdout",
     "output_type": "stream",
     "text": [
      "Scores:\n",
      "Train      = 0.9776\n",
      "Validation = -2.581\n",
      "OOB        = 0.8479\n"
     ]
    }
   ],
   "source": [
    "score()"
   ]
  },
  {
   "cell_type": "markdown",
   "metadata": {},
   "source": [
    "Examinemos los resultados"
   ]
  },
  {
   "cell_type": "code",
   "execution_count": 113,
   "metadata": {},
   "outputs": [],
   "source": [
    "pred_train = m.predict(x_train)\n",
    "pred_val = m.predict(x_val)"
   ]
  },
  {
   "cell_type": "code",
   "execution_count": 114,
   "metadata": {},
   "outputs": [
    {
     "data": {
      "image/png": "[encoded data removed]",
      "text/plain": [
       "<Figure size 432x288 with 1 Axes>"
      ]
     },
     "metadata": {},
     "output_type": "display_data"
    }
   ],
   "source": [
    "plt.scatter(x_train, pred_train, alpha=0.5)\n",
    "plt.scatter(x_val, pred_val, alpha=0.5);"
   ]
  }
 ],
 "metadata": {
  "kernelspec": {
   "display_name": "Python 3",
   "language": "python",
   "name": "python3"
  },
  "language_info": {
   "codemirror_mode": {
    "name": "ipython",
    "version": 3
   },
   "file_extension": ".py",
   "mimetype": "text/x-python",
   "name": "python",
   "nbconvert_exporter": "python",
   "pygments_lexer": "ipython3",
   "version": "3.6.6"
  },
  "toc": {
   "base_numbering": 1,
   "nav_menu": {},
   "number_sections": true,
   "sideBar": true,
   "skip_h1_title": false,
   "title_cell": "Table of Contents",
   "title_sidebar": "Contents",
   "toc_cell": false,
   "toc_position": {
    "height": "calc(100% - 180px)",
    "left": "10px",
    "top": "150px",
    "width": "300.4px"
   },
   "toc_section_display": true,
   "toc_window_display": true
  }
 },
 "nbformat": 4,
 "nbformat_minor": 2
}
