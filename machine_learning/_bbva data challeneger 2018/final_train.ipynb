{
 "cells": [
  {
   "cell_type": "code",
   "execution_count": 1,
   "metadata": {},
   "outputs": [
    {
     "data": {
      "text/html": [
       "<div>\n",
       "<style scoped>\n",
       "    .dataframe tbody tr th:only-of-type {\n",
       "        vertical-align: middle;\n",
       "    }\n",
       "\n",
       "    .dataframe tbody tr th {\n",
       "        vertical-align: top;\n",
       "    }\n",
       "\n",
       "    .dataframe thead th {\n",
       "        text-align: right;\n",
       "    }\n",
       "</style>\n",
       "<table border=\"1\" class=\"dataframe\">\n",
       "  <thead>\n",
       "    <tr style=\"text-align: right;\">\n",
       "      <th></th>\n",
       "      <th>fechaOper</th>\n",
       "      <th>codCliente</th>\n",
       "      <th>codGiro</th>\n",
       "      <th>codEstab</th>\n",
       "      <th>flagLimaProvEstab</th>\n",
       "      <th>ubigeoEstab</th>\n",
       "      <th>ctdTrx</th>\n",
       "      <th>ratingMonto</th>\n",
       "    </tr>\n",
       "  </thead>\n",
       "  <tbody>\n",
       "    <tr>\n",
       "      <th>0</th>\n",
       "      <td>2017-01-29 00:00:00</td>\n",
       "      <td>7649</td>\n",
       "      <td>138.0</td>\n",
       "      <td>43629</td>\n",
       "      <td>1</td>\n",
       "      <td>176.0</td>\n",
       "      <td>1</td>\n",
       "      <td>0.014072</td>\n",
       "    </tr>\n",
       "    <tr>\n",
       "      <th>1</th>\n",
       "      <td>2016-12-01 00:00:00</td>\n",
       "      <td>24604</td>\n",
       "      <td>75.0</td>\n",
       "      <td>4326</td>\n",
       "      <td>0</td>\n",
       "      <td>81.0</td>\n",
       "      <td>1</td>\n",
       "      <td>0.001667</td>\n",
       "    </tr>\n",
       "    <tr>\n",
       "      <th>2</th>\n",
       "      <td>2017-06-01 00:00:00</td>\n",
       "      <td>15289</td>\n",
       "      <td>75.0</td>\n",
       "      <td>4326</td>\n",
       "      <td>0</td>\n",
       "      <td>81.0</td>\n",
       "      <td>1</td>\n",
       "      <td>0.000127</td>\n",
       "    </tr>\n",
       "    <tr>\n",
       "      <th>3</th>\n",
       "      <td>2017-09-22 00:00:00</td>\n",
       "      <td>5190</td>\n",
       "      <td>110.0</td>\n",
       "      <td>59776</td>\n",
       "      <td>1</td>\n",
       "      <td>156.0</td>\n",
       "      <td>1</td>\n",
       "      <td>0.001167</td>\n",
       "    </tr>\n",
       "    <tr>\n",
       "      <th>4</th>\n",
       "      <td>2017-05-05 00:00:00</td>\n",
       "      <td>16635</td>\n",
       "      <td>75.0</td>\n",
       "      <td>31043</td>\n",
       "      <td>0</td>\n",
       "      <td>81.0</td>\n",
       "      <td>1</td>\n",
       "      <td>0.047386</td>\n",
       "    </tr>\n",
       "  </tbody>\n",
       "</table>\n",
       "</div>"
      ],
      "text/plain": [
       "             fechaOper  codCliente  codGiro  codEstab  flagLimaProvEstab  \\\n",
       "0  2017-01-29 00:00:00        7649    138.0     43629                  1   \n",
       "1  2016-12-01 00:00:00       24604     75.0      4326                  0   \n",
       "2  2017-06-01 00:00:00       15289     75.0      4326                  0   \n",
       "3  2017-09-22 00:00:00        5190    110.0     59776                  1   \n",
       "4  2017-05-05 00:00:00       16635     75.0     31043                  0   \n",
       "\n",
       "   ubigeoEstab  ctdTrx  ratingMonto  \n",
       "0        176.0       1     0.014072  \n",
       "1         81.0       1     0.001667  \n",
       "2         81.0       1     0.000127  \n",
       "3        156.0       1     0.001167  \n",
       "4         81.0       1     0.047386  "
      ]
     },
     "execution_count": 1,
     "metadata": {},
     "output_type": "execute_result"
    }
   ],
   "source": [
    "#calculo\n",
    "import numpy as np\n",
    "import pandas as pd\n",
    "\n",
    "#grafico\n",
    "import matplotlib.pyplot as plt\n",
    "import seaborn as sns\n",
    "%matplotlib inline\n",
    "\n",
    "#propios utilitarios\n",
    "from utils import *\n",
    "from graphs import *\n",
    "\n",
    "data = pd.read_csv('data/01dataBaseTrainTrxRec.csv', **set_parameter_csv)\n",
    "data.head()"
   ]
  },
  {
   "cell_type": "code",
   "execution_count": 2,
   "metadata": {},
   "outputs": [
    {
     "data": {
      "text/html": [
       "<div>\n",
       "<style scoped>\n",
       "    .dataframe tbody tr th:only-of-type {\n",
       "        vertical-align: middle;\n",
       "    }\n",
       "\n",
       "    .dataframe tbody tr th {\n",
       "        vertical-align: top;\n",
       "    }\n",
       "\n",
       "    .dataframe thead th {\n",
       "        text-align: right;\n",
       "    }\n",
       "</style>\n",
       "<table border=\"1\" class=\"dataframe\">\n",
       "  <thead>\n",
       "    <tr style=\"text-align: right;\">\n",
       "      <th></th>\n",
       "      <th>Nulos</th>\n",
       "      <th>Cantidad</th>\n",
       "      <th>Tipo Col</th>\n",
       "    </tr>\n",
       "  </thead>\n",
       "  <tbody>\n",
       "    <tr>\n",
       "      <th>fechaOper</th>\n",
       "      <td>False</td>\n",
       "      <td>0</td>\n",
       "      <td>object</td>\n",
       "    </tr>\n",
       "    <tr>\n",
       "      <th>codCliente</th>\n",
       "      <td>False</td>\n",
       "      <td>0</td>\n",
       "      <td>int64</td>\n",
       "    </tr>\n",
       "    <tr>\n",
       "      <th>codGiro</th>\n",
       "      <td>True</td>\n",
       "      <td>92686</td>\n",
       "      <td>float64</td>\n",
       "    </tr>\n",
       "    <tr>\n",
       "      <th>codEstab</th>\n",
       "      <td>False</td>\n",
       "      <td>0</td>\n",
       "      <td>int64</td>\n",
       "    </tr>\n",
       "    <tr>\n",
       "      <th>flagLimaProvEstab</th>\n",
       "      <td>False</td>\n",
       "      <td>0</td>\n",
       "      <td>int64</td>\n",
       "    </tr>\n",
       "    <tr>\n",
       "      <th>ubigeoEstab</th>\n",
       "      <td>True</td>\n",
       "      <td>92686</td>\n",
       "      <td>float64</td>\n",
       "    </tr>\n",
       "    <tr>\n",
       "      <th>ctdTrx</th>\n",
       "      <td>False</td>\n",
       "      <td>0</td>\n",
       "      <td>int64</td>\n",
       "    </tr>\n",
       "    <tr>\n",
       "      <th>ratingMonto</th>\n",
       "      <td>False</td>\n",
       "      <td>0</td>\n",
       "      <td>float64</td>\n",
       "    </tr>\n",
       "  </tbody>\n",
       "</table>\n",
       "</div>"
      ],
      "text/plain": [
       "                   Nulos  Cantidad Tipo Col\n",
       "fechaOper          False         0   object\n",
       "codCliente         False         0    int64\n",
       "codGiro             True     92686  float64\n",
       "codEstab           False         0    int64\n",
       "flagLimaProvEstab  False         0    int64\n",
       "ubigeoEstab         True     92686  float64\n",
       "ctdTrx             False         0    int64\n",
       "ratingMonto        False         0  float64"
      ]
     },
     "execution_count": 2,
     "metadata": {},
     "output_type": "execute_result"
    }
   ],
   "source": [
    "null_verificator(data)"
   ]
  },
  {
   "cell_type": "code",
   "execution_count": 3,
   "metadata": {},
   "outputs": [
    {
     "data": {
      "text/html": [
       "<div>\n",
       "<style scoped>\n",
       "    .dataframe tbody tr th:only-of-type {\n",
       "        vertical-align: middle;\n",
       "    }\n",
       "\n",
       "    .dataframe tbody tr th {\n",
       "        vertical-align: top;\n",
       "    }\n",
       "\n",
       "    .dataframe thead th {\n",
       "        text-align: right;\n",
       "    }\n",
       "</style>\n",
       "<table border=\"1\" class=\"dataframe\">\n",
       "  <thead>\n",
       "    <tr style=\"text-align: right;\">\n",
       "      <th></th>\n",
       "      <th>fechaOper</th>\n",
       "      <th>codCliente</th>\n",
       "      <th>codGiro</th>\n",
       "      <th>codEstab</th>\n",
       "      <th>flagLimaProvEstab</th>\n",
       "      <th>ubigeoEstab</th>\n",
       "      <th>ctdTrx</th>\n",
       "      <th>ratingMonto</th>\n",
       "    </tr>\n",
       "  </thead>\n",
       "  <tbody>\n",
       "    <tr>\n",
       "      <th>count</th>\n",
       "      <td>1591617</td>\n",
       "      <td>1591617</td>\n",
       "      <td>1591617</td>\n",
       "      <td>1591617</td>\n",
       "      <td>1591617</td>\n",
       "      <td>1591617</td>\n",
       "      <td>1591617</td>\n",
       "      <td>1591617</td>\n",
       "    </tr>\n",
       "    <tr>\n",
       "      <th>unique</th>\n",
       "      <td>365</td>\n",
       "      <td>30000</td>\n",
       "      <td>223</td>\n",
       "      <td>74339</td>\n",
       "      <td>2</td>\n",
       "      <td>422</td>\n",
       "      <td>22</td>\n",
       "      <td>723645</td>\n",
       "    </tr>\n",
       "    <tr>\n",
       "      <th>top</th>\n",
       "      <td>2017-07-15 00:00:00</td>\n",
       "      <td>21426</td>\n",
       "      <td>75.0</td>\n",
       "      <td>24539</td>\n",
       "      <td>1</td>\n",
       "      <td>175.0</td>\n",
       "      <td>1</td>\n",
       "      <td>0.08333333333333333</td>\n",
       "    </tr>\n",
       "    <tr>\n",
       "      <th>freq</th>\n",
       "      <td>7303</td>\n",
       "      <td>730</td>\n",
       "      <td>322667</td>\n",
       "      <td>12644</td>\n",
       "      <td>1286691</td>\n",
       "      <td>173180</td>\n",
       "      <td>1499771</td>\n",
       "      <td>309</td>\n",
       "    </tr>\n",
       "  </tbody>\n",
       "</table>\n",
       "</div>"
      ],
      "text/plain": [
       "                  fechaOper codCliente  codGiro codEstab flagLimaProvEstab  \\\n",
       "count               1591617    1591617  1591617  1591617           1591617   \n",
       "unique                  365      30000      223    74339                 2   \n",
       "top     2017-07-15 00:00:00      21426     75.0    24539                 1   \n",
       "freq                   7303        730   322667    12644           1286691   \n",
       "\n",
       "       ubigeoEstab   ctdTrx          ratingMonto  \n",
       "count      1591617  1591617              1591617  \n",
       "unique         422       22               723645  \n",
       "top          175.0        1  0.08333333333333333  \n",
       "freq        173180  1499771                  309  "
      ]
     },
     "execution_count": 3,
     "metadata": {},
     "output_type": "execute_result"
    }
   ],
   "source": [
    "data.astype('str').describe(include='all')"
   ]
  },
  {
   "cell_type": "code",
   "execution_count": 4,
   "metadata": {},
   "outputs": [
    {
     "data": {
      "text/plain": [
       "count    1.591617e+06\n",
       "mean     1.318383e-02\n",
       "std      3.236438e-02\n",
       "min      2.984905e-06\n",
       "25%      1.598366e-03\n",
       "50%      4.199563e-03\n",
       "75%      1.152572e-02\n",
       "max      1.000000e+00\n",
       "Name: ratingMonto, dtype: float64"
      ]
     },
     "execution_count": 4,
     "metadata": {},
     "output_type": "execute_result"
    }
   ],
   "source": [
    "data['ratingMonto'].describe()"
   ]
  },
  {
   "cell_type": "markdown",
   "metadata": {},
   "source": [
    "## Analisis de nulos"
   ]
  },
  {
   "cell_type": "code",
   "execution_count": 6,
   "metadata": {},
   "outputs": [
    {
     "data": {
      "text/plain": [
       "True"
      ]
     },
     "execution_count": 6,
     "metadata": {},
     "output_type": "execute_result"
    }
   ],
   "source": [
    "#Validacion de que los mismos que tienen nulos los codgios de giro tambien tienen nulo su ubigeo\n",
    "data[data['ubigeoEstab'].isnull() & data['codGiro'].isnull()].shape[0] == \\\n",
    "    data[data['ubigeoEstab'].isnull()].shape[0]"
   ]
  },
  {
   "cell_type": "code",
   "execution_count": 7,
   "metadata": {},
   "outputs": [],
   "source": [
    "#Por ello completo nulos con un tipo nuevo de dato\n",
    "data.fillna(0, inplace=True)"
   ]
  },
  {
   "cell_type": "code",
   "execution_count": 8,
   "metadata": {},
   "outputs": [
    {
     "data": {
      "text/plain": [
       "'DATA LIMPIA DE NULOS'"
      ]
     },
     "execution_count": 8,
     "metadata": {},
     "output_type": "execute_result"
    }
   ],
   "source": [
    "null_verificator(data)"
   ]
  },
  {
   "cell_type": "code",
   "execution_count": 9,
   "metadata": {},
   "outputs": [
    {
     "data": {
      "text/plain": [
       "(1591617, 8)"
      ]
     },
     "execution_count": 9,
     "metadata": {},
     "output_type": "execute_result"
    }
   ],
   "source": [
    "data.shape"
   ]
  },
  {
   "cell_type": "code",
   "execution_count": null,
   "metadata": {},
   "outputs": [],
   "source": [
    "data_ori.groupby(\n",
    "    by=['ubigeoEstab'], as_index=False\n",
    ").agg(\n",
    "    {'ID_CORRELATIVO':'count','ATTRITION':'mean'}\n",
    ").rename(\n",
    "    columns={'ID_CORRELATIVO':'FREC', 'ATTRITION': 'RT_CONVERSION'}\n",
    ")"
   ]
  }
 ],
 "metadata": {
  "kernelspec": {
   "display_name": "Python 3",
   "language": "python",
   "name": "python3"
  },
  "language_info": {
   "codemirror_mode": {
    "name": "ipython",
    "version": 3
   },
   "file_extension": ".py",
   "mimetype": "text/x-python",
   "name": "python",
   "nbconvert_exporter": "python",
   "pygments_lexer": "ipython3",
   "version": "3.6.4"
  }
 },
 "nbformat": 4,
 "nbformat_minor": 2
}
