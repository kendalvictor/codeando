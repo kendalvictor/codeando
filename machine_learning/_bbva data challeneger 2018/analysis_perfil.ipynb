{
 "cells": [
  {
   "cell_type": "code",
   "execution_count": 1,
   "metadata": {},
   "outputs": [
    {
     "data": {
      "text/html": [
       "<div>\n",
       "<style scoped>\n",
       "    .dataframe tbody tr th:only-of-type {\n",
       "        vertical-align: middle;\n",
       "    }\n",
       "\n",
       "    .dataframe tbody tr th {\n",
       "        vertical-align: top;\n",
       "    }\n",
       "\n",
       "    .dataframe thead th {\n",
       "        text-align: right;\n",
       "    }\n",
       "</style>\n",
       "<table border=\"1\" class=\"dataframe\">\n",
       "  <thead>\n",
       "    <tr style=\"text-align: right;\">\n",
       "      <th></th>\n",
       "      <th>codCliente</th>\n",
       "      <th>rangoEdad</th>\n",
       "      <th>rangoIngreso</th>\n",
       "      <th>flagGenero</th>\n",
       "      <th>flagLimaProvCliente</th>\n",
       "      <th>ubigeoCliente</th>\n",
       "      <th>rangoCtdProdAct</th>\n",
       "      <th>rangoCtdProdPas</th>\n",
       "      <th>rangoCtdProdSeg</th>\n",
       "      <th>flagBxi</th>\n",
       "      <th>saldoTcEntidad1</th>\n",
       "      <th>saldoTcEntidad2</th>\n",
       "      <th>saldoTcEntidad3</th>\n",
       "      <th>saldoTcEntidad4</th>\n",
       "    </tr>\n",
       "  </thead>\n",
       "  <tbody>\n",
       "    <tr>\n",
       "      <th>0</th>\n",
       "      <td>24041</td>\n",
       "      <td>Rango2</td>\n",
       "      <td>Rango2</td>\n",
       "      <td>1</td>\n",
       "      <td>0</td>\n",
       "      <td>360.0</td>\n",
       "      <td>Rango1</td>\n",
       "      <td>Rango1</td>\n",
       "      <td>Rango1</td>\n",
       "      <td>1</td>\n",
       "      <td>NaN</td>\n",
       "      <td>NaN</td>\n",
       "      <td>NaN</td>\n",
       "      <td>NaN</td>\n",
       "    </tr>\n",
       "    <tr>\n",
       "      <th>1</th>\n",
       "      <td>9040</td>\n",
       "      <td>Rango4</td>\n",
       "      <td>Rango6</td>\n",
       "      <td>1</td>\n",
       "      <td>1</td>\n",
       "      <td>260.0</td>\n",
       "      <td>Rango1</td>\n",
       "      <td>Rango1</td>\n",
       "      <td>Rango1</td>\n",
       "      <td>1</td>\n",
       "      <td>Rango1</td>\n",
       "      <td>Rango1</td>\n",
       "      <td>Rango1</td>\n",
       "      <td>Rango1</td>\n",
       "    </tr>\n",
       "    <tr>\n",
       "      <th>2</th>\n",
       "      <td>18233</td>\n",
       "      <td>Rango2</td>\n",
       "      <td>Rango1</td>\n",
       "      <td>1</td>\n",
       "      <td>1</td>\n",
       "      <td>273.0</td>\n",
       "      <td>Rango1</td>\n",
       "      <td>Rango2</td>\n",
       "      <td>Rango1</td>\n",
       "      <td>1</td>\n",
       "      <td>Rango2</td>\n",
       "      <td>Rango1</td>\n",
       "      <td>Rango1</td>\n",
       "      <td>Rango1</td>\n",
       "    </tr>\n",
       "    <tr>\n",
       "      <th>3</th>\n",
       "      <td>7226</td>\n",
       "      <td>Rango5</td>\n",
       "      <td>Rango3</td>\n",
       "      <td>0</td>\n",
       "      <td>1</td>\n",
       "      <td>241.0</td>\n",
       "      <td>Rango1</td>\n",
       "      <td>Rango2</td>\n",
       "      <td>Rango1</td>\n",
       "      <td>1</td>\n",
       "      <td>Rango1</td>\n",
       "      <td>Rango2</td>\n",
       "      <td>Rango1</td>\n",
       "      <td>Rango2</td>\n",
       "    </tr>\n",
       "    <tr>\n",
       "      <th>4</th>\n",
       "      <td>21617</td>\n",
       "      <td>Rango3</td>\n",
       "      <td>Rango2</td>\n",
       "      <td>1</td>\n",
       "      <td>1</td>\n",
       "      <td>268.0</td>\n",
       "      <td>Rango1</td>\n",
       "      <td>Rango1</td>\n",
       "      <td>Rango1</td>\n",
       "      <td>0</td>\n",
       "      <td>NaN</td>\n",
       "      <td>NaN</td>\n",
       "      <td>NaN</td>\n",
       "      <td>NaN</td>\n",
       "    </tr>\n",
       "  </tbody>\n",
       "</table>\n",
       "</div>"
      ],
      "text/plain": [
       "   codCliente rangoEdad rangoIngreso  flagGenero  flagLimaProvCliente  \\\n",
       "0       24041    Rango2       Rango2           1                    0   \n",
       "1        9040    Rango4       Rango6           1                    1   \n",
       "2       18233    Rango2       Rango1           1                    1   \n",
       "3        7226    Rango5       Rango3           0                    1   \n",
       "4       21617    Rango3       Rango2           1                    1   \n",
       "\n",
       "   ubigeoCliente rangoCtdProdAct rangoCtdProdPas rangoCtdProdSeg  flagBxi  \\\n",
       "0          360.0          Rango1          Rango1          Rango1        1   \n",
       "1          260.0          Rango1          Rango1          Rango1        1   \n",
       "2          273.0          Rango1          Rango2          Rango1        1   \n",
       "3          241.0          Rango1          Rango2          Rango1        1   \n",
       "4          268.0          Rango1          Rango1          Rango1        0   \n",
       "\n",
       "  saldoTcEntidad1 saldoTcEntidad2 saldoTcEntidad3 saldoTcEntidad4  \n",
       "0             NaN             NaN             NaN             NaN  \n",
       "1          Rango1          Rango1          Rango1          Rango1  \n",
       "2          Rango2          Rango1          Rango1          Rango1  \n",
       "3          Rango1          Rango2          Rango1          Rango2  \n",
       "4             NaN             NaN             NaN             NaN  "
      ]
     },
     "execution_count": 1,
     "metadata": {},
     "output_type": "execute_result"
    }
   ],
   "source": [
    "#calculo\n",
    "import numpy as np\n",
    "import pandas as pd\n",
    "\n",
    "#grafico\n",
    "import matplotlib.pyplot as plt\n",
    "%matplotlib inline\n",
    "\n",
    "#propios utilitarios\n",
    "from utils import *\n",
    "\n",
    "data_perfil = pd.read_csv('data/02dataBasePerfilRec.csv')\n",
    "data_perfil.head()"
   ]
  },
  {
   "cell_type": "code",
   "execution_count": 2,
   "metadata": {},
   "outputs": [
    {
     "data": {
      "text/html": [
       "<div>\n",
       "<style scoped>\n",
       "    .dataframe tbody tr th:only-of-type {\n",
       "        vertical-align: middle;\n",
       "    }\n",
       "\n",
       "    .dataframe tbody tr th {\n",
       "        vertical-align: top;\n",
       "    }\n",
       "\n",
       "    .dataframe thead th {\n",
       "        text-align: right;\n",
       "    }\n",
       "</style>\n",
       "<table border=\"1\" class=\"dataframe\">\n",
       "  <thead>\n",
       "    <tr style=\"text-align: right;\">\n",
       "      <th></th>\n",
       "      <th>Nulos</th>\n",
       "      <th>Cantidad</th>\n",
       "      <th>Tipo Col</th>\n",
       "    </tr>\n",
       "  </thead>\n",
       "  <tbody>\n",
       "    <tr>\n",
       "      <th>codCliente</th>\n",
       "      <td>False</td>\n",
       "      <td>0</td>\n",
       "      <td>int64</td>\n",
       "    </tr>\n",
       "    <tr>\n",
       "      <th>rangoEdad</th>\n",
       "      <td>True</td>\n",
       "      <td>57</td>\n",
       "      <td>object</td>\n",
       "    </tr>\n",
       "    <tr>\n",
       "      <th>rangoIngreso</th>\n",
       "      <td>True</td>\n",
       "      <td>1263</td>\n",
       "      <td>object</td>\n",
       "    </tr>\n",
       "    <tr>\n",
       "      <th>flagGenero</th>\n",
       "      <td>False</td>\n",
       "      <td>0</td>\n",
       "      <td>int64</td>\n",
       "    </tr>\n",
       "    <tr>\n",
       "      <th>flagLimaProvCliente</th>\n",
       "      <td>False</td>\n",
       "      <td>0</td>\n",
       "      <td>int64</td>\n",
       "    </tr>\n",
       "    <tr>\n",
       "      <th>ubigeoCliente</th>\n",
       "      <td>True</td>\n",
       "      <td>4</td>\n",
       "      <td>float64</td>\n",
       "    </tr>\n",
       "    <tr>\n",
       "      <th>rangoCtdProdAct</th>\n",
       "      <td>False</td>\n",
       "      <td>0</td>\n",
       "      <td>object</td>\n",
       "    </tr>\n",
       "    <tr>\n",
       "      <th>rangoCtdProdPas</th>\n",
       "      <td>False</td>\n",
       "      <td>0</td>\n",
       "      <td>object</td>\n",
       "    </tr>\n",
       "    <tr>\n",
       "      <th>rangoCtdProdSeg</th>\n",
       "      <td>False</td>\n",
       "      <td>0</td>\n",
       "      <td>object</td>\n",
       "    </tr>\n",
       "    <tr>\n",
       "      <th>flagBxi</th>\n",
       "      <td>False</td>\n",
       "      <td>0</td>\n",
       "      <td>int64</td>\n",
       "    </tr>\n",
       "    <tr>\n",
       "      <th>saldoTcEntidad1</th>\n",
       "      <td>True</td>\n",
       "      <td>6426</td>\n",
       "      <td>object</td>\n",
       "    </tr>\n",
       "    <tr>\n",
       "      <th>saldoTcEntidad2</th>\n",
       "      <td>True</td>\n",
       "      <td>6426</td>\n",
       "      <td>object</td>\n",
       "    </tr>\n",
       "    <tr>\n",
       "      <th>saldoTcEntidad3</th>\n",
       "      <td>True</td>\n",
       "      <td>6426</td>\n",
       "      <td>object</td>\n",
       "    </tr>\n",
       "    <tr>\n",
       "      <th>saldoTcEntidad4</th>\n",
       "      <td>True</td>\n",
       "      <td>6426</td>\n",
       "      <td>object</td>\n",
       "    </tr>\n",
       "  </tbody>\n",
       "</table>\n",
       "</div>"
      ],
      "text/plain": [
       "                     Nulos  Cantidad Tipo Col\n",
       "codCliente           False         0    int64\n",
       "rangoEdad             True        57   object\n",
       "rangoIngreso          True      1263   object\n",
       "flagGenero           False         0    int64\n",
       "flagLimaProvCliente  False         0    int64\n",
       "ubigeoCliente         True         4  float64\n",
       "rangoCtdProdAct      False         0   object\n",
       "rangoCtdProdPas      False         0   object\n",
       "rangoCtdProdSeg      False         0   object\n",
       "flagBxi              False         0    int64\n",
       "saldoTcEntidad1       True      6426   object\n",
       "saldoTcEntidad2       True      6426   object\n",
       "saldoTcEntidad3       True      6426   object\n",
       "saldoTcEntidad4       True      6426   object"
      ]
     },
     "execution_count": 2,
     "metadata": {},
     "output_type": "execute_result"
    }
   ],
   "source": [
    "null_verificator(data_perfil)"
   ]
  },
  {
   "cell_type": "code",
   "execution_count": 3,
   "metadata": {},
   "outputs": [
    {
     "data": {
      "text/plain": [
       "Rango1    11003\n",
       "Rango3     5241\n",
       "Rango2     4533\n",
       "Rango6     3930\n",
       "Rango4     2516\n",
       "Rango5     1514\n",
       "NaN        1263\n",
       "Name: rangoIngreso, dtype: int64"
      ]
     },
     "execution_count": 3,
     "metadata": {},
     "output_type": "execute_result"
    }
   ],
   "source": [
    "data_perfil['rangoIngreso'].value_counts(dropna=False)"
   ]
  },
  {
   "cell_type": "code",
   "execution_count": 4,
   "metadata": {},
   "outputs": [
    {
     "data": {
      "text/plain": [
       "Rango1    15429\n",
       "NaN        6426\n",
       "Rango3     2076\n",
       "Rango2     1731\n",
       "Rango4     1713\n",
       "Rango6     1571\n",
       "Rango5     1054\n",
       "Name: saldoTcEntidad1, dtype: int64"
      ]
     },
     "execution_count": 4,
     "metadata": {},
     "output_type": "execute_result"
    }
   ],
   "source": [
    "data_perfil['saldoTcEntidad1'].value_counts(dropna=False)"
   ]
  },
  {
   "cell_type": "code",
   "execution_count": 5,
   "metadata": {},
   "outputs": [
    {
     "data": {
      "text/plain": [
       "Rango1    18084\n",
       "NaN        6426\n",
       "Rango2     2313\n",
       "Rango3     1494\n",
       "Rango5      949\n",
       "Rango4      734\n",
       "Name: saldoTcEntidad2, dtype: int64"
      ]
     },
     "execution_count": 5,
     "metadata": {},
     "output_type": "execute_result"
    }
   ],
   "source": [
    "data_perfil['saldoTcEntidad2'].value_counts(dropna=False)"
   ]
  },
  {
   "cell_type": "code",
   "execution_count": 6,
   "metadata": {},
   "outputs": [
    {
     "data": {
      "text/plain": [
       "Rango1    20718\n",
       "NaN        6426\n",
       "Rango6      729\n",
       "Rango2      571\n",
       "Rango3      561\n",
       "Rango5      518\n",
       "Rango4      477\n",
       "Name: saldoTcEntidad3, dtype: int64"
      ]
     },
     "execution_count": 6,
     "metadata": {},
     "output_type": "execute_result"
    }
   ],
   "source": [
    "data_perfil['saldoTcEntidad3'].value_counts(dropna=False)"
   ]
  },
  {
   "cell_type": "code",
   "execution_count": 7,
   "metadata": {},
   "outputs": [
    {
     "data": {
      "text/plain": [
       "Rango1    18910\n",
       "NaN        6426\n",
       "Rango2     1096\n",
       "Rango3      998\n",
       "Rango6      975\n",
       "Rango5      818\n",
       "Rango4      777\n",
       "Name: saldoTcEntidad4, dtype: int64"
      ]
     },
     "execution_count": 7,
     "metadata": {},
     "output_type": "execute_result"
    }
   ],
   "source": [
    "data_perfil['saldoTcEntidad4'].value_counts(dropna=False)"
   ]
  },
  {
   "cell_type": "code",
   "execution_count": 8,
   "metadata": {},
   "outputs": [
    {
     "data": {
      "text/plain": [
       " 2.0        5\n",
       " 3.0        1\n",
       " 4.0        1\n",
       " 5.0        3\n",
       " 6.0       39\n",
       " 7.0       23\n",
       " 8.0        1\n",
       " 9.0        2\n",
       " 10.0       1\n",
       " 11.0       1\n",
       " 12.0       1\n",
       " 13.0       1\n",
       " 14.0       3\n",
       " 15.0       1\n",
       " 16.0       6\n",
       " 17.0       1\n",
       " 18.0       1\n",
       " 19.0     127\n",
       " 20.0       4\n",
       " 21.0       1\n",
       " 22.0       4\n",
       " 23.0      99\n",
       " 24.0       1\n",
       " 25.0       4\n",
       " 26.0       7\n",
       " 27.0       1\n",
       " 28.0       2\n",
       " 29.0     135\n",
       " 30.0      58\n",
       " 31.0      96\n",
       "         ... \n",
       " 391.0      1\n",
       " 392.0    101\n",
       " 393.0      1\n",
       " 394.0     18\n",
       " 395.0     31\n",
       " 396.0      1\n",
       " 397.0      4\n",
       " 398.0    105\n",
       " 399.0      6\n",
       " 400.0      2\n",
       " 401.0      1\n",
       " 402.0      9\n",
       " 403.0     28\n",
       " 404.0      1\n",
       " 405.0     47\n",
       " 406.0      7\n",
       " 407.0      1\n",
       " 408.0      1\n",
       " 409.0      1\n",
       " 410.0      1\n",
       " 411.0      1\n",
       " 412.0      3\n",
       " 413.0      2\n",
       " 414.0    120\n",
       " 415.0      1\n",
       " 416.0     52\n",
       " 417.0     13\n",
       " 418.0      2\n",
       " 419.0      1\n",
       "NaN         4\n",
       "Name: ubigeoCliente, Length: 419, dtype: int64"
      ]
     },
     "execution_count": 8,
     "metadata": {},
     "output_type": "execute_result"
    }
   ],
   "source": [
    "data_perfil['ubigeoCliente'].value_counts(dropna=False).sort_index()"
   ]
  },
  {
   "cell_type": "code",
   "execution_count": 9,
   "metadata": {},
   "outputs": [],
   "source": [
    "data_perfil['ubigeoCliente'].fillna(999.0, inplace=True)"
   ]
  },
  {
   "cell_type": "code",
   "execution_count": 10,
   "metadata": {},
   "outputs": [
    {
     "name": "stdout",
     "output_type": "stream",
     "text": [
      "rangoEdad\n",
      "rangoIngreso\n",
      "saldoTcEntidad1\n",
      "saldoTcEntidad2\n",
      "saldoTcEntidad3\n",
      "saldoTcEntidad4\n"
     ]
    }
   ],
   "source": [
    "for col in [_ for _ in data_perfil.columns if data_perfil[_].isnull().any()]:\n",
    "    print(col)\n",
    "    data_perfil[col].fillna('Rango0', inplace=True)"
   ]
  },
  {
   "cell_type": "code",
   "execution_count": 11,
   "metadata": {},
   "outputs": [
    {
     "data": {
      "text/plain": [
       "'DATA LIMPIA DE NULOS'"
      ]
     },
     "execution_count": 11,
     "metadata": {},
     "output_type": "execute_result"
    }
   ],
   "source": [
    "null_verificator(data_perfil)"
   ]
  },
  {
   "cell_type": "code",
   "execution_count": 12,
   "metadata": {},
   "outputs": [
    {
     "data": {
      "text/plain": [
       "codCliente               int64\n",
       "rangoEdad               object\n",
       "rangoIngreso            object\n",
       "flagGenero               int64\n",
       "flagLimaProvCliente      int64\n",
       "ubigeoCliente          float64\n",
       "rangoCtdProdAct         object\n",
       "rangoCtdProdPas         object\n",
       "rangoCtdProdSeg         object\n",
       "flagBxi                  int64\n",
       "saldoTcEntidad1         object\n",
       "saldoTcEntidad2         object\n",
       "saldoTcEntidad3         object\n",
       "saldoTcEntidad4         object\n",
       "dtype: object"
      ]
     },
     "execution_count": 12,
     "metadata": {},
     "output_type": "execute_result"
    }
   ],
   "source": [
    "data_perfil.dtypes"
   ]
  },
  {
   "cell_type": "code",
   "execution_count": 13,
   "metadata": {},
   "outputs": [
    {
     "data": {
      "text/html": [
       "<div>\n",
       "<style scoped>\n",
       "    .dataframe tbody tr th:only-of-type {\n",
       "        vertical-align: middle;\n",
       "    }\n",
       "\n",
       "    .dataframe tbody tr th {\n",
       "        vertical-align: top;\n",
       "    }\n",
       "\n",
       "    .dataframe thead th {\n",
       "        text-align: right;\n",
       "    }\n",
       "</style>\n",
       "<table border=\"1\" class=\"dataframe\">\n",
       "  <thead>\n",
       "    <tr style=\"text-align: right;\">\n",
       "      <th></th>\n",
       "      <th>rangoEdad</th>\n",
       "      <th>rangoIngreso</th>\n",
       "      <th>rangoCtdProdAct</th>\n",
       "      <th>rangoCtdProdPas</th>\n",
       "      <th>rangoCtdProdSeg</th>\n",
       "      <th>saldoTcEntidad1</th>\n",
       "      <th>saldoTcEntidad2</th>\n",
       "      <th>saldoTcEntidad3</th>\n",
       "      <th>saldoTcEntidad4</th>\n",
       "    </tr>\n",
       "  </thead>\n",
       "  <tbody>\n",
       "    <tr>\n",
       "      <th>0</th>\n",
       "      <td>Rango2</td>\n",
       "      <td>Rango2</td>\n",
       "      <td>Rango1</td>\n",
       "      <td>Rango1</td>\n",
       "      <td>Rango1</td>\n",
       "      <td>Rango0</td>\n",
       "      <td>Rango0</td>\n",
       "      <td>Rango0</td>\n",
       "      <td>Rango0</td>\n",
       "    </tr>\n",
       "    <tr>\n",
       "      <th>1</th>\n",
       "      <td>Rango4</td>\n",
       "      <td>Rango6</td>\n",
       "      <td>Rango1</td>\n",
       "      <td>Rango1</td>\n",
       "      <td>Rango1</td>\n",
       "      <td>Rango1</td>\n",
       "      <td>Rango1</td>\n",
       "      <td>Rango1</td>\n",
       "      <td>Rango1</td>\n",
       "    </tr>\n",
       "    <tr>\n",
       "      <th>2</th>\n",
       "      <td>Rango2</td>\n",
       "      <td>Rango1</td>\n",
       "      <td>Rango1</td>\n",
       "      <td>Rango2</td>\n",
       "      <td>Rango1</td>\n",
       "      <td>Rango2</td>\n",
       "      <td>Rango1</td>\n",
       "      <td>Rango1</td>\n",
       "      <td>Rango1</td>\n",
       "    </tr>\n",
       "    <tr>\n",
       "      <th>3</th>\n",
       "      <td>Rango5</td>\n",
       "      <td>Rango3</td>\n",
       "      <td>Rango1</td>\n",
       "      <td>Rango2</td>\n",
       "      <td>Rango1</td>\n",
       "      <td>Rango1</td>\n",
       "      <td>Rango2</td>\n",
       "      <td>Rango1</td>\n",
       "      <td>Rango2</td>\n",
       "    </tr>\n",
       "    <tr>\n",
       "      <th>4</th>\n",
       "      <td>Rango3</td>\n",
       "      <td>Rango2</td>\n",
       "      <td>Rango1</td>\n",
       "      <td>Rango1</td>\n",
       "      <td>Rango1</td>\n",
       "      <td>Rango0</td>\n",
       "      <td>Rango0</td>\n",
       "      <td>Rango0</td>\n",
       "      <td>Rango0</td>\n",
       "    </tr>\n",
       "  </tbody>\n",
       "</table>\n",
       "</div>"
      ],
      "text/plain": [
       "  rangoEdad rangoIngreso rangoCtdProdAct rangoCtdProdPas rangoCtdProdSeg  \\\n",
       "0    Rango2       Rango2          Rango1          Rango1          Rango1   \n",
       "1    Rango4       Rango6          Rango1          Rango1          Rango1   \n",
       "2    Rango2       Rango1          Rango1          Rango2          Rango1   \n",
       "3    Rango5       Rango3          Rango1          Rango2          Rango1   \n",
       "4    Rango3       Rango2          Rango1          Rango1          Rango1   \n",
       "\n",
       "  saldoTcEntidad1 saldoTcEntidad2 saldoTcEntidad3 saldoTcEntidad4  \n",
       "0          Rango0          Rango0          Rango0          Rango0  \n",
       "1          Rango1          Rango1          Rango1          Rango1  \n",
       "2          Rango2          Rango1          Rango1          Rango1  \n",
       "3          Rango1          Rango2          Rango1          Rango2  \n",
       "4          Rango0          Rango0          Rango0          Rango0  "
      ]
     },
     "execution_count": 13,
     "metadata": {},
     "output_type": "execute_result"
    }
   ],
   "source": [
    "data_perfil.select_dtypes(include=['object']).head()"
   ]
  },
  {
   "cell_type": "code",
   "execution_count": 14,
   "metadata": {},
   "outputs": [
    {
     "data": {
      "text/plain": [
       "['rangoEdad',\n",
       " 'rangoIngreso',\n",
       " 'rangoCtdProdAct',\n",
       " 'rangoCtdProdPas',\n",
       " 'rangoCtdProdSeg',\n",
       " 'saldoTcEntidad1',\n",
       " 'saldoTcEntidad2',\n",
       " 'saldoTcEntidad3',\n",
       " 'saldoTcEntidad4']"
      ]
     },
     "execution_count": 14,
     "metadata": {},
     "output_type": "execute_result"
    }
   ],
   "source": [
    "columnas_rango = list(data_perfil.select_dtypes(include=['object']).columns)\n",
    "columnas_rango"
   ]
  },
  {
   "cell_type": "code",
   "execution_count": 15,
   "metadata": {},
   "outputs": [],
   "source": [
    "for col in columnas_rango:\n",
    "    data_perfil[col] = data_perfil[col].apply(lambda x: int(x[-1]))"
   ]
  },
  {
   "cell_type": "code",
   "execution_count": 16,
   "metadata": {},
   "outputs": [
    {
     "data": {
      "text/html": [
       "<div>\n",
       "<style scoped>\n",
       "    .dataframe tbody tr th:only-of-type {\n",
       "        vertical-align: middle;\n",
       "    }\n",
       "\n",
       "    .dataframe tbody tr th {\n",
       "        vertical-align: top;\n",
       "    }\n",
       "\n",
       "    .dataframe thead th {\n",
       "        text-align: right;\n",
       "    }\n",
       "</style>\n",
       "<table border=\"1\" class=\"dataframe\">\n",
       "  <thead>\n",
       "    <tr style=\"text-align: right;\">\n",
       "      <th></th>\n",
       "      <th>codCliente</th>\n",
       "      <th>rangoEdad</th>\n",
       "      <th>rangoIngreso</th>\n",
       "      <th>flagGenero</th>\n",
       "      <th>flagLimaProvCliente</th>\n",
       "      <th>ubigeoCliente</th>\n",
       "      <th>rangoCtdProdAct</th>\n",
       "      <th>rangoCtdProdPas</th>\n",
       "      <th>rangoCtdProdSeg</th>\n",
       "      <th>flagBxi</th>\n",
       "      <th>saldoTcEntidad1</th>\n",
       "      <th>saldoTcEntidad2</th>\n",
       "      <th>saldoTcEntidad3</th>\n",
       "      <th>saldoTcEntidad4</th>\n",
       "    </tr>\n",
       "  </thead>\n",
       "  <tbody>\n",
       "    <tr>\n",
       "      <th>0</th>\n",
       "      <td>24041</td>\n",
       "      <td>2</td>\n",
       "      <td>2</td>\n",
       "      <td>1</td>\n",
       "      <td>0</td>\n",
       "      <td>360.0</td>\n",
       "      <td>1</td>\n",
       "      <td>1</td>\n",
       "      <td>1</td>\n",
       "      <td>1</td>\n",
       "      <td>0</td>\n",
       "      <td>0</td>\n",
       "      <td>0</td>\n",
       "      <td>0</td>\n",
       "    </tr>\n",
       "    <tr>\n",
       "      <th>1</th>\n",
       "      <td>9040</td>\n",
       "      <td>4</td>\n",
       "      <td>6</td>\n",
       "      <td>1</td>\n",
       "      <td>1</td>\n",
       "      <td>260.0</td>\n",
       "      <td>1</td>\n",
       "      <td>1</td>\n",
       "      <td>1</td>\n",
       "      <td>1</td>\n",
       "      <td>1</td>\n",
       "      <td>1</td>\n",
       "      <td>1</td>\n",
       "      <td>1</td>\n",
       "    </tr>\n",
       "    <tr>\n",
       "      <th>2</th>\n",
       "      <td>18233</td>\n",
       "      <td>2</td>\n",
       "      <td>1</td>\n",
       "      <td>1</td>\n",
       "      <td>1</td>\n",
       "      <td>273.0</td>\n",
       "      <td>1</td>\n",
       "      <td>2</td>\n",
       "      <td>1</td>\n",
       "      <td>1</td>\n",
       "      <td>2</td>\n",
       "      <td>1</td>\n",
       "      <td>1</td>\n",
       "      <td>1</td>\n",
       "    </tr>\n",
       "    <tr>\n",
       "      <th>3</th>\n",
       "      <td>7226</td>\n",
       "      <td>5</td>\n",
       "      <td>3</td>\n",
       "      <td>0</td>\n",
       "      <td>1</td>\n",
       "      <td>241.0</td>\n",
       "      <td>1</td>\n",
       "      <td>2</td>\n",
       "      <td>1</td>\n",
       "      <td>1</td>\n",
       "      <td>1</td>\n",
       "      <td>2</td>\n",
       "      <td>1</td>\n",
       "      <td>2</td>\n",
       "    </tr>\n",
       "    <tr>\n",
       "      <th>4</th>\n",
       "      <td>21617</td>\n",
       "      <td>3</td>\n",
       "      <td>2</td>\n",
       "      <td>1</td>\n",
       "      <td>1</td>\n",
       "      <td>268.0</td>\n",
       "      <td>1</td>\n",
       "      <td>1</td>\n",
       "      <td>1</td>\n",
       "      <td>0</td>\n",
       "      <td>0</td>\n",
       "      <td>0</td>\n",
       "      <td>0</td>\n",
       "      <td>0</td>\n",
       "    </tr>\n",
       "  </tbody>\n",
       "</table>\n",
       "</div>"
      ],
      "text/plain": [
       "   codCliente  rangoEdad  rangoIngreso  flagGenero  flagLimaProvCliente  \\\n",
       "0       24041          2             2           1                    0   \n",
       "1        9040          4             6           1                    1   \n",
       "2       18233          2             1           1                    1   \n",
       "3        7226          5             3           0                    1   \n",
       "4       21617          3             2           1                    1   \n",
       "\n",
       "   ubigeoCliente  rangoCtdProdAct  rangoCtdProdPas  rangoCtdProdSeg  flagBxi  \\\n",
       "0          360.0                1                1                1        1   \n",
       "1          260.0                1                1                1        1   \n",
       "2          273.0                1                2                1        1   \n",
       "3          241.0                1                2                1        1   \n",
       "4          268.0                1                1                1        0   \n",
       "\n",
       "   saldoTcEntidad1  saldoTcEntidad2  saldoTcEntidad3  saldoTcEntidad4  \n",
       "0                0                0                0                0  \n",
       "1                1                1                1                1  \n",
       "2                2                1                1                1  \n",
       "3                1                2                1                2  \n",
       "4                0                0                0                0  "
      ]
     },
     "execution_count": 16,
     "metadata": {},
     "output_type": "execute_result"
    }
   ],
   "source": [
    "data_perfil.head()"
   ]
  },
  {
   "cell_type": "code",
   "execution_count": 17,
   "metadata": {},
   "outputs": [
    {
     "name": "stdout",
     "output_type": "stream",
     "text": [
      "Tamaño de uso actual :  3.2044219970703125 MB\n",
      "-> Int 64 Detected\n",
      "     codCliente\n",
      "     rangoEdad\n",
      "     rangoIngreso\n",
      "     flagGenero\n",
      "     flagLimaProvCliente\n",
      "     rangoCtdProdAct\n",
      "     rangoCtdProdPas\n",
      "     rangoCtdProdSeg\n",
      "     flagBxi\n",
      "     saldoTcEntidad1\n",
      "     saldoTcEntidad2\n",
      "     saldoTcEntidad3\n",
      "     saldoTcEntidad4\n",
      "-> Float 64 Detected\n",
      "     ubigeoCliente\n",
      "Tamaño de uso final :  0.4578399658203125 MB\n"
     ]
    }
   ],
   "source": [
    "data_perfil = reduce_size_data(data_perfil, category=False, default='integer')"
   ]
  },
  {
   "cell_type": "code",
   "execution_count": 18,
   "metadata": {},
   "outputs": [
    {
     "data": {
      "text/plain": [
       "codCliente             int16\n",
       "rangoEdad               int8\n",
       "rangoIngreso            int8\n",
       "flagGenero              int8\n",
       "flagLimaProvCliente     int8\n",
       "ubigeoCliente          int16\n",
       "rangoCtdProdAct         int8\n",
       "rangoCtdProdPas         int8\n",
       "rangoCtdProdSeg         int8\n",
       "flagBxi                 int8\n",
       "saldoTcEntidad1         int8\n",
       "saldoTcEntidad2         int8\n",
       "saldoTcEntidad3         int8\n",
       "saldoTcEntidad4         int8\n",
       "dtype: object"
      ]
     },
     "execution_count": 18,
     "metadata": {},
     "output_type": "execute_result"
    }
   ],
   "source": [
    "data_perfil.dtypes"
   ]
  },
  {
   "cell_type": "code",
   "execution_count": 19,
   "metadata": {},
   "outputs": [
    {
     "data": {
      "text/html": [
       "<div>\n",
       "<style scoped>\n",
       "    .dataframe tbody tr th:only-of-type {\n",
       "        vertical-align: middle;\n",
       "    }\n",
       "\n",
       "    .dataframe tbody tr th {\n",
       "        vertical-align: top;\n",
       "    }\n",
       "\n",
       "    .dataframe thead th {\n",
       "        text-align: right;\n",
       "    }\n",
       "</style>\n",
       "<table border=\"1\" class=\"dataframe\">\n",
       "  <thead>\n",
       "    <tr style=\"text-align: right;\">\n",
       "      <th></th>\n",
       "      <th>codCliente</th>\n",
       "      <th>rangoEdad</th>\n",
       "      <th>rangoIngreso</th>\n",
       "      <th>flagGenero</th>\n",
       "      <th>flagLimaProvCliente</th>\n",
       "      <th>ubigeoCliente</th>\n",
       "      <th>rangoCtdProdAct</th>\n",
       "      <th>rangoCtdProdPas</th>\n",
       "      <th>rangoCtdProdSeg</th>\n",
       "      <th>flagBxi</th>\n",
       "      <th>saldoTcEntidad1</th>\n",
       "      <th>saldoTcEntidad2</th>\n",
       "      <th>saldoTcEntidad3</th>\n",
       "      <th>saldoTcEntidad4</th>\n",
       "    </tr>\n",
       "  </thead>\n",
       "  <tbody>\n",
       "    <tr>\n",
       "      <th>0</th>\n",
       "      <td>24041</td>\n",
       "      <td>2</td>\n",
       "      <td>2</td>\n",
       "      <td>1</td>\n",
       "      <td>0</td>\n",
       "      <td>360</td>\n",
       "      <td>1</td>\n",
       "      <td>1</td>\n",
       "      <td>1</td>\n",
       "      <td>1</td>\n",
       "      <td>0</td>\n",
       "      <td>0</td>\n",
       "      <td>0</td>\n",
       "      <td>0</td>\n",
       "    </tr>\n",
       "    <tr>\n",
       "      <th>1</th>\n",
       "      <td>9040</td>\n",
       "      <td>4</td>\n",
       "      <td>6</td>\n",
       "      <td>1</td>\n",
       "      <td>1</td>\n",
       "      <td>260</td>\n",
       "      <td>1</td>\n",
       "      <td>1</td>\n",
       "      <td>1</td>\n",
       "      <td>1</td>\n",
       "      <td>1</td>\n",
       "      <td>1</td>\n",
       "      <td>1</td>\n",
       "      <td>1</td>\n",
       "    </tr>\n",
       "    <tr>\n",
       "      <th>2</th>\n",
       "      <td>18233</td>\n",
       "      <td>2</td>\n",
       "      <td>1</td>\n",
       "      <td>1</td>\n",
       "      <td>1</td>\n",
       "      <td>273</td>\n",
       "      <td>1</td>\n",
       "      <td>2</td>\n",
       "      <td>1</td>\n",
       "      <td>1</td>\n",
       "      <td>2</td>\n",
       "      <td>1</td>\n",
       "      <td>1</td>\n",
       "      <td>1</td>\n",
       "    </tr>\n",
       "    <tr>\n",
       "      <th>3</th>\n",
       "      <td>7226</td>\n",
       "      <td>5</td>\n",
       "      <td>3</td>\n",
       "      <td>0</td>\n",
       "      <td>1</td>\n",
       "      <td>241</td>\n",
       "      <td>1</td>\n",
       "      <td>2</td>\n",
       "      <td>1</td>\n",
       "      <td>1</td>\n",
       "      <td>1</td>\n",
       "      <td>2</td>\n",
       "      <td>1</td>\n",
       "      <td>2</td>\n",
       "    </tr>\n",
       "    <tr>\n",
       "      <th>4</th>\n",
       "      <td>21617</td>\n",
       "      <td>3</td>\n",
       "      <td>2</td>\n",
       "      <td>1</td>\n",
       "      <td>1</td>\n",
       "      <td>268</td>\n",
       "      <td>1</td>\n",
       "      <td>1</td>\n",
       "      <td>1</td>\n",
       "      <td>0</td>\n",
       "      <td>0</td>\n",
       "      <td>0</td>\n",
       "      <td>0</td>\n",
       "      <td>0</td>\n",
       "    </tr>\n",
       "    <tr>\n",
       "      <th>5</th>\n",
       "      <td>9649</td>\n",
       "      <td>5</td>\n",
       "      <td>6</td>\n",
       "      <td>1</td>\n",
       "      <td>1</td>\n",
       "      <td>273</td>\n",
       "      <td>2</td>\n",
       "      <td>2</td>\n",
       "      <td>2</td>\n",
       "      <td>1</td>\n",
       "      <td>2</td>\n",
       "      <td>1</td>\n",
       "      <td>1</td>\n",
       "      <td>1</td>\n",
       "    </tr>\n",
       "    <tr>\n",
       "      <th>6</th>\n",
       "      <td>24762</td>\n",
       "      <td>1</td>\n",
       "      <td>1</td>\n",
       "      <td>1</td>\n",
       "      <td>1</td>\n",
       "      <td>241</td>\n",
       "      <td>1</td>\n",
       "      <td>1</td>\n",
       "      <td>1</td>\n",
       "      <td>1</td>\n",
       "      <td>0</td>\n",
       "      <td>0</td>\n",
       "      <td>0</td>\n",
       "      <td>0</td>\n",
       "    </tr>\n",
       "    <tr>\n",
       "      <th>7</th>\n",
       "      <td>2486</td>\n",
       "      <td>5</td>\n",
       "      <td>1</td>\n",
       "      <td>0</td>\n",
       "      <td>1</td>\n",
       "      <td>241</td>\n",
       "      <td>1</td>\n",
       "      <td>1</td>\n",
       "      <td>1</td>\n",
       "      <td>1</td>\n",
       "      <td>1</td>\n",
       "      <td>1</td>\n",
       "      <td>1</td>\n",
       "      <td>1</td>\n",
       "    </tr>\n",
       "    <tr>\n",
       "      <th>8</th>\n",
       "      <td>26272</td>\n",
       "      <td>2</td>\n",
       "      <td>1</td>\n",
       "      <td>0</td>\n",
       "      <td>1</td>\n",
       "      <td>268</td>\n",
       "      <td>1</td>\n",
       "      <td>1</td>\n",
       "      <td>1</td>\n",
       "      <td>1</td>\n",
       "      <td>1</td>\n",
       "      <td>1</td>\n",
       "      <td>1</td>\n",
       "      <td>1</td>\n",
       "    </tr>\n",
       "    <tr>\n",
       "      <th>9</th>\n",
       "      <td>13242</td>\n",
       "      <td>5</td>\n",
       "      <td>4</td>\n",
       "      <td>0</td>\n",
       "      <td>1</td>\n",
       "      <td>241</td>\n",
       "      <td>1</td>\n",
       "      <td>2</td>\n",
       "      <td>2</td>\n",
       "      <td>1</td>\n",
       "      <td>1</td>\n",
       "      <td>1</td>\n",
       "      <td>1</td>\n",
       "      <td>1</td>\n",
       "    </tr>\n",
       "  </tbody>\n",
       "</table>\n",
       "</div>"
      ],
      "text/plain": [
       "   codCliente  rangoEdad  rangoIngreso  flagGenero  flagLimaProvCliente  \\\n",
       "0       24041          2             2           1                    0   \n",
       "1        9040          4             6           1                    1   \n",
       "2       18233          2             1           1                    1   \n",
       "3        7226          5             3           0                    1   \n",
       "4       21617          3             2           1                    1   \n",
       "5        9649          5             6           1                    1   \n",
       "6       24762          1             1           1                    1   \n",
       "7        2486          5             1           0                    1   \n",
       "8       26272          2             1           0                    1   \n",
       "9       13242          5             4           0                    1   \n",
       "\n",
       "   ubigeoCliente  rangoCtdProdAct  rangoCtdProdPas  rangoCtdProdSeg  flagBxi  \\\n",
       "0            360                1                1                1        1   \n",
       "1            260                1                1                1        1   \n",
       "2            273                1                2                1        1   \n",
       "3            241                1                2                1        1   \n",
       "4            268                1                1                1        0   \n",
       "5            273                2                2                2        1   \n",
       "6            241                1                1                1        1   \n",
       "7            241                1                1                1        1   \n",
       "8            268                1                1                1        1   \n",
       "9            241                1                2                2        1   \n",
       "\n",
       "   saldoTcEntidad1  saldoTcEntidad2  saldoTcEntidad3  saldoTcEntidad4  \n",
       "0                0                0                0                0  \n",
       "1                1                1                1                1  \n",
       "2                2                1                1                1  \n",
       "3                1                2                1                2  \n",
       "4                0                0                0                0  \n",
       "5                2                1                1                1  \n",
       "6                0                0                0                0  \n",
       "7                1                1                1                1  \n",
       "8                1                1                1                1  \n",
       "9                1                1                1                1  "
      ]
     },
     "execution_count": 19,
     "metadata": {},
     "output_type": "execute_result"
    }
   ],
   "source": [
    "data_perfil.head(10)"
   ]
  },
  {
   "cell_type": "code",
   "execution_count": 53,
   "metadata": {},
   "outputs": [
    {
     "data": {
      "text/plain": [
       "<matplotlib.axes._subplots.AxesSubplot at 0x7fc7b2c0cba8>"
      ]
     },
     "execution_count": 53,
     "metadata": {},
     "output_type": "execute_result"
    },
    {
     "data": {
      "image/png": "[encoded data removed]",
      "text/plain": [
       "<Figure size 842.4x595.44 with 2 Axes>"
      ]
     },
     "metadata": {
      "needs_background": "light"
     },
     "output_type": "display_data"
    }
   ],
   "source": [
    "import seaborn as sns\n",
    "fig, ax = plt.subplots(figsize=(11.7, 8.27))\n",
    "sns.heatmap(data_perfil.corr('kendall'), annot=True, fmt=\".2f\", ax=ax)"
   ]
  },
  {
   "cell_type": "code",
   "execution_count": 52,
   "metadata": {
    "scrolled": false
   },
   "outputs": [
    {
     "data": {
      "text/plain": [
       "<matplotlib.axes._subplots.AxesSubplot at 0x7fc7b09b3b70>"
      ]
     },
     "execution_count": 52,
     "metadata": {},
     "output_type": "execute_result"
    },
    {
     "data": {
      "image/png": "[encoded data removed]",
      "text/plain": [
       "<Figure size 842.4x595.44 with 2 Axes>"
      ]
     },
     "metadata": {
      "needs_background": "light"
     },
     "output_type": "display_data"
    }
   ],
   "source": [
    "import seaborn as sns\n",
    "fig, ax = plt.subplots(figsize=(11.7, 8.27))\n",
    "sns.heatmap(data_perfil.corr('spearman'), annot=True, fmt=\".2f\", ax=ax)"
   ]
  },
  {
   "cell_type": "markdown",
   "metadata": {},
   "source": [
    "## ANALIZANDO CLUSTER POR PERFIL"
   ]
  },
  {
   "cell_type": "code",
   "execution_count": 22,
   "metadata": {},
   "outputs": [
    {
     "data": {
      "text/html": [
       "<div>\n",
       "<style scoped>\n",
       "    .dataframe tbody tr th:only-of-type {\n",
       "        vertical-align: middle;\n",
       "    }\n",
       "\n",
       "    .dataframe tbody tr th {\n",
       "        vertical-align: top;\n",
       "    }\n",
       "\n",
       "    .dataframe thead th {\n",
       "        text-align: right;\n",
       "    }\n",
       "</style>\n",
       "<table border=\"1\" class=\"dataframe\">\n",
       "  <thead>\n",
       "    <tr style=\"text-align: right;\">\n",
       "      <th></th>\n",
       "      <th>rangoEdad</th>\n",
       "      <th>rangoIngreso</th>\n",
       "      <th>flagGenero</th>\n",
       "      <th>flagLimaProvCliente</th>\n",
       "      <th>ubigeoCliente</th>\n",
       "      <th>rangoCtdProdAct</th>\n",
       "      <th>rangoCtdProdPas</th>\n",
       "      <th>rangoCtdProdSeg</th>\n",
       "      <th>flagBxi</th>\n",
       "      <th>saldoTcEntidad1</th>\n",
       "      <th>saldoTcEntidad2</th>\n",
       "      <th>saldoTcEntidad3</th>\n",
       "      <th>saldoTcEntidad4</th>\n",
       "    </tr>\n",
       "  </thead>\n",
       "  <tbody>\n",
       "    <tr>\n",
       "      <th>0</th>\n",
       "      <td>2</td>\n",
       "      <td>2</td>\n",
       "      <td>1</td>\n",
       "      <td>0</td>\n",
       "      <td>360</td>\n",
       "      <td>1</td>\n",
       "      <td>1</td>\n",
       "      <td>1</td>\n",
       "      <td>1</td>\n",
       "      <td>0</td>\n",
       "      <td>0</td>\n",
       "      <td>0</td>\n",
       "      <td>0</td>\n",
       "    </tr>\n",
       "    <tr>\n",
       "      <th>1</th>\n",
       "      <td>4</td>\n",
       "      <td>6</td>\n",
       "      <td>1</td>\n",
       "      <td>1</td>\n",
       "      <td>260</td>\n",
       "      <td>1</td>\n",
       "      <td>1</td>\n",
       "      <td>1</td>\n",
       "      <td>1</td>\n",
       "      <td>1</td>\n",
       "      <td>1</td>\n",
       "      <td>1</td>\n",
       "      <td>1</td>\n",
       "    </tr>\n",
       "    <tr>\n",
       "      <th>2</th>\n",
       "      <td>2</td>\n",
       "      <td>1</td>\n",
       "      <td>1</td>\n",
       "      <td>1</td>\n",
       "      <td>273</td>\n",
       "      <td>1</td>\n",
       "      <td>2</td>\n",
       "      <td>1</td>\n",
       "      <td>1</td>\n",
       "      <td>2</td>\n",
       "      <td>1</td>\n",
       "      <td>1</td>\n",
       "      <td>1</td>\n",
       "    </tr>\n",
       "    <tr>\n",
       "      <th>3</th>\n",
       "      <td>5</td>\n",
       "      <td>3</td>\n",
       "      <td>0</td>\n",
       "      <td>1</td>\n",
       "      <td>241</td>\n",
       "      <td>1</td>\n",
       "      <td>2</td>\n",
       "      <td>1</td>\n",
       "      <td>1</td>\n",
       "      <td>1</td>\n",
       "      <td>2</td>\n",
       "      <td>1</td>\n",
       "      <td>2</td>\n",
       "    </tr>\n",
       "    <tr>\n",
       "      <th>4</th>\n",
       "      <td>3</td>\n",
       "      <td>2</td>\n",
       "      <td>1</td>\n",
       "      <td>1</td>\n",
       "      <td>268</td>\n",
       "      <td>1</td>\n",
       "      <td>1</td>\n",
       "      <td>1</td>\n",
       "      <td>0</td>\n",
       "      <td>0</td>\n",
       "      <td>0</td>\n",
       "      <td>0</td>\n",
       "      <td>0</td>\n",
       "    </tr>\n",
       "  </tbody>\n",
       "</table>\n",
       "</div>"
      ],
      "text/plain": [
       "   rangoEdad  rangoIngreso  flagGenero  flagLimaProvCliente  ubigeoCliente  \\\n",
       "0          2             2           1                    0            360   \n",
       "1          4             6           1                    1            260   \n",
       "2          2             1           1                    1            273   \n",
       "3          5             3           0                    1            241   \n",
       "4          3             2           1                    1            268   \n",
       "\n",
       "   rangoCtdProdAct  rangoCtdProdPas  rangoCtdProdSeg  flagBxi  \\\n",
       "0                1                1                1        1   \n",
       "1                1                1                1        1   \n",
       "2                1                2                1        1   \n",
       "3                1                2                1        1   \n",
       "4                1                1                1        0   \n",
       "\n",
       "   saldoTcEntidad1  saldoTcEntidad2  saldoTcEntidad3  saldoTcEntidad4  \n",
       "0                0                0                0                0  \n",
       "1                1                1                1                1  \n",
       "2                2                1                1                1  \n",
       "3                1                2                1                2  \n",
       "4                0                0                0                0  "
      ]
     },
     "execution_count": 22,
     "metadata": {},
     "output_type": "execute_result"
    }
   ],
   "source": [
    "data_cluster = data_perfil.drop(['codCliente'], axis=1)\n",
    "data_cluster.head()"
   ]
  },
  {
   "cell_type": "code",
   "execution_count": 23,
   "metadata": {},
   "outputs": [
    {
     "data": {
      "text/plain": [
       "((30000, 14), (30000, 13))"
      ]
     },
     "execution_count": 23,
     "metadata": {},
     "output_type": "execute_result"
    }
   ],
   "source": [
    "data_perfil.shape, data_cluster.shape"
   ]
  },
  {
   "cell_type": "code",
   "execution_count": 24,
   "metadata": {},
   "outputs": [
    {
     "data": {
      "text/plain": [
       "StandardScaler(copy=True, with_mean=True, with_std=True)"
      ]
     },
     "execution_count": 24,
     "metadata": {},
     "output_type": "execute_result"
    }
   ],
   "source": [
    "from sklearn.preprocessing import StandardScaler\n",
    "scaler = StandardScaler()\n",
    "scaler.fit(data_cluster)"
   ]
  },
  {
   "cell_type": "code",
   "execution_count": 25,
   "metadata": {},
   "outputs": [],
   "source": [
    "scaler_data = scaler.transform(data_cluster)"
   ]
  },
  {
   "cell_type": "code",
   "execution_count": 29,
   "metadata": {},
   "outputs": [],
   "source": [
    "from sklearn.cluster import KMeans\n",
    "from sklearn.metrics import silhouette_samples, silhouette_score\n",
    "def simple_get_siluet_score(X):\n",
    "    for n_clusters in range(2, 20):\n",
    "        clusterer = KMeans(n_clusters=n_clusters, random_state=10)\n",
    "        cluster_labels = clusterer.fit_predict(X)\n",
    "\n",
    "        silhouette_avg = silhouette_score(X, cluster_labels, sample_size=300)\n",
    "        print(\"For n_clusters =\", n_clusters,\n",
    "              \"The average silhouette_score is :\", silhouette_avg)"
   ]
  },
  {
   "cell_type": "code",
   "execution_count": 30,
   "metadata": {},
   "outputs": [
    {
     "name": "stdout",
     "output_type": "stream",
     "text": [
      "For n_clusters = 2 The average silhouette_score is : 0.8034685670704383\n",
      "For n_clusters = 3 The average silhouette_score is : 0.7569817677993899\n",
      "For n_clusters = 4 The average silhouette_score is : 0.7232595712622788\n",
      "For n_clusters = 5 The average silhouette_score is : 0.590359159379153\n",
      "For n_clusters = 6 The average silhouette_score is : 0.5772447195825763\n",
      "For n_clusters = 7 The average silhouette_score is : 0.5852880055636136\n",
      "For n_clusters = 8 The average silhouette_score is : 0.5948068299547444\n",
      "For n_clusters = 9 The average silhouette_score is : 0.6343536977968827\n",
      "For n_clusters = 10 The average silhouette_score is : 0.5466778166930976\n",
      "For n_clusters = 11 The average silhouette_score is : 0.5345127160871016\n",
      "For n_clusters = 12 The average silhouette_score is : 0.5401337913358917\n",
      "For n_clusters = 13 The average silhouette_score is : 0.5699316119477912\n",
      "For n_clusters = 14 The average silhouette_score is : 0.5124674297011832\n",
      "For n_clusters = 15 The average silhouette_score is : 0.4865018214601922\n",
      "For n_clusters = 16 The average silhouette_score is : 0.42244106918688024\n",
      "For n_clusters = 17 The average silhouette_score is : 0.4383189693273355\n",
      "For n_clusters = 18 The average silhouette_score is : 0.37840622734570145\n",
      "For n_clusters = 19 The average silhouette_score is : 0.36026885605316533\n"
     ]
    }
   ],
   "source": [
    "simple_get_siluet_score(data_cluster)"
   ]
  },
  {
   "cell_type": "code",
   "execution_count": 31,
   "metadata": {},
   "outputs": [
    {
     "name": "stdout",
     "output_type": "stream",
     "text": [
      "For n_clusters = 2 The average silhouette_score is : 0.15820282661999052\n",
      "For n_clusters = 3 The average silhouette_score is : 0.131741462735415\n",
      "For n_clusters = 4 The average silhouette_score is : 0.1370151123988013\n",
      "For n_clusters = 5 The average silhouette_score is : 0.139527065805971\n",
      "For n_clusters = 6 The average silhouette_score is : 0.1500008866649877\n",
      "For n_clusters = 7 The average silhouette_score is : 0.136239792935308\n",
      "For n_clusters = 8 The average silhouette_score is : 0.12071115985166192\n",
      "For n_clusters = 9 The average silhouette_score is : 0.11498038483705275\n",
      "For n_clusters = 10 The average silhouette_score is : 0.12458325427370509\n",
      "For n_clusters = 11 The average silhouette_score is : 0.15026537434269674\n",
      "For n_clusters = 12 The average silhouette_score is : 0.1341519447558567\n",
      "For n_clusters = 13 The average silhouette_score is : 0.1301580659847402\n",
      "For n_clusters = 14 The average silhouette_score is : 0.12391757588656901\n",
      "For n_clusters = 15 The average silhouette_score is : 0.13592730658320845\n",
      "For n_clusters = 16 The average silhouette_score is : 0.11365691629926507\n",
      "For n_clusters = 17 The average silhouette_score is : 0.0940532709949483\n",
      "For n_clusters = 18 The average silhouette_score is : 0.11837658735315562\n",
      "For n_clusters = 19 The average silhouette_score is : 0.14293721907476595\n"
     ]
    }
   ],
   "source": [
    "simple_get_siluet_score(scaler_data)"
   ]
  },
  {
   "cell_type": "code",
   "execution_count": 43,
   "metadata": {},
   "outputs": [],
   "source": [
    "def get_inertia(X):\n",
    "    cluster_range = range( 2, 20 )\n",
    "    list_intertia = []\n",
    "    for num_clusters in cluster_range:\n",
    "        clusters_km = KMeans(num_clusters)\n",
    "        clusters_km.fit(X)\n",
    "        list_intertia.append(clusters_km.inertia_)\n",
    "        \n",
    "    clusters_df = pd.DataFrame( { \"num_clusters\":cluster_range, \"list_intertia\": list_intertia } )\n",
    "    plt.figure(figsize=(15,5))\n",
    "    plt.plot( clusters_df.num_clusters, clusters_df.list_intertia, marker = \"o\" )"
   ]
  },
  {
   "cell_type": "code",
   "execution_count": 44,
   "metadata": {},
   "outputs": [
    {
     "data": {
      "image/png": "[encoded data removed]",
      "text/plain": [
       "<Figure size 1080x360 with 1 Axes>"
      ]
     },
     "metadata": {
      "needs_background": "light"
     },
     "output_type": "display_data"
    }
   ],
   "source": [
    "get_inertia(data_cluster)"
   ]
  },
  {
   "cell_type": "code",
   "execution_count": 45,
   "metadata": {},
   "outputs": [
    {
     "data": {
      "image/png": "[encoded data removed]",
      "text/plain": [
       "<Figure size 1080x360 with 1 Axes>"
      ]
     },
     "metadata": {
      "needs_background": "light"
     },
     "output_type": "display_data"
    }
   ],
   "source": [
    "get_inertia(scaler_data)"
   ]
  },
  {
   "cell_type": "code",
   "execution_count": 56,
   "metadata": {},
   "outputs": [],
   "source": [
    "#Pasando Dataframe Pandas to DataFrame Spark\n",
    "\n",
    "#Detectando instalacion\n",
    "import findspark\n",
    "findspark.init('/opt/spark')\n",
    "\n",
    "#Levantando sesion\n",
    "from pyspark.sql import SparkSession\n",
    "spark = SparkSession.builder.appName('victor_bbva').getOrCreate()"
   ]
  },
  {
   "cell_type": "code",
   "execution_count": 58,
   "metadata": {},
   "outputs": [],
   "source": [
    "spark_df = spark.createDataFrame(data_cluster)"
   ]
  },
  {
   "cell_type": "code",
   "execution_count": 63,
   "metadata": {},
   "outputs": [],
   "source": [
    "from pyspark.ml.feature import VectorAssembler\n",
    "assembler = VectorAssembler(inputCols=spark_df.columns, outputCol=\"features\")\n",
    "assem_data = assembler.transform(spark_df)"
   ]
  },
  {
   "cell_type": "code",
   "execution_count": 64,
   "metadata": {},
   "outputs": [
    {
     "name": "stdout",
     "output_type": "stream",
     "text": [
      "+---------+------------+----------+-------------------+-------------+---------------+---------------+---------------+-------+---------------+---------------+---------------+---------------+--------------------+--------------------+\n",
      "|rangoEdad|rangoIngreso|flagGenero|flagLimaProvCliente|ubigeoCliente|rangoCtdProdAct|rangoCtdProdPas|rangoCtdProdSeg|flagBxi|saldoTcEntidad1|saldoTcEntidad2|saldoTcEntidad3|saldoTcEntidad4|            features|     scaled_features|\n",
      "+---------+------------+----------+-------------------+-------------+---------------+---------------+---------------+-------+---------------+---------------+---------------+---------------+--------------------+--------------------+\n",
      "|        2|           2|         1|                  0|          360|              1|              1|              1|      1|              0|              0|              0|              0|[2.0,2.0,1.0,0.0,...|[-1.0209581184331...|\n",
      "|        4|           6|         1|                  1|          260|              1|              1|              1|      1|              1|              1|              1|              1|[4.0,6.0,1.0,1.0,...|[0.17657647594036...|\n",
      "|        2|           1|         1|                  1|          273|              1|              2|              1|      1|              2|              1|              1|              1|[2.0,1.0,1.0,1.0,...|[-1.0209581184331...|\n",
      "|        5|           3|         0|                  1|          241|              1|              2|              1|      1|              1|              2|              1|              2|[5.0,3.0,0.0,1.0,...|[0.77534377312710...|\n",
      "|        3|           2|         1|                  1|          268|              1|              1|              1|      0|              0|              0|              0|              0|[3.0,2.0,1.0,1.0,...|[-0.4221908212463...|\n",
      "|        5|           6|         1|                  1|          273|              2|              2|              2|      1|              2|              1|              1|              1|[5.0,6.0,1.0,1.0,...|[0.77534377312710...|\n",
      "|        1|           1|         1|                  1|          241|              1|              1|              1|      1|              0|              0|              0|              0|[1.0,1.0,1.0,1.0,...|[-1.6197254156198...|\n",
      "|        5|           1|         0|                  1|          241|              1|              1|              1|      1|              1|              1|              1|              1|[5.0,1.0,0.0,1.0,...|[0.77534377312710...|\n",
      "|        2|           1|         0|                  1|          268|              1|              1|              1|      1|              1|              1|              1|              1|[2.0,1.0,0.0,1.0,...|[-1.0209581184331...|\n",
      "|        5|           4|         0|                  1|          241|              1|              2|              2|      1|              1|              1|              1|              1|[5.0,4.0,0.0,1.0,...|[0.77534377312710...|\n",
      "|        6|           2|         0|                  1|          273|              1|              1|              1|      1|              0|              0|              0|              0|[6.0,2.0,0.0,1.0,...|[1.37411107031383...|\n",
      "|        5|           2|         0|                  1|          273|              1|              2|              1|      0|              0|              0|              0|              0|(13,[0,1,3,4,5,6,...|[0.77534377312710...|\n",
      "|        3|           1|         0|                  1|          273|              1|              3|              1|      0|              1|              1|              1|              1|[3.0,1.0,0.0,1.0,...|[-0.4221908212463...|\n",
      "|        5|           4|         0|                  1|          268|              1|              1|              2|      1|              0|              0|              0|              0|[5.0,4.0,0.0,1.0,...|[0.77534377312710...|\n",
      "|        3|           2|         1|                  1|          273|              1|              1|              1|      1|              1|              1|              1|              1|[3.0,2.0,1.0,1.0,...|[-0.4221908212463...|\n",
      "|        3|           2|         1|                  1|          268|              1|              2|              1|      1|              1|              1|              1|              1|[3.0,2.0,1.0,1.0,...|[-0.4221908212463...|\n",
      "|        5|           2|         1|                  1|          268|              1|              1|              1|      1|              1|              1|              1|              1|[5.0,2.0,1.0,1.0,...|[0.77534377312710...|\n",
      "|        1|           1|         0|                  1|          241|              1|              1|              1|      1|              1|              1|              1|              1|[1.0,1.0,0.0,1.0,...|[-1.6197254156198...|\n",
      "|        3|           1|         0|                  1|          273|              1|              1|              1|      0|              1|              1|              1|              1|[3.0,1.0,0.0,1.0,...|[-0.4221908212463...|\n",
      "|        3|           4|         0|                  1|          241|              1|              2|              2|      1|              1|              1|              1|              1|[3.0,4.0,0.0,1.0,...|[-0.4221908212463...|\n",
      "+---------+------------+----------+-------------------+-------------+---------------+---------------+---------------+-------+---------------+---------------+---------------+---------------+--------------------+--------------------+\n",
      "only showing top 20 rows\n",
      "\n"
     ]
    }
   ],
   "source": [
    "from pyspark.ml.feature import StandardScaler\n",
    "\n",
    "scaler = StandardScaler(inputCol=\"features\", outputCol=\"scaled_features\", withStd=True, withMean=True)\n",
    "scaler_model = scaler.fit(assem_data)\n",
    "scaled_data = scaler_model.transform(assem_data)\n",
    "scaled_data.show()"
   ]
  },
  {
   "cell_type": "code",
   "execution_count": 65,
   "metadata": {},
   "outputs": [],
   "source": [
    "import numpy as np\n",
    "import pandas as pd\n",
    "from pyspark.ml.clustering import KMeans\n",
    "\n",
    "cost = np.zeros(20)\n",
    "for k in range(2,20):\n",
    "    kmeans = KMeans().setK(k).setSeed(1).setFeaturesCol(\"features\")\n",
    "    model = kmeans.fit(scaled_data.sample(False,0.5, seed=42))\n",
    "    cost[k] = model.computeCost(scaled_data) # requires Spark 2.0 or later"
   ]
  },
  {
   "cell_type": "code",
   "execution_count": 66,
   "metadata": {},
   "outputs": [
    {
     "data": {
      "text/plain": [
       "Text(0,0.5,'cost')"
      ]
     },
     "execution_count": 66,
     "metadata": {},
     "output_type": "execute_result"
    },
    {
     "data": {
      "image/png": "[encoded data removed]",
      "text/plain": [
       "<Figure size 1008x432 with 1 Axes>"
      ]
     },
     "metadata": {
      "needs_background": "light"
     },
     "output_type": "display_data"
    }
   ],
   "source": [
    "fig, ax = plt.subplots(1,1, figsize =(14,6))\n",
    "ax.plot(range(2,20),cost[2:20])\n",
    "ax.set_xlabel('k')\n",
    "ax.set_ylabel('cost')"
   ]
  },
  {
   "cell_type": "code",
   "execution_count": null,
   "metadata": {},
   "outputs": [],
   "source": []
  }
 ],
 "metadata": {
  "kernelspec": {
   "display_name": "Python 3",
   "language": "python",
   "name": "python3"
  },
  "language_info": {
   "codemirror_mode": {
    "name": "ipython",
    "version": 3
   },
   "file_extension": ".py",
   "mimetype": "text/x-python",
   "name": "python",
   "nbconvert_exporter": "python",
   "pygments_lexer": "ipython3",
   "version": "3.5.4"
  }
 },
 "nbformat": 4,
 "nbformat_minor": 2
}
