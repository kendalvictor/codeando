{
 "cells": [
  {
   "cell_type": "code",
   "execution_count": 1,
   "metadata": {
    "collapsed": true
   },
   "outputs": [],
   "source": [
    "# importando librerias\n",
    "import pandas as pd\n",
    "import numpy as np\n",
    "import matplotlib\n",
    "import matplotlib.pyplot as plt\n",
    "import seaborn as sns\n",
    "import collections\n",
    "from sklearn.model_selection import train_test_split\n",
    "from sklearn.metrics import mean_squared_error\n",
    "import xgboost\n",
    "import math as mt\n",
    "import warnings\n",
    "\n",
    "# Ploting styles\n",
    "# styles: 'fivethirtyeight', 'classic', 'ggplot', 'seaborn-notebook'\n",
    "# styles: 'seaborn-poster', 'bmh', 'grayscale', 'seaborn-whitegrid'\n",
    "matplotlib.style.use('bmh')\n",
    "%matplotlib inline\n",
    "pd.set_option('display.max_columns', None)\n",
    "#pd.set_option('display.max_rows', None)\n",
    "#print(plt.style.available)\n",
    "warnings.filterwarnings(\"ignore\")"
   ]
  },
  {
   "cell_type": "code",
   "execution_count": 1,
   "metadata": {
    "collapsed": false
   },
   "outputs": [
    {
     "data": {
      "text/html": [
       "<div>\n",
       "<style scoped>\n",
       "    .dataframe tbody tr th:only-of-type {\n",
       "        vertical-align: middle;\n",
       "    }\n",
       "\n",
       "    .dataframe tbody tr th {\n",
       "        vertical-align: top;\n",
       "    }\n",
       "\n",
       "    .dataframe thead th {\n",
       "        text-align: right;\n",
       "    }\n",
       "</style>\n",
       "<table border=\"1\" class=\"dataframe\">\n",
       "  <thead>\n",
       "    <tr style=\"text-align: right;\">\n",
       "      <th></th>\n",
       "      <th>fechaOper</th>\n",
       "      <th>codCliente</th>\n",
       "      <th>codGiro</th>\n",
       "      <th>codEstab</th>\n",
       "      <th>flagLimaProvEstab</th>\n",
       "      <th>ubigeoEstab</th>\n",
       "      <th>ctdTrx</th>\n",
       "      <th>ratingMonto</th>\n",
       "    </tr>\n",
       "  </thead>\n",
       "  <tbody>\n",
       "    <tr>\n",
       "      <th>0</th>\n",
       "      <td>2017-01-29 00:00:00</td>\n",
       "      <td>7649</td>\n",
       "      <td>138.0</td>\n",
       "      <td>43629</td>\n",
       "      <td>1</td>\n",
       "      <td>176.0</td>\n",
       "      <td>1</td>\n",
       "      <td>0.014072</td>\n",
       "    </tr>\n",
       "    <tr>\n",
       "      <th>1</th>\n",
       "      <td>2016-12-01 00:00:00</td>\n",
       "      <td>24604</td>\n",
       "      <td>75.0</td>\n",
       "      <td>4326</td>\n",
       "      <td>0</td>\n",
       "      <td>81.0</td>\n",
       "      <td>1</td>\n",
       "      <td>0.001667</td>\n",
       "    </tr>\n",
       "    <tr>\n",
       "      <th>2</th>\n",
       "      <td>2017-06-01 00:00:00</td>\n",
       "      <td>15289</td>\n",
       "      <td>75.0</td>\n",
       "      <td>4326</td>\n",
       "      <td>0</td>\n",
       "      <td>81.0</td>\n",
       "      <td>1</td>\n",
       "      <td>0.000127</td>\n",
       "    </tr>\n",
       "    <tr>\n",
       "      <th>3</th>\n",
       "      <td>2017-09-22 00:00:00</td>\n",
       "      <td>5190</td>\n",
       "      <td>110.0</td>\n",
       "      <td>59776</td>\n",
       "      <td>1</td>\n",
       "      <td>156.0</td>\n",
       "      <td>1</td>\n",
       "      <td>0.001167</td>\n",
       "    </tr>\n",
       "    <tr>\n",
       "      <th>4</th>\n",
       "      <td>2017-05-05 00:00:00</td>\n",
       "      <td>16635</td>\n",
       "      <td>75.0</td>\n",
       "      <td>31043</td>\n",
       "      <td>0</td>\n",
       "      <td>81.0</td>\n",
       "      <td>1</td>\n",
       "      <td>0.047386</td>\n",
       "    </tr>\n",
       "  </tbody>\n",
       "</table>\n",
       "</div>"
      ],
      "text/plain": [
       "             fechaOper  codCliente  codGiro  codEstab  flagLimaProvEstab  \\\n",
       "0  2017-01-29 00:00:00        7649    138.0     43629                  1   \n",
       "1  2016-12-01 00:00:00       24604     75.0      4326                  0   \n",
       "2  2017-06-01 00:00:00       15289     75.0      4326                  0   \n",
       "3  2017-09-22 00:00:00        5190    110.0     59776                  1   \n",
       "4  2017-05-05 00:00:00       16635     75.0     31043                  0   \n",
       "\n",
       "   ubigeoEstab  ctdTrx  ratingMonto  \n",
       "0        176.0       1     0.014072  \n",
       "1         81.0       1     0.001667  \n",
       "2         81.0       1     0.000127  \n",
       "3        156.0       1     0.001167  \n",
       "4         81.0       1     0.047386  "
      ]
     },
     "execution_count": 1,
     "metadata": {},
     "output_type": "execute_result"
    }
   ],
   "source": [
    "#propios utilitarios\n",
    "from utils import *\n",
    "data_train = pd.read_csv('data/01dataBaseTrainTrxRec.csv', **set_parameter_csv)\n",
    "data_train.head()"
   ]
  },
  {
   "cell_type": "code",
   "execution_count": 13,
   "metadata": {
    "collapsed": false
   },
   "outputs": [
    {
     "data": {
      "text/html": [
       "<div>\n",
       "<style scoped>\n",
       "    .dataframe tbody tr th:only-of-type {\n",
       "        vertical-align: middle;\n",
       "    }\n",
       "\n",
       "    .dataframe tbody tr th {\n",
       "        vertical-align: top;\n",
       "    }\n",
       "\n",
       "    .dataframe thead th {\n",
       "        text-align: right;\n",
       "    }\n",
       "</style>\n",
       "<table border=\"1\" class=\"dataframe\">\n",
       "  <thead>\n",
       "    <tr style=\"text-align: right;\">\n",
       "      <th></th>\n",
       "      <th>fechaOper</th>\n",
       "      <th>codCliente</th>\n",
       "      <th>codGiro</th>\n",
       "      <th>codEstab</th>\n",
       "      <th>flagLimaProvEstab</th>\n",
       "      <th>ubigeoEstab</th>\n",
       "      <th>ctdTrx</th>\n",
       "      <th>ratingMonto</th>\n",
       "    </tr>\n",
       "  </thead>\n",
       "  <tbody>\n",
       "    <tr>\n",
       "      <th>25041</th>\n",
       "      <td>2017-05-24 00:00:00</td>\n",
       "      <td>1</td>\n",
       "      <td>105.0</td>\n",
       "      <td>39</td>\n",
       "      <td>1</td>\n",
       "      <td>147.0</td>\n",
       "      <td>1</td>\n",
       "      <td>0.084590</td>\n",
       "    </tr>\n",
       "    <tr>\n",
       "      <th>522851</th>\n",
       "      <td>2017-03-07 00:00:00</td>\n",
       "      <td>1</td>\n",
       "      <td>105.0</td>\n",
       "      <td>39</td>\n",
       "      <td>1</td>\n",
       "      <td>147.0</td>\n",
       "      <td>1</td>\n",
       "      <td>0.098481</td>\n",
       "    </tr>\n",
       "    <tr>\n",
       "      <th>743922</th>\n",
       "      <td>2017-08-20 00:00:00</td>\n",
       "      <td>1</td>\n",
       "      <td>105.0</td>\n",
       "      <td>39</td>\n",
       "      <td>1</td>\n",
       "      <td>147.0</td>\n",
       "      <td>1</td>\n",
       "      <td>0.018126</td>\n",
       "    </tr>\n",
       "    <tr>\n",
       "      <th>1272804</th>\n",
       "      <td>2017-05-13 00:00:00</td>\n",
       "      <td>1</td>\n",
       "      <td>105.0</td>\n",
       "      <td>39</td>\n",
       "      <td>1</td>\n",
       "      <td>147.0</td>\n",
       "      <td>1</td>\n",
       "      <td>0.018183</td>\n",
       "    </tr>\n",
       "    <tr>\n",
       "      <th>816568</th>\n",
       "      <td>2016-12-22 00:00:00</td>\n",
       "      <td>1</td>\n",
       "      <td>72.0</td>\n",
       "      <td>1194</td>\n",
       "      <td>1</td>\n",
       "      <td>147.0</td>\n",
       "      <td>1</td>\n",
       "      <td>0.031735</td>\n",
       "    </tr>\n",
       "  </tbody>\n",
       "</table>\n",
       "</div>"
      ],
      "text/plain": [
       "                   fechaOper  codCliente  codGiro  codEstab  \\\n",
       "25041    2017-05-24 00:00:00           1    105.0        39   \n",
       "522851   2017-03-07 00:00:00           1    105.0        39   \n",
       "743922   2017-08-20 00:00:00           1    105.0        39   \n",
       "1272804  2017-05-13 00:00:00           1    105.0        39   \n",
       "816568   2016-12-22 00:00:00           1     72.0      1194   \n",
       "\n",
       "         flagLimaProvEstab  ubigeoEstab  ctdTrx  ratingMonto  \n",
       "25041                    1        147.0       1     0.084590  \n",
       "522851                   1        147.0       1     0.098481  \n",
       "743922                   1        147.0       1     0.018126  \n",
       "1272804                  1        147.0       1     0.018183  \n",
       "816568                   1        147.0       1     0.031735  "
      ]
     },
     "execution_count": 13,
     "metadata": {},
     "output_type": "execute_result"
    }
   ],
   "source": [
    "data_train.sort_values(by=['codCliente','codEstab']).head()"
   ]
  },
  {
   "cell_type": "code",
   "execution_count": 10,
   "metadata": {
    "collapsed": false
   },
   "outputs": [
    {
     "data": {
      "text/html": [
       "<div>\n",
       "<style scoped>\n",
       "    .dataframe tbody tr th:only-of-type {\n",
       "        vertical-align: middle;\n",
       "    }\n",
       "\n",
       "    .dataframe tbody tr th {\n",
       "        vertical-align: top;\n",
       "    }\n",
       "\n",
       "    .dataframe thead th {\n",
       "        text-align: right;\n",
       "    }\n",
       "</style>\n",
       "<table border=\"1\" class=\"dataframe\">\n",
       "  <thead>\n",
       "    <tr style=\"text-align: right;\">\n",
       "      <th></th>\n",
       "      <th>ratingMonto</th>\n",
       "      <th>ratingMonto</th>\n",
       "      <th>ratingMonto</th>\n",
       "    </tr>\n",
       "    <tr>\n",
       "      <th>codCliente</th>\n",
       "      <th></th>\n",
       "      <th></th>\n",
       "      <th></th>\n",
       "    </tr>\n",
       "  </thead>\n",
       "  <tbody>\n",
       "    <tr>\n",
       "      <th>1</th>\n",
       "      <td>0.863403</td>\n",
       "      <td>0.023983</td>\n",
       "      <td>36</td>\n",
       "    </tr>\n",
       "    <tr>\n",
       "      <th>2</th>\n",
       "      <td>0.540837</td>\n",
       "      <td>0.004545</td>\n",
       "      <td>119</td>\n",
       "    </tr>\n",
       "    <tr>\n",
       "      <th>3</th>\n",
       "      <td>0.582373</td>\n",
       "      <td>0.044798</td>\n",
       "      <td>13</td>\n",
       "    </tr>\n",
       "    <tr>\n",
       "      <th>4</th>\n",
       "      <td>0.774747</td>\n",
       "      <td>0.004280</td>\n",
       "      <td>181</td>\n",
       "    </tr>\n",
       "    <tr>\n",
       "      <th>5</th>\n",
       "      <td>0.621249</td>\n",
       "      <td>0.015152</td>\n",
       "      <td>41</td>\n",
       "    </tr>\n",
       "  </tbody>\n",
       "</table>\n",
       "</div>"
      ],
      "text/plain": [
       "            ratingMonto  ratingMonto  ratingMonto\n",
       "codCliente                                       \n",
       "1              0.863403     0.023983           36\n",
       "2              0.540837     0.004545          119\n",
       "3              0.582373     0.044798           13\n",
       "4              0.774747     0.004280          181\n",
       "5              0.621249     0.015152           41"
      ]
     },
     "execution_count": 10,
     "metadata": {},
     "output_type": "execute_result"
    }
   ],
   "source": [
    "pd.concat([\n",
    "    pd.DataFrame(data_train.groupby(['codCliente'])['ratingMonto'].sum()),\n",
    "    pd.DataFrame(data_train.groupby(['codCliente'])['ratingMonto'].mean()),\n",
    "    pd.DataFrame(data_train.groupby(['codCliente'])['ratingMonto'].count())],\n",
    "    axis=1\n",
    ")[:5]"
   ]
  },
  {
   "cell_type": "code",
   "execution_count": 12,
   "metadata": {
    "collapsed": false
   },
   "outputs": [
    {
     "data": {
      "text/html": [
       "<div>\n",
       "<style scoped>\n",
       "    .dataframe tbody tr th:only-of-type {\n",
       "        vertical-align: middle;\n",
       "    }\n",
       "\n",
       "    .dataframe tbody tr th {\n",
       "        vertical-align: top;\n",
       "    }\n",
       "\n",
       "    .dataframe thead th {\n",
       "        text-align: right;\n",
       "    }\n",
       "</style>\n",
       "<table border=\"1\" class=\"dataframe\">\n",
       "  <thead>\n",
       "    <tr style=\"text-align: right;\">\n",
       "      <th></th>\n",
       "      <th></th>\n",
       "      <th>ratingMonto</th>\n",
       "      <th>ratingMonto</th>\n",
       "      <th>ratingMonto</th>\n",
       "    </tr>\n",
       "    <tr>\n",
       "      <th>codCliente</th>\n",
       "      <th>codEstab</th>\n",
       "      <th></th>\n",
       "      <th></th>\n",
       "      <th></th>\n",
       "    </tr>\n",
       "  </thead>\n",
       "  <tbody>\n",
       "    <tr>\n",
       "      <th rowspan=\"5\" valign=\"top\">1</th>\n",
       "      <th>39</th>\n",
       "      <td>0.219380</td>\n",
       "      <td>0.054845</td>\n",
       "      <td>4</td>\n",
       "    </tr>\n",
       "    <tr>\n",
       "      <th>1194</th>\n",
       "      <td>0.031735</td>\n",
       "      <td>0.031735</td>\n",
       "      <td>1</td>\n",
       "    </tr>\n",
       "    <tr>\n",
       "      <th>1911</th>\n",
       "      <td>0.119995</td>\n",
       "      <td>0.119995</td>\n",
       "      <td>1</td>\n",
       "    </tr>\n",
       "    <tr>\n",
       "      <th>2399</th>\n",
       "      <td>0.009543</td>\n",
       "      <td>0.009543</td>\n",
       "      <td>1</td>\n",
       "    </tr>\n",
       "    <tr>\n",
       "      <th>2425</th>\n",
       "      <td>0.024790</td>\n",
       "      <td>0.012395</td>\n",
       "      <td>2</td>\n",
       "    </tr>\n",
       "  </tbody>\n",
       "</table>\n",
       "</div>"
      ],
      "text/plain": [
       "                     ratingMonto  ratingMonto  ratingMonto\n",
       "codCliente codEstab                                       \n",
       "1          39           0.219380     0.054845            4\n",
       "           1194         0.031735     0.031735            1\n",
       "           1911         0.119995     0.119995            1\n",
       "           2399         0.009543     0.009543            1\n",
       "           2425         0.024790     0.012395            2"
      ]
     },
     "execution_count": 12,
     "metadata": {},
     "output_type": "execute_result"
    }
   ],
   "source": [
    "pd.concat([\n",
    "    pd.DataFrame(data_train.groupby(['codCliente', 'codEstab'])['ratingMonto'].sum()),\n",
    "    pd.DataFrame(data_train.groupby(['codCliente', 'codEstab'])['ratingMonto'].mean()),\n",
    "    pd.DataFrame(data_train.groupby(['codCliente', 'codEstab'])['ratingMonto'].count())],\n",
    "    axis=1\n",
    ")[:5]"
   ]
  },
  {
   "cell_type": "code",
   "execution_count": null,
   "metadata": {
    "collapsed": true
   },
   "outputs": [],
   "source": []
  },
  {
   "cell_type": "code",
   "execution_count": null,
   "metadata": {},
   "outputs": [],
   "source": []
  },
  {
   "cell_type": "code",
   "execution_count": null,
   "metadata": {},
   "outputs": [],
   "source": []
  },
  {
   "cell_type": "code",
   "execution_count": null,
   "metadata": {},
   "outputs": [],
   "source": []
  },
  {
   "cell_type": "code",
   "execution_count": null,
   "metadata": {},
   "outputs": [],
   "source": []
  },
  {
   "cell_type": "code",
   "execution_count": null,
   "metadata": {},
   "outputs": [],
   "source": []
  },
  {
   "cell_type": "code",
   "execution_count": null,
   "metadata": {},
   "outputs": [],
   "source": []
  },
  {
   "cell_type": "code",
   "execution_count": null,
   "metadata": {},
   "outputs": [],
   "source": []
  },
  {
   "cell_type": "code",
   "execution_count": null,
   "metadata": {},
   "outputs": [],
   "source": []
  },
  {
   "cell_type": "code",
   "execution_count": null,
   "metadata": {},
   "outputs": [],
   "source": []
  },
  {
   "cell_type": "code",
   "execution_count": null,
   "metadata": {},
   "outputs": [],
   "source": []
  },
  {
   "cell_type": "code",
   "execution_count": null,
   "metadata": {},
   "outputs": [],
   "source": []
  },
  {
   "cell_type": "code",
   "execution_count": null,
   "metadata": {},
   "outputs": [],
   "source": []
  },
  {
   "cell_type": "code",
   "execution_count": null,
   "metadata": {},
   "outputs": [],
   "source": []
  },
  {
   "cell_type": "code",
   "execution_count": null,
   "metadata": {},
   "outputs": [],
   "source": []
  },
  {
   "cell_type": "code",
   "execution_count": null,
   "metadata": {},
   "outputs": [],
   "source": []
  },
  {
   "cell_type": "code",
   "execution_count": null,
   "metadata": {},
   "outputs": [],
   "source": []
  },
  {
   "cell_type": "code",
   "execution_count": null,
   "metadata": {},
   "outputs": [],
   "source": []
  },
  {
   "cell_type": "code",
   "execution_count": null,
   "metadata": {},
   "outputs": [],
   "source": []
  },
  {
   "cell_type": "code",
   "execution_count": null,
   "metadata": {},
   "outputs": [],
   "source": []
  },
  {
   "cell_type": "code",
   "execution_count": null,
   "metadata": {},
   "outputs": [],
   "source": []
  },
  {
   "cell_type": "code",
   "execution_count": null,
   "metadata": {},
   "outputs": [],
   "source": []
  },
  {
   "cell_type": "code",
   "execution_count": null,
   "metadata": {},
   "outputs": [],
   "source": []
  },
  {
   "cell_type": "code",
   "execution_count": null,
   "metadata": {},
   "outputs": [],
   "source": []
  },
  {
   "cell_type": "code",
   "execution_count": null,
   "metadata": {},
   "outputs": [],
   "source": []
  },
  {
   "cell_type": "code",
   "execution_count": null,
   "metadata": {},
   "outputs": [],
   "source": []
  },
  {
   "cell_type": "code",
   "execution_count": null,
   "metadata": {},
   "outputs": [],
   "source": []
  },
  {
   "cell_type": "code",
   "execution_count": null,
   "metadata": {},
   "outputs": [],
   "source": []
  },
  {
   "cell_type": "code",
   "execution_count": null,
   "metadata": {},
   "outputs": [],
   "source": []
  },
  {
   "cell_type": "code",
   "execution_count": null,
   "metadata": {},
   "outputs": [],
   "source": []
  },
  {
   "cell_type": "code",
   "execution_count": null,
   "metadata": {},
   "outputs": [],
   "source": []
  },
  {
   "cell_type": "code",
   "execution_count": null,
   "metadata": {},
   "outputs": [],
   "source": []
  },
  {
   "cell_type": "code",
   "execution_count": null,
   "metadata": {},
   "outputs": [],
   "source": []
  },
  {
   "cell_type": "code",
   "execution_count": null,
   "metadata": {},
   "outputs": [],
   "source": []
  },
  {
   "cell_type": "code",
   "execution_count": null,
   "metadata": {},
   "outputs": [],
   "source": []
  },
  {
   "cell_type": "code",
   "execution_count": null,
   "metadata": {},
   "outputs": [],
   "source": []
  },
  {
   "cell_type": "code",
   "execution_count": null,
   "metadata": {},
   "outputs": [],
   "source": []
  },
  {
   "cell_type": "code",
   "execution_count": null,
   "metadata": {},
   "outputs": [],
   "source": []
  },
  {
   "cell_type": "code",
   "execution_count": null,
   "metadata": {},
   "outputs": [],
   "source": []
  },
  {
   "cell_type": "code",
   "execution_count": null,
   "metadata": {},
   "outputs": [],
   "source": []
  },
  {
   "cell_type": "code",
   "execution_count": null,
   "metadata": {},
   "outputs": [],
   "source": []
  },
  {
   "cell_type": "code",
   "execution_count": null,
   "metadata": {},
   "outputs": [],
   "source": []
  },
  {
   "cell_type": "code",
   "execution_count": null,
   "metadata": {},
   "outputs": [],
   "source": []
  },
  {
   "cell_type": "code",
   "execution_count": null,
   "metadata": {},
   "outputs": [],
   "source": []
  },
  {
   "cell_type": "code",
   "execution_count": null,
   "metadata": {},
   "outputs": [],
   "source": []
  }
 ],
 "metadata": {
  "kernelspec": {
   "display_name": "Python 3",
   "language": "python",
   "name": "python3"
  },
  "language_info": {
   "codemirror_mode": {
    "name": "ipython",
    "version": 3
   },
   "file_extension": ".py",
   "mimetype": "text/x-python",
   "name": "python",
   "nbconvert_exporter": "python",
   "pygments_lexer": "ipython3",
   "version": "3.6.4"
  }
 },
 "nbformat": 4,
 "nbformat_minor": 2
}
