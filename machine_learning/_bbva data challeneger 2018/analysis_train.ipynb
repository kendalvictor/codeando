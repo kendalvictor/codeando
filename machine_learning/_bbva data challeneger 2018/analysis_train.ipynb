{
 "cells": [
  {
   "cell_type": "code",
   "execution_count": 2,
   "metadata": {
    "collapsed": false
   },
   "outputs": [
    {
     "data": {
      "text/html": [
       "<div>\n",
       "<style scoped>\n",
       "    .dataframe tbody tr th:only-of-type {\n",
       "        vertical-align: middle;\n",
       "    }\n",
       "\n",
       "    .dataframe tbody tr th {\n",
       "        vertical-align: top;\n",
       "    }\n",
       "\n",
       "    .dataframe thead th {\n",
       "        text-align: right;\n",
       "    }\n",
       "</style>\n",
       "<table border=\"1\" class=\"dataframe\">\n",
       "  <thead>\n",
       "    <tr style=\"text-align: right;\">\n",
       "      <th></th>\n",
       "      <th>fechaOper</th>\n",
       "      <th>codCliente</th>\n",
       "      <th>codGiro</th>\n",
       "      <th>codEstab</th>\n",
       "      <th>flagLimaProvEstab</th>\n",
       "      <th>ubigeoEstab</th>\n",
       "      <th>ctdTrx</th>\n",
       "      <th>ratingMonto</th>\n",
       "    </tr>\n",
       "  </thead>\n",
       "  <tbody>\n",
       "    <tr>\n",
       "      <th>0</th>\n",
       "      <td>2017-01-29 00:00:00</td>\n",
       "      <td>7649</td>\n",
       "      <td>138.0</td>\n",
       "      <td>43629</td>\n",
       "      <td>1</td>\n",
       "      <td>176.0</td>\n",
       "      <td>1</td>\n",
       "      <td>0.014072</td>\n",
       "    </tr>\n",
       "    <tr>\n",
       "      <th>1</th>\n",
       "      <td>2016-12-01 00:00:00</td>\n",
       "      <td>24604</td>\n",
       "      <td>75.0</td>\n",
       "      <td>4326</td>\n",
       "      <td>0</td>\n",
       "      <td>81.0</td>\n",
       "      <td>1</td>\n",
       "      <td>0.001667</td>\n",
       "    </tr>\n",
       "    <tr>\n",
       "      <th>2</th>\n",
       "      <td>2017-06-01 00:00:00</td>\n",
       "      <td>15289</td>\n",
       "      <td>75.0</td>\n",
       "      <td>4326</td>\n",
       "      <td>0</td>\n",
       "      <td>81.0</td>\n",
       "      <td>1</td>\n",
       "      <td>0.000127</td>\n",
       "    </tr>\n",
       "    <tr>\n",
       "      <th>3</th>\n",
       "      <td>2017-09-22 00:00:00</td>\n",
       "      <td>5190</td>\n",
       "      <td>110.0</td>\n",
       "      <td>59776</td>\n",
       "      <td>1</td>\n",
       "      <td>156.0</td>\n",
       "      <td>1</td>\n",
       "      <td>0.001167</td>\n",
       "    </tr>\n",
       "    <tr>\n",
       "      <th>4</th>\n",
       "      <td>2017-05-05 00:00:00</td>\n",
       "      <td>16635</td>\n",
       "      <td>75.0</td>\n",
       "      <td>31043</td>\n",
       "      <td>0</td>\n",
       "      <td>81.0</td>\n",
       "      <td>1</td>\n",
       "      <td>0.047386</td>\n",
       "    </tr>\n",
       "  </tbody>\n",
       "</table>\n",
       "</div>"
      ],
      "text/plain": [
       "             fechaOper  codCliente  codGiro  codEstab  flagLimaProvEstab  \\\n",
       "0  2017-01-29 00:00:00        7649    138.0     43629                  1   \n",
       "1  2016-12-01 00:00:00       24604     75.0      4326                  0   \n",
       "2  2017-06-01 00:00:00       15289     75.0      4326                  0   \n",
       "3  2017-09-22 00:00:00        5190    110.0     59776                  1   \n",
       "4  2017-05-05 00:00:00       16635     75.0     31043                  0   \n",
       "\n",
       "   ubigeoEstab  ctdTrx  ratingMonto  \n",
       "0        176.0       1     0.014072  \n",
       "1         81.0       1     0.001667  \n",
       "2         81.0       1     0.000127  \n",
       "3        156.0       1     0.001167  \n",
       "4         81.0       1     0.047386  "
      ]
     },
     "execution_count": 2,
     "metadata": {},
     "output_type": "execute_result"
    }
   ],
   "source": [
    "#calculo\n",
    "import numpy as np\n",
    "import pandas as pd\n",
    "\n",
    "#grafico\n",
    "import matplotlib.pyplot as plt\n",
    "import seaborn as sns\n",
    "%matplotlib inline\n",
    "\n",
    "#propios utilitarios\n",
    "from utils import *\n",
    "from graphs import *\n",
    "\n",
    "data = pd.read_csv('data/01dataBaseTrainTrxRec.csv', **set_parameter_csv)\n",
    "data.head()"
   ]
  },
  {
   "cell_type": "code",
   "execution_count": 3,
   "metadata": {
    "collapsed": false
   },
   "outputs": [
    {
     "data": {
      "text/html": [
       "<div>\n",
       "<style scoped>\n",
       "    .dataframe tbody tr th:only-of-type {\n",
       "        vertical-align: middle;\n",
       "    }\n",
       "\n",
       "    .dataframe tbody tr th {\n",
       "        vertical-align: top;\n",
       "    }\n",
       "\n",
       "    .dataframe thead th {\n",
       "        text-align: right;\n",
       "    }\n",
       "</style>\n",
       "<table border=\"1\" class=\"dataframe\">\n",
       "  <thead>\n",
       "    <tr style=\"text-align: right;\">\n",
       "      <th></th>\n",
       "      <th>fechaOper</th>\n",
       "      <th>codCliente</th>\n",
       "      <th>codGiro</th>\n",
       "      <th>codEstab</th>\n",
       "      <th>flagLimaProvEstab</th>\n",
       "      <th>ubigeoEstab</th>\n",
       "      <th>ctdTrx</th>\n",
       "      <th>ratingMonto</th>\n",
       "    </tr>\n",
       "  </thead>\n",
       "  <tbody>\n",
       "    <tr>\n",
       "      <th>count</th>\n",
       "      <td>1591617</td>\n",
       "      <td>1591617</td>\n",
       "      <td>1591617</td>\n",
       "      <td>1591617</td>\n",
       "      <td>1591617</td>\n",
       "      <td>1591617</td>\n",
       "      <td>1591617</td>\n",
       "      <td>1591617</td>\n",
       "    </tr>\n",
       "    <tr>\n",
       "      <th>unique</th>\n",
       "      <td>365</td>\n",
       "      <td>30000</td>\n",
       "      <td>223</td>\n",
       "      <td>74339</td>\n",
       "      <td>2</td>\n",
       "      <td>422</td>\n",
       "      <td>22</td>\n",
       "      <td>723645</td>\n",
       "    </tr>\n",
       "    <tr>\n",
       "      <th>top</th>\n",
       "      <td>2017-07-15 00:00:00</td>\n",
       "      <td>21426</td>\n",
       "      <td>75.0</td>\n",
       "      <td>24539</td>\n",
       "      <td>1</td>\n",
       "      <td>175.0</td>\n",
       "      <td>1</td>\n",
       "      <td>0.08333333333333333</td>\n",
       "    </tr>\n",
       "    <tr>\n",
       "      <th>freq</th>\n",
       "      <td>7303</td>\n",
       "      <td>730</td>\n",
       "      <td>322667</td>\n",
       "      <td>12644</td>\n",
       "      <td>1286691</td>\n",
       "      <td>173180</td>\n",
       "      <td>1499771</td>\n",
       "      <td>309</td>\n",
       "    </tr>\n",
       "  </tbody>\n",
       "</table>\n",
       "</div>"
      ],
      "text/plain": [
       "                  fechaOper codCliente  codGiro codEstab flagLimaProvEstab  \\\n",
       "count               1591617    1591617  1591617  1591617           1591617   \n",
       "unique                  365      30000      223    74339                 2   \n",
       "top     2017-07-15 00:00:00      21426     75.0    24539                 1   \n",
       "freq                   7303        730   322667    12644           1286691   \n",
       "\n",
       "       ubigeoEstab   ctdTrx          ratingMonto  \n",
       "count      1591617  1591617              1591617  \n",
       "unique         422       22               723645  \n",
       "top          175.0        1  0.08333333333333333  \n",
       "freq        173180  1499771                  309  "
      ]
     },
     "execution_count": 3,
     "metadata": {},
     "output_type": "execute_result"
    }
   ],
   "source": [
    "data.astype('str').describe(include='all')"
   ]
  },
  {
   "cell_type": "code",
   "execution_count": 4,
   "metadata": {},
   "outputs": [
    {
     "data": {
      "text/plain": [
       "count    1.591617e+06\n",
       "mean     1.318383e-02\n",
       "std      3.236438e-02\n",
       "min      2.984905e-06\n",
       "25%      1.598366e-03\n",
       "50%      4.199563e-03\n",
       "75%      1.152572e-02\n",
       "max      1.000000e+00\n",
       "Name: ratingMonto, dtype: float64"
      ]
     },
     "execution_count": 4,
     "metadata": {},
     "output_type": "execute_result"
    }
   ],
   "source": [
    "data['ratingMonto'].describe()"
   ]
  },
  {
   "cell_type": "markdown",
   "metadata": {},
   "source": [
    "## Analisis de nulos"
   ]
  },
  {
   "cell_type": "code",
   "execution_count": 5,
   "metadata": {},
   "outputs": [
    {
     "data": {
      "text/plain": [
       "True"
      ]
     },
     "execution_count": 5,
     "metadata": {},
     "output_type": "execute_result"
    }
   ],
   "source": [
    "#Validacion de que los mismos que tienen nulos los codgios de giro tambien tienen nulo su ubigeo\n",
    "data[data['ubigeoEstab'].isnull() & data['codGiro'].isnull()].shape[0] == \\\n",
    "    data[data['ubigeoEstab'].isnull()].shape[0]"
   ]
  },
  {
   "cell_type": "code",
   "execution_count": 6,
   "metadata": {
    "collapsed": true
   },
   "outputs": [],
   "source": [
    "#Por ello completo nulos con un tipo nuevo de dato comun a ambos\n",
    "data.fillna(0, inplace=True)"
   ]
  },
  {
   "cell_type": "code",
   "execution_count": 7,
   "metadata": {
    "collapsed": false
   },
   "outputs": [
    {
     "data": {
      "text/plain": [
       "'DATA LIMPIA DE NULOS'"
      ]
     },
     "execution_count": 7,
     "metadata": {},
     "output_type": "execute_result"
    }
   ],
   "source": [
    "null_verificator(data)"
   ]
  },
  {
   "cell_type": "code",
   "execution_count": 8,
   "metadata": {},
   "outputs": [],
   "source": [
    "data['codGiro'] = data['codGiro'].astype(int)\n",
    "data['ubigeoEstab'] = data['ubigeoEstab'].astype(int)"
   ]
  },
  {
   "cell_type": "code",
   "execution_count": 9,
   "metadata": {},
   "outputs": [
    {
     "data": {
      "text/plain": [
       "fechaOper             object\n",
       "codCliente             int64\n",
       "codGiro                int64\n",
       "codEstab               int64\n",
       "flagLimaProvEstab      int64\n",
       "ubigeoEstab            int64\n",
       "ctdTrx                 int64\n",
       "ratingMonto          float64\n",
       "dtype: object"
      ]
     },
     "execution_count": 9,
     "metadata": {},
     "output_type": "execute_result"
    }
   ],
   "source": [
    "data.dtypes"
   ]
  },
  {
   "cell_type": "code",
   "execution_count": 10,
   "metadata": {
    "collapsed": false
   },
   "outputs": [
    {
     "data": {
      "text/plain": [
       "((1591617, 8),\n",
       " Index(['fechaOper', 'codCliente', 'codGiro', 'codEstab', 'flagLimaProvEstab',\n",
       "        'ubigeoEstab', 'ctdTrx', 'ratingMonto'],\n",
       "       dtype='object'))"
      ]
     },
     "execution_count": 10,
     "metadata": {},
     "output_type": "execute_result"
    }
   ],
   "source": [
    "data.shape, data.columns"
   ]
  },
  {
   "cell_type": "markdown",
   "metadata": {},
   "source": [
    "## Creando Dataframe de datos solo de establecimiento"
   ]
  },
  {
   "cell_type": "code",
   "execution_count": 12,
   "metadata": {},
   "outputs": [
    {
     "data": {
      "text/html": [
       "<div>\n",
       "<style scoped>\n",
       "    .dataframe tbody tr th:only-of-type {\n",
       "        vertical-align: middle;\n",
       "    }\n",
       "\n",
       "    .dataframe tbody tr th {\n",
       "        vertical-align: top;\n",
       "    }\n",
       "\n",
       "    .dataframe thead th {\n",
       "        text-align: right;\n",
       "    }\n",
       "</style>\n",
       "<table border=\"1\" class=\"dataframe\">\n",
       "  <thead>\n",
       "    <tr style=\"text-align: right;\">\n",
       "      <th></th>\n",
       "      <th>index</th>\n",
       "      <th>codGiro</th>\n",
       "      <th>codEstab</th>\n",
       "      <th>flagLimaProvEstab</th>\n",
       "      <th>ubigeoEstab</th>\n",
       "    </tr>\n",
       "  </thead>\n",
       "  <tbody>\n",
       "    <tr>\n",
       "      <th>0</th>\n",
       "      <td>398126</td>\n",
       "      <td>0</td>\n",
       "      <td>1</td>\n",
       "      <td>0</td>\n",
       "      <td>0</td>\n",
       "    </tr>\n",
       "    <tr>\n",
       "      <th>1</th>\n",
       "      <td>9507</td>\n",
       "      <td>0</td>\n",
       "      <td>2</td>\n",
       "      <td>0</td>\n",
       "      <td>0</td>\n",
       "    </tr>\n",
       "    <tr>\n",
       "      <th>2</th>\n",
       "      <td>142715</td>\n",
       "      <td>100</td>\n",
       "      <td>3</td>\n",
       "      <td>1</td>\n",
       "      <td>166</td>\n",
       "    </tr>\n",
       "    <tr>\n",
       "      <th>3</th>\n",
       "      <td>568696</td>\n",
       "      <td>100</td>\n",
       "      <td>4</td>\n",
       "      <td>1</td>\n",
       "      <td>401</td>\n",
       "    </tr>\n",
       "    <tr>\n",
       "      <th>4</th>\n",
       "      <td>1250161</td>\n",
       "      <td>100</td>\n",
       "      <td>5</td>\n",
       "      <td>1</td>\n",
       "      <td>175</td>\n",
       "    </tr>\n",
       "  </tbody>\n",
       "</table>\n",
       "</div>"
      ],
      "text/plain": [
       "     index  codGiro  codEstab  flagLimaProvEstab  ubigeoEstab\n",
       "0   398126        0         1                  0            0\n",
       "1     9507        0         2                  0            0\n",
       "2   142715      100         3                  1          166\n",
       "3   568696      100         4                  1          401\n",
       "4  1250161      100         5                  1          175"
      ]
     },
     "execution_count": 12,
     "metadata": {},
     "output_type": "execute_result"
    }
   ],
   "source": [
    "data_estab = data.drop(['codCliente','ratingMonto', 'ctdTrx', 'fechaOper'], axis=1)\n",
    "data_estab = data_estab.drop_duplicates()\n",
    "data_estab = data_estab.sort_values(by=['codEstab']).reset_index()\n",
    "data_estab.head()"
   ]
  },
  {
   "cell_type": "code",
   "execution_count": 13,
   "metadata": {},
   "outputs": [
    {
     "data": {
      "text/plain": [
       "index                int64\n",
       "codGiro              int64\n",
       "codEstab             int64\n",
       "flagLimaProvEstab    int64\n",
       "ubigeoEstab          int64\n",
       "dtype: object"
      ]
     },
     "execution_count": 13,
     "metadata": {},
     "output_type": "execute_result"
    }
   ],
   "source": [
    "data_estab.dtypes"
   ]
  },
  {
   "cell_type": "markdown",
   "metadata": {},
   "source": [
    "## Analizando Ubigeo (422 categorias)"
   ]
  },
  {
   "cell_type": "code",
   "execution_count": 52,
   "metadata": {},
   "outputs": [
    {
     "data": {
      "text/html": [
       "<div>\n",
       "<style scoped>\n",
       "    .dataframe tbody tr th:only-of-type {\n",
       "        vertical-align: middle;\n",
       "    }\n",
       "\n",
       "    .dataframe tbody tr th {\n",
       "        vertical-align: top;\n",
       "    }\n",
       "\n",
       "    .dataframe thead th {\n",
       "        text-align: right;\n",
       "    }\n",
       "</style>\n",
       "<table border=\"1\" class=\"dataframe\">\n",
       "  <thead>\n",
       "    <tr style=\"text-align: right;\">\n",
       "      <th></th>\n",
       "      <th>codGiro</th>\n",
       "      <th>count</th>\n",
       "    </tr>\n",
       "  </thead>\n",
       "  <tbody>\n",
       "    <tr>\n",
       "      <th>0</th>\n",
       "      <td>75</td>\n",
       "      <td>322667</td>\n",
       "    </tr>\n",
       "    <tr>\n",
       "      <th>1</th>\n",
       "      <td>110</td>\n",
       "      <td>237279</td>\n",
       "    </tr>\n",
       "    <tr>\n",
       "      <th>2</th>\n",
       "      <td>112</td>\n",
       "      <td>143592</td>\n",
       "    </tr>\n",
       "    <tr>\n",
       "      <th>3</th>\n",
       "      <td>85</td>\n",
       "      <td>120829</td>\n",
       "    </tr>\n",
       "    <tr>\n",
       "      <th>4</th>\n",
       "      <td>114</td>\n",
       "      <td>104896</td>\n",
       "    </tr>\n",
       "  </tbody>\n",
       "</table>\n",
       "</div>"
      ],
      "text/plain": [
       "   codGiro   count\n",
       "0       75  322667\n",
       "1      110  237279\n",
       "2      112  143592\n",
       "3       85  120829\n",
       "4      114  104896"
      ]
     },
     "execution_count": 52,
     "metadata": {},
     "output_type": "execute_result"
    }
   ],
   "source": [
    "data_ubigeo = pd.DataFrame(data['ubigeoEstab'].value_counts(dropna=False))\n",
    "data_ubigeo['count'] = data_ubigeo['ubigeoEstab']\n",
    "data_ubigeo['ubigeoEstab'] = data_ubigeo.index\n",
    "data_ubigeo['ubigeoEstab'] = data_ubigeo['ubigeoEstab'].apply(lambda x: str(x))\n",
    "data_ubigeo = data_ubigeo.reset_index()\n",
    "del data_ubigeo['index']\n",
    "data_ubigeo.head(5)"
   ]
  },
  {
   "cell_type": "code",
   "execution_count": 45,
   "metadata": {},
   "outputs": [
    {
     "data": {
      "text/html": [
       "<div>\n",
       "<style scoped>\n",
       "    .dataframe tbody tr th:only-of-type {\n",
       "        vertical-align: middle;\n",
       "    }\n",
       "\n",
       "    .dataframe tbody tr th {\n",
       "        vertical-align: top;\n",
       "    }\n",
       "\n",
       "    .dataframe thead th {\n",
       "        text-align: right;\n",
       "    }\n",
       "</style>\n",
       "<table border=\"1\" class=\"dataframe\">\n",
       "  <thead>\n",
       "    <tr style=\"text-align: right;\">\n",
       "      <th></th>\n",
       "      <th>ubigeoEstab</th>\n",
       "      <th>count</th>\n",
       "      <th>estab_popularity</th>\n",
       "    </tr>\n",
       "  </thead>\n",
       "  <tbody>\n",
       "    <tr>\n",
       "      <th>0</th>\n",
       "      <td>175</td>\n",
       "      <td>173180</td>\n",
       "      <td>0.108808</td>\n",
       "    </tr>\n",
       "    <tr>\n",
       "      <th>1</th>\n",
       "      <td>157</td>\n",
       "      <td>171381</td>\n",
       "      <td>0.107677</td>\n",
       "    </tr>\n",
       "    <tr>\n",
       "      <th>2</th>\n",
       "      <td>166</td>\n",
       "      <td>118251</td>\n",
       "      <td>0.074296</td>\n",
       "    </tr>\n",
       "    <tr>\n",
       "      <th>3</th>\n",
       "      <td>0</td>\n",
       "      <td>92686</td>\n",
       "      <td>0.058234</td>\n",
       "    </tr>\n",
       "    <tr>\n",
       "      <th>4</th>\n",
       "      <td>165</td>\n",
       "      <td>87808</td>\n",
       "      <td>0.055169</td>\n",
       "    </tr>\n",
       "  </tbody>\n",
       "</table>\n",
       "</div>"
      ],
      "text/plain": [
       "   ubigeoEstab   count  estab_popularity\n",
       "0          175  173180          0.108808\n",
       "1          157  171381          0.107677\n",
       "2          166  118251          0.074296\n",
       "3            0   92686          0.058234\n",
       "4          165   87808          0.055169"
      ]
     },
     "execution_count": 45,
     "metadata": {},
     "output_type": "execute_result"
    }
   ],
   "source": [
    "total_visit = sum(data_ubigeo['count'])\n",
    "data_ubigeo['estab_popularity'] = data_ubigeo['count'].apply(lambda x: x/total_visit)\n",
    "data_ubigeo.head()"
   ]
  },
  {
   "cell_type": "code",
   "execution_count": 49,
   "metadata": {},
   "outputs": [
    {
     "data": {
      "text/html": [
       "<div>\n",
       "<style scoped>\n",
       "    .dataframe tbody tr th:only-of-type {\n",
       "        vertical-align: middle;\n",
       "    }\n",
       "\n",
       "    .dataframe tbody tr th {\n",
       "        vertical-align: top;\n",
       "    }\n",
       "\n",
       "    .dataframe thead th {\n",
       "        text-align: right;\n",
       "    }\n",
       "</style>\n",
       "<table border=\"1\" class=\"dataframe\">\n",
       "  <thead>\n",
       "    <tr style=\"text-align: right;\">\n",
       "      <th></th>\n",
       "      <th>index</th>\n",
       "      <th>codGiro</th>\n",
       "      <th>codEstab</th>\n",
       "      <th>flagLimaProvEstab</th>\n",
       "      <th>ubigeoEstab</th>\n",
       "      <th>count</th>\n",
       "      <th>estab_popularity</th>\n",
       "    </tr>\n",
       "  </thead>\n",
       "  <tbody>\n",
       "    <tr>\n",
       "      <th>0</th>\n",
       "      <td>398126</td>\n",
       "      <td>0</td>\n",
       "      <td>1</td>\n",
       "      <td>0</td>\n",
       "      <td>0</td>\n",
       "      <td>92686</td>\n",
       "      <td>0.058234</td>\n",
       "    </tr>\n",
       "    <tr>\n",
       "      <th>1</th>\n",
       "      <td>9507</td>\n",
       "      <td>0</td>\n",
       "      <td>2</td>\n",
       "      <td>0</td>\n",
       "      <td>0</td>\n",
       "      <td>92686</td>\n",
       "      <td>0.058234</td>\n",
       "    </tr>\n",
       "    <tr>\n",
       "      <th>2</th>\n",
       "      <td>1206320</td>\n",
       "      <td>0</td>\n",
       "      <td>14</td>\n",
       "      <td>0</td>\n",
       "      <td>0</td>\n",
       "      <td>92686</td>\n",
       "      <td>0.058234</td>\n",
       "    </tr>\n",
       "    <tr>\n",
       "      <th>3</th>\n",
       "      <td>43372</td>\n",
       "      <td>0</td>\n",
       "      <td>24</td>\n",
       "      <td>0</td>\n",
       "      <td>0</td>\n",
       "      <td>92686</td>\n",
       "      <td>0.058234</td>\n",
       "    </tr>\n",
       "    <tr>\n",
       "      <th>4</th>\n",
       "      <td>659498</td>\n",
       "      <td>0</td>\n",
       "      <td>25</td>\n",
       "      <td>0</td>\n",
       "      <td>0</td>\n",
       "      <td>92686</td>\n",
       "      <td>0.058234</td>\n",
       "    </tr>\n",
       "  </tbody>\n",
       "</table>\n",
       "</div>"
      ],
      "text/plain": [
       "     index  codGiro  codEstab  flagLimaProvEstab  ubigeoEstab  count  \\\n",
       "0   398126        0         1                  0            0  92686   \n",
       "1     9507        0         2                  0            0  92686   \n",
       "2  1206320        0        14                  0            0  92686   \n",
       "3    43372        0        24                  0            0  92686   \n",
       "4   659498        0        25                  0            0  92686   \n",
       "\n",
       "   estab_popularity  \n",
       "0          0.058234  \n",
       "1          0.058234  \n",
       "2          0.058234  \n",
       "3          0.058234  \n",
       "4          0.058234  "
      ]
     },
     "execution_count": 49,
     "metadata": {},
     "output_type": "execute_result"
    }
   ],
   "source": [
    "data_estab = data_estab.merge(data_ubigeo, on='ubigeoEstab')\n",
    "data_estab.head()"
   ]
  },
  {
   "cell_type": "code",
   "execution_count": 50,
   "metadata": {},
   "outputs": [
    {
     "data": {
      "text/html": [
       "<div>\n",
       "<style scoped>\n",
       "    .dataframe tbody tr th:only-of-type {\n",
       "        vertical-align: middle;\n",
       "    }\n",
       "\n",
       "    .dataframe tbody tr th {\n",
       "        vertical-align: top;\n",
       "    }\n",
       "\n",
       "    .dataframe thead th {\n",
       "        text-align: right;\n",
       "    }\n",
       "</style>\n",
       "<table border=\"1\" class=\"dataframe\">\n",
       "  <thead>\n",
       "    <tr style=\"text-align: right;\">\n",
       "      <th></th>\n",
       "      <th>index</th>\n",
       "      <th>codGiro</th>\n",
       "      <th>codEstab</th>\n",
       "      <th>flagLimaProvEstab</th>\n",
       "      <th>ubigeoEstab</th>\n",
       "      <th>estab_popularity</th>\n",
       "    </tr>\n",
       "  </thead>\n",
       "  <tbody>\n",
       "    <tr>\n",
       "      <th>0</th>\n",
       "      <td>398126</td>\n",
       "      <td>0</td>\n",
       "      <td>1</td>\n",
       "      <td>0</td>\n",
       "      <td>0</td>\n",
       "      <td>0.058234</td>\n",
       "    </tr>\n",
       "    <tr>\n",
       "      <th>1</th>\n",
       "      <td>9507</td>\n",
       "      <td>0</td>\n",
       "      <td>2</td>\n",
       "      <td>0</td>\n",
       "      <td>0</td>\n",
       "      <td>0.058234</td>\n",
       "    </tr>\n",
       "    <tr>\n",
       "      <th>2</th>\n",
       "      <td>1206320</td>\n",
       "      <td>0</td>\n",
       "      <td>14</td>\n",
       "      <td>0</td>\n",
       "      <td>0</td>\n",
       "      <td>0.058234</td>\n",
       "    </tr>\n",
       "    <tr>\n",
       "      <th>3</th>\n",
       "      <td>43372</td>\n",
       "      <td>0</td>\n",
       "      <td>24</td>\n",
       "      <td>0</td>\n",
       "      <td>0</td>\n",
       "      <td>0.058234</td>\n",
       "    </tr>\n",
       "    <tr>\n",
       "      <th>4</th>\n",
       "      <td>659498</td>\n",
       "      <td>0</td>\n",
       "      <td>25</td>\n",
       "      <td>0</td>\n",
       "      <td>0</td>\n",
       "      <td>0.058234</td>\n",
       "    </tr>\n",
       "  </tbody>\n",
       "</table>\n",
       "</div>"
      ],
      "text/plain": [
       "     index  codGiro  codEstab  flagLimaProvEstab  ubigeoEstab  \\\n",
       "0   398126        0         1                  0            0   \n",
       "1     9507        0         2                  0            0   \n",
       "2  1206320        0        14                  0            0   \n",
       "3    43372        0        24                  0            0   \n",
       "4   659498        0        25                  0            0   \n",
       "\n",
       "   estab_popularity  \n",
       "0          0.058234  \n",
       "1          0.058234  \n",
       "2          0.058234  \n",
       "3          0.058234  \n",
       "4          0.058234  "
      ]
     },
     "execution_count": 50,
     "metadata": {},
     "output_type": "execute_result"
    }
   ],
   "source": [
    "del data_ubigeo\n",
    "del data_estab['count']\n",
    "data_estab.head()"
   ]
  },
  {
   "cell_type": "markdown",
   "metadata": {},
   "source": [
    "## Analizando CodGiro (223 categorias)"
   ]
  },
  {
   "cell_type": "code",
   "execution_count": 53,
   "metadata": {},
   "outputs": [
    {
     "data": {
      "text/html": [
       "<div>\n",
       "<style scoped>\n",
       "    .dataframe tbody tr th:only-of-type {\n",
       "        vertical-align: middle;\n",
       "    }\n",
       "\n",
       "    .dataframe tbody tr th {\n",
       "        vertical-align: top;\n",
       "    }\n",
       "\n",
       "    .dataframe thead th {\n",
       "        text-align: right;\n",
       "    }\n",
       "</style>\n",
       "<table border=\"1\" class=\"dataframe\">\n",
       "  <thead>\n",
       "    <tr style=\"text-align: right;\">\n",
       "      <th></th>\n",
       "      <th>codGiro</th>\n",
       "      <th>count</th>\n",
       "    </tr>\n",
       "  </thead>\n",
       "  <tbody>\n",
       "    <tr>\n",
       "      <th>0</th>\n",
       "      <td>75</td>\n",
       "      <td>322667</td>\n",
       "    </tr>\n",
       "    <tr>\n",
       "      <th>1</th>\n",
       "      <td>110</td>\n",
       "      <td>237279</td>\n",
       "    </tr>\n",
       "    <tr>\n",
       "      <th>2</th>\n",
       "      <td>112</td>\n",
       "      <td>143592</td>\n",
       "    </tr>\n",
       "    <tr>\n",
       "      <th>3</th>\n",
       "      <td>85</td>\n",
       "      <td>120829</td>\n",
       "    </tr>\n",
       "    <tr>\n",
       "      <th>4</th>\n",
       "      <td>114</td>\n",
       "      <td>104896</td>\n",
       "    </tr>\n",
       "  </tbody>\n",
       "</table>\n",
       "</div>"
      ],
      "text/plain": [
       "   codGiro   count\n",
       "0       75  322667\n",
       "1      110  237279\n",
       "2      112  143592\n",
       "3       85  120829\n",
       "4      114  104896"
      ]
     },
     "execution_count": 53,
     "metadata": {},
     "output_type": "execute_result"
    }
   ],
   "source": [
    "data_giro = pd.DataFrame(data['codGiro'].value_counts(dropna=False))\n",
    "data_giro['count'] = data_giro['codGiro']\n",
    "data_giro['codGiro'] = data_giro.index\n",
    "data_giro['codGiro'] = data_giro['codGiro'].apply(lambda x: int(x))\n",
    "data_giro = data_giro.reset_index()\n",
    "del data_giro['index']\n",
    "data_giro.head()"
   ]
  },
  {
   "cell_type": "code",
   "execution_count": 54,
   "metadata": {},
   "outputs": [
    {
     "data": {
      "text/html": [
       "<div>\n",
       "<style scoped>\n",
       "    .dataframe tbody tr th:only-of-type {\n",
       "        vertical-align: middle;\n",
       "    }\n",
       "\n",
       "    .dataframe tbody tr th {\n",
       "        vertical-align: top;\n",
       "    }\n",
       "\n",
       "    .dataframe thead th {\n",
       "        text-align: right;\n",
       "    }\n",
       "</style>\n",
       "<table border=\"1\" class=\"dataframe\">\n",
       "  <thead>\n",
       "    <tr style=\"text-align: right;\">\n",
       "      <th></th>\n",
       "      <th>codGiro</th>\n",
       "      <th>count</th>\n",
       "      <th>giro_popularity</th>\n",
       "    </tr>\n",
       "  </thead>\n",
       "  <tbody>\n",
       "    <tr>\n",
       "      <th>0</th>\n",
       "      <td>75</td>\n",
       "      <td>322667</td>\n",
       "      <td>0.202729</td>\n",
       "    </tr>\n",
       "    <tr>\n",
       "      <th>1</th>\n",
       "      <td>110</td>\n",
       "      <td>237279</td>\n",
       "      <td>0.149080</td>\n",
       "    </tr>\n",
       "    <tr>\n",
       "      <th>2</th>\n",
       "      <td>112</td>\n",
       "      <td>143592</td>\n",
       "      <td>0.090218</td>\n",
       "    </tr>\n",
       "    <tr>\n",
       "      <th>3</th>\n",
       "      <td>85</td>\n",
       "      <td>120829</td>\n",
       "      <td>0.075916</td>\n",
       "    </tr>\n",
       "    <tr>\n",
       "      <th>4</th>\n",
       "      <td>114</td>\n",
       "      <td>104896</td>\n",
       "      <td>0.065905</td>\n",
       "    </tr>\n",
       "  </tbody>\n",
       "</table>\n",
       "</div>"
      ],
      "text/plain": [
       "   codGiro   count  giro_popularity\n",
       "0       75  322667         0.202729\n",
       "1      110  237279         0.149080\n",
       "2      112  143592         0.090218\n",
       "3       85  120829         0.075916\n",
       "4      114  104896         0.065905"
      ]
     },
     "execution_count": 54,
     "metadata": {},
     "output_type": "execute_result"
    }
   ],
   "source": [
    "total_visit = sum(data_giro['count'])\n",
    "data_giro['giro_popularity'] = data_giro['count'].apply(lambda x: x/total_visit)\n",
    "data_giro.head()"
   ]
  },
  {
   "cell_type": "code",
   "execution_count": 55,
   "metadata": {},
   "outputs": [
    {
     "data": {
      "text/html": [
       "<div>\n",
       "<style scoped>\n",
       "    .dataframe tbody tr th:only-of-type {\n",
       "        vertical-align: middle;\n",
       "    }\n",
       "\n",
       "    .dataframe tbody tr th {\n",
       "        vertical-align: top;\n",
       "    }\n",
       "\n",
       "    .dataframe thead th {\n",
       "        text-align: right;\n",
       "    }\n",
       "</style>\n",
       "<table border=\"1\" class=\"dataframe\">\n",
       "  <thead>\n",
       "    <tr style=\"text-align: right;\">\n",
       "      <th></th>\n",
       "      <th>index</th>\n",
       "      <th>codGiro</th>\n",
       "      <th>codEstab</th>\n",
       "      <th>flagLimaProvEstab</th>\n",
       "      <th>ubigeoEstab</th>\n",
       "      <th>estab_popularity</th>\n",
       "      <th>giro_popularity</th>\n",
       "    </tr>\n",
       "  </thead>\n",
       "  <tbody>\n",
       "    <tr>\n",
       "      <th>0</th>\n",
       "      <td>398126</td>\n",
       "      <td>0</td>\n",
       "      <td>1</td>\n",
       "      <td>0</td>\n",
       "      <td>0</td>\n",
       "      <td>0.058234</td>\n",
       "      <td>0.058234</td>\n",
       "    </tr>\n",
       "    <tr>\n",
       "      <th>1</th>\n",
       "      <td>9507</td>\n",
       "      <td>0</td>\n",
       "      <td>2</td>\n",
       "      <td>0</td>\n",
       "      <td>0</td>\n",
       "      <td>0.058234</td>\n",
       "      <td>0.058234</td>\n",
       "    </tr>\n",
       "    <tr>\n",
       "      <th>2</th>\n",
       "      <td>1206320</td>\n",
       "      <td>0</td>\n",
       "      <td>14</td>\n",
       "      <td>0</td>\n",
       "      <td>0</td>\n",
       "      <td>0.058234</td>\n",
       "      <td>0.058234</td>\n",
       "    </tr>\n",
       "    <tr>\n",
       "      <th>3</th>\n",
       "      <td>43372</td>\n",
       "      <td>0</td>\n",
       "      <td>24</td>\n",
       "      <td>0</td>\n",
       "      <td>0</td>\n",
       "      <td>0.058234</td>\n",
       "      <td>0.058234</td>\n",
       "    </tr>\n",
       "    <tr>\n",
       "      <th>4</th>\n",
       "      <td>659498</td>\n",
       "      <td>0</td>\n",
       "      <td>25</td>\n",
       "      <td>0</td>\n",
       "      <td>0</td>\n",
       "      <td>0.058234</td>\n",
       "      <td>0.058234</td>\n",
       "    </tr>\n",
       "  </tbody>\n",
       "</table>\n",
       "</div>"
      ],
      "text/plain": [
       "     index  codGiro  codEstab  flagLimaProvEstab  ubigeoEstab  \\\n",
       "0   398126        0         1                  0            0   \n",
       "1     9507        0         2                  0            0   \n",
       "2  1206320        0        14                  0            0   \n",
       "3    43372        0        24                  0            0   \n",
       "4   659498        0        25                  0            0   \n",
       "\n",
       "   estab_popularity  giro_popularity  \n",
       "0          0.058234         0.058234  \n",
       "1          0.058234         0.058234  \n",
       "2          0.058234         0.058234  \n",
       "3          0.058234         0.058234  \n",
       "4          0.058234         0.058234  "
      ]
     },
     "execution_count": 55,
     "metadata": {},
     "output_type": "execute_result"
    }
   ],
   "source": [
    "data_estab = data_estab.merge(data_giro, on='codGiro')\n",
    "del data_giro\n",
    "del data_estab['count']\n",
    "data_estab.head()"
   ]
  },
  {
   "cell_type": "code",
   "execution_count": 58,
   "metadata": {},
   "outputs": [
    {
     "data": {
      "text/plain": [
       "(18857, 7)"
      ]
     },
     "execution_count": 58,
     "metadata": {},
     "output_type": "execute_result"
    }
   ],
   "source": [
    "data_estab[data_estab['estab_popularity'] == data_estab['giro_popularity']].shape"
   ]
  },
  {
   "cell_type": "code",
   "execution_count": 76,
   "metadata": {},
   "outputs": [
    {
     "data": {
      "text/html": [
       "<div>\n",
       "<style scoped>\n",
       "    .dataframe tbody tr th:only-of-type {\n",
       "        vertical-align: middle;\n",
       "    }\n",
       "\n",
       "    .dataframe tbody tr th {\n",
       "        vertical-align: top;\n",
       "    }\n",
       "\n",
       "    .dataframe thead th {\n",
       "        text-align: right;\n",
       "    }\n",
       "</style>\n",
       "<table border=\"1\" class=\"dataframe\">\n",
       "  <thead>\n",
       "    <tr style=\"text-align: right;\">\n",
       "      <th></th>\n",
       "      <th>ubigeoEstab</th>\n",
       "      <th>estab_rant</th>\n",
       "    </tr>\n",
       "  </thead>\n",
       "  <tbody>\n",
       "    <tr>\n",
       "      <th>0</th>\n",
       "      <td>0</td>\n",
       "      <td>0.018220</td>\n",
       "    </tr>\n",
       "    <tr>\n",
       "      <th>1</th>\n",
       "      <td>2</td>\n",
       "      <td>0.023166</td>\n",
       "    </tr>\n",
       "    <tr>\n",
       "      <th>2</th>\n",
       "      <td>3</td>\n",
       "      <td>0.021787</td>\n",
       "    </tr>\n",
       "    <tr>\n",
       "      <th>3</th>\n",
       "      <td>4</td>\n",
       "      <td>0.009799</td>\n",
       "    </tr>\n",
       "    <tr>\n",
       "      <th>4</th>\n",
       "      <td>5</td>\n",
       "      <td>0.011706</td>\n",
       "    </tr>\n",
       "  </tbody>\n",
       "</table>\n",
       "</div>"
      ],
      "text/plain": [
       "   ubigeoEstab  estab_rant\n",
       "0            0    0.018220\n",
       "1            2    0.023166\n",
       "2            3    0.021787\n",
       "3            4    0.009799\n",
       "4            5    0.011706"
      ]
     },
     "execution_count": 76,
     "metadata": {},
     "output_type": "execute_result"
    }
   ],
   "source": [
    "estab_rant =  data.groupby(by='ubigeoEstab')[['ubigeoEstab', 'ratingMonto']].mean()\n",
    "del estab_rant.index.name\n",
    "estab_rant['estab_rant'] = estab_rant['ratingMonto']\n",
    "del estab_rant['ratingMonto']\n",
    "estab_rant = estab_rant.reset_index()\n",
    "del estab_rant['index']\n",
    "estab_rant.head()"
   ]
  },
  {
   "cell_type": "code",
   "execution_count": 77,
   "metadata": {},
   "outputs": [
    {
     "data": {
      "text/html": [
       "<div>\n",
       "<style scoped>\n",
       "    .dataframe tbody tr th:only-of-type {\n",
       "        vertical-align: middle;\n",
       "    }\n",
       "\n",
       "    .dataframe tbody tr th {\n",
       "        vertical-align: top;\n",
       "    }\n",
       "\n",
       "    .dataframe thead th {\n",
       "        text-align: right;\n",
       "    }\n",
       "</style>\n",
       "<table border=\"1\" class=\"dataframe\">\n",
       "  <thead>\n",
       "    <tr style=\"text-align: right;\">\n",
       "      <th></th>\n",
       "      <th>index</th>\n",
       "      <th>codGiro</th>\n",
       "      <th>codEstab</th>\n",
       "      <th>flagLimaProvEstab</th>\n",
       "      <th>ubigeoEstab</th>\n",
       "      <th>estab_popularity</th>\n",
       "      <th>giro_popularity</th>\n",
       "      <th>estab_rant</th>\n",
       "    </tr>\n",
       "  </thead>\n",
       "  <tbody>\n",
       "    <tr>\n",
       "      <th>0</th>\n",
       "      <td>398126</td>\n",
       "      <td>0</td>\n",
       "      <td>1</td>\n",
       "      <td>0</td>\n",
       "      <td>0</td>\n",
       "      <td>0.058234</td>\n",
       "      <td>0.058234</td>\n",
       "      <td>0.01822</td>\n",
       "    </tr>\n",
       "    <tr>\n",
       "      <th>1</th>\n",
       "      <td>9507</td>\n",
       "      <td>0</td>\n",
       "      <td>2</td>\n",
       "      <td>0</td>\n",
       "      <td>0</td>\n",
       "      <td>0.058234</td>\n",
       "      <td>0.058234</td>\n",
       "      <td>0.01822</td>\n",
       "    </tr>\n",
       "    <tr>\n",
       "      <th>2</th>\n",
       "      <td>1206320</td>\n",
       "      <td>0</td>\n",
       "      <td>14</td>\n",
       "      <td>0</td>\n",
       "      <td>0</td>\n",
       "      <td>0.058234</td>\n",
       "      <td>0.058234</td>\n",
       "      <td>0.01822</td>\n",
       "    </tr>\n",
       "    <tr>\n",
       "      <th>3</th>\n",
       "      <td>43372</td>\n",
       "      <td>0</td>\n",
       "      <td>24</td>\n",
       "      <td>0</td>\n",
       "      <td>0</td>\n",
       "      <td>0.058234</td>\n",
       "      <td>0.058234</td>\n",
       "      <td>0.01822</td>\n",
       "    </tr>\n",
       "    <tr>\n",
       "      <th>4</th>\n",
       "      <td>659498</td>\n",
       "      <td>0</td>\n",
       "      <td>25</td>\n",
       "      <td>0</td>\n",
       "      <td>0</td>\n",
       "      <td>0.058234</td>\n",
       "      <td>0.058234</td>\n",
       "      <td>0.01822</td>\n",
       "    </tr>\n",
       "  </tbody>\n",
       "</table>\n",
       "</div>"
      ],
      "text/plain": [
       "     index  codGiro  codEstab  flagLimaProvEstab  ubigeoEstab  \\\n",
       "0   398126        0         1                  0            0   \n",
       "1     9507        0         2                  0            0   \n",
       "2  1206320        0        14                  0            0   \n",
       "3    43372        0        24                  0            0   \n",
       "4   659498        0        25                  0            0   \n",
       "\n",
       "   estab_popularity  giro_popularity  estab_rant  \n",
       "0          0.058234         0.058234     0.01822  \n",
       "1          0.058234         0.058234     0.01822  \n",
       "2          0.058234         0.058234     0.01822  \n",
       "3          0.058234         0.058234     0.01822  \n",
       "4          0.058234         0.058234     0.01822  "
      ]
     },
     "execution_count": 77,
     "metadata": {},
     "output_type": "execute_result"
    }
   ],
   "source": [
    "data_estab = data_estab.merge(estab_rant, on='ubigeoEstab')\n",
    "data_estab.head()"
   ]
  },
  {
   "cell_type": "code",
   "execution_count": 78,
   "metadata": {},
   "outputs": [
    {
     "data": {
      "text/html": [
       "<div>\n",
       "<style scoped>\n",
       "    .dataframe tbody tr th:only-of-type {\n",
       "        vertical-align: middle;\n",
       "    }\n",
       "\n",
       "    .dataframe tbody tr th {\n",
       "        vertical-align: top;\n",
       "    }\n",
       "\n",
       "    .dataframe thead th {\n",
       "        text-align: right;\n",
       "    }\n",
       "</style>\n",
       "<table border=\"1\" class=\"dataframe\">\n",
       "  <thead>\n",
       "    <tr style=\"text-align: right;\">\n",
       "      <th></th>\n",
       "      <th>codGiro</th>\n",
       "      <th>giro_rant</th>\n",
       "    </tr>\n",
       "  </thead>\n",
       "  <tbody>\n",
       "    <tr>\n",
       "      <th>0</th>\n",
       "      <td>0</td>\n",
       "      <td>0.018220</td>\n",
       "    </tr>\n",
       "    <tr>\n",
       "      <th>1</th>\n",
       "      <td>2</td>\n",
       "      <td>0.081935</td>\n",
       "    </tr>\n",
       "    <tr>\n",
       "      <th>2</th>\n",
       "      <td>3</td>\n",
       "      <td>0.029530</td>\n",
       "    </tr>\n",
       "    <tr>\n",
       "      <th>3</th>\n",
       "      <td>4</td>\n",
       "      <td>0.025223</td>\n",
       "    </tr>\n",
       "    <tr>\n",
       "      <th>4</th>\n",
       "      <td>5</td>\n",
       "      <td>0.000992</td>\n",
       "    </tr>\n",
       "  </tbody>\n",
       "</table>\n",
       "</div>"
      ],
      "text/plain": [
       "   codGiro  giro_rant\n",
       "0        0   0.018220\n",
       "1        2   0.081935\n",
       "2        3   0.029530\n",
       "3        4   0.025223\n",
       "4        5   0.000992"
      ]
     },
     "execution_count": 78,
     "metadata": {},
     "output_type": "execute_result"
    }
   ],
   "source": [
    "del estab_rant\n",
    "giro_rant =  data.groupby(by='codGiro')[['codGiro', 'ratingMonto']].mean()\n",
    "del giro_rant.index.name\n",
    "giro_rant['giro_rant'] = giro_rant['ratingMonto']\n",
    "del giro_rant['ratingMonto']\n",
    "giro_rant = giro_rant.reset_index()\n",
    "del giro_rant['index']\n",
    "giro_rant.head()"
   ]
  },
  {
   "cell_type": "code",
   "execution_count": 79,
   "metadata": {},
   "outputs": [
    {
     "data": {
      "text/html": [
       "<div>\n",
       "<style scoped>\n",
       "    .dataframe tbody tr th:only-of-type {\n",
       "        vertical-align: middle;\n",
       "    }\n",
       "\n",
       "    .dataframe tbody tr th {\n",
       "        vertical-align: top;\n",
       "    }\n",
       "\n",
       "    .dataframe thead th {\n",
       "        text-align: right;\n",
       "    }\n",
       "</style>\n",
       "<table border=\"1\" class=\"dataframe\">\n",
       "  <thead>\n",
       "    <tr style=\"text-align: right;\">\n",
       "      <th></th>\n",
       "      <th>index</th>\n",
       "      <th>codGiro</th>\n",
       "      <th>codEstab</th>\n",
       "      <th>flagLimaProvEstab</th>\n",
       "      <th>ubigeoEstab</th>\n",
       "      <th>estab_popularity</th>\n",
       "      <th>giro_popularity</th>\n",
       "      <th>estab_rant</th>\n",
       "      <th>giro_rant</th>\n",
       "    </tr>\n",
       "  </thead>\n",
       "  <tbody>\n",
       "    <tr>\n",
       "      <th>0</th>\n",
       "      <td>398126</td>\n",
       "      <td>0</td>\n",
       "      <td>1</td>\n",
       "      <td>0</td>\n",
       "      <td>0</td>\n",
       "      <td>0.058234</td>\n",
       "      <td>0.058234</td>\n",
       "      <td>0.01822</td>\n",
       "      <td>0.01822</td>\n",
       "    </tr>\n",
       "    <tr>\n",
       "      <th>1</th>\n",
       "      <td>9507</td>\n",
       "      <td>0</td>\n",
       "      <td>2</td>\n",
       "      <td>0</td>\n",
       "      <td>0</td>\n",
       "      <td>0.058234</td>\n",
       "      <td>0.058234</td>\n",
       "      <td>0.01822</td>\n",
       "      <td>0.01822</td>\n",
       "    </tr>\n",
       "    <tr>\n",
       "      <th>2</th>\n",
       "      <td>1206320</td>\n",
       "      <td>0</td>\n",
       "      <td>14</td>\n",
       "      <td>0</td>\n",
       "      <td>0</td>\n",
       "      <td>0.058234</td>\n",
       "      <td>0.058234</td>\n",
       "      <td>0.01822</td>\n",
       "      <td>0.01822</td>\n",
       "    </tr>\n",
       "    <tr>\n",
       "      <th>3</th>\n",
       "      <td>43372</td>\n",
       "      <td>0</td>\n",
       "      <td>24</td>\n",
       "      <td>0</td>\n",
       "      <td>0</td>\n",
       "      <td>0.058234</td>\n",
       "      <td>0.058234</td>\n",
       "      <td>0.01822</td>\n",
       "      <td>0.01822</td>\n",
       "    </tr>\n",
       "    <tr>\n",
       "      <th>4</th>\n",
       "      <td>659498</td>\n",
       "      <td>0</td>\n",
       "      <td>25</td>\n",
       "      <td>0</td>\n",
       "      <td>0</td>\n",
       "      <td>0.058234</td>\n",
       "      <td>0.058234</td>\n",
       "      <td>0.01822</td>\n",
       "      <td>0.01822</td>\n",
       "    </tr>\n",
       "  </tbody>\n",
       "</table>\n",
       "</div>"
      ],
      "text/plain": [
       "     index  codGiro  codEstab  flagLimaProvEstab  ubigeoEstab  \\\n",
       "0   398126        0         1                  0            0   \n",
       "1     9507        0         2                  0            0   \n",
       "2  1206320        0        14                  0            0   \n",
       "3    43372        0        24                  0            0   \n",
       "4   659498        0        25                  0            0   \n",
       "\n",
       "   estab_popularity  giro_popularity  estab_rant  giro_rant  \n",
       "0          0.058234         0.058234     0.01822    0.01822  \n",
       "1          0.058234         0.058234     0.01822    0.01822  \n",
       "2          0.058234         0.058234     0.01822    0.01822  \n",
       "3          0.058234         0.058234     0.01822    0.01822  \n",
       "4          0.058234         0.058234     0.01822    0.01822  "
      ]
     },
     "execution_count": 79,
     "metadata": {},
     "output_type": "execute_result"
    }
   ],
   "source": [
    "data_estab = data_estab.merge(giro_rant, on='codGiro')\n",
    "del giro_rant\n",
    "data_estab.head()"
   ]
  },
  {
   "cell_type": "code",
   "execution_count": 82,
   "metadata": {},
   "outputs": [
    {
     "data": {
      "image/png": "[encoded data removed]",
      "text/plain": [
       "<Figure size 2880x2880 with 2 Axes>"
      ]
     },
     "metadata": {},
     "output_type": "display_data"
    }
   ],
   "source": [
    "if 'index' in list(data_estab.columns):\n",
    "    del data_estab['index']\n",
    "\n",
    "del data_estab['codGiro']\n",
    "fig, ax = plt.subplots(figsize=(40, 40))\n",
    "graf = sns.heatmap(data_estab.corr('spearman'), annot=True, fmt=\".2f\", ax=ax)\n",
    "graf.xaxis.label.set_color('skyblue')\n",
    "graf.yaxis.label.set_color('skyblue')\n",
    "graf.tick_params(colors='skyblue')\n",
    "graf.figure.savefig(\"img/data_estab.png\")"
   ]
  },
  {
   "cell_type": "code",
   "execution_count": 86,
   "metadata": {},
   "outputs": [],
   "source": [
    "# Guardo la informacion del establecimiento\n",
    "data_estab.to_csv('data_estab.csv', index=False)"
   ]
  },
  {
   "cell_type": "markdown",
   "metadata": {},
   "source": [
    "## Trabajando mi data TRAIN"
   ]
  },
  {
   "cell_type": "code",
   "execution_count": 87,
   "metadata": {},
   "outputs": [
    {
     "data": {
      "text/html": [
       "<div>\n",
       "<style scoped>\n",
       "    .dataframe tbody tr th:only-of-type {\n",
       "        vertical-align: middle;\n",
       "    }\n",
       "\n",
       "    .dataframe tbody tr th {\n",
       "        vertical-align: top;\n",
       "    }\n",
       "\n",
       "    .dataframe thead th {\n",
       "        text-align: right;\n",
       "    }\n",
       "</style>\n",
       "<table border=\"1\" class=\"dataframe\">\n",
       "  <thead>\n",
       "    <tr style=\"text-align: right;\">\n",
       "      <th></th>\n",
       "      <th>codCliente</th>\n",
       "      <th>codEstab</th>\n",
       "      <th>ratingMonto</th>\n",
       "      <th>fechaOper</th>\n",
       "    </tr>\n",
       "  </thead>\n",
       "  <tbody>\n",
       "    <tr>\n",
       "      <th>0</th>\n",
       "      <td>7649</td>\n",
       "      <td>43629</td>\n",
       "      <td>0.014072</td>\n",
       "      <td>2017-01-29 00:00:00</td>\n",
       "    </tr>\n",
       "    <tr>\n",
       "      <th>1</th>\n",
       "      <td>24604</td>\n",
       "      <td>4326</td>\n",
       "      <td>0.001667</td>\n",
       "      <td>2016-12-01 00:00:00</td>\n",
       "    </tr>\n",
       "    <tr>\n",
       "      <th>2</th>\n",
       "      <td>15289</td>\n",
       "      <td>4326</td>\n",
       "      <td>0.000127</td>\n",
       "      <td>2017-06-01 00:00:00</td>\n",
       "    </tr>\n",
       "    <tr>\n",
       "      <th>3</th>\n",
       "      <td>5190</td>\n",
       "      <td>59776</td>\n",
       "      <td>0.001167</td>\n",
       "      <td>2017-09-22 00:00:00</td>\n",
       "    </tr>\n",
       "    <tr>\n",
       "      <th>4</th>\n",
       "      <td>16635</td>\n",
       "      <td>31043</td>\n",
       "      <td>0.047386</td>\n",
       "      <td>2017-05-05 00:00:00</td>\n",
       "    </tr>\n",
       "  </tbody>\n",
       "</table>\n",
       "</div>"
      ],
      "text/plain": [
       "   codCliente  codEstab  ratingMonto            fechaOper\n",
       "0        7649     43629     0.014072  2017-01-29 00:00:00\n",
       "1       24604      4326     0.001667  2016-12-01 00:00:00\n",
       "2       15289      4326     0.000127  2017-06-01 00:00:00\n",
       "3        5190     59776     0.001167  2017-09-22 00:00:00\n",
       "4       16635     31043     0.047386  2017-05-05 00:00:00"
      ]
     },
     "execution_count": 87,
     "metadata": {},
     "output_type": "execute_result"
    }
   ],
   "source": [
    "data_train = data[['codCliente','codEstab', 'ratingMonto', 'fechaOper']]\n",
    "data_train.head()"
   ]
  },
  {
   "cell_type": "markdown",
   "metadata": {},
   "source": [
    "## ANALIZANDO FECHA"
   ]
  },
  {
   "cell_type": "code",
   "execution_count": 88,
   "metadata": {
    "collapsed": false
   },
   "outputs": [
    {
     "name": "stderr",
     "output_type": "stream",
     "text": [
      "/home/villacorta/anaconda3/lib/python3.6/site-packages/ipykernel/__main__.py:2: SettingWithCopyWarning: \n",
      "A value is trying to be set on a copy of a slice from a DataFrame.\n",
      "Try using .loc[row_indexer,col_indexer] = value instead\n",
      "\n",
      "See the caveats in the documentation: http://pandas.pydata.org/pandas-docs/stable/indexing.html#indexing-view-versus-copy\n",
      "  from ipykernel import kernelapp as app\n"
     ]
    },
    {
     "data": {
      "text/html": [
       "<div>\n",
       "<style scoped>\n",
       "    .dataframe tbody tr th:only-of-type {\n",
       "        vertical-align: middle;\n",
       "    }\n",
       "\n",
       "    .dataframe tbody tr th {\n",
       "        vertical-align: top;\n",
       "    }\n",
       "\n",
       "    .dataframe thead th {\n",
       "        text-align: right;\n",
       "    }\n",
       "</style>\n",
       "<table border=\"1\" class=\"dataframe\">\n",
       "  <thead>\n",
       "    <tr style=\"text-align: right;\">\n",
       "      <th></th>\n",
       "      <th>codCliente</th>\n",
       "      <th>codEstab</th>\n",
       "      <th>ratingMonto</th>\n",
       "      <th>fechaOper</th>\n",
       "    </tr>\n",
       "  </thead>\n",
       "  <tbody>\n",
       "    <tr>\n",
       "      <th>0</th>\n",
       "      <td>7649</td>\n",
       "      <td>43629</td>\n",
       "      <td>0.014072</td>\n",
       "      <td>2017-01-29</td>\n",
       "    </tr>\n",
       "    <tr>\n",
       "      <th>1</th>\n",
       "      <td>24604</td>\n",
       "      <td>4326</td>\n",
       "      <td>0.001667</td>\n",
       "      <td>2016-12-01</td>\n",
       "    </tr>\n",
       "    <tr>\n",
       "      <th>2</th>\n",
       "      <td>15289</td>\n",
       "      <td>4326</td>\n",
       "      <td>0.000127</td>\n",
       "      <td>2017-06-01</td>\n",
       "    </tr>\n",
       "    <tr>\n",
       "      <th>3</th>\n",
       "      <td>5190</td>\n",
       "      <td>59776</td>\n",
       "      <td>0.001167</td>\n",
       "      <td>2017-09-22</td>\n",
       "    </tr>\n",
       "    <tr>\n",
       "      <th>4</th>\n",
       "      <td>16635</td>\n",
       "      <td>31043</td>\n",
       "      <td>0.047386</td>\n",
       "      <td>2017-05-05</td>\n",
       "    </tr>\n",
       "  </tbody>\n",
       "</table>\n",
       "</div>"
      ],
      "text/plain": [
       "   codCliente  codEstab  ratingMonto   fechaOper\n",
       "0        7649     43629     0.014072  2017-01-29\n",
       "1       24604      4326     0.001667  2016-12-01\n",
       "2       15289      4326     0.000127  2017-06-01\n",
       "3        5190     59776     0.001167  2017-09-22\n",
       "4       16635     31043     0.047386  2017-05-05"
      ]
     },
     "execution_count": 88,
     "metadata": {},
     "output_type": "execute_result"
    }
   ],
   "source": [
    "del data\n",
    "data_train['fechaOper'] = data_train['fechaOper'].astype(str).apply(lambda x: x.split()[0])\n",
    "data_train.head()"
   ]
  },
  {
   "cell_type": "code",
   "execution_count": 89,
   "metadata": {
    "collapsed": false
   },
   "outputs": [
    {
     "name": "stderr",
     "output_type": "stream",
     "text": [
      "/home/villacorta/STORAGE/codeando/machine_learning/_bbva data challeneger 2018/utils.py:59: SettingWithCopyWarning: \n",
      "A value is trying to be set on a copy of a slice from a DataFrame.\n",
      "Try using .loc[row_indexer,col_indexer] = value instead\n",
      "\n",
      "See the caveats in the documentation: http://pandas.pydata.org/pandas-docs/stable/indexing.html#indexing-view-versus-copy\n",
      "  data['date'] = pd.to_datetime(data[col], format=format_match)\n",
      "/home/villacorta/STORAGE/codeando/machine_learning/_bbva data challeneger 2018/utils.py:62: SettingWithCopyWarning: \n",
      "A value is trying to be set on a copy of a slice from a DataFrame.\n",
      "Try using .loc[row_indexer,col_indexer] = value instead\n",
      "\n",
      "See the caveats in the documentation: http://pandas.pydata.org/pandas-docs/stable/indexing.html#indexing-view-versus-copy\n",
      "  data['month'] = pd.to_numeric(data['date'].dt.strftime('%m'), errors='coerce')\n",
      "/home/villacorta/STORAGE/codeando/machine_learning/_bbva data challeneger 2018/utils.py:65: SettingWithCopyWarning: \n",
      "A value is trying to be set on a copy of a slice from a DataFrame.\n",
      "Try using .loc[row_indexer,col_indexer] = value instead\n",
      "\n",
      "See the caveats in the documentation: http://pandas.pydata.org/pandas-docs/stable/indexing.html#indexing-view-versus-copy\n",
      "  data['day'] = pd.to_numeric(data['date'].dt.strftime('%d'), errors='coerce')\n"
     ]
    },
    {
     "data": {
      "text/html": [
       "<div>\n",
       "<style scoped>\n",
       "    .dataframe tbody tr th:only-of-type {\n",
       "        vertical-align: middle;\n",
       "    }\n",
       "\n",
       "    .dataframe tbody tr th {\n",
       "        vertical-align: top;\n",
       "    }\n",
       "\n",
       "    .dataframe thead th {\n",
       "        text-align: right;\n",
       "    }\n",
       "</style>\n",
       "<table border=\"1\" class=\"dataframe\">\n",
       "  <thead>\n",
       "    <tr style=\"text-align: right;\">\n",
       "      <th></th>\n",
       "      <th>codCliente</th>\n",
       "      <th>codEstab</th>\n",
       "      <th>ratingMonto</th>\n",
       "      <th>fechaOper</th>\n",
       "      <th>date</th>\n",
       "      <th>month</th>\n",
       "      <th>day</th>\n",
       "      <th>year</th>\n",
       "      <th>weekday</th>\n",
       "    </tr>\n",
       "  </thead>\n",
       "  <tbody>\n",
       "    <tr>\n",
       "      <th>0</th>\n",
       "      <td>7649</td>\n",
       "      <td>43629</td>\n",
       "      <td>0.014072</td>\n",
       "      <td>2017-01-29</td>\n",
       "      <td>2017-01-29</td>\n",
       "      <td>1</td>\n",
       "      <td>29</td>\n",
       "      <td>2017</td>\n",
       "      <td>0</td>\n",
       "    </tr>\n",
       "    <tr>\n",
       "      <th>1</th>\n",
       "      <td>24604</td>\n",
       "      <td>4326</td>\n",
       "      <td>0.001667</td>\n",
       "      <td>2016-12-01</td>\n",
       "      <td>2016-12-01</td>\n",
       "      <td>12</td>\n",
       "      <td>1</td>\n",
       "      <td>2016</td>\n",
       "      <td>4</td>\n",
       "    </tr>\n",
       "    <tr>\n",
       "      <th>2</th>\n",
       "      <td>15289</td>\n",
       "      <td>4326</td>\n",
       "      <td>0.000127</td>\n",
       "      <td>2017-06-01</td>\n",
       "      <td>2017-06-01</td>\n",
       "      <td>6</td>\n",
       "      <td>1</td>\n",
       "      <td>2017</td>\n",
       "      <td>4</td>\n",
       "    </tr>\n",
       "    <tr>\n",
       "      <th>3</th>\n",
       "      <td>5190</td>\n",
       "      <td>59776</td>\n",
       "      <td>0.001167</td>\n",
       "      <td>2017-09-22</td>\n",
       "      <td>2017-09-22</td>\n",
       "      <td>9</td>\n",
       "      <td>22</td>\n",
       "      <td>2017</td>\n",
       "      <td>5</td>\n",
       "    </tr>\n",
       "    <tr>\n",
       "      <th>4</th>\n",
       "      <td>16635</td>\n",
       "      <td>31043</td>\n",
       "      <td>0.047386</td>\n",
       "      <td>2017-05-05</td>\n",
       "      <td>2017-05-05</td>\n",
       "      <td>5</td>\n",
       "      <td>5</td>\n",
       "      <td>2017</td>\n",
       "      <td>5</td>\n",
       "    </tr>\n",
       "    <tr>\n",
       "      <th>5</th>\n",
       "      <td>1578</td>\n",
       "      <td>41706</td>\n",
       "      <td>0.019062</td>\n",
       "      <td>2017-08-28</td>\n",
       "      <td>2017-08-28</td>\n",
       "      <td>8</td>\n",
       "      <td>28</td>\n",
       "      <td>2017</td>\n",
       "      <td>1</td>\n",
       "    </tr>\n",
       "    <tr>\n",
       "      <th>6</th>\n",
       "      <td>18185</td>\n",
       "      <td>24590</td>\n",
       "      <td>0.001747</td>\n",
       "      <td>2017-07-19</td>\n",
       "      <td>2017-07-19</td>\n",
       "      <td>7</td>\n",
       "      <td>19</td>\n",
       "      <td>2017</td>\n",
       "      <td>3</td>\n",
       "    </tr>\n",
       "    <tr>\n",
       "      <th>7</th>\n",
       "      <td>10836</td>\n",
       "      <td>230</td>\n",
       "      <td>0.008692</td>\n",
       "      <td>2016-12-01</td>\n",
       "      <td>2016-12-01</td>\n",
       "      <td>12</td>\n",
       "      <td>1</td>\n",
       "      <td>2016</td>\n",
       "      <td>4</td>\n",
       "    </tr>\n",
       "    <tr>\n",
       "      <th>8</th>\n",
       "      <td>11467</td>\n",
       "      <td>5561</td>\n",
       "      <td>0.011116</td>\n",
       "      <td>2017-07-20</td>\n",
       "      <td>2017-07-20</td>\n",
       "      <td>7</td>\n",
       "      <td>20</td>\n",
       "      <td>2017</td>\n",
       "      <td>4</td>\n",
       "    </tr>\n",
       "    <tr>\n",
       "      <th>9</th>\n",
       "      <td>9763</td>\n",
       "      <td>826</td>\n",
       "      <td>0.032054</td>\n",
       "      <td>2017-08-24</td>\n",
       "      <td>2017-08-24</td>\n",
       "      <td>8</td>\n",
       "      <td>24</td>\n",
       "      <td>2017</td>\n",
       "      <td>4</td>\n",
       "    </tr>\n",
       "  </tbody>\n",
       "</table>\n",
       "</div>"
      ],
      "text/plain": [
       "   codCliente  codEstab  ratingMonto   fechaOper       date  month  day  year  \\\n",
       "0        7649     43629     0.014072  2017-01-29 2017-01-29      1   29  2017   \n",
       "1       24604      4326     0.001667  2016-12-01 2016-12-01     12    1  2016   \n",
       "2       15289      4326     0.000127  2017-06-01 2017-06-01      6    1  2017   \n",
       "3        5190     59776     0.001167  2017-09-22 2017-09-22      9   22  2017   \n",
       "4       16635     31043     0.047386  2017-05-05 2017-05-05      5    5  2017   \n",
       "5        1578     41706     0.019062  2017-08-28 2017-08-28      8   28  2017   \n",
       "6       18185     24590     0.001747  2017-07-19 2017-07-19      7   19  2017   \n",
       "7       10836       230     0.008692  2016-12-01 2016-12-01     12    1  2016   \n",
       "8       11467      5561     0.011116  2017-07-20 2017-07-20      7   20  2017   \n",
       "9        9763       826     0.032054  2017-08-24 2017-08-24      8   24  2017   \n",
       "\n",
       "   weekday  \n",
       "0        0  \n",
       "1        4  \n",
       "2        4  \n",
       "3        5  \n",
       "4        5  \n",
       "5        1  \n",
       "6        3  \n",
       "7        4  \n",
       "8        4  \n",
       "9        4  "
      ]
     },
     "execution_count": 89,
     "metadata": {},
     "output_type": "execute_result"
    }
   ],
   "source": [
    "add_col_dates(data_train, 'fechaOper', format_match=\"%Y-%m-%d\", month_day=False)"
   ]
  },
  {
   "cell_type": "code",
   "execution_count": 91,
   "metadata": {
    "collapsed": true
   },
   "outputs": [
    {
     "data": {
      "text/html": [
       "<div>\n",
       "<style scoped>\n",
       "    .dataframe tbody tr th:only-of-type {\n",
       "        vertical-align: middle;\n",
       "    }\n",
       "\n",
       "    .dataframe tbody tr th {\n",
       "        vertical-align: top;\n",
       "    }\n",
       "\n",
       "    .dataframe thead th {\n",
       "        text-align: right;\n",
       "    }\n",
       "</style>\n",
       "<table border=\"1\" class=\"dataframe\">\n",
       "  <thead>\n",
       "    <tr style=\"text-align: right;\">\n",
       "      <th></th>\n",
       "      <th>codCliente</th>\n",
       "      <th>codEstab</th>\n",
       "      <th>ratingMonto</th>\n",
       "      <th>month</th>\n",
       "      <th>day</th>\n",
       "      <th>year</th>\n",
       "      <th>weekday</th>\n",
       "    </tr>\n",
       "  </thead>\n",
       "  <tbody>\n",
       "    <tr>\n",
       "      <th>0</th>\n",
       "      <td>7649</td>\n",
       "      <td>43629</td>\n",
       "      <td>0.014072</td>\n",
       "      <td>1</td>\n",
       "      <td>29</td>\n",
       "      <td>2017</td>\n",
       "      <td>0</td>\n",
       "    </tr>\n",
       "    <tr>\n",
       "      <th>1</th>\n",
       "      <td>24604</td>\n",
       "      <td>4326</td>\n",
       "      <td>0.001667</td>\n",
       "      <td>12</td>\n",
       "      <td>1</td>\n",
       "      <td>2016</td>\n",
       "      <td>4</td>\n",
       "    </tr>\n",
       "    <tr>\n",
       "      <th>2</th>\n",
       "      <td>15289</td>\n",
       "      <td>4326</td>\n",
       "      <td>0.000127</td>\n",
       "      <td>6</td>\n",
       "      <td>1</td>\n",
       "      <td>2017</td>\n",
       "      <td>4</td>\n",
       "    </tr>\n",
       "    <tr>\n",
       "      <th>3</th>\n",
       "      <td>5190</td>\n",
       "      <td>59776</td>\n",
       "      <td>0.001167</td>\n",
       "      <td>9</td>\n",
       "      <td>22</td>\n",
       "      <td>2017</td>\n",
       "      <td>5</td>\n",
       "    </tr>\n",
       "    <tr>\n",
       "      <th>4</th>\n",
       "      <td>16635</td>\n",
       "      <td>31043</td>\n",
       "      <td>0.047386</td>\n",
       "      <td>5</td>\n",
       "      <td>5</td>\n",
       "      <td>2017</td>\n",
       "      <td>5</td>\n",
       "    </tr>\n",
       "  </tbody>\n",
       "</table>\n",
       "</div>"
      ],
      "text/plain": [
       "   codCliente  codEstab  ratingMonto  month  day  year  weekday\n",
       "0        7649     43629     0.014072      1   29  2017        0\n",
       "1       24604      4326     0.001667     12    1  2016        4\n",
       "2       15289      4326     0.000127      6    1  2017        4\n",
       "3        5190     59776     0.001167      9   22  2017        5\n",
       "4       16635     31043     0.047386      5    5  2017        5"
      ]
     },
     "execution_count": 91,
     "metadata": {},
     "output_type": "execute_result"
    }
   ],
   "source": [
    "del data_train['date']\n",
    "del data_train['fechaOper']\n",
    "data_train.head()"
   ]
  },
  {
   "cell_type": "code",
   "execution_count": 92,
   "metadata": {},
   "outputs": [
    {
     "data": {
      "image/png": "[encoded data removed]",
      "text/plain": [
       "<Figure size 2880x2880 with 2 Axes>"
      ]
     },
     "metadata": {},
     "output_type": "display_data"
    }
   ],
   "source": [
    "fig, ax = plt.subplots(figsize=(40, 40))\n",
    "graf = sns.heatmap(data_train.corr('spearman'), annot=True, fmt=\".2f\", ax=ax)\n",
    "graf.xaxis.label.set_color('skyblue')\n",
    "graf.yaxis.label.set_color('skyblue')\n",
    "graf.tick_params(colors='skyblue')\n",
    "graf.figure.savefig(\"img/corr_train.png\")"
   ]
  },
  {
   "cell_type": "code",
   "execution_count": 94,
   "metadata": {},
   "outputs": [
    {
     "data": {
      "text/plain": [
       "Index(['codCliente', 'codEstab', 'ratingMonto', 'month', 'day', 'year',\n",
       "       'weekday'],\n",
       "      dtype='object')"
      ]
     },
     "execution_count": 94,
     "metadata": {},
     "output_type": "execute_result"
    }
   ],
   "source": [
    "data_train.columns"
   ]
  },
  {
   "cell_type": "code",
   "execution_count": 95,
   "metadata": {},
   "outputs": [
    {
     "data": {
      "text/plain": [
       "<seaborn.axisgrid.JointGrid at 0x7ff6a591f860>"
      ]
     },
     "execution_count": 95,
     "metadata": {},
     "output_type": "execute_result"
    },
    {
     "data": {
      "image/png": "[encoded data removed]",
      "text/plain": [
       "<Figure size 432x432 with 3 Axes>"
      ]
     },
     "metadata": {},
     "output_type": "display_data"
    }
   ],
   "source": [
    " sns.jointplot(\"month\", \"ratingMonto\", data=data_train, kind=\"kde\", space=0, color=\"g\")"
   ]
  },
  {
   "cell_type": "code",
   "execution_count": 30,
   "metadata": {},
   "outputs": [
    {
     "name": "stdout",
     "output_type": "stream",
     "text": [
      "month    0.007585\n",
      "dtype: float64\n"
     ]
    },
    {
     "data": {
      "image/png": "[encoded data removed]",
      "text/plain": [
       "<Figure size 1080x720 with 4 Axes>"
      ]
     },
     "metadata": {},
     "output_type": "display_data"
    }
   ],
   "source": [
    "graphs_analysis(data_train, 'month', 'codEstab', color_label='skyblue', dropna=False)"
   ]
  },
  {
   "cell_type": "code",
   "execution_count": 31,
   "metadata": {
    "collapsed": false
   },
   "outputs": [
    {
     "name": "stdout",
     "output_type": "stream",
     "text": [
      "weekday    0.021601\n",
      "dtype: float64\n"
     ]
    },
    {
     "data": {
      "image/png": "[encoded data removed]",
      "text/plain": [
       "<Figure size 1080x720 with 4 Axes>"
      ]
     },
     "metadata": {},
     "output_type": "display_data"
    }
   ],
   "source": [
    "graphs_analysis(data_train, 'weekday','codEstab', color_label='skyblue', dropna=False)"
   ]
  },
  {
   "cell_type": "code",
   "execution_count": 19,
   "metadata": {
    "collapsed": false
   },
   "outputs": [
    {
     "name": "stdout",
     "output_type": "stream",
     "text": [
      "weekday    0.006612\n",
      "dtype: float64\n"
     ]
    },
    {
     "data": {
      "image/png": "[encoded data removed]",
      "text/plain": [
       "<Figure size 1080x720 with 4 Axes>"
      ]
     },
     "metadata": {},
     "output_type": "display_data"
    }
   ],
   "source": [
    "graphs_analysis(data_train, 'weekday', 'ratingMonto', color_label='skyblue', dropna=False)"
   ]
  },
  {
   "cell_type": "code",
   "execution_count": 130,
   "metadata": {
    "collapsed": false
   },
   "outputs": [
    {
     "data": {
      "text/html": [
       "<div>\n",
       "<style scoped>\n",
       "    .dataframe tbody tr th:only-of-type {\n",
       "        vertical-align: middle;\n",
       "    }\n",
       "\n",
       "    .dataframe tbody tr th {\n",
       "        vertical-align: top;\n",
       "    }\n",
       "\n",
       "    .dataframe thead th {\n",
       "        text-align: right;\n",
       "    }\n",
       "</style>\n",
       "<table border=\"1\" class=\"dataframe\">\n",
       "  <thead>\n",
       "    <tr style=\"text-align: right;\">\n",
       "      <th></th>\n",
       "      <th>month</th>\n",
       "    </tr>\n",
       "    <tr>\n",
       "      <th>codEstab</th>\n",
       "      <th></th>\n",
       "    </tr>\n",
       "  </thead>\n",
       "  <tbody>\n",
       "    <tr>\n",
       "      <th>1</th>\n",
       "      <td>9</td>\n",
       "    </tr>\n",
       "    <tr>\n",
       "      <th>2</th>\n",
       "      <td>3</td>\n",
       "    </tr>\n",
       "    <tr>\n",
       "      <th>3</th>\n",
       "      <td>[11, 12]</td>\n",
       "    </tr>\n",
       "    <tr>\n",
       "      <th>4</th>\n",
       "      <td>11</td>\n",
       "    </tr>\n",
       "    <tr>\n",
       "      <th>5</th>\n",
       "      <td>12</td>\n",
       "    </tr>\n",
       "  </tbody>\n",
       "</table>\n",
       "</div>"
      ],
      "text/plain": [
       "             month\n",
       "codEstab          \n",
       "1                9\n",
       "2                3\n",
       "3         [11, 12]\n",
       "4               11\n",
       "5               12"
      ]
     },
     "execution_count": 130,
     "metadata": {},
     "output_type": "execute_result"
    }
   ],
   "source": [
    "#data['month'].value_counts(dropna=False)\n",
    "estab_month = pd.DataFrame(data_train.groupby(by=['codEstab'])['month'].agg(pd.Series.mode))\n",
    "estab_month.head()"
   ]
  },
  {
   "cell_type": "code",
   "execution_count": 139,
   "metadata": {},
   "outputs": [],
   "source": [
    "def clean_mode(x):\n",
    "    if str(x).isdigit():\n",
    "        return int(x)\n",
    "    else:\n",
    "        list_mode = list((x))\n",
    "        if 7 in list_mode:\n",
    "            return 7\n",
    "        elif 12 in list_mode:\n",
    "            return 12\n",
    "        return max(list_mode)\n",
    "\n",
    "estab_month['month'] = estab_month['month'].apply(clean_mode)"
   ]
  },
  {
   "cell_type": "code",
   "execution_count": 142,
   "metadata": {},
   "outputs": [
    {
     "data": {
      "text/html": [
       "<div>\n",
       "<style scoped>\n",
       "    .dataframe tbody tr th:only-of-type {\n",
       "        vertical-align: middle;\n",
       "    }\n",
       "\n",
       "    .dataframe tbody tr th {\n",
       "        vertical-align: top;\n",
       "    }\n",
       "\n",
       "    .dataframe thead th {\n",
       "        text-align: right;\n",
       "    }\n",
       "</style>\n",
       "<table border=\"1\" class=\"dataframe\">\n",
       "  <thead>\n",
       "    <tr style=\"text-align: right;\">\n",
       "      <th></th>\n",
       "      <th>codEstab</th>\n",
       "      <th>bes_motnth</th>\n",
       "    </tr>\n",
       "  </thead>\n",
       "  <tbody>\n",
       "    <tr>\n",
       "      <th>1</th>\n",
       "      <td>1</td>\n",
       "      <td>9</td>\n",
       "    </tr>\n",
       "    <tr>\n",
       "      <th>2</th>\n",
       "      <td>2</td>\n",
       "      <td>3</td>\n",
       "    </tr>\n",
       "    <tr>\n",
       "      <th>3</th>\n",
       "      <td>3</td>\n",
       "      <td>12</td>\n",
       "    </tr>\n",
       "    <tr>\n",
       "      <th>4</th>\n",
       "      <td>4</td>\n",
       "      <td>11</td>\n",
       "    </tr>\n",
       "    <tr>\n",
       "      <th>5</th>\n",
       "      <td>5</td>\n",
       "      <td>12</td>\n",
       "    </tr>\n",
       "    <tr>\n",
       "      <th>6</th>\n",
       "      <td>6</td>\n",
       "      <td>3</td>\n",
       "    </tr>\n",
       "    <tr>\n",
       "      <th>7</th>\n",
       "      <td>7</td>\n",
       "      <td>7</td>\n",
       "    </tr>\n",
       "    <tr>\n",
       "      <th>8</th>\n",
       "      <td>8</td>\n",
       "      <td>2</td>\n",
       "    </tr>\n",
       "    <tr>\n",
       "      <th>9</th>\n",
       "      <td>9</td>\n",
       "      <td>9</td>\n",
       "    </tr>\n",
       "    <tr>\n",
       "      <th>10</th>\n",
       "      <td>10</td>\n",
       "      <td>12</td>\n",
       "    </tr>\n",
       "  </tbody>\n",
       "</table>\n",
       "</div>"
      ],
      "text/plain": [
       "    codEstab  bes_motnth\n",
       "1          1           9\n",
       "2          2           3\n",
       "3          3          12\n",
       "4          4          11\n",
       "5          5          12\n",
       "6          6           3\n",
       "7          7           7\n",
       "8          8           2\n",
       "9          9           9\n",
       "10        10          12"
      ]
     },
     "execution_count": 142,
     "metadata": {},
     "output_type": "execute_result"
    }
   ],
   "source": [
    "del estab_month.index.name\n",
    "estab_month['codEstab'] = estab_month.index\n",
    "estab_month['bes_motnth'] = estab_month['month']\n",
    "del estab_month['month']\n",
    "estab_month.head(10)"
   ]
  },
  {
   "cell_type": "code",
   "execution_count": 145,
   "metadata": {},
   "outputs": [
    {
     "data": {
      "text/html": [
       "<div>\n",
       "<style scoped>\n",
       "    .dataframe tbody tr th:only-of-type {\n",
       "        vertical-align: middle;\n",
       "    }\n",
       "\n",
       "    .dataframe tbody tr th {\n",
       "        vertical-align: top;\n",
       "    }\n",
       "\n",
       "    .dataframe thead th {\n",
       "        text-align: right;\n",
       "    }\n",
       "</style>\n",
       "<table border=\"1\" class=\"dataframe\">\n",
       "  <thead>\n",
       "    <tr style=\"text-align: right;\">\n",
       "      <th></th>\n",
       "      <th>codEstab</th>\n",
       "      <th>flagLimaProvEstab</th>\n",
       "      <th>ubigeoEstab</th>\n",
       "      <th>estab_popularity</th>\n",
       "      <th>giro_popularity</th>\n",
       "      <th>estab_rant</th>\n",
       "      <th>giro_rant</th>\n",
       "      <th>bes_motnth</th>\n",
       "    </tr>\n",
       "  </thead>\n",
       "  <tbody>\n",
       "    <tr>\n",
       "      <th>0</th>\n",
       "      <td>1</td>\n",
       "      <td>0</td>\n",
       "      <td>0</td>\n",
       "      <td>0.058234</td>\n",
       "      <td>0.058234</td>\n",
       "      <td>0.01822</td>\n",
       "      <td>0.01822</td>\n",
       "      <td>9</td>\n",
       "    </tr>\n",
       "    <tr>\n",
       "      <th>1</th>\n",
       "      <td>2</td>\n",
       "      <td>0</td>\n",
       "      <td>0</td>\n",
       "      <td>0.058234</td>\n",
       "      <td>0.058234</td>\n",
       "      <td>0.01822</td>\n",
       "      <td>0.01822</td>\n",
       "      <td>3</td>\n",
       "    </tr>\n",
       "    <tr>\n",
       "      <th>2</th>\n",
       "      <td>14</td>\n",
       "      <td>0</td>\n",
       "      <td>0</td>\n",
       "      <td>0.058234</td>\n",
       "      <td>0.058234</td>\n",
       "      <td>0.01822</td>\n",
       "      <td>0.01822</td>\n",
       "      <td>7</td>\n",
       "    </tr>\n",
       "    <tr>\n",
       "      <th>3</th>\n",
       "      <td>24</td>\n",
       "      <td>0</td>\n",
       "      <td>0</td>\n",
       "      <td>0.058234</td>\n",
       "      <td>0.058234</td>\n",
       "      <td>0.01822</td>\n",
       "      <td>0.01822</td>\n",
       "      <td>7</td>\n",
       "    </tr>\n",
       "    <tr>\n",
       "      <th>4</th>\n",
       "      <td>25</td>\n",
       "      <td>0</td>\n",
       "      <td>0</td>\n",
       "      <td>0.058234</td>\n",
       "      <td>0.058234</td>\n",
       "      <td>0.01822</td>\n",
       "      <td>0.01822</td>\n",
       "      <td>3</td>\n",
       "    </tr>\n",
       "  </tbody>\n",
       "</table>\n",
       "</div>"
      ],
      "text/plain": [
       "   codEstab  flagLimaProvEstab  ubigeoEstab  estab_popularity  \\\n",
       "0         1                  0            0          0.058234   \n",
       "1         2                  0            0          0.058234   \n",
       "2        14                  0            0          0.058234   \n",
       "3        24                  0            0          0.058234   \n",
       "4        25                  0            0          0.058234   \n",
       "\n",
       "   giro_popularity  estab_rant  giro_rant  bes_motnth  \n",
       "0         0.058234     0.01822    0.01822           9  \n",
       "1         0.058234     0.01822    0.01822           3  \n",
       "2         0.058234     0.01822    0.01822           7  \n",
       "3         0.058234     0.01822    0.01822           7  \n",
       "4         0.058234     0.01822    0.01822           3  "
      ]
     },
     "execution_count": 145,
     "metadata": {},
     "output_type": "execute_result"
    }
   ],
   "source": [
    "data_estab = data_estab.merge(estab_month, on='codEstab')\n",
    "data_estab.head()"
   ]
  },
  {
   "cell_type": "code",
   "execution_count": 155,
   "metadata": {},
   "outputs": [],
   "source": [
    "data_estab['bes_motnth'] = data_estab['bes_motnth'].astype(str)"
   ]
  },
  {
   "cell_type": "code",
   "execution_count": 156,
   "metadata": {},
   "outputs": [
    {
     "data": {
      "text/plain": [
       "codEstab               int64\n",
       "flagLimaProvEstab      int64\n",
       "ubigeoEstab            int64\n",
       "estab_popularity     float64\n",
       "giro_popularity      float64\n",
       "estab_rant           float64\n",
       "giro_rant            float64\n",
       "bes_motnth            object\n",
       "dtype: object"
      ]
     },
     "execution_count": 156,
     "metadata": {},
     "output_type": "execute_result"
    }
   ],
   "source": [
    "data_estab.dtypes"
   ]
  },
  {
   "cell_type": "code",
   "execution_count": 157,
   "metadata": {},
   "outputs": [
    {
     "data": {
      "text/html": [
       "<div>\n",
       "<style scoped>\n",
       "    .dataframe tbody tr th:only-of-type {\n",
       "        vertical-align: middle;\n",
       "    }\n",
       "\n",
       "    .dataframe tbody tr th {\n",
       "        vertical-align: top;\n",
       "    }\n",
       "\n",
       "    .dataframe thead th {\n",
       "        text-align: right;\n",
       "    }\n",
       "</style>\n",
       "<table border=\"1\" class=\"dataframe\">\n",
       "  <thead>\n",
       "    <tr style=\"text-align: right;\">\n",
       "      <th></th>\n",
       "      <th>codEstab</th>\n",
       "      <th>flagLimaProvEstab</th>\n",
       "      <th>ubigeoEstab</th>\n",
       "      <th>estab_popularity</th>\n",
       "      <th>giro_popularity</th>\n",
       "      <th>estab_rant</th>\n",
       "      <th>giro_rant</th>\n",
       "      <th>bes_motnth_1</th>\n",
       "      <th>bes_motnth_10</th>\n",
       "      <th>bes_motnth_11</th>\n",
       "      <th>bes_motnth_12</th>\n",
       "      <th>bes_motnth_2</th>\n",
       "      <th>bes_motnth_3</th>\n",
       "      <th>bes_motnth_4</th>\n",
       "      <th>bes_motnth_5</th>\n",
       "      <th>bes_motnth_6</th>\n",
       "      <th>bes_motnth_7</th>\n",
       "      <th>bes_motnth_8</th>\n",
       "      <th>bes_motnth_9</th>\n",
       "    </tr>\n",
       "  </thead>\n",
       "  <tbody>\n",
       "    <tr>\n",
       "      <th>0</th>\n",
       "      <td>1</td>\n",
       "      <td>0</td>\n",
       "      <td>0</td>\n",
       "      <td>0.058234</td>\n",
       "      <td>0.058234</td>\n",
       "      <td>0.01822</td>\n",
       "      <td>0.01822</td>\n",
       "      <td>0</td>\n",
       "      <td>0</td>\n",
       "      <td>0</td>\n",
       "      <td>0</td>\n",
       "      <td>0</td>\n",
       "      <td>0</td>\n",
       "      <td>0</td>\n",
       "      <td>0</td>\n",
       "      <td>0</td>\n",
       "      <td>0</td>\n",
       "      <td>0</td>\n",
       "      <td>1</td>\n",
       "    </tr>\n",
       "    <tr>\n",
       "      <th>1</th>\n",
       "      <td>2</td>\n",
       "      <td>0</td>\n",
       "      <td>0</td>\n",
       "      <td>0.058234</td>\n",
       "      <td>0.058234</td>\n",
       "      <td>0.01822</td>\n",
       "      <td>0.01822</td>\n",
       "      <td>0</td>\n",
       "      <td>0</td>\n",
       "      <td>0</td>\n",
       "      <td>0</td>\n",
       "      <td>0</td>\n",
       "      <td>1</td>\n",
       "      <td>0</td>\n",
       "      <td>0</td>\n",
       "      <td>0</td>\n",
       "      <td>0</td>\n",
       "      <td>0</td>\n",
       "      <td>0</td>\n",
       "    </tr>\n",
       "    <tr>\n",
       "      <th>2</th>\n",
       "      <td>14</td>\n",
       "      <td>0</td>\n",
       "      <td>0</td>\n",
       "      <td>0.058234</td>\n",
       "      <td>0.058234</td>\n",
       "      <td>0.01822</td>\n",
       "      <td>0.01822</td>\n",
       "      <td>0</td>\n",
       "      <td>0</td>\n",
       "      <td>0</td>\n",
       "      <td>0</td>\n",
       "      <td>0</td>\n",
       "      <td>0</td>\n",
       "      <td>0</td>\n",
       "      <td>0</td>\n",
       "      <td>0</td>\n",
       "      <td>1</td>\n",
       "      <td>0</td>\n",
       "      <td>0</td>\n",
       "    </tr>\n",
       "    <tr>\n",
       "      <th>3</th>\n",
       "      <td>24</td>\n",
       "      <td>0</td>\n",
       "      <td>0</td>\n",
       "      <td>0.058234</td>\n",
       "      <td>0.058234</td>\n",
       "      <td>0.01822</td>\n",
       "      <td>0.01822</td>\n",
       "      <td>0</td>\n",
       "      <td>0</td>\n",
       "      <td>0</td>\n",
       "      <td>0</td>\n",
       "      <td>0</td>\n",
       "      <td>0</td>\n",
       "      <td>0</td>\n",
       "      <td>0</td>\n",
       "      <td>0</td>\n",
       "      <td>1</td>\n",
       "      <td>0</td>\n",
       "      <td>0</td>\n",
       "    </tr>\n",
       "    <tr>\n",
       "      <th>4</th>\n",
       "      <td>25</td>\n",
       "      <td>0</td>\n",
       "      <td>0</td>\n",
       "      <td>0.058234</td>\n",
       "      <td>0.058234</td>\n",
       "      <td>0.01822</td>\n",
       "      <td>0.01822</td>\n",
       "      <td>0</td>\n",
       "      <td>0</td>\n",
       "      <td>0</td>\n",
       "      <td>0</td>\n",
       "      <td>0</td>\n",
       "      <td>1</td>\n",
       "      <td>0</td>\n",
       "      <td>0</td>\n",
       "      <td>0</td>\n",
       "      <td>0</td>\n",
       "      <td>0</td>\n",
       "      <td>0</td>\n",
       "    </tr>\n",
       "  </tbody>\n",
       "</table>\n",
       "</div>"
      ],
      "text/plain": [
       "   codEstab  flagLimaProvEstab  ubigeoEstab  estab_popularity  \\\n",
       "0         1                  0            0          0.058234   \n",
       "1         2                  0            0          0.058234   \n",
       "2        14                  0            0          0.058234   \n",
       "3        24                  0            0          0.058234   \n",
       "4        25                  0            0          0.058234   \n",
       "\n",
       "   giro_popularity  estab_rant  giro_rant  bes_motnth_1  bes_motnth_10  \\\n",
       "0         0.058234     0.01822    0.01822             0              0   \n",
       "1         0.058234     0.01822    0.01822             0              0   \n",
       "2         0.058234     0.01822    0.01822             0              0   \n",
       "3         0.058234     0.01822    0.01822             0              0   \n",
       "4         0.058234     0.01822    0.01822             0              0   \n",
       "\n",
       "   bes_motnth_11  bes_motnth_12  bes_motnth_2  bes_motnth_3  bes_motnth_4  \\\n",
       "0              0              0             0             0             0   \n",
       "1              0              0             0             1             0   \n",
       "2              0              0             0             0             0   \n",
       "3              0              0             0             0             0   \n",
       "4              0              0             0             1             0   \n",
       "\n",
       "   bes_motnth_5  bes_motnth_6  bes_motnth_7  bes_motnth_8  bes_motnth_9  \n",
       "0             0             0             0             0             1  \n",
       "1             0             0             0             0             0  \n",
       "2             0             0             1             0             0  \n",
       "3             0             0             1             0             0  \n",
       "4             0             0             0             0             0  "
      ]
     },
     "execution_count": 157,
     "metadata": {},
     "output_type": "execute_result"
    }
   ],
   "source": [
    "data_estab = pd.get_dummies(data_estab)\n",
    "data_estab.head()"
   ]
  },
  {
   "cell_type": "code",
   "execution_count": 158,
   "metadata": {
    "collapsed": false
   },
   "outputs": [
    {
     "name": "stdout",
     "output_type": "stream",
     "text": [
      "Tamaño de uso actual :  5.388034820556641 MB\n",
      "-> Int 64 Detected\n",
      "     codEstab\n",
      "     flagLimaProvEstab\n",
      "     ubigeoEstab\n",
      "-> Float 64 Detected\n",
      "     estab_popularity\n",
      "     giro_popularity\n",
      "     estab_rant\n",
      "     giro_rant\n",
      "Tamaño de uso final :  4.182816505432129 MB\n"
     ]
    },
    {
     "data": {
      "text/plain": [
       "codEstab               int32\n",
       "flagLimaProvEstab       int8\n",
       "ubigeoEstab            int16\n",
       "estab_popularity     float64\n",
       "giro_popularity      float64\n",
       "estab_rant           float64\n",
       "giro_rant            float64\n",
       "bes_motnth_1           uint8\n",
       "bes_motnth_10          uint8\n",
       "bes_motnth_11          uint8\n",
       "bes_motnth_12          uint8\n",
       "bes_motnth_2           uint8\n",
       "bes_motnth_3           uint8\n",
       "bes_motnth_4           uint8\n",
       "bes_motnth_5           uint8\n",
       "bes_motnth_6           uint8\n",
       "bes_motnth_7           uint8\n",
       "bes_motnth_8           uint8\n",
       "bes_motnth_9           uint8\n",
       "dtype: object"
      ]
     },
     "execution_count": 158,
     "metadata": {},
     "output_type": "execute_result"
    }
   ],
   "source": [
    "from utils import *\n",
    "data_estab = reduce_size_data(data_estab, category=False, default='integer')\n",
    "data_estab.dtypes"
   ]
  },
  {
   "cell_type": "code",
   "execution_count": 203,
   "metadata": {},
   "outputs": [
    {
     "data": {
      "text/html": [
       "<div>\n",
       "<style scoped>\n",
       "    .dataframe tbody tr th:only-of-type {\n",
       "        vertical-align: middle;\n",
       "    }\n",
       "\n",
       "    .dataframe tbody tr th {\n",
       "        vertical-align: top;\n",
       "    }\n",
       "\n",
       "    .dataframe thead th {\n",
       "        text-align: right;\n",
       "    }\n",
       "</style>\n",
       "<table border=\"1\" class=\"dataframe\">\n",
       "  <thead>\n",
       "    <tr style=\"text-align: right;\">\n",
       "      <th></th>\n",
       "      <th>codEstab</th>\n",
       "      <th>flagLimaProvEstab</th>\n",
       "      <th>ubigeoEstab</th>\n",
       "      <th>estab_popularity</th>\n",
       "      <th>giro_popularity</th>\n",
       "      <th>estab_rant</th>\n",
       "      <th>giro_rant</th>\n",
       "      <th>bes_motnth_1</th>\n",
       "      <th>bes_motnth_10</th>\n",
       "      <th>bes_motnth_11</th>\n",
       "      <th>bes_motnth_12</th>\n",
       "      <th>bes_motnth_2</th>\n",
       "      <th>bes_motnth_3</th>\n",
       "      <th>bes_motnth_4</th>\n",
       "      <th>bes_motnth_5</th>\n",
       "      <th>bes_motnth_6</th>\n",
       "      <th>bes_motnth_7</th>\n",
       "      <th>bes_motnth_8</th>\n",
       "      <th>bes_motnth_9</th>\n",
       "    </tr>\n",
       "  </thead>\n",
       "  <tbody>\n",
       "    <tr>\n",
       "      <th>0</th>\n",
       "      <td>1</td>\n",
       "      <td>0</td>\n",
       "      <td>0</td>\n",
       "      <td>0.058234</td>\n",
       "      <td>0.058234</td>\n",
       "      <td>0.01822</td>\n",
       "      <td>0.01822</td>\n",
       "      <td>0</td>\n",
       "      <td>0</td>\n",
       "      <td>0</td>\n",
       "      <td>0</td>\n",
       "      <td>0</td>\n",
       "      <td>0</td>\n",
       "      <td>0</td>\n",
       "      <td>0</td>\n",
       "      <td>0</td>\n",
       "      <td>0</td>\n",
       "      <td>0</td>\n",
       "      <td>1</td>\n",
       "    </tr>\n",
       "    <tr>\n",
       "      <th>1</th>\n",
       "      <td>2</td>\n",
       "      <td>0</td>\n",
       "      <td>0</td>\n",
       "      <td>0.058234</td>\n",
       "      <td>0.058234</td>\n",
       "      <td>0.01822</td>\n",
       "      <td>0.01822</td>\n",
       "      <td>0</td>\n",
       "      <td>0</td>\n",
       "      <td>0</td>\n",
       "      <td>0</td>\n",
       "      <td>0</td>\n",
       "      <td>1</td>\n",
       "      <td>0</td>\n",
       "      <td>0</td>\n",
       "      <td>0</td>\n",
       "      <td>0</td>\n",
       "      <td>0</td>\n",
       "      <td>0</td>\n",
       "    </tr>\n",
       "    <tr>\n",
       "      <th>2</th>\n",
       "      <td>14</td>\n",
       "      <td>0</td>\n",
       "      <td>0</td>\n",
       "      <td>0.058234</td>\n",
       "      <td>0.058234</td>\n",
       "      <td>0.01822</td>\n",
       "      <td>0.01822</td>\n",
       "      <td>0</td>\n",
       "      <td>0</td>\n",
       "      <td>0</td>\n",
       "      <td>0</td>\n",
       "      <td>0</td>\n",
       "      <td>0</td>\n",
       "      <td>0</td>\n",
       "      <td>0</td>\n",
       "      <td>0</td>\n",
       "      <td>1</td>\n",
       "      <td>0</td>\n",
       "      <td>0</td>\n",
       "    </tr>\n",
       "    <tr>\n",
       "      <th>3</th>\n",
       "      <td>24</td>\n",
       "      <td>0</td>\n",
       "      <td>0</td>\n",
       "      <td>0.058234</td>\n",
       "      <td>0.058234</td>\n",
       "      <td>0.01822</td>\n",
       "      <td>0.01822</td>\n",
       "      <td>0</td>\n",
       "      <td>0</td>\n",
       "      <td>0</td>\n",
       "      <td>0</td>\n",
       "      <td>0</td>\n",
       "      <td>0</td>\n",
       "      <td>0</td>\n",
       "      <td>0</td>\n",
       "      <td>0</td>\n",
       "      <td>1</td>\n",
       "      <td>0</td>\n",
       "      <td>0</td>\n",
       "    </tr>\n",
       "    <tr>\n",
       "      <th>4</th>\n",
       "      <td>25</td>\n",
       "      <td>0</td>\n",
       "      <td>0</td>\n",
       "      <td>0.058234</td>\n",
       "      <td>0.058234</td>\n",
       "      <td>0.01822</td>\n",
       "      <td>0.01822</td>\n",
       "      <td>0</td>\n",
       "      <td>0</td>\n",
       "      <td>0</td>\n",
       "      <td>0</td>\n",
       "      <td>0</td>\n",
       "      <td>1</td>\n",
       "      <td>0</td>\n",
       "      <td>0</td>\n",
       "      <td>0</td>\n",
       "      <td>0</td>\n",
       "      <td>0</td>\n",
       "      <td>0</td>\n",
       "    </tr>\n",
       "  </tbody>\n",
       "</table>\n",
       "</div>"
      ],
      "text/plain": [
       "   codEstab  flagLimaProvEstab  ubigeoEstab  estab_popularity  \\\n",
       "0         1                  0            0          0.058234   \n",
       "1         2                  0            0          0.058234   \n",
       "2        14                  0            0          0.058234   \n",
       "3        24                  0            0          0.058234   \n",
       "4        25                  0            0          0.058234   \n",
       "\n",
       "   giro_popularity  estab_rant  giro_rant  bes_motnth_1  bes_motnth_10  \\\n",
       "0         0.058234     0.01822    0.01822             0              0   \n",
       "1         0.058234     0.01822    0.01822             0              0   \n",
       "2         0.058234     0.01822    0.01822             0              0   \n",
       "3         0.058234     0.01822    0.01822             0              0   \n",
       "4         0.058234     0.01822    0.01822             0              0   \n",
       "\n",
       "   bes_motnth_11  bes_motnth_12  bes_motnth_2  bes_motnth_3  bes_motnth_4  \\\n",
       "0              0              0             0             0             0   \n",
       "1              0              0             0             1             0   \n",
       "2              0              0             0             0             0   \n",
       "3              0              0             0             0             0   \n",
       "4              0              0             0             1             0   \n",
       "\n",
       "   bes_motnth_5  bes_motnth_6  bes_motnth_7  bes_motnth_8  bes_motnth_9  \n",
       "0             0             0             0             0             1  \n",
       "1             0             0             0             0             0  \n",
       "2             0             0             1             0             0  \n",
       "3             0             0             1             0             0  \n",
       "4             0             0             0             0             0  "
      ]
     },
     "execution_count": 203,
     "metadata": {},
     "output_type": "execute_result"
    }
   ],
   "source": [
    "data_estab.head()"
   ]
  },
  {
   "cell_type": "code",
   "execution_count": 204,
   "metadata": {
    "collapsed": true
   },
   "outputs": [],
   "source": [
    "data_estab.to_csv('data/clean_estab.csv', index=False)"
   ]
  },
  {
   "cell_type": "code",
   "execution_count": 160,
   "metadata": {},
   "outputs": [
    {
     "data": {
      "text/html": [
       "<div>\n",
       "<style scoped>\n",
       "    .dataframe tbody tr th:only-of-type {\n",
       "        vertical-align: middle;\n",
       "    }\n",
       "\n",
       "    .dataframe tbody tr th {\n",
       "        vertical-align: top;\n",
       "    }\n",
       "\n",
       "    .dataframe thead th {\n",
       "        text-align: right;\n",
       "    }\n",
       "</style>\n",
       "<table border=\"1\" class=\"dataframe\">\n",
       "  <thead>\n",
       "    <tr style=\"text-align: right;\">\n",
       "      <th></th>\n",
       "      <th>codCliente</th>\n",
       "      <th>codEstab</th>\n",
       "      <th>ratingMonto</th>\n",
       "      <th>month</th>\n",
       "      <th>day</th>\n",
       "      <th>year</th>\n",
       "      <th>weekday</th>\n",
       "    </tr>\n",
       "  </thead>\n",
       "  <tbody>\n",
       "    <tr>\n",
       "      <th>0</th>\n",
       "      <td>7649</td>\n",
       "      <td>43629</td>\n",
       "      <td>0.014072</td>\n",
       "      <td>1</td>\n",
       "      <td>29</td>\n",
       "      <td>2017</td>\n",
       "      <td>0</td>\n",
       "    </tr>\n",
       "    <tr>\n",
       "      <th>1</th>\n",
       "      <td>24604</td>\n",
       "      <td>4326</td>\n",
       "      <td>0.001667</td>\n",
       "      <td>12</td>\n",
       "      <td>1</td>\n",
       "      <td>2016</td>\n",
       "      <td>4</td>\n",
       "    </tr>\n",
       "    <tr>\n",
       "      <th>2</th>\n",
       "      <td>15289</td>\n",
       "      <td>4326</td>\n",
       "      <td>0.000127</td>\n",
       "      <td>6</td>\n",
       "      <td>1</td>\n",
       "      <td>2017</td>\n",
       "      <td>4</td>\n",
       "    </tr>\n",
       "    <tr>\n",
       "      <th>3</th>\n",
       "      <td>5190</td>\n",
       "      <td>59776</td>\n",
       "      <td>0.001167</td>\n",
       "      <td>9</td>\n",
       "      <td>22</td>\n",
       "      <td>2017</td>\n",
       "      <td>5</td>\n",
       "    </tr>\n",
       "    <tr>\n",
       "      <th>4</th>\n",
       "      <td>16635</td>\n",
       "      <td>31043</td>\n",
       "      <td>0.047386</td>\n",
       "      <td>5</td>\n",
       "      <td>5</td>\n",
       "      <td>2017</td>\n",
       "      <td>5</td>\n",
       "    </tr>\n",
       "  </tbody>\n",
       "</table>\n",
       "</div>"
      ],
      "text/plain": [
       "   codCliente  codEstab  ratingMonto  month  day  year  weekday\n",
       "0        7649     43629     0.014072      1   29  2017        0\n",
       "1       24604      4326     0.001667     12    1  2016        4\n",
       "2       15289      4326     0.000127      6    1  2017        4\n",
       "3        5190     59776     0.001167      9   22  2017        5\n",
       "4       16635     31043     0.047386      5    5  2017        5"
      ]
     },
     "execution_count": 160,
     "metadata": {},
     "output_type": "execute_result"
    }
   ],
   "source": [
    "data_train.head()"
   ]
  },
  {
   "cell_type": "code",
   "execution_count": 162,
   "metadata": {
    "collapsed": true
   },
   "outputs": [],
   "source": [
    "del data_train['weekday']\n",
    "del data_train['month']\n",
    "del data_train['day']"
   ]
  },
  {
   "cell_type": "code",
   "execution_count": 163,
   "metadata": {
    "collapsed": true
   },
   "outputs": [
    {
     "data": {
      "text/html": [
       "<div>\n",
       "<style scoped>\n",
       "    .dataframe tbody tr th:only-of-type {\n",
       "        vertical-align: middle;\n",
       "    }\n",
       "\n",
       "    .dataframe tbody tr th {\n",
       "        vertical-align: top;\n",
       "    }\n",
       "\n",
       "    .dataframe thead th {\n",
       "        text-align: right;\n",
       "    }\n",
       "</style>\n",
       "<table border=\"1\" class=\"dataframe\">\n",
       "  <thead>\n",
       "    <tr style=\"text-align: right;\">\n",
       "      <th></th>\n",
       "      <th>codCliente</th>\n",
       "      <th>codEstab</th>\n",
       "      <th>ratingMonto</th>\n",
       "      <th>year</th>\n",
       "    </tr>\n",
       "  </thead>\n",
       "  <tbody>\n",
       "    <tr>\n",
       "      <th>0</th>\n",
       "      <td>7649</td>\n",
       "      <td>43629</td>\n",
       "      <td>0.014072</td>\n",
       "      <td>2017</td>\n",
       "    </tr>\n",
       "    <tr>\n",
       "      <th>1</th>\n",
       "      <td>24604</td>\n",
       "      <td>4326</td>\n",
       "      <td>0.001667</td>\n",
       "      <td>2016</td>\n",
       "    </tr>\n",
       "    <tr>\n",
       "      <th>2</th>\n",
       "      <td>15289</td>\n",
       "      <td>4326</td>\n",
       "      <td>0.000127</td>\n",
       "      <td>2017</td>\n",
       "    </tr>\n",
       "    <tr>\n",
       "      <th>3</th>\n",
       "      <td>5190</td>\n",
       "      <td>59776</td>\n",
       "      <td>0.001167</td>\n",
       "      <td>2017</td>\n",
       "    </tr>\n",
       "    <tr>\n",
       "      <th>4</th>\n",
       "      <td>16635</td>\n",
       "      <td>31043</td>\n",
       "      <td>0.047386</td>\n",
       "      <td>2017</td>\n",
       "    </tr>\n",
       "  </tbody>\n",
       "</table>\n",
       "</div>"
      ],
      "text/plain": [
       "   codCliente  codEstab  ratingMonto  year\n",
       "0        7649     43629     0.014072  2017\n",
       "1       24604      4326     0.001667  2016\n",
       "2       15289      4326     0.000127  2017\n",
       "3        5190     59776     0.001167  2017\n",
       "4       16635     31043     0.047386  2017"
      ]
     },
     "execution_count": 163,
     "metadata": {},
     "output_type": "execute_result"
    }
   ],
   "source": [
    "data_train.head()"
   ]
  },
  {
   "cell_type": "code",
   "execution_count": 165,
   "metadata": {},
   "outputs": [
    {
     "data": {
      "text/plain": [
       "((1591617, 4), (74339, 19))"
      ]
     },
     "execution_count": 165,
     "metadata": {},
     "output_type": "execute_result"
    }
   ],
   "source": [
    "data_train.shape, data_estab.shape"
   ]
  },
  {
   "cell_type": "code",
   "execution_count": 168,
   "metadata": {},
   "outputs": [],
   "source": [
    "data_train_2016 = data_train[\n",
    "    ['codCliente', 'codEstab', 'ratingMonto']\n",
    "][data_train['year'] == 2016].sort_values(by=['codCliente', 'codEstab']).reset_index()\n",
    "\n",
    "data_train_2017 = data_train[\n",
    "    ['codCliente', 'codEstab', 'ratingMonto']\n",
    "][data_train['year'] == 2017].sort_values(by=['codCliente', 'codEstab']).reset_index()"
   ]
  },
  {
   "cell_type": "code",
   "execution_count": 170,
   "metadata": {},
   "outputs": [
    {
     "data": {
      "text/plain": [
       "((258792, 4), (1332825, 4), 1591617)"
      ]
     },
     "execution_count": 170,
     "metadata": {},
     "output_type": "execute_result"
    }
   ],
   "source": [
    "data_train_2016.shape, data_train_2017.shape, data_train_2016.shape[0] + data_train_2017.shape[0]"
   ]
  },
  {
   "cell_type": "code",
   "execution_count": 171,
   "metadata": {},
   "outputs": [],
   "source": [
    "del data_train_2016['index']\n",
    "del data_train_2017['index']"
   ]
  },
  {
   "cell_type": "code",
   "execution_count": 172,
   "metadata": {},
   "outputs": [
    {
     "data": {
      "text/html": [
       "<div>\n",
       "<style scoped>\n",
       "    .dataframe tbody tr th:only-of-type {\n",
       "        vertical-align: middle;\n",
       "    }\n",
       "\n",
       "    .dataframe tbody tr th {\n",
       "        vertical-align: top;\n",
       "    }\n",
       "\n",
       "    .dataframe thead th {\n",
       "        text-align: right;\n",
       "    }\n",
       "</style>\n",
       "<table border=\"1\" class=\"dataframe\">\n",
       "  <thead>\n",
       "    <tr style=\"text-align: right;\">\n",
       "      <th></th>\n",
       "      <th>codCliente</th>\n",
       "      <th>codEstab</th>\n",
       "      <th>ratingMonto</th>\n",
       "    </tr>\n",
       "  </thead>\n",
       "  <tbody>\n",
       "    <tr>\n",
       "      <th>0</th>\n",
       "      <td>1</td>\n",
       "      <td>1194</td>\n",
       "      <td>0.031735</td>\n",
       "    </tr>\n",
       "    <tr>\n",
       "      <th>1</th>\n",
       "      <td>1</td>\n",
       "      <td>2425</td>\n",
       "      <td>0.012931</td>\n",
       "    </tr>\n",
       "    <tr>\n",
       "      <th>2</th>\n",
       "      <td>1</td>\n",
       "      <td>4311</td>\n",
       "      <td>0.008188</td>\n",
       "    </tr>\n",
       "    <tr>\n",
       "      <th>3</th>\n",
       "      <td>1</td>\n",
       "      <td>40261</td>\n",
       "      <td>0.013214</td>\n",
       "    </tr>\n",
       "    <tr>\n",
       "      <th>4</th>\n",
       "      <td>2</td>\n",
       "      <td>37</td>\n",
       "      <td>0.016731</td>\n",
       "    </tr>\n",
       "  </tbody>\n",
       "</table>\n",
       "</div>"
      ],
      "text/plain": [
       "   codCliente  codEstab  ratingMonto\n",
       "0           1      1194     0.031735\n",
       "1           1      2425     0.012931\n",
       "2           1      4311     0.008188\n",
       "3           1     40261     0.013214\n",
       "4           2        37     0.016731"
      ]
     },
     "execution_count": 172,
     "metadata": {},
     "output_type": "execute_result"
    }
   ],
   "source": [
    "data_train_2016.head()"
   ]
  },
  {
   "cell_type": "code",
   "execution_count": 173,
   "metadata": {},
   "outputs": [
    {
     "data": {
      "text/html": [
       "<div>\n",
       "<style scoped>\n",
       "    .dataframe tbody tr th:only-of-type {\n",
       "        vertical-align: middle;\n",
       "    }\n",
       "\n",
       "    .dataframe tbody tr th {\n",
       "        vertical-align: top;\n",
       "    }\n",
       "\n",
       "    .dataframe thead th {\n",
       "        text-align: right;\n",
       "    }\n",
       "</style>\n",
       "<table border=\"1\" class=\"dataframe\">\n",
       "  <thead>\n",
       "    <tr style=\"text-align: right;\">\n",
       "      <th></th>\n",
       "      <th>codCliente</th>\n",
       "      <th>codEstab</th>\n",
       "      <th>ratingMonto</th>\n",
       "    </tr>\n",
       "  </thead>\n",
       "  <tbody>\n",
       "    <tr>\n",
       "      <th>0</th>\n",
       "      <td>1</td>\n",
       "      <td>39</td>\n",
       "      <td>0.084590</td>\n",
       "    </tr>\n",
       "    <tr>\n",
       "      <th>1</th>\n",
       "      <td>1</td>\n",
       "      <td>39</td>\n",
       "      <td>0.098481</td>\n",
       "    </tr>\n",
       "    <tr>\n",
       "      <th>2</th>\n",
       "      <td>1</td>\n",
       "      <td>39</td>\n",
       "      <td>0.018126</td>\n",
       "    </tr>\n",
       "    <tr>\n",
       "      <th>3</th>\n",
       "      <td>1</td>\n",
       "      <td>39</td>\n",
       "      <td>0.018183</td>\n",
       "    </tr>\n",
       "    <tr>\n",
       "      <th>4</th>\n",
       "      <td>1</td>\n",
       "      <td>1911</td>\n",
       "      <td>0.119995</td>\n",
       "    </tr>\n",
       "  </tbody>\n",
       "</table>\n",
       "</div>"
      ],
      "text/plain": [
       "   codCliente  codEstab  ratingMonto\n",
       "0           1        39     0.084590\n",
       "1           1        39     0.098481\n",
       "2           1        39     0.018126\n",
       "3           1        39     0.018183\n",
       "4           1      1911     0.119995"
      ]
     },
     "execution_count": 173,
     "metadata": {},
     "output_type": "execute_result"
    }
   ],
   "source": [
    "data_train_2017.head()"
   ]
  },
  {
   "cell_type": "code",
   "execution_count": 174,
   "metadata": {},
   "outputs": [],
   "source": [
    "data_train_2017 = pd.DataFrame(\n",
    "    data_train_2017.groupby(by=['codCliente', 'codEstab'])['ratingMonto'].sum()\n",
    ")"
   ]
  },
  {
   "cell_type": "code",
   "execution_count": 175,
   "metadata": {},
   "outputs": [
    {
     "data": {
      "text/html": [
       "<div>\n",
       "<style scoped>\n",
       "    .dataframe tbody tr th:only-of-type {\n",
       "        vertical-align: middle;\n",
       "    }\n",
       "\n",
       "    .dataframe tbody tr th {\n",
       "        vertical-align: top;\n",
       "    }\n",
       "\n",
       "    .dataframe thead th {\n",
       "        text-align: right;\n",
       "    }\n",
       "</style>\n",
       "<table border=\"1\" class=\"dataframe\">\n",
       "  <thead>\n",
       "    <tr style=\"text-align: right;\">\n",
       "      <th></th>\n",
       "      <th></th>\n",
       "      <th>ratingMonto</th>\n",
       "    </tr>\n",
       "    <tr>\n",
       "      <th>codCliente</th>\n",
       "      <th>codEstab</th>\n",
       "      <th></th>\n",
       "    </tr>\n",
       "  </thead>\n",
       "  <tbody>\n",
       "    <tr>\n",
       "      <th rowspan=\"5\" valign=\"top\">1</th>\n",
       "      <th>39</th>\n",
       "      <td>0.219380</td>\n",
       "    </tr>\n",
       "    <tr>\n",
       "      <th>1911</th>\n",
       "      <td>0.119995</td>\n",
       "    </tr>\n",
       "    <tr>\n",
       "      <th>2399</th>\n",
       "      <td>0.009543</td>\n",
       "    </tr>\n",
       "    <tr>\n",
       "      <th>2425</th>\n",
       "      <td>0.011858</td>\n",
       "    </tr>\n",
       "    <tr>\n",
       "      <th>3843</th>\n",
       "      <td>0.146084</td>\n",
       "    </tr>\n",
       "  </tbody>\n",
       "</table>\n",
       "</div>"
      ],
      "text/plain": [
       "                     ratingMonto\n",
       "codCliente codEstab             \n",
       "1          39           0.219380\n",
       "           1911         0.119995\n",
       "           2399         0.009543\n",
       "           2425         0.011858\n",
       "           3843         0.146084"
      ]
     },
     "execution_count": 175,
     "metadata": {},
     "output_type": "execute_result"
    }
   ],
   "source": [
    "data_train_2017.head()"
   ]
  },
  {
   "cell_type": "code",
   "execution_count": 176,
   "metadata": {},
   "outputs": [
    {
     "data": {
      "text/plain": [
       "Index(['ratingMonto'], dtype='object')"
      ]
     },
     "execution_count": 176,
     "metadata": {},
     "output_type": "execute_result"
    }
   ],
   "source": [
    "data_train_2017.columns"
   ]
  },
  {
   "cell_type": "code",
   "execution_count": 177,
   "metadata": {},
   "outputs": [],
   "source": [
    "data_train_2017['fusion'] = data_train_2017.index"
   ]
  },
  {
   "cell_type": "code",
   "execution_count": 178,
   "metadata": {},
   "outputs": [
    {
     "data": {
      "text/html": [
       "<div>\n",
       "<style scoped>\n",
       "    .dataframe tbody tr th:only-of-type {\n",
       "        vertical-align: middle;\n",
       "    }\n",
       "\n",
       "    .dataframe tbody tr th {\n",
       "        vertical-align: top;\n",
       "    }\n",
       "\n",
       "    .dataframe thead th {\n",
       "        text-align: right;\n",
       "    }\n",
       "</style>\n",
       "<table border=\"1\" class=\"dataframe\">\n",
       "  <thead>\n",
       "    <tr style=\"text-align: right;\">\n",
       "      <th></th>\n",
       "      <th></th>\n",
       "      <th>ratingMonto</th>\n",
       "      <th>fusion</th>\n",
       "    </tr>\n",
       "    <tr>\n",
       "      <th>codCliente</th>\n",
       "      <th>codEstab</th>\n",
       "      <th></th>\n",
       "      <th></th>\n",
       "    </tr>\n",
       "  </thead>\n",
       "  <tbody>\n",
       "    <tr>\n",
       "      <th rowspan=\"5\" valign=\"top\">1</th>\n",
       "      <th>39</th>\n",
       "      <td>0.219380</td>\n",
       "      <td>(1, 39)</td>\n",
       "    </tr>\n",
       "    <tr>\n",
       "      <th>1911</th>\n",
       "      <td>0.119995</td>\n",
       "      <td>(1, 1911)</td>\n",
       "    </tr>\n",
       "    <tr>\n",
       "      <th>2399</th>\n",
       "      <td>0.009543</td>\n",
       "      <td>(1, 2399)</td>\n",
       "    </tr>\n",
       "    <tr>\n",
       "      <th>2425</th>\n",
       "      <td>0.011858</td>\n",
       "      <td>(1, 2425)</td>\n",
       "    </tr>\n",
       "    <tr>\n",
       "      <th>3843</th>\n",
       "      <td>0.146084</td>\n",
       "      <td>(1, 3843)</td>\n",
       "    </tr>\n",
       "  </tbody>\n",
       "</table>\n",
       "</div>"
      ],
      "text/plain": [
       "                     ratingMonto     fusion\n",
       "codCliente codEstab                        \n",
       "1          39           0.219380    (1, 39)\n",
       "           1911         0.119995  (1, 1911)\n",
       "           2399         0.009543  (1, 2399)\n",
       "           2425         0.011858  (1, 2425)\n",
       "           3843         0.146084  (1, 3843)"
      ]
     },
     "execution_count": 178,
     "metadata": {},
     "output_type": "execute_result"
    }
   ],
   "source": [
    "data_train_2017.head()"
   ]
  },
  {
   "cell_type": "code",
   "execution_count": 179,
   "metadata": {},
   "outputs": [
    {
     "data": {
      "text/html": [
       "<div>\n",
       "<style scoped>\n",
       "    .dataframe tbody tr th:only-of-type {\n",
       "        vertical-align: middle;\n",
       "    }\n",
       "\n",
       "    .dataframe tbody tr th {\n",
       "        vertical-align: top;\n",
       "    }\n",
       "\n",
       "    .dataframe thead th {\n",
       "        text-align: right;\n",
       "    }\n",
       "</style>\n",
       "<table border=\"1\" class=\"dataframe\">\n",
       "  <thead>\n",
       "    <tr style=\"text-align: right;\">\n",
       "      <th></th>\n",
       "      <th>codCliente</th>\n",
       "      <th>codEstab</th>\n",
       "      <th>ratingMonto</th>\n",
       "    </tr>\n",
       "  </thead>\n",
       "  <tbody>\n",
       "    <tr>\n",
       "      <th>0</th>\n",
       "      <td>1</td>\n",
       "      <td>39</td>\n",
       "      <td>0.219380</td>\n",
       "    </tr>\n",
       "    <tr>\n",
       "      <th>1</th>\n",
       "      <td>1</td>\n",
       "      <td>1911</td>\n",
       "      <td>0.119995</td>\n",
       "    </tr>\n",
       "    <tr>\n",
       "      <th>2</th>\n",
       "      <td>1</td>\n",
       "      <td>2399</td>\n",
       "      <td>0.009543</td>\n",
       "    </tr>\n",
       "    <tr>\n",
       "      <th>3</th>\n",
       "      <td>1</td>\n",
       "      <td>2425</td>\n",
       "      <td>0.011858</td>\n",
       "    </tr>\n",
       "    <tr>\n",
       "      <th>4</th>\n",
       "      <td>1</td>\n",
       "      <td>3843</td>\n",
       "      <td>0.146084</td>\n",
       "    </tr>\n",
       "  </tbody>\n",
       "</table>\n",
       "</div>"
      ],
      "text/plain": [
       "   codCliente  codEstab  ratingMonto\n",
       "0           1        39     0.219380\n",
       "1           1      1911     0.119995\n",
       "2           1      2399     0.009543\n",
       "3           1      2425     0.011858\n",
       "4           1      3843     0.146084"
      ]
     },
     "execution_count": 179,
     "metadata": {},
     "output_type": "execute_result"
    }
   ],
   "source": [
    "data_train_2017 = data_train_2017.reset_index()\n",
    "data_train_2017['codCliente'] = data_train_2017['fusion'].apply(lambda x: x[0])\n",
    "data_train_2017['codEstab'] = data_train_2017['fusion'].apply(lambda x: x[1])\n",
    "del data_train_2017['fusion']\n",
    "data_train_2017.head()"
   ]
  },
  {
   "cell_type": "code",
   "execution_count": 180,
   "metadata": {},
   "outputs": [
    {
     "data": {
      "text/plain": [
       "(776997, 3)"
      ]
     },
     "execution_count": 180,
     "metadata": {},
     "output_type": "execute_result"
    }
   ],
   "source": [
    "data_train_2017.shape"
   ]
  },
  {
   "cell_type": "code",
   "execution_count": 181,
   "metadata": {},
   "outputs": [
    {
     "data": {
      "text/html": [
       "<div>\n",
       "<style scoped>\n",
       "    .dataframe tbody tr th:only-of-type {\n",
       "        vertical-align: middle;\n",
       "    }\n",
       "\n",
       "    .dataframe tbody tr th {\n",
       "        vertical-align: top;\n",
       "    }\n",
       "\n",
       "    .dataframe thead th {\n",
       "        text-align: right;\n",
       "    }\n",
       "</style>\n",
       "<table border=\"1\" class=\"dataframe\">\n",
       "  <thead>\n",
       "    <tr style=\"text-align: right;\">\n",
       "      <th></th>\n",
       "      <th>codCliente</th>\n",
       "      <th>codEstab</th>\n",
       "      <th>ratingMonto</th>\n",
       "    </tr>\n",
       "  </thead>\n",
       "  <tbody>\n",
       "    <tr>\n",
       "      <th>0</th>\n",
       "      <td>1</td>\n",
       "      <td>1194</td>\n",
       "      <td>0.031735</td>\n",
       "    </tr>\n",
       "    <tr>\n",
       "      <th>1</th>\n",
       "      <td>1</td>\n",
       "      <td>2425</td>\n",
       "      <td>0.012931</td>\n",
       "    </tr>\n",
       "    <tr>\n",
       "      <th>2</th>\n",
       "      <td>1</td>\n",
       "      <td>4311</td>\n",
       "      <td>0.008188</td>\n",
       "    </tr>\n",
       "    <tr>\n",
       "      <th>3</th>\n",
       "      <td>1</td>\n",
       "      <td>40261</td>\n",
       "      <td>0.013214</td>\n",
       "    </tr>\n",
       "    <tr>\n",
       "      <th>4</th>\n",
       "      <td>2</td>\n",
       "      <td>37</td>\n",
       "      <td>0.016731</td>\n",
       "    </tr>\n",
       "  </tbody>\n",
       "</table>\n",
       "</div>"
      ],
      "text/plain": [
       "   codCliente  codEstab  ratingMonto\n",
       "0           1      1194     0.031735\n",
       "1           1      2425     0.012931\n",
       "2           1      4311     0.008188\n",
       "3           1     40261     0.013214\n",
       "4           2        37     0.016731"
      ]
     },
     "execution_count": 181,
     "metadata": {},
     "output_type": "execute_result"
    }
   ],
   "source": [
    "data_train_2016 = pd.DataFrame(\n",
    "    data_train_2016.groupby(by=['codCliente', 'codEstab'])['ratingMonto'].sum()\n",
    ")\n",
    "data_train_2016['fusion'] = data_train_2016.index\n",
    "data_train_2016 = data_train_2016.reset_index()\n",
    "data_train_2016['codCliente'] = data_train_2016['fusion'].apply(lambda x: x[0])\n",
    "data_train_2016['codEstab'] = data_train_2016['fusion'].apply(lambda x: x[1])\n",
    "del data_train_2016['fusion']\n",
    "data_train_2016.head()"
   ]
  },
  {
   "cell_type": "code",
   "execution_count": 182,
   "metadata": {},
   "outputs": [
    {
     "data": {
      "text/plain": [
       "(199990, 3)"
      ]
     },
     "execution_count": 182,
     "metadata": {},
     "output_type": "execute_result"
    }
   ],
   "source": [
    "data_train_2016.shape"
   ]
  },
  {
   "cell_type": "code",
   "execution_count": 183,
   "metadata": {},
   "outputs": [
    {
     "data": {
      "text/html": [
       "<div>\n",
       "<style scoped>\n",
       "    .dataframe tbody tr th:only-of-type {\n",
       "        vertical-align: middle;\n",
       "    }\n",
       "\n",
       "    .dataframe tbody tr th {\n",
       "        vertical-align: top;\n",
       "    }\n",
       "\n",
       "    .dataframe thead th {\n",
       "        text-align: right;\n",
       "    }\n",
       "</style>\n",
       "<table border=\"1\" class=\"dataframe\">\n",
       "  <thead>\n",
       "    <tr style=\"text-align: right;\">\n",
       "      <th></th>\n",
       "      <th>codCliente</th>\n",
       "      <th>codEstab</th>\n",
       "      <th>ratingMonto_x</th>\n",
       "      <th>ratingMonto_y</th>\n",
       "    </tr>\n",
       "  </thead>\n",
       "  <tbody>\n",
       "    <tr>\n",
       "      <th>0</th>\n",
       "      <td>1</td>\n",
       "      <td>39</td>\n",
       "      <td>NaN</td>\n",
       "      <td>0.219380</td>\n",
       "    </tr>\n",
       "    <tr>\n",
       "      <th>1</th>\n",
       "      <td>1</td>\n",
       "      <td>1194</td>\n",
       "      <td>0.031735</td>\n",
       "      <td>NaN</td>\n",
       "    </tr>\n",
       "    <tr>\n",
       "      <th>2</th>\n",
       "      <td>1</td>\n",
       "      <td>1911</td>\n",
       "      <td>NaN</td>\n",
       "      <td>0.119995</td>\n",
       "    </tr>\n",
       "    <tr>\n",
       "      <th>3</th>\n",
       "      <td>1</td>\n",
       "      <td>2399</td>\n",
       "      <td>NaN</td>\n",
       "      <td>0.009543</td>\n",
       "    </tr>\n",
       "    <tr>\n",
       "      <th>4</th>\n",
       "      <td>1</td>\n",
       "      <td>2425</td>\n",
       "      <td>0.012931</td>\n",
       "      <td>0.011858</td>\n",
       "    </tr>\n",
       "  </tbody>\n",
       "</table>\n",
       "</div>"
      ],
      "text/plain": [
       "   codCliente  codEstab  ratingMonto_x  ratingMonto_y\n",
       "0           1        39            NaN       0.219380\n",
       "1           1      1194       0.031735            NaN\n",
       "2           1      1911            NaN       0.119995\n",
       "3           1      2399            NaN       0.009543\n",
       "4           1      2425       0.012931       0.011858"
      ]
     },
     "execution_count": 183,
     "metadata": {},
     "output_type": "execute_result"
    }
   ],
   "source": [
    "data_train = pd.merge(\n",
    "    data_train_2016, data_train_2017, on=['codCliente','codEstab'], how='outer'\n",
    ").sort_values(\n",
    "    by=['codCliente','codEstab']\n",
    ").reset_index().drop(['index'], axis=1)\n",
    "data_train.head()"
   ]
  },
  {
   "cell_type": "code",
   "execution_count": 184,
   "metadata": {},
   "outputs": [
    {
     "data": {
      "text/html": [
       "<div>\n",
       "<style scoped>\n",
       "    .dataframe tbody tr th:only-of-type {\n",
       "        vertical-align: middle;\n",
       "    }\n",
       "\n",
       "    .dataframe tbody tr th {\n",
       "        vertical-align: top;\n",
       "    }\n",
       "\n",
       "    .dataframe thead th {\n",
       "        text-align: right;\n",
       "    }\n",
       "</style>\n",
       "<table border=\"1\" class=\"dataframe\">\n",
       "  <thead>\n",
       "    <tr style=\"text-align: right;\">\n",
       "      <th></th>\n",
       "      <th>Nulos</th>\n",
       "      <th>Cantidad</th>\n",
       "      <th>Tipo Col</th>\n",
       "    </tr>\n",
       "  </thead>\n",
       "  <tbody>\n",
       "    <tr>\n",
       "      <th>codCliente</th>\n",
       "      <td>False</td>\n",
       "      <td>0</td>\n",
       "      <td>int64</td>\n",
       "    </tr>\n",
       "    <tr>\n",
       "      <th>codEstab</th>\n",
       "      <td>False</td>\n",
       "      <td>0</td>\n",
       "      <td>int64</td>\n",
       "    </tr>\n",
       "    <tr>\n",
       "      <th>ratingMonto_x</th>\n",
       "      <td>True</td>\n",
       "      <td>701977</td>\n",
       "      <td>float64</td>\n",
       "    </tr>\n",
       "    <tr>\n",
       "      <th>ratingMonto_y</th>\n",
       "      <td>True</td>\n",
       "      <td>124970</td>\n",
       "      <td>float64</td>\n",
       "    </tr>\n",
       "  </tbody>\n",
       "</table>\n",
       "</div>"
      ],
      "text/plain": [
       "               Nulos  Cantidad Tipo Col\n",
       "codCliente     False         0    int64\n",
       "codEstab       False         0    int64\n",
       "ratingMonto_x   True    701977  float64\n",
       "ratingMonto_y   True    124970  float64"
      ]
     },
     "execution_count": 184,
     "metadata": {},
     "output_type": "execute_result"
    }
   ],
   "source": [
    "null_verificator(data_train)"
   ]
  },
  {
   "cell_type": "code",
   "execution_count": 185,
   "metadata": {},
   "outputs": [],
   "source": [
    "data_train.fillna(0, inplace=True)"
   ]
  },
  {
   "cell_type": "code",
   "execution_count": 186,
   "metadata": {},
   "outputs": [
    {
     "data": {
      "text/plain": [
       "'DATA LIMPIA DE NULOS'"
      ]
     },
     "execution_count": 186,
     "metadata": {},
     "output_type": "execute_result"
    }
   ],
   "source": [
    "null_verificator(data_train)"
   ]
  },
  {
   "cell_type": "code",
   "execution_count": 187,
   "metadata": {},
   "outputs": [],
   "source": [
    "data_train['ratingMonto'] = (data_train['ratingMonto_x'] + data_train['ratingMonto_y']) / 2"
   ]
  },
  {
   "cell_type": "code",
   "execution_count": 189,
   "metadata": {},
   "outputs": [
    {
     "data": {
      "text/html": [
       "<div>\n",
       "<style scoped>\n",
       "    .dataframe tbody tr th:only-of-type {\n",
       "        vertical-align: middle;\n",
       "    }\n",
       "\n",
       "    .dataframe tbody tr th {\n",
       "        vertical-align: top;\n",
       "    }\n",
       "\n",
       "    .dataframe thead th {\n",
       "        text-align: right;\n",
       "    }\n",
       "</style>\n",
       "<table border=\"1\" class=\"dataframe\">\n",
       "  <thead>\n",
       "    <tr style=\"text-align: right;\">\n",
       "      <th></th>\n",
       "      <th>codCliente</th>\n",
       "      <th>codEstab</th>\n",
       "      <th>ratingMonto_x</th>\n",
       "      <th>ratingMonto_y</th>\n",
       "      <th>ratingMonto</th>\n",
       "    </tr>\n",
       "  </thead>\n",
       "  <tbody>\n",
       "    <tr>\n",
       "      <th>0</th>\n",
       "      <td>1</td>\n",
       "      <td>39</td>\n",
       "      <td>0.000000</td>\n",
       "      <td>0.219380</td>\n",
       "      <td>0.109690</td>\n",
       "    </tr>\n",
       "    <tr>\n",
       "      <th>1</th>\n",
       "      <td>1</td>\n",
       "      <td>1194</td>\n",
       "      <td>0.031735</td>\n",
       "      <td>0.000000</td>\n",
       "      <td>0.015868</td>\n",
       "    </tr>\n",
       "    <tr>\n",
       "      <th>2</th>\n",
       "      <td>1</td>\n",
       "      <td>1911</td>\n",
       "      <td>0.000000</td>\n",
       "      <td>0.119995</td>\n",
       "      <td>0.059998</td>\n",
       "    </tr>\n",
       "    <tr>\n",
       "      <th>3</th>\n",
       "      <td>1</td>\n",
       "      <td>2399</td>\n",
       "      <td>0.000000</td>\n",
       "      <td>0.009543</td>\n",
       "      <td>0.004772</td>\n",
       "    </tr>\n",
       "    <tr>\n",
       "      <th>4</th>\n",
       "      <td>1</td>\n",
       "      <td>2425</td>\n",
       "      <td>0.012931</td>\n",
       "      <td>0.011858</td>\n",
       "      <td>0.012395</td>\n",
       "    </tr>\n",
       "  </tbody>\n",
       "</table>\n",
       "</div>"
      ],
      "text/plain": [
       "   codCliente  codEstab  ratingMonto_x  ratingMonto_y  ratingMonto\n",
       "0           1        39       0.000000       0.219380     0.109690\n",
       "1           1      1194       0.031735       0.000000     0.015868\n",
       "2           1      1911       0.000000       0.119995     0.059998\n",
       "3           1      2399       0.000000       0.009543     0.004772\n",
       "4           1      2425       0.012931       0.011858     0.012395"
      ]
     },
     "execution_count": 189,
     "metadata": {},
     "output_type": "execute_result"
    }
   ],
   "source": [
    "data_train.head()"
   ]
  },
  {
   "cell_type": "code",
   "execution_count": 190,
   "metadata": {},
   "outputs": [
    {
     "data": {
      "text/plain": [
       "(1.4924526668636705e-06, 0.5)"
      ]
     },
     "execution_count": 190,
     "metadata": {},
     "output_type": "execute_result"
    }
   ],
   "source": [
    "minn = data_train['ratingMonto'].min()\n",
    "maxx = data_train['ratingMonto'].max()\n",
    "minn, maxx"
   ]
  },
  {
   "cell_type": "code",
   "execution_count": 191,
   "metadata": {},
   "outputs": [],
   "source": [
    "data_train['ratingMonto_norm'] = data_train['ratingMonto'].apply(lambda x: (x- minn)/(maxx - x))"
   ]
  },
  {
   "cell_type": "code",
   "execution_count": 192,
   "metadata": {},
   "outputs": [
    {
     "data": {
      "text/html": [
       "<div>\n",
       "<style scoped>\n",
       "    .dataframe tbody tr th:only-of-type {\n",
       "        vertical-align: middle;\n",
       "    }\n",
       "\n",
       "    .dataframe tbody tr th {\n",
       "        vertical-align: top;\n",
       "    }\n",
       "\n",
       "    .dataframe thead th {\n",
       "        text-align: right;\n",
       "    }\n",
       "</style>\n",
       "<table border=\"1\" class=\"dataframe\">\n",
       "  <thead>\n",
       "    <tr style=\"text-align: right;\">\n",
       "      <th></th>\n",
       "      <th>codCliente</th>\n",
       "      <th>codEstab</th>\n",
       "      <th>ratingMonto_x</th>\n",
       "      <th>ratingMonto_y</th>\n",
       "      <th>ratingMonto</th>\n",
       "      <th>ratingMonto_norm</th>\n",
       "    </tr>\n",
       "  </thead>\n",
       "  <tbody>\n",
       "    <tr>\n",
       "      <th>0</th>\n",
       "      <td>1</td>\n",
       "      <td>39</td>\n",
       "      <td>0.000000</td>\n",
       "      <td>0.219380</td>\n",
       "      <td>0.109690</td>\n",
       "      <td>0.281029</td>\n",
       "    </tr>\n",
       "    <tr>\n",
       "      <th>1</th>\n",
       "      <td>1</td>\n",
       "      <td>1194</td>\n",
       "      <td>0.031735</td>\n",
       "      <td>0.000000</td>\n",
       "      <td>0.015868</td>\n",
       "      <td>0.032772</td>\n",
       "    </tr>\n",
       "    <tr>\n",
       "      <th>2</th>\n",
       "      <td>1</td>\n",
       "      <td>1911</td>\n",
       "      <td>0.000000</td>\n",
       "      <td>0.119995</td>\n",
       "      <td>0.059998</td>\n",
       "      <td>0.136354</td>\n",
       "    </tr>\n",
       "    <tr>\n",
       "      <th>3</th>\n",
       "      <td>1</td>\n",
       "      <td>2399</td>\n",
       "      <td>0.000000</td>\n",
       "      <td>0.009543</td>\n",
       "      <td>0.004772</td>\n",
       "      <td>0.009632</td>\n",
       "    </tr>\n",
       "    <tr>\n",
       "      <th>4</th>\n",
       "      <td>1</td>\n",
       "      <td>2425</td>\n",
       "      <td>0.012931</td>\n",
       "      <td>0.011858</td>\n",
       "      <td>0.012395</td>\n",
       "      <td>0.025417</td>\n",
       "    </tr>\n",
       "  </tbody>\n",
       "</table>\n",
       "</div>"
      ],
      "text/plain": [
       "   codCliente  codEstab  ratingMonto_x  ratingMonto_y  ratingMonto  \\\n",
       "0           1        39       0.000000       0.219380     0.109690   \n",
       "1           1      1194       0.031735       0.000000     0.015868   \n",
       "2           1      1911       0.000000       0.119995     0.059998   \n",
       "3           1      2399       0.000000       0.009543     0.004772   \n",
       "4           1      2425       0.012931       0.011858     0.012395   \n",
       "\n",
       "   ratingMonto_norm  \n",
       "0          0.281029  \n",
       "1          0.032772  \n",
       "2          0.136354  \n",
       "3          0.009632  \n",
       "4          0.025417  "
      ]
     },
     "execution_count": 192,
     "metadata": {},
     "output_type": "execute_result"
    }
   ],
   "source": [
    "data_train.head()"
   ]
  },
  {
   "cell_type": "code",
   "execution_count": 198,
   "metadata": {},
   "outputs": [
    {
     "data": {
      "text/plain": [
       "<matplotlib.axes._subplots.AxesSubplot at 0x7ff6a594ec88>"
      ]
     },
     "execution_count": 198,
     "metadata": {},
     "output_type": "execute_result"
    },
    {
     "data": {
      "image/png": "[encoded data removed]",
      "text/plain": [
       "<Figure size 432x288 with 1 Axes>"
      ]
     },
     "metadata": {},
     "output_type": "display_data"
    }
   ],
   "source": [
    "sns.set(style=\"whitegrid\")\n",
    "sns.boxplot(x=data_train[\"ratingMonto_norm\"])"
   ]
  },
  {
   "cell_type": "code",
   "execution_count": 199,
   "metadata": {},
   "outputs": [
    {
     "data": {
      "text/plain": [
       "<matplotlib.axes._subplots.AxesSubplot at 0x7ff69dabf2e8>"
      ]
     },
     "execution_count": 199,
     "metadata": {},
     "output_type": "execute_result"
    },
    {
     "data": {
      "image/png": "[encoded data removed]",
      "text/plain": [
       "<Figure size 432x288 with 1 Axes>"
      ]
     },
     "metadata": {},
     "output_type": "display_data"
    }
   ],
   "source": [
    "sns.boxplot(x=data_train[\"ratingMonto\"])"
   ]
  },
  {
   "cell_type": "code",
   "execution_count": 200,
   "metadata": {},
   "outputs": [],
   "source": [
    "del data_train['ratingMonto_x']\n",
    "del data_train['ratingMonto_y']"
   ]
  },
  {
   "cell_type": "code",
   "execution_count": 201,
   "metadata": {},
   "outputs": [
    {
     "data": {
      "text/html": [
       "<div>\n",
       "<style scoped>\n",
       "    .dataframe tbody tr th:only-of-type {\n",
       "        vertical-align: middle;\n",
       "    }\n",
       "\n",
       "    .dataframe tbody tr th {\n",
       "        vertical-align: top;\n",
       "    }\n",
       "\n",
       "    .dataframe thead th {\n",
       "        text-align: right;\n",
       "    }\n",
       "</style>\n",
       "<table border=\"1\" class=\"dataframe\">\n",
       "  <thead>\n",
       "    <tr style=\"text-align: right;\">\n",
       "      <th></th>\n",
       "      <th>codCliente</th>\n",
       "      <th>codEstab</th>\n",
       "      <th>ratingMonto</th>\n",
       "      <th>ratingMonto_norm</th>\n",
       "    </tr>\n",
       "  </thead>\n",
       "  <tbody>\n",
       "    <tr>\n",
       "      <th>0</th>\n",
       "      <td>1</td>\n",
       "      <td>39</td>\n",
       "      <td>0.109690</td>\n",
       "      <td>0.281029</td>\n",
       "    </tr>\n",
       "    <tr>\n",
       "      <th>1</th>\n",
       "      <td>1</td>\n",
       "      <td>1194</td>\n",
       "      <td>0.015868</td>\n",
       "      <td>0.032772</td>\n",
       "    </tr>\n",
       "    <tr>\n",
       "      <th>2</th>\n",
       "      <td>1</td>\n",
       "      <td>1911</td>\n",
       "      <td>0.059998</td>\n",
       "      <td>0.136354</td>\n",
       "    </tr>\n",
       "    <tr>\n",
       "      <th>3</th>\n",
       "      <td>1</td>\n",
       "      <td>2399</td>\n",
       "      <td>0.004772</td>\n",
       "      <td>0.009632</td>\n",
       "    </tr>\n",
       "    <tr>\n",
       "      <th>4</th>\n",
       "      <td>1</td>\n",
       "      <td>2425</td>\n",
       "      <td>0.012395</td>\n",
       "      <td>0.025417</td>\n",
       "    </tr>\n",
       "  </tbody>\n",
       "</table>\n",
       "</div>"
      ],
      "text/plain": [
       "   codCliente  codEstab  ratingMonto  ratingMonto_norm\n",
       "0           1        39     0.109690          0.281029\n",
       "1           1      1194     0.015868          0.032772\n",
       "2           1      1911     0.059998          0.136354\n",
       "3           1      2399     0.004772          0.009632\n",
       "4           1      2425     0.012395          0.025417"
      ]
     },
     "execution_count": 201,
     "metadata": {},
     "output_type": "execute_result"
    }
   ],
   "source": [
    "data_train.head()"
   ]
  },
  {
   "cell_type": "code",
   "execution_count": 202,
   "metadata": {},
   "outputs": [],
   "source": [
    "data_train.to_csv('data/clean_train.csv', index=False)"
   ]
  },
  {
   "cell_type": "code",
   "execution_count": null,
   "metadata": {},
   "outputs": [],
   "source": []
  }
 ],
 "metadata": {
  "kernelspec": {
   "display_name": "Python 3",
   "language": "python",
   "name": "python3"
  },
  "language_info": {
   "codemirror_mode": {
    "name": "ipython",
    "version": 3
   },
   "file_extension": ".py",
   "mimetype": "text/x-python",
   "name": "python",
   "nbconvert_exporter": "python",
   "pygments_lexer": "ipython3",
   "version": "3.6.4"
  }
 },
 "nbformat": 4,
 "nbformat_minor": 2
}
