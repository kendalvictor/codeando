{
 "cells": [
  {
   "cell_type": "code",
   "execution_count": 1,
   "metadata": {
    "collapsed": false
   },
   "outputs": [
    {
     "data": {
      "text/html": [
       "<div>\n",
       "<style scoped>\n",
       "    .dataframe tbody tr th:only-of-type {\n",
       "        vertical-align: middle;\n",
       "    }\n",
       "\n",
       "    .dataframe tbody tr th {\n",
       "        vertical-align: top;\n",
       "    }\n",
       "\n",
       "    .dataframe thead th {\n",
       "        text-align: right;\n",
       "    }\n",
       "</style>\n",
       "<table border=\"1\" class=\"dataframe\">\n",
       "  <thead>\n",
       "    <tr style=\"text-align: right;\">\n",
       "      <th></th>\n",
       "      <th>fechaOper</th>\n",
       "      <th>codCliente</th>\n",
       "      <th>codGiro</th>\n",
       "      <th>codEstab</th>\n",
       "      <th>flagLimaProvEstab</th>\n",
       "      <th>ubigeoEstab</th>\n",
       "      <th>ctdTrx</th>\n",
       "      <th>ratingMonto</th>\n",
       "    </tr>\n",
       "  </thead>\n",
       "  <tbody>\n",
       "    <tr>\n",
       "      <th>0</th>\n",
       "      <td>2017-01-29 00:00:00</td>\n",
       "      <td>7649</td>\n",
       "      <td>138.0</td>\n",
       "      <td>43629</td>\n",
       "      <td>1</td>\n",
       "      <td>176.0</td>\n",
       "      <td>1</td>\n",
       "      <td>0.014072</td>\n",
       "    </tr>\n",
       "    <tr>\n",
       "      <th>1</th>\n",
       "      <td>2016-12-01 00:00:00</td>\n",
       "      <td>24604</td>\n",
       "      <td>75.0</td>\n",
       "      <td>4326</td>\n",
       "      <td>0</td>\n",
       "      <td>81.0</td>\n",
       "      <td>1</td>\n",
       "      <td>0.001667</td>\n",
       "    </tr>\n",
       "    <tr>\n",
       "      <th>2</th>\n",
       "      <td>2017-06-01 00:00:00</td>\n",
       "      <td>15289</td>\n",
       "      <td>75.0</td>\n",
       "      <td>4326</td>\n",
       "      <td>0</td>\n",
       "      <td>81.0</td>\n",
       "      <td>1</td>\n",
       "      <td>0.000127</td>\n",
       "    </tr>\n",
       "    <tr>\n",
       "      <th>3</th>\n",
       "      <td>2017-09-22 00:00:00</td>\n",
       "      <td>5190</td>\n",
       "      <td>110.0</td>\n",
       "      <td>59776</td>\n",
       "      <td>1</td>\n",
       "      <td>156.0</td>\n",
       "      <td>1</td>\n",
       "      <td>0.001167</td>\n",
       "    </tr>\n",
       "    <tr>\n",
       "      <th>4</th>\n",
       "      <td>2017-05-05 00:00:00</td>\n",
       "      <td>16635</td>\n",
       "      <td>75.0</td>\n",
       "      <td>31043</td>\n",
       "      <td>0</td>\n",
       "      <td>81.0</td>\n",
       "      <td>1</td>\n",
       "      <td>0.047386</td>\n",
       "    </tr>\n",
       "  </tbody>\n",
       "</table>\n",
       "</div>"
      ],
      "text/plain": [
       "             fechaOper  codCliente  codGiro  codEstab  flagLimaProvEstab  \\\n",
       "0  2017-01-29 00:00:00        7649    138.0     43629                  1   \n",
       "1  2016-12-01 00:00:00       24604     75.0      4326                  0   \n",
       "2  2017-06-01 00:00:00       15289     75.0      4326                  0   \n",
       "3  2017-09-22 00:00:00        5190    110.0     59776                  1   \n",
       "4  2017-05-05 00:00:00       16635     75.0     31043                  0   \n",
       "\n",
       "   ubigeoEstab  ctdTrx  ratingMonto  \n",
       "0        176.0       1     0.014072  \n",
       "1         81.0       1     0.001667  \n",
       "2         81.0       1     0.000127  \n",
       "3        156.0       1     0.001167  \n",
       "4         81.0       1     0.047386  "
      ]
     },
     "execution_count": 1,
     "metadata": {},
     "output_type": "execute_result"
    }
   ],
   "source": [
    "#calculo\n",
    "import numpy as np\n",
    "import pandas as pd\n",
    "\n",
    "#grafico\n",
    "import matplotlib.pyplot as plt\n",
    "%matplotlib inline\n",
    "\n",
    "#propios utilitarios\n",
    "from utils import *\n",
    "\n",
    "data = pd.read_csv('data/01dataBaseTrainTrxRec.csv', **set_parameter_csv)\n",
    "data.head()"
   ]
  },
  {
   "cell_type": "code",
   "execution_count": 2,
   "metadata": {
    "collapsed": false
   },
   "outputs": [
    {
     "data": {
      "text/html": [
       "<div>\n",
       "<style scoped>\n",
       "    .dataframe tbody tr th:only-of-type {\n",
       "        vertical-align: middle;\n",
       "    }\n",
       "\n",
       "    .dataframe tbody tr th {\n",
       "        vertical-align: top;\n",
       "    }\n",
       "\n",
       "    .dataframe thead th {\n",
       "        text-align: right;\n",
       "    }\n",
       "</style>\n",
       "<table border=\"1\" class=\"dataframe\">\n",
       "  <thead>\n",
       "    <tr style=\"text-align: right;\">\n",
       "      <th></th>\n",
       "      <th>Nulos</th>\n",
       "      <th>Cantidad</th>\n",
       "      <th>Tipo Col</th>\n",
       "    </tr>\n",
       "  </thead>\n",
       "  <tbody>\n",
       "    <tr>\n",
       "      <th>fechaOper</th>\n",
       "      <td>False</td>\n",
       "      <td>0</td>\n",
       "      <td>object</td>\n",
       "    </tr>\n",
       "    <tr>\n",
       "      <th>codCliente</th>\n",
       "      <td>False</td>\n",
       "      <td>0</td>\n",
       "      <td>int64</td>\n",
       "    </tr>\n",
       "    <tr>\n",
       "      <th>codGiro</th>\n",
       "      <td>True</td>\n",
       "      <td>92686</td>\n",
       "      <td>float64</td>\n",
       "    </tr>\n",
       "    <tr>\n",
       "      <th>codEstab</th>\n",
       "      <td>False</td>\n",
       "      <td>0</td>\n",
       "      <td>int64</td>\n",
       "    </tr>\n",
       "    <tr>\n",
       "      <th>flagLimaProvEstab</th>\n",
       "      <td>False</td>\n",
       "      <td>0</td>\n",
       "      <td>int64</td>\n",
       "    </tr>\n",
       "    <tr>\n",
       "      <th>ubigeoEstab</th>\n",
       "      <td>True</td>\n",
       "      <td>92686</td>\n",
       "      <td>float64</td>\n",
       "    </tr>\n",
       "    <tr>\n",
       "      <th>ctdTrx</th>\n",
       "      <td>False</td>\n",
       "      <td>0</td>\n",
       "      <td>int64</td>\n",
       "    </tr>\n",
       "    <tr>\n",
       "      <th>ratingMonto</th>\n",
       "      <td>False</td>\n",
       "      <td>0</td>\n",
       "      <td>float64</td>\n",
       "    </tr>\n",
       "  </tbody>\n",
       "</table>\n",
       "</div>"
      ],
      "text/plain": [
       "                   Nulos  Cantidad Tipo Col\n",
       "fechaOper          False         0   object\n",
       "codCliente         False         0    int64\n",
       "codGiro             True     92686  float64\n",
       "codEstab           False         0    int64\n",
       "flagLimaProvEstab  False         0    int64\n",
       "ubigeoEstab         True     92686  float64\n",
       "ctdTrx             False         0    int64\n",
       "ratingMonto        False         0  float64"
      ]
     },
     "execution_count": 2,
     "metadata": {},
     "output_type": "execute_result"
    }
   ],
   "source": [
    "null_verificator(data)"
   ]
  },
  {
   "cell_type": "code",
   "execution_count": 3,
   "metadata": {
    "collapsed": false
   },
   "outputs": [
    {
     "data": {
      "text/html": [
       "<div>\n",
       "<style scoped>\n",
       "    .dataframe tbody tr th:only-of-type {\n",
       "        vertical-align: middle;\n",
       "    }\n",
       "\n",
       "    .dataframe tbody tr th {\n",
       "        vertical-align: top;\n",
       "    }\n",
       "\n",
       "    .dataframe thead th {\n",
       "        text-align: right;\n",
       "    }\n",
       "</style>\n",
       "<table border=\"1\" class=\"dataframe\">\n",
       "  <thead>\n",
       "    <tr style=\"text-align: right;\">\n",
       "      <th></th>\n",
       "      <th>fechaOper</th>\n",
       "      <th>codCliente</th>\n",
       "      <th>codGiro</th>\n",
       "      <th>codEstab</th>\n",
       "      <th>flagLimaProvEstab</th>\n",
       "      <th>ubigeoEstab</th>\n",
       "      <th>ctdTrx</th>\n",
       "      <th>ratingMonto</th>\n",
       "    </tr>\n",
       "  </thead>\n",
       "  <tbody>\n",
       "    <tr>\n",
       "      <th>count</th>\n",
       "      <td>1591617</td>\n",
       "      <td>1.591617e+06</td>\n",
       "      <td>1.498931e+06</td>\n",
       "      <td>1.591617e+06</td>\n",
       "      <td>1.591617e+06</td>\n",
       "      <td>1.498931e+06</td>\n",
       "      <td>1.591617e+06</td>\n",
       "      <td>1.591617e+06</td>\n",
       "    </tr>\n",
       "    <tr>\n",
       "      <th>unique</th>\n",
       "      <td>365</td>\n",
       "      <td>NaN</td>\n",
       "      <td>NaN</td>\n",
       "      <td>NaN</td>\n",
       "      <td>NaN</td>\n",
       "      <td>NaN</td>\n",
       "      <td>NaN</td>\n",
       "      <td>NaN</td>\n",
       "    </tr>\n",
       "    <tr>\n",
       "      <th>top</th>\n",
       "      <td>2017-07-15 00:00:00</td>\n",
       "      <td>NaN</td>\n",
       "      <td>NaN</td>\n",
       "      <td>NaN</td>\n",
       "      <td>NaN</td>\n",
       "      <td>NaN</td>\n",
       "      <td>NaN</td>\n",
       "      <td>NaN</td>\n",
       "    </tr>\n",
       "    <tr>\n",
       "      <th>freq</th>\n",
       "      <td>7303</td>\n",
       "      <td>NaN</td>\n",
       "      <td>NaN</td>\n",
       "      <td>NaN</td>\n",
       "      <td>NaN</td>\n",
       "      <td>NaN</td>\n",
       "      <td>NaN</td>\n",
       "      <td>NaN</td>\n",
       "    </tr>\n",
       "    <tr>\n",
       "      <th>mean</th>\n",
       "      <td>NaN</td>\n",
       "      <td>1.334583e+04</td>\n",
       "      <td>1.048248e+02</td>\n",
       "      <td>2.453260e+04</td>\n",
       "      <td>8.084175e-01</td>\n",
       "      <td>1.747467e+02</td>\n",
       "      <td>1.072021e+00</td>\n",
       "      <td>1.318383e-02</td>\n",
       "    </tr>\n",
       "    <tr>\n",
       "      <th>std</th>\n",
       "      <td>NaN</td>\n",
       "      <td>8.493548e+03</td>\n",
       "      <td>3.920585e+01</td>\n",
       "      <td>1.990371e+04</td>\n",
       "      <td>3.935464e-01</td>\n",
       "      <td>6.856421e+01</td>\n",
       "      <td>3.465646e-01</td>\n",
       "      <td>3.236438e-02</td>\n",
       "    </tr>\n",
       "    <tr>\n",
       "      <th>min</th>\n",
       "      <td>NaN</td>\n",
       "      <td>1.000000e+00</td>\n",
       "      <td>2.000000e+00</td>\n",
       "      <td>1.000000e+00</td>\n",
       "      <td>0.000000e+00</td>\n",
       "      <td>2.000000e+00</td>\n",
       "      <td>1.000000e+00</td>\n",
       "      <td>2.984905e-06</td>\n",
       "    </tr>\n",
       "    <tr>\n",
       "      <th>25%</th>\n",
       "      <td>NaN</td>\n",
       "      <td>6.035000e+03</td>\n",
       "      <td>7.500000e+01</td>\n",
       "      <td>4.339000e+03</td>\n",
       "      <td>1.000000e+00</td>\n",
       "      <td>1.480000e+02</td>\n",
       "      <td>1.000000e+00</td>\n",
       "      <td>1.598366e-03</td>\n",
       "    </tr>\n",
       "    <tr>\n",
       "      <th>50%</th>\n",
       "      <td>NaN</td>\n",
       "      <td>1.258100e+04</td>\n",
       "      <td>1.080000e+02</td>\n",
       "      <td>2.266500e+04</td>\n",
       "      <td>1.000000e+00</td>\n",
       "      <td>1.650000e+02</td>\n",
       "      <td>1.000000e+00</td>\n",
       "      <td>4.199563e-03</td>\n",
       "    </tr>\n",
       "    <tr>\n",
       "      <th>75%</th>\n",
       "      <td>NaN</td>\n",
       "      <td>2.046200e+04</td>\n",
       "      <td>1.120000e+02</td>\n",
       "      <td>3.673100e+04</td>\n",
       "      <td>1.000000e+00</td>\n",
       "      <td>1.750000e+02</td>\n",
       "      <td>1.000000e+00</td>\n",
       "      <td>1.152572e-02</td>\n",
       "    </tr>\n",
       "    <tr>\n",
       "      <th>max</th>\n",
       "      <td>NaN</td>\n",
       "      <td>3.000000e+04</td>\n",
       "      <td>2.250000e+02</td>\n",
       "      <td>8.227600e+04</td>\n",
       "      <td>1.000000e+00</td>\n",
       "      <td>4.350000e+02</td>\n",
       "      <td>2.900000e+01</td>\n",
       "      <td>1.000000e+00</td>\n",
       "    </tr>\n",
       "  </tbody>\n",
       "</table>\n",
       "</div>"
      ],
      "text/plain": [
       "                  fechaOper    codCliente       codGiro      codEstab  \\\n",
       "count               1591617  1.591617e+06  1.498931e+06  1.591617e+06   \n",
       "unique                  365           NaN           NaN           NaN   \n",
       "top     2017-07-15 00:00:00           NaN           NaN           NaN   \n",
       "freq                   7303           NaN           NaN           NaN   \n",
       "mean                    NaN  1.334583e+04  1.048248e+02  2.453260e+04   \n",
       "std                     NaN  8.493548e+03  3.920585e+01  1.990371e+04   \n",
       "min                     NaN  1.000000e+00  2.000000e+00  1.000000e+00   \n",
       "25%                     NaN  6.035000e+03  7.500000e+01  4.339000e+03   \n",
       "50%                     NaN  1.258100e+04  1.080000e+02  2.266500e+04   \n",
       "75%                     NaN  2.046200e+04  1.120000e+02  3.673100e+04   \n",
       "max                     NaN  3.000000e+04  2.250000e+02  8.227600e+04   \n",
       "\n",
       "        flagLimaProvEstab   ubigeoEstab        ctdTrx   ratingMonto  \n",
       "count        1.591617e+06  1.498931e+06  1.591617e+06  1.591617e+06  \n",
       "unique                NaN           NaN           NaN           NaN  \n",
       "top                   NaN           NaN           NaN           NaN  \n",
       "freq                  NaN           NaN           NaN           NaN  \n",
       "mean         8.084175e-01  1.747467e+02  1.072021e+00  1.318383e-02  \n",
       "std          3.935464e-01  6.856421e+01  3.465646e-01  3.236438e-02  \n",
       "min          0.000000e+00  2.000000e+00  1.000000e+00  2.984905e-06  \n",
       "25%          1.000000e+00  1.480000e+02  1.000000e+00  1.598366e-03  \n",
       "50%          1.000000e+00  1.650000e+02  1.000000e+00  4.199563e-03  \n",
       "75%          1.000000e+00  1.750000e+02  1.000000e+00  1.152572e-02  \n",
       "max          1.000000e+00  4.350000e+02  2.900000e+01  1.000000e+00  "
      ]
     },
     "execution_count": 3,
     "metadata": {},
     "output_type": "execute_result"
    }
   ],
   "source": [
    "data.describe(include='all')"
   ]
  },
  {
   "cell_type": "code",
   "execution_count": 4,
   "metadata": {
    "collapsed": false
   },
   "outputs": [
    {
     "data": {
      "text/html": [
       "<div>\n",
       "<style scoped>\n",
       "    .dataframe tbody tr th:only-of-type {\n",
       "        vertical-align: middle;\n",
       "    }\n",
       "\n",
       "    .dataframe tbody tr th {\n",
       "        vertical-align: top;\n",
       "    }\n",
       "\n",
       "    .dataframe thead th {\n",
       "        text-align: right;\n",
       "    }\n",
       "</style>\n",
       "<table border=\"1\" class=\"dataframe\">\n",
       "  <thead>\n",
       "    <tr style=\"text-align: right;\">\n",
       "      <th></th>\n",
       "      <th>Nulos</th>\n",
       "      <th>Cantidad</th>\n",
       "      <th>Tipo Col</th>\n",
       "    </tr>\n",
       "  </thead>\n",
       "  <tbody>\n",
       "    <tr>\n",
       "      <th>fechaOper</th>\n",
       "      <td>False</td>\n",
       "      <td>0</td>\n",
       "      <td>object</td>\n",
       "    </tr>\n",
       "    <tr>\n",
       "      <th>codCliente</th>\n",
       "      <td>False</td>\n",
       "      <td>0</td>\n",
       "      <td>int64</td>\n",
       "    </tr>\n",
       "    <tr>\n",
       "      <th>codGiro</th>\n",
       "      <td>True</td>\n",
       "      <td>92686</td>\n",
       "      <td>float64</td>\n",
       "    </tr>\n",
       "    <tr>\n",
       "      <th>codEstab</th>\n",
       "      <td>False</td>\n",
       "      <td>0</td>\n",
       "      <td>int64</td>\n",
       "    </tr>\n",
       "    <tr>\n",
       "      <th>flagLimaProvEstab</th>\n",
       "      <td>False</td>\n",
       "      <td>0</td>\n",
       "      <td>int64</td>\n",
       "    </tr>\n",
       "    <tr>\n",
       "      <th>ubigeoEstab</th>\n",
       "      <td>True</td>\n",
       "      <td>92686</td>\n",
       "      <td>float64</td>\n",
       "    </tr>\n",
       "    <tr>\n",
       "      <th>ctdTrx</th>\n",
       "      <td>False</td>\n",
       "      <td>0</td>\n",
       "      <td>int64</td>\n",
       "    </tr>\n",
       "    <tr>\n",
       "      <th>ratingMonto</th>\n",
       "      <td>False</td>\n",
       "      <td>0</td>\n",
       "      <td>float64</td>\n",
       "    </tr>\n",
       "  </tbody>\n",
       "</table>\n",
       "</div>"
      ],
      "text/plain": [
       "                   Nulos  Cantidad Tipo Col\n",
       "fechaOper          False         0   object\n",
       "codCliente         False         0    int64\n",
       "codGiro             True     92686  float64\n",
       "codEstab           False         0    int64\n",
       "flagLimaProvEstab  False         0    int64\n",
       "ubigeoEstab         True     92686  float64\n",
       "ctdTrx             False         0    int64\n",
       "ratingMonto        False         0  float64"
      ]
     },
     "execution_count": 4,
     "metadata": {},
     "output_type": "execute_result"
    }
   ],
   "source": [
    "null_verificator(data)"
   ]
  },
  {
   "cell_type": "code",
   "execution_count": 5,
   "metadata": {
    "collapsed": true
   },
   "outputs": [],
   "source": [
    "data.fillna(-999, inplace=True)"
   ]
  },
  {
   "cell_type": "code",
   "execution_count": 6,
   "metadata": {
    "collapsed": false
   },
   "outputs": [
    {
     "data": {
      "text/plain": [
       "'DATA LIMPIA DE NULOS'"
      ]
     },
     "execution_count": 6,
     "metadata": {},
     "output_type": "execute_result"
    }
   ],
   "source": [
    "null_verificator(data)"
   ]
  },
  {
   "cell_type": "code",
   "execution_count": 7,
   "metadata": {
    "collapsed": false
   },
   "outputs": [
    {
     "data": {
      "text/html": [
       "<div>\n",
       "<style scoped>\n",
       "    .dataframe tbody tr th:only-of-type {\n",
       "        vertical-align: middle;\n",
       "    }\n",
       "\n",
       "    .dataframe tbody tr th {\n",
       "        vertical-align: top;\n",
       "    }\n",
       "\n",
       "    .dataframe thead th {\n",
       "        text-align: right;\n",
       "    }\n",
       "</style>\n",
       "<table border=\"1\" class=\"dataframe\">\n",
       "  <thead>\n",
       "    <tr style=\"text-align: right;\">\n",
       "      <th></th>\n",
       "      <th>fechaOper</th>\n",
       "      <th>codCliente</th>\n",
       "      <th>codGiro</th>\n",
       "      <th>codEstab</th>\n",
       "      <th>flagLimaProvEstab</th>\n",
       "      <th>ubigeoEstab</th>\n",
       "      <th>ctdTrx</th>\n",
       "      <th>ratingMonto</th>\n",
       "    </tr>\n",
       "  </thead>\n",
       "  <tbody>\n",
       "    <tr>\n",
       "      <th>0</th>\n",
       "      <td>2017-01-29 00:00:00</td>\n",
       "      <td>7649</td>\n",
       "      <td>138.0</td>\n",
       "      <td>43629</td>\n",
       "      <td>1</td>\n",
       "      <td>176.0</td>\n",
       "      <td>1</td>\n",
       "      <td>0.014072</td>\n",
       "    </tr>\n",
       "    <tr>\n",
       "      <th>1</th>\n",
       "      <td>2016-12-01 00:00:00</td>\n",
       "      <td>24604</td>\n",
       "      <td>75.0</td>\n",
       "      <td>4326</td>\n",
       "      <td>0</td>\n",
       "      <td>81.0</td>\n",
       "      <td>1</td>\n",
       "      <td>0.001667</td>\n",
       "    </tr>\n",
       "    <tr>\n",
       "      <th>2</th>\n",
       "      <td>2017-06-01 00:00:00</td>\n",
       "      <td>15289</td>\n",
       "      <td>75.0</td>\n",
       "      <td>4326</td>\n",
       "      <td>0</td>\n",
       "      <td>81.0</td>\n",
       "      <td>1</td>\n",
       "      <td>0.000127</td>\n",
       "    </tr>\n",
       "    <tr>\n",
       "      <th>3</th>\n",
       "      <td>2017-09-22 00:00:00</td>\n",
       "      <td>5190</td>\n",
       "      <td>110.0</td>\n",
       "      <td>59776</td>\n",
       "      <td>1</td>\n",
       "      <td>156.0</td>\n",
       "      <td>1</td>\n",
       "      <td>0.001167</td>\n",
       "    </tr>\n",
       "    <tr>\n",
       "      <th>4</th>\n",
       "      <td>2017-05-05 00:00:00</td>\n",
       "      <td>16635</td>\n",
       "      <td>75.0</td>\n",
       "      <td>31043</td>\n",
       "      <td>0</td>\n",
       "      <td>81.0</td>\n",
       "      <td>1</td>\n",
       "      <td>0.047386</td>\n",
       "    </tr>\n",
       "    <tr>\n",
       "      <th>5</th>\n",
       "      <td>2017-08-28 00:00:00</td>\n",
       "      <td>1578</td>\n",
       "      <td>66.0</td>\n",
       "      <td>41706</td>\n",
       "      <td>1</td>\n",
       "      <td>176.0</td>\n",
       "      <td>1</td>\n",
       "      <td>0.019062</td>\n",
       "    </tr>\n",
       "    <tr>\n",
       "      <th>6</th>\n",
       "      <td>2017-07-19 00:00:00</td>\n",
       "      <td>18185</td>\n",
       "      <td>85.0</td>\n",
       "      <td>24590</td>\n",
       "      <td>0</td>\n",
       "      <td>22.0</td>\n",
       "      <td>1</td>\n",
       "      <td>0.001747</td>\n",
       "    </tr>\n",
       "    <tr>\n",
       "      <th>7</th>\n",
       "      <td>2016-12-01 00:00:00</td>\n",
       "      <td>10836</td>\n",
       "      <td>122.0</td>\n",
       "      <td>230</td>\n",
       "      <td>1</td>\n",
       "      <td>143.0</td>\n",
       "      <td>1</td>\n",
       "      <td>0.008692</td>\n",
       "    </tr>\n",
       "    <tr>\n",
       "      <th>8</th>\n",
       "      <td>2017-07-20 00:00:00</td>\n",
       "      <td>11467</td>\n",
       "      <td>110.0</td>\n",
       "      <td>5561</td>\n",
       "      <td>1</td>\n",
       "      <td>148.0</td>\n",
       "      <td>2</td>\n",
       "      <td>0.011116</td>\n",
       "    </tr>\n",
       "    <tr>\n",
       "      <th>9</th>\n",
       "      <td>2017-08-24 00:00:00</td>\n",
       "      <td>9763</td>\n",
       "      <td>75.0</td>\n",
       "      <td>826</td>\n",
       "      <td>1</td>\n",
       "      <td>171.0</td>\n",
       "      <td>1</td>\n",
       "      <td>0.032054</td>\n",
       "    </tr>\n",
       "  </tbody>\n",
       "</table>\n",
       "</div>"
      ],
      "text/plain": [
       "             fechaOper  codCliente  codGiro  codEstab  flagLimaProvEstab  \\\n",
       "0  2017-01-29 00:00:00        7649    138.0     43629                  1   \n",
       "1  2016-12-01 00:00:00       24604     75.0      4326                  0   \n",
       "2  2017-06-01 00:00:00       15289     75.0      4326                  0   \n",
       "3  2017-09-22 00:00:00        5190    110.0     59776                  1   \n",
       "4  2017-05-05 00:00:00       16635     75.0     31043                  0   \n",
       "5  2017-08-28 00:00:00        1578     66.0     41706                  1   \n",
       "6  2017-07-19 00:00:00       18185     85.0     24590                  0   \n",
       "7  2016-12-01 00:00:00       10836    122.0       230                  1   \n",
       "8  2017-07-20 00:00:00       11467    110.0      5561                  1   \n",
       "9  2017-08-24 00:00:00        9763     75.0       826                  1   \n",
       "\n",
       "   ubigeoEstab  ctdTrx  ratingMonto  \n",
       "0        176.0       1     0.014072  \n",
       "1         81.0       1     0.001667  \n",
       "2         81.0       1     0.000127  \n",
       "3        156.0       1     0.001167  \n",
       "4         81.0       1     0.047386  \n",
       "5        176.0       1     0.019062  \n",
       "6         22.0       1     0.001747  \n",
       "7        143.0       1     0.008692  \n",
       "8        148.0       2     0.011116  \n",
       "9        171.0       1     0.032054  "
      ]
     },
     "execution_count": 7,
     "metadata": {},
     "output_type": "execute_result"
    }
   ],
   "source": [
    "data.head(10)"
   ]
  },
  {
   "cell_type": "code",
   "execution_count": 8,
   "metadata": {
    "collapsed": false
   },
   "outputs": [
    {
     "data": {
      "text/plain": [
       "(1591617, 8)"
      ]
     },
     "execution_count": 8,
     "metadata": {},
     "output_type": "execute_result"
    }
   ],
   "source": [
    "data.shape"
   ]
  },
  {
   "cell_type": "code",
   "execution_count": 9,
   "metadata": {
    "collapsed": false
   },
   "outputs": [
    {
     "data": {
      "text/plain": [
       "0    2017-01-29\n",
       "1    2016-12-01\n",
       "2    2017-06-01\n",
       "3    2017-09-22\n",
       "4    2017-05-05\n",
       "5    2017-08-28\n",
       "6    2017-07-19\n",
       "7    2016-12-01\n",
       "8    2017-07-20\n",
       "9    2017-08-24\n",
       "Name: fechaOper, dtype: object"
      ]
     },
     "execution_count": 9,
     "metadata": {},
     "output_type": "execute_result"
    }
   ],
   "source": [
    "data['fechaOper'] = data['fechaOper'].apply(lambda x: x.split()[0])\n",
    "data['fechaOper'][:10]"
   ]
  },
  {
   "cell_type": "code",
   "execution_count": 10,
   "metadata": {
    "collapsed": false
   },
   "outputs": [
    {
     "data": {
      "text/html": [
       "<div>\n",
       "<style scoped>\n",
       "    .dataframe tbody tr th:only-of-type {\n",
       "        vertical-align: middle;\n",
       "    }\n",
       "\n",
       "    .dataframe tbody tr th {\n",
       "        vertical-align: top;\n",
       "    }\n",
       "\n",
       "    .dataframe thead th {\n",
       "        text-align: right;\n",
       "    }\n",
       "</style>\n",
       "<table border=\"1\" class=\"dataframe\">\n",
       "  <thead>\n",
       "    <tr style=\"text-align: right;\">\n",
       "      <th></th>\n",
       "      <th>fechaOper</th>\n",
       "      <th>codCliente</th>\n",
       "      <th>codGiro</th>\n",
       "      <th>codEstab</th>\n",
       "      <th>flagLimaProvEstab</th>\n",
       "      <th>ubigeoEstab</th>\n",
       "      <th>ctdTrx</th>\n",
       "      <th>ratingMonto</th>\n",
       "      <th>date</th>\n",
       "      <th>month</th>\n",
       "      <th>day</th>\n",
       "      <th>month_day</th>\n",
       "      <th>weekday</th>\n",
       "    </tr>\n",
       "  </thead>\n",
       "  <tbody>\n",
       "    <tr>\n",
       "      <th>0</th>\n",
       "      <td>2017-01-29</td>\n",
       "      <td>7649</td>\n",
       "      <td>138.0</td>\n",
       "      <td>43629</td>\n",
       "      <td>1</td>\n",
       "      <td>176.0</td>\n",
       "      <td>1</td>\n",
       "      <td>0.014072</td>\n",
       "      <td>2017-01-29</td>\n",
       "      <td>1</td>\n",
       "      <td>29</td>\n",
       "      <td>129</td>\n",
       "      <td>0</td>\n",
       "    </tr>\n",
       "    <tr>\n",
       "      <th>1</th>\n",
       "      <td>2016-12-01</td>\n",
       "      <td>24604</td>\n",
       "      <td>75.0</td>\n",
       "      <td>4326</td>\n",
       "      <td>0</td>\n",
       "      <td>81.0</td>\n",
       "      <td>1</td>\n",
       "      <td>0.001667</td>\n",
       "      <td>2016-12-01</td>\n",
       "      <td>12</td>\n",
       "      <td>1</td>\n",
       "      <td>1201</td>\n",
       "      <td>4</td>\n",
       "    </tr>\n",
       "    <tr>\n",
       "      <th>2</th>\n",
       "      <td>2017-06-01</td>\n",
       "      <td>15289</td>\n",
       "      <td>75.0</td>\n",
       "      <td>4326</td>\n",
       "      <td>0</td>\n",
       "      <td>81.0</td>\n",
       "      <td>1</td>\n",
       "      <td>0.000127</td>\n",
       "      <td>2017-06-01</td>\n",
       "      <td>6</td>\n",
       "      <td>1</td>\n",
       "      <td>601</td>\n",
       "      <td>4</td>\n",
       "    </tr>\n",
       "    <tr>\n",
       "      <th>3</th>\n",
       "      <td>2017-09-22</td>\n",
       "      <td>5190</td>\n",
       "      <td>110.0</td>\n",
       "      <td>59776</td>\n",
       "      <td>1</td>\n",
       "      <td>156.0</td>\n",
       "      <td>1</td>\n",
       "      <td>0.001167</td>\n",
       "      <td>2017-09-22</td>\n",
       "      <td>9</td>\n",
       "      <td>22</td>\n",
       "      <td>922</td>\n",
       "      <td>5</td>\n",
       "    </tr>\n",
       "    <tr>\n",
       "      <th>4</th>\n",
       "      <td>2017-05-05</td>\n",
       "      <td>16635</td>\n",
       "      <td>75.0</td>\n",
       "      <td>31043</td>\n",
       "      <td>0</td>\n",
       "      <td>81.0</td>\n",
       "      <td>1</td>\n",
       "      <td>0.047386</td>\n",
       "      <td>2017-05-05</td>\n",
       "      <td>5</td>\n",
       "      <td>5</td>\n",
       "      <td>505</td>\n",
       "      <td>5</td>\n",
       "    </tr>\n",
       "    <tr>\n",
       "      <th>5</th>\n",
       "      <td>2017-08-28</td>\n",
       "      <td>1578</td>\n",
       "      <td>66.0</td>\n",
       "      <td>41706</td>\n",
       "      <td>1</td>\n",
       "      <td>176.0</td>\n",
       "      <td>1</td>\n",
       "      <td>0.019062</td>\n",
       "      <td>2017-08-28</td>\n",
       "      <td>8</td>\n",
       "      <td>28</td>\n",
       "      <td>828</td>\n",
       "      <td>1</td>\n",
       "    </tr>\n",
       "    <tr>\n",
       "      <th>6</th>\n",
       "      <td>2017-07-19</td>\n",
       "      <td>18185</td>\n",
       "      <td>85.0</td>\n",
       "      <td>24590</td>\n",
       "      <td>0</td>\n",
       "      <td>22.0</td>\n",
       "      <td>1</td>\n",
       "      <td>0.001747</td>\n",
       "      <td>2017-07-19</td>\n",
       "      <td>7</td>\n",
       "      <td>19</td>\n",
       "      <td>719</td>\n",
       "      <td>3</td>\n",
       "    </tr>\n",
       "    <tr>\n",
       "      <th>7</th>\n",
       "      <td>2016-12-01</td>\n",
       "      <td>10836</td>\n",
       "      <td>122.0</td>\n",
       "      <td>230</td>\n",
       "      <td>1</td>\n",
       "      <td>143.0</td>\n",
       "      <td>1</td>\n",
       "      <td>0.008692</td>\n",
       "      <td>2016-12-01</td>\n",
       "      <td>12</td>\n",
       "      <td>1</td>\n",
       "      <td>1201</td>\n",
       "      <td>4</td>\n",
       "    </tr>\n",
       "    <tr>\n",
       "      <th>8</th>\n",
       "      <td>2017-07-20</td>\n",
       "      <td>11467</td>\n",
       "      <td>110.0</td>\n",
       "      <td>5561</td>\n",
       "      <td>1</td>\n",
       "      <td>148.0</td>\n",
       "      <td>2</td>\n",
       "      <td>0.011116</td>\n",
       "      <td>2017-07-20</td>\n",
       "      <td>7</td>\n",
       "      <td>20</td>\n",
       "      <td>720</td>\n",
       "      <td>4</td>\n",
       "    </tr>\n",
       "    <tr>\n",
       "      <th>9</th>\n",
       "      <td>2017-08-24</td>\n",
       "      <td>9763</td>\n",
       "      <td>75.0</td>\n",
       "      <td>826</td>\n",
       "      <td>1</td>\n",
       "      <td>171.0</td>\n",
       "      <td>1</td>\n",
       "      <td>0.032054</td>\n",
       "      <td>2017-08-24</td>\n",
       "      <td>8</td>\n",
       "      <td>24</td>\n",
       "      <td>824</td>\n",
       "      <td>4</td>\n",
       "    </tr>\n",
       "  </tbody>\n",
       "</table>\n",
       "</div>"
      ],
      "text/plain": [
       "    fechaOper  codCliente  codGiro  codEstab  flagLimaProvEstab  ubigeoEstab  \\\n",
       "0  2017-01-29        7649    138.0     43629                  1        176.0   \n",
       "1  2016-12-01       24604     75.0      4326                  0         81.0   \n",
       "2  2017-06-01       15289     75.0      4326                  0         81.0   \n",
       "3  2017-09-22        5190    110.0     59776                  1        156.0   \n",
       "4  2017-05-05       16635     75.0     31043                  0         81.0   \n",
       "5  2017-08-28        1578     66.0     41706                  1        176.0   \n",
       "6  2017-07-19       18185     85.0     24590                  0         22.0   \n",
       "7  2016-12-01       10836    122.0       230                  1        143.0   \n",
       "8  2017-07-20       11467    110.0      5561                  1        148.0   \n",
       "9  2017-08-24        9763     75.0       826                  1        171.0   \n",
       "\n",
       "   ctdTrx  ratingMonto       date  month  day  month_day  weekday  \n",
       "0       1     0.014072 2017-01-29      1   29        129        0  \n",
       "1       1     0.001667 2016-12-01     12    1       1201        4  \n",
       "2       1     0.000127 2017-06-01      6    1        601        4  \n",
       "3       1     0.001167 2017-09-22      9   22        922        5  \n",
       "4       1     0.047386 2017-05-05      5    5        505        5  \n",
       "5       1     0.019062 2017-08-28      8   28        828        1  \n",
       "6       1     0.001747 2017-07-19      7   19        719        3  \n",
       "7       1     0.008692 2016-12-01     12    1       1201        4  \n",
       "8       2     0.011116 2017-07-20      7   20        720        4  \n",
       "9       1     0.032054 2017-08-24      8   24        824        4  "
      ]
     },
     "execution_count": 10,
     "metadata": {},
     "output_type": "execute_result"
    }
   ],
   "source": [
    "add_col_dates(data, 'fechaOper', format_match=\"%Y-%m-%d\", year=False)"
   ]
  },
  {
   "cell_type": "code",
   "execution_count": 11,
   "metadata": {
    "collapsed": true
   },
   "outputs": [],
   "source": [
    "del data['date']\n",
    "del data['fechaOper']"
   ]
  },
  {
   "cell_type": "code",
   "execution_count": 12,
   "metadata": {
    "collapsed": false
   },
   "outputs": [
    {
     "data": {
      "text/html": [
       "<div>\n",
       "<style scoped>\n",
       "    .dataframe tbody tr th:only-of-type {\n",
       "        vertical-align: middle;\n",
       "    }\n",
       "\n",
       "    .dataframe tbody tr th {\n",
       "        vertical-align: top;\n",
       "    }\n",
       "\n",
       "    .dataframe thead th {\n",
       "        text-align: right;\n",
       "    }\n",
       "</style>\n",
       "<table border=\"1\" class=\"dataframe\">\n",
       "  <thead>\n",
       "    <tr style=\"text-align: right;\">\n",
       "      <th></th>\n",
       "      <th>codCliente</th>\n",
       "      <th>codGiro</th>\n",
       "      <th>codEstab</th>\n",
       "      <th>flagLimaProvEstab</th>\n",
       "      <th>ubigeoEstab</th>\n",
       "      <th>ctdTrx</th>\n",
       "      <th>ratingMonto</th>\n",
       "      <th>month</th>\n",
       "      <th>day</th>\n",
       "      <th>month_day</th>\n",
       "      <th>weekday</th>\n",
       "    </tr>\n",
       "  </thead>\n",
       "  <tbody>\n",
       "    <tr>\n",
       "      <th>0</th>\n",
       "      <td>7649</td>\n",
       "      <td>138.0</td>\n",
       "      <td>43629</td>\n",
       "      <td>1</td>\n",
       "      <td>176.0</td>\n",
       "      <td>1</td>\n",
       "      <td>0.014072</td>\n",
       "      <td>1</td>\n",
       "      <td>29</td>\n",
       "      <td>129</td>\n",
       "      <td>0</td>\n",
       "    </tr>\n",
       "    <tr>\n",
       "      <th>1</th>\n",
       "      <td>24604</td>\n",
       "      <td>75.0</td>\n",
       "      <td>4326</td>\n",
       "      <td>0</td>\n",
       "      <td>81.0</td>\n",
       "      <td>1</td>\n",
       "      <td>0.001667</td>\n",
       "      <td>12</td>\n",
       "      <td>1</td>\n",
       "      <td>1201</td>\n",
       "      <td>4</td>\n",
       "    </tr>\n",
       "    <tr>\n",
       "      <th>2</th>\n",
       "      <td>15289</td>\n",
       "      <td>75.0</td>\n",
       "      <td>4326</td>\n",
       "      <td>0</td>\n",
       "      <td>81.0</td>\n",
       "      <td>1</td>\n",
       "      <td>0.000127</td>\n",
       "      <td>6</td>\n",
       "      <td>1</td>\n",
       "      <td>601</td>\n",
       "      <td>4</td>\n",
       "    </tr>\n",
       "    <tr>\n",
       "      <th>3</th>\n",
       "      <td>5190</td>\n",
       "      <td>110.0</td>\n",
       "      <td>59776</td>\n",
       "      <td>1</td>\n",
       "      <td>156.0</td>\n",
       "      <td>1</td>\n",
       "      <td>0.001167</td>\n",
       "      <td>9</td>\n",
       "      <td>22</td>\n",
       "      <td>922</td>\n",
       "      <td>5</td>\n",
       "    </tr>\n",
       "    <tr>\n",
       "      <th>4</th>\n",
       "      <td>16635</td>\n",
       "      <td>75.0</td>\n",
       "      <td>31043</td>\n",
       "      <td>0</td>\n",
       "      <td>81.0</td>\n",
       "      <td>1</td>\n",
       "      <td>0.047386</td>\n",
       "      <td>5</td>\n",
       "      <td>5</td>\n",
       "      <td>505</td>\n",
       "      <td>5</td>\n",
       "    </tr>\n",
       "  </tbody>\n",
       "</table>\n",
       "</div>"
      ],
      "text/plain": [
       "   codCliente  codGiro  codEstab  flagLimaProvEstab  ubigeoEstab  ctdTrx  \\\n",
       "0        7649    138.0     43629                  1        176.0       1   \n",
       "1       24604     75.0      4326                  0         81.0       1   \n",
       "2       15289     75.0      4326                  0         81.0       1   \n",
       "3        5190    110.0     59776                  1        156.0       1   \n",
       "4       16635     75.0     31043                  0         81.0       1   \n",
       "\n",
       "   ratingMonto  month  day  month_day  weekday  \n",
       "0     0.014072      1   29        129        0  \n",
       "1     0.001667     12    1       1201        4  \n",
       "2     0.000127      6    1        601        4  \n",
       "3     0.001167      9   22        922        5  \n",
       "4     0.047386      5    5        505        5  "
      ]
     },
     "execution_count": 12,
     "metadata": {},
     "output_type": "execute_result"
    }
   ],
   "source": [
    "data.head()"
   ]
  },
  {
   "cell_type": "code",
   "execution_count": 13,
   "metadata": {
    "collapsed": false
   },
   "outputs": [
    {
     "data": {
      "text/plain": [
       "codCliente             int64\n",
       "codGiro              float64\n",
       "codEstab               int64\n",
       "flagLimaProvEstab      int64\n",
       "ubigeoEstab          float64\n",
       "ctdTrx                 int64\n",
       "ratingMonto          float64\n",
       "month                  int64\n",
       "day                    int64\n",
       "month_day              int64\n",
       "weekday                int64\n",
       "dtype: object"
      ]
     },
     "execution_count": 13,
     "metadata": {},
     "output_type": "execute_result"
    }
   ],
   "source": [
    "data.dtypes"
   ]
  },
  {
   "cell_type": "code",
   "execution_count": 14,
   "metadata": {
    "collapsed": false
   },
   "outputs": [
    {
     "data": {
      "text/html": [
       "<div>\n",
       "<style scoped>\n",
       "    .dataframe tbody tr th:only-of-type {\n",
       "        vertical-align: middle;\n",
       "    }\n",
       "\n",
       "    .dataframe tbody tr th {\n",
       "        vertical-align: top;\n",
       "    }\n",
       "\n",
       "    .dataframe thead th {\n",
       "        text-align: right;\n",
       "    }\n",
       "</style>\n",
       "<table border=\"1\" class=\"dataframe\">\n",
       "  <thead>\n",
       "    <tr style=\"text-align: right;\">\n",
       "      <th></th>\n",
       "      <th>codCliente</th>\n",
       "      <th>codGiro</th>\n",
       "      <th>codEstab</th>\n",
       "      <th>flagLimaProvEstab</th>\n",
       "      <th>ubigeoEstab</th>\n",
       "      <th>ctdTrx</th>\n",
       "      <th>ratingMonto</th>\n",
       "      <th>month</th>\n",
       "      <th>day</th>\n",
       "      <th>month_day</th>\n",
       "      <th>weekday</th>\n",
       "      <th>IDD</th>\n",
       "    </tr>\n",
       "  </thead>\n",
       "  <tbody>\n",
       "    <tr>\n",
       "      <th>0</th>\n",
       "      <td>7649</td>\n",
       "      <td>138.0</td>\n",
       "      <td>43629</td>\n",
       "      <td>1</td>\n",
       "      <td>176.0</td>\n",
       "      <td>1</td>\n",
       "      <td>0.014072</td>\n",
       "      <td>1</td>\n",
       "      <td>29</td>\n",
       "      <td>129</td>\n",
       "      <td>0</td>\n",
       "      <td>0</td>\n",
       "    </tr>\n",
       "    <tr>\n",
       "      <th>1</th>\n",
       "      <td>24604</td>\n",
       "      <td>75.0</td>\n",
       "      <td>4326</td>\n",
       "      <td>0</td>\n",
       "      <td>81.0</td>\n",
       "      <td>1</td>\n",
       "      <td>0.001667</td>\n",
       "      <td>12</td>\n",
       "      <td>1</td>\n",
       "      <td>1201</td>\n",
       "      <td>4</td>\n",
       "      <td>1</td>\n",
       "    </tr>\n",
       "    <tr>\n",
       "      <th>2</th>\n",
       "      <td>15289</td>\n",
       "      <td>75.0</td>\n",
       "      <td>4326</td>\n",
       "      <td>0</td>\n",
       "      <td>81.0</td>\n",
       "      <td>1</td>\n",
       "      <td>0.000127</td>\n",
       "      <td>6</td>\n",
       "      <td>1</td>\n",
       "      <td>601</td>\n",
       "      <td>4</td>\n",
       "      <td>2</td>\n",
       "    </tr>\n",
       "    <tr>\n",
       "      <th>3</th>\n",
       "      <td>5190</td>\n",
       "      <td>110.0</td>\n",
       "      <td>59776</td>\n",
       "      <td>1</td>\n",
       "      <td>156.0</td>\n",
       "      <td>1</td>\n",
       "      <td>0.001167</td>\n",
       "      <td>9</td>\n",
       "      <td>22</td>\n",
       "      <td>922</td>\n",
       "      <td>5</td>\n",
       "      <td>3</td>\n",
       "    </tr>\n",
       "    <tr>\n",
       "      <th>4</th>\n",
       "      <td>16635</td>\n",
       "      <td>75.0</td>\n",
       "      <td>31043</td>\n",
       "      <td>0</td>\n",
       "      <td>81.0</td>\n",
       "      <td>1</td>\n",
       "      <td>0.047386</td>\n",
       "      <td>5</td>\n",
       "      <td>5</td>\n",
       "      <td>505</td>\n",
       "      <td>5</td>\n",
       "      <td>4</td>\n",
       "    </tr>\n",
       "    <tr>\n",
       "      <th>5</th>\n",
       "      <td>1578</td>\n",
       "      <td>66.0</td>\n",
       "      <td>41706</td>\n",
       "      <td>1</td>\n",
       "      <td>176.0</td>\n",
       "      <td>1</td>\n",
       "      <td>0.019062</td>\n",
       "      <td>8</td>\n",
       "      <td>28</td>\n",
       "      <td>828</td>\n",
       "      <td>1</td>\n",
       "      <td>5</td>\n",
       "    </tr>\n",
       "    <tr>\n",
       "      <th>6</th>\n",
       "      <td>18185</td>\n",
       "      <td>85.0</td>\n",
       "      <td>24590</td>\n",
       "      <td>0</td>\n",
       "      <td>22.0</td>\n",
       "      <td>1</td>\n",
       "      <td>0.001747</td>\n",
       "      <td>7</td>\n",
       "      <td>19</td>\n",
       "      <td>719</td>\n",
       "      <td>3</td>\n",
       "      <td>6</td>\n",
       "    </tr>\n",
       "    <tr>\n",
       "      <th>7</th>\n",
       "      <td>10836</td>\n",
       "      <td>122.0</td>\n",
       "      <td>230</td>\n",
       "      <td>1</td>\n",
       "      <td>143.0</td>\n",
       "      <td>1</td>\n",
       "      <td>0.008692</td>\n",
       "      <td>12</td>\n",
       "      <td>1</td>\n",
       "      <td>1201</td>\n",
       "      <td>4</td>\n",
       "      <td>7</td>\n",
       "    </tr>\n",
       "    <tr>\n",
       "      <th>8</th>\n",
       "      <td>11467</td>\n",
       "      <td>110.0</td>\n",
       "      <td>5561</td>\n",
       "      <td>1</td>\n",
       "      <td>148.0</td>\n",
       "      <td>2</td>\n",
       "      <td>0.011116</td>\n",
       "      <td>7</td>\n",
       "      <td>20</td>\n",
       "      <td>720</td>\n",
       "      <td>4</td>\n",
       "      <td>8</td>\n",
       "    </tr>\n",
       "    <tr>\n",
       "      <th>9</th>\n",
       "      <td>9763</td>\n",
       "      <td>75.0</td>\n",
       "      <td>826</td>\n",
       "      <td>1</td>\n",
       "      <td>171.0</td>\n",
       "      <td>1</td>\n",
       "      <td>0.032054</td>\n",
       "      <td>8</td>\n",
       "      <td>24</td>\n",
       "      <td>824</td>\n",
       "      <td>4</td>\n",
       "      <td>9</td>\n",
       "    </tr>\n",
       "  </tbody>\n",
       "</table>\n",
       "</div>"
      ],
      "text/plain": [
       "   codCliente  codGiro  codEstab  flagLimaProvEstab  ubigeoEstab  ctdTrx  \\\n",
       "0        7649    138.0     43629                  1        176.0       1   \n",
       "1       24604     75.0      4326                  0         81.0       1   \n",
       "2       15289     75.0      4326                  0         81.0       1   \n",
       "3        5190    110.0     59776                  1        156.0       1   \n",
       "4       16635     75.0     31043                  0         81.0       1   \n",
       "5        1578     66.0     41706                  1        176.0       1   \n",
       "6       18185     85.0     24590                  0         22.0       1   \n",
       "7       10836    122.0       230                  1        143.0       1   \n",
       "8       11467    110.0      5561                  1        148.0       2   \n",
       "9        9763     75.0       826                  1        171.0       1   \n",
       "\n",
       "   ratingMonto  month  day  month_day  weekday  IDD  \n",
       "0     0.014072      1   29        129        0    0  \n",
       "1     0.001667     12    1       1201        4    1  \n",
       "2     0.000127      6    1        601        4    2  \n",
       "3     0.001167      9   22        922        5    3  \n",
       "4     0.047386      5    5        505        5    4  \n",
       "5     0.019062      8   28        828        1    5  \n",
       "6     0.001747      7   19        719        3    6  \n",
       "7     0.008692     12    1       1201        4    7  \n",
       "8     0.011116      7   20        720        4    8  \n",
       "9     0.032054      8   24        824        4    9  "
      ]
     },
     "execution_count": 14,
     "metadata": {},
     "output_type": "execute_result"
    }
   ],
   "source": [
    "data['IDD'] = data.index\n",
    "data.head(10)"
   ]
  },
  {
   "cell_type": "code",
   "execution_count": 20,
   "metadata": {
    "collapsed": false
   },
   "outputs": [
    {
     "data": {
      "text/plain": [
       "ctdTrx    0.075877\n",
       "dtype: float64"
      ]
     },
     "execution_count": 20,
     "metadata": {},
     "output_type": "execute_result"
    },
    {
     "data": {
      "image/png": "[encoded data removed]",
      "text/plain": [
       "<matplotlib.figure.Figure at 0x7f35fc2bf898>"
      ]
     },
     "metadata": {},
     "output_type": "display_data"
    }
   ],
   "source": [
    "fig, axes = plt.subplots(nrows=1, ncols=2)\n",
    "data['ctdTrx'].value_counts(dropna=False, normalize=True).plot(ax=axes[0], figsize=(15,3))\n",
    "data['ctdTrx'].value_counts(dropna=False).plot.bar(ax=axes[1])\n",
    "\n",
    "pd.DataFrame(data['ctdTrx']).corrwith(data['ratingMonto'])"
   ]
  },
  {
   "cell_type": "code",
   "execution_count": 47,
   "metadata": {
    "collapsed": false
   },
   "outputs": [
    {
     "data": {
      "text/plain": [
       "<matplotlib.axes._subplots.AxesSubplot at 0x7fa77a598eb8>"
      ]
     },
     "execution_count": 47,
     "metadata": {},
     "output_type": "execute_result"
    },
    {
     "data": {
      "image/png": "[encoded data removed]",
      "text/plain": [
       "<matplotlib.figure.Figure at 0x7fa77a775d30>"
      ]
     },
     "metadata": {},
     "output_type": "display_data"
    }
   ],
   "source": [
    "fig, axes = plt.subplots(nrows=1, ncols=2)\n",
    "data['month'].value_counts(dropna=False, normalize=True).sort_index().plot(ax=axes[0], figsize=(15,3))\n",
    "data['month'].value_counts(dropna=False).sort_index().plot.bar(ax=axes[1])"
   ]
  },
  {
   "cell_type": "code",
   "execution_count": 56,
   "metadata": {
    "collapsed": false
   },
   "outputs": [
    {
     "data": {
      "text/plain": [
       "<matplotlib.axes._subplots.AxesSubplot at 0x7fa779835a20>"
      ]
     },
     "execution_count": 56,
     "metadata": {},
     "output_type": "execute_result"
    },
    {
     "data": {
      "image/png": "[encoded data removed]",
      "text/plain": [
       "<matplotlib.figure.Figure at 0x7fa7798ade48>"
      ]
     },
     "metadata": {},
     "output_type": "display_data"
    }
   ],
   "source": [
    "fig, axes = plt.subplots(nrows=1, ncols=2)\n",
    "data['day'].value_counts(dropna=False, normalize=True, bins=7).sort_index().plot(ax=axes[0], figsize=(15,3))\n",
    "data['day'].value_counts(dropna=False, bins=7).sort_index().plot.bar(ax=axes[1])"
   ]
  },
  {
   "cell_type": "code",
   "execution_count": 59,
   "metadata": {
    "collapsed": false
   },
   "outputs": [
    {
     "data": {
      "text/plain": [
       "<matplotlib.axes._subplots.AxesSubplot at 0x7fa77960f4e0>"
      ]
     },
     "execution_count": 59,
     "metadata": {},
     "output_type": "execute_result"
    },
    {
     "data": {
      "image/png": "[encoded data removed]",
      "text/plain": [
       "<matplotlib.figure.Figure at 0x7fa7796936d8>"
      ]
     },
     "metadata": {},
     "output_type": "display_data"
    }
   ],
   "source": [
    "fig, axes = plt.subplots(nrows=1, ncols=2)\n",
    "data['weekday'].value_counts(dropna=False, normalize=True).sort_index().plot(ax=axes[0], figsize=(15,3))\n",
    "data['weekday'].value_counts(dropna=False).sort_index().plot.bar(ax=axes[1])"
   ]
  },
  {
   "cell_type": "code",
   "execution_count": 62,
   "metadata": {
    "collapsed": false
   },
   "outputs": [
    {
     "data": {
      "text/plain": [
       "0    1-29\n",
       "1    12-1\n",
       "2     6-1\n",
       "3    9-22\n",
       "4     5-5\n",
       "5    8-28\n",
       "6    7-19\n",
       "7    12-1\n",
       "8    7-20\n",
       "9    8-24\n",
       "Name: month_day, dtype: object"
      ]
     },
     "execution_count": 62,
     "metadata": {},
     "output_type": "execute_result"
    }
   ],
   "source": [
    "data['month_day'] = data[['month', 'day']].apply(lambda x: '-'.join(x.astype(str)), axis=1)\n",
    "data['month_day'][:10]"
   ]
  },
  {
   "cell_type": "code",
   "execution_count": 64,
   "metadata": {
    "collapsed": false
   },
   "outputs": [
    {
     "data": {
      "text/plain": [
       "<matplotlib.axes._subplots.AxesSubplot at 0x7fa7733e1898>"
      ]
     },
     "execution_count": 64,
     "metadata": {},
     "output_type": "execute_result"
    },
    {
     "data": {
      "image/png": "[encoded data removed]",
      "text/plain": [
       "<matplotlib.figure.Figure at 0x7fa76ac32320>"
      ]
     },
     "metadata": {},
     "output_type": "display_data"
    }
   ],
   "source": [
    "fig, axes = plt.subplots(nrows=1, ncols=2)\n",
    "data['month_day'].value_counts(dropna=False, normalize=True).sort_index().plot(ax=axes[0], figsize=(15,3))\n",
    "data['month_day'].value_counts(dropna=False).sort_index().plot.bar(ax=axes[1])"
   ]
  },
  {
   "cell_type": "code",
   "execution_count": 17,
   "metadata": {
    "collapsed": false
   },
   "outputs": [
    {
     "data": {
      "text/plain": [
       "1     1499771\n",
       "2       77693\n",
       "3        9724\n",
       "4        2597\n",
       "5         888\n",
       "6         445\n",
       "7         185\n",
       "8         114\n",
       "9          70\n",
       "10         47\n",
       "11         26\n",
       "12         17\n",
       "13         14\n",
       "14          7\n",
       "15          5\n",
       "17          4\n",
       "21          3\n",
       "16          2\n",
       "19          2\n",
       "18          1\n",
       "20          1\n",
       "29          1\n",
       "Name: ctdTrx, dtype: int64"
      ]
     },
     "execution_count": 17,
     "metadata": {},
     "output_type": "execute_result"
    }
   ],
   "source": [
    "data['ctdTrx'].value_counts(dropna=False)"
   ]
  },
  {
   "cell_type": "code",
   "execution_count": 18,
   "metadata": {
    "collapsed": false
   },
   "outputs": [
    {
     "name": "stdout",
     "output_type": "stream",
     "text": [
      "Tamaño de uso actual :  133.57389068603516 MB\n",
      "-> Int 64 Detected\n",
      "     codCliente\n",
      "     codEstab\n",
      "     flagLimaProvEstab\n",
      "     ctdTrx\n",
      "     month\n",
      "     day\n",
      "     month_day\n",
      "     weekday\n",
      "-> Float 64 Detected\n",
      "     codGiro\n",
      "     ubigeoEstab\n",
      "     ratingMonto\n",
      "Tamaño de uso final :  37.94718265533447 MB\n"
     ]
    },
    {
     "data": {
      "text/plain": [
       "codCliente             int16\n",
       "codGiro                int16\n",
       "codEstab               int32\n",
       "flagLimaProvEstab       int8\n",
       "ubigeoEstab            int16\n",
       "ctdTrx                  int8\n",
       "ratingMonto          float64\n",
       "month                   int8\n",
       "day                     int8\n",
       "month_day              int16\n",
       "weekday                 int8\n",
       "dtype: object"
      ]
     },
     "execution_count": 18,
     "metadata": {},
     "output_type": "execute_result"
    }
   ],
   "source": [
    "from utils import *\n",
    "data_prueba = reduce_size_data(data, category=False, default='integer')\n",
    "data_prueba.dtypes"
   ]
  },
  {
   "cell_type": "code",
   "execution_count": 25,
   "metadata": {
    "collapsed": false
   },
   "outputs": [
    {
     "data": {
      "text/plain": [
       "codCliente             int64\n",
       "codGiro              float64\n",
       "codEstab               int64\n",
       "flagLimaProvEstab      int64\n",
       "ubigeoEstab          float64\n",
       "ctdTrx                 int64\n",
       "ratingMonto          float64\n",
       "month                  int64\n",
       "day                    int64\n",
       "month_day              int64\n",
       "weekday                int64\n",
       "dtype: object"
      ]
     },
     "execution_count": 25,
     "metadata": {},
     "output_type": "execute_result"
    }
   ],
   "source": [
    "data_prueba.dtypes"
   ]
  },
  {
   "cell_type": "code",
   "execution_count": 16,
   "metadata": {
    "collapsed": true
   },
   "outputs": [],
   "source": [
    "data.to_csv('data/train_clean_parse_date.csv')"
   ]
  },
  {
   "cell_type": "code",
   "execution_count": 20,
   "metadata": {
    "collapsed": false
   },
   "outputs": [
    {
     "name": "stdout",
     "output_type": "stream",
     "text": [
      "fechaOper (365,)\n",
      "codCliente (30000,)\n",
      "codGiro (223,)\n",
      "codEstab (74339,)\n",
      "flagLimaProvEstab (2,)\n",
      "ubigeoEstab (422,)\n",
      "ctdTrx (22,)\n",
      "ratingMonto (723645,)\n",
      "month (12,)\n",
      "day (31,)\n",
      "year (2,)\n",
      "month_day (365,)\n",
      "weekday (7,)\n"
     ]
    }
   ],
   "source": [
    "for col in data.columns:\n",
    "    print(col, data[col].unique().shape)"
   ]
  },
  {
   "cell_type": "code",
   "execution_count": null,
   "metadata": {
    "collapsed": true
   },
   "outputs": [],
   "source": []
  },
  {
   "cell_type": "code",
   "execution_count": null,
   "metadata": {
    "collapsed": true
   },
   "outputs": [],
   "source": []
  }
 ],
 "metadata": {
  "kernelspec": {
   "display_name": "Python 3",
   "language": "python",
   "name": "python3"
  },
  "language_info": {
   "codemirror_mode": {
    "name": "ipython",
    "version": 3
   },
   "file_extension": ".py",
   "mimetype": "text/x-python",
   "name": "python",
   "nbconvert_exporter": "python",
   "pygments_lexer": "ipython3",
   "version": "3.6.4"
  }
 },
 "nbformat": 4,
 "nbformat_minor": 2
}
