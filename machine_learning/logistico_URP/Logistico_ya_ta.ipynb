{
 "cells": [
  {
   "cell_type": "code",
   "execution_count": 1,
   "metadata": {
    "collapsed": false,
    "scrolled": true
   },
   "outputs": [
    {
     "name": "stderr",
     "output_type": "stream",
     "text": [
      "/home/villacorta/anaconda3/lib/python3.6/site-packages/sklearn/cross_validation.py:41: DeprecationWarning: This module was deprecated in version 0.18 in favor of the model_selection module into which all the refactored classes and functions are moved. Also note that the interface of the new CV iterators are different from that of this module. This module will be removed in 0.20.\n",
      "  \"This module will be removed in 0.20.\", DeprecationWarning)\n"
     ]
    },
    {
     "name": "stdout",
     "output_type": "stream",
     "text": [
      "['4:5', '7:8', '10', '12', '14', '16', '18', '20', '22', '24', '26', '28:29', '44:62', '77', '79', '81', '83', '85:98', '102:105', '107:112', '114:115', '117:119', '126:172', '183:185']\n"
     ]
    }
   ],
   "source": [
    "#Importar librerias\n",
    "from sklearn.cross_validation import train_test_split\n",
    "import numpy as np\n",
    "import matplotlib.pyplot as plt\n",
    "import pandas as pd\n",
    "from sklearn.utils import column_or_1d\n",
    "\n",
    "#Extraccion de la lista de ordenes de cabeceras seleccionadas\n",
    "xlss = pd.read_excel('Process_considerations.xlsx', sheetname='FULL_DATASET_NC', \n",
    "                     header=None, index=False)\n",
    "list_select = xlss.iloc[7,7].replace(\"c(\",\"\").replace(\")\",\"\").split(\",\")\n",
    "print(list_select)"
   ]
  },
  {
   "cell_type": "code",
   "execution_count": 2,
   "metadata": {
    "collapsed": false
   },
   "outputs": [
    {
     "name": "stdout",
     "output_type": "stream",
     "text": [
      "['4', '7', '10', '12', '14', '16', '18', '20', '22', '24', '26', '28', '44', '77', '79', '81', '83', '85', '102', '107', '114', '117', '126', '183']\n"
     ]
    }
   ],
   "source": [
    "#En los casos de ordenes separados por \":\" se toma los primeros\n",
    "list_select = [_.split(\":\")[0] for _ in list_select]\n",
    "print(list_select)"
   ]
  },
  {
   "cell_type": "code",
   "execution_count": 3,
   "metadata": {
    "collapsed": false
   },
   "outputs": [
    {
     "name": "stdout",
     "output_type": "stream",
     "text": [
      "[[1 2 3 4]\n",
      " ['\"ï..MES_CORTE\"' '\"CODDOC\"                 \"' 'CODUNICOCLI\"            \"'\n",
      "  'LINEA_TC\"']\n",
      " [5 6 7 8]\n",
      " ['\"TIPO_FLUJO_TC\"' '\"CODSBS\"' '\"INGRESO_BRUTO\"' '\"EMP_REP_TC_SF\"']\n",
      " [9 10 11 12]\n",
      " ['\"EMP_REP_TC_IBK\"' '\"EMP_REP_PP_SF\"' '\"EMP_REP_PP_IBK\"'\n",
      "  '\"EMP_REP_CONV_SF\"']\n",
      " [13 14 15 16]\n",
      " ['\"EMP_REP_CONV_IBK\"' '\"EMP_REP_VEH_SF\"' '\"EMP_REP_VEH_IBK\"'\n",
      "  '\"EMP_REP_HIP_SF\"']\n",
      " [17 18 19 20]\n",
      " ['\"EMP_REP_HIP_IBK\"' '\"FLG_TC_SF\"' '\"FLG_TC_IBK\"' '\"FLG_PP_SF\"']]\n"
     ]
    }
   ],
   "source": [
    "#Extraccion de las cabeceras seleccionadas segun su numero indicado\n",
    "matriz_head = xlss.iloc[:, range(2,6)].values\n",
    "print(matriz_head[:10])"
   ]
  },
  {
   "cell_type": "code",
   "execution_count": 4,
   "metadata": {
    "collapsed": false
   },
   "outputs": [
    {
     "name": "stdout",
     "output_type": "stream",
     "text": [
      "list_orden:  [1, 2, 3, 4, 5, 6, 7, 8, 9, 10, 11, 12, 13, 14, 15, 16, 17, 18, 19, 20]\n",
      "list_head:  ['\"ï..MES_CORTE\"', '\"CODDOC\"                 \"', 'CODUNICOCLI\"            \"', 'LINEA_TC\"', '\"TIPO_FLUJO_TC\"', '\"CODSBS\"', '\"INGRESO_BRUTO\"', '\"EMP_REP_TC_SF\"', '\"EMP_REP_TC_IBK\"', '\"EMP_REP_PP_SF\"', '\"EMP_REP_PP_IBK\"', '\"EMP_REP_CONV_SF\"', '\"EMP_REP_CONV_IBK\"', '\"EMP_REP_VEH_SF\"', '\"EMP_REP_VEH_IBK\"', '\"EMP_REP_HIP_SF\"', '\"EMP_REP_HIP_IBK\"', '\"FLG_TC_SF\"', '\"FLG_TC_IBK\"', '\"FLG_PP_SF\"']\n"
     ]
    }
   ],
   "source": [
    "list_orden, list_head = [], []\n",
    "for index in range(matriz_head.__len__()):\n",
    "    if index % 2 == 0:\n",
    "        list_orden.extend(matriz_head[index])\n",
    "    else:\n",
    "        list_head.extend(matriz_head[index])\n",
    "del xlss\n",
    "del matriz_head\n",
    "print(\"list_orden: \", list_orden[:20])\n",
    "print(\"list_head: \", list_head[:20])"
   ]
  },
  {
   "cell_type": "code",
   "execution_count": 5,
   "metadata": {
    "collapsed": false
   },
   "outputs": [
    {
     "name": "stdout",
     "output_type": "stream",
     "text": [
      "list_head:  ['ï..MES_CORTE', 'CODDOC                 ', 'CODUNICOCLI            ', 'LINEA_TC', 'TIPO_FLUJO_TC', 'CODSBS', 'INGRESO_BRUTO', 'EMP_REP_TC_SF', 'EMP_REP_TC_IBK', 'EMP_REP_PP_SF', 'EMP_REP_PP_IBK', 'EMP_REP_CONV_SF', 'EMP_REP_CONV_IBK', 'EMP_REP_VEH_SF', 'EMP_REP_VEH_IBK', 'EMP_REP_HIP_SF', 'EMP_REP_HIP_IBK', 'FLG_TC_SF', 'FLG_TC_IBK', 'FLG_PP_SF']\n",
      "list_head_select:  ['LINEA_TC', 'INGRESO_BRUTO', 'EMP_REP_PP_SF', 'EMP_REP_CONV_SF', 'EMP_REP_VEH_SF', 'EMP_REP_HIP_SF', 'FLG_TC_SF', 'FLG_PP_SF', 'FLG_CONV_SF', 'FLG_VEH_SF', 'FLG_HIP_SF', 'FLG_BANCARIZADO', 'SALDO_TC_SF', 'IND_EMP_REP_PP_SF', 'IND_EMP_REP_CONV_SF', 'IND_EMP_REP_VEH_SF', 'IND_EMP_REP_HIP_SF', 'SALDO_TOT_ACT', 'IND_VAR_OFERTA_UM', 'EDAD']\n"
     ]
    }
   ],
   "source": [
    "#Limpio data vacia en la lista de cabeceras\n",
    "list_head = [_.replace('\"','') for _ in list_head if isinstance(_, str)]\n",
    "list_head_select = [list_head[list_orden.index(_)] for _ in list_orden if str(_) in list_select]\n",
    "\n",
    "print(\"list_head: \", list_head[:20])\n",
    "print(\"list_head_select: \", list_head_select[:20])"
   ]
  },
  {
   "cell_type": "code",
   "execution_count": 6,
   "metadata": {
    "collapsed": false
   },
   "outputs": [
    {
     "name": "stdout",
     "output_type": "stream",
     "text": [
      "Cabeceras seleccionadas dentro del CSV\n",
      "['LINEA_TC', 'INGRESO_BRUTO', 'EMP_REP_PP_SF', 'EMP_REP_CONV_SF', 'EMP_REP_VEH_SF', 'EMP_REP_HIP_SF', 'FLG_TC_SF', 'FLG_PP_SF', 'FLG_CONV_SF', 'FLG_VEH_SF', 'FLG_HIP_SF', 'FLG_BANCARIZADO', 'SALDO_TC_SF', 'IND_EMP_REP_PP_SF', 'IND_EMP_REP_CONV_SF', 'IND_EMP_REP_VEH_SF', 'IND_EMP_REP_HIP_SF', 'SALDO_TOT_ACT', 'EDAD', 'CAMP_TOT', 'RECENCIA_CAMP', 'CREC_ENT_REP_TC']\n",
      "//////////////////////////////////////////////////\n"
     ]
    }
   ],
   "source": [
    "#Importar Data Set \n",
    "dataset = pd.read_csv(\"datos_tc_uni.csv\")\n",
    "list_head.clear()\n",
    "list_select.clear()\n",
    "#Importar Data Set con las cabeceras dentro del csv\n",
    "list_head_select = [_ for _ in list_head_select if _ in dataset.loc[0,:].to_dict().keys()]\n",
    "print(\"Cabeceras seleccionadas dentro del CSV\")\n",
    "print(list_head_select)\n",
    "print(\"//////////////////////////////////////////////////\")"
   ]
  },
  {
   "cell_type": "code",
   "execution_count": 7,
   "metadata": {
    "collapsed": false
   },
   "outputs": [
    {
     "name": "stdout",
     "output_type": "stream",
     "text": [
      "<class 'numpy.ndarray'>\n"
     ]
    }
   ],
   "source": [
    "X = dataset.loc[:,list_head_select].values\n",
    "list_head_select.clear()\n",
    "y = dataset.loc[:,[\"TARGET_XF\"]].values\n",
    "\n",
    "print(type(X))"
   ]
  },
  {
   "cell_type": "code",
   "execution_count": 8,
   "metadata": {
    "collapsed": true
   },
   "outputs": [],
   "source": [
    "#Limpiar Data de las columnas del csv\n",
    "list_nan = [\"\", \"NaN\", \"Nan\", \"None\", \"nan\"]\n",
    "def cleann(x):\n",
    "    return x if str(x) not in list_nan else 0\n",
    "\n",
    "cleann = np.vectorize(cleann)\n",
    "X = cleann(X)"
   ]
  },
  {
   "cell_type": "code",
   "execution_count": 9,
   "metadata": {
    "collapsed": false
   },
   "outputs": [
    {
     "name": "stdout",
     "output_type": "stream",
     "text": [
      "Porcentaje de exactitud:  0.762265153024\n"
     ]
    }
   ],
   "source": [
    "#Dividimos nuestra set de Training y Testing\n",
    "X_train, X_test, y_train, y_test=train_test_split(X,y,test_size=0.25, random_state=0)\n",
    "\n",
    "#Transformar a la misma escala\n",
    "from sklearn.preprocessing import StandardScaler\n",
    "sc_X=StandardScaler()\n",
    "X_train = sc_X.fit_transform(X_train.astype(float))\n",
    "X_test = sc_X.transform(X_test.astype(float))\n",
    "\n",
    "#Ajustamos Regresion logistica para el Training set\n",
    "from sklearn.linear_model import LogisticRegression\n",
    "classifier = LogisticRegression(random_state=0)\n",
    "classifier.fit(X_train, y_train.ravel())\n",
    "\n",
    "#Exactitud:\n",
    "print(\"Porcentaje de exactitud: \", classifier.score(X_test, y_test))"
   ]
  },
  {
   "cell_type": "code",
   "execution_count": 10,
   "metadata": {
    "collapsed": false
   },
   "outputs": [
    {
     "name": "stdout",
     "output_type": "stream",
     "text": [
      "Matriz de Confusion: \n",
      "[[10241   803]\n",
      " [ 2778  1241]]\n"
     ]
    }
   ],
   "source": [
    "#Prediction del Test set\n",
    "y_pred = classifier.predict(X_test)\n",
    "y_pred_proba = classifier.predict_proba(X_test)\n",
    "#Construir la Matriz de Confusion\n",
    "from sklearn.metrics import confusion_matrix\n",
    "cm = confusion_matrix(y_test, y_pred)\n",
    "print(\"Matriz de Confusion: \")\n",
    "print(cm)"
   ]
  },
  {
   "cell_type": "code",
   "execution_count": 11,
   "metadata": {
    "collapsed": false
   },
   "outputs": [
    {
     "data": {
      "text/plain": [
       "(15063, 2)"
      ]
     },
     "execution_count": 11,
     "metadata": {},
     "output_type": "execute_result"
    }
   ],
   "source": [
    "y_pred_proba.shape"
   ]
  },
  {
   "cell_type": "code",
   "execution_count": null,
   "metadata": {
    "collapsed": true
   },
   "outputs": [],
   "source": []
  }
 ],
 "metadata": {
  "kernelspec": {
   "display_name": "Python 3",
   "language": "python",
   "name": "python3"
  },
  "language_info": {
   "codemirror_mode": {
    "name": "ipython",
    "version": 3
   },
   "file_extension": ".py",
   "mimetype": "text/x-python",
   "name": "python",
   "nbconvert_exporter": "python",
   "pygments_lexer": "ipython3",
   "version": "3.6.0"
  }
 },
 "nbformat": 4,
 "nbformat_minor": 2
}
