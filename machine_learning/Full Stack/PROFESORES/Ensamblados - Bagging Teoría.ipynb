{
 "cells": [
  {
   "cell_type": "markdown",
   "metadata": {},
   "source": [
    "# <font color=#003d5c>Métodos Ensamblados - Bagging</font>\n",
    "\n",
    "¿Por qué estamos aprendiendo sobre Ensamblados?\n",
    "\n",
    "- Método muy popular para mejorar el rendimiento predictivo de los modelos de aprendizaje automático\n",
    "- Proporciona una base para comprender modelos más sofisticados"
   ]
  },
  {
   "cell_type": "markdown",
   "metadata": {},
   "source": [
    "# <font color=#003d5c>Objetivos de la lección</font>\n",
    "\n",
    "Los estudiantes podrán:\n",
    "\n",
    "- Definir el ensamblaje y sus requisitos\n",
    "- Identificar los dos métodos básicos de ensamblaje\n",
    "- Decidir si el ensamblaje manual es un enfoque útil para un problema dado\n",
    "- Explicar el bagging y cómo se puede aplicar a los árboles de decisión\n",
    "- Explicar cómo se calculan el error **\"out-of-bag\"** y las importancias de las variables en un bagged tree.\n",
    "- Explicar la diferencia entre bagged trees y Random Forests\n",
    "- Construir y ajustar un modelo de Random Forest en scikit-learn\n",
    "- Decidir si un Árbol de Decisión o un Random Forest es mejor modelo para un problema dado."
   ]
  },
  {
   "cell_type": "markdown",
   "metadata": {},
   "source": [
    "# <font color=#003d5c>1. Introducción</font>"
   ]
  },
  {
   "cell_type": "markdown",
   "metadata": {},
   "source": [
    "El aprendizaje ensamblado es un tema ampliamente estudiado en la comunidad de Machine Learning. La idea principal detrás\n",
    "de la metodología de ensamblaje es combinar varios clasificadores base para tener un clasificador que supera a cada uno de ellos.\n",
    "\n",
    "El principio central en el aprendizaje ensamblado es **inducir perturbaciones aleatorias en el procedimiento de aprendizaje para producir varios clasificadores base a partir de un solo conjunto de entrenamiento, y luego combinar los resultados de los clasificadores base para poder realizar la predicción final**. Para inducir las permutaciones aleatorias y, por lo tanto, crear los diferentes clasificadores base, se han propuesto varios métodos, en particular:\n",
    "* Bagging\n",
    "* Pasting\n",
    "* Random Forests \n",
    "* Random Patches  \n",
    "\n",
    "Finalmente, después de que los clasificadores base hayan sido entrenados, generalmente se combinan usando cualquiera de los siguientes métodos:\n",
    "* Mayoría de votos\n",
    "* Votación ponderada  \n",
    "* Stacking"
   ]
  },
  {
   "cell_type": "markdown",
   "metadata": {},
   "source": [
    "## <font color=#003d5c>¿Qué es Ensamblado?</font>\n",
    "\n",
    "** El aprendizaje ensamblado (o \"conjunto\") ** es el proceso de combinar varios modelos predictivos para producir un modelo combinado que es más preciso que cualquier modelo individual.\n",
    "\n",
    "- ** Regresión: ** tomar el promedio de las predicciones\n",
    "- ** Clasificación: ** vote y use la predicción más común, o tome el promedio de las probabilidades pronosticadas\n",
    "\n",
    "** Idea base: ** Si tienen una colección de modelos individualmente imperfectos (e independientes), los errores \"únicos\" hechos por cada modelo probablemente no serán hechos por el resto de los modelos, y por lo tanto los errores se descartarán al promediar los modelos.\n",
    "\n",
    "Hay dos métodos básicos ** para el ensamblado: **\n",
    "\n",
    "- Ensamble manual de sus modelos individuales\n",
    "- Use un modelo que ensamble por usted"
   ]
  },
  {
   "cell_type": "markdown",
   "metadata": {
    "collapsed": true
   },
   "source": [
    "# <font color=#003d5c>2. Ensamblaje Manual</font>\n",
    "\n",
    "¿Qué hace un buen modelo ensamblado manual?\n",
    "\n",
    "- Diferentes tipos de ** modelos **\n",
    "- Diferentes combinaciones de ** funciones **\n",
    "- Diferentes ** parámetros de ajuste **"
   ]
  },
  {
   "cell_type": "markdown",
   "metadata": {},
   "source": [
    "![Machine learning flowchart](https://raw.githubusercontent.com/justmarkham/DAT8/master/notebooks/images/crowdflower_ensembling.jpg)\n",
    "\n",
    "*Esquema de desarrollo de un modelo de Machine learning creado por el [ganador](https://github.com/ChenglongChen/Kaggle_CrowdFlower) de la competencia de Kaggle [CrowdFlower](https://www.kaggle.com/c/crowdflower-search-relevance)*"
   ]
  },
  {
   "cell_type": "code",
   "execution_count": 1,
   "metadata": {
    "collapsed": true
   },
   "outputs": [],
   "source": [
    "# Leer el dataset de entrenamiento\n",
    "\n",
    "# Transformar la variable \"vtype\"\n",
    "\n",
    "\n",
    "# Leer el dataset de test\n",
    "\n",
    "# Transformar la variable \"vtype\"\n"
   ]
  },
  {
   "cell_type": "code",
   "execution_count": 2,
   "metadata": {
    "collapsed": false
   },
   "outputs": [
    {
     "data": {
      "text/html": [
       "<div>\n",
       "<style>\n",
       "    .dataframe thead tr:only-child th {\n",
       "        text-align: right;\n",
       "    }\n",
       "\n",
       "    .dataframe thead th {\n",
       "        text-align: left;\n",
       "    }\n",
       "\n",
       "    .dataframe tbody tr th {\n",
       "        vertical-align: top;\n",
       "    }\n",
       "</style>\n",
       "<table border=\"1\" class=\"dataframe\">\n",
       "  <thead>\n",
       "    <tr style=\"text-align: right;\">\n",
       "      <th></th>\n",
       "      <th>price</th>\n",
       "      <th>year</th>\n",
       "      <th>miles</th>\n",
       "      <th>doors</th>\n",
       "      <th>vtype</th>\n",
       "    </tr>\n",
       "  </thead>\n",
       "  <tbody>\n",
       "    <tr>\n",
       "      <th>0</th>\n",
       "      <td>22000</td>\n",
       "      <td>2012</td>\n",
       "      <td>13000</td>\n",
       "      <td>2</td>\n",
       "      <td>0</td>\n",
       "    </tr>\n",
       "    <tr>\n",
       "      <th>1</th>\n",
       "      <td>14000</td>\n",
       "      <td>2010</td>\n",
       "      <td>30000</td>\n",
       "      <td>2</td>\n",
       "      <td>0</td>\n",
       "    </tr>\n",
       "    <tr>\n",
       "      <th>2</th>\n",
       "      <td>13000</td>\n",
       "      <td>2010</td>\n",
       "      <td>73500</td>\n",
       "      <td>4</td>\n",
       "      <td>0</td>\n",
       "    </tr>\n",
       "    <tr>\n",
       "      <th>3</th>\n",
       "      <td>9500</td>\n",
       "      <td>2009</td>\n",
       "      <td>78000</td>\n",
       "      <td>4</td>\n",
       "      <td>0</td>\n",
       "    </tr>\n",
       "    <tr>\n",
       "      <th>4</th>\n",
       "      <td>9000</td>\n",
       "      <td>2007</td>\n",
       "      <td>47000</td>\n",
       "      <td>4</td>\n",
       "      <td>0</td>\n",
       "    </tr>\n",
       "  </tbody>\n",
       "</table>\n",
       "</div>"
      ],
      "text/plain": [
       "   price  year  miles  doors  vtype\n",
       "0  22000  2012  13000      2      0\n",
       "1  14000  2010  30000      2      0\n",
       "2  13000  2010  73500      4      0\n",
       "3   9500  2009  78000      4      0\n",
       "4   9000  2007  47000      4      0"
      ]
     },
     "execution_count": 2,
     "metadata": {},
     "output_type": "execute_result"
    }
   ],
   "source": [
    "train.head()"
   ]
  },
  {
   "cell_type": "markdown",
   "metadata": {},
   "source": [
    "### Entrenar diferentes modelos"
   ]
  },
  {
   "cell_type": "markdown",
   "metadata": {},
   "source": [
    "En un diccionario, instanciar 4 técnicas de Aprendizaje Supervisado vistos hasta ahora, y que nos podrían ayudar a resolver este problema de regresión:\n",
    "- Regresión Lineal\n",
    "- Árbol de Regresión\n",
    "- Naive Bayes\n",
    "- KNN"
   ]
  },
  {
   "cell_type": "code",
   "execution_count": 3,
   "metadata": {
    "collapsed": true
   },
   "outputs": [],
   "source": []
  },
  {
   "cell_type": "markdown",
   "metadata": {},
   "source": [
    "Definir los predictores"
   ]
  },
  {
   "cell_type": "code",
   "execution_count": 4,
   "metadata": {
    "collapsed": true
   },
   "outputs": [],
   "source": [
    "predictores = ['year', 'miles', 'doors', 'vtype']"
   ]
  },
  {
   "cell_type": "markdown",
   "metadata": {},
   "source": [
    "Definir los datasets de entrenamiento y prueba, y entrenar con cada técnica:"
   ]
  },
  {
   "cell_type": "code",
   "execution_count": 5,
   "metadata": {
    "collapsed": true
   },
   "outputs": [],
   "source": [
    "# Entrenar todos los modelos\n"
   ]
  },
  {
   "cell_type": "markdown",
   "metadata": {},
   "source": [
    "Ahora debemos predecir con los datos de prueba usando cada uno de los 4 modelos entrenados. Para ello definamos un DataFrame con los mismos índices que el DataFrame de Prueba y las columnas con los nombres de las técnicas usadas."
   ]
  },
  {
   "cell_type": "code",
   "execution_count": 6,
   "metadata": {
    "collapsed": true
   },
   "outputs": [],
   "source": []
  },
  {
   "cell_type": "markdown",
   "metadata": {},
   "source": [
    "Usando cada técnica, hay que predecir el precio:"
   ]
  },
  {
   "cell_type": "code",
   "execution_count": 7,
   "metadata": {
    "collapsed": true
   },
   "outputs": [],
   "source": []
  },
  {
   "cell_type": "markdown",
   "metadata": {},
   "source": [
    "Ahora evaluaremos el poder predictivo de cada técnica. Para ello importemos la métrica **mean_squared_error**"
   ]
  },
  {
   "cell_type": "code",
   "execution_count": 8,
   "metadata": {
    "collapsed": true
   },
   "outputs": [],
   "source": []
  },
  {
   "cell_type": "markdown",
   "metadata": {},
   "source": [
    "Usando cada técnica, hay que evaluar el error obtenido por sus predicciones:"
   ]
  },
  {
   "cell_type": "code",
   "execution_count": 9,
   "metadata": {
    "collapsed": false
   },
   "outputs": [
    {
     "name": "stdout",
     "output_type": "stream",
     "text": [
      "lr 2138.35790287\n",
      "dt 1000.0\n",
      "nb 5477.22557505\n",
      "nn 1671.32681823\n"
     ]
    }
   ],
   "source": []
  },
  {
   "cell_type": "markdown",
   "metadata": {},
   "source": [
    "### Evaluar el error de la media de las predicciones"
   ]
  },
  {
   "cell_type": "code",
   "execution_count": 10,
   "metadata": {
    "collapsed": false
   },
   "outputs": [
    {
     "data": {
      "text/plain": [
       "0    3827.293063\n",
       "1    5992.659754\n",
       "2    9856.205190\n",
       "dtype: float64"
      ]
     },
     "execution_count": 10,
     "metadata": {},
     "output_type": "execute_result"
    }
   ],
   "source": []
  },
  {
   "cell_type": "code",
   "execution_count": 11,
   "metadata": {
    "collapsed": false
   },
   "outputs": [
    {
     "data": {
      "text/plain": [
       "1326.6906044686111"
      ]
     },
     "execution_count": 11,
     "metadata": {},
     "output_type": "execute_result"
    }
   ],
   "source": []
  },
  {
   "cell_type": "markdown",
   "metadata": {},
   "source": [
    "¿Podemos utilizar la media ponderada?"
   ]
  },
  {
   "cell_type": "code",
   "execution_count": 12,
   "metadata": {
    "collapsed": true
   },
   "outputs": [],
   "source": []
  },
  {
   "cell_type": "code",
   "execution_count": 13,
   "metadata": {
    "collapsed": false
   },
   "outputs": [
    {
     "data": {
      "text/plain": [
       "679.09619433609419"
      ]
     },
     "execution_count": 13,
     "metadata": {},
     "output_type": "execute_result"
    }
   ],
   "source": []
  },
  {
   "cell_type": "markdown",
   "metadata": {},
   "source": [
    "Podemos hacer combinaciones de pesos"
   ]
  },
  {
   "cell_type": "code",
   "execution_count": 14,
   "metadata": {
    "collapsed": true
   },
   "outputs": [],
   "source": []
  },
  {
   "cell_type": "code",
   "execution_count": 15,
   "metadata": {
    "collapsed": true,
    "scrolled": true
   },
   "outputs": [],
   "source": []
  },
  {
   "cell_type": "code",
   "execution_count": 16,
   "metadata": {
    "collapsed": false
   },
   "outputs": [
    {
     "data": {
      "text/plain": [
       "(2, 4, 1, 3)"
      ]
     },
     "execution_count": 16,
     "metadata": {},
     "output_type": "execute_result"
    }
   ],
   "source": []
  },
  {
   "cell_type": "code",
   "execution_count": 17,
   "metadata": {
    "collapsed": false
   },
   "outputs": [
    {
     "data": {
      "text/plain": [
       "679.09619433609419"
      ]
     },
     "execution_count": 17,
     "metadata": {},
     "output_type": "execute_result"
    }
   ],
   "source": []
  },
  {
   "cell_type": "markdown",
   "metadata": {},
   "source": [
    "## Comparación del ensamblaje manual con el enfoque de un solo modelo\n",
    "\n",
    "\n",
    "**Ventajas del ensamblaje manual:**\n",
    "\n",
    "- Incrementa la precisión predictiva\n",
    "- Fácil de comenzar\n",
    "\n",
    "** Desventajas del ensamblaje manual:**\n",
    "\n",
    "- Disminuye la interpretabilidad\n",
    "- Toma más tiempo para entrenar\n",
    "- Toma más tiempo para predecir\n",
    "- Más complejo para automatizar y mantener"
   ]
  },
  {
   "cell_type": "markdown",
   "metadata": {},
   "source": [
    "# <font color=#003d5c>3. Bagging</font>\n",
    "\n",
    "La principal debilidad de los ** árboles de decisión ** es que no tienden a tener la mejor precisión. Esto se debe en parte a la **alta varianza**, lo que significa que diferentes divisiones en los datos de entrenamiento pueden conducir a árboles muy diferentes.\n",
    "\n",
    "**Bagging** es un procedimiento de propósito general que busca reducir la varianza de una técnica de Machine Learning, pero es particularmente útil para los árboles de decisión. Bagging es la abreviatura de **bootstrap aggregation**, que significa la agregación de muestras bootstrap.\n",
    "\n",
    "Pero ... ¿Qué es una **muestra bootstrap**? Una muestra aleatoria con reemplazo. Veamos un ejemplo:"
   ]
  },
  {
   "cell_type": "code",
   "execution_count": 18,
   "metadata": {
    "collapsed": false
   },
   "outputs": [
    {
     "name": "stdout",
     "output_type": "stream",
     "text": [
      "[ 1  2  3  4  5  6  7  8  9 10 11 12 13 14 15 16 17 18 19 20]\n",
      "[ 6 12 13  9 10 12  6 16  1 17  2 13  8 14  7 19  6 19 12 11]\n"
     ]
    }
   ],
   "source": [
    "# Definimos una semilla para que nos de los mismos valores\n",
    "\n",
    "# Crear un array de 1 x 20\n",
    "\n",
    "\n",
    "# Obtener una muestra aleatoria de tamaño 20 con reemplazo\n"
   ]
  },
  {
   "cell_type": "markdown",
   "metadata": {},
   "source": [
    "**¿Cómo funciona el bagging (para árboles de decisión)? **\n",
    "\n",
    "1. Construir B árboles utilizando B muestras de bootstrap a partir de los datos de entrenamiento.\n",
    "2. Entrenar a cada árbol con su muestra Bootstrap correspondiente y luego predecir con cada uno.\n",
    "3. Combinar las predicciones:\n",
    "     - Promedio de las predicciones para ** árboles de regresión **\n",
    "     - Haz un voto para ** árboles de clasificación **\n",
    "\n",
    "Notas:\n",
    "\n",
    "- ** Cada muestra Bootstrap ** debe ser del mismo tamaño que el conjunto de entrenamiento original.\n",
    "- ** B ** debe ser un valor suficientemente grande para que el error parezca haberse \"estabilizado\". (Tuning)\n",
    "- Los árboles ** crecen en profundidad ** por lo que tienen alta varianza.\n",
    "\n",
    "Bagging aumenta la precisión al **reducir la varianza**, similar a cómo la validación cruzada reduce la varianza asociada con la división entrenamiento/prueba (para estimar el error fuera de muestra)."
   ]
  },
  {
   "cell_type": "code",
   "execution_count": 19,
   "metadata": {
    "collapsed": false
   },
   "outputs": [
    {
     "data": {
      "text/plain": [
       "[array([13,  2, 12,  2,  6,  1,  3, 10, 11,  9,  6,  1,  0,  1]),\n",
       " array([ 9,  0,  0,  9,  3, 13,  4,  0,  0,  4,  1,  7,  3,  2]),\n",
       " array([ 4,  7,  2,  4,  8, 13,  0,  7,  9,  3, 12, 12,  4,  6]),\n",
       " array([ 1,  5,  6, 11,  2,  1, 12,  8,  3, 10,  5,  0, 11,  2]),\n",
       " array([10, 10,  6, 13,  2,  4, 11, 11, 13, 12,  4,  6, 13,  3]),\n",
       " array([10,  0,  6,  4,  7, 11,  6,  7,  1, 11, 10,  5,  7,  9]),\n",
       " array([ 2,  4,  8,  1, 12,  2,  1,  1,  3, 12,  5,  9,  0,  8]),\n",
       " array([11,  1,  6,  3,  3, 11,  5,  9,  7,  9,  2,  3, 11,  3]),\n",
       " array([ 3,  8,  6,  9,  7,  6,  3,  9,  6, 12,  6, 11,  6,  1]),\n",
       " array([13, 10,  3,  4,  3,  1, 13,  0,  5,  8, 13,  6, 11,  8])]"
      ]
     },
     "execution_count": 19,
     "metadata": {},
     "output_type": "execute_result"
    }
   ],
   "source": [
    "# Definimos una semilla para que nos de los mismos valores\n",
    "\n",
    "\n",
    "\n",
    "\n",
    "# Crear 10 muestras bootstrap (seran usandos para elegir los registros del DataFrame)\n"
   ]
  },
  {
   "cell_type": "code",
   "execution_count": 20,
   "metadata": {
    "collapsed": false
   },
   "outputs": [
    {
     "data": {
      "text/html": [
       "<div>\n",
       "<style>\n",
       "    .dataframe thead tr:only-child th {\n",
       "        text-align: right;\n",
       "    }\n",
       "\n",
       "    .dataframe thead th {\n",
       "        text-align: left;\n",
       "    }\n",
       "\n",
       "    .dataframe tbody tr th {\n",
       "        vertical-align: top;\n",
       "    }\n",
       "</style>\n",
       "<table border=\"1\" class=\"dataframe\">\n",
       "  <thead>\n",
       "    <tr style=\"text-align: right;\">\n",
       "      <th></th>\n",
       "      <th>price</th>\n",
       "      <th>year</th>\n",
       "      <th>miles</th>\n",
       "      <th>doors</th>\n",
       "      <th>vtype</th>\n",
       "    </tr>\n",
       "  </thead>\n",
       "  <tbody>\n",
       "    <tr>\n",
       "      <th>13</th>\n",
       "      <td>1300</td>\n",
       "      <td>1997</td>\n",
       "      <td>138000</td>\n",
       "      <td>4</td>\n",
       "      <td>0</td>\n",
       "    </tr>\n",
       "    <tr>\n",
       "      <th>2</th>\n",
       "      <td>13000</td>\n",
       "      <td>2010</td>\n",
       "      <td>73500</td>\n",
       "      <td>4</td>\n",
       "      <td>0</td>\n",
       "    </tr>\n",
       "    <tr>\n",
       "      <th>12</th>\n",
       "      <td>1800</td>\n",
       "      <td>1999</td>\n",
       "      <td>163000</td>\n",
       "      <td>2</td>\n",
       "      <td>1</td>\n",
       "    </tr>\n",
       "    <tr>\n",
       "      <th>2</th>\n",
       "      <td>13000</td>\n",
       "      <td>2010</td>\n",
       "      <td>73500</td>\n",
       "      <td>4</td>\n",
       "      <td>0</td>\n",
       "    </tr>\n",
       "    <tr>\n",
       "      <th>6</th>\n",
       "      <td>3000</td>\n",
       "      <td>2004</td>\n",
       "      <td>177000</td>\n",
       "      <td>4</td>\n",
       "      <td>0</td>\n",
       "    </tr>\n",
       "    <tr>\n",
       "      <th>1</th>\n",
       "      <td>14000</td>\n",
       "      <td>2010</td>\n",
       "      <td>30000</td>\n",
       "      <td>2</td>\n",
       "      <td>0</td>\n",
       "    </tr>\n",
       "    <tr>\n",
       "      <th>3</th>\n",
       "      <td>9500</td>\n",
       "      <td>2009</td>\n",
       "      <td>78000</td>\n",
       "      <td>4</td>\n",
       "      <td>0</td>\n",
       "    </tr>\n",
       "    <tr>\n",
       "      <th>10</th>\n",
       "      <td>2500</td>\n",
       "      <td>2003</td>\n",
       "      <td>190000</td>\n",
       "      <td>2</td>\n",
       "      <td>1</td>\n",
       "    </tr>\n",
       "    <tr>\n",
       "      <th>11</th>\n",
       "      <td>5000</td>\n",
       "      <td>2001</td>\n",
       "      <td>62000</td>\n",
       "      <td>4</td>\n",
       "      <td>0</td>\n",
       "    </tr>\n",
       "    <tr>\n",
       "      <th>9</th>\n",
       "      <td>1900</td>\n",
       "      <td>2003</td>\n",
       "      <td>160000</td>\n",
       "      <td>4</td>\n",
       "      <td>0</td>\n",
       "    </tr>\n",
       "    <tr>\n",
       "      <th>6</th>\n",
       "      <td>3000</td>\n",
       "      <td>2004</td>\n",
       "      <td>177000</td>\n",
       "      <td>4</td>\n",
       "      <td>0</td>\n",
       "    </tr>\n",
       "    <tr>\n",
       "      <th>1</th>\n",
       "      <td>14000</td>\n",
       "      <td>2010</td>\n",
       "      <td>30000</td>\n",
       "      <td>2</td>\n",
       "      <td>0</td>\n",
       "    </tr>\n",
       "    <tr>\n",
       "      <th>0</th>\n",
       "      <td>22000</td>\n",
       "      <td>2012</td>\n",
       "      <td>13000</td>\n",
       "      <td>2</td>\n",
       "      <td>0</td>\n",
       "    </tr>\n",
       "    <tr>\n",
       "      <th>1</th>\n",
       "      <td>14000</td>\n",
       "      <td>2010</td>\n",
       "      <td>30000</td>\n",
       "      <td>2</td>\n",
       "      <td>0</td>\n",
       "    </tr>\n",
       "  </tbody>\n",
       "</table>\n",
       "</div>"
      ],
      "text/plain": [
       "    price  year   miles  doors  vtype\n",
       "13   1300  1997  138000      4      0\n",
       "2   13000  2010   73500      4      0\n",
       "12   1800  1999  163000      2      1\n",
       "2   13000  2010   73500      4      0\n",
       "6    3000  2004  177000      4      0\n",
       "1   14000  2010   30000      2      0\n",
       "3    9500  2009   78000      4      0\n",
       "10   2500  2003  190000      2      1\n",
       "11   5000  2001   62000      4      0\n",
       "9    1900  2003  160000      4      0\n",
       "6    3000  2004  177000      4      0\n",
       "1   14000  2010   30000      2      0\n",
       "0   22000  2012   13000      2      0\n",
       "1   14000  2010   30000      2      0"
      ]
     },
     "execution_count": 20,
     "metadata": {},
     "output_type": "execute_result"
    }
   ],
   "source": [
    "# Mostrar las filas para el primer árbol de decisión\n"
   ]
  },
  {
   "cell_type": "markdown",
   "metadata": {},
   "source": [
    "Construir un árbol de decisión por cada muestra"
   ]
  },
  {
   "cell_type": "code",
   "execution_count": 21,
   "metadata": {
    "collapsed": true
   },
   "outputs": [],
   "source": [
    "\n",
    "\n",
    "# Instanciar el árbol de regresión\n",
    "\n",
    "\n",
    "# Crear un DataFrame para almacenar las predicciones del precio por cada árbol\n",
    "\n",
    "\n",
    "# Entrenar un árbol por cada muestra bootstrap y hacer predicciones en el dataset de prueba\n",
    "\n",
    "\n",
    "\n",
    "\n"
   ]
  },
  {
   "cell_type": "code",
   "execution_count": 22,
   "metadata": {
    "collapsed": false
   },
   "outputs": [
    {
     "data": {
      "text/html": [
       "<div>\n",
       "<style>\n",
       "    .dataframe thead tr:only-child th {\n",
       "        text-align: right;\n",
       "    }\n",
       "\n",
       "    .dataframe thead th {\n",
       "        text-align: left;\n",
       "    }\n",
       "\n",
       "    .dataframe tbody tr th {\n",
       "        vertical-align: top;\n",
       "    }\n",
       "</style>\n",
       "<table border=\"1\" class=\"dataframe\">\n",
       "  <thead>\n",
       "    <tr style=\"text-align: right;\">\n",
       "      <th></th>\n",
       "      <th>0</th>\n",
       "      <th>1</th>\n",
       "      <th>2</th>\n",
       "      <th>3</th>\n",
       "      <th>4</th>\n",
       "      <th>5</th>\n",
       "      <th>6</th>\n",
       "      <th>7</th>\n",
       "      <th>8</th>\n",
       "      <th>9</th>\n",
       "    </tr>\n",
       "  </thead>\n",
       "  <tbody>\n",
       "    <tr>\n",
       "      <th>0</th>\n",
       "      <td>1300.0</td>\n",
       "      <td>1300.0</td>\n",
       "      <td>3000.0</td>\n",
       "      <td>4000.0</td>\n",
       "      <td>1300.0</td>\n",
       "      <td>4000.0</td>\n",
       "      <td>4000.0</td>\n",
       "      <td>4000.0</td>\n",
       "      <td>3000.0</td>\n",
       "      <td>4000.0</td>\n",
       "    </tr>\n",
       "    <tr>\n",
       "      <th>1</th>\n",
       "      <td>5000.0</td>\n",
       "      <td>1300.0</td>\n",
       "      <td>3000.0</td>\n",
       "      <td>5000.0</td>\n",
       "      <td>5000.0</td>\n",
       "      <td>5000.0</td>\n",
       "      <td>4000.0</td>\n",
       "      <td>5000.0</td>\n",
       "      <td>5000.0</td>\n",
       "      <td>5000.0</td>\n",
       "    </tr>\n",
       "    <tr>\n",
       "      <th>2</th>\n",
       "      <td>14000.0</td>\n",
       "      <td>13000.0</td>\n",
       "      <td>13000.0</td>\n",
       "      <td>13000.0</td>\n",
       "      <td>13000.0</td>\n",
       "      <td>14000.0</td>\n",
       "      <td>13000.0</td>\n",
       "      <td>13000.0</td>\n",
       "      <td>9500.0</td>\n",
       "      <td>9000.0</td>\n",
       "    </tr>\n",
       "  </tbody>\n",
       "</table>\n",
       "</div>"
      ],
      "text/plain": [
       "         0        1        2        3        4        5        6        7  \\\n",
       "0   1300.0   1300.0   3000.0   4000.0   1300.0   4000.0   4000.0   4000.0   \n",
       "1   5000.0   1300.0   3000.0   5000.0   5000.0   5000.0   4000.0   5000.0   \n",
       "2  14000.0  13000.0  13000.0  13000.0  13000.0  14000.0  13000.0  13000.0   \n",
       "\n",
       "        8       9  \n",
       "0  3000.0  4000.0  \n",
       "1  5000.0  5000.0  \n",
       "2  9500.0  9000.0  "
      ]
     },
     "execution_count": 22,
     "metadata": {},
     "output_type": "execute_result"
    }
   ],
   "source": []
  },
  {
   "cell_type": "markdown",
   "metadata": {},
   "source": [
    "Resultados de cada Árbol"
   ]
  },
  {
   "cell_type": "code",
   "execution_count": 23,
   "metadata": {
    "collapsed": false
   },
   "outputs": [
    {
     "name": "stdout",
     "output_type": "stream",
     "text": [
      "0 1621.72747402\n",
      "1 2942.78779391\n",
      "2 1825.74185835\n",
      "3 1000.0\n",
      "4 1276.71453348\n",
      "5 1414.21356237\n",
      "6 1414.21356237\n",
      "7 1000.0\n",
      "8 1554.56317551\n",
      "9 1914.85421551\n"
     ]
    }
   ],
   "source": [
    "\n"
   ]
  },
  {
   "cell_type": "markdown",
   "metadata": {},
   "source": [
    "Resultados del Ensamblado"
   ]
  },
  {
   "cell_type": "code",
   "execution_count": 24,
   "metadata": {
    "collapsed": false
   },
   "outputs": [
    {
     "data": {
      "text/plain": [
       "0     2990.0\n",
       "1     4330.0\n",
       "2    12450.0\n",
       "dtype: float64"
      ]
     },
     "execution_count": 24,
     "metadata": {},
     "output_type": "execute_result"
    }
   ],
   "source": []
  },
  {
   "cell_type": "code",
   "execution_count": 25,
   "metadata": {
    "collapsed": false
   },
   "outputs": [
    {
     "data": {
      "text/plain": [
       "998.58232843700307"
      ]
     },
     "execution_count": 25,
     "metadata": {},
     "output_type": "execute_result"
    }
   ],
   "source": []
  },
  {
   "cell_type": "markdown",
   "metadata": {},
   "source": [
    "## Árboles de Decisión con Bagging en scikit-learn (with B=500)"
   ]
  },
  {
   "cell_type": "code",
   "execution_count": 26,
   "metadata": {
    "collapsed": true
   },
   "outputs": [],
   "source": [
    "# Definir los conjuntos de entrenamiento y test\n",
    "\n",
    "\n",
    "\n"
   ]
  },
  {
   "cell_type": "code",
   "execution_count": 27,
   "metadata": {
    "collapsed": true
   },
   "outputs": [],
   "source": [
    "# Entrenar un BaggingRegressor usando DecisionTreeRegressor como \"estimador base\"\n",
    "\n"
   ]
  },
  {
   "cell_type": "code",
   "execution_count": 28,
   "metadata": {
    "collapsed": false
   },
   "outputs": [
    {
     "data": {
      "text/plain": [
       "array([  3344.2,   5395. ,  12902. ])"
      ]
     },
     "execution_count": 28,
     "metadata": {},
     "output_type": "execute_result"
    }
   ],
   "source": [
    "# Ajustar y predecir\n",
    "\n",
    "\n"
   ]
  },
  {
   "cell_type": "code",
   "execution_count": 29,
   "metadata": {
    "collapsed": false
   },
   "outputs": [
    {
     "data": {
      "text/plain": [
       "657.80003040437748"
      ]
     },
     "execution_count": 29,
     "metadata": {},
     "output_type": "execute_result"
    }
   ],
   "source": [
    "# calcular el RMSE\n"
   ]
  },
  {
   "cell_type": "markdown",
   "metadata": {},
   "source": [
    "## Estimando el error out-of-sample\n",
    "\n",
    "Para los modelos que usan bagging, el error out-of-sample se puede estimar sin usar la **división en entrenamiento/prueba** o la **validación cruzada**\n",
    "\n",
    "En promedio cada bagged tree usa aproximadamente **dos tercios** (~66%) de las observaciones. Para cada árbol, las **observaciones restantes** se llaman observaciones \"out-of-bag\"."
   ]
  },
  {
   "cell_type": "code",
   "execution_count": 30,
   "metadata": {
    "collapsed": false
   },
   "outputs": [
    {
     "data": {
      "text/plain": [
       "array([13,  2, 12,  2,  6,  1,  3, 10, 11,  9,  6,  1,  0,  1])"
      ]
     },
     "execution_count": 30,
     "metadata": {},
     "output_type": "execute_result"
    }
   ],
   "source": [
    "# Mostrar la primera muestra bootstrap\n"
   ]
  },
  {
   "cell_type": "code",
   "execution_count": 31,
   "metadata": {
    "collapsed": false
   },
   "outputs": [
    {
     "name": "stdout",
     "output_type": "stream",
     "text": [
      "{0, 1, 2, 3, 6, 9, 10, 11, 12, 13}\n",
      "71.42857142857143\n",
      "{0, 1, 2, 3, 4, 7, 9, 13}\n",
      "57.142857142857146\n",
      "{0, 2, 3, 4, 6, 7, 8, 9, 12, 13}\n",
      "71.42857142857143\n",
      "{0, 1, 2, 3, 5, 6, 8, 10, 11, 12}\n",
      "71.42857142857143\n",
      "{2, 3, 4, 6, 10, 11, 12, 13}\n",
      "57.142857142857146\n",
      "{0, 1, 4, 5, 6, 7, 9, 10, 11}\n",
      "64.28571428571429\n",
      "{0, 1, 2, 3, 4, 5, 8, 9, 12}\n",
      "64.28571428571429\n",
      "{1, 2, 3, 5, 6, 7, 9, 11}\n",
      "57.142857142857146\n",
      "{1, 3, 6, 7, 8, 9, 11, 12}\n",
      "57.142857142857146\n",
      "{0, 1, 3, 4, 5, 6, 8, 10, 11, 13}\n",
      "71.42857142857143\n"
     ]
    },
    {
     "data": {
      "text/plain": [
       "64.28571428571429"
      ]
     },
     "execution_count": 31,
     "metadata": {},
     "output_type": "execute_result"
    }
   ],
   "source": [
    "# Mostar las observaciones \"en-bolsa\" por cada muestra\n",
    "porcentaje_average=0\n",
    "for sample in samples:\n",
    "    print(set(sample))\n",
    "    print((len(set(sample))*100.0)/n_samples)\n",
    "    porcentaje_average+=(len(set(sample))*100.0)/n_samples\n",
    "porcentaje_average/len(samples)"
   ]
  },
  {
   "cell_type": "code",
   "execution_count": 32,
   "metadata": {
    "collapsed": false
   },
   "outputs": [
    {
     "name": "stdout",
     "output_type": "stream",
     "text": [
      "[4, 5, 7, 8]\n",
      "[5, 6, 8, 10, 11, 12]\n",
      "[1, 5, 10, 11]\n",
      "[4, 7, 9, 13]\n",
      "[0, 1, 5, 7, 8, 9]\n",
      "[2, 3, 8, 12, 13]\n",
      "[6, 7, 10, 11, 13]\n",
      "[0, 4, 8, 10, 12, 13]\n",
      "[0, 2, 4, 5, 10, 13]\n",
      "[2, 7, 9, 12]\n"
     ]
    }
   ],
   "source": [
    "# Mostrar las observaciones \"fuera-de-bolsa\" por cada muestra\n",
    "for sample in samples:\n",
    "    print(sorted(set(range(n_samples)) - set(sample)))"
   ]
  },
  {
   "cell_type": "markdown",
   "metadata": {},
   "source": [
    "Cómo calcular el error **\"out-of-bag\"**:\n",
    "\n",
    "1. Para cada observación en los datos de entrenamiento, prediga su valor de respuesta usando ** solo ** los árboles en los que esa observación fue un out-of-bag. Promedia esas predicciones (para la regresión) o toma un voto (para la clasificación).\n",
    "2. Compare todas las predicciones con los valores de respuesta reales para calcular el error out-of-bag error.\n",
    "\n",
    "Cuando B es suficientemente grande, el  **out-of-bag error**  es una estimación precisa de **out-of-sample error**."
   ]
  },
  {
   "cell_type": "code",
   "execution_count": 33,
   "metadata": {
    "collapsed": false
   },
   "outputs": [
    {
     "data": {
      "text/plain": [
       "0.79869551339899825"
      ]
     },
     "execution_count": 33,
     "metadata": {},
     "output_type": "execute_result"
    }
   ],
   "source": [
    "# Calcular el score R2 \"fuera de bolsa\" (Coeficiente de Determinacion) para B=500\n",
    "bagreg.oob_score_"
   ]
  },
  {
   "cell_type": "markdown",
   "metadata": {},
   "source": [
    "Este coeficiente determina la calidad del modelo para replicar los resultados. Para ver las muestras Bootstrap:"
   ]
  },
  {
   "cell_type": "code",
   "execution_count": 34,
   "metadata": {
    "collapsed": false
   },
   "outputs": [
    {
     "data": {
      "text/html": [
       "<div>\n",
       "<style>\n",
       "    .dataframe thead tr:only-child th {\n",
       "        text-align: right;\n",
       "    }\n",
       "\n",
       "    .dataframe thead th {\n",
       "        text-align: left;\n",
       "    }\n",
       "\n",
       "    .dataframe tbody tr th {\n",
       "        vertical-align: top;\n",
       "    }\n",
       "</style>\n",
       "<table border=\"1\" class=\"dataframe\">\n",
       "  <thead>\n",
       "    <tr style=\"text-align: right;\">\n",
       "      <th></th>\n",
       "      <th>year</th>\n",
       "      <th>miles</th>\n",
       "      <th>doors</th>\n",
       "      <th>vtype</th>\n",
       "    </tr>\n",
       "  </thead>\n",
       "  <tbody>\n",
       "    <tr>\n",
       "      <th>0</th>\n",
       "      <td>2012</td>\n",
       "      <td>13000</td>\n",
       "      <td>2</td>\n",
       "      <td>0</td>\n",
       "    </tr>\n",
       "    <tr>\n",
       "      <th>3</th>\n",
       "      <td>2009</td>\n",
       "      <td>78000</td>\n",
       "      <td>4</td>\n",
       "      <td>0</td>\n",
       "    </tr>\n",
       "    <tr>\n",
       "      <th>5</th>\n",
       "      <td>2006</td>\n",
       "      <td>124000</td>\n",
       "      <td>2</td>\n",
       "      <td>0</td>\n",
       "    </tr>\n",
       "    <tr>\n",
       "      <th>8</th>\n",
       "      <td>2003</td>\n",
       "      <td>138000</td>\n",
       "      <td>2</td>\n",
       "      <td>0</td>\n",
       "    </tr>\n",
       "  </tbody>\n",
       "</table>\n",
       "</div>"
      ],
      "text/plain": [
       "   year   miles  doors  vtype\n",
       "0  2012   13000      2      0\n",
       "3  2009   78000      4      0\n",
       "5  2006  124000      2      0\n",
       "8  2003  138000      2      0"
      ]
     },
     "execution_count": 34,
     "metadata": {},
     "output_type": "execute_result"
    }
   ],
   "source": [
    "X_train.loc[~bagreg.estimators_samples_[0]]"
   ]
  },
  {
   "cell_type": "code",
   "execution_count": 35,
   "metadata": {
    "collapsed": true
   },
   "outputs": [],
   "source": [
    "X_train['index'] = X_train.index"
   ]
  },
  {
   "cell_type": "code",
   "execution_count": 36,
   "metadata": {
    "collapsed": false,
    "scrolled": true
   },
   "outputs": [
    {
     "name": "stdout",
     "output_type": "stream",
     "text": [
      "Registro #0\n",
      "Registro #1\n",
      "Registro #2\n",
      "Registro #3\n",
      "Registro #4\n",
      "Registro #5\n",
      "Registro #6\n",
      "Registro #7\n",
      "Registro #8\n",
      "Registro #9\n",
      "Registro #10\n",
      "Registro #11\n",
      "Registro #12\n",
      "Registro #13\n"
     ]
    }
   ],
   "source": [
    "dRowPred = {}\n",
    "for i in range(X_train.shape[0]):\n",
    "    print(\"Registro #{0}\".format(i))\n",
    "    dRowPred[i] = []\n",
    "    for j in range(500):\n",
    "        if i in X_train.loc[~bagreg.estimators_samples_[j], 'index'].unique().tolist():\n",
    "            dRowPred[i].append(bagreg.estimators_[j].predict(X_train.loc[[i], predictores])[0])\n",
    "            #print(bagreg.estimators_[j].predict(X_train.loc[[i], predictores])[0])"
   ]
  },
  {
   "cell_type": "code",
   "execution_count": 37,
   "metadata": {
    "collapsed": true
   },
   "outputs": [],
   "source": [
    "dRowAvgPred = []\n",
    "for i in dRowPred.keys():\n",
    "    dRowAvgPred.append({'index':i ,'pred': np.mean(dRowPred[i])})"
   ]
  },
  {
   "cell_type": "code",
   "execution_count": 38,
   "metadata": {
    "collapsed": true
   },
   "outputs": [],
   "source": [
    "from sklearn.metrics import r2_score"
   ]
  },
  {
   "cell_type": "code",
   "execution_count": 39,
   "metadata": {
    "collapsed": false
   },
   "outputs": [
    {
     "data": {
      "text/plain": [
       "0.79869551339899825"
      ]
     },
     "execution_count": 39,
     "metadata": {},
     "output_type": "execute_result"
    }
   ],
   "source": [
    "r2_score(y_train, pd.DataFrame(dRowAvgPred)['pred'])"
   ]
  },
  {
   "cell_type": "code",
   "execution_count": 40,
   "metadata": {
    "collapsed": false
   },
   "outputs": [
    {
     "data": {
      "text/plain": [
       "2663.7438399091916"
      ]
     },
     "execution_count": 40,
     "metadata": {},
     "output_type": "execute_result"
    }
   ],
   "source": [
    "np.sqrt(mean_squared_error(y_train, pd.DataFrame(dRowAvgPred)['pred']))"
   ]
  },
  {
   "cell_type": "markdown",
   "metadata": {},
   "source": [
    "## Estimar la importancia de las características\n",
    "\n",
    "Usar Bagging aumenta **la precisión predictiva**, pero disminuye la **interpretabilidad del modelo** porque ya no es posible visualizar el árbol para comprender la importancia de cada característica.\n",
    "\n",
    "Sin embargo, aún podemos obtener un resumen general de las **importancias de la variables** de los modelos con bagging:\n",
    "\n",
    "- **Bagged regression trees:** calcula la cantidad total de **MSE** que se reduce debido a divisiones sobre una característica dada, promediada sobre todos los árboles.\n",
    "- **Bagged classification trees:** calcula la cantidad total del **índice de Gini** que disminuye debido a las divisiones sobre una característica determinada, promediada en todos los árboles."
   ]
  },
  {
   "cell_type": "markdown",
   "metadata": {},
   "source": [
    "# <font color=#003d5c>4. Random Forests</font>\n",
    "\n",
    "Random Forests es una **ligera variación de árboles con bagging** que tiene un rendimiento aún mejor:\n",
    "\n",
    "- Exactamente como el bagging, creamos un conjunto de árboles de decisión utilizando muestras bootstrap del conjunto de entrenamiento.\n",
    "- Sin embargo, al construir cada árbol, cada vez que se considera una división, se elige una **muestra aleatoria de m características** como candidatos para dividir del **conjunto completo de características p**. La división solo permite usar **una de esas m características**.\n",
    "    - Se elige una nueva muestra aleatoria de características para ** cada árbol en cada división individual **.\n",
    "    - Para ** clasificación **, se elige m típicamente como la raíz cuadrada de p.\n",
    "    - Para ** regresión **, se elige m típicamente entre p/3 y p.\n",
    "\n",
    "¿Cuál es el motivo?\n",
    "- Supongamos que hay ** una característica muy fuerte ** en el conjunto de datos. Cuando se usan árboles con bagging, la mayoría de los árboles usarán esa característica como la división superior, lo que resulta en un conjunto de árboles similares **altamente correlacionados**.\n",
    "- Promediar cantidades altamente correlacionadas no reduce significativamente la varianza (que es el objetivo total del bagging).\n",
    "-  Al omitir aleatoriamente las características candidatas de cada división, **Random Forests \"decorrelaciona\" los árboles**, de modo que el proceso de promediado puede reducir la varianza del modelo resultante."
   ]
  },
  {
   "cell_type": "markdown",
   "metadata": {},
   "source": [
    "# <font color=#003d5c>5. Construir y afinar (tuning) Árboles de Decisiones y  Random Forests</font>\n",
    "\n",
    "- Datos de clientes de un Banco (variables sociodemograficas, de comportamiento)\n",
    "- Cada observación representa un cliente\n",
    "- ** Objetivo: ** Predecir la aceptación de un crédito hipotecario"
   ]
  },
  {
   "cell_type": "code",
   "execution_count": 41,
   "metadata": {
    "collapsed": true
   },
   "outputs": [],
   "source": [
    "# Lectura del dataset\n",
    "df = pd.read_csv('DS_Credito Hipotecario.csv')\n",
    "\n",
    "df['SEXO'].fillna(df['SEXO'].mode()[0], inplace=True)\n",
    "df['FLAG_CASADO'].fillna(df['FLAG_CASADO'].mode()[0], inplace=True)\n",
    "df['NRO_DEPENDIENTES'].fillna(df['NRO_DEPENDIENTES'].mode()[0], inplace=True)\n",
    "df['FLAG_TRAB_INDEP'].fillna(df['FLAG_TRAB_INDEP'].mode()[0], inplace=True)\n",
    "df['INGRESOS_COSOLICITANTE'].fillna(df['INGRESOS_COSOLICITANTE'].mean(), inplace=True)\n",
    "df['MONTO_PRESTAMO_MILES'].fillna(df['MONTO_PRESTAMO_MILES'].mean(), inplace=True)\n",
    "df['PLAZO_PRESTAMO_MESES'].fillna(df['PLAZO_PRESTAMO_MESES'].mean(), inplace=True)\n",
    "df['FLAG_HISTORIAL_CREDITICIO'].fillna(df['FLAG_HISTORIAL_CREDITICIO'].mode()[0], inplace=True)\n",
    "\n",
    "df['SEXO'] = df['SEXO'].map({'Male': 0, 'Female': 1})\n",
    "df['FLAG_CASADO'] = df['FLAG_CASADO'].map({'No': 0, 'Yes': 1})\n",
    "df['EDUCACION'] = df['EDUCACION'].map({'Not Graduate': 0, 'Graduate': 1})\n",
    "df['FLAG_TRAB_INDEP'] = df['FLAG_TRAB_INDEP'].map({'No': 0, 'Yes': 1})\n",
    "df['FLAG_HISTORIAL_CREDITICIO'] = df['FLAG_HISTORIAL_CREDITICIO'].map({'Malo': 0, 'Bueno': 1})\n",
    "df = pd.concat([df, pd.get_dummies(df['TIPO_ZONA'], prefix = 'TIPO_ZONA', drop_first = True)], axis=1)\n",
    "df = pd.concat([df, pd.get_dummies(df['NRO_DEPENDIENTES'], prefix = 'NRO_DEPENDIENTES', drop_first = True)], axis=1)\n",
    "del df['TIPO_ZONA']\n",
    "del df['NRO_DEPENDIENTES']\n",
    "df['FLAG_CRED_HIPO'] = df['FLAG_CRED_HIPO'].map({'Y': 1, 'N': 0})"
   ]
  },
  {
   "cell_type": "code",
   "execution_count": 42,
   "metadata": {
    "collapsed": true
   },
   "outputs": [],
   "source": [
    "# Definir X e Y\n",
    "predictores = ['SEXO', 'FLAG_CASADO', 'EDUCACION', 'FLAG_TRAB_INDEP', 'INGRESOS_SOLICITANTE', 'INGRESOS_COSOLICITANTE',\n",
    "                'MONTO_PRESTAMO_MILES', 'PLAZO_PRESTAMO_MESES','FLAG_HISTORIAL_CREDITICIO', 'TIPO_ZONA_Semiurban',\n",
    "                'TIPO_ZONA_Urban', 'NRO_DEPENDIENTES_1', 'NRO_DEPENDIENTES_2','NRO_DEPENDIENTES_3+']\n",
    "X = df[predictores]\n",
    "y = df.FLAG_CRED_HIPO"
   ]
  },
  {
   "cell_type": "markdown",
   "metadata": {},
   "source": [
    "## Predecir el Crédito Hipotecario con un árbol de decisión\n",
    "\n",
    "Encuentre el mejor ** max_depth ** para un árbol de decisión usando la validación cruzada:"
   ]
  },
  {
   "cell_type": "code",
   "execution_count": 43,
   "metadata": {
    "collapsed": false,
    "scrolled": true
   },
   "outputs": [
    {
     "name": "stderr",
     "output_type": "stream",
     "text": [
      "C:\\Users\\S73984\\AppData\\Local\\Continuum\\anaconda3\\lib\\site-packages\\sklearn\\cross_validation.py:41: DeprecationWarning: This module was deprecated in version 0.18 in favor of the model_selection module into which all the refactored classes and functions are moved. Also note that the interface of the new CV iterators are different from that of this module. This module will be removed in 0.20.\n",
      "  \"This module will be removed in 0.20.\", DeprecationWarning)\n"
     ]
    }
   ],
   "source": [
    "from sklearn.tree import DecisionTreeClassifier\n",
    "\n",
    "# Lista de valores para \"max_depth\"\n",
    "max_depth_range = range(1, 21)\n",
    "\n",
    "# Definir un lista para almacenar los promedios de los Auc por cada valor de \"max_depth\"\n",
    "auc_scores = []\n",
    "\n",
    "# Usa una validación cruzada de 10 folds con cada valor del \"max_depth\"\n",
    "from sklearn.cross_validation import cross_val_score\n",
    "for depth in max_depth_range:\n",
    "    treecla = DecisionTreeClassifier(max_depth=depth, random_state=1)\n",
    "    auc_score = cross_val_score(treecla, X, y, cv=10, scoring='roc_auc')\n",
    "    auc_scores.append(np.mean(auc_score))"
   ]
  },
  {
   "cell_type": "code",
   "execution_count": 44,
   "metadata": {
    "collapsed": true
   },
   "outputs": [],
   "source": [
    "%matplotlib inline\n",
    "import matplotlib.pyplot as plt\n",
    "#plt.style.use('fivethirtyeight')"
   ]
  },
  {
   "cell_type": "code",
   "execution_count": 45,
   "metadata": {
    "collapsed": false
   },
   "outputs": [
    {
     "data": {
      "text/plain": [
       "Text(0,0.5,'AUC')"
      ]
     },
     "execution_count": 45,
     "metadata": {},
     "output_type": "execute_result"
    },
    {
     "data": {
      "image/png": "[encoded data removed]",
      "text/plain": [
       "<matplotlib.figure.Figure at 0xd13d128>"
      ]
     },
     "metadata": {},
     "output_type": "display_data"
    }
   ],
   "source": [
    "# Graficar max_depth (eje x) versus AUC (eje y)\n",
    "plt.plot(max_depth_range, auc_scores)\n",
    "plt.xlabel('max_depth')\n",
    "plt.ylabel('AUC')"
   ]
  },
  {
   "cell_type": "code",
   "execution_count": 46,
   "metadata": {
    "collapsed": false
   },
   "outputs": [
    {
     "data": {
      "text/plain": [
       "(0.70785364574226273, 3)"
      ]
     },
     "execution_count": 46,
     "metadata": {},
     "output_type": "execute_result"
    }
   ],
   "source": [
    "# Mostra el mejor AUC y el correspondiente \"max_depth\"\n",
    "sorted(zip(auc_scores, max_depth_range), reverse=True)[0]"
   ]
  },
  {
   "cell_type": "code",
   "execution_count": 47,
   "metadata": {
    "collapsed": false
   },
   "outputs": [
    {
     "data": {
      "text/plain": [
       "DecisionTreeClassifier(class_weight=None, criterion='gini', max_depth=3,\n",
       "            max_features=None, max_leaf_nodes=None,\n",
       "            min_impurity_decrease=0.0, min_impurity_split=None,\n",
       "            min_samples_leaf=1, min_samples_split=2,\n",
       "            min_weight_fraction_leaf=0.0, presort=False, random_state=1,\n",
       "            splitter='best')"
      ]
     },
     "execution_count": 47,
     "metadata": {},
     "output_type": "execute_result"
    }
   ],
   "source": [
    "# max_depth=3 fue el mejor, por lo que hay que entrenar un arbol usando ese valor de hiperparametro\n",
    "treecla = DecisionTreeClassifier(max_depth=3, random_state=1)\n",
    "treecla.fit(X, y)"
   ]
  },
  {
   "cell_type": "code",
   "execution_count": 48,
   "metadata": {
    "collapsed": false,
    "scrolled": true
   },
   "outputs": [
    {
     "data": {
      "text/html": [
       "<div>\n",
       "<style>\n",
       "    .dataframe thead tr:only-child th {\n",
       "        text-align: right;\n",
       "    }\n",
       "\n",
       "    .dataframe thead th {\n",
       "        text-align: left;\n",
       "    }\n",
       "\n",
       "    .dataframe tbody tr th {\n",
       "        vertical-align: top;\n",
       "    }\n",
       "</style>\n",
       "<table border=\"1\" class=\"dataframe\">\n",
       "  <thead>\n",
       "    <tr style=\"text-align: right;\">\n",
       "      <th></th>\n",
       "      <th>importancia</th>\n",
       "      <th>predictor</th>\n",
       "    </tr>\n",
       "  </thead>\n",
       "  <tbody>\n",
       "    <tr>\n",
       "      <th>8</th>\n",
       "      <td>0.887584</td>\n",
       "      <td>FLAG_HISTORIAL_CREDITICIO</td>\n",
       "    </tr>\n",
       "    <tr>\n",
       "      <th>5</th>\n",
       "      <td>0.049299</td>\n",
       "      <td>INGRESOS_COSOLICITANTE</td>\n",
       "    </tr>\n",
       "    <tr>\n",
       "      <th>9</th>\n",
       "      <td>0.043354</td>\n",
       "      <td>TIPO_ZONA_Semiurban</td>\n",
       "    </tr>\n",
       "    <tr>\n",
       "      <th>6</th>\n",
       "      <td>0.019762</td>\n",
       "      <td>MONTO_PRESTAMO_MILES</td>\n",
       "    </tr>\n",
       "    <tr>\n",
       "      <th>0</th>\n",
       "      <td>0.000000</td>\n",
       "      <td>SEXO</td>\n",
       "    </tr>\n",
       "    <tr>\n",
       "      <th>1</th>\n",
       "      <td>0.000000</td>\n",
       "      <td>FLAG_CASADO</td>\n",
       "    </tr>\n",
       "    <tr>\n",
       "      <th>2</th>\n",
       "      <td>0.000000</td>\n",
       "      <td>EDUCACION</td>\n",
       "    </tr>\n",
       "    <tr>\n",
       "      <th>3</th>\n",
       "      <td>0.000000</td>\n",
       "      <td>FLAG_TRAB_INDEP</td>\n",
       "    </tr>\n",
       "    <tr>\n",
       "      <th>4</th>\n",
       "      <td>0.000000</td>\n",
       "      <td>INGRESOS_SOLICITANTE</td>\n",
       "    </tr>\n",
       "    <tr>\n",
       "      <th>7</th>\n",
       "      <td>0.000000</td>\n",
       "      <td>PLAZO_PRESTAMO_MESES</td>\n",
       "    </tr>\n",
       "    <tr>\n",
       "      <th>10</th>\n",
       "      <td>0.000000</td>\n",
       "      <td>TIPO_ZONA_Urban</td>\n",
       "    </tr>\n",
       "    <tr>\n",
       "      <th>11</th>\n",
       "      <td>0.000000</td>\n",
       "      <td>NRO_DEPENDIENTES_1</td>\n",
       "    </tr>\n",
       "    <tr>\n",
       "      <th>12</th>\n",
       "      <td>0.000000</td>\n",
       "      <td>NRO_DEPENDIENTES_2</td>\n",
       "    </tr>\n",
       "    <tr>\n",
       "      <th>13</th>\n",
       "      <td>0.000000</td>\n",
       "      <td>NRO_DEPENDIENTES_3+</td>\n",
       "    </tr>\n",
       "  </tbody>\n",
       "</table>\n",
       "</div>"
      ],
      "text/plain": [
       "    importancia                  predictor\n",
       "8      0.887584  FLAG_HISTORIAL_CREDITICIO\n",
       "5      0.049299     INGRESOS_COSOLICITANTE\n",
       "9      0.043354        TIPO_ZONA_Semiurban\n",
       "6      0.019762       MONTO_PRESTAMO_MILES\n",
       "0      0.000000                       SEXO\n",
       "1      0.000000                FLAG_CASADO\n",
       "2      0.000000                  EDUCACION\n",
       "3      0.000000            FLAG_TRAB_INDEP\n",
       "4      0.000000       INGRESOS_SOLICITANTE\n",
       "7      0.000000       PLAZO_PRESTAMO_MESES\n",
       "10     0.000000            TIPO_ZONA_Urban\n",
       "11     0.000000         NRO_DEPENDIENTES_1\n",
       "12     0.000000         NRO_DEPENDIENTES_2\n",
       "13     0.000000        NRO_DEPENDIENTES_3+"
      ]
     },
     "execution_count": 48,
     "metadata": {},
     "output_type": "execute_result"
    }
   ],
   "source": [
    "# Calcular la importancia de variables\n",
    "pd.DataFrame({'predictor':predictores, 'importancia':treecla.feature_importances_}).sort_values('importancia', ascending=False)"
   ]
  },
  {
   "cell_type": "markdown",
   "metadata": {},
   "source": [
    "## Predecir el Crédito Hipotecario con Random Forest"
   ]
  },
  {
   "cell_type": "code",
   "execution_count": 49,
   "metadata": {
    "collapsed": false
   },
   "outputs": [
    {
     "data": {
      "text/plain": [
       "RandomForestClassifier(bootstrap=True, class_weight=None, criterion='gini',\n",
       "            max_depth=None, max_features='auto', max_leaf_nodes=None,\n",
       "            min_impurity_decrease=0.0, min_impurity_split=None,\n",
       "            min_samples_leaf=1, min_samples_split=2,\n",
       "            min_weight_fraction_leaf=0.0, n_estimators=10, n_jobs=1,\n",
       "            oob_score=False, random_state=None, verbose=0,\n",
       "            warm_start=False)"
      ]
     },
     "execution_count": 49,
     "metadata": {},
     "output_type": "execute_result"
    }
   ],
   "source": [
    "\n",
    "\n"
   ]
  },
  {
   "cell_type": "markdown",
   "metadata": {},
   "source": [
    "### Tuning n_estimators\n",
    "\n",
    "Un hiperparámetro importante es **n_estimators**, que es la cantidad de árboles que se deben entrenar. Debe ser un valor lo suficientemente grande como para que el error parezca haberse \"estabilizado\"."
   ]
  },
  {
   "cell_type": "code",
   "execution_count": 50,
   "metadata": {
    "collapsed": true
   },
   "outputs": [],
   "source": [
    "# Listar los valores a probar\n",
    "\n",
    "\n",
    "# Definir un lista para almacenar los promedios de los Auc por cada valor de \"n_estimators\"\n",
    "\n",
    "\n",
    "# Usa una validación cruzada de 5 folds con cada valor del \"n_estimators\"\n",
    "\n",
    "\n",
    "\n"
   ]
  },
  {
   "cell_type": "code",
   "execution_count": 51,
   "metadata": {
    "collapsed": false
   },
   "outputs": [
    {
     "data": {
      "text/plain": [
       "Text(0,0.5,'AUC')"
      ]
     },
     "execution_count": 51,
     "metadata": {},
     "output_type": "execute_result"
    },
    {
     "data": {
      "image/png": "[encoded data removed]",
      "text/plain": [
       "<matplotlib.figure.Figure at 0xd1f4d68>"
      ]
     },
     "metadata": {},
     "output_type": "display_data"
    }
   ],
   "source": [
    "# Graficar n_estimators (eje x) versus AUC (eje y)\n",
    "plt.plot(estimator_range, AUC_scores)\n",
    "plt.xlabel('n_estimators')\n",
    "plt.ylabel('AUC')"
   ]
  },
  {
   "cell_type": "code",
   "execution_count": 52,
   "metadata": {
    "collapsed": false
   },
   "outputs": [
    {
     "data": {
      "text/plain": [
       "(0.74925251477109067, 340)"
      ]
     },
     "execution_count": 52,
     "metadata": {},
     "output_type": "execute_result"
    }
   ],
   "source": [
    "# Mostrar el mejor AUC y su correpondiente \"n_estimators\"\n"
   ]
  },
  {
   "cell_type": "markdown",
   "metadata": {},
   "source": [
    "### Tuning max_features\n",
    "\n",
    "El otro parámetro de ajuste importante es ** max_features **, que es el número de características que se deben considerar en cada división."
   ]
  },
  {
   "cell_type": "code",
   "execution_count": 53,
   "metadata": {
    "collapsed": true
   },
   "outputs": [],
   "source": [
    "# Listar los valores para \"max_features\"\n",
    "\n",
    "\n",
    "# Definir un lista para almacenar los promedios de los Auc por cada valor de \"max_features\"\n",
    "\n",
    "\n",
    "# Use una validación cruzada de 10 folds para cada valor de \"max_features\"\n",
    "\n",
    "\n",
    "\n"
   ]
  },
  {
   "cell_type": "code",
   "execution_count": 55,
   "metadata": {
    "collapsed": false
   },
   "outputs": [
    {
     "data": {
      "text/plain": [
       "Text(0,0.5,'AUC')"
      ]
     },
     "execution_count": 55,
     "metadata": {},
     "output_type": "execute_result"
    },
    {
     "data": {
      "image/png": "[encoded data removed]",
      "text/plain": [
       "<matplotlib.figure.Figure at 0xd273748>"
      ]
     },
     "metadata": {},
     "output_type": "display_data"
    }
   ],
   "source": [
    "# Graficar max_features (eje x) versus AUC (eje y)\n",
    "plt.plot(feature_range, AUC_scores)\n",
    "plt.xlabel('max_features')\n",
    "plt.ylabel('AUC')"
   ]
  },
  {
   "cell_type": "code",
   "execution_count": 56,
   "metadata": {
    "collapsed": false
   },
   "outputs": [
    {
     "data": {
      "text/plain": [
       "(0.76554103281459462, 6)"
      ]
     },
     "execution_count": 56,
     "metadata": {},
     "output_type": "execute_result"
    }
   ],
   "source": [
    "# Mostrar el mejor AUC y su correpondiente \"max_features\"\n"
   ]
  },
  {
   "cell_type": "markdown",
   "metadata": {},
   "source": [
    "### Ajustando un Random Forest con los mejores parámetros"
   ]
  },
  {
   "cell_type": "code",
   "execution_count": 57,
   "metadata": {
    "collapsed": false
   },
   "outputs": [
    {
     "data": {
      "text/plain": [
       "RandomForestClassifier(bootstrap=True, class_weight=None, criterion='gini',\n",
       "            max_depth=None, max_features=6, max_leaf_nodes=None,\n",
       "            min_impurity_decrease=0.0, min_impurity_split=None,\n",
       "            min_samples_leaf=1, min_samples_split=2,\n",
       "            min_weight_fraction_leaf=0.0, n_estimators=60, n_jobs=1,\n",
       "            oob_score=True, random_state=1, verbose=0, warm_start=False)"
      ]
     },
     "execution_count": 57,
     "metadata": {},
     "output_type": "execute_result"
    }
   ],
   "source": [
    "\n",
    "\n"
   ]
  },
  {
   "cell_type": "code",
   "execution_count": 58,
   "metadata": {
    "collapsed": false
   },
   "outputs": [
    {
     "data": {
      "text/html": [
       "<div>\n",
       "<style>\n",
       "    .dataframe thead tr:only-child th {\n",
       "        text-align: right;\n",
       "    }\n",
       "\n",
       "    .dataframe thead th {\n",
       "        text-align: left;\n",
       "    }\n",
       "\n",
       "    .dataframe tbody tr th {\n",
       "        vertical-align: top;\n",
       "    }\n",
       "</style>\n",
       "<table border=\"1\" class=\"dataframe\">\n",
       "  <thead>\n",
       "    <tr style=\"text-align: right;\">\n",
       "      <th></th>\n",
       "      <th>feature</th>\n",
       "      <th>importance</th>\n",
       "    </tr>\n",
       "  </thead>\n",
       "  <tbody>\n",
       "    <tr>\n",
       "      <th>8</th>\n",
       "      <td>FLAG_HISTORIAL_CREDITICIO</td>\n",
       "      <td>0.276053</td>\n",
       "    </tr>\n",
       "    <tr>\n",
       "      <th>4</th>\n",
       "      <td>INGRESOS_SOLICITANTE</td>\n",
       "      <td>0.202521</td>\n",
       "    </tr>\n",
       "    <tr>\n",
       "      <th>6</th>\n",
       "      <td>MONTO_PRESTAMO_MILES</td>\n",
       "      <td>0.177731</td>\n",
       "    </tr>\n",
       "    <tr>\n",
       "      <th>5</th>\n",
       "      <td>INGRESOS_COSOLICITANTE</td>\n",
       "      <td>0.124366</td>\n",
       "    </tr>\n",
       "    <tr>\n",
       "      <th>7</th>\n",
       "      <td>PLAZO_PRESTAMO_MESES</td>\n",
       "      <td>0.040976</td>\n",
       "    </tr>\n",
       "    <tr>\n",
       "      <th>2</th>\n",
       "      <td>EDUCACION</td>\n",
       "      <td>0.026562</td>\n",
       "    </tr>\n",
       "    <tr>\n",
       "      <th>1</th>\n",
       "      <td>FLAG_CASADO</td>\n",
       "      <td>0.023847</td>\n",
       "    </tr>\n",
       "    <tr>\n",
       "      <th>9</th>\n",
       "      <td>TIPO_ZONA_Semiurban</td>\n",
       "      <td>0.023518</td>\n",
       "    </tr>\n",
       "    <tr>\n",
       "      <th>11</th>\n",
       "      <td>NRO_DEPENDIENTES_1</td>\n",
       "      <td>0.021701</td>\n",
       "    </tr>\n",
       "    <tr>\n",
       "      <th>10</th>\n",
       "      <td>TIPO_ZONA_Urban</td>\n",
       "      <td>0.019988</td>\n",
       "    </tr>\n",
       "    <tr>\n",
       "      <th>3</th>\n",
       "      <td>FLAG_TRAB_INDEP</td>\n",
       "      <td>0.018643</td>\n",
       "    </tr>\n",
       "    <tr>\n",
       "      <th>0</th>\n",
       "      <td>SEXO</td>\n",
       "      <td>0.018252</td>\n",
       "    </tr>\n",
       "    <tr>\n",
       "      <th>12</th>\n",
       "      <td>NRO_DEPENDIENTES_2</td>\n",
       "      <td>0.013119</td>\n",
       "    </tr>\n",
       "    <tr>\n",
       "      <th>13</th>\n",
       "      <td>NRO_DEPENDIENTES_3+</td>\n",
       "      <td>0.012724</td>\n",
       "    </tr>\n",
       "  </tbody>\n",
       "</table>\n",
       "</div>"
      ],
      "text/plain": [
       "                      feature  importance\n",
       "8   FLAG_HISTORIAL_CREDITICIO    0.276053\n",
       "4        INGRESOS_SOLICITANTE    0.202521\n",
       "6        MONTO_PRESTAMO_MILES    0.177731\n",
       "5      INGRESOS_COSOLICITANTE    0.124366\n",
       "7        PLAZO_PRESTAMO_MESES    0.040976\n",
       "2                   EDUCACION    0.026562\n",
       "1                 FLAG_CASADO    0.023847\n",
       "9         TIPO_ZONA_Semiurban    0.023518\n",
       "11         NRO_DEPENDIENTES_1    0.021701\n",
       "10            TIPO_ZONA_Urban    0.019988\n",
       "3             FLAG_TRAB_INDEP    0.018643\n",
       "0                        SEXO    0.018252\n",
       "12         NRO_DEPENDIENTES_2    0.013119\n",
       "13        NRO_DEPENDIENTES_3+    0.012724"
      ]
     },
     "execution_count": 58,
     "metadata": {},
     "output_type": "execute_result"
    }
   ],
   "source": [
    "# Calcular la importancia de variables\n"
   ]
  },
  {
   "cell_type": "markdown",
   "metadata": {},
   "source": [
    "## Comparando Random Forests con Árboles de Decisiones\n",
    "\n",
    "**Ventajas de Random Forests:**\n",
    "\n",
    "- El rendimiento es competitivo con los mejores métodos de aprendizaje supervisado\n",
    "- Proporciona una estimación más confiable de la importancia de las características (features)\n",
    "- Le permite estimar el error fuera de muestra sin usar entrenamiento / prueba dividida o validación cruzada\n",
    "\n",
    "**Desventajas de Random Forests:**\n",
    "\n",
    "- Menos interpretable\n",
    "- Más lento para entrenar\n",
    "- Más lento para predecir"
   ]
  }
 ],
 "metadata": {
  "kernelspec": {
   "display_name": "Python 3",
   "language": "python",
   "name": "python3"
  },
  "language_info": {
   "codemirror_mode": {
    "name": "ipython",
    "version": 3
   },
   "file_extension": ".py",
   "mimetype": "text/x-python",
   "name": "python",
   "nbconvert_exporter": "python",
   "pygments_lexer": "ipython3",
   "version": "3.6.4"
  }
 },
 "nbformat": 4,
 "nbformat_minor": 1
}
