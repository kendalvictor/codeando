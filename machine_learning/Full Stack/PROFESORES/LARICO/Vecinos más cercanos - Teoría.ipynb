{
 "cells": [
  {
   "cell_type": "markdown",
   "metadata": {},
   "source": [
    "# <font color=#003d5c>Vecinos más cercanos (KNN)</font>"
   ]
  },
  {
   "cell_type": "markdown",
   "metadata": {},
   "source": [
    "Cuando se requiere una predicción para una instancia de datos no vistos, el algoritmo KNN buscará en el conjunto de datos de entrenamiento las k instancias más similares. El atributo de predicción de las instancias más similares se resume y se devuelve como la predicción para la instancia no vista.\n",
    "\n",
    "La medida de similitud depende del tipo de datos. Para datos de valor real, se puede usar la **distancia euclidiana**. Se pueden usar otros tipos de datos, como los datos categóricos o binarios, donde la medida puede ser la **distancia de Hamming**.\n",
    "\n",
    "En el caso de problemas de regresión, se puede devolver el **promedio del atributo predicho**; en el caso de la clasificación, **la clase más prevalente (moda)**.\n",
    "\n",
    "## <font color=#003d5c>Cómo trabaja k-Nearest Neighbors</font>\n",
    "\n",
    "Es un algoritmo de aprendizaje competitivo, porque internamente utiliza la competencia entre los elementos del modelo (instancias de datos) para tomar una decisión predictiva. La medida de similitud objetivo entre las instancias de datos hace que cada instancia de datos compita para \"ganar\" o sea la más similar a una instancia de datos no vista dada y contribuya a una predicción.\n",
    "\n",
    "El aprendizaje lento se refiere al hecho de que el algoritmo no crea un modelo hasta el momento en que se requiere una predicción. Es flojo porque solo funciona en el último segundo. Esto tiene el beneficio de incluir solo datos relevantes para los datos no vistos, llamados modelos localizados. Una desventaja es que puede ser computacionalmente costoso repetir búsquedas iguales o similares en conjuntos de datos de entrenamiento más grandes.\n",
    "\n",
    "Finalmente, kNN es poderoso porque no asume nada sobre los datos, salvo que una medida de distancia se puede calcular de manera consistente entre dos instancias. Como tal, se llama no paramétrico o no lineal ya que no asume una forma funcional.\n",
    "\n",
    "## <font color=#003d5c>Ejemplo:</font>"
   ]
  },
  {
   "cell_type": "code",
   "execution_count": 1,
   "metadata": {},
   "outputs": [],
   "source": []
  },
  {
   "cell_type": "code",
   "execution_count": 2,
   "metadata": {},
   "outputs": [],
   "source": []
  },
  {
   "cell_type": "code",
   "execution_count": 3,
   "metadata": {},
   "outputs": [
    {
     "data": {
      "text/html": [
       "<div>\n",
       "<style>\n",
       "    .dataframe thead tr:only-child th {\n",
       "        text-align: right;\n",
       "    }\n",
       "\n",
       "    .dataframe thead th {\n",
       "        text-align: left;\n",
       "    }\n",
       "\n",
       "    .dataframe tbody tr th {\n",
       "        vertical-align: top;\n",
       "    }\n",
       "</style>\n",
       "<table border=\"1\" class=\"dataframe\">\n",
       "  <thead>\n",
       "    <tr style=\"text-align: right;\">\n",
       "      <th></th>\n",
       "      <th>ID</th>\n",
       "      <th>SEXO</th>\n",
       "      <th>FLAG_CASADO</th>\n",
       "      <th>NRO_DEPENDIENTES</th>\n",
       "      <th>EDUCACION</th>\n",
       "      <th>FLAG_TRAB_INDEP</th>\n",
       "      <th>INGRESOS_SOLICITANTE</th>\n",
       "      <th>INGRESOS_COSOLICITANTE</th>\n",
       "      <th>MONTO_PRESTAMO_MILES</th>\n",
       "      <th>PLAZO_PRESTAMO_MESES</th>\n",
       "      <th>FLAG_HISTORIAL_CREDITICIO</th>\n",
       "      <th>TIPO_ZONA</th>\n",
       "      <th>FLAG_CRED_HIPO</th>\n",
       "    </tr>\n",
       "  </thead>\n",
       "  <tbody>\n",
       "    <tr>\n",
       "      <th>0</th>\n",
       "      <td>LP001002</td>\n",
       "      <td>Male</td>\n",
       "      <td>No</td>\n",
       "      <td>0</td>\n",
       "      <td>Graduate</td>\n",
       "      <td>No</td>\n",
       "      <td>5849</td>\n",
       "      <td>0.0</td>\n",
       "      <td>NaN</td>\n",
       "      <td>360.0</td>\n",
       "      <td>Bueno</td>\n",
       "      <td>Urban</td>\n",
       "      <td>Y</td>\n",
       "    </tr>\n",
       "    <tr>\n",
       "      <th>1</th>\n",
       "      <td>LP001003</td>\n",
       "      <td>Male</td>\n",
       "      <td>Yes</td>\n",
       "      <td>1</td>\n",
       "      <td>Graduate</td>\n",
       "      <td>No</td>\n",
       "      <td>4583</td>\n",
       "      <td>1508.0</td>\n",
       "      <td>128.0</td>\n",
       "      <td>360.0</td>\n",
       "      <td>Bueno</td>\n",
       "      <td>Rural</td>\n",
       "      <td>N</td>\n",
       "    </tr>\n",
       "    <tr>\n",
       "      <th>2</th>\n",
       "      <td>LP001005</td>\n",
       "      <td>Male</td>\n",
       "      <td>Yes</td>\n",
       "      <td>0</td>\n",
       "      <td>Graduate</td>\n",
       "      <td>Yes</td>\n",
       "      <td>3000</td>\n",
       "      <td>0.0</td>\n",
       "      <td>66.0</td>\n",
       "      <td>360.0</td>\n",
       "      <td>Bueno</td>\n",
       "      <td>Urban</td>\n",
       "      <td>Y</td>\n",
       "    </tr>\n",
       "    <tr>\n",
       "      <th>3</th>\n",
       "      <td>LP001006</td>\n",
       "      <td>Male</td>\n",
       "      <td>Yes</td>\n",
       "      <td>0</td>\n",
       "      <td>Not Graduate</td>\n",
       "      <td>No</td>\n",
       "      <td>2583</td>\n",
       "      <td>2358.0</td>\n",
       "      <td>120.0</td>\n",
       "      <td>360.0</td>\n",
       "      <td>Bueno</td>\n",
       "      <td>Urban</td>\n",
       "      <td>Y</td>\n",
       "    </tr>\n",
       "    <tr>\n",
       "      <th>4</th>\n",
       "      <td>LP001008</td>\n",
       "      <td>Male</td>\n",
       "      <td>No</td>\n",
       "      <td>0</td>\n",
       "      <td>Graduate</td>\n",
       "      <td>No</td>\n",
       "      <td>6000</td>\n",
       "      <td>0.0</td>\n",
       "      <td>141.0</td>\n",
       "      <td>360.0</td>\n",
       "      <td>Bueno</td>\n",
       "      <td>Urban</td>\n",
       "      <td>Y</td>\n",
       "    </tr>\n",
       "  </tbody>\n",
       "</table>\n",
       "</div>"
      ],
      "text/plain": [
       "         ID  SEXO FLAG_CASADO NRO_DEPENDIENTES     EDUCACION FLAG_TRAB_INDEP  \\\n",
       "0  LP001002  Male          No                0      Graduate              No   \n",
       "1  LP001003  Male         Yes                1      Graduate              No   \n",
       "2  LP001005  Male         Yes                0      Graduate             Yes   \n",
       "3  LP001006  Male         Yes                0  Not Graduate              No   \n",
       "4  LP001008  Male          No                0      Graduate              No   \n",
       "\n",
       "   INGRESOS_SOLICITANTE  INGRESOS_COSOLICITANTE  MONTO_PRESTAMO_MILES  \\\n",
       "0                  5849                     0.0                   NaN   \n",
       "1                  4583                  1508.0                 128.0   \n",
       "2                  3000                     0.0                  66.0   \n",
       "3                  2583                  2358.0                 120.0   \n",
       "4                  6000                     0.0                 141.0   \n",
       "\n",
       "   PLAZO_PRESTAMO_MESES FLAG_HISTORIAL_CREDITICIO TIPO_ZONA FLAG_CRED_HIPO  \n",
       "0                 360.0                     Bueno     Urban              Y  \n",
       "1                 360.0                     Bueno     Rural              N  \n",
       "2                 360.0                     Bueno     Urban              Y  \n",
       "3                 360.0                     Bueno     Urban              Y  \n",
       "4                 360.0                     Bueno     Urban              Y  "
      ]
     },
     "execution_count": 3,
     "metadata": {},
     "output_type": "execute_result"
    }
   ],
   "source": []
  },
  {
   "cell_type": "markdown",
   "metadata": {},
   "source": [
    "Importar y configurar la librería de gráfica **matplotlib**"
   ]
  },
  {
   "cell_type": "code",
   "execution_count": 4,
   "metadata": {},
   "outputs": [],
   "source": [
    "import matplotlib.pyplot as plt\n",
    "plt.rcParams['figure.figsize'] = (6, 4)\n",
    "plt.rcParams['font.size'] = 14\n",
    "from matplotlib.colors import ListedColormap\n",
    "cmap_bold = ListedColormap(['#FF0000', '#0000FF'])\n",
    "%matplotlib inline"
   ]
  },
  {
   "cell_type": "markdown",
   "metadata": {},
   "source": [
    "Transformemos la variable target a un valor entero"
   ]
  },
  {
   "cell_type": "code",
   "execution_count": 5,
   "metadata": {},
   "outputs": [],
   "source": []
  },
  {
   "cell_type": "markdown",
   "metadata": {},
   "source": [
    "Crear un gráfico de dispersión de INGRESOS_SOLICITANTE vs MONTO_PRESTAMO_MILES por FLAG_CRED_HIPO"
   ]
  },
  {
   "cell_type": "code",
   "execution_count": 6,
   "metadata": {
    "scrolled": true
   },
   "outputs": [
    {
     "data": {
      "text/plain": [
       "<matplotlib.axes._subplots.AxesSubplot at 0xa0f6198>"
      ]
     },
     "execution_count": 6,
     "metadata": {},
     "output_type": "execute_result"
    },
    {
     "data": {
      "image/png": "[encoded data removed]",
      "text/plain": [
       "<matplotlib.figure.Figure at 0x9937668>"
      ]
     },
     "metadata": {},
     "output_type": "display_data"
    }
   ],
   "source": [
    "df.plot(kind='scatter', x='INGRESOS_SOLICITANTE', y='MONTO_PRESTAMO_MILES', c='FLAG_CRED_HIPO', colormap=cmap_bold)"
   ]
  },
  {
   "cell_type": "markdown",
   "metadata": {},
   "source": [
    "Crear un gráfico de dispersión de INGRESOS_SOLICITANTE vs PLAZO_PRESTAMO_MESES por FLAG_CRED_HIPO"
   ]
  },
  {
   "cell_type": "code",
   "execution_count": 7,
   "metadata": {},
   "outputs": [
    {
     "data": {
      "text/plain": [
       "<matplotlib.axes._subplots.AxesSubplot at 0xa1a8470>"
      ]
     },
     "execution_count": 7,
     "metadata": {},
     "output_type": "execute_result"
    },
    {
     "data": {
      "image/png": "[encoded data removed]",
      "text/plain": [
       "<matplotlib.figure.Figure at 0xa596048>"
      ]
     },
     "metadata": {},
     "output_type": "display_data"
    }
   ],
   "source": []
  },
  {
   "cell_type": "markdown",
   "metadata": {},
   "source": [
    "## <font color=#003d5c>Creando un clasificador KNN</font>\n",
    "\n",
    "### <font color=#003d5c>1. Estime la similitud</font>\n",
    "\n",
    "Para hacer predicciones necesitamos calcular la similitud entre dos instancias de datos dadas. Esto es necesario para que podamos ubicar las k instancias de datos más similares en el conjunto de datos de entrenamiento para un miembro dado del conjunto de datos de prueba y, a su vez, hacer una predicción.\n",
    "\n",
    "Para variables numéricas podemos usar directamente la medida de distancia euclidiana. **Esto se define como la raíz cuadrada de la suma de las diferencias cuadradas entre las dos matrices de números**.\n",
    "\n",
    "Además, queremos controlar qué campos incluir en el cálculo de distancia. Específicamente, solo queremos incluir los variables numéricas. Un enfoque es limitar la distancia euclidiana a una longitud fija, ignorando la dimensión final.\n",
    "\n",
    "Al unir todo esto, podemos definir la función `distanciaEuclidiana` de la siguiente manera:"
   ]
  },
  {
   "cell_type": "code",
   "execution_count": 8,
   "metadata": {},
   "outputs": [],
   "source": [
    "import numpy as np\n",
    "def distanciaEuclidiana(instancia1, instancia2):\n",
    "    distancia = (instancia1 - instancia2) ** 2\n",
    "    \n",
    "    if distancia.shape[0] == distancia.size:\n",
    "        return distancia.sum() ** 0.5\n",
    "    else:\n",
    "        return distancia.sum(axis=1) ** 0.5"
   ]
  },
  {
   "cell_type": "code",
   "execution_count": 9,
   "metadata": {},
   "outputs": [
    {
     "name": "stdout",
     "output_type": "stream",
     "text": [
      "Distancia:  2.82842712475\n"
     ]
    }
   ],
   "source": []
  },
  {
   "cell_type": "code",
   "execution_count": 10,
   "metadata": {},
   "outputs": [
    {
     "data": {
      "text/plain": [
       "[<matplotlib.lines.Line2D at 0xba495c0>]"
      ]
     },
     "execution_count": 10,
     "metadata": {},
     "output_type": "execute_result"
    },
    {
     "data": {
      "image/png": "[encoded data removed]",
      "text/plain": [
       "<matplotlib.figure.Figure at 0xa9c1b70>"
      ]
     },
     "metadata": {},
     "output_type": "display_data"
    }
   ],
   "source": []
  },
  {
   "cell_type": "markdown",
   "metadata": {},
   "source": [
    "### <font color=#003d5c>2. Encontrar vecinos</font>\n",
    "\n",
    "Ahora que tenemos una medida de similitud, podemos usarla para recopilar las k instancias más similares para una determinada instancia no vista. Este es un proceso directo de calcular la distancia para todas las instancias y seleccionar un subconjunto con los valores de distancia más pequeños.\n",
    "\n",
    "A continuación se muestra la función `obtenerVecinos` que devuelve los k vecinos más similares del conjunto de entrenamiento para una instancia de prueba determinada (utilizando la función `DistanciaEuclidiana` ya definida)"
   ]
  },
  {
   "cell_type": "code",
   "execution_count": 11,
   "metadata": {},
   "outputs": [],
   "source": [
    "conjuntoEntrenamiento = np.array([[2, 2], [4, 4], [7, 7], [4, 1], [3, 4], [5, 2]])\n",
    "conjuntoTest = np.array([5, 5])"
   ]
  },
  {
   "cell_type": "code",
   "execution_count": 12,
   "metadata": {},
   "outputs": [
    {
     "data": {
      "text/plain": [
       "array([ 4.24264069,  1.41421356,  2.82842712,  4.12310563,  2.23606798,  3.        ])"
      ]
     },
     "execution_count": 12,
     "metadata": {},
     "output_type": "execute_result"
    }
   ],
   "source": [
    "dist = distanciaEuclidiana(conjuntoEntrenamiento, conjuntoTest)\n",
    "dist"
   ]
  },
  {
   "cell_type": "markdown",
   "metadata": {},
   "source": [
    "¿Cuáles son los dos puntos más cercanos?"
   ]
  },
  {
   "cell_type": "code",
   "execution_count": 13,
   "metadata": {},
   "outputs": [
    {
     "data": {
      "text/plain": [
       "array([1, 4], dtype=int64)"
      ]
     },
     "execution_count": 13,
     "metadata": {},
     "output_type": "execute_result"
    }
   ],
   "source": []
  },
  {
   "cell_type": "code",
   "execution_count": 14,
   "metadata": {},
   "outputs": [
    {
     "data": {
      "text/plain": [
       "array([[4, 4],\n",
       "       [3, 4]])"
      ]
     },
     "execution_count": 14,
     "metadata": {},
     "output_type": "execute_result"
    }
   ],
   "source": []
  },
  {
   "cell_type": "code",
   "execution_count": 15,
   "metadata": {},
   "outputs": [
    {
     "data": {
      "text/plain": [
       "array([ 1.41421356,  2.23606798])"
      ]
     },
     "execution_count": 15,
     "metadata": {},
     "output_type": "execute_result"
    }
   ],
   "source": []
  },
  {
   "cell_type": "code",
   "execution_count": 16,
   "metadata": {},
   "outputs": [],
   "source": [
    "def obtenerVecinos(conjuntoEntrenamiento, conjuntoTest, k):\n",
    "    dist = distanciaEuclidiana(conjuntoEntrenamiento, conjuntoTest)\n",
    "    vecinos = dist.argsort()[:k]\n",
    "    return vecinos"
   ]
  },
  {
   "cell_type": "code",
   "execution_count": 17,
   "metadata": {},
   "outputs": [
    {
     "name": "stdout",
     "output_type": "stream",
     "text": [
      "[1 4 2]\n"
     ]
    }
   ],
   "source": []
  },
  {
   "cell_type": "code",
   "execution_count": 18,
   "metadata": {},
   "outputs": [
    {
     "data": {
      "text/plain": [
       "[<matplotlib.lines.Line2D at 0xbac4320>]"
      ]
     },
     "execution_count": 18,
     "metadata": {},
     "output_type": "execute_result"
    },
    {
     "data": {
      "image/png": "[encoded data removed]",
      "text/plain": [
       "<matplotlib.figure.Figure at 0xa958128>"
      ]
     },
     "metadata": {},
     "output_type": "display_data"
    }
   ],
   "source": [
    "plt.scatter(conjuntoEntrenamiento[:, 0], conjuntoEntrenamiento[:, 1], s=25, c='b')\n",
    "plt.scatter(conjuntoTest[0], conjuntoTest[1], c='g', s=100)\n",
    "plt.plot([conjuntoTest[0], conjuntoEntrenamiento[vecinos[0], 0]], [conjuntoTest[1], conjuntoEntrenamiento[vecinos[0], 1]], '--r')"
   ]
  },
  {
   "cell_type": "markdown",
   "metadata": {},
   "source": [
    "Probar con otra instancia de prueba"
   ]
  },
  {
   "cell_type": "code",
   "execution_count": 19,
   "metadata": {},
   "outputs": [
    {
     "name": "stdout",
     "output_type": "stream",
     "text": [
      "[4 1 0 5]\n"
     ]
    }
   ],
   "source": [
    "instanciaPrueba = np.array([3.4, 3])\n",
    "\n",
    "\n"
   ]
  },
  {
   "cell_type": "code",
   "execution_count": 20,
   "metadata": {},
   "outputs": [
    {
     "data": {
      "image/png": "[encoded data removed]",
      "text/plain": [
       "<matplotlib.figure.Figure at 0xba9ee10>"
      ]
     },
     "metadata": {},
     "output_type": "display_data"
    }
   ],
   "source": [
    "plt.scatter(conjuntoEntrenamiento[:, 0], conjuntoEntrenamiento[:, 1], s=50, c='b')\n",
    "plt.scatter(instanciaPrueba[0], instanciaPrueba[1], c='g', s=100)\n",
    "for vecino in vecinos:\n",
    "    plt.plot([instanciaPrueba[0], conjuntoEntrenamiento[vecino, 0]], [instanciaPrueba[1], conjuntoEntrenamiento[vecino, 1]], '--r')"
   ]
  },
  {
   "cell_type": "markdown",
   "metadata": {},
   "source": [
    "### <font color=#003d5c>3. Respuesta</font>\n",
    "\n",
    "Una vez que hemos localizado a los vecinos más similares para una instancia de prueba, la siguiente tarea es diseñar una respuesta pronosticada basada en esos vecinos.\n",
    "\n",
    "Podemos hacer esto al permitir que cada vecino vote por su atributo de clase, y tomar el voto de la mayoría como la predicción.\n",
    "\n",
    "Primero vamos a definir la etiqueta de cada instancia."
   ]
  },
  {
   "cell_type": "code",
   "execution_count": 21,
   "metadata": {},
   "outputs": [],
   "source": [
    "conjuntoEntrenamiento_y = np.array([0, 0, 1, 0, 1, 1])"
   ]
  },
  {
   "cell_type": "code",
   "execution_count": 22,
   "metadata": {},
   "outputs": [
    {
     "data": {
      "text/plain": [
       "<matplotlib.collections.PathCollection at 0xbb8c550>"
      ]
     },
     "execution_count": 22,
     "metadata": {},
     "output_type": "execute_result"
    },
    {
     "data": {
      "image/png": "[encoded data removed]",
      "text/plain": [
       "<matplotlib.figure.Figure at 0xaa2e048>"
      ]
     },
     "metadata": {},
     "output_type": "display_data"
    }
   ],
   "source": [
    "plt.scatter(conjuntoEntrenamiento[conjuntoEntrenamiento_y==0, 0], conjuntoEntrenamiento[conjuntoEntrenamiento_y==0, 1], s=50)\n",
    "plt.scatter(conjuntoEntrenamiento[conjuntoEntrenamiento_y==1, 0], conjuntoEntrenamiento[conjuntoEntrenamiento_y==1, 1], c='y', s=50)"
   ]
  },
  {
   "cell_type": "markdown",
   "metadata": {},
   "source": [
    "A continuación se proporciona una función para obtener la mayoría de las respuestas votadas de un número de vecinos. Asume que la clase es el último atributo para cada vecino."
   ]
  },
  {
   "cell_type": "code",
   "execution_count": 23,
   "metadata": {
    "scrolled": true
   },
   "outputs": [
    {
     "data": {
      "image/png": "[encoded data removed]",
      "text/plain": [
       "<matplotlib.figure.Figure at 0xba5ab00>"
      ]
     },
     "metadata": {},
     "output_type": "display_data"
    }
   ],
   "source": []
  },
  {
   "cell_type": "code",
   "execution_count": 24,
   "metadata": {},
   "outputs": [
    {
     "data": {
      "text/plain": [
       "array([1, 0, 0, 1])"
      ]
     },
     "execution_count": 24,
     "metadata": {},
     "output_type": "execute_result"
    }
   ],
   "source": []
  },
  {
   "cell_type": "markdown",
   "metadata": {},
   "source": [
    "Contar las instancias por clase"
   ]
  },
  {
   "cell_type": "code",
   "execution_count": 25,
   "metadata": {},
   "outputs": [
    {
     "data": {
      "text/plain": [
       "array([[0, 2],\n",
       "       [1, 2]], dtype=int64)"
      ]
     },
     "execution_count": 25,
     "metadata": {},
     "output_type": "execute_result"
    }
   ],
   "source": [
    "from scipy.stats import itemfreq\n",
    "freq = itemfreq(conjuntoEntrenamiento_y[vecinos])\n",
    "freq"
   ]
  },
  {
   "cell_type": "code",
   "execution_count": 26,
   "metadata": {},
   "outputs": [
    {
     "data": {
      "text/plain": [
       "0"
      ]
     },
     "execution_count": 26,
     "metadata": {},
     "output_type": "execute_result"
    }
   ],
   "source": []
  },
  {
   "cell_type": "markdown",
   "metadata": {},
   "source": [
    "La clase ganadora es:"
   ]
  },
  {
   "cell_type": "code",
   "execution_count": 27,
   "metadata": {},
   "outputs": [
    {
     "data": {
      "text/plain": [
       "0"
      ]
     },
     "execution_count": 27,
     "metadata": {},
     "output_type": "execute_result"
    }
   ],
   "source": []
  },
  {
   "cell_type": "markdown",
   "metadata": {},
   "source": [
    "### <font color=#003d5c>4. Probabilidad Estimada</font>\n",
    "\n",
    "Del mismo modo, la probabilidad se puede estimar como el porcentaje de votos del vecino para cada clase"
   ]
  },
  {
   "cell_type": "code",
   "execution_count": 28,
   "metadata": {},
   "outputs": [
    {
     "data": {
      "text/plain": [
       "array([ 0.5,  0.5])"
      ]
     },
     "execution_count": 28,
     "metadata": {},
     "output_type": "execute_result"
    }
   ],
   "source": []
  },
  {
   "cell_type": "code",
   "execution_count": 29,
   "metadata": {},
   "outputs": [
    {
     "data": {
      "text/plain": [
       "array([[ 0. ,  0.5],\n",
       "       [ 1. ,  0.5]])"
      ]
     },
     "execution_count": 29,
     "metadata": {},
     "output_type": "execute_result"
    }
   ],
   "source": []
  },
  {
   "cell_type": "markdown",
   "metadata": {},
   "source": [
    "### <font color=#003d5c>5. Creando la respuesta</font>"
   ]
  },
  {
   "cell_type": "code",
   "execution_count": 30,
   "metadata": {},
   "outputs": [],
   "source": [
    "def obtenerRespuesta(conjuntoEntrenamiento_y, vecinos):\n",
    "    votes = conjuntoEntrenamiento_y[vecinos]\n",
    "    freq = itemfreq(votes)\n",
    "    return freq[:, 0][freq[:, 1].argmax()], np.vstack((freq[:, 0], freq[:, 1] / freq[:, 1].sum())).T"
   ]
  },
  {
   "cell_type": "markdown",
   "metadata": {},
   "source": [
    "Podemos probar esta función con algunos vecinos de prueba, de la siguiente manera:"
   ]
  },
  {
   "cell_type": "code",
   "execution_count": 31,
   "metadata": {},
   "outputs": [
    {
     "name": "stdout",
     "output_type": "stream",
     "text": [
      "(0, array([[ 0. ,  0.5],\n",
      "       [ 1. ,  0.5]]))\n"
     ]
    }
   ],
   "source": [
    "\n"
   ]
  },
  {
   "cell_type": "markdown",
   "metadata": {},
   "source": [
    "### <font color=#003d5c>6. Clasificador</font>\n",
    "\n",
    "Ahora podemos integrar todas las funciones definidas en una sola función."
   ]
  },
  {
   "cell_type": "code",
   "execution_count": 32,
   "metadata": {},
   "outputs": [],
   "source": [
    "def knn_clasificador_de_una_instancia(conjuntoEntrenamiento, conjuntoEntrenamiento_y, instanciaPrueba, k):\n",
    "    vecinos = obtenerVecinos(conjuntoEntrenamiento, instanciaPrueba, k)\n",
    "    pred_y, pred_prob = obtenerRespuesta(conjuntoEntrenamiento_y, vecinos)\n",
    "    return pred_y, pred_prob, vecinos"
   ]
  },
  {
   "cell_type": "code",
   "execution_count": 33,
   "metadata": {},
   "outputs": [
    {
     "data": {
      "text/plain": [
       "<matplotlib.collections.PathCollection at 0xc6a8588>"
      ]
     },
     "execution_count": 33,
     "metadata": {},
     "output_type": "execute_result"
    },
    {
     "data": {
      "image/png": "[encoded data removed]",
      "text/plain": [
       "<matplotlib.figure.Figure at 0xc674320>"
      ]
     },
     "metadata": {},
     "output_type": "display_data"
    }
   ],
   "source": [
    "instanciaPrueba = np.array([4.2, 5])\n",
    "plt.scatter(conjuntoEntrenamiento[conjuntoEntrenamiento_y==0, 0], conjuntoEntrenamiento[conjuntoEntrenamiento_y==0, 1], s=50)\n",
    "plt.scatter(conjuntoEntrenamiento[conjuntoEntrenamiento_y==1, 0], conjuntoEntrenamiento[conjuntoEntrenamiento_y==1, 1], c='y', s=50)\n",
    "plt.scatter(instanciaPrueba[0], instanciaPrueba[1], c='green', s=100)"
   ]
  },
  {
   "cell_type": "code",
   "execution_count": 34,
   "metadata": {},
   "outputs": [
    {
     "data": {
      "text/plain": [
       "(0, array([[ 0. ,  0.5],\n",
       "        [ 1. ,  0.5]]))"
      ]
     },
     "execution_count": 34,
     "metadata": {},
     "output_type": "execute_result"
    }
   ],
   "source": [
    "\n",
    "\n"
   ]
  },
  {
   "cell_type": "code",
   "execution_count": 35,
   "metadata": {},
   "outputs": [
    {
     "name": "stdout",
     "output_type": "stream",
     "text": [
      "k =  2\n",
      "pred_y =  0\n",
      "pred_prob =  [[ 0.   0.5]\n",
      " [ 1.   0.5]]\n"
     ]
    },
    {
     "data": {
      "image/png": "[encoded data removed]",
      "text/plain": [
       "<matplotlib.figure.Figure at 0xc6a8c18>"
      ]
     },
     "metadata": {},
     "output_type": "display_data"
    },
    {
     "name": "stdout",
     "output_type": "stream",
     "text": [
      "k =  3\n",
      "pred_y =  1\n",
      "pred_prob =  [[ 0.          0.33333333]\n",
      " [ 1.          0.66666667]]\n"
     ]
    },
    {
     "data": {
      "image/png": "[encoded data removed]",
      "text/plain": [
       "<matplotlib.figure.Figure at 0xc6e7518>"
      ]
     },
     "metadata": {},
     "output_type": "display_data"
    },
    {
     "name": "stdout",
     "output_type": "stream",
     "text": [
      "k =  4\n",
      "pred_y =  1\n",
      "pred_prob =  [[ 0.    0.25]\n",
      " [ 1.    0.75]]\n"
     ]
    },
    {
     "data": {
      "image/png": "[encoded data removed]",
      "text/plain": [
       "<matplotlib.figure.Figure at 0xc756128>"
      ]
     },
     "metadata": {},
     "output_type": "display_data"
    },
    {
     "name": "stdout",
     "output_type": "stream",
     "text": [
      "k =  5\n",
      "pred_y =  1\n",
      "pred_prob =  [[ 0.   0.4]\n",
      " [ 1.   0.6]]\n"
     ]
    },
    {
     "data": {
      "image/png": "[encoded data removed]",
      "text/plain": [
       "<matplotlib.figure.Figure at 0xc7ba9e8>"
      ]
     },
     "metadata": {},
     "output_type": "display_data"
    }
   ],
   "source": [
    "\n",
    "\n",
    "\n",
    "\n",
    "\n",
    "\n",
    "\n",
    "\n",
    "\n",
    "\n"
   ]
  },
  {
   "cell_type": "markdown",
   "metadata": {},
   "source": [
    "#### <font color=#003d5c>6.1. Permitir más de una instancia</font>"
   ]
  },
  {
   "cell_type": "code",
   "execution_count": 36,
   "metadata": {},
   "outputs": [
    {
     "data": {
      "text/plain": [
       "<matplotlib.collections.PathCollection at 0xc8b9f98>"
      ]
     },
     "execution_count": 36,
     "metadata": {},
     "output_type": "execute_result"
    },
    {
     "data": {
      "image/png": "[encoded data removed]",
      "text/plain": [
       "<matplotlib.figure.Figure at 0xc6693c8>"
      ]
     },
     "metadata": {},
     "output_type": "display_data"
    }
   ],
   "source": [
    "instanciasPrueba = np.array([[4.2, 5], [1, 3], [6, 6]])\n",
    "plt.scatter(conjuntoEntrenamiento[conjuntoEntrenamiento_y==0, 0], conjuntoEntrenamiento[conjuntoEntrenamiento_y==0, 1], s=50)\n",
    "plt.scatter(conjuntoEntrenamiento[conjuntoEntrenamiento_y==1, 0], conjuntoEntrenamiento[conjuntoEntrenamiento_y==1, 1], c='y', s=50)\n",
    "plt.scatter(instanciasPrueba[:,0], instanciasPrueba[:,1], c='green', s=100)"
   ]
  },
  {
   "cell_type": "code",
   "execution_count": 37,
   "metadata": {},
   "outputs": [],
   "source": [
    "def knn_clasificador(conjuntoEntrenamiento, conjuntoEntrenamiento_y, instanciasPrueba, k):\n",
    "    n_instancias_prueba = instanciasPrueba.shape[0]\n",
    "    pred_y = np.zeros(n_instancias_prueba)\n",
    "    y_unico = np.unique(conjuntoEntrenamiento_y)\n",
    "    pred_prob = np.zeros((n_instancias_prueba, y_unico.shape[0]))\n",
    "    for i in range(n_instancias_prueba):\n",
    "        vecinos = obtenerVecinos(conjuntoEntrenamiento, instanciasPrueba[i], k)\n",
    "        pred_y_, pred_prob_ = obtenerRespuesta(conjuntoEntrenamiento_y, vecinos)\n",
    "        pred_y[i] = pred_y_\n",
    "        \n",
    "        # pred_y podría no incluir todos los valores de \"y\"\n",
    "        for j in range(y_unico.shape[0]):\n",
    "            pred_prob[i, j] =  pred_prob_[pred_prob_[:,0] == y_unico[j], 1].sum()\n",
    "            \n",
    "    return pred_y, pred_prob"
   ]
  },
  {
   "cell_type": "code",
   "execution_count": 38,
   "metadata": {
    "scrolled": true
   },
   "outputs": [
    {
     "data": {
      "text/plain": [
       "(array([ 1.,  0.,  1.]), array([[ 0.33333333,  0.66666667],\n",
       "        [ 0.66666667,  0.33333333],\n",
       "        [ 0.33333333,  0.66666667]]))"
      ]
     },
     "execution_count": 38,
     "metadata": {},
     "output_type": "execute_result"
    }
   ],
   "source": [
    "\n"
   ]
  },
  {
   "cell_type": "markdown",
   "metadata": {},
   "source": [
    "## <font color=#003d5c>Aplicar al Dataset De Hipotecario</font>"
   ]
  },
  {
   "cell_type": "code",
   "execution_count": 40,
   "metadata": {
    "scrolled": true
   },
   "outputs": [],
   "source": [
    "df['SEXO'].fillna(df['SEXO'].mode()[0], inplace=True)\n",
    "df['FLAG_CASADO'].fillna(df['FLAG_CASADO'].mode()[0], inplace=True)\n",
    "df['NRO_DEPENDIENTES'].fillna(df['NRO_DEPENDIENTES'].mode()[0], inplace=True)\n",
    "df['FLAG_TRAB_INDEP'].fillna(df['FLAG_TRAB_INDEP'].mode()[0], inplace=True)\n",
    "df['INGRESOS_COSOLICITANTE'].fillna(df['INGRESOS_COSOLICITANTE'].mean(), inplace=True)\n",
    "df['MONTO_PRESTAMO_MILES'].fillna(df['MONTO_PRESTAMO_MILES'].mean(), inplace=True)\n",
    "df['PLAZO_PRESTAMO_MESES'].fillna(df['PLAZO_PRESTAMO_MESES'].mean(), inplace=True)\n",
    "df['FLAG_HISTORIAL_CREDITICIO'].fillna(df['FLAG_HISTORIAL_CREDITICIO'].mode()[0], inplace=True)"
   ]
  },
  {
   "cell_type": "code",
   "execution_count": 42,
   "metadata": {},
   "outputs": [],
   "source": [
    "df['SEXO'] = df['SEXO'].map({'Male': 0, 'Female': 1})\n",
    "df['FLAG_CASADO'] = df['FLAG_CASADO'].map({'No': 0, 'Yes': 1})\n",
    "df['EDUCACION'] = df['EDUCACION'].map({'Not Graduate': 0, 'Graduate': 1})\n",
    "df['FLAG_TRAB_INDEP'] = df['FLAG_TRAB_INDEP'].map({'No': 0, 'Yes': 1})\n",
    "df['FLAG_HISTORIAL_CREDITICIO'] = df['FLAG_HISTORIAL_CREDITICIO'].map({'Malo': 0, 'Bueno': 1})\n",
    "df = pd.concat([df, pd.get_dummies(df['TIPO_ZONA'], prefix = 'TIPO_ZONA', drop_first = True)], axis=1)\n",
    "df = pd.concat([df, pd.get_dummies(df['NRO_DEPENDIENTES'], prefix = 'NRO_DEPENDIENTES', drop_first = True)], axis=1)\n",
    "del df['TIPO_ZONA']\n",
    "del df['NRO_DEPENDIENTES']"
   ]
  },
  {
   "cell_type": "code",
   "execution_count": 44,
   "metadata": {
    "scrolled": true
   },
   "outputs": [
    {
     "data": {
      "text/plain": [
       "Index(['ID', 'SEXO', 'FLAG_CASADO', 'EDUCACION', 'FLAG_TRAB_INDEP',\n",
       "       'INGRESOS_SOLICITANTE', 'INGRESOS_COSOLICITANTE',\n",
       "       'MONTO_PRESTAMO_MILES', 'PLAZO_PRESTAMO_MESES',\n",
       "       'FLAG_HISTORIAL_CREDITICIO', 'FLAG_CRED_HIPO', 'TIPO_ZONA_Semiurban',\n",
       "       'TIPO_ZONA_Urban', 'NRO_DEPENDIENTES_1', 'NRO_DEPENDIENTES_2',\n",
       "       'NRO_DEPENDIENTES_3+'],\n",
       "      dtype='object')"
      ]
     },
     "execution_count": 44,
     "metadata": {},
     "output_type": "execute_result"
    }
   ],
   "source": []
  },
  {
   "cell_type": "code",
   "execution_count": 45,
   "metadata": {},
   "outputs": [],
   "source": [
    "y = df.FLAG_CRED_HIPO\n",
    "X = df[['SEXO', 'FLAG_CASADO', 'EDUCACION', 'FLAG_TRAB_INDEP', 'INGRESOS_SOLICITANTE', 'INGRESOS_COSOLICITANTE',\n",
    "        'MONTO_PRESTAMO_MILES', 'PLAZO_PRESTAMO_MESES',\n",
    "        'FLAG_HISTORIAL_CREDITICIO', 'TIPO_ZONA_Semiurban',\n",
    "        'TIPO_ZONA_Urban', 'NRO_DEPENDIENTES_1', 'NRO_DEPENDIENTES_2',\n",
    "        'NRO_DEPENDIENTES_3+']]"
   ]
  },
  {
   "cell_type": "code",
   "execution_count": 96,
   "metadata": {},
   "outputs": [],
   "source": [
    "from sklearn.model_selection import train_test_split\n",
    "X_train, X_test, y_train, y_test = train_test_split(X.values, y.values, test_size=0.33, random_state=123)"
   ]
  },
  {
   "cell_type": "code",
   "execution_count": 97,
   "metadata": {},
   "outputs": [],
   "source": []
  },
  {
   "cell_type": "code",
   "execution_count": 98,
   "metadata": {},
   "outputs": [
    {
     "data": {
      "text/plain": [
       "array([[ 0.8,  0.2],\n",
       "       [ 0.4,  0.6],\n",
       "       [ 0.1,  0.9],\n",
       "       [ 0.8,  0.2],\n",
       "       [ 0.6,  0.4]])"
      ]
     },
     "execution_count": 98,
     "metadata": {},
     "output_type": "execute_result"
    }
   ],
   "source": []
  },
  {
   "cell_type": "code",
   "execution_count": 99,
   "metadata": {},
   "outputs": [
    {
     "data": {
      "text/plain": [
       "array([[  9,  63],\n",
       "       [ 18, 113]], dtype=int64)"
      ]
     },
     "execution_count": 99,
     "metadata": {},
     "output_type": "execute_result"
    }
   ],
   "source": []
  },
  {
   "cell_type": "code",
   "execution_count": 100,
   "metadata": {},
   "outputs": [],
   "source": []
  },
  {
   "cell_type": "code",
   "execution_count": 101,
   "metadata": {},
   "outputs": [
    {
     "data": {
      "text/plain": [
       "0.60098522167487689"
      ]
     },
     "execution_count": 101,
     "metadata": {},
     "output_type": "execute_result"
    }
   ],
   "source": []
  },
  {
   "cell_type": "markdown",
   "metadata": {},
   "source": [
    "## Usando Sklearn"
   ]
  },
  {
   "cell_type": "code",
   "execution_count": 102,
   "metadata": {},
   "outputs": [],
   "source": []
  },
  {
   "cell_type": "code",
   "execution_count": 109,
   "metadata": {},
   "outputs": [],
   "source": []
  },
  {
   "cell_type": "code",
   "execution_count": 110,
   "metadata": {},
   "outputs": [
    {
     "data": {
      "text/plain": [
       "KNeighborsClassifier(algorithm='auto', leaf_size=30, metric='minkowski',\n",
       "           metric_params=None, n_jobs=1, n_neighbors=10, p=2,\n",
       "           weights='uniform')"
      ]
     },
     "execution_count": 110,
     "metadata": {},
     "output_type": "execute_result"
    }
   ],
   "source": []
  },
  {
   "cell_type": "code",
   "execution_count": 111,
   "metadata": {},
   "outputs": [],
   "source": []
  },
  {
   "cell_type": "code",
   "execution_count": 112,
   "metadata": {},
   "outputs": [
    {
     "data": {
      "text/plain": [
       "array([[ 0.8,  0.2],\n",
       "       [ 0.4,  0.6],\n",
       "       [ 0.1,  0.9],\n",
       "       [ 0.8,  0.2],\n",
       "       [ 0.6,  0.4]])"
      ]
     },
     "execution_count": 112,
     "metadata": {},
     "output_type": "execute_result"
    }
   ],
   "source": []
  },
  {
   "cell_type": "code",
   "execution_count": 113,
   "metadata": {},
   "outputs": [
    {
     "data": {
      "text/plain": [
       "array([[  9,  63],\n",
       "       [ 18, 113]], dtype=int64)"
      ]
     },
     "execution_count": 113,
     "metadata": {},
     "output_type": "execute_result"
    }
   ],
   "source": []
  },
  {
   "cell_type": "code",
   "execution_count": 114,
   "metadata": {},
   "outputs": [
    {
     "data": {
      "text/plain": [
       "0.60098522167487689"
      ]
     },
     "execution_count": 114,
     "metadata": {},
     "output_type": "execute_result"
    }
   ],
   "source": []
  },
  {
   "cell_type": "code",
   "execution_count": 121,
   "metadata": {
    "scrolled": true
   },
   "outputs": [
    {
     "name": "stdout",
     "output_type": "stream",
     "text": [
      "0.576354679803\n",
      "0.497536945813\n",
      "0.576354679803\n",
      "0.581280788177\n",
      "0.600985221675\n",
      "0.566502463054\n",
      "0.5960591133\n",
      "0.600985221675\n",
      "0.610837438424\n",
      "0.620689655172\n",
      "0.620689655172\n",
      "0.620689655172\n",
      "0.630541871921\n",
      "0.625615763547\n",
      "0.630541871921\n",
      "0.615763546798\n",
      "0.630541871921\n",
      "0.625615763547\n",
      "0.630541871921\n",
      "0.625615763547\n",
      "0.630541871921\n",
      "0.615763546798\n",
      "0.635467980296\n",
      "0.630541871921\n",
      "0.645320197044\n",
      "0.630541871921\n",
      "0.645320197044\n"
     ]
    }
   ],
   "source": [
    "\n",
    "\n",
    "\n",
    "\n",
    "\n",
    "\n",
    "\n"
   ]
  },
  {
   "cell_type": "code",
   "execution_count": 122,
   "metadata": {},
   "outputs": [
    {
     "data": {
      "text/plain": [
       "27"
      ]
     },
     "execution_count": 122,
     "metadata": {},
     "output_type": "execute_result"
    }
   ],
   "source": [
    "\n"
   ]
  },
  {
   "cell_type": "markdown",
   "metadata": {},
   "source": [
    "## Comparando KNN con otros modelos\n",
    "\n",
    "**Ventajas de KNN: **\n",
    "\n",
    "- Simple de entender y explicar\n",
    "- El entrenamiento modelo es rápido\n",
    "-  Puede usarse para clasificación y regresión\n",
    "\n",
    "**Desventajas de KNN:**\n",
    "\n",
    "- Debe almacenar todos los datos de entrenamiento\n",
    "- La fase de predicción puede ser lenta cuando n es grande\n",
    "- Sensible a las características irrelevantes\n",
    "- Sensible a la escala de los datos\n",
    "- La precisión (generalmente) no es competitiva con los mejores métodos de aprendizaje supervisado"
   ]
  }
 ],
 "metadata": {
  "kernelspec": {
   "display_name": "Python 3",
   "language": "python",
   "name": "python3"
  },
  "language_info": {
   "codemirror_mode": {
    "name": "ipython",
    "version": 3
   },
   "file_extension": ".py",
   "mimetype": "text/x-python",
   "name": "python",
   "nbconvert_exporter": "python",
   "pygments_lexer": "ipython3",
   "version": "3.6.3"
  },
  "name": "_merged"
 },
 "nbformat": 4,
 "nbformat_minor": 1
}
