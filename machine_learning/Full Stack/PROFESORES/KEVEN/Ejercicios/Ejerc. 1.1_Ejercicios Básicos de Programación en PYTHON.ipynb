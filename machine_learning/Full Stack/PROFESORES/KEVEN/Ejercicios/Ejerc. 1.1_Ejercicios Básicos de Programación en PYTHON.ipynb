{
 "cells": [
  {
   "cell_type": "markdown",
   "metadata": {},
   "source": [
    "# EJERCICIOS DE PYTHON - Básico"
   ]
  },
  {
   "cell_type": "markdown",
   "metadata": {},
   "source": [
    "# 1.1 Estructuras condicionales"
   ]
  },
  {
   "cell_type": "markdown",
   "metadata": {},
   "source": [
    "Sintaxis del IF:"
   ]
  },
  {
   "cell_type": "code",
   "execution_count": null,
   "metadata": {
    "collapsed": true
   },
   "outputs": [],
   "source": [
    "# no correr esta celda\n",
    "if --condicion 1--:\n",
    "    --cuerpo a ejecutar--\n",
    "elif --condicion 2--:\n",
    "    --cuerpo a ejecutar--\n",
    "elif --condicion 3--:\n",
    "    --cuerpo a ejecutar--\n",
    "else: \n",
    "    --cuerpo a ejecutar--"
   ]
  },
  {
   "cell_type": "markdown",
   "metadata": {},
   "source": [
    "Ejemplos:"
   ]
  },
  {
   "cell_type": "markdown",
   "metadata": {},
   "source": [
    "**a) Crear un programa que dependiendo del valor de 'num', imprima si es positivo, negativo o cero:**"
   ]
  },
  {
   "cell_type": "code",
   "execution_count": 1,
   "metadata": {},
   "outputs": [
    {
     "name": "stdout",
     "output_type": "stream",
     "text": [
      "Positivo\n"
     ]
    }
   ],
   "source": [
    "num = 8 # cambiar este valor a: 0,-5 y ver los resultados\n",
    "\n",
    "if num > 0:\n",
    "    print(\"Positivo\")\n",
    "elif num == 0:\n",
    "    print(\"Cero\")\n",
    "else:\n",
    "    print(\"Negativo\")"
   ]
  },
  {
   "cell_type": "markdown",
   "metadata": {},
   "source": [
    "**b) Crear una función para convertir de grados Celcius a Fahrenheit o Kelvin, dependiendo del parámetro *'to_grade'*:**"
   ]
  },
  {
   "cell_type": "code",
   "execution_count": 2,
   "metadata": {
    "collapsed": true
   },
   "outputs": [],
   "source": [
    "def convertir_a(grados_C, to_grade):\n",
    "    if (to_grade in ('F','K')):\n",
    "        if to_grade == 'F':\n",
    "            grade_final = grados_C*(9/5) + 32\n",
    "            \n",
    "        else:                                # a la misma altura del 2do 'if'\n",
    "            grade_final = grados_C + 273\n",
    "        \n",
    "        print(grados_C, \" C° equivalen a \", grade_final,\" \", to_grade, \"°.\" , sep = '') # a la misma altura del 2do 'if'\n",
    "    else:                                    # a la misma altura del 1er 'if'\n",
    "        print(\"Por favor ingresar los valores de 'F' o 'C' dependiendo del tipo de grado a convertir.\")"
   ]
  },
  {
   "cell_type": "code",
   "execution_count": 3,
   "metadata": {},
   "outputs": [
    {
     "name": "stdout",
     "output_type": "stream",
     "text": [
      "40 C° equivalen a 313 K°.\n"
     ]
    }
   ],
   "source": [
    "convertir_a(40,'K')"
   ]
  },
  {
   "cell_type": "code",
   "execution_count": 4,
   "metadata": {},
   "outputs": [
    {
     "name": "stdout",
     "output_type": "stream",
     "text": [
      "40 C° equivalen a 104.0 F°.\n"
     ]
    }
   ],
   "source": [
    "convertir_a(40,'F')"
   ]
  },
  {
   "cell_type": "code",
   "execution_count": 5,
   "metadata": {},
   "outputs": [
    {
     "name": "stdout",
     "output_type": "stream",
     "text": [
      "Por favor ingresar los valores de 'F' o 'C' dependiendo del tipo de grado a convertir.\n"
     ]
    }
   ],
   "source": [
    "convertir_a(40,'C')"
   ]
  },
  {
   "cell_type": "markdown",
   "metadata": {},
   "source": [
    "  "
   ]
  },
  {
   "cell_type": "markdown",
   "metadata": {},
   "source": [
    "  "
   ]
  },
  {
   "cell_type": "markdown",
   "metadata": {},
   "source": [
    "### TAREA"
   ]
  },
  {
   "cell_type": "markdown",
   "metadata": {
    "collapsed": true
   },
   "source": [
    "**c) Crear un programa que dado el valor de la edad, imprima si es un bebé, niño, adolescente, adulto o anciano:**"
   ]
  },
  {
   "cell_type": "code",
   "execution_count": null,
   "metadata": {
    "collapsed": true
   },
   "outputs": [],
   "source": []
  },
  {
   "cell_type": "code",
   "execution_count": null,
   "metadata": {
    "collapsed": true
   },
   "outputs": [],
   "source": []
  },
  {
   "cell_type": "markdown",
   "metadata": {},
   "source": [
    "**d) Crear una función para convertir km/h a m/s o viceversa**"
   ]
  },
  {
   "cell_type": "code",
   "execution_count": null,
   "metadata": {
    "collapsed": true
   },
   "outputs": [],
   "source": []
  },
  {
   "cell_type": "code",
   "execution_count": null,
   "metadata": {
    "collapsed": true
   },
   "outputs": [],
   "source": []
  },
  {
   "cell_type": "markdown",
   "metadata": {},
   "source": [
    "# 1.2 Estructuras de bucle"
   ]
  },
  {
   "cell_type": "markdown",
   "metadata": {},
   "source": [
    "Sintaxis:"
   ]
  },
  {
   "cell_type": "code",
   "execution_count": null,
   "metadata": {
    "collapsed": true
   },
   "outputs": [],
   "source": [
    "# no correr esta celda\n",
    "for val in --secuencia--:\n",
    "    --cuerpo a ejecutar--"
   ]
  },
  {
   "cell_type": "markdown",
   "metadata": {},
   "source": [
    "Ejemplos:"
   ]
  },
  {
   "cell_type": "markdown",
   "metadata": {},
   "source": [
    "**a) Crear una función para imprimir los 'n' primeros múltiplos de un número 'num':**"
   ]
  },
  {
   "cell_type": "code",
   "execution_count": 6,
   "metadata": {
    "collapsed": true
   },
   "outputs": [],
   "source": [
    "def multiplos(num, n):\n",
    "    for i in range(n):\n",
    "        print(num*i)"
   ]
  },
  {
   "cell_type": "code",
   "execution_count": 7,
   "metadata": {},
   "outputs": [
    {
     "name": "stdout",
     "output_type": "stream",
     "text": [
      "0\n",
      "3\n",
      "6\n",
      "9\n",
      "12\n",
      "15\n",
      "18\n",
      "21\n",
      "24\n",
      "27\n"
     ]
    }
   ],
   "source": [
    "multiplos(3,10)"
   ]
  },
  {
   "cell_type": "code",
   "execution_count": 8,
   "metadata": {
    "collapsed": true
   },
   "outputs": [],
   "source": [
    "def multiplos_v2(num, n=5):\n",
    "    for i in range(n):\n",
    "        print(num*i)"
   ]
  },
  {
   "cell_type": "code",
   "execution_count": 9,
   "metadata": {},
   "outputs": [
    {
     "name": "stdout",
     "output_type": "stream",
     "text": [
      "0\n",
      "3\n",
      "6\n",
      "9\n",
      "12\n"
     ]
    }
   ],
   "source": [
    "multiplos_v2(3) # Asume el valor n=5 por defecto"
   ]
  },
  {
   "cell_type": "code",
   "execution_count": 10,
   "metadata": {},
   "outputs": [
    {
     "name": "stdout",
     "output_type": "stream",
     "text": [
      "0\n",
      "3\n",
      "6\n",
      "9\n",
      "12\n",
      "15\n",
      "18\n",
      "21\n",
      "24\n",
      "27\n"
     ]
    }
   ],
   "source": [
    "multiplos_v2(3,10)"
   ]
  },
  {
   "cell_type": "markdown",
   "metadata": {},
   "source": [
    "  "
   ]
  },
  {
   "cell_type": "markdown",
   "metadata": {},
   "source": [
    "**b.1) Crea un vector con 10 nros aleatorios y promediar los valores desde la posición 3 al 7** (usando 'for'):"
   ]
  },
  {
   "cell_type": "code",
   "execution_count": 11,
   "metadata": {},
   "outputs": [
    {
     "data": {
      "text/plain": [
       "[0.35814524279533655,\n",
       " 0.885226456336285,\n",
       " 0.2557454156075588,\n",
       " 0.281220284379177,\n",
       " 0.6727316770254397,\n",
       " 0.2979995030531474,\n",
       " 0.31997171375553346,\n",
       " 0.5206216126520453,\n",
       " 0.497376641774394,\n",
       " 0.7357258338421008]"
      ]
     },
     "execution_count": 11,
     "metadata": {},
     "output_type": "execute_result"
    }
   ],
   "source": [
    "import random\n",
    "\n",
    "vector_aleatorios = list()\n",
    "\n",
    "for i in range(10):\n",
    "    aleatorio = random.random()\n",
    "    vector_aleatorios.append(aleatorio)\n",
    "    \n",
    "vector_aleatorios    "
   ]
  },
  {
   "cell_type": "code",
   "execution_count": 12,
   "metadata": {},
   "outputs": [
    {
     "name": "stdout",
     "output_type": "stream",
     "text": [
      "El promedio es 0.2610955134029795\n"
     ]
    }
   ],
   "source": [
    "suma = 0 \n",
    "\n",
    "for i in range(2,7):   # i = 2,3,4,5,6\n",
    "    suma = suma + vector_aleatorios[i]\n",
    "    prom = suma/7\n",
    "\n",
    "print(\"El promedio es\", prom)"
   ]
  },
  {
   "cell_type": "markdown",
   "metadata": {},
   "source": [
    "**b.2) Crea un vector con 10 nros aleatorios y promediar los valores desde la posición 3 al 7** (usando el paquete 'Numpy'):"
   ]
  },
  {
   "cell_type": "code",
   "execution_count": 13,
   "metadata": {},
   "outputs": [
    {
     "data": {
      "text/plain": [
       "array([-1.93306186, -1.0027324 , -0.35182156, -0.80726616, -1.61683781,\n",
       "       -0.07077242,  0.32541928,  0.07532864, -0.61248466, -0.48127253])"
      ]
     },
     "execution_count": 13,
     "metadata": {},
     "output_type": "execute_result"
    }
   ],
   "source": [
    "import numpy as np\n",
    "import numpy.random as np_random\n",
    "\n",
    "vector_aleatorios = np_random.randn(10)\n",
    "vector_aleatorios"
   ]
  },
  {
   "cell_type": "code",
   "execution_count": 14,
   "metadata": {},
   "outputs": [
    {
     "name": "stdout",
     "output_type": "stream",
     "text": [
      "El promedio es -0.504255734499\n"
     ]
    }
   ],
   "source": [
    "prom = np.mean(vector_aleatorios[2:7])\n",
    "print(\"El promedio es\", prom)"
   ]
  },
  {
   "cell_type": "code",
   "execution_count": null,
   "metadata": {
    "collapsed": true
   },
   "outputs": [],
   "source": []
  },
  {
   "cell_type": "markdown",
   "metadata": {},
   "source": [
    "### TAREA"
   ]
  },
  {
   "cell_type": "markdown",
   "metadata": {
    "collapsed": true
   },
   "source": [
    "**c) Crear un programa que imprima los valores de la sgte lista: 'arroz','azucar','papa', 'camote',** con ayuda de un 'for'."
   ]
  },
  {
   "cell_type": "code",
   "execution_count": null,
   "metadata": {
    "collapsed": true
   },
   "outputs": [],
   "source": []
  },
  {
   "cell_type": "code",
   "execution_count": null,
   "metadata": {
    "collapsed": true
   },
   "outputs": [],
   "source": []
  },
  {
   "cell_type": "markdown",
   "metadata": {},
   "source": [
    "**d) Crear una función que determine si un número es para o impar y luego mediante un bucle determinar cuántos nros pares existen en la sgte lista: 5,8,12,47,96,76,120,77.**"
   ]
  },
  {
   "cell_type": "code",
   "execution_count": null,
   "metadata": {
    "collapsed": true
   },
   "outputs": [],
   "source": []
  },
  {
   "cell_type": "code",
   "execution_count": null,
   "metadata": {
    "collapsed": true
   },
   "outputs": [],
   "source": []
  },
  {
   "cell_type": "markdown",
   "metadata": {},
   "source": [
    "### EXTRA"
   ]
  },
  {
   "cell_type": "markdown",
   "metadata": {},
   "source": [
    "Puedes ingresar aquí para conocer un poco más de Python: https://www.tutorialspoint.com/python/index.htm "
   ]
  },
  {
   "cell_type": "code",
   "execution_count": null,
   "metadata": {
    "collapsed": true
   },
   "outputs": [],
   "source": []
  }
 ],
 "metadata": {
  "kernelspec": {
   "display_name": "Python 3",
   "language": "python",
   "name": "python3"
  },
  "language_info": {
   "codemirror_mode": {
    "name": "ipython",
    "version": 3
   },
   "file_extension": ".py",
   "mimetype": "text/x-python",
   "name": "python",
   "nbconvert_exporter": "python",
   "pygments_lexer": "ipython3",
   "version": "3.6.3"
  }
 },
 "nbformat": 4,
 "nbformat_minor": 2
}
