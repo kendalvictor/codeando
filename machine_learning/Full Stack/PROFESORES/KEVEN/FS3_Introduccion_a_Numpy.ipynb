{
 "cells": [
  {
   "cell_type": "markdown",
   "metadata": {},
   "source": [
    "# Introducción a  Numpy\n",
    "\n",
    "Uno de los módulos más importantes de Python es **[Numpy](http://www.numpy.org/)**.\n",
    "\n",
    "Numpy es el encargado de añadir toda la capacidad matemática y vectorial a Python haciendo posible operar con cualquier dato numérico o array (posteriormente veremos qué es un array). "
   ]
  },
  {
   "cell_type": "markdown",
   "metadata": {},
   "source": [
    "## ¿Porqué usar Numpy?\n",
    "\n",
    "En múltiples ocasiones necesitamos hacer operaciones numéricas sobre datos provenientes de archivos Excel o Bases de datos que contienen múltiples campos (columnas) y múltiples registros (filas).\n",
    "\n",
    "Vimos que en Python existen las listas, tuplas y diccionarios, las cuales son de gran ayuda para almacenar y adminsitrar datos. Veamos qué sucede cuando queremos sumar los elementos almacenados en dos listas."
   ]
  },
  {
   "cell_type": "code",
   "execution_count": 2,
   "metadata": {},
   "outputs": [
    {
     "name": "stdout",
     "output_type": "stream",
     "text": [
      "[1, 2, 3, 4, 5, 6, 7, 8]\n"
     ]
    }
   ],
   "source": [
    "x=[1,2,3,4]\n",
    "y=[5,6,7,8]\n",
    "print(x+y)"
   ]
  },
  {
   "cell_type": "markdown",
   "metadata": {},
   "source": [
    "Como podemos notar, el operador + simplemente concatena las dos listas.\n",
    "¿Alguien sugiere como podriamos sumar los elementos de las dos listas, elemento por elemento?"
   ]
  },
  {
   "cell_type": "code",
   "execution_count": 3,
   "metadata": {},
   "outputs": [
    {
     "name": "stdout",
     "output_type": "stream",
     "text": [
      "[6, 8, 10, 12]\n"
     ]
    }
   ],
   "source": [
    "suma=[]\n",
    "for i in range(4):\n",
    "    suma.append(x[i]+y[i])\n",
    "    \n",
    "print(suma)"
   ]
  },
  {
   "cell_type": "markdown",
   "metadata": {},
   "source": [
    "## Cómo importar el paquete Numpy\n",
    "\n",
    "Partimos importando el paquete numpy usando la función import. En este caso usaremos el alias np para referirnos de manera más abreviada a las clases y  métodos implementados en numpy."
   ]
  },
  {
   "cell_type": "code",
   "execution_count": 4,
   "metadata": {
    "collapsed": true
   },
   "outputs": [],
   "source": [
    "import numpy"
   ]
  },
  {
   "cell_type": "code",
   "execution_count": 5,
   "metadata": {},
   "outputs": [
    {
     "name": "stdout",
     "output_type": "stream",
     "text": [
      "1.13.3\n"
     ]
    }
   ],
   "source": [
    "import numpy as np\n",
    "print(np.__version__)"
   ]
  },
  {
   "cell_type": "code",
   "execution_count": 6,
   "metadata": {},
   "outputs": [
    {
     "name": "stderr",
     "output_type": "stream",
     "text": [
      "IOPub data rate exceeded.\n",
      "The notebook server will temporarily stop sending output\n",
      "to the client in order to avoid crashing it.\n",
      "To change this limit, set the config variable\n",
      "`--NotebookApp.iopub_data_rate_limit`.\n"
     ]
    }
   ],
   "source": [
    "help(np)"
   ]
  },
  {
   "cell_type": "markdown",
   "metadata": {},
   "source": [
    "## Definición de arreglos en Numpy"
   ]
  },
  {
   "cell_type": "code",
   "execution_count": 7,
   "metadata": {},
   "outputs": [
    {
     "name": "stdout",
     "output_type": "stream",
     "text": [
      "[1 2 3 4]\n",
      "type(x):  <class 'numpy.ndarray'>\n",
      "x.dtype:  int32\n",
      "x.size:  4\n",
      "x.shape:  (4,)\n"
     ]
    }
   ],
   "source": [
    "# Definir un arreglo 1D\n",
    "\n",
    "x = np.array([1,2,3,4])\n",
    "print(x)\n",
    "print('type(x): ', type(x))\n",
    "print('x.dtype: ', x.dtype)\n",
    "print('x.size: ', x.size)\n",
    "print('x.shape: ', x.shape)"
   ]
  },
  {
   "cell_type": "code",
   "execution_count": 8,
   "metadata": {},
   "outputs": [
    {
     "name": "stdout",
     "output_type": "stream",
     "text": [
      "[ 1.  2.  3.  4.]\n",
      "type(x):  <class 'numpy.ndarray'>\n",
      "x.dtype:  float32\n",
      "x.size:  4\n",
      "x.shape:  (4,)\n"
     ]
    }
   ],
   "source": [
    "# Definir un arreglo 1D como tipo de dato de punto flotante\n",
    "\n",
    "x = np.array([1,2,3,4], dtype=np.float32)\n",
    "print(x)\n",
    "print('type(x): ', type(x))\n",
    "print('x.dtype: ', x.dtype)\n",
    "print('x.size: ', x.size)\n",
    "print('x.shape: ', x.shape)"
   ]
  },
  {
   "cell_type": "code",
   "execution_count": 9,
   "metadata": {},
   "outputs": [
    {
     "name": "stdout",
     "output_type": "stream",
     "text": [
      "x:  [ 1.  2.  3.  4.]\n",
      "y:  [5 6 7 8]\n",
      "Suma:  [  6.   8.  10.  12.]\n"
     ]
    }
   ],
   "source": [
    "# Sumar los arreglos x e y\n",
    "y = np.array([5,6,7,8])\n",
    "print('x: ', x)\n",
    "print('y: ', y)\n",
    "print('Suma: ', x+y)"
   ]
  },
  {
   "cell_type": "code",
   "execution_count": 10,
   "metadata": {},
   "outputs": [
    {
     "name": "stdout",
     "output_type": "stream",
     "text": [
      "[[1 2 3 4]\n",
      " [5 6 7 8]]\n",
      "<class 'numpy.ndarray'>\n",
      "8\n",
      "(2, 4)\n"
     ]
    }
   ],
   "source": [
    "# Definir un arreglo 2D\n",
    "x= np.array([[1,2,3,4],[5,6,7,8]])\n",
    "print(x)\n",
    "print(type(x))\n",
    "print(x.size)\n",
    "print(x.shape)"
   ]
  },
  {
   "cell_type": "code",
   "execution_count": 11,
   "metadata": {},
   "outputs": [
    {
     "data": {
      "text/plain": [
       "array([[1, 2, 3],\n",
       "       [5, 6, 7]])"
      ]
     },
     "execution_count": 11,
     "metadata": {},
     "output_type": "execute_result"
    }
   ],
   "source": [
    "x[0:2,0:3]"
   ]
  },
  {
   "cell_type": "markdown",
   "metadata": {},
   "source": [
    "**See Figure 1 for an illustration of indexing on a 2D array.**<br />\n",
    "<img src=\"images/numpy_indexing.png\" width=\"400\">"
   ]
  },
  {
   "cell_type": "code",
   "execution_count": 12,
   "metadata": {},
   "outputs": [
    {
     "name": "stdout",
     "output_type": "stream",
     "text": [
      "x:  [ 0.  0.  0.  0.  0.  0.  0.  0.  0.  0.]\n"
     ]
    }
   ],
   "source": [
    "# Inicializar un arreglo 1D y otro 2D con ceros. Notar que usamos Y por X\n",
    "x=np.zeros(10)\n",
    "print('x: ', x)"
   ]
  },
  {
   "cell_type": "code",
   "execution_count": 13,
   "metadata": {},
   "outputs": [
    {
     "name": "stdout",
     "output_type": "stream",
     "text": [
      "[[ 0.  0.  0.  0.]\n",
      " [ 0.  0.  0.  0.]]\n"
     ]
    }
   ],
   "source": [
    "y=np.zeros([2,4])\n",
    "print(y)"
   ]
  },
  {
   "cell_type": "code",
   "execution_count": 14,
   "metadata": {},
   "outputs": [
    {
     "name": "stdout",
     "output_type": "stream",
     "text": [
      "[ 0.2846045   0.87528312  0.72192501  0.29829333  0.59535142  0.30194413\n",
      "  0.29681136  0.72040417  0.66058244  0.25956626  0.93014222  0.44813946\n",
      "  0.50128134  0.88073287  0.13357484  0.22594432  0.76556647  0.45802378\n",
      "  0.36577075  0.32709069]\n"
     ]
    }
   ],
   "source": [
    "# Crear un arreglo usando valores aleatorios entre 0 y 1\n",
    "x=np.random.random(20)\n",
    "print(x)"
   ]
  },
  {
   "cell_type": "code",
   "execution_count": 15,
   "metadata": {},
   "outputs": [
    {
     "name": "stdout",
     "output_type": "stream",
     "text": [
      "[[ 1  2  3  4]\n",
      " [ 5  6  7  8]\n",
      " [ 9 10 11 12]]\n",
      "\n",
      "x[0,3]:  4\n",
      "\n",
      "x[:,0]:  [1 5 9]\n",
      "\n",
      "x[0,:]:  [1 2 3 4]\n"
     ]
    }
   ],
   "source": [
    "# Extraer valores de un arreglo Numpy usando indices\n",
    "\n",
    "x= np.array([[1,2,3,4],\n",
    "            [5,6,7,8],\n",
    "             [9,10,11,12]])\n",
    "print(x)\n",
    "\n",
    "print('\\nx[0,3]: ', x[0,3])\n",
    "\n",
    "print('\\nx[:,0]: ', x[:,0])\n",
    "print('\\nx[0,:]: ', x[0,:])"
   ]
  },
  {
   "cell_type": "code",
   "execution_count": 16,
   "metadata": {},
   "outputs": [
    {
     "data": {
      "text/plain": [
       "array([[ 1,  2,  3,  4],\n",
       "       [ 5,  6,  7,  8],\n",
       "       [ 9, 10, 11, 12]])"
      ]
     },
     "execution_count": 16,
     "metadata": {},
     "output_type": "execute_result"
    }
   ],
   "source": [
    "x"
   ]
  },
  {
   "cell_type": "code",
   "execution_count": 17,
   "metadata": {},
   "outputs": [
    {
     "name": "stdout",
     "output_type": "stream",
     "text": [
      "[[False False False False]\n",
      " [False False  True  True]\n",
      " [ True  True  True  True]]\n"
     ]
    }
   ],
   "source": [
    "# Numpy permite crear máscaras fácilmente usando condiciones booleanas\n",
    "a=x>6\n",
    "print(a)"
   ]
  },
  {
   "cell_type": "code",
   "execution_count": 18,
   "metadata": {},
   "outputs": [
    {
     "name": "stdout",
     "output_type": "stream",
     "text": [
      "[ 7  8  9 10 11 12]\n"
     ]
    }
   ],
   "source": [
    "# Extraer los valores de x que satisfacen la condición booleana. Para ello usamos la máscara\n",
    "print(x[a])"
   ]
  },
  {
   "cell_type": "markdown",
   "metadata": {},
   "source": [
    "**See Figure 2 for an illustration of boolean indexing on a 2D array.**<br />\n",
    "<img src=\"images/boolean_indexing.png\" width=\"400\">"
   ]
  },
  {
   "cell_type": "code",
   "execution_count": 19,
   "metadata": {},
   "outputs": [
    {
     "data": {
      "text/plain": [
       "(3, 4)"
      ]
     },
     "execution_count": 19,
     "metadata": {},
     "output_type": "execute_result"
    }
   ],
   "source": [
    "x.shape"
   ]
  },
  {
   "cell_type": "code",
   "execution_count": 20,
   "metadata": {
    "collapsed": true
   },
   "outputs": [],
   "source": [
    "# Sumar "
   ]
  },
  {
   "cell_type": "code",
   "execution_count": 21,
   "metadata": {},
   "outputs": [
    {
     "data": {
      "text/plain": [
       "array([[ 1,  2,  3,  4],\n",
       "       [ 5,  6,  7,  8],\n",
       "       [ 9, 10, 11, 12]])"
      ]
     },
     "execution_count": 21,
     "metadata": {},
     "output_type": "execute_result"
    }
   ],
   "source": [
    "x"
   ]
  },
  {
   "cell_type": "code",
   "execution_count": 22,
   "metadata": {},
   "outputs": [
    {
     "data": {
      "text/plain": [
       "array([15, 18, 21, 24])"
      ]
     },
     "execution_count": 22,
     "metadata": {},
     "output_type": "execute_result"
    }
   ],
   "source": [
    "# Sumar los valores de un arreglo 2D a lo largo del eje Y (columnas)\n",
    "np.sum(x, axis=0)"
   ]
  },
  {
   "cell_type": "code",
   "execution_count": 23,
   "metadata": {},
   "outputs": [
    {
     "data": {
      "text/plain": [
       "array([10, 26, 42])"
      ]
     },
     "execution_count": 23,
     "metadata": {},
     "output_type": "execute_result"
    }
   ],
   "source": [
    "# Sumar los valores de un arrego 2D a lo largo del eje X (filas)\n",
    "np.sum(x, axis=1)"
   ]
  },
  {
   "cell_type": "code",
   "execution_count": 24,
   "metadata": {},
   "outputs": [
    {
     "name": "stdout",
     "output_type": "stream",
     "text": [
      "[[ 1  5  9]\n",
      " [ 2  6 10]\n",
      " [ 3  7 11]\n",
      " [ 4  8 12]] (4, 3)\n"
     ]
    }
   ],
   "source": [
    "# Crear la transpuesta de la matriz x\n",
    "y= x.T\n",
    "print(y, y.shape)"
   ]
  },
  {
   "cell_type": "markdown",
   "metadata": {},
   "source": [
    "## Funciones matemáticas"
   ]
  },
  {
   "cell_type": "code",
   "execution_count": 43,
   "metadata": {},
   "outputs": [
    {
     "name": "stdout",
     "output_type": "stream",
     "text": [
      "Media:  0.516360743188\n",
      "Desviación Estandar:  0.288425779362\n"
     ]
    }
   ],
   "source": [
    "x=np.random.random(1000)\n",
    "#print(x)\n",
    "print('Media: ', np.mean(x))\n",
    "print('Desviación Estandar: ', np.std(x))"
   ]
  },
  {
   "cell_type": "code",
   "execution_count": 44,
   "metadata": {},
   "outputs": [
    {
     "name": "stdout",
     "output_type": "stream",
     "text": [
      "Media:  -0.0159822037709\n",
      "Desviación Estandar:  0.9688393075\n"
     ]
    }
   ],
   "source": [
    "x=np.random.randn(1000)\n",
    "print('Media: ', np.mean(x))\n",
    "print('Desviación Estandar: ', np.std(x))"
   ]
  },
  {
   "cell_type": "code",
   "execution_count": 47,
   "metadata": {
    "collapsed": true
   },
   "outputs": [],
   "source": [
    "# También es posible importar algunas funciones directamente desde las librerías\n",
    "# Para ello usamos la sintaxis from <nombre_libreria> import <nombre_funcion>\n",
    "from numpy.random import random"
   ]
  },
  {
   "cell_type": "code",
   "execution_count": 70,
   "metadata": {},
   "outputs": [
    {
     "data": {
      "text/plain": [
       "array([ 0.32892891,  0.80367649,  0.92083162,  0.07544028,  0.97624825,\n",
       "        0.21807605,  0.16293449,  0.42871114,  0.79896427,  0.88164432,\n",
       "        0.65931675,  0.73134637,  0.2196565 ,  0.03336017,  0.83127203,\n",
       "        0.43941271,  0.60697258,  0.55085357,  0.0475723 ,  0.33275042,\n",
       "        0.68234478,  0.86503805,  0.46508965,  0.63703927,  0.58611295,\n",
       "        0.6436661 ,  0.65552434,  0.35129071,  0.42481017,  0.33604407,\n",
       "        0.86584805,  0.25352498,  0.80675202,  0.36299459,  0.05275205,\n",
       "        0.64542391,  0.74521129,  0.79355451,  0.47663269,  0.69071252,\n",
       "        0.62596407,  0.49969834,  0.57098796,  0.38755026,  0.88801093,\n",
       "        0.75036705,  0.82068506,  0.46815103,  0.36278167,  0.82613914,\n",
       "        0.32780785,  0.06726349,  0.40549258,  0.34715284,  0.46792651,\n",
       "        0.30954639,  0.78597057,  0.20827519,  0.22341133,  0.70529088,\n",
       "        0.0102539 ,  0.09352274,  0.72025186,  0.27725522,  0.53036603,\n",
       "        0.18892182,  0.81711865,  0.13493952,  0.89494961,  0.72130791,\n",
       "        0.57273827,  0.86883461,  0.58834962,  0.20001848,  0.89382146,\n",
       "        0.06037269,  0.69001013,  0.00333208,  0.32989479,  0.09084463,\n",
       "        0.49475872,  0.62086476,  0.38495428,  0.72023482,  0.88153885,\n",
       "        0.98944576,  0.52069414,  0.40828412,  0.44991302,  0.12843225,\n",
       "        0.24776329,  0.75519533,  0.27699767,  0.51518234,  0.96124594,\n",
       "        0.58260004,  0.01818785,  0.86909727,  0.71450901,  0.4848055 ])"
      ]
     },
     "execution_count": 70,
     "metadata": {},
     "output_type": "execute_result"
    }
   ],
   "source": [
    "random(100)"
   ]
  },
  {
   "cell_type": "code",
   "execution_count": 71,
   "metadata": {},
   "outputs": [
    {
     "name": "stdout",
     "output_type": "stream",
     "text": [
      "[0 1 2 3 4 5 6 7 8 9]\n"
     ]
    }
   ],
   "source": [
    "# Crear un arreglo de enteros que comience en 0 y termine en 10 (no incluído)\n",
    "x=np.arange(0,10)\n",
    "print(x)"
   ]
  },
  {
   "cell_type": "code",
   "execution_count": 72,
   "metadata": {},
   "outputs": [
    {
     "name": "stdout",
     "output_type": "stream",
     "text": [
      "[ 0.   0.5  1.   1.5  2.   2.5  3.   3.5  4.   4.5  5.   5.5  6.   6.5  7.\n",
      "  7.5  8.   8.5  9.   9.5]\n",
      "float64\n"
     ]
    }
   ],
   "source": [
    "# Crear un arreglo de punto flotante que comience en 0 y termine en 10, con paso de 0.5\n",
    "x=np.arange(0,10,0.5, dtype=np.float64)\n",
    "print(x)\n",
    "print(x.dtype)"
   ]
  },
  {
   "cell_type": "code",
   "execution_count": 77,
   "metadata": {
    "scrolled": true
   },
   "outputs": [
    {
     "name": "stdout",
     "output_type": "stream",
     "text": [
      "[ 1.5  2.   2.5  3.   3.5]\n",
      "[  4.48168907   7.3890561   12.18249396  20.08553692  33.11545196]\n",
      "[ 0.40546511  0.69314718  0.91629073  1.09861229  1.25276297]\n"
     ]
    }
   ],
   "source": [
    "# Usar funciones trigonométricas\n",
    "# Numpy contiene una serie de constantes matemáticas. Usaremos Pi\n",
    "print(x[3:8])\n",
    "x_expo = np.exp(x[3:8])\n",
    "x_log = np.log(x[3:8])\n",
    "print(x_expo)\n",
    "print(x_log)"
   ]
  },
  {
   "cell_type": "code",
   "execution_count": 80,
   "metadata": {},
   "outputs": [
    {
     "name": "stdout",
     "output_type": "stream",
     "text": [
      "[  0.     0.25   1.     2.25   4.     6.25   9.    12.25  16.    20.25  25.\n",
      "  30.25  36.    42.25  49.    56.25  64.    72.25  81.    90.25]\n"
     ]
    }
   ],
   "source": [
    "# Usar funciones como potencia\n",
    "y=np.power(x,2) # elevar cada elemento del arreglo x, a la segunda potencia\n",
    "print(y)"
   ]
  },
  {
   "cell_type": "code",
   "execution_count": 81,
   "metadata": {},
   "outputs": [
    {
     "name": "stdout",
     "output_type": "stream",
     "text": [
      "[ 0.          0.70710678  1.          1.22474487  1.41421356  1.58113883\n",
      "  1.73205081  1.87082869  2.          2.12132034  2.23606798  2.34520788\n",
      "  2.44948974  2.54950976  2.64575131  2.73861279  2.82842712  2.91547595\n",
      "  3.          3.082207  ]\n"
     ]
    }
   ],
   "source": [
    "# Usar funciones como raíz cuadrada\n",
    "y=np.sqrt(x) # raíz de a, del inglés \"square root\"\n",
    "print(y)"
   ]
  },
  {
   "cell_type": "markdown",
   "metadata": {},
   "source": [
    "Escribir *np.sqrt(x)* es mucho más breve que la alternativa de usar funciones nativas de Python: Calcular una a una las raíces cuadradas de cada elemento de *x*."
   ]
  },
  {
   "cell_type": "code",
   "execution_count": 3,
   "metadata": {},
   "outputs": [
    {
     "data": {
      "text/html": [
       "<div>\n",
       "<style>\n",
       "    .dataframe thead tr:only-child th {\n",
       "        text-align: right;\n",
       "    }\n",
       "\n",
       "    .dataframe thead th {\n",
       "        text-align: left;\n",
       "    }\n",
       "\n",
       "    .dataframe tbody tr th {\n",
       "        vertical-align: top;\n",
       "    }\n",
       "</style>\n",
       "<table border=\"1\" class=\"dataframe\">\n",
       "  <thead>\n",
       "    <tr style=\"text-align: right;\">\n",
       "      <th></th>\n",
       "      <th>col_1</th>\n",
       "      <th>col_2</th>\n",
       "    </tr>\n",
       "  </thead>\n",
       "  <tbody>\n",
       "    <tr>\n",
       "      <th>0</th>\n",
       "      <td>1</td>\n",
       "      <td>2</td>\n",
       "    </tr>\n",
       "    <tr>\n",
       "      <th>1</th>\n",
       "      <td>5</td>\n",
       "      <td>6</td>\n",
       "    </tr>\n",
       "  </tbody>\n",
       "</table>\n",
       "</div>"
      ],
      "text/plain": [
       "   col_1  col_2\n",
       "0      1      2\n",
       "1      5      6"
      ]
     },
     "execution_count": 3,
     "metadata": {},
     "output_type": "execute_result"
    }
   ],
   "source": [
    "import pandas as pd\n",
    "df = pd.DataFrame([ [1,2],[5,6] ], columns = [\"col_1\", \"col_2\"])\n",
    "df"
   ]
  }
 ],
 "metadata": {
  "kernelspec": {
   "display_name": "Python 3",
   "language": "python",
   "name": "python3"
  },
  "language_info": {
   "codemirror_mode": {
    "name": "ipython",
    "version": 3
   },
   "file_extension": ".py",
   "mimetype": "text/x-python",
   "name": "python",
   "nbconvert_exporter": "python",
   "pygments_lexer": "ipython3",
   "version": "3.6.3"
  }
 },
 "nbformat": 4,
 "nbformat_minor": 2
}
