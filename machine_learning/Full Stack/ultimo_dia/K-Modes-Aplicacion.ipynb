{
 "cells": [
  {
   "cell_type": "markdown",
   "metadata": {},
   "source": [
    "## Import librerias"
   ]
  },
  {
   "cell_type": "code",
   "execution_count": null,
   "metadata": {
    "collapsed": true
   },
   "outputs": [],
   "source": [
    "import pandas as pd\n",
    "from kmodes.kmodes import KModes"
   ]
  },
  {
   "cell_type": "code",
   "execution_count": null,
   "metadata": {
    "collapsed": true
   },
   "outputs": [],
   "source": [
    "# import libro excel en pandas\n",
    "xls_file = pd.ExcelFile(\"traffic_violations.xlsx\")\n",
    "\n",
    "# obtener data de una hoja en especifico\n",
    "pd_traffic_violations = xls_file.parse('Hoja1' )"
   ]
  },
  {
   "cell_type": "code",
   "execution_count": null,
   "metadata": {
    "scrolled": true
   },
   "outputs": [],
   "source": [
    "pd_traffic_violations.head()"
   ]
  },
  {
   "cell_type": "code",
   "execution_count": null,
   "metadata": {
    "collapsed": true
   },
   "outputs": [],
   "source": [
    "# seleccion de variables al modelo\n",
    "pd_traffic_violations_to_model = \\\n",
    "pd_traffic_violations[['CODIGO INFRACCION','TIPO DE VIA', 'LUGAR DE INTERVENCION','EMPRESA DE TRANSPORTE']]"
   ]
  },
  {
   "cell_type": "code",
   "execution_count": null,
   "metadata": {},
   "outputs": [],
   "source": [
    "pd_traffic_violations_to_model.head()"
   ]
  },
  {
   "cell_type": "code",
   "execution_count": null,
   "metadata": {
    "collapsed": true
   },
   "outputs": [],
   "source": [
    "# instanciar k-modes object - 180 clusters\n",
    "kmodes = KModes(n_clusters = 180 , init='Cao', verbose=1)"
   ]
  },
  {
   "cell_type": "code",
   "execution_count": null,
   "metadata": {},
   "outputs": [],
   "source": [
    "# modelando\n",
    "kmodes.fit(pd_traffic_violations_to_model)"
   ]
  },
  {
   "cell_type": "code",
   "execution_count": null,
   "metadata": {},
   "outputs": [],
   "source": [
    "# centroides de los clusters\n",
    "print(kmodes.cluster_centroids_)"
   ]
  },
  {
   "cell_type": "code",
   "execution_count": null,
   "metadata": {},
   "outputs": [],
   "source": [
    "# propiedades del modelo\n",
    "print(kmodes.cost_)\n",
    "print(kmodes.n_iter_)"
   ]
  },
  {
   "cell_type": "code",
   "execution_count": null,
   "metadata": {
    "collapsed": true
   },
   "outputs": [],
   "source": [
    "# añadir columna cluster al dataset\n",
    "pd_traffic_violations['CLUSTER']  = kmodes.labels_ "
   ]
  },
  {
   "cell_type": "code",
   "execution_count": null,
   "metadata": {},
   "outputs": [],
   "source": [
    "pd_traffic_violations.head()"
   ]
  },
  {
   "cell_type": "code",
   "execution_count": null,
   "metadata": {
    "collapsed": true
   },
   "outputs": [],
   "source": [
    "# guardar nuevo dataset etiquetado como .csv\n",
    "pd_traffic_violations.to_csv('kmodes_clustering_traffic_violations.csv', index = False , header = True)"
   ]
  },
  {
   "cell_type": "markdown",
   "metadata": {},
   "source": [
    "### CENTROIDES"
   ]
  },
  {
   "cell_type": "code",
   "execution_count": null,
   "metadata": {
    "collapsed": true
   },
   "outputs": [],
   "source": [
    "# guardar centroides como .csv\n",
    "df_centroides_kmodes = pd.DataFrame(kmodes.cluster_centroids_ ,\n",
    "                            columns=list(pd_traffic_violations_to_model.columns))\n",
    "df_centroides_kmodes.to_csv('kmodes_centroides.csv', index = False , header = True)"
   ]
  }
 ],
 "metadata": {
  "kernelspec": {
   "display_name": "Python 3",
   "language": "python",
   "name": "python3"
  },
  "language_info": {
   "codemirror_mode": {
    "name": "ipython",
    "version": 3
   },
   "file_extension": ".py",
   "mimetype": "text/x-python",
   "name": "python",
   "nbconvert_exporter": "python",
   "pygments_lexer": "ipython3",
   "version": "3.6.1"
  }
 },
 "nbformat": 4,
 "nbformat_minor": 2
}
