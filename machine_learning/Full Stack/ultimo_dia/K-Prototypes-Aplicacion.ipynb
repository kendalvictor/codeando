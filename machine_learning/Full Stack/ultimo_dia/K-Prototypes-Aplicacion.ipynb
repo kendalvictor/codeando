{
 "cells": [
  {
   "cell_type": "markdown",
   "metadata": {},
   "source": [
    "## Import librerias"
   ]
  },
  {
   "cell_type": "code",
   "execution_count": null,
   "metadata": {
    "collapsed": true
   },
   "outputs": [],
   "source": [
    "import pandas as pd\n",
    "from kmodes.kprototypes import KPrototypes"
   ]
  },
  {
   "cell_type": "code",
   "execution_count": null,
   "metadata": {
    "collapsed": true
   },
   "outputs": [],
   "source": [
    "# import libro excel en pandas\n",
    "xls_file = pd.ExcelFile(\"traffic_violations_all.xlsx\")\n",
    "\n",
    "# obtener data de una hoja en especifico\n",
    "pd_traffic_violations = xls_file.parse('Hoja1' )"
   ]
  },
  {
   "cell_type": "code",
   "execution_count": null,
   "metadata": {},
   "outputs": [],
   "source": [
    "pd_traffic_violations.head()"
   ]
  },
  {
   "cell_type": "code",
   "execution_count": null,
   "metadata": {
    "collapsed": true
   },
   "outputs": [],
   "source": [
    "# seleccion de variables al modelo\n",
    "pd_traffic_violations_to_model = \\\n",
    "pd_traffic_violations[['EDAD', 'CANTIDAD_PAPELETAS_ULTIMO_ANO' , 'CILINDRAJE_MOTOR' , \n",
    "                       'CODIGO_INFRACCION','TIPO_DE_VIA', 'LUGAR_DE_INTERVENCION','EMPRESA_DE_TRANSPORTE']]"
   ]
  },
  {
   "cell_type": "code",
   "execution_count": null,
   "metadata": {},
   "outputs": [],
   "source": [
    "pd_traffic_violations_to_model.head()"
   ]
  },
  {
   "cell_type": "code",
   "execution_count": null,
   "metadata": {
    "scrolled": false
   },
   "outputs": [],
   "source": [
    "pd_traffic_violations_to_model.info()"
   ]
  },
  {
   "cell_type": "code",
   "execution_count": null,
   "metadata": {},
   "outputs": [],
   "source": [
    "# como numpy.ndarray\n",
    "pd_traffic_violations_to_model.values"
   ]
  },
  {
   "cell_type": "code",
   "execution_count": null,
   "metadata": {
    "collapsed": true
   },
   "outputs": [],
   "source": [
    "# instanciar k-prototypes object - 10 clusters\n",
    "kprototypes = KPrototypes(n_clusters = 10 , init='Huang', verbose=1)"
   ]
  },
  {
   "cell_type": "code",
   "execution_count": null,
   "metadata": {
    "scrolled": true
   },
   "outputs": [],
   "source": [
    "# modelando\n",
    "kprototypes.fit(pd_traffic_violations_to_model.values , categorical=[3,4,5,6] )"
   ]
  },
  {
   "cell_type": "code",
   "execution_count": null,
   "metadata": {},
   "outputs": [],
   "source": [
    "# centroides de los clusters\n",
    "print(kprototypes.cluster_centroids_)"
   ]
  },
  {
   "cell_type": "code",
   "execution_count": null,
   "metadata": {},
   "outputs": [],
   "source": [
    "# propiedades del modelo\n",
    "print(kprototypes.cost_)\n",
    "print(kprototypes.n_iter_)"
   ]
  },
  {
   "cell_type": "code",
   "execution_count": null,
   "metadata": {
    "collapsed": true
   },
   "outputs": [],
   "source": [
    "# añadir columna cluster al dataset\n",
    "pd_traffic_violations['CLUSTER']  = kprototypes.labels_ "
   ]
  },
  {
   "cell_type": "code",
   "execution_count": null,
   "metadata": {
    "collapsed": true
   },
   "outputs": [],
   "source": [
    "# guardar nuevo dataset etiquetado como .csv\n",
    "pd_traffic_violations.to_csv('kprototypes_clustering_traffic_violations_all.csv', index = False , header = True)"
   ]
  },
  {
   "cell_type": "markdown",
   "metadata": {},
   "source": [
    "### CENTROIDES"
   ]
  },
  {
   "cell_type": "code",
   "execution_count": null,
   "metadata": {
    "collapsed": true
   },
   "outputs": [],
   "source": [
    "categorical_var = ['CODIGO_INFRACCION','TIPO_DE_VIA', 'LUGAR_DE_INTERVENCION','EMPRESA_DE_TRANSPORTE']\n",
    "numerical_var = ['EDAD', 'CANTIDAD_PAPELETAS_ULTIMO_ANO' , 'CILINDRAJE_MOTOR']"
   ]
  },
  {
   "cell_type": "code",
   "execution_count": null,
   "metadata": {},
   "outputs": [],
   "source": [
    "df_numerical = pd.DataFrame(kprototypes.cluster_centroids_[0] , columns=numerical_var)\n",
    "df_numerical"
   ]
  },
  {
   "cell_type": "code",
   "execution_count": null,
   "metadata": {},
   "outputs": [],
   "source": [
    "df_categorical = pd.DataFrame(kprototypes.cluster_centroids_[1] , columns=categorical_var)\n",
    "df_categorical"
   ]
  },
  {
   "cell_type": "code",
   "execution_count": null,
   "metadata": {},
   "outputs": [],
   "source": [
    "df_centroides_kprototypes = pd.concat(  [df_numerical , df_categorical] , axis=1)\n",
    "df_centroides_kprototypes"
   ]
  },
  {
   "cell_type": "code",
   "execution_count": null,
   "metadata": {
    "collapsed": true
   },
   "outputs": [],
   "source": [
    "# guardar centroides como .csv\n",
    "df_centroides_kprototypes.to_csv('kprototypes_clustering_centroides.csv', index = False , header = True)"
   ]
  }
 ],
 "metadata": {
  "kernelspec": {
   "display_name": "Python 3",
   "language": "python",
   "name": "python3"
  },
  "language_info": {
   "codemirror_mode": {
    "name": "ipython",
    "version": 3
   },
   "file_extension": ".py",
   "mimetype": "text/x-python",
   "name": "python",
   "nbconvert_exporter": "python",
   "pygments_lexer": "ipython3",
   "version": "3.6.1"
  }
 },
 "nbformat": 4,
 "nbformat_minor": 2
}
