{
 "cells": [
  {
   "cell_type": "code",
   "execution_count": 1,
   "metadata": {
    "collapsed": false
   },
   "outputs": [
    {
     "data": {
      "text/html": [
       "<div>\n",
       "<style scoped>\n",
       "    .dataframe tbody tr th:only-of-type {\n",
       "        vertical-align: middle;\n",
       "    }\n",
       "\n",
       "    .dataframe tbody tr th {\n",
       "        vertical-align: top;\n",
       "    }\n",
       "\n",
       "    .dataframe thead th {\n",
       "        text-align: right;\n",
       "    }\n",
       "</style>\n",
       "<table border=\"1\" class=\"dataframe\">\n",
       "  <thead>\n",
       "    <tr style=\"text-align: right;\">\n",
       "      <th></th>\n",
       "      <th>SEXO</th>\n",
       "      <th>FLAG_CASADO</th>\n",
       "      <th>NRO_DEPENDIENTES</th>\n",
       "      <th>EDUCACION</th>\n",
       "      <th>FLAG_TRAB_INDEP</th>\n",
       "      <th>INGRESOS_SOLICITANTE</th>\n",
       "      <th>INGRESOS_COSOLICITANTE</th>\n",
       "      <th>MONTO_PRESTAMO_MILES</th>\n",
       "      <th>PLAZO_PRESTAMO_MESES</th>\n",
       "      <th>FLAG_HISTORIAL_CREDITICIO</th>\n",
       "      <th>TIPO_ZONA</th>\n",
       "      <th>FLAG_CRED_HIPO</th>\n",
       "    </tr>\n",
       "  </thead>\n",
       "  <tbody>\n",
       "    <tr>\n",
       "      <th>0</th>\n",
       "      <td>0</td>\n",
       "      <td>0</td>\n",
       "      <td>0</td>\n",
       "      <td>0</td>\n",
       "      <td>0</td>\n",
       "      <td>0</td>\n",
       "      <td>0</td>\n",
       "      <td>0</td>\n",
       "      <td>0</td>\n",
       "      <td>0</td>\n",
       "      <td>0</td>\n",
       "      <td>0</td>\n",
       "    </tr>\n",
       "    <tr>\n",
       "      <th>1</th>\n",
       "      <td>0</td>\n",
       "      <td>1</td>\n",
       "      <td>1</td>\n",
       "      <td>0</td>\n",
       "      <td>0</td>\n",
       "      <td>1</td>\n",
       "      <td>1</td>\n",
       "      <td>0</td>\n",
       "      <td>0</td>\n",
       "      <td>0</td>\n",
       "      <td>1</td>\n",
       "      <td>1</td>\n",
       "    </tr>\n",
       "    <tr>\n",
       "      <th>2</th>\n",
       "      <td>0</td>\n",
       "      <td>1</td>\n",
       "      <td>0</td>\n",
       "      <td>0</td>\n",
       "      <td>1</td>\n",
       "      <td>2</td>\n",
       "      <td>0</td>\n",
       "      <td>1</td>\n",
       "      <td>0</td>\n",
       "      <td>0</td>\n",
       "      <td>0</td>\n",
       "      <td>0</td>\n",
       "    </tr>\n",
       "    <tr>\n",
       "      <th>3</th>\n",
       "      <td>0</td>\n",
       "      <td>1</td>\n",
       "      <td>0</td>\n",
       "      <td>1</td>\n",
       "      <td>0</td>\n",
       "      <td>2</td>\n",
       "      <td>2</td>\n",
       "      <td>2</td>\n",
       "      <td>0</td>\n",
       "      <td>0</td>\n",
       "      <td>0</td>\n",
       "      <td>0</td>\n",
       "    </tr>\n",
       "    <tr>\n",
       "      <th>4</th>\n",
       "      <td>0</td>\n",
       "      <td>0</td>\n",
       "      <td>0</td>\n",
       "      <td>0</td>\n",
       "      <td>0</td>\n",
       "      <td>0</td>\n",
       "      <td>0</td>\n",
       "      <td>0</td>\n",
       "      <td>0</td>\n",
       "      <td>0</td>\n",
       "      <td>0</td>\n",
       "      <td>0</td>\n",
       "    </tr>\n",
       "  </tbody>\n",
       "</table>\n",
       "</div>"
      ],
      "text/plain": [
       "   SEXO  FLAG_CASADO  NRO_DEPENDIENTES  EDUCACION  FLAG_TRAB_INDEP  \\\n",
       "0     0            0                 0          0                0   \n",
       "1     0            1                 1          0                0   \n",
       "2     0            1                 0          0                1   \n",
       "3     0            1                 0          1                0   \n",
       "4     0            0                 0          0                0   \n",
       "\n",
       "   INGRESOS_SOLICITANTE  INGRESOS_COSOLICITANTE  MONTO_PRESTAMO_MILES  \\\n",
       "0                     0                       0                     0   \n",
       "1                     1                       1                     0   \n",
       "2                     2                       0                     1   \n",
       "3                     2                       2                     2   \n",
       "4                     0                       0                     0   \n",
       "\n",
       "   PLAZO_PRESTAMO_MESES  FLAG_HISTORIAL_CREDITICIO  TIPO_ZONA  FLAG_CRED_HIPO  \n",
       "0                     0                          0          0               0  \n",
       "1                     0                          0          1               1  \n",
       "2                     0                          0          0               0  \n",
       "3                     0                          0          0               0  \n",
       "4                     0                          0          0               0  "
      ]
     },
     "execution_count": 1,
     "metadata": {},
     "output_type": "execute_result"
    }
   ],
   "source": [
    "#Carga de datos\n",
    "import pandas as pd\n",
    "data_1 = pd.read_csv('CLEAN_credito_1.csv', encoding= \"ISO-8859-1\", sep=\",\")\n",
    "data_1.head()"
   ]
  },
  {
   "cell_type": "code",
   "execution_count": 2,
   "metadata": {
    "collapsed": false
   },
   "outputs": [
    {
     "data": {
      "text/html": [
       "<div>\n",
       "<style scoped>\n",
       "    .dataframe tbody tr th:only-of-type {\n",
       "        vertical-align: middle;\n",
       "    }\n",
       "\n",
       "    .dataframe tbody tr th {\n",
       "        vertical-align: top;\n",
       "    }\n",
       "\n",
       "    .dataframe thead th {\n",
       "        text-align: right;\n",
       "    }\n",
       "</style>\n",
       "<table border=\"1\" class=\"dataframe\">\n",
       "  <thead>\n",
       "    <tr style=\"text-align: right;\">\n",
       "      <th></th>\n",
       "      <th>SEXO</th>\n",
       "      <th>FLAG_CASADO</th>\n",
       "      <th>NRO_DEPENDIENTES</th>\n",
       "      <th>EDUCACION</th>\n",
       "      <th>FLAG_TRAB_INDEP</th>\n",
       "      <th>INGRESOS_SOLICITANTE</th>\n",
       "      <th>INGRESOS_COSOLICITANTE</th>\n",
       "      <th>MONTO_PRESTAMO_MILES</th>\n",
       "      <th>PLAZO_PRESTAMO_MESES</th>\n",
       "      <th>FLAG_HISTORIAL_CREDITICIO</th>\n",
       "      <th>TIPO_ZONA</th>\n",
       "      <th>FLAG_CRED_HIPO</th>\n",
       "    </tr>\n",
       "  </thead>\n",
       "  <tbody>\n",
       "    <tr>\n",
       "      <th>0</th>\n",
       "      <td>0</td>\n",
       "      <td>0</td>\n",
       "      <td>0</td>\n",
       "      <td>0</td>\n",
       "      <td>0</td>\n",
       "      <td>0</td>\n",
       "      <td>0</td>\n",
       "      <td>0</td>\n",
       "      <td>0</td>\n",
       "      <td>0</td>\n",
       "      <td>0</td>\n",
       "      <td>0</td>\n",
       "    </tr>\n",
       "    <tr>\n",
       "      <th>1</th>\n",
       "      <td>0</td>\n",
       "      <td>1</td>\n",
       "      <td>1</td>\n",
       "      <td>0</td>\n",
       "      <td>0</td>\n",
       "      <td>1</td>\n",
       "      <td>1</td>\n",
       "      <td>0</td>\n",
       "      <td>0</td>\n",
       "      <td>0</td>\n",
       "      <td>1</td>\n",
       "      <td>1</td>\n",
       "    </tr>\n",
       "    <tr>\n",
       "      <th>2</th>\n",
       "      <td>0</td>\n",
       "      <td>1</td>\n",
       "      <td>0</td>\n",
       "      <td>0</td>\n",
       "      <td>1</td>\n",
       "      <td>2</td>\n",
       "      <td>0</td>\n",
       "      <td>1</td>\n",
       "      <td>0</td>\n",
       "      <td>0</td>\n",
       "      <td>0</td>\n",
       "      <td>0</td>\n",
       "    </tr>\n",
       "    <tr>\n",
       "      <th>3</th>\n",
       "      <td>0</td>\n",
       "      <td>1</td>\n",
       "      <td>0</td>\n",
       "      <td>1</td>\n",
       "      <td>0</td>\n",
       "      <td>2</td>\n",
       "      <td>2</td>\n",
       "      <td>2</td>\n",
       "      <td>0</td>\n",
       "      <td>0</td>\n",
       "      <td>0</td>\n",
       "      <td>0</td>\n",
       "    </tr>\n",
       "    <tr>\n",
       "      <th>4</th>\n",
       "      <td>0</td>\n",
       "      <td>0</td>\n",
       "      <td>0</td>\n",
       "      <td>0</td>\n",
       "      <td>0</td>\n",
       "      <td>0</td>\n",
       "      <td>0</td>\n",
       "      <td>0</td>\n",
       "      <td>0</td>\n",
       "      <td>0</td>\n",
       "      <td>0</td>\n",
       "      <td>0</td>\n",
       "    </tr>\n",
       "  </tbody>\n",
       "</table>\n",
       "</div>"
      ],
      "text/plain": [
       "   SEXO  FLAG_CASADO  NRO_DEPENDIENTES  EDUCACION  FLAG_TRAB_INDEP  \\\n",
       "0     0            0                 0          0                0   \n",
       "1     0            1                 1          0                0   \n",
       "2     0            1                 0          0                1   \n",
       "3     0            1                 0          1                0   \n",
       "4     0            0                 0          0                0   \n",
       "\n",
       "   INGRESOS_SOLICITANTE  INGRESOS_COSOLICITANTE  MONTO_PRESTAMO_MILES  \\\n",
       "0                     0                       0                     0   \n",
       "1                     1                       1                     0   \n",
       "2                     2                       0                     1   \n",
       "3                     2                       2                     2   \n",
       "4                     0                       0                     0   \n",
       "\n",
       "   PLAZO_PRESTAMO_MESES  FLAG_HISTORIAL_CREDITICIO  TIPO_ZONA  FLAG_CRED_HIPO  \n",
       "0                     0                          0          0               0  \n",
       "1                     0                          0          1               1  \n",
       "2                     0                          0          0               0  \n",
       "3                     0                          0          0               0  \n",
       "4                     0                          0          0               0  "
      ]
     },
     "execution_count": 2,
     "metadata": {},
     "output_type": "execute_result"
    }
   ],
   "source": [
    "data_2 = pd.read_csv('CLEAN_credito_2.csv', encoding= \"ISO-8859-1\", sep=\",\")\n",
    "data_2.head()"
   ]
  },
  {
   "cell_type": "code",
   "execution_count": 3,
   "metadata": {
    "collapsed": false
   },
   "outputs": [],
   "source": [
    "from sklearn.ensemble import RandomForestClassifier\n",
    "from sklearn.model_selection import train_test_split\n",
    "from sklearn.metrics import accuracy_score\n",
    "from sklearn.metrics import confusion_matrix\n",
    "import warnings\n",
    "warnings.filterwarnings(\"ignore\")\n",
    "\n",
    "class Modelation:\n",
    "    def __init__(self, data):\n",
    "        self.data = data.copy()\n",
    "        self.arbol = None\n",
    "        self.split_data()\n",
    "        \n",
    "    def split_data(self):\n",
    "        X_data = self.data.drop(['FLAG_CRED_HIPO'], axis=1)\n",
    "        y_data = self.data['FLAG_CRED_HIPO']\n",
    "        self.X_train, self.X_test, self.y_train, self.y_test = train_test_split(\n",
    "            X_data, \n",
    "            y_data, \n",
    "            train_size=0.7, \n",
    "            random_state=20\n",
    "        )\n",
    "    \n",
    "    def run_forest(self, max_depth=7):\n",
    "        self.arbol = RandomForestClassifier(\n",
    "            n_estimators=100, max_depth=max_depth, n_jobs=2, \n",
    "            random_state=20, min_samples_split=2)\n",
    "        self.arbol.fit(self.X_train, self.y_train)\n",
    "    \n",
    "    def print_result(self):\n",
    "        predict_train = self.arbol.predict(self.X_train)\n",
    "        predict_test = self.arbol.predict(self.X_test)\n",
    "        print(\"MATRZI DE CONFUSION\")\n",
    "        print(confusion_matrix(self.y_train, predict_train))\n",
    "        print(\"----\"*5)\n",
    "        print(\"exactitud data TRAIN : \", accuracy_score(self.y_train, predict_train))\n",
    "        print(\"exactitud data TEST : \", accuracy_score(self.y_test, predict_test))"
   ]
  },
  {
   "cell_type": "code",
   "execution_count": 4,
   "metadata": {
    "collapsed": false
   },
   "outputs": [],
   "source": [
    "model_1 = Modelation(data_1)\n",
    "model_2 = Modelation(data_2)"
   ]
  },
  {
   "cell_type": "code",
   "execution_count": 5,
   "metadata": {
    "collapsed": false
   },
   "outputs": [
    {
     "name": "stdout",
     "output_type": "stream",
     "text": [
      "MATRZI DE CONFUSION\n",
      "[[306   0]\n",
      " [ 57  66]]\n",
      "--------------------\n",
      "exactitud data TRAIN :  0.867132867133\n",
      "exactitud data TEST :  0.783783783784\n"
     ]
    }
   ],
   "source": [
    "#Analisis de model_1 donde se reemplazo los valores categoricos por su moda\n",
    "model_1.run_forest()\n",
    "model_1.print_result()"
   ]
  },
  {
   "cell_type": "code",
   "execution_count": 6,
   "metadata": {
    "collapsed": false
   },
   "outputs": [
    {
     "name": "stdout",
     "output_type": "stream",
     "text": [
      "MATRZI DE CONFUSION\n",
      "[[306   0]\n",
      " [ 21 102]]\n",
      "--------------------\n",
      "exactitud data TRAIN :  0.951048951049\n",
      "exactitud data TEST :  0.783783783784\n"
     ]
    }
   ],
   "source": [
    "model_1.run_forest(max_depth=10)\n",
    "model_1.print_result()"
   ]
  },
  {
   "cell_type": "code",
   "execution_count": 7,
   "metadata": {
    "collapsed": false
   },
   "outputs": [
    {
     "name": "stdout",
     "output_type": "stream",
     "text": [
      "MATRZI DE CONFUSION\n",
      "[[304   2]\n",
      " [ 49  74]]\n",
      "--------------------\n",
      "exactitud data TRAIN :  0.881118881119\n",
      "exactitud data TEST :  0.794594594595\n"
     ]
    }
   ],
   "source": [
    "#Analisis de model_1 donde se reemplazo los valores categoricos por su moda\n",
    "model_2.run_forest()\n",
    "model_2.print_result()"
   ]
  },
  {
   "cell_type": "code",
   "execution_count": 8,
   "metadata": {
    "collapsed": false
   },
   "outputs": [
    {
     "name": "stdout",
     "output_type": "stream",
     "text": [
      "MATRZI DE CONFUSION\n",
      "[[306   0]\n",
      " [ 18 105]]\n",
      "--------------------\n",
      "exactitud data TRAIN :  0.958041958042\n",
      "exactitud data TEST :  0.789189189189\n"
     ]
    }
   ],
   "source": [
    "model_2.run_forest(max_depth=10)\n",
    "model_2.print_result()"
   ]
  },
  {
   "cell_type": "code",
   "execution_count": null,
   "metadata": {
    "collapsed": true
   },
   "outputs": [],
   "source": []
  }
 ],
 "metadata": {
  "kernelspec": {
   "display_name": "Python 3",
   "language": "python",
   "name": "python3"
  },
  "language_info": {
   "codemirror_mode": {
    "name": "ipython",
    "version": 3
   },
   "file_extension": ".py",
   "mimetype": "text/x-python",
   "name": "python",
   "nbconvert_exporter": "python",
   "pygments_lexer": "ipython3",
   "version": "3.6.4"
  }
 },
 "nbformat": 4,
 "nbformat_minor": 2
}
