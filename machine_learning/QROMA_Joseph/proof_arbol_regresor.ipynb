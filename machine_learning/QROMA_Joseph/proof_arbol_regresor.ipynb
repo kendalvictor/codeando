{
 "cells": [
  {
   "cell_type": "code",
   "execution_count": 1,
   "metadata": {
    "collapsed": false
   },
   "outputs": [
    {
     "data": {
      "image/png": "[encoded data removed]",
      "text/plain": [
       "<matplotlib.figure.Figure at 0x7fea395025f8>"
      ]
     },
     "metadata": {},
     "output_type": "display_data"
    }
   ],
   "source": [
    "import numpy as np\n",
    "from sklearn.tree import DecisionTreeRegressor\n",
    "import matplotlib.pyplot as plt\n",
    "\n",
    "# Create a random dataset\n",
    "rng = np.random.RandomState(1)\n",
    "X = np.sort(5 * rng.rand(80, 1), axis=0)\n",
    "y = np.sin(X).ravel()\n",
    "y[::5] += 3 * (0.5 - rng.rand(16))\n",
    "\n",
    "# Fit regression model\n",
    "regr_1 = DecisionTreeRegressor(max_depth=2)\n",
    "regr_2 = DecisionTreeRegressor(max_depth=5)\n",
    "regr_1.fit(X, y)\n",
    "regr_2.fit(X, y)\n",
    "\n",
    "# Predict\n",
    "X_test = np.arange(0.0, 5.0, 0.01)[:, np.newaxis]\n",
    "y_1 = regr_1.predict(X_test)\n",
    "y_2 = regr_2.predict(X_test)\n",
    "\n",
    "# Plot the results\n",
    "plt.figure()\n",
    "plt.scatter(X, y, s=20, edgecolor=\"black\",\n",
    "            c=\"darkorange\", label=\"data\")\n",
    "plt.plot(X_test, y_1, color=\"cornflowerblue\",\n",
    "         label=\"max_depth=2\", linewidth=2)\n",
    "plt.plot(X_test, y_2, color=\"yellowgreen\", label=\"max_depth=5\", linewidth=2)\n",
    "plt.xlabel(\"data\")\n",
    "plt.ylabel(\"target\")\n",
    "plt.title(\"Decision Tree Regression\")\n",
    "plt.legend()\n",
    "plt.show()\n"
   ]
  },
  {
   "cell_type": "code",
   "execution_count": 2,
   "metadata": {
    "collapsed": false
   },
   "outputs": [
    {
     "data": {
      "text/plain": [
       "array([[ 0.01435164],\n",
       "       [ 0.0627799 ],\n",
       "       [ 0.07910621],\n",
       "       [ 0.09288101],\n",
       "       [ 0.09323645],\n",
       "       [ 0.09940067],\n",
       "       [ 0.13105493],\n",
       "       [ 0.14153244],\n",
       "       [ 0.22275939],\n",
       "       [ 0.29958845],\n",
       "       [ 0.33000086],\n",
       "       [ 0.35011072],\n",
       "       [ 0.3598714 ],\n",
       "       [ 0.53747065],\n",
       "       [ 0.60671728],\n",
       "       [ 0.62086658],\n",
       "       [ 0.62135481],\n",
       "       [ 0.68227613],\n",
       "       [ 0.68567875],\n",
       "       [ 0.78395697],\n",
       "       [ 0.86170254],\n",
       "       [ 0.97714741],\n",
       "       [ 1.01646617],\n",
       "       [ 1.12854669],\n",
       "       [ 1.16487137],\n",
       "       [ 1.1992388 ],\n",
       "       [ 1.23105534],\n",
       "       [ 1.26162872],\n",
       "       [ 1.3959184 ],\n",
       "       [ 1.58681205],\n",
       "       [ 1.63322451],\n",
       "       [ 1.7863488 ],\n",
       "       [ 1.90070586],\n",
       "       [ 1.93930322],\n",
       "       [ 2.43172555],\n",
       "       [ 2.46884857],\n",
       "       [ 2.63529051],\n",
       "       [ 2.69415532],\n",
       "       [ 2.7547411 ],\n",
       "       [ 2.76410989],\n",
       "       [ 2.78120117],\n",
       "       [ 2.79858491],\n",
       "       [ 2.8051511 ],\n",
       "       [ 2.84050231],\n",
       "       [ 2.84425719],\n",
       "       [ 2.86839743],\n",
       "       [ 2.8987261 ],\n",
       "       [ 2.90679464],\n",
       "       [ 2.92879636],\n",
       "       [ 3.03164731],\n",
       "       [ 3.08572457],\n",
       "       [ 3.09977859],\n",
       "       [ 3.11680058],\n",
       "       [ 3.45448459],\n",
       "       [ 3.48409081],\n",
       "       [ 3.55762379],\n",
       "       [ 3.5649449 ],\n",
       "       [ 3.71912927],\n",
       "       [ 3.72667215],\n",
       "       [ 3.73560821],\n",
       "       [ 3.76938094],\n",
       "       [ 3.77731526],\n",
       "       [ 4.00316336],\n",
       "       [ 4.03552598],\n",
       "       [ 4.1449045 ],\n",
       "       [ 4.21015446],\n",
       "       [ 4.23414401],\n",
       "       [ 4.30013974],\n",
       "       [ 4.31770927],\n",
       "       [ 4.4297105 ],\n",
       "       [ 4.5168976 ],\n",
       "       [ 4.54267575],\n",
       "       [ 4.61512268],\n",
       "       [ 4.64718617],\n",
       "       [ 4.66297732],\n",
       "       [ 4.83638165],\n",
       "       [ 4.84797874],\n",
       "       [ 4.85009995],\n",
       "       [ 4.94308077],\n",
       "       [ 4.98661425]])"
      ]
     },
     "execution_count": 2,
     "metadata": {},
     "output_type": "execute_result"
    }
   ],
   "source": [
    "np.sort(5 * rng.rand(80, 1), axis=0)\n"
   ]
  },
  {
   "cell_type": "code",
   "execution_count": 3,
   "metadata": {
    "collapsed": false
   },
   "outputs": [
    {
     "data": {
      "text/plain": [
       "array([  5.71874056e-04,   9.13140084e-02,   9.66835240e-02,\n",
       "         1.36510390e-01,   1.94035253e-01,   2.47178482e-01,\n",
       "         2.63658285e-01,   4.12522163e-01,   4.45464463e-01,\n",
       "         4.72155294e-01,   4.89635918e-01,   4.93517994e-01,\n",
       "         6.05300129e-01,   6.34509327e-01,   6.41446076e-01,\n",
       "         6.45696215e-01,   6.69579781e-01,   6.69681218e-01,\n",
       "         7.35748344e-01,   7.50720534e-01,   8.02397078e-01,\n",
       "         8.36304301e-01,   8.53289303e-01,   8.71444956e-01,\n",
       "         9.70605329e-01,   9.85824622e-01,   9.91311217e-01,\n",
       "         9.94728365e-01,   9.98252126e-01,   9.99993246e-01,\n",
       "         9.99977003e-01,   9.87699652e-01,   9.85915646e-01,\n",
       "         9.15904395e-01,   9.14069859e-01,   8.77830014e-01,\n",
       "         8.77534605e-01,   8.70630546e-01,   8.69934082e-01,\n",
       "         8.65235592e-01,   8.60400242e-01,   7.84646075e-01,\n",
       "         6.31686553e-01,   5.37227991e-01,   4.58019714e-01,\n",
       "         4.45838347e-01,   4.32721158e-01,   3.41153283e-01,\n",
       "         2.67699531e-01,   2.07303185e-01,   1.93830272e-01,\n",
       "        -1.76451855e-01,  -2.09188375e-01,  -2.49907779e-01,\n",
       "        -2.80682239e-01,  -2.86826010e-01,  -3.12470754e-01,\n",
       "        -3.14585948e-01,  -3.24429114e-01,  -3.49651545e-01,\n",
       "        -4.43974821e-01,  -4.69211146e-01,  -5.64011437e-01,\n",
       "        -5.72153265e-01,  -5.74888492e-01,  -7.20694771e-01,\n",
       "        -7.59230658e-01,  -7.80436587e-01,  -8.58088588e-01,\n",
       "        -9.45898629e-01,  -9.48667092e-01,  -9.48706725e-01,\n",
       "        -9.71490934e-01,  -9.80974083e-01,  -9.85684166e-01,\n",
       "        -9.97200340e-01,  -9.99943982e-01,  -9.97032450e-01,\n",
       "        -9.91701462e-01,  -9.73227696e-01])"
      ]
     },
     "execution_count": 3,
     "metadata": {},
     "output_type": "execute_result"
    }
   ],
   "source": [
    "np.sin(X).ravel()"
   ]
  },
  {
   "cell_type": "code",
   "execution_count": null,
   "metadata": {
    "collapsed": true
   },
   "outputs": [],
   "source": []
  }
 ],
 "metadata": {
  "kernelspec": {
   "display_name": "Python 3",
   "language": "python",
   "name": "python3"
  },
  "language_info": {
   "codemirror_mode": {
    "name": "ipython",
    "version": 3
   },
   "file_extension": ".py",
   "mimetype": "text/x-python",
   "name": "python",
   "nbconvert_exporter": "python",
   "pygments_lexer": "ipython3",
   "version": "3.6.4"
  }
 },
 "nbformat": 4,
 "nbformat_minor": 2
}
