{
 "cells": [
  {
   "cell_type": "code",
   "execution_count": 1,
   "metadata": {
    "collapsed": false
   },
   "outputs": [
    {
     "name": "stdout",
     "output_type": "stream",
     "text": [
      "Populating the interactive namespace from numpy and matplotlib\n"
     ]
    }
   ],
   "source": [
    "%pylab inline\n",
    "import seaborn as sns\n",
    "import pandas as pd\n",
    "pd.set_option('precision', 5)"
   ]
  },
  {
   "cell_type": "code",
   "execution_count": 2,
   "metadata": {
    "collapsed": false
   },
   "outputs": [
    {
     "data": {
      "text/html": [
       "<div>\n",
       "<style scoped>\n",
       "    .dataframe tbody tr th:only-of-type {\n",
       "        vertical-align: middle;\n",
       "    }\n",
       "\n",
       "    .dataframe tbody tr th {\n",
       "        vertical-align: top;\n",
       "    }\n",
       "\n",
       "    .dataframe thead th {\n",
       "        text-align: right;\n",
       "    }\n",
       "</style>\n",
       "<table border=\"1\" class=\"dataframe\">\n",
       "  <thead>\n",
       "    <tr style=\"text-align: right;\">\n",
       "      <th></th>\n",
       "      <th>ANNO</th>\n",
       "      <th>ADMINISTRACIÓN</th>\n",
       "      <th>MUNICIPIO</th>\n",
       "      <th>DEPTO</th>\n",
       "      <th>MUN</th>\n",
       "      <th>FUNC1</th>\n",
       "      <th>FUNC2</th>\n",
       "      <th>FUNC3</th>\n",
       "      <th>ECON1</th>\n",
       "      <th>ECON2</th>\n",
       "      <th>...</th>\n",
       "      <th>ORIGEN2</th>\n",
       "      <th>ORIGEN3</th>\n",
       "      <th>PROGRAMA1</th>\n",
       "      <th>PROGRAMA2</th>\n",
       "      <th>PROYECTO1</th>\n",
       "      <th>PROYECTO2</th>\n",
       "      <th>APROBADO</th>\n",
       "      <th>RETRASADO</th>\n",
       "      <th>EJECUTADO</th>\n",
       "      <th>PAGADO</th>\n",
       "    </tr>\n",
       "  </thead>\n",
       "  <tbody>\n",
       "    <tr>\n",
       "      <th>0</th>\n",
       "      <td>2008</td>\n",
       "      <td>Municipal</td>\n",
       "      <td>ALOTENANGO</td>\n",
       "      <td>SACATEPEQUEZ</td>\n",
       "      <td>ALOTENANGO</td>\n",
       "      <td>1 - ADMINISTRACION GENERAL</td>\n",
       "      <td>109 - OTRAS ACTIVIDADES DE ADMINISTRACION</td>\n",
       "      <td>Sin Division</td>\n",
       "      <td>21 Gastos Corrientes</td>\n",
       "      <td>011 - Personal Permanente</td>\n",
       "      <td>...</td>\n",
       "      <td>21 Ingresos Tributarios Iva Paz</td>\n",
       "      <td>No Aplica</td>\n",
       "      <td>No Aplica</td>\n",
       "      <td>No Aplica</td>\n",
       "      <td>No Aplica</td>\n",
       "      <td>No Aplica</td>\n",
       "      <td>Q.-</td>\n",
       "      <td>Q.137,400.00</td>\n",
       "      <td>Q.137,400.00</td>\n",
       "      <td>Q.137,400.00</td>\n",
       "    </tr>\n",
       "    <tr>\n",
       "      <th>1</th>\n",
       "      <td>2008</td>\n",
       "      <td>Municipal</td>\n",
       "      <td>ALOTENANGO</td>\n",
       "      <td>SACATEPEQUEZ</td>\n",
       "      <td>ALOTENANGO</td>\n",
       "      <td>1 - ADMINISTRACION GENERAL</td>\n",
       "      <td>109 - OTRAS ACTIVIDADES DE ADMINISTRACION</td>\n",
       "      <td>Sin Division</td>\n",
       "      <td>21 Gastos Corrientes</td>\n",
       "      <td>011 - Personal Permanente</td>\n",
       "      <td>...</td>\n",
       "      <td>21 Ingresos Tributarios Iva Paz</td>\n",
       "      <td>No Aplica</td>\n",
       "      <td>No Aplica</td>\n",
       "      <td>No Aplica</td>\n",
       "      <td>No Aplica</td>\n",
       "      <td>No Aplica</td>\n",
       "      <td>Q.-</td>\n",
       "      <td>Q.-</td>\n",
       "      <td>Q.-</td>\n",
       "      <td>Q.-</td>\n",
       "    </tr>\n",
       "    <tr>\n",
       "      <th>2</th>\n",
       "      <td>2008</td>\n",
       "      <td>Municipal</td>\n",
       "      <td>ALOTENANGO</td>\n",
       "      <td>SACATEPEQUEZ</td>\n",
       "      <td>ALOTENANGO</td>\n",
       "      <td>1 - ADMINISTRACION GENERAL</td>\n",
       "      <td>109 - OTRAS ACTIVIDADES DE ADMINISTRACION</td>\n",
       "      <td>Sin Division</td>\n",
       "      <td>21 Gastos Corrientes</td>\n",
       "      <td>011 - Personal Permanente</td>\n",
       "      <td>...</td>\n",
       "      <td>22 Ingresos Ordinarios De Aporte Constitucional</td>\n",
       "      <td>No Aplica</td>\n",
       "      <td>No Aplica</td>\n",
       "      <td>No Aplica</td>\n",
       "      <td>No Aplica</td>\n",
       "      <td>No Aplica</td>\n",
       "      <td>Q.-</td>\n",
       "      <td>Q.-</td>\n",
       "      <td>Q.-</td>\n",
       "      <td>Q.-</td>\n",
       "    </tr>\n",
       "    <tr>\n",
       "      <th>3</th>\n",
       "      <td>2008</td>\n",
       "      <td>Municipal</td>\n",
       "      <td>ALOTENANGO</td>\n",
       "      <td>SACATEPEQUEZ</td>\n",
       "      <td>ALOTENANGO</td>\n",
       "      <td>1 - ADMINISTRACION GENERAL</td>\n",
       "      <td>109 - OTRAS ACTIVIDADES DE ADMINISTRACION</td>\n",
       "      <td>Sin Division</td>\n",
       "      <td>21 Gastos Corrientes</td>\n",
       "      <td>011 - Personal Permanente</td>\n",
       "      <td>...</td>\n",
       "      <td>31 Ingresos Propios</td>\n",
       "      <td>No Aplica</td>\n",
       "      <td>No Aplica</td>\n",
       "      <td>No Aplica</td>\n",
       "      <td>No Aplica</td>\n",
       "      <td>No Aplica</td>\n",
       "      <td>Q.240,000.00</td>\n",
       "      <td>Q.49,588.00</td>\n",
       "      <td>Q.49,588.00</td>\n",
       "      <td>Q.49,588.00</td>\n",
       "    </tr>\n",
       "    <tr>\n",
       "      <th>4</th>\n",
       "      <td>2008</td>\n",
       "      <td>Municipal</td>\n",
       "      <td>ALOTENANGO</td>\n",
       "      <td>SACATEPEQUEZ</td>\n",
       "      <td>ALOTENANGO</td>\n",
       "      <td>1 - ADMINISTRACION GENERAL</td>\n",
       "      <td>109 - OTRAS ACTIVIDADES DE ADMINISTRACION</td>\n",
       "      <td>Sin Division</td>\n",
       "      <td>21 Gastos Corrientes</td>\n",
       "      <td>011 - Personal Permanente</td>\n",
       "      <td>...</td>\n",
       "      <td>42 Préstamos Internos</td>\n",
       "      <td>No Aplica</td>\n",
       "      <td>No Aplica</td>\n",
       "      <td>No Aplica</td>\n",
       "      <td>No Aplica</td>\n",
       "      <td>No Aplica</td>\n",
       "      <td>Q.-</td>\n",
       "      <td>Q.-</td>\n",
       "      <td>Q.-</td>\n",
       "      <td>Q.-</td>\n",
       "    </tr>\n",
       "  </tbody>\n",
       "</table>\n",
       "<p>5 rows × 21 columns</p>\n",
       "</div>"
      ],
      "text/plain": [
       "   ANNO ADMINISTRACIÓN   MUNICIPIO         DEPTO         MUN  \\\n",
       "0  2008      Municipal  ALOTENANGO  SACATEPEQUEZ  ALOTENANGO   \n",
       "1  2008      Municipal  ALOTENANGO  SACATEPEQUEZ  ALOTENANGO   \n",
       "2  2008      Municipal  ALOTENANGO  SACATEPEQUEZ  ALOTENANGO   \n",
       "3  2008      Municipal  ALOTENANGO  SACATEPEQUEZ  ALOTENANGO   \n",
       "4  2008      Municipal  ALOTENANGO  SACATEPEQUEZ  ALOTENANGO   \n",
       "\n",
       "                        FUNC1                                      FUNC2  \\\n",
       "0  1 - ADMINISTRACION GENERAL  109 - OTRAS ACTIVIDADES DE ADMINISTRACION   \n",
       "1  1 - ADMINISTRACION GENERAL  109 - OTRAS ACTIVIDADES DE ADMINISTRACION   \n",
       "2  1 - ADMINISTRACION GENERAL  109 - OTRAS ACTIVIDADES DE ADMINISTRACION   \n",
       "3  1 - ADMINISTRACION GENERAL  109 - OTRAS ACTIVIDADES DE ADMINISTRACION   \n",
       "4  1 - ADMINISTRACION GENERAL  109 - OTRAS ACTIVIDADES DE ADMINISTRACION   \n",
       "\n",
       "          FUNC3                 ECON1                      ECON2  \\\n",
       "0  Sin Division  21 Gastos Corrientes  011 - Personal Permanente   \n",
       "1  Sin Division  21 Gastos Corrientes  011 - Personal Permanente   \n",
       "2  Sin Division  21 Gastos Corrientes  011 - Personal Permanente   \n",
       "3  Sin Division  21 Gastos Corrientes  011 - Personal Permanente   \n",
       "4  Sin Division  21 Gastos Corrientes  011 - Personal Permanente   \n",
       "\n",
       "        ...                                                ORIGEN2    ORIGEN3  \\\n",
       "0       ...                        21 Ingresos Tributarios Iva Paz  No Aplica   \n",
       "1       ...                        21 Ingresos Tributarios Iva Paz  No Aplica   \n",
       "2       ...        22 Ingresos Ordinarios De Aporte Constitucional  No Aplica   \n",
       "3       ...                                    31 Ingresos Propios  No Aplica   \n",
       "4       ...                                  42 Préstamos Internos  No Aplica   \n",
       "\n",
       "   PROGRAMA1  PROGRAMA2  PROYECTO1  PROYECTO2        APROBADO       RETRASADO  \\\n",
       "0  No Aplica  No Aplica  No Aplica  No Aplica          Q.-      Q.137,400.00    \n",
       "1  No Aplica  No Aplica  No Aplica  No Aplica          Q.-             Q.-      \n",
       "2  No Aplica  No Aplica  No Aplica  No Aplica          Q.-             Q.-      \n",
       "3  No Aplica  No Aplica  No Aplica  No Aplica   Q.240,000.00     Q.49,588.00    \n",
       "4  No Aplica  No Aplica  No Aplica  No Aplica          Q.-             Q.-      \n",
       "\n",
       "        EJECUTADO          PAGADO  \n",
       "0   Q.137,400.00    Q.137,400.00   \n",
       "1          Q.-             Q.-     \n",
       "2          Q.-             Q.-     \n",
       "3    Q.49,588.00     Q.49,588.00   \n",
       "4          Q.-             Q.-     \n",
       "\n",
       "[5 rows x 21 columns]"
      ]
     },
     "execution_count": 2,
     "metadata": {},
     "output_type": "execute_result"
    }
   ],
   "source": [
    "muni_data = pd.read_csv(\"municipal_guatemala_2008-2011.zip\", sep=\";\", low_memory=False,\n",
    "                        compression='zip', error_bad_lines=False, warn_bad_lines=True)\n",
    "muni_data.head()"
   ]
  },
  {
   "cell_type": "code",
   "execution_count": 3,
   "metadata": {
    "collapsed": false
   },
   "outputs": [
    {
     "data": {
      "text/plain": [
       "{dtype('int64'): Index(['ANNO'], dtype='object'),\n",
       " dtype('O'): Index(['ADMINISTRACIÓN', 'MUNICIPIO', 'DEPTO', 'MUN', 'FUNC1', 'FUNC2',\n",
       "        'FUNC3', 'ECON1', 'ECON2', 'ORIGEN1', 'ORIGEN2', 'ORIGEN3', 'PROGRAMA1',\n",
       "        'PROGRAMA2', 'PROYECTO1', 'PROYECTO2', 'APROBADO', 'RETRASADO',\n",
       "        'EJECUTADO', 'PAGADO'],\n",
       "       dtype='object')}"
      ]
     },
     "execution_count": 3,
     "metadata": {},
     "output_type": "execute_result"
    }
   ],
   "source": [
    "tipos = muni_data.columns.to_series().groupby(muni_data.dtypes).groups\n",
    "tipos"
   ]
  },
  {
   "cell_type": "code",
   "execution_count": 5,
   "metadata": {
    "collapsed": false
   },
   "outputs": [
    {
     "data": {
      "text/plain": [
       "(674135, 21)"
      ]
     },
     "execution_count": 5,
     "metadata": {},
     "output_type": "execute_result"
    }
   ],
   "source": [
    "muni_data.shape"
   ]
  },
  {
   "cell_type": "code",
   "execution_count": 6,
   "metadata": {
    "collapsed": false
   },
   "outputs": [
    {
     "data": {
      "text/plain": [
       "<matplotlib.axes._subplots.AxesSubplot at 0x7f0b12ba44a8>"
      ]
     },
     "execution_count": 6,
     "metadata": {},
     "output_type": "execute_result"
    },
    {
     "data": {
      "image/png": "[encoded data removed]",
      "text/plain": [
       "<matplotlib.figure.Figure at 0x7f0b42db8080>"
      ]
     },
     "metadata": {},
     "output_type": "display_data"
    }
   ],
   "source": [
    "muni_data.plot()"
   ]
  },
  {
   "cell_type": "code",
   "execution_count": 19,
   "metadata": {
    "collapsed": true
   },
   "outputs": [],
   "source": [
    "def clean_q(input_object):\n",
    "    import re\n",
    "    preprate_input = str(input_object).replace(',', '')\n",
    "    regex_clean = re.compile(r'(?<=Q\\.)\\d+(?=\\.)')\n",
    "    search_num = re.search(regex_clean, preprate_input)\n",
    "    \n",
    "    if input_object is NaN or not search_num:\n",
    "        return 0\n",
    "    \n",
    "    return search_num.group(0)"
   ]
  },
  {
   "cell_type": "code",
   "execution_count": 20,
   "metadata": {
    "collapsed": false
   },
   "outputs": [
    {
     "data": {
      "text/plain": [
       "['240000', 0, '137400', 0]"
      ]
     },
     "execution_count": 20,
     "metadata": {},
     "output_type": "execute_result"
    }
   ],
   "source": [
    "data = ['Q.240,000.00', 'Q.-', 'Q.137,400.00', NaN]\n",
    "clean = list(map(clean_q, data))\n",
    "clean"
   ]
  },
  {
   "cell_type": "code",
   "execution_count": null,
   "metadata": {
    "collapsed": true
   },
   "outputs": [],
   "source": []
  }
 ],
 "metadata": {
  "kernelspec": {
   "display_name": "Python 3",
   "language": "python",
   "name": "python3"
  },
  "language_info": {
   "codemirror_mode": {
    "name": "ipython",
    "version": 3
   },
   "file_extension": ".py",
   "mimetype": "text/x-python",
   "name": "python",
   "nbconvert_exporter": "python",
   "pygments_lexer": "ipython3",
   "version": "3.6.4"
  }
 },
 "nbformat": 4,
 "nbformat_minor": 2
}
