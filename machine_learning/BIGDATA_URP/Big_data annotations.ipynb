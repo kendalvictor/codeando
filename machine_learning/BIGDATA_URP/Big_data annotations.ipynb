{
 "cells": [
  {
   "cell_type": "markdown",
   "metadata": {},
   "source": [
    "## Annotations"
   ]
  },
  {
   "cell_type": "markdown",
   "metadata": {},
   "source": [
    "### Velcocidad, Variety, Veracity, Volume, Valor"
   ]
  },
  {
   "cell_type": "markdown",
   "metadata": {
    "collapsed": true
   },
   "source": [
    "### HDFS:\n",
    "    Divide la data en bloques de 128 mb (customizable)\n",
    "    Realiza replicacion para satisfacer su tolerancia a fallos.\n",
    "    Lo recomendable es replicacion x 3.\n",
    "    Si guardas 400 mb entonces en si guardas 1.2 gb ... 400 x 3.\n",
    "    Puedes reducir el tamaño real guardado si comprimes.\n",
    "\n",
    "   #### DATA_NODE:\n",
    "    En cada nodo e indicador de guardado de data\n",
    "   #### NAME_NODE:\n",
    "    Metadatos de todos los flujos de lo punteros de los bloques dentro de los nodos.              \n",
    "   #### SECONDARY_NODO: \n",
    "   Backup de NAME NODE, pero de activacion manual. \n",
    "   Todos los servicios levantados en el NAME NODE deben levantarse aca.\n",
    "   #### STANDBY_NAME_NODE: \n",
    "   Backup de NAME NODE, activacion automatica."
   ]
  },
  {
   "cell_type": "markdown",
   "metadata": {},
   "source": [
    "### YARN:\n",
    "    Framework encargado de la distribucion de procesos y storage entre los nodos.\n",
    "    La idea de YARN es que el procesamiento vaya a la data y no la inversa."
   ]
  },
  {
   "cell_type": "markdown",
   "metadata": {},
   "source": [
    "### SQOOP:\n",
    "Recomendada en base de datos realacional\n",
    "\n",
    "### SPARK:\n",
    "Manejabilidad al codificar, gama de librerias (ML, grafos, SQL, String)\n",
    "Adaptable a lenguajes (Scala, Python, Java)\n",
    "\n"
   ]
  },
  {
   "cell_type": "markdown",
   "metadata": {},
   "source": [
    "### Zokemper\n",
    "El que cuenta los latidos de un nodo y segun lo configuras lo da por muerto absoluto"
   ]
  },
  {
   "cell_type": "code",
   "execution_count": null,
   "metadata": {
    "collapsed": true
   },
   "outputs": [],
   "source": []
  }
 ],
 "metadata": {
  "kernelspec": {
   "display_name": "Python 3",
   "language": "python",
   "name": "python3"
  },
  "language_info": {
   "codemirror_mode": {
    "name": "ipython",
    "version": 3
   },
   "file_extension": ".py",
   "mimetype": "text/x-python",
   "name": "python",
   "nbconvert_exporter": "python",
   "pygments_lexer": "ipython3",
   "version": "3.6.4"
  }
 },
 "nbformat": 4,
 "nbformat_minor": 2
}
