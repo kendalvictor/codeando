{
 "cells": [
  {
   "cell_type": "code",
   "execution_count": 1,
   "metadata": {
    "collapsed": true
   },
   "outputs": [],
   "source": [
    "from sklearn.datasets import load_iris\n",
    "from sklearn.model_selection import train_test_split\n",
    "from sklearn import svm\n",
    "iris = load_iris()\n",
    "Xe, Xt, ye, yt = train_test_split(iris.data, iris.target)\n",
    "algoritmo = svm.SVC(probability=True)"
   ]
  },
  {
   "cell_type": "code",
   "execution_count": 2,
   "metadata": {
    "collapsed": false
   },
   "outputs": [
    {
     "data": {
      "text/plain": [
       "SVC(C=1.0, cache_size=200, class_weight=None, coef0=0.0,\n",
       "  decision_function_shape=None, degree=3, gamma='auto', kernel='rbf',\n",
       "  max_iter=-1, probability=True, random_state=None, shrinking=True,\n",
       "  tol=0.001, verbose=False)"
      ]
     },
     "execution_count": 2,
     "metadata": {},
     "output_type": "execute_result"
    }
   ],
   "source": [
    "algoritmo.fit(Xe, ye)"
   ]
  },
  {
   "cell_type": "code",
   "execution_count": 3,
   "metadata": {
    "collapsed": false
   },
   "outputs": [
    {
     "data": {
      "text/plain": [
       "array([[ 2.36703877,  0.82621291, -0.19325168],\n",
       "       [-0.2469029 ,  0.80612093,  2.44078197],\n",
       "       [-0.32926993,  2.37163427,  0.95763566],\n",
       "       [ 2.36634518, -0.19298562,  0.82664044],\n",
       "       [-0.33217789,  2.27426274,  1.05791515],\n",
       "       [-0.32635942,  1.02597828,  2.30038114],\n",
       "       [-0.32900203,  1.1317733 ,  2.19722873],\n",
       "       [-0.28817832,  0.85052523,  2.43765308],\n",
       "       [-0.3314711 ,  2.43798742,  0.89348368],\n",
       "       [ 2.3446207 ,  0.87814196, -0.22276265],\n",
       "       [ 2.39211681,  0.81410479, -0.2062216 ],\n",
       "       [ 2.36335495,  0.81945419, -0.18280914],\n",
       "       [-0.33925732,  0.9880025 ,  2.35125482],\n",
       "       [-0.3539101 ,  2.31667242,  1.03723767],\n",
       "       [ 2.37552059,  0.82649931, -0.20201989]])"
      ]
     },
     "execution_count": 3,
     "metadata": {},
     "output_type": "execute_result"
    }
   ],
   "source": [
    "algoritmo.decision_function_shape = \"ovr\"\n",
    "algoritmo.decision_function(Xt)[:15]"
   ]
  },
  {
   "cell_type": "code",
   "execution_count": 4,
   "metadata": {
    "collapsed": false
   },
   "outputs": [
    {
     "data": {
      "text/plain": [
       "array([[ 0.94971017,  0.02707011,  0.02321972],\n",
       "       [ 0.01450189,  0.00980141,  0.97569669],\n",
       "       [ 0.01279596,  0.96094198,  0.02626205],\n",
       "       [ 0.94851522,  0.02442645,  0.02705833],\n",
       "       [ 0.01504044,  0.86119039,  0.12376917],\n",
       "       [ 0.01379466,  0.09255807,  0.89364727],\n",
       "       [ 0.01642483,  0.3814583 ,  0.60211687],\n",
       "       [ 0.0145124 ,  0.00846049,  0.97702712],\n",
       "       [ 0.00986526,  0.97972372,  0.01041103],\n",
       "       [ 0.9382767 ,  0.04002526,  0.02169804],\n",
       "       [ 0.96065987,  0.02080705,  0.01853307],\n",
       "       [ 0.94761294,  0.02691276,  0.0254743 ],\n",
       "       [ 0.01056179,  0.0458012 ,  0.943637  ],\n",
       "       [ 0.01090939,  0.91220601,  0.0768846 ],\n",
       "       [ 0.95355175,  0.02596656,  0.02048169]])"
      ]
     },
     "execution_count": 4,
     "metadata": {},
     "output_type": "execute_result"
    }
   ],
   "source": [
    "algoritmo.predict_proba(Xt)[:15]"
   ]
  },
  {
   "cell_type": "code",
   "execution_count": 5,
   "metadata": {
    "collapsed": false
   },
   "outputs": [
    {
     "data": {
      "text/plain": [
       "array([0, 2, 1, 0, 1, 2, 2, 2, 1, 0, 0, 0, 2, 1, 0])"
      ]
     },
     "execution_count": 5,
     "metadata": {},
     "output_type": "execute_result"
    }
   ],
   "source": [
    "algoritmo.predict(Xt)[:15]"
   ]
  },
  {
   "cell_type": "code",
   "execution_count": null,
   "metadata": {
    "collapsed": true
   },
   "outputs": [],
   "source": []
  }
 ],
 "metadata": {
  "kernelspec": {
   "display_name": "Python 3",
   "language": "python",
   "name": "python3"
  },
  "language_info": {
   "codemirror_mode": {
    "name": "ipython",
    "version": 3
   },
   "file_extension": ".py",
   "mimetype": "text/x-python",
   "name": "python",
   "nbconvert_exporter": "python",
   "pygments_lexer": "ipython3",
   "version": "3.6.4"
  }
 },
 "nbformat": 4,
 "nbformat_minor": 2
}
