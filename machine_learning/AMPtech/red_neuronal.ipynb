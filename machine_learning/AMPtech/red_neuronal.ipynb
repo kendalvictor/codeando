{
 "cells": [
  {
   "cell_type": "code",
   "execution_count": 21,
   "metadata": {
    "collapsed": false
   },
   "outputs": [
    {
     "name": "stdout",
     "output_type": "stream",
     "text": [
      "Xe  <class 'numpy.ndarray'> (112, 4)\n",
      "Xt  <class 'numpy.ndarray'> (38, 4)\n",
      "ye  <class 'numpy.ndarray'> (112,)\n",
      "yt  <class 'numpy.ndarray'> (38,)\n"
     ]
    },
    {
     "data": {
      "text/plain": [
       "MLPClassifier(activation='relu', alpha=1e-10, batch_size='auto', beta_1=0.9,\n",
       "       beta_2=0.999, early_stopping=False, epsilon=1e-08,\n",
       "       hidden_layer_sizes=(100, 10), learning_rate='constant',\n",
       "       learning_rate_init=0.001, max_iter=1000000000, momentum=0.9,\n",
       "       nesterovs_momentum=True, power_t=0.5, random_state=None,\n",
       "       shuffle=True, solver='sgd', tol=0.0001, validation_fraction=0.1,\n",
       "       verbose=False, warm_start=False)"
      ]
     },
     "execution_count": 21,
     "metadata": {},
     "output_type": "execute_result"
    }
   ],
   "source": [
    "import sklearn\n",
    "from sklearn.datasets import load_iris\n",
    "from sklearn.model_selection import train_test_split\n",
    "from sklearn.neural_network import MLPClassifier\n",
    "iris = load_iris()\n",
    "Xe, Xt, ye, yt = train_test_split(iris.data, iris.target)\n",
    "print(\"Xe \", type(Xe), Xe.shape)\n",
    "print(\"Xt \", type(Xt), Xt.shape)\n",
    "print(\"ye \", type(ye), ye.shape)\n",
    "print(\"yt \", type(yt), yt.shape)\n",
    "red = MLPClassifier(max_iter=1000000000, hidden_layer_sizes=(100,10), alpha=0.0000000001, solver=\"adam\")\n",
    "red.fit(Xe, ye)\n",
    "red_sgd = MLPClassifier(max_iter=1000000000, hidden_layer_sizes=(100,10), alpha=0.0000000001, solver=\"sgd\")\n",
    "red_sgd.fit(Xe, ye)"
   ]
  },
  {
   "cell_type": "code",
   "execution_count": 22,
   "metadata": {
    "collapsed": false
   },
   "outputs": [
    {
     "name": "stdout",
     "output_type": "stream",
     "text": [
      "0.973684210526\n",
      "1.0\n"
     ]
    }
   ],
   "source": [
    "ss = red.score(Xt, yt)\n",
    "print(ss)\n",
    "tt = red_sgd.score(Xt, yt)\n",
    "print(tt)"
   ]
  },
  {
   "cell_type": "code",
   "execution_count": 23,
   "metadata": {
    "collapsed": false
   },
   "outputs": [
    {
     "name": "stdout",
     "output_type": "stream",
     "text": [
      "0.982142857143\n",
      "0.973214285714\n"
     ]
    }
   ],
   "source": [
    "uu = red.score(Xe, ye)\n",
    "print(uu)\n",
    "vv = red_sgd.score(Xe, ye)\n",
    "print(vv)"
   ]
  },
  {
   "cell_type": "code",
   "execution_count": null,
   "metadata": {
    "collapsed": true
   },
   "outputs": [],
   "source": []
  }
 ],
 "metadata": {
  "kernelspec": {
   "display_name": "Python 3",
   "language": "python",
   "name": "python3"
  },
  "language_info": {
   "codemirror_mode": {
    "name": "ipython",
    "version": 3
   },
   "file_extension": ".py",
   "mimetype": "text/x-python",
   "name": "python",
   "nbconvert_exporter": "python",
   "pygments_lexer": "ipython3",
   "version": "3.6.0"
  }
 },
 "nbformat": 4,
 "nbformat_minor": 2
}
