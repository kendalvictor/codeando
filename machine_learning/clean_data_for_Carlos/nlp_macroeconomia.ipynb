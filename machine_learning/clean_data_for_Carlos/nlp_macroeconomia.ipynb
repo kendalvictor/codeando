{
 "cells": [
  {
   "cell_type": "code",
   "execution_count": 54,
   "metadata": {
    "collapsed": false
   },
   "outputs": [],
   "source": [
    "import glob\n",
    "import re\n",
    "from unicodedata import normalize, category\n",
    "from nltk.corpus import stopwords\n",
    "from nltk.stem.snowball import SnowballStemmer\n",
    "\n",
    "stopset = set(stopwords.words(\"spanish\"))\n",
    "raices = SnowballStemmer(\"spanish\")\n",
    "\n",
    "def clean_text(text_nasty):\n",
    "    return ''.join(\n",
    "        (_ for _ in normalize('NFD', text_nasty) if category(_) in ['Ll', 'Zs'])\n",
    "    )\n",
    "\n",
    "def get_reportes():\n",
    "    for textname in glob.iglob('reportes_bcrp/*.txt', recursive=True):\n",
    "         with open(textname, encoding = \"ISO-8859-1\") as workfile:\n",
    "                yield re.sub(\n",
    "                    '\\s{2,}', ' ', \n",
    "                    clean_text(workfile.read().lower().replace('\\n', ' '))\n",
    "                )\n"
   ]
  },
  {
   "cell_type": "code",
   "execution_count": 55,
   "metadata": {
    "collapsed": false
   },
   "outputs": [],
   "source": [
    "corpus_stemmer = []\n",
    "corpus_word = []\n",
    "for reporte in get_reportes():\n",
    "    list_reporte = reporte.split()\n",
    "    corpus_stemmer.append(\n",
    "        {raices.stem(word) for word in list_reporte if word not in stopset} \n",
    "    )\n",
    "    corpus_word.append(\n",
    "        {word for word in list_reporte if word not in stopset} \n",
    "    )\n",
    "    del list_reporte"
   ]
  },
  {
   "cell_type": "code",
   "execution_count": 56,
   "metadata": {
    "collapsed": false
   },
   "outputs": [
    {
     "name": "stdout",
     "output_type": "stream",
     "text": [
      "{'rapid', 'inversion', 'impact', 'intensificari', 'choqu', 'afect', 'deb', 'factor', 'period', 'reflejari', 'part', 'principal', 'confirm', 'harin', 'super', 'superior', 'send', 'haci', 'prev', 'creci', 'menor', 'primer', 'previ', 'rap', 'asim', 'economi', 'financ', 'line', 'indic', 'mantuv', 'polit', 'requer', 'rang', 'diciembr', 'semestr', 'directori', 'seguir', 'gobiern', 'mayor', 'nuev', 'anunci', 'fin', 'eurozon', 'decrecient', 'adicional', 'cuot', 'intercambi', 'reconstruccion', 'nacional', 'respond', 'estari', 'ajust', 'may', 'mostr', 'ven', 'mundial', 'pesc', 'moder', 'anual', 'descont', 'posit', 'contract', 'evolucion', 'consum', 'cient', 'lad', 'expect', 'escenari', 'baj', 'result', 'investig', 'interanual', 'met', 'corrient', 'merc', 'impuest', 'abril', 'tas', 'ofert', 'establ', 'impuls', 'inflacion', 'destrab', 'fiscal', 'frent', 'internacional', 'larg', 'encuentr', 'determin', 'mes', 'cobr', 'infraestructur', 'limit', 'respect', 'acopi', 'relacion', 'intern', 'agost', 'ubiqu', 'segund', 'japon', 'volum', 'ley', 'trayectori', 'tendenci', 'med', 'contraj', 'caus', 'monetari', 'porcentual', 'paralizacion', 'continu', 'holg', 'ubic', 'informacion', 'signif', 'ritm', 'dentr', 'mejor', 'mantendri', 'elev', 'inter', 'aument', 'present', 'horizont', 'muestr', 'nivel', 'consider', 'sector', 'context', 'dinam', 'gast', 'efect', 'fuent', 'clar', 'revis', 'lueg', 'alrededor', 'nominal', 'riesg', 'tradicional', 'export', 'mas', 'crecimient', 'pasari', 'moderacion', 'incorpor', 'provenient', 'median', 'reversion', 'desaceleracion', 'ingres', 'tom', 'siend', 'favorec', 'coster', 'ejecut', 'asum', 'priv', 'estim', 'rehabilitacion', 'activ', 'convergent', 'descend', 'reflej', 'financi', 'proces', 'servici', 'cual', 'siguient', 'ponder', 'proyect', 'progres', 'reiter', 'alza', 'punt', 'volatil', 'manten', 'embarg', 'aunqu', 'anchovet', 'pbi', 'public', 'tendri', 'plaz', 'credit', 'emergent', 'liger', 'corrupcion', 'maner', 'ultim', 'doc', 'basic', 'preci', 'correspondient', 'negat', 'rent', 'raiz', 'contraccion', 'via', 'particular', 'event', 'demand', 'vincul', 'devolu', 'dec', 'expans', 'crec', 'caid', 'recuperacion', 'consistent', 'esper', 'pag', 'adem', 'conform', 'tarjet', 'vii', 'debaj', 'cuent', 'proxim', 'deficit', 'acumul', 'termin', 'econom', 'marz', 'balanz', 'commoditi', 'potencial', 'n', 'ano', 'propuest', 'atent', 'asoci', 'financier', 'reanudacion', 'prim', 'condicion', 'reduccion', 'trimestr', 'aliment', 'gradual', 'referent', 'postur', 'tempor', 'nin', 'cas', 'obstant', 'report', 'posicion', 'normalizacion', 'empres', 'sesg', 'previst', 'observ', 'consecuent', 'transport', 'reduj', 'disip', 'centr', 'vi', 'igual', 'proyeccion', 'cierr', 'mientr', 'fenomen', 'recaudacion'}\n",
      "/////////////////////////\n",
      "{'disminucion', 'setiembr', 'import', 'inversion', 'choqu', 'afect', 'contrayendos', 'impact', 'deb', 'factor', 'formacion', 'hipotecari', 'principal', 'consolidacion', 'increment', 'continuari', 'correccion', 'sectorial', 'desciend', 'super', 'va', 'ascendi', 'haci', 'histor', 'prev', 'creci', 'obras', 'aceler', 'primer', 'previ', 'brut', 'rap', 'product', 'asim', 'economi', 'financ', 'indic', 'line', 'mantuv', 'requer', 'registr', 'rang', 'comerci', 'semestr', 'diciembr', 'seguir', 'directori', 'mayor', 'mar', 'fin', 'octubr', 'anos', 'intercambi', 'reconstruccion', 'ajust', 'ven', 'mundial', 'coincid', 'persistent', 'prox', 'moder', 'segu', 'evolucion', 'posit', 'cient', 'lad', 'expect', 'baj', 'result', 'veni', 'corrient', 'met', 'merc', 'revertiri', 'ello', 'person', 'tas', 'ofert', 'impuls', 'fiscal', 'inflacion', 'bcrp', 'internacional', 'dich', 'larg', 'plan', 'mes', 'recuper', 'mit', 'disminu', 'respect', 'vez', 'tributari', 'concentr', 'intern', 'agost', 'acord', 'inflacionari', 'tras', 'segund', 'comercial', 'sid', 'descens', 'terc', 'exportacion', 'ausenci', 'monetari', 'continu', 'altos', 'ubic', 'energi', 'ser', 'ritm', 'dentr', 'mejor', 'encim', 'metal', 'mantendri', 'produccion', 'elev', 'aument', 'present', 'inter', 'horizont', 'inici', 'desarroll', 'nivel', 'sector', 'consider', 'aceleracion', 'context', 'dinam', 'gast', 'riesg', 'fuent', 'revis', 'lueg', 'export', 'mantien', 'soci', 'final', 'mas', 'crecimient', 'hidric', 'corrig', 'desempen', 'reversion', 'ingres', 'tom', 'siend', 'favorec', 'coster', 'priv', 'noviembr', 'agricol', 'activ', 'convergent', 'descend', 'financi', 'miner', 'reflej', 'servici', 'interanual', 'ponder', 'presion', 'destac', 'proyect', 'volatil', 'alza', 'manten', 'jueg', 'embarg', 'pbi', 'domest', 'apoy', 'public', 'alcanz', 'plaz', 'cuart', 'construccion', 'emergent', 'recient', 'deterior', 'simil', 'liger', 'credit', 'maner', 'ultim', 'doc', 'basic', 'preci', 'implic', 'dec', 'vincul', 'demand', 'emple', 'global', 'particular', 'devolu', 'manteng', 'expans', 'caid', 'repatriacion', 'esper', 'recuperacion', 'consistent', 'tres', 'pag', 'panamerican', 'conform', 'vii', 'pesquer', 'debaj', 'cuent', 'proxim', 'deficit', 'brech', 'acumul', 'termin', 'sigui', 'balanz', 'econom', 'commoditi', 'estabiliz', 'dos', 'ano', 'enfriamient', 'marz', 'explic', 'tram', 'asoci', 'financier', 'cerc', 'capital', 'prim', 'condicion', 'reduccion', 'trimestr', 'consecut', 'aliment', 'gradual', 'referent', 'nin', 'reduc', 'estimul', 'inferior', 'report', 'sesg', 'previst', 'observ', 'consecuent', 'reduj', 'disip', 'manufacturer', 'proyeccion', 'cierr', 'fenomen', 'recaudacion'}\n",
      "/////////////////////////\n",
      "{'disminucion', 'setiembr', 'import', 'inversion', 'choqu', 'afect', 'contrayendos', 'impact', 'deb', 'factor', 'formacion', 'hipotecari', 'principal', 'consolidacion', 'increment', 'continuari', 'correccion', 'sectorial', 'desciend', 'super', 'va', 'ascendi', 'haci', 'histor', 'prev', 'creci', 'obras', 'aceler', 'primer', 'previ', 'brut', 'rap', 'product', 'asim', 'economi', 'financ', 'indic', 'line', 'mantuv', 'requer', 'registr', 'rang', 'comerci', 'semestr', 'diciembr', 'seguir', 'directori', 'mayor', 'mar', 'fin', 'octubr', 'anos', 'intercambi', 'reconstruccion', 'ajust', 'ven', 'mundial', 'coincid', 'persistent', 'prox', 'moder', 'segu', 'evolucion', 'posit', 'cient', 'lad', 'expect', 'baj', 'result', 'veni', 'corrient', 'met', 'merc', 'revertiri', 'ello', 'person', 'tas', 'ofert', 'impuls', 'fiscal', 'inflacion', 'bcrp', 'internacional', 'dich', 'larg', 'plan', 'mes', 'recuper', 'mit', 'disminu', 'respect', 'vez', 'tributari', 'concentr', 'intern', 'agost', 'acord', 'inflacionari', 'tras', 'segund', 'comercial', 'sid', 'descens', 'terc', 'exportacion', 'ausenci', 'monetari', 'continu', 'altos', 'ubic', 'energi', 'ser', 'ritm', 'dentr', 'mejor', 'encim', 'metal', 'mantendri', 'produccion', 'elev', 'aument', 'present', 'inter', 'horizont', 'inici', 'desarroll', 'nivel', 'sector', 'consider', 'aceleracion', 'context', 'dinam', 'gast', 'riesg', 'fuent', 'revis', 'lueg', 'export', 'mantien', 'soci', 'final', 'mas', 'crecimient', 'hidric', 'corrig', 'desempen', 'reversion', 'ingres', 'tom', 'siend', 'favorec', 'coster', 'priv', 'noviembr', 'agricol', 'activ', 'convergent', 'descend', 'financi', 'miner', 'interanual', 'servici', 'ponder', 'presion', 'destac', 'proyect', 'volatil', 'alza', 'manten', 'jueg', 'embarg', 'pbi', 'domest', 'apoy', 'public', 'alcanz', 'plaz', 'cuart', 'construccion', 'emergent', 'recient', 'deterior', 'simil', 'liger', 'credit', 'refl', 'maner', 'ultim', 'ejo', 'doc', 'basic', 'preci', 'implic', 'dec', 'vincul', 'demand', 'emple', 'global', 'particular', 'devolu', 'manteng', 'expans', 'caid', 'repatriacion', 'esper', 'recuperacion', 'consistent', 'tres', 'pag', 'panamerican', 'conform', 'pesquer', 'debaj', 'cuent', 'proxim', 'deficit', 'brech', 'acumul', 'termin', 'sigui', 'balanz', 'econom', 'commoditi', 'estabiliz', 'dos', 'ano', 'enfriamient', 'marz', 'explic', 'tram', 'asoci', 'financier', 'cerc', 'capital', 'prim', 'condicion', 'reduccion', 'trimestr', 'consecut', 'aliment', 'gradual', 'referent', 'nin', 'reduc', 'estimul', 'inferior', 'report', 'sesg', 'previst', 'observ', 'consecuent', 'reduj', 'disip', 'manufacturer', 'proyeccion', 'cierr', 'fenomen', 'recaudacion'}\n",
      "/////////////////////////\n",
      "{'grand', 'setiembr', 'gran', 'import', 'inversion', 'impact', 'afect', 'investigacion', 'factor', 'deb', 'choqu', 'segment', 'primari', 'part', 'principal', 'restriccion', 'increment', 'continuari', 'consolidacion', 'superior', 'converg', 'superavit', 'prev', 'tal', 'creci', 'obras', 'menor', 'retras', 'aceler', 'primer', 'previ', 'asim', 'economi', 'polit', 'mantuv', 'dad', 'moned', 'registr', 'rang', 'diciembr', 'febrer', 'directori', 'gobiern', 'semestr', 'mayor', 'fin', 'anos', 'congres', 'intercambi', 'reconstruccion', 'respond', 'proporcion', 'nacional', 'ajust', 'permitiri', 'mundial', 'pesc', 'prox', 'facultad', 'evolucion', 'direct', 'natural', 'cient', 'expect', 'baj', 'result', 'fas', 'met', 'corrient', 'finalizacion', 'merc', 'zon', 'acompan', 'ello', 'tas', 'entorn', 'ofert', 'extranjer', 'fiscal', 'diferent', 'inflacion', 'impuls', 'parcial', 'internacional', 'larg', 'encuentr', 'determin', 'mes', 'cobr', 'recuper', 'infraestructur', 'aumentari', 'limit', 'respect', 'tributari', 'relacion', 'intern', 'concentr', 'destinari', 'ubiqu', 'tras', 'segund', 'comercial', 'trayectori', 'descendi', 'transitori', 'tendenci', 'med', 'otorg', 'exportacion', 'aprob', 'continu', 'ubic', 'ritm', 'dentr', 'perec', 'mejor', 'compens', 'climat', 'encim', 'caract', 'distint', 'produccion', 'inter', 'elev', 'agropecuari', 'influ', 'present', 'aument', 'horizont', 'inici', 'nivel', 'sector', 'consider', 'context', 'dinam', 'gast', 'riesg', 'fuent', 'problem', 'alrededor', 'nominal', 'lueg', 'tradicional', 'export', 'incluiri', 'mantien', 'crecimient', 'aun', 'hidric', 'megaproyect', 'pasari', 'micr', 'moderacion', 'incorpor', 'manufactur', 'exced', 'siend', 'favorec', 'priv', 'estim', 'financi', 'miner', 'interanual', 'servici', 'reflej', 'proyect', 'volatil', 'reiter', 'alza', 'corpor', 'manten', 'pbi', 'public', 'credit', 'plaz', 'cuart', 'recient', 'liger', 'total', 'corrupcion', 'maner', 'ultim', 'doc', 'seri', 'pas', 'preci', 'implic', 'negat', 'contraccion', 'particular', 'demand', 'pequen', 'millon', 'caid', 'recuperacion', 'esper', 'consistent', 'pag', 'exces', 'neutral', 'conform', 'supon', 'brech', 'cuent', 'deficit', 'balanc', 'termin', 'econom', 'balanz', 'legisl', 'commoditi', 'dos', 'ano', 'atent', 'asoci', 'financier', 'mil', 'person', 'us', 'prim', 'paquet', 'ejecucion', 'signific', 'trimestr', 'component', 'desastr', 'aliment', 'referent', 'nin', 'dispersion', 'cas', 'estimul', 'report', 'materi', 'empres', 'casi', 'previst', 'observ', 'volumen', 'advers', 'igual', 'afectari', 'trav', 'proyeccion', 'lluvi', 'cierr', 'fenomen'}\n",
      "/////////////////////////\n"
     ]
    }
   ],
   "source": [
    "for stemmers in corpus_stemmer:\n",
    "    print(stemmers)\n",
    "    print(\"/////////////////////////\")"
   ]
  },
  {
   "cell_type": "code",
   "execution_count": 57,
   "metadata": {
    "collapsed": false
   },
   "outputs": [
    {
     "name": "stdout",
     "output_type": "stream",
     "text": [
      "{'riesgo', 'nino', 'inversion', 'costero', 'estimados', 'reflejados', 'parte', 'privados', 'holgada', 'prevista', 'politica', 'ubique', 'descendiendo', 'porcentuales', 'toma', 'presente', 'ubicandose', 'debajo', 'exportaciones', 'disipandose', 'dinamismo', 'caidas', 'ingresos', 'principal', 'favorecidas', 'reflejaria', 'luego', 'economias', 'mientras', 'crecio', 'significo', 'superior', 'aunque', 'marzo', 'fenomeno', 'diciembre', 'centro', 'incorpora', 'ademas', 'senda', 'menor', 'primer', 'trimestre', 'decreciente', 'rapidamente', 'ubico', 'economia', 'consecuencia', 'mayor', 'manera', 'renta', 'commodities', 'proximo', 'propuesta', 'tendrian', 'reconstruccion', 'venido', 'nacional', 'conforme', 'mundial', 'correspondiente', 'postura', 'anual', 'trimestres', 'evolucion', 'cuenta', 'lado', 'impuesto', 'escenario', 'mantendrian', 'corriente', 'consumo', 'abril', 'baja', 'privado', 'ponderado', 'expansiva', 'mostrando', 'ciento', 'decir', 'fiscal', 'inflacion', 'proceso', 'intensificarian', 'respectivamente', 'privada', 'demanda', 'mes', 'reitero', 'choque', 'choques', 'continuado', 'proyectado', 'proyecciones', 'devoluciones', 'primeros', 'frente', 'gobierno', 'relacion', 'muestran', 'mostrar', 'meses', 'basicos', 'japon', 'acumulado', 'ley', 'doce', 'crecieron', 'tasa', 'efecto', 'asumen', 'credito', 'gasto', 'proyectos', 'considerados', 'reflejo', 'horizonte', 'balanza', 'tarjetas', 'tradicionales', 'destrabe', 'terminos', 'considerar', 'mostrado', 'paralizacion', 'contrajo', 'espera', 'volatilidad', 'confirma', 'informacion', 'alimentos', 'positivo', 'revisado', 'redujo', 'oferta', 'interes', 'provenientes', 'pagos', 'impulso', 'mercados', 'resultados', 'observada', 'causado', 'meta', 'empresas', 'financieros', 'precios', 'superando', 'eleva', 'emergentes', 'cierre', 'nivel', 'sector', 'plazo', 'principalmente', 'medida', 'agosto', 'claramente', 'linea', 'dentro', 'semestre', 'previstas', 'pescado', 'impulsadas', 'servicios', 'alrededor', 'monetaria', 'responde', 'ajustes', 'nominal', 'tendencia', 'temporada', 'factores', 'mas', 'presentan', 'mayo', 'periodo', 'trayectoria', 'ultimos', 'progresivo', 'fines', 'moderacion', 'publica', 'fuente', 'reversion', 'desaceleracion', 'preve', 'creciendo', 'elevan', 'moderado', 'ligeramente', 'requerimientos', 'proyecta', 'esperado', 'contractiva', 'directorio', 'descontando', 'evolucione', 'rehabilitacion', 'atento', 'rango', 'anchoveta', 'primera', 'crecimiento', 'intercambio', 'referencia', 'interanual', 'economica', 'indicador', 'alza', 'adicionales', 'tasas', 'pesca', 'puntos', 'nuevamente', 'expectativas', 'transporte', 'mantuvo', 'pbi', 'siguientes', 'cuales', 'obstante', 'corrupcion', 'proyecto', 'eurozona', 'seguira', 'vinculados', 'raiz', 'contraccion', 'menores', 'reporte', 'via', 'consistente', 'actividad', 'bajo', 'respecto', 'afectados', 'estaria', 'publico', 'sesgo', 'recuperacion', 'siendo', 'hacia', 'casos', 'internacionales', 'embargo', 'investigaciones', 'segundo', 'vii', 'determinantes', 'financiera', 'interna', 'deficit', 'cuota', 'limite', 'potencial', 'contexto', 'n', 'ano', 'largo', 'muestra', 'harina', 'gastos', 'convergencia', 'reanudacion', 'particularmente', 'previo', 'mantenido', 'medianas', 'impacto', 'financiamiento', 'reduccion', 'anuncio', 'pasaria', 'eventos', 'ejecutivo', 'gradual', 'aumento', 'estables', 'debido', 'posicion', 'condiciones', 'rapida', 'impuestos', 'normalizacion', 'ritmo', 'esperada', 'vi', 'mejores', 'volumen', 'resultado', 'asociados', 'negativo', 'caida', 'asimismo', 'igual', 'cobre', 'encuentra', 'proyeccion', 'moderadas', 'infraestructura', 'acopio', 'recaudacion', 'mayores'}\n",
      "@@@@@@@@@@@@@@@@@@@@@@@@@@@@@@@@@@@@@@@@@@@@@@@@@@@@@@@@@@@@\n",
      "{'agricolas', 'disminucion', 'riesgo', 'nino', 'implicara', 'inversion', 'consecuente', 'costero', 'reduciendose', 'prevista', 'venia', 'formacion', 'descendiendo', 'minera', 'socios', 'presente', 'ubicado', 'ubicandose', 'debajo', 'exportaciones', 'dinamismo', 'ingresos', 'principal', 'consolidacion', 'luego', 'economias', 'bruta', 'correccion', 'sectorial', 'contrayendose', 'enfriamiento', 'crecio', 'sera', 'va', 'consecutivos', 'cuarto', 'fenomeno', 'diciembre', 'implica', 'acorde', 'persistentes', 'marzo', 'obras', 'incrementaron', 'primer', 'mantenerse', 'trimestre', 'disminuyo', 'continuen', 'ubico', 'hipotecario', 'noviembre', 'economia', 'corrientes', 'mayor', 'manera', 'commodities', 'mar', 'proximo', 'anos', 'tramo', 'estimulo', 'reconstruccion', 'venido', 'proximos', 'conforme', 'mundial', 'seguido', 'inflacionarias', 'tributarias', 'trimestres', 'evolucion', 'cuarta', 'cuenta', 'lado', 'globales', 'alcanzaron', 'corriente', 'privado', 'baja', 'estabilizarse', 'ponderado', 'ello', 'ciento', 'decir', 'fiscal', 'inflacion', 'bcrp', 'respectivamente', 'demanda', 'privada', 'desarrolladas', 'plan', 'desempeno', 'presiones', 'comerciales', 'choque', 'choques', 'devoluciones', 'proyecciones', 'mantendria', 'vez', 'juegos', 'primeros', 'elevaron', 'tras', 'meses', 'manufacturera', 'descenso', 'acumulado', 'doce', 'ausencia', 'tasa', 'credito', 'coincidiendo', 'gasto', 'considerados', 'horizonte', 'exportacion', 'continuaria', 'balanza', 'reflejo', 'mantengan', 'sido', 'destaco', 'terminos', 'afectaron', 'cerca', 'octubre', 'espera', 'altos', 'volatilidad', 'alimentos', 'inicios', 'positivo', 'revisado', 'tercer', 'redujo', 'mejor', 'impulsada', 'observado', 'indicadores', 'oferta', 'interes', 'pagos', 'energia', 'mercados', 'produccion', 'financieros', 'meta', 'precios', 'superando', 'favorecieron', 'emergentes', 'cierre', 'nivel', 'sector', 'plazo', 'aceleracion', 'principalmente', 'agosto', 'productos', 'mantienen', 'linea', 'dentro', 'semestre', 'servicios', 'factores', 'ajustes', 'mas', 'presentan', 'disipada', 'siguio', 'ultimos', 'ligero', 'fines', 'publica', 'fuente', 'empleo', 'reversion', 'inicio', 'preve', 'concentrado', 'alcanzado', 'revertiria', 'ligeramente', 'requerimientos', 'comercio', 'setiembre', 'personas', 'directorio', 'apoyada', 'evolucione', 'proyecta', 'rango', 'domestica', 'crecimiento', 'intercambio', 'recuperandose', 'interanual', 'referencia', 'economica', 'ascendio', 'primera', 'alza', 'previsto', 'reciente', 'mantuvo', 'expectativas', 'historicos', 'monetarias', 'metales', 'pbi', 'construccion', 'mitad', 'corrige', 'registro', 'asociado', 'descienda', 'vinculados', 'seguira', 'acelerara', 'pesquero', 'reporte', 'global', 'consistente', 'actividad', 'bajo', 'capitales', 'financieras', 'repatriacion', 'publico', 'sesgo', 'recuperacion', 'producto', 'siendo', 'basicamente', 'tres', 'internacionales', 'encima', 'panamericanos', 'embargo', 'hacia', 'brecha', 'segundo', 'vii', 'expansivas', 'dicho', 'financiera', 'interna', 'deficit', 'contexto', 'dos', 'ano', 'largo', 'continue', 'gastos', 'capital', 'explicado', 'convergencia', 'particularmente', 'previo', 'mantenido', 'tributarios', 'financiamiento', 'impacto', 'niveles', 'reduccion', 'finales', 'gradual', 'aumento', 'debido', 'rapida', 'condiciones', 'inferior', 'esperada', 'ritmo', 'similar', 'caida', 'resultado', 'asimismo', 'tomando', 'hidrico', 'importada', 'moderada', 'proyeccion', 'deterioro', 'recaudacion', 'mayores'}\n",
      "@@@@@@@@@@@@@@@@@@@@@@@@@@@@@@@@@@@@@@@@@@@@@@@@@@@@@@@@@@@@\n",
      "{'agricolas', 'disminucion', 'riesgo', 'nino', 'implicara', 'inversion', 'consecuente', 'costero', 'reduciendose', 'prevista', 'venia', 'formacion', 'descendiendo', 'minera', 'socios', 'presente', 'ubicado', 'ubicandose', 'debajo', 'exportaciones', 'dinamismo', 'ingresos', 'principal', 'consolidacion', 'luego', 'economias', 'bruta', 'correccion', 'sectorial', 'contrayendose', 'enfriamiento', 'crecio', 'sera', 'va', 'consecutivos', 'cuarto', 'fenomeno', 'diciembre', 'implica', 'acorde', 'persistentes', 'marzo', 'obras', 'incrementaron', 'primer', 'mantenerse', 'trimestre', 'disminuyo', 'continuen', 'ubico', 'hipotecario', 'noviembre', 'economia', 'corrientes', 'mayor', 'manera', 'commodities', 'mar', 'proximo', 'anos', 'tramo', 'estimulo', 'reconstruccion', 'venido', 'proximos', 'conforme', 'mundial', 'seguido', 'inflacionarias', 'tributarias', 'trimestres', 'evolucion', 'cuarta', 'cuenta', 'lado', 'globales', 'alcanzaron', 'corriente', 'privado', 'baja', 'estabilizarse', 'ponderado', 'ello', 'ciento', 'decir', 'fiscal', 'inflacion', 'bcrp', 'respectivamente', 'demanda', 'privada', 'desarrolladas', 'plan', 'desempeno', 'presiones', 'comerciales', 'choques', 'devoluciones', 'proyecciones', 'mantendria', 'vez', 'juegos', 'primeros', 'elevaron', 'tras', 'meses', 'manufacturera', 'descenso', 'acumulado', 'doce', 'ausencia', 'tasa', 'credito', 'coincidiendo', 'gasto', 'considerados', 'horizonte', 'exportacion', 'continuaria', 'balanza', 'mantengan', 'sido', 'destaco', 'terminos', 'afectaron', 'cerca', 'octubre', 'espera', 'altos', 'volatilidad', 'alimentos', 'inicios', 'positivo', 'revisado', 'tercer', 'redujo', 'mejor', 'impulsada', 'observado', 'indicadores', 'oferta', 'interes', 'pagos', 'energia', 'mercados', 'produccion', 'financieros', 'meta', 'precios', 'superando', 'favorecieron', 'emergentes', 'cierre', 'nivel', 'sector', 'plazo', 'aceleracion', 'principalmente', 'agosto', 'productos', 'mantienen', 'linea', 'dentro', 'semestre', 'servicios', 'factores', 'ajustes', 'mas', 'disipada', 'siguio', 'ultimos', 'ligero', 'fines', 'publica', 'fuente', 'empleo', 'reversion', 'inicio', 'preve', 'concentrado', 'alcanzado', 'revertiria', 'ligeramente', 'requerimientos', 'comercio', 'setiembre', 'personas', 'directorio', 'apoyada', 'evolucione', 'proyecta', 'rango', 'domestica', 'crecimiento', 'intercambio', 'recuperandose', 'interanual', 'referencia', 'economica', 'ascendio', 'primera', 'alza', 'previsto', 'reciente', 'mantuvo', 'expectativas', 'historicos', 'monetarias', 'metales', 'pbi', 'construccion', 'mitad', 'refl', 'corrige', 'registro', 'ejo', 'asociado', 'descienda', 'vinculados', 'seguira', 'acelerara', 'pesquero', 'reporte', 'global', 'consistente', 'actividad', 'bajo', 'capitales', 'financieras', 'repatriacion', 'publico', 'sesgo', 'recuperacion', 'producto', 'siendo', 'basicamente', 'tres', 'internacionales', 'encima', 'panamericanos', 'embargo', 'hacia', 'brecha', 'segundo', 'expansivas', 'dicho', 'financiera', 'interna', 'deficit', 'contexto', 'dos', 'ano', 'largo', 'continue', 'gastos', 'capital', 'explicado', 'convergencia', 'particularmente', 'previo', 'mantenido', 'tributarios', 'financiamiento', 'impacto', 'niveles', 'reduccion', 'finales', 'gradual', 'aumento', 'debido', 'rapida', 'condiciones', 'inferior', 'esperada', 'ritmo', 'similar', 'caida', 'resultado', 'asimismo', 'tomando', 'hidrico', 'importada', 'moderada', 'proyeccion', 'deterioro', 'recaudacion', 'mayores'}\n",
      "@@@@@@@@@@@@@@@@@@@@@@@@@@@@@@@@@@@@@@@@@@@@@@@@@@@@@@@@@@@@\n",
      "{'riesgo', 'gran', 'grandes', 'nino', 'inversion', 'moneda', 'parte', 'investigacion', 'aprobadas', 'sectores', 'politica', 'prevista', 'economicos', 'ubique', 'descendio', 'diferentes', 'minera', 'presente', 'ubicado', 'elevandose', 'lluvias', 'exportaciones', 'mineras', 'directa', 'dinamismo', 'afectadas', 'principal', 'consolidacion', 'negativos', 'restriccion', 'luego', 'manufactura', 'considera', 'crecio', 'pequena', 'superior', 'aumentos', 'cuarto', 'superavit', 'fenomeno', 'impactos', 'diciembre', 'restricciones', 'pasado', 'tal', 'segmento', 'medidas', 'obras', 'incorpora', 'menor', 'corporativo', 'estimada', 'primer', 'trimestre', 'impulsar', 'implicaron', 'incluirian', 'incremento', 'desastres', 'economia', 'mayor', 'paso', 'primaria', 'commodities', 'manera', 'anos', 'estimulo', 'reconstruccion', 'proporcion', 'proximos', 'nacional', 'conforme', 'recientes', 'mundial', 'favorecidos', 'tributarias', 'reflejando', 'evolucion', 'cuenta', 'ultimo', 'consideradas', 'corriente', 'aumentarian', 'finalizacion', 'privado', 'baja', 'ello', 'naturales', 'ciento', 'fiscal', 'inflacion', 'respectivamente', 'entorno', 'privada', 'demanda', 'adversos', 'fase', 'congreso', 'reitero', 'choque', 'choques', 'acompanado', 'continuado', 'proyectado', 'millones', 'primeros', 'gobierno', 'fuentes', 'privadas', 'continuara', 'meses', 'comercial', 'tras', 'responde', 'empresa', 'doce', 'tasa', 'credito', 'componente', 'gasto', 'proyectos', 'exportacion', 'materia', 'balanza', 'continuaria', 'horizonte', 'tradicionales', 'terminos', 'considerar', 'espera', 'volatilidad', 'alimentos', 'permitirian', 'inicios', 'influido', 'otorgadas', 'dado', 'oferta', 'interes', 'reflejado', 'pagos', 'parcialmente', 'significativo', 'produccion', 'observada', 'mercados', 'traves', 'paquete', 'meta', 'financieros', 'precios', 'cierre', 'sector', 'plazo', 'principalmente', 'agropecuario', 'caracter', 'mantienen', 'dentro', 'febrero', 'alrededor', 'servicios', 'nominal', 'semestre', 'micro', 'factores', 'climaticos', 'ajustes', 'tendencia', 'transitorio', 'destinaria', 'aun', 'trayectoria', 'moderacion', 'fines', 'seria', 'problemas', 'publica', 'facultades', 'preve', 'concentrado', 'directorio', 'ligeramente', 'esperado', 'proyecta', 'personas', 'setiembre', 'evolucione', 'atento', 'rango', 'interanual', 'crecimiento', 'recuperandose', 'intercambio', 'totalidad', 'referencia', 'compensar', 'alza', 'pesca', 'reciente', 'supone', 'mantuvo', 'expectativas', 'pbi', 'extranjera', 'pasaron', 'relacionados', 'afectarian', 'estima', 'corrupcion', 'proyecto', 'contraccion', 'reporte', 'excediendo', 'consistente', 'bajo', 'respecto', 'perecibles', 'retrasos', 'publico', 'recuperacion', 'siendo', 'elevado', 'zonas', 'casos', 'encima', 'internacionales', 'brecha', 'segundo', 'balance', 'neutral', 'determinantes', 'interna', 'deficit', 'legislativas', 'acelerar', 'limite', 'observados', 'contexto', 'dos', 'ano', 'largo', 'mil', 'gastos', 'converger', 'particularmente', 'mantenido', 'us', 'previo', 'financiamiento', 'niveles', 'impacto', 'ejecucion', 'megaproyectos', 'pasaria', 'distintos', 'debido', 'dispersion', 'excesivas', 'ritmo', 'casi', 'volumenes', 'mejores', 'ajuste', 'caida', 'asimismo', 'resultado', 'asociados', 'registrada', 'importante', 'cobre', 'encuentra', 'hidrico', 'proyeccion', 'infraestructura', 'igual', 'considerados', 'mayores'}\n",
      "@@@@@@@@@@@@@@@@@@@@@@@@@@@@@@@@@@@@@@@@@@@@@@@@@@@@@@@@@@@@\n"
     ]
    }
   ],
   "source": [
    "for words in corpus_word:\n",
    "    print(words)\n",
    "    print(\"@@@@@@@@@@@@@@@@@@@@@@@@@@@@@@\"*2)"
   ]
  },
  {
   "cell_type": "code",
   "execution_count": null,
   "metadata": {
    "collapsed": true
   },
   "outputs": [],
   "source": [
    "# Paso 2: Aca comienza el pre-procesamiento"
   ]
  },
  {
   "cell_type": "markdown",
   "metadata": {},
   "source": [
    "Aplicar a cada elemento de corpus, los mismos pasos:\n",
    "\n",
    "1) Convertir todo a minusculas.\n",
    "2) Eliminar signos de puntuacion (y números)\n",
    "3) ELiminar Stopwords (usar from nltk.corpus import stopwords...mas adelante se explica)\n",
    "4) Aplicar Stemmer a cada elemento  del corpus. (usar Snowball Stemmer...ver mas adelante)\n",
    "\n",
    "Esta lista corpus (una vez pre-procesada) se usará como input del TfidfVectorizer."
   ]
  },
  {
   "cell_type": "code",
   "execution_count": null,
   "metadata": {
    "collapsed": true
   },
   "outputs": [],
   "source": []
  },
  {
   "cell_type": "code",
   "execution_count": null,
   "metadata": {
    "collapsed": true
   },
   "outputs": [],
   "source": []
  },
  {
   "cell_type": "markdown",
   "metadata": {},
   "source": [
    "# Para las StopWords"
   ]
  },
  {
   "cell_type": "code",
   "execution_count": null,
   "metadata": {
    "collapsed": true
   },
   "outputs": [],
   "source": [
    "\n",
    "# Importamos la lista de stopwords\n",
    "from nltk.corpus import stopwords\n",
    "# Especificamos que queremos la lista de stopwords en espanol\n",
    "stopset = set(stopwords.words(\"spanish\"))\n",
    "stopset\n"
   ]
  },
  {
   "cell_type": "code",
   "execution_count": null,
   "metadata": {
    "collapsed": true
   },
   "outputs": [],
   "source": [
    "#Usamos el Método update() el cual se aplica a conjuntos (Sets) para agregar (Union) nuevos elementos al conjunto de stopwords."
   ]
  },
  {
   "cell_type": "code",
   "execution_count": null,
   "metadata": {
    "collapsed": true
   },
   "outputs": [],
   "source": [
    "#Esta liista de nuevos Stopwords lo actualizo yo!\n",
    "#stopset.update(['lt','p','/p','br','amp','quot','field','font','normal','span','0px','rgb','style','51', \n",
    "               # 'spacing','text','helvetica','size','family', 'space', 'arial', 'height', 'indent', 'letter'\n",
    "               # 'line','none','sans','serif','transform','line','variant','weight','times', 'new','strong', 'video', 'title'\n",
    "               # 'white','word','letter', 'roman','0pt','16','color','12','14','21', 'neue', 'apple', 'class',  ])"
   ]
  },
  {
   "cell_type": "code",
   "execution_count": null,
   "metadata": {
    "collapsed": true
   },
   "outputs": [],
   "source": []
  },
  {
   "cell_type": "markdown",
   "metadata": {},
   "source": [
    "# Para el Stemmer:"
   ]
  },
  {
   "cell_type": "code",
   "execution_count": null,
   "metadata": {
    "collapsed": true
   },
   "outputs": [],
   "source": [
    "from nltk.stem.snowball import SnowballStemmer"
   ]
  },
  {
   "cell_type": "code",
   "execution_count": null,
   "metadata": {
    "collapsed": true
   },
   "outputs": [],
   "source": [
    "raices=SnowballStemmer(\"spanish\")"
   ]
  },
  {
   "cell_type": "code",
   "execution_count": null,
   "metadata": {
    "collapsed": true
   },
   "outputs": [],
   "source": [
    "raizpalma = [raices.stem(t) for t in corpus ]       #el stemmer trabaja sobre un objeto tipo lista    "
   ]
  },
  {
   "cell_type": "code",
   "execution_count": null,
   "metadata": {
    "collapsed": true
   },
   "outputs": [],
   "source": []
  },
  {
   "cell_type": "markdown",
   "metadata": {},
   "source": [
    "# Finalmente el Corpus preprocesado"
   ]
  },
  {
   "cell_type": "code",
   "execution_count": null,
   "metadata": {
    "collapsed": true
   },
   "outputs": [],
   "source": [
    "corpus = ['reporte_1_preprocesado','reporte_2_preprocesado','reporte_3_preprocesado','reporte_4_preprocesado']"
   ]
  },
  {
   "cell_type": "code",
   "execution_count": null,
   "metadata": {
    "collapsed": true
   },
   "outputs": [],
   "source": []
  },
  {
   "cell_type": "markdown",
   "metadata": {},
   "source": [
    "# Aplicamos TF-IDF (aca es a donde quiero llegar)"
   ]
  },
  {
   "cell_type": "code",
   "execution_count": null,
   "metadata": {
    "collapsed": true
   },
   "outputs": [],
   "source": [
    "# Este paso yo lo hago...solo necesito tener como input a la lista \"corpus\" ya pre-procesada.\n",
    "vectorizador = TfidfVectorizer(use_idf=True, ngram_range=(1,3))   \n",
    "\n",
    "X = vectorizador.fit_transform(corpus)            # corpus: debe ser una lista donde c/elemento sea un reporte.txt"
   ]
  },
  {
   "cell_type": "code",
   "execution_count": null,
   "metadata": {
    "collapsed": true
   },
   "outputs": [],
   "source": []
  },
  {
   "cell_type": "code",
   "execution_count": null,
   "metadata": {
    "collapsed": true
   },
   "outputs": [],
   "source": []
  }
 ],
 "metadata": {
  "kernelspec": {
   "display_name": "Python 3",
   "language": "python",
   "name": "python3"
  },
  "language_info": {
   "codemirror_mode": {
    "name": "ipython",
    "version": 3
   },
   "file_extension": ".py",
   "mimetype": "text/x-python",
   "name": "python",
   "nbconvert_exporter": "python",
   "pygments_lexer": "ipython3",
   "version": "3.6.0"
  }
 },
 "nbformat": 4,
 "nbformat_minor": 2
}
