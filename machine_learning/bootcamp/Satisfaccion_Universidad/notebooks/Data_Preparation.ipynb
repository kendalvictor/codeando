{
 "cells": [
  {
   "cell_type": "code",
   "execution_count": 1,
   "metadata": {
    "collapsed": true
   },
   "outputs": [],
   "source": [
    "import pandas as pd\n",
    "\n",
    "import matplotlib.pyplot as plt\n",
    "import seaborn as sns\n",
    "%matplotlib inline"
   ]
  },
  {
   "cell_type": "markdown",
   "metadata": {},
   "source": [
    "## Lectura de Datos"
   ]
  },
  {
   "cell_type": "code",
   "execution_count": 2,
   "metadata": {
    "collapsed": true
   },
   "outputs": [],
   "source": [
    "train_uni = pd.read_excel(\"../data/train_universidad.xlsx\", sheetname=\"train_universidad.csv\")\n",
    "submit_uni = pd.read_excel(\"../data/test_universidad.xlsx\", sheetname=\"test_universidad\")"
   ]
  },
  {
   "cell_type": "markdown",
   "metadata": {},
   "source": [
    "# Exploración de Datos"
   ]
  },
  {
   "cell_type": "code",
   "execution_count": 3,
   "metadata": {
    "collapsed": false
   },
   "outputs": [
    {
     "name": "stdout",
     "output_type": "stream",
     "text": [
      "Las variables del dataset son: COD_ENCUESTADO, Nombre Campus, NIVEL ACTUAL, Clave de carrera, Ciclo, COMENTARIO, IND_GEA, IND_DELEGADO, CANT_CURSOS_MATRICU_SIN_INGLES, UOD_depostista_ind_deportista, NPS\n"
     ]
    }
   ],
   "source": [
    "print(\"Las variables del dataset son: {0}\".format(', '.join(list(train_uni.columns))))"
   ]
  },
  {
   "cell_type": "code",
   "execution_count": 4,
   "metadata": {
    "collapsed": false
   },
   "outputs": [
    {
     "name": "stdout",
     "output_type": "stream",
     "text": [
      "Dimensiones del dataset de Entrenamiento: (20000, 11)\n",
      "Dimensiones del dataset de Submit: (8427, 10)\n"
     ]
    }
   ],
   "source": [
    "print(\"Dimensiones del dataset de Entrenamiento: {0}\".format(train_uni.shape))\n",
    "print(\"Dimensiones del dataset de Submit: {0}\".format(submit_uni.shape))"
   ]
  },
  {
   "cell_type": "markdown",
   "metadata": {},
   "source": [
    "** Target **"
   ]
  },
  {
   "cell_type": "code",
   "execution_count": 5,
   "metadata": {
    "collapsed": false
   },
   "outputs": [
    {
     "data": {
      "text/plain": [
       "NPS\n",
       "1    1061\n",
       "2    3107\n",
       "3    8136\n",
       "4    7696\n",
       "dtype: int64"
      ]
     },
     "execution_count": 5,
     "metadata": {},
     "output_type": "execute_result"
    }
   ],
   "source": [
    "train_uni.groupby(\"NPS\").agg('size')"
   ]
  },
  {
   "cell_type": "code",
   "execution_count": 6,
   "metadata": {
    "collapsed": false
   },
   "outputs": [
    {
     "data": {
      "text/plain": [
       "<matplotlib.axes._subplots.AxesSubplot at 0x7f0cbb94f278>"
      ]
     },
     "execution_count": 6,
     "metadata": {},
     "output_type": "execute_result"
    },
    {
     "data": {
      "image/png": "[encoded data removed]",
      "text/plain": [
       "<matplotlib.figure.Figure at 0x7f0cbb94f5f8>"
      ]
     },
     "metadata": {},
     "output_type": "display_data"
    }
   ],
   "source": [
    "sns.countplot(x=\"NPS\", data=train_uni)"
   ]
  },
  {
   "cell_type": "code",
   "execution_count": 7,
   "metadata": {
    "collapsed": true
   },
   "outputs": [],
   "source": [
    "train_uni['NPS'] = train_uni['NPS'].map({1:0, 2:1, 3:2, 4:3})"
   ]
  },
  {
   "cell_type": "code",
   "execution_count": 8,
   "metadata": {
    "collapsed": false
   },
   "outputs": [
    {
     "data": {
      "text/plain": [
       "<matplotlib.axes._subplots.AxesSubplot at 0x7f0cbbb24860>"
      ]
     },
     "execution_count": 8,
     "metadata": {},
     "output_type": "execute_result"
    },
    {
     "data": {
      "image/png": "[encoded data removed]",
      "text/plain": [
       "<matplotlib.figure.Figure at 0x7f0cf081ce10>"
      ]
     },
     "metadata": {},
     "output_type": "display_data"
    }
   ],
   "source": [
    "sns.countplot(x=\"NPS\", data=train_uni)"
   ]
  },
  {
   "cell_type": "markdown",
   "metadata": {},
   "source": [
    "** Missings o Nulos? **"
   ]
  },
  {
   "cell_type": "code",
   "execution_count": 9,
   "metadata": {
    "collapsed": false
   },
   "outputs": [
    {
     "data": {
      "text/plain": [
       "COD_ENCUESTADO                        0\n",
       "Nombre Campus                         0\n",
       "NIVEL ACTUAL                          0\n",
       "Clave de carrera                      0\n",
       "Ciclo                                 0\n",
       "COMENTARIO                            0\n",
       "IND_GEA                           19701\n",
       "IND_DELEGADO                      16468\n",
       "CANT_CURSOS_MATRICU_SIN_INGLES      366\n",
       "UOD_depostista_ind_deportista     19852\n",
       "NPS                                   0\n",
       "dtype: int64"
      ]
     },
     "execution_count": 9,
     "metadata": {},
     "output_type": "execute_result"
    }
   ],
   "source": [
    "train_uni.isnull().sum()"
   ]
  },
  {
   "cell_type": "code",
   "execution_count": 10,
   "metadata": {
    "collapsed": true
   },
   "outputs": [],
   "source": [
    "# Imputación de la variable IND_DELEGADO\n",
    "train_uni.loc[train_uni['IND_DELEGADO'] == 'Delegado','IND_DELEGADO'] = 1\n",
    "train_uni[\"IND_DELEGADO\"].fillna(0, inplace=True)\n",
    "\n",
    "# Imputación de la variable IND_GEA\n",
    "train_uni.loc[train_uni['IND_GEA'] == 'GEA','IND_GEA'] = 1\n",
    "train_uni[\"IND_GEA\"].fillna(0, inplace=True)\n",
    "\n",
    "# Imputación de la variable UOD_depostista_ind_deportista\n",
    "train_uni.loc[train_uni['UOD_depostista_ind_deportista'] == 'Deportista','UOD_depostista_ind_deportista'] = 1\n",
    "train_uni[\"UOD_depostista_ind_deportista\"].fillna(0, inplace=True)\n",
    "\n",
    "# Imputación de la variable CANT_CURSOS_MATRICU_SIN_INGLES\n",
    "train_uni[\"CANT_CURSOS_MATRICU_SIN_INGLES\"].fillna(12, inplace=True)\n",
    "train_uni[\"CANT_CURSOS_MATRICU_SIN_INGLES\"] = train_uni[\"CANT_CURSOS_MATRICU_SIN_INGLES\"].astype(int)"
   ]
  },
  {
   "cell_type": "code",
   "execution_count": 11,
   "metadata": {
    "collapsed": true
   },
   "outputs": [],
   "source": [
    "# Imputación de la variable IND_DELEGADO\n",
    "submit_uni.loc[submit_uni['IND_DELEGADO'] == 'Delegado','IND_DELEGADO'] = 1\n",
    "submit_uni[\"IND_DELEGADO\"].fillna(0, inplace=True)\n",
    "\n",
    "# Imputación de la variable IND_GEA\n",
    "submit_uni.loc[submit_uni['IND_GEA'] == 'GEA','IND_GEA'] = 1\n",
    "submit_uni[\"IND_GEA\"].fillna(0, inplace=True)\n",
    "\n",
    "# Imputación de la variable UOD_depostista_ind_deportista\n",
    "submit_uni.loc[submit_uni['UOD_depostista_ind_deportista'] == 'Deportista','UOD_depostista_ind_deportista'] = 1\n",
    "submit_uni[\"UOD_depostista_ind_deportista\"].fillna(0, inplace=True)\n",
    "\n",
    "# Imputación de la variable CANT_CURSOS_MATRICU_SIN_INGLES\n",
    "submit_uni[\"CANT_CURSOS_MATRICU_SIN_INGLES\"].fillna(12, inplace=True)\n",
    "submit_uni[\"CANT_CURSOS_MATRICU_SIN_INGLES\"] = submit_uni[\"CANT_CURSOS_MATRICU_SIN_INGLES\"].astype(int)"
   ]
  },
  {
   "cell_type": "code",
   "execution_count": 12,
   "metadata": {
    "collapsed": false
   },
   "outputs": [
    {
     "data": {
      "text/plain": [
       "<matplotlib.axes._subplots.AxesSubplot at 0x7f0cbc0f48d0>"
      ]
     },
     "execution_count": 12,
     "metadata": {},
     "output_type": "execute_result"
    },
    {
     "data": {
      "image/png": "[encoded data removed]",
      "text/plain": [
       "<matplotlib.figure.Figure at 0x7f0cbbc3b630>"
      ]
     },
     "metadata": {},
     "output_type": "display_data"
    }
   ],
   "source": [
    "f, (ax1, ax2) = plt.subplots(nrows=1, ncols=2, figsize=(15,5))\n",
    "sns.countplot(x=\"NIVEL ACTUAL\", data=train_uni, ax=ax1)\n",
    "sns.countplot(x=\"NIVEL ACTUAL\", data=submit_uni, ax=ax2)"
   ]
  },
  {
   "cell_type": "code",
   "execution_count": 13,
   "metadata": {
    "collapsed": true
   },
   "outputs": [],
   "source": [
    "# Encoding de las Variables Categóricas\n",
    "niv_dic = {'AC':1, 'FC':'2', 'PRESENCIAL':3,'ON LINE':4}\n",
    "\n",
    "train_uni.loc[:,\"NIVEL ACTUAL\"] = train_uni[\"NIVEL ACTUAL\"].map(niv_dic)\n",
    "submit_uni.loc[:,\"NIVEL ACTUAL\"] = submit_uni[\"NIVEL ACTUAL\"].map(niv_dic)"
   ]
  },
  {
   "cell_type": "code",
   "execution_count": 14,
   "metadata": {
    "collapsed": false
   },
   "outputs": [
    {
     "data": {
      "text/plain": [
       "<matplotlib.axes._subplots.AxesSubplot at 0x7f0cbb935c50>"
      ]
     },
     "execution_count": 14,
     "metadata": {},
     "output_type": "execute_result"
    },
    {
     "data": {
      "image/png": "[encoded data removed]",
      "text/plain": [
       "<matplotlib.figure.Figure at 0x7f0cbba4b2e8>"
      ]
     },
     "metadata": {},
     "output_type": "display_data"
    }
   ],
   "source": [
    "f, (ax1, ax2) = plt.subplots(nrows=1, ncols=2, figsize=(15,5))\n",
    "sns.countplot(x=\"NIVEL ACTUAL\", data=train_uni, ax=ax1)\n",
    "sns.countplot(x=\"NIVEL ACTUAL\", data=submit_uni, ax=ax2)"
   ]
  },
  {
   "cell_type": "markdown",
   "metadata": {},
   "source": [
    "# Variables a partir del comentario (Text Mining)"
   ]
  },
  {
   "cell_type": "code",
   "execution_count": 15,
   "metadata": {
    "collapsed": true
   },
   "outputs": [],
   "source": [
    "comment_values_train = pd.read_csv(\"../intermedios/04_comment_values_train.csv\")\n",
    "comment_values_test = pd.read_csv(\"../intermedios/04_comment_values_test.csv\")"
   ]
  },
  {
   "cell_type": "code",
   "execution_count": 16,
   "metadata": {
    "collapsed": true
   },
   "outputs": [],
   "source": [
    "values_vars = ['COD_ENCUESTADO','MEDIA_GMEAN','MEDIA_MEDIA','MODA_MEDIA','HMEAN_GMEAN','MODA_MIN','MAX_MIN','MEDIA_MIN','MODA_PESO_GMEAN','MIN_MAX','MODA_VARIATION','MEDIANA_MIN','MIN_KURTOSIS','HMEAN_MIN','GMEAN_MIN']\n",
    "comment_values_train = comment_values_train[values_vars]\n",
    "comment_values_test = comment_values_test[values_vars]"
   ]
  },
  {
   "cell_type": "code",
   "execution_count": 17,
   "metadata": {
    "collapsed": false
   },
   "outputs": [
    {
     "name": "stdout",
     "output_type": "stream",
     "text": [
      "Dimensiones del dataset de Entrenamiento: (20000, 15)\n",
      "Dimensiones del dataset de Submit: (8427, 15)\n"
     ]
    }
   ],
   "source": [
    "print(\"Dimensiones del dataset de Entrenamiento: {0}\".format(comment_values_train.shape))\n",
    "print(\"Dimensiones del dataset de Submit: {0}\".format(comment_values_test.shape))"
   ]
  },
  {
   "cell_type": "markdown",
   "metadata": {},
   "source": [
    "** Agrego las variables obtenidas a partir de comentario **"
   ]
  },
  {
   "cell_type": "code",
   "execution_count": 18,
   "metadata": {
    "collapsed": true
   },
   "outputs": [],
   "source": [
    "train_uni = train_uni.merge(comment_values_train, how=\"left\", on=\"COD_ENCUESTADO\")\n",
    "submit_uni = submit_uni.merge(comment_values_test, how=\"left\", on=\"COD_ENCUESTADO\")"
   ]
  },
  {
   "cell_type": "code",
   "execution_count": 19,
   "metadata": {
    "collapsed": false,
    "scrolled": true
   },
   "outputs": [
    {
     "data": {
      "text/html": [
       "<div>\n",
       "<table border=\"1\" class=\"dataframe\">\n",
       "  <thead>\n",
       "    <tr style=\"text-align: right;\">\n",
       "      <th></th>\n",
       "      <th>COD_ENCUESTADO</th>\n",
       "      <th>Nombre Campus</th>\n",
       "      <th>NIVEL ACTUAL</th>\n",
       "      <th>Clave de carrera</th>\n",
       "      <th>Ciclo</th>\n",
       "      <th>COMENTARIO</th>\n",
       "      <th>IND_GEA</th>\n",
       "      <th>IND_DELEGADO</th>\n",
       "      <th>CANT_CURSOS_MATRICU_SIN_INGLES</th>\n",
       "      <th>UOD_depostista_ind_deportista</th>\n",
       "      <th>...</th>\n",
       "      <th>MODA_MIN</th>\n",
       "      <th>MAX_MIN</th>\n",
       "      <th>MEDIA_MIN</th>\n",
       "      <th>MODA_PESO_GMEAN</th>\n",
       "      <th>MIN_MAX</th>\n",
       "      <th>MODA_VARIATION</th>\n",
       "      <th>MEDIANA_MIN</th>\n",
       "      <th>MIN_KURTOSIS</th>\n",
       "      <th>HMEAN_MIN</th>\n",
       "      <th>GMEAN_MIN</th>\n",
       "    </tr>\n",
       "  </thead>\n",
       "  <tbody>\n",
       "    <tr>\n",
       "      <th>0</th>\n",
       "      <td>13501</td>\n",
       "      <td>1</td>\n",
       "      <td>1</td>\n",
       "      <td>3</td>\n",
       "      <td>2</td>\n",
       "      <td>Me gusta la u es paja bro y soy pito</td>\n",
       "      <td>0</td>\n",
       "      <td>1</td>\n",
       "      <td>6</td>\n",
       "      <td>0</td>\n",
       "      <td>...</td>\n",
       "      <td>3</td>\n",
       "      <td>3</td>\n",
       "      <td>3.000000</td>\n",
       "      <td>2.252567</td>\n",
       "      <td>3</td>\n",
       "      <td>0.141421</td>\n",
       "      <td>3.0</td>\n",
       "      <td>-1.500000</td>\n",
       "      <td>3.000000</td>\n",
       "      <td>3.000000</td>\n",
       "    </tr>\n",
       "    <tr>\n",
       "      <th>1</th>\n",
       "      <td>23622</td>\n",
       "      <td>3</td>\n",
       "      <td>1</td>\n",
       "      <td>25</td>\n",
       "      <td>1</td>\n",
       "      <td>El metodo de blended no le hace bien a todos</td>\n",
       "      <td>0</td>\n",
       "      <td>1</td>\n",
       "      <td>5</td>\n",
       "      <td>0</td>\n",
       "      <td>...</td>\n",
       "      <td>3</td>\n",
       "      <td>4</td>\n",
       "      <td>2.468217</td>\n",
       "      <td>1.528322</td>\n",
       "      <td>1</td>\n",
       "      <td>0.117688</td>\n",
       "      <td>3.0</td>\n",
       "      <td>-3.000000</td>\n",
       "      <td>2.119335</td>\n",
       "      <td>2.309303</td>\n",
       "    </tr>\n",
       "    <tr>\n",
       "      <th>2</th>\n",
       "      <td>8354</td>\n",
       "      <td>4</td>\n",
       "      <td>1</td>\n",
       "      <td>31</td>\n",
       "      <td>1</td>\n",
       "      <td>Los profesores, sus métodos de enseñanza bes ...</td>\n",
       "      <td>0</td>\n",
       "      <td>0</td>\n",
       "      <td>5</td>\n",
       "      <td>0</td>\n",
       "      <td>...</td>\n",
       "      <td>3</td>\n",
       "      <td>4</td>\n",
       "      <td>2.727891</td>\n",
       "      <td>2.184358</td>\n",
       "      <td>4</td>\n",
       "      <td>0.118451</td>\n",
       "      <td>3.0</td>\n",
       "      <td>10.071429</td>\n",
       "      <td>2.347132</td>\n",
       "      <td>2.555151</td>\n",
       "    </tr>\n",
       "    <tr>\n",
       "      <th>3</th>\n",
       "      <td>17745</td>\n",
       "      <td>4</td>\n",
       "      <td>1</td>\n",
       "      <td>28</td>\n",
       "      <td>6</td>\n",
       "      <td>Porque posee gran mayoría de profesores espec...</td>\n",
       "      <td>1</td>\n",
       "      <td>0</td>\n",
       "      <td>6</td>\n",
       "      <td>0</td>\n",
       "      <td>...</td>\n",
       "      <td>3</td>\n",
       "      <td>4</td>\n",
       "      <td>2.909091</td>\n",
       "      <td>2.085288</td>\n",
       "      <td>1</td>\n",
       "      <td>0.128565</td>\n",
       "      <td>3.0</td>\n",
       "      <td>-3.000000</td>\n",
       "      <td>2.613861</td>\n",
       "      <td>2.778487</td>\n",
       "    </tr>\n",
       "    <tr>\n",
       "      <th>4</th>\n",
       "      <td>10867</td>\n",
       "      <td>3</td>\n",
       "      <td>1</td>\n",
       "      <td>34</td>\n",
       "      <td>1</td>\n",
       "      <td>La pencion</td>\n",
       "      <td>0</td>\n",
       "      <td>0</td>\n",
       "      <td>6</td>\n",
       "      <td>0</td>\n",
       "      <td>...</td>\n",
       "      <td>3</td>\n",
       "      <td>4</td>\n",
       "      <td>2.362733</td>\n",
       "      <td>1.416149</td>\n",
       "      <td>1</td>\n",
       "      <td>0.000000</td>\n",
       "      <td>3.0</td>\n",
       "      <td>-3.000000</td>\n",
       "      <td>2.010406</td>\n",
       "      <td>2.201128</td>\n",
       "    </tr>\n",
       "  </tbody>\n",
       "</table>\n",
       "<p>5 rows × 25 columns</p>\n",
       "</div>"
      ],
      "text/plain": [
       "   COD_ENCUESTADO  Nombre Campus NIVEL ACTUAL  Clave de carrera  Ciclo  \\\n",
       "0           13501              1            1                 3      2   \n",
       "1           23622              3            1                25      1   \n",
       "2            8354              4            1                31      1   \n",
       "3           17745              4            1                28      6   \n",
       "4           10867              3            1                34      1   \n",
       "\n",
       "                                          COMENTARIO  IND_GEA  IND_DELEGADO  \\\n",
       "0               Me gusta la u es paja bro y soy pito        0             1   \n",
       "1       El metodo de blended no le hace bien a todos        0             1   \n",
       "2   Los profesores, sus métodos de enseñanza bes ...        0             0   \n",
       "3   Porque posee gran mayoría de profesores espec...        1             0   \n",
       "4                                         La pencion        0             0   \n",
       "\n",
       "   CANT_CURSOS_MATRICU_SIN_INGLES  UOD_depostista_ind_deportista    ...      \\\n",
       "0                               6                              0    ...       \n",
       "1                               5                              0    ...       \n",
       "2                               5                              0    ...       \n",
       "3                               6                              0    ...       \n",
       "4                               6                              0    ...       \n",
       "\n",
       "   MODA_MIN  MAX_MIN  MEDIA_MIN  MODA_PESO_GMEAN  MIN_MAX  MODA_VARIATION  \\\n",
       "0         3        3   3.000000         2.252567        3        0.141421   \n",
       "1         3        4   2.468217         1.528322        1        0.117688   \n",
       "2         3        4   2.727891         2.184358        4        0.118451   \n",
       "3         3        4   2.909091         2.085288        1        0.128565   \n",
       "4         3        4   2.362733         1.416149        1        0.000000   \n",
       "\n",
       "   MEDIANA_MIN  MIN_KURTOSIS  HMEAN_MIN  GMEAN_MIN  \n",
       "0          3.0     -1.500000   3.000000   3.000000  \n",
       "1          3.0     -3.000000   2.119335   2.309303  \n",
       "2          3.0     10.071429   2.347132   2.555151  \n",
       "3          3.0     -3.000000   2.613861   2.778487  \n",
       "4          3.0     -3.000000   2.010406   2.201128  \n",
       "\n",
       "[5 rows x 25 columns]"
      ]
     },
     "execution_count": 19,
     "metadata": {},
     "output_type": "execute_result"
    }
   ],
   "source": [
    "train_uni.head()"
   ]
  },
  {
   "cell_type": "code",
   "execution_count": 20,
   "metadata": {
    "collapsed": true
   },
   "outputs": [],
   "source": [
    "col_use_train = [c for c in train_uni.columns.tolist() if c not in [\"COMENTARIO\"]]\n",
    "col_use_submit = [c for c in submit_uni.columns.tolist() if c not in [\"COMENTARIO\"]]"
   ]
  },
  {
   "cell_type": "code",
   "execution_count": 21,
   "metadata": {
    "collapsed": true
   },
   "outputs": [],
   "source": [
    "train_uni[col_use_train].to_csv(\"../intermedios/06_dataset_train.csv\", index=False)\n",
    "submit_uni[col_use_submit].to_csv(\"../intermedios/06_dataset_submit.csv\", index=False)"
   ]
  },
  {
   "cell_type": "markdown",
   "metadata": {},
   "source": [
    "Fin de Fase Preparacion de Data"
   ]
  }
 ],
 "metadata": {
  "kernelspec": {
   "display_name": "Python 3",
   "language": "python",
   "name": "python3"
  },
  "language_info": {
   "codemirror_mode": {
    "name": "ipython",
    "version": 3
   },
   "file_extension": ".py",
   "mimetype": "text/x-python",
   "name": "python",
   "nbconvert_exporter": "python",
   "pygments_lexer": "ipython3",
   "version": "3.6.0"
  }
 },
 "nbformat": 4,
 "nbformat_minor": 2
}
