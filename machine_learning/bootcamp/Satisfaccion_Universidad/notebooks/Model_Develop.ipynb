{
 "cells": [
  {
   "cell_type": "code",
   "execution_count": 1,
   "metadata": {
    "collapsed": false
   },
   "outputs": [],
   "source": [
    "# Libería para tratamiento de datos\n",
    "import numpy as np\n",
    "import pandas as pd\n",
    "\n",
    "# Algoritmos de Machine learning\n",
    "from sklearn.tree import DecisionTreeClassifier\n",
    "from sklearn.ensemble import RandomForestClassifier\n",
    "import xgboost as xgb\n",
    "\n",
    "# División de Dataset de Training en Dataset de Train y Test\n",
    "from sklearn.model_selection import train_test_split\n",
    "\n",
    "# Métrica de Evaluación\n",
    "from sklearn.metrics import log_loss\n",
    "\n",
    "# Libería de visualización\n",
    "import matplotlib.pyplot as plt\n",
    "%matplotlib inline"
   ]
  },
  {
   "cell_type": "code",
   "execution_count": 2,
   "metadata": {
    "collapsed": true
   },
   "outputs": [],
   "source": [
    "train_uni = pd.read_csv(\"../intermedios/06_dataset_train.csv\")\n",
    "test_uni = pd.read_csv(\"../intermedios/06_dataset_submit.csv\")"
   ]
  },
  {
   "cell_type": "code",
   "execution_count": 3,
   "metadata": {
    "collapsed": false,
    "scrolled": false
   },
   "outputs": [
    {
     "data": {
      "text/html": [
       "<div>\n",
       "<style scoped>\n",
       "    .dataframe tbody tr th:only-of-type {\n",
       "        vertical-align: middle;\n",
       "    }\n",
       "\n",
       "    .dataframe tbody tr th {\n",
       "        vertical-align: top;\n",
       "    }\n",
       "\n",
       "    .dataframe thead th {\n",
       "        text-align: right;\n",
       "    }\n",
       "</style>\n",
       "<table border=\"1\" class=\"dataframe\">\n",
       "  <thead>\n",
       "    <tr style=\"text-align: right;\">\n",
       "      <th></th>\n",
       "      <th>COD_ENCUESTADO</th>\n",
       "      <th>Nombre Campus</th>\n",
       "      <th>NIVEL ACTUAL</th>\n",
       "      <th>Clave de carrera</th>\n",
       "      <th>Ciclo</th>\n",
       "      <th>IND_GEA</th>\n",
       "      <th>IND_DELEGADO</th>\n",
       "      <th>CANT_CURSOS_MATRICU_SIN_INGLES</th>\n",
       "      <th>UOD_depostista_ind_deportista</th>\n",
       "      <th>NPS</th>\n",
       "      <th>...</th>\n",
       "      <th>MODA_MIN</th>\n",
       "      <th>MAX_MIN</th>\n",
       "      <th>MEDIA_MIN</th>\n",
       "      <th>MODA_PESO_GMEAN</th>\n",
       "      <th>MIN_MAX</th>\n",
       "      <th>MODA_VARIATION</th>\n",
       "      <th>MEDIANA_MIN</th>\n",
       "      <th>MIN_KURTOSIS</th>\n",
       "      <th>HMEAN_MIN</th>\n",
       "      <th>GMEAN_MIN</th>\n",
       "    </tr>\n",
       "  </thead>\n",
       "  <tbody>\n",
       "    <tr>\n",
       "      <th>0</th>\n",
       "      <td>13501</td>\n",
       "      <td>1</td>\n",
       "      <td>1</td>\n",
       "      <td>3</td>\n",
       "      <td>2</td>\n",
       "      <td>0</td>\n",
       "      <td>1</td>\n",
       "      <td>6</td>\n",
       "      <td>0</td>\n",
       "      <td>2</td>\n",
       "      <td>...</td>\n",
       "      <td>3</td>\n",
       "      <td>3</td>\n",
       "      <td>3.000000</td>\n",
       "      <td>2.252567</td>\n",
       "      <td>3</td>\n",
       "      <td>0.141421</td>\n",
       "      <td>3.0</td>\n",
       "      <td>-1.500000</td>\n",
       "      <td>3.000000</td>\n",
       "      <td>3.000000</td>\n",
       "    </tr>\n",
       "    <tr>\n",
       "      <th>1</th>\n",
       "      <td>23622</td>\n",
       "      <td>3</td>\n",
       "      <td>1</td>\n",
       "      <td>25</td>\n",
       "      <td>1</td>\n",
       "      <td>0</td>\n",
       "      <td>1</td>\n",
       "      <td>5</td>\n",
       "      <td>0</td>\n",
       "      <td>2</td>\n",
       "      <td>...</td>\n",
       "      <td>3</td>\n",
       "      <td>4</td>\n",
       "      <td>2.468217</td>\n",
       "      <td>1.528322</td>\n",
       "      <td>1</td>\n",
       "      <td>0.117688</td>\n",
       "      <td>3.0</td>\n",
       "      <td>-3.000000</td>\n",
       "      <td>2.119335</td>\n",
       "      <td>2.309303</td>\n",
       "    </tr>\n",
       "    <tr>\n",
       "      <th>2</th>\n",
       "      <td>8354</td>\n",
       "      <td>4</td>\n",
       "      <td>1</td>\n",
       "      <td>31</td>\n",
       "      <td>1</td>\n",
       "      <td>0</td>\n",
       "      <td>0</td>\n",
       "      <td>5</td>\n",
       "      <td>0</td>\n",
       "      <td>3</td>\n",
       "      <td>...</td>\n",
       "      <td>3</td>\n",
       "      <td>4</td>\n",
       "      <td>2.727891</td>\n",
       "      <td>2.184358</td>\n",
       "      <td>4</td>\n",
       "      <td>0.118451</td>\n",
       "      <td>3.0</td>\n",
       "      <td>10.071429</td>\n",
       "      <td>2.347132</td>\n",
       "      <td>2.555151</td>\n",
       "    </tr>\n",
       "    <tr>\n",
       "      <th>3</th>\n",
       "      <td>17745</td>\n",
       "      <td>4</td>\n",
       "      <td>1</td>\n",
       "      <td>28</td>\n",
       "      <td>6</td>\n",
       "      <td>1</td>\n",
       "      <td>0</td>\n",
       "      <td>6</td>\n",
       "      <td>0</td>\n",
       "      <td>2</td>\n",
       "      <td>...</td>\n",
       "      <td>3</td>\n",
       "      <td>4</td>\n",
       "      <td>2.909091</td>\n",
       "      <td>2.085288</td>\n",
       "      <td>1</td>\n",
       "      <td>0.128565</td>\n",
       "      <td>3.0</td>\n",
       "      <td>-3.000000</td>\n",
       "      <td>2.613861</td>\n",
       "      <td>2.778487</td>\n",
       "    </tr>\n",
       "    <tr>\n",
       "      <th>4</th>\n",
       "      <td>10867</td>\n",
       "      <td>3</td>\n",
       "      <td>1</td>\n",
       "      <td>34</td>\n",
       "      <td>1</td>\n",
       "      <td>0</td>\n",
       "      <td>0</td>\n",
       "      <td>6</td>\n",
       "      <td>0</td>\n",
       "      <td>2</td>\n",
       "      <td>...</td>\n",
       "      <td>3</td>\n",
       "      <td>4</td>\n",
       "      <td>2.362733</td>\n",
       "      <td>1.416149</td>\n",
       "      <td>1</td>\n",
       "      <td>0.000000</td>\n",
       "      <td>3.0</td>\n",
       "      <td>-3.000000</td>\n",
       "      <td>2.010406</td>\n",
       "      <td>2.201128</td>\n",
       "    </tr>\n",
       "  </tbody>\n",
       "</table>\n",
       "<p>5 rows × 24 columns</p>\n",
       "</div>"
      ],
      "text/plain": [
       "   COD_ENCUESTADO  Nombre Campus  NIVEL ACTUAL  Clave de carrera  Ciclo  \\\n",
       "0           13501              1             1                 3      2   \n",
       "1           23622              3             1                25      1   \n",
       "2            8354              4             1                31      1   \n",
       "3           17745              4             1                28      6   \n",
       "4           10867              3             1                34      1   \n",
       "\n",
       "   IND_GEA  IND_DELEGADO  CANT_CURSOS_MATRICU_SIN_INGLES  \\\n",
       "0        0             1                               6   \n",
       "1        0             1                               5   \n",
       "2        0             0                               5   \n",
       "3        1             0                               6   \n",
       "4        0             0                               6   \n",
       "\n",
       "   UOD_depostista_ind_deportista  NPS    ...      MODA_MIN  MAX_MIN  \\\n",
       "0                              0    2    ...             3        3   \n",
       "1                              0    2    ...             3        4   \n",
       "2                              0    3    ...             3        4   \n",
       "3                              0    2    ...             3        4   \n",
       "4                              0    2    ...             3        4   \n",
       "\n",
       "   MEDIA_MIN  MODA_PESO_GMEAN  MIN_MAX  MODA_VARIATION  MEDIANA_MIN  \\\n",
       "0   3.000000         2.252567        3        0.141421          3.0   \n",
       "1   2.468217         1.528322        1        0.117688          3.0   \n",
       "2   2.727891         2.184358        4        0.118451          3.0   \n",
       "3   2.909091         2.085288        1        0.128565          3.0   \n",
       "4   2.362733         1.416149        1        0.000000          3.0   \n",
       "\n",
       "   MIN_KURTOSIS  HMEAN_MIN  GMEAN_MIN  \n",
       "0     -1.500000   3.000000   3.000000  \n",
       "1     -3.000000   2.119335   2.309303  \n",
       "2     10.071429   2.347132   2.555151  \n",
       "3     -3.000000   2.613861   2.778487  \n",
       "4     -3.000000   2.010406   2.201128  \n",
       "\n",
       "[5 rows x 24 columns]"
      ]
     },
     "execution_count": 3,
     "metadata": {},
     "output_type": "execute_result"
    }
   ],
   "source": [
    "train_uni.head()"
   ]
  },
  {
   "cell_type": "code",
   "execution_count": 4,
   "metadata": {
    "collapsed": true
   },
   "outputs": [],
   "source": [
    "predictores = [x for x in train_uni.columns.tolist() if x not in [\"COD_ENCUESTADO\",\"NPS\"]]\n",
    "\n",
    "# Mejores variables:\n",
    "#predictores = ['MEDIA_GMEAN', 'MEDIA_MEDIA', 'MODA_MEDIA', 'HMEAN_GMEAN', 'MODA_MIN'] la mejor con 71\n",
    "#predictores = ['MEDIA_GMEAN','MEDIA_MEDIA','MODA_MEDIA','HMEAN_GMEAN','MODA_MIN','MAX_MIN','MEDIA_MIN','MODA_PESO_GMEAN','MIN_MAX','MODA_VARIATION','LSTD_MEDIA','MEDIANA_MIN','MIN_KURTOSIS','HMEAN_MIN','GMEAN_MIN','MODA_LSTD']"
   ]
  },
  {
   "cell_type": "code",
   "execution_count": 5,
   "metadata": {
    "collapsed": true
   },
   "outputs": [],
   "source": [
    "X = train_uni\n",
    "y = train_uni[\"NPS\"]"
   ]
  },
  {
   "cell_type": "code",
   "execution_count": 6,
   "metadata": {
    "collapsed": true
   },
   "outputs": [],
   "source": [
    "X_train, X_test, y_train, y_test = train_test_split(X, y, test_size=0.2, random_state=42)"
   ]
  },
  {
   "cell_type": "code",
   "execution_count": 7,
   "metadata": {
    "collapsed": true
   },
   "outputs": [],
   "source": [
    "X_train.reset_index(drop=True, inplace=True)\n",
    "X_test.reset_index(drop=True, inplace=True)\n",
    "y_train.reset_index(drop=True, inplace=True)\n",
    "y_test.reset_index(drop=True, inplace=True)"
   ]
  },
  {
   "cell_type": "markdown",
   "metadata": {},
   "source": [
    "# Decision Tree"
   ]
  },
  {
   "cell_type": "code",
   "execution_count": 8,
   "metadata": {
    "collapsed": true
   },
   "outputs": [],
   "source": [
    "dtree = DecisionTreeClassifier(criterion='entropy')"
   ]
  },
  {
   "cell_type": "code",
   "execution_count": 9,
   "metadata": {
    "collapsed": false,
    "scrolled": true
   },
   "outputs": [
    {
     "data": {
      "text/plain": [
       "DecisionTreeClassifier(class_weight=None, criterion='entropy', max_depth=None,\n",
       "            max_features=None, max_leaf_nodes=None,\n",
       "            min_impurity_decrease=0.0, min_impurity_split=None,\n",
       "            min_samples_leaf=1, min_samples_split=2,\n",
       "            min_weight_fraction_leaf=0.0, presort=False, random_state=None,\n",
       "            splitter='best')"
      ]
     },
     "execution_count": 9,
     "metadata": {},
     "output_type": "execute_result"
    }
   ],
   "source": [
    "dtree.fit(X_train[predictores], y_train)"
   ]
  },
  {
   "cell_type": "code",
   "execution_count": 10,
   "metadata": {
    "collapsed": true
   },
   "outputs": [],
   "source": [
    "y_pred_tree = dtree.predict_proba(X_test[predictores])"
   ]
  },
  {
   "cell_type": "code",
   "execution_count": 11,
   "metadata": {
    "collapsed": true
   },
   "outputs": [],
   "source": [
    "yreal = pd.DataFrame(pd.get_dummies(pd.DataFrame(y_test.values, columns=[\"Clase\"]).astype(str)))"
   ]
  },
  {
   "cell_type": "code",
   "execution_count": 12,
   "metadata": {
    "collapsed": false
   },
   "outputs": [
    {
     "data": {
      "text/plain": [
       "12.511845035851536"
      ]
     },
     "execution_count": 12,
     "metadata": {},
     "output_type": "execute_result"
    }
   ],
   "source": [
    "log_loss(yreal, y_pred_tree)"
   ]
  },
  {
   "cell_type": "markdown",
   "metadata": {},
   "source": [
    "# Random Forest"
   ]
  },
  {
   "cell_type": "code",
   "execution_count": 13,
   "metadata": {
    "collapsed": true
   },
   "outputs": [],
   "source": [
    "rforest = RandomForestClassifier(n_estimators=50, bootstrap=True,random_state=0, n_jobs=-1)"
   ]
  },
  {
   "cell_type": "code",
   "execution_count": 14,
   "metadata": {
    "collapsed": false
   },
   "outputs": [
    {
     "data": {
      "text/plain": [
       "RandomForestClassifier(bootstrap=True, class_weight=None, criterion='gini',\n",
       "            max_depth=None, max_features='auto', max_leaf_nodes=None,\n",
       "            min_impurity_decrease=0.0, min_impurity_split=None,\n",
       "            min_samples_leaf=1, min_samples_split=2,\n",
       "            min_weight_fraction_leaf=0.0, n_estimators=50, n_jobs=-1,\n",
       "            oob_score=False, random_state=0, verbose=0, warm_start=False)"
      ]
     },
     "execution_count": 14,
     "metadata": {},
     "output_type": "execute_result"
    }
   ],
   "source": [
    "rforest.fit(X_train[predictores], y_train)"
   ]
  },
  {
   "cell_type": "code",
   "execution_count": 15,
   "metadata": {
    "collapsed": true
   },
   "outputs": [],
   "source": [
    "y_pred_forest = rforest.predict_proba(X_test[predictores])"
   ]
  },
  {
   "cell_type": "code",
   "execution_count": 16,
   "metadata": {
    "collapsed": false
   },
   "outputs": [
    {
     "data": {
      "text/plain": [
       "1.0084846608609022"
      ]
     },
     "execution_count": 16,
     "metadata": {},
     "output_type": "execute_result"
    }
   ],
   "source": [
    "log_loss(yreal, y_pred_forest)"
   ]
  },
  {
   "cell_type": "markdown",
   "metadata": {},
   "source": [
    "# Feature Importance"
   ]
  },
  {
   "cell_type": "code",
   "execution_count": 17,
   "metadata": {
    "collapsed": true
   },
   "outputs": [],
   "source": [
    "def plot_feature_importance(ensemble_model, predictores, top):\n",
    "    feature_importance = ensemble_model.feature_importances_\n",
    "    feature_importance = 100.0 * (feature_importance / feature_importance.max())\n",
    "    sorted_idx = np.argsort(feature_importance)[:top:-1]\n",
    "\n",
    "    plt.figure(figsize=(6 * 1.618, 6))\n",
    "    index = np.arange(top)\n",
    "    bar_width = 0.5\n",
    "    plt.bar(index, feature_importance[sorted_idx][:top], color='black', alpha=0.5)\n",
    "    plt.xlabel('Variables')\n",
    "    plt.ylabel('Importancia')\n",
    "    plt.title('Importancia de variables')\n",
    "    plt.xticks(index + bar_width, np.array(predictores)[sorted_idx][:top], rotation='vertical')\n",
    "    plt.tight_layout()\n",
    "    plt.show()\n",
    "\n",
    "def list_feature_importance(ensemble_model, predictores):\n",
    "    feature_importance = ensemble_model.feature_importances_\n",
    "    sorted_idx = np.argsort(feature_importance)[::-1]\n",
    "    return pd.DataFrame({'variable':np.array(predictores)[sorted_idx], 'importancia':feature_importance[sorted_idx]}, columns=[['variable', 'importancia']])"
   ]
  },
  {
   "cell_type": "code",
   "execution_count": 18,
   "metadata": {
    "collapsed": false
   },
   "outputs": [
    {
     "data": {
      "image/png": "[encoded data removed]",
      "text/plain": [
       "<matplotlib.figure.Figure at 0x7fd096c24c50>"
      ]
     },
     "metadata": {},
     "output_type": "display_data"
    }
   ],
   "source": [
    "plot_feature_importance(rforest, predictores, 10)"
   ]
  },
  {
   "cell_type": "code",
   "execution_count": 19,
   "metadata": {
    "collapsed": false
   },
   "outputs": [
    {
     "data": {
      "text/html": [
       "<div>\n",
       "<style scoped>\n",
       "    .dataframe tbody tr th:only-of-type {\n",
       "        vertical-align: middle;\n",
       "    }\n",
       "\n",
       "    .dataframe tbody tr th {\n",
       "        vertical-align: top;\n",
       "    }\n",
       "\n",
       "    .dataframe thead tr th {\n",
       "        text-align: left;\n",
       "    }\n",
       "</style>\n",
       "<table border=\"1\" class=\"dataframe\">\n",
       "  <thead>\n",
       "    <tr>\n",
       "      <th></th>\n",
       "      <th>variable</th>\n",
       "      <th>importancia</th>\n",
       "    </tr>\n",
       "  </thead>\n",
       "  <tbody>\n",
       "    <tr>\n",
       "      <th>0</th>\n",
       "      <td>NaN</td>\n",
       "      <td>NaN</td>\n",
       "    </tr>\n",
       "    <tr>\n",
       "      <th>1</th>\n",
       "      <td>NaN</td>\n",
       "      <td>NaN</td>\n",
       "    </tr>\n",
       "    <tr>\n",
       "      <th>2</th>\n",
       "      <td>NaN</td>\n",
       "      <td>NaN</td>\n",
       "    </tr>\n",
       "    <tr>\n",
       "      <th>3</th>\n",
       "      <td>NaN</td>\n",
       "      <td>NaN</td>\n",
       "    </tr>\n",
       "    <tr>\n",
       "      <th>4</th>\n",
       "      <td>NaN</td>\n",
       "      <td>NaN</td>\n",
       "    </tr>\n",
       "    <tr>\n",
       "      <th>5</th>\n",
       "      <td>NaN</td>\n",
       "      <td>NaN</td>\n",
       "    </tr>\n",
       "    <tr>\n",
       "      <th>6</th>\n",
       "      <td>NaN</td>\n",
       "      <td>NaN</td>\n",
       "    </tr>\n",
       "    <tr>\n",
       "      <th>7</th>\n",
       "      <td>NaN</td>\n",
       "      <td>NaN</td>\n",
       "    </tr>\n",
       "    <tr>\n",
       "      <th>8</th>\n",
       "      <td>NaN</td>\n",
       "      <td>NaN</td>\n",
       "    </tr>\n",
       "    <tr>\n",
       "      <th>9</th>\n",
       "      <td>NaN</td>\n",
       "      <td>NaN</td>\n",
       "    </tr>\n",
       "    <tr>\n",
       "      <th>10</th>\n",
       "      <td>NaN</td>\n",
       "      <td>NaN</td>\n",
       "    </tr>\n",
       "    <tr>\n",
       "      <th>11</th>\n",
       "      <td>NaN</td>\n",
       "      <td>NaN</td>\n",
       "    </tr>\n",
       "    <tr>\n",
       "      <th>12</th>\n",
       "      <td>NaN</td>\n",
       "      <td>NaN</td>\n",
       "    </tr>\n",
       "    <tr>\n",
       "      <th>13</th>\n",
       "      <td>NaN</td>\n",
       "      <td>NaN</td>\n",
       "    </tr>\n",
       "    <tr>\n",
       "      <th>14</th>\n",
       "      <td>NaN</td>\n",
       "      <td>NaN</td>\n",
       "    </tr>\n",
       "    <tr>\n",
       "      <th>15</th>\n",
       "      <td>NaN</td>\n",
       "      <td>NaN</td>\n",
       "    </tr>\n",
       "    <tr>\n",
       "      <th>16</th>\n",
       "      <td>NaN</td>\n",
       "      <td>NaN</td>\n",
       "    </tr>\n",
       "    <tr>\n",
       "      <th>17</th>\n",
       "      <td>NaN</td>\n",
       "      <td>NaN</td>\n",
       "    </tr>\n",
       "    <tr>\n",
       "      <th>18</th>\n",
       "      <td>NaN</td>\n",
       "      <td>NaN</td>\n",
       "    </tr>\n",
       "    <tr>\n",
       "      <th>19</th>\n",
       "      <td>NaN</td>\n",
       "      <td>NaN</td>\n",
       "    </tr>\n",
       "    <tr>\n",
       "      <th>20</th>\n",
       "      <td>NaN</td>\n",
       "      <td>NaN</td>\n",
       "    </tr>\n",
       "    <tr>\n",
       "      <th>21</th>\n",
       "      <td>NaN</td>\n",
       "      <td>NaN</td>\n",
       "    </tr>\n",
       "  </tbody>\n",
       "</table>\n",
       "</div>"
      ],
      "text/plain": [
       "   variable importancia\n",
       "0       NaN         NaN\n",
       "1       NaN         NaN\n",
       "2       NaN         NaN\n",
       "3       NaN         NaN\n",
       "4       NaN         NaN\n",
       "5       NaN         NaN\n",
       "6       NaN         NaN\n",
       "7       NaN         NaN\n",
       "8       NaN         NaN\n",
       "9       NaN         NaN\n",
       "10      NaN         NaN\n",
       "11      NaN         NaN\n",
       "12      NaN         NaN\n",
       "13      NaN         NaN\n",
       "14      NaN         NaN\n",
       "15      NaN         NaN\n",
       "16      NaN         NaN\n",
       "17      NaN         NaN\n",
       "18      NaN         NaN\n",
       "19      NaN         NaN\n",
       "20      NaN         NaN\n",
       "21      NaN         NaN"
      ]
     },
     "execution_count": 19,
     "metadata": {},
     "output_type": "execute_result"
    }
   ],
   "source": [
    "list_feature_importance(rforest, predictores)"
   ]
  },
  {
   "cell_type": "markdown",
   "metadata": {},
   "source": [
    "# Xtreme Gradient Boosting"
   ]
  },
  {
   "cell_type": "code",
   "execution_count": 20,
   "metadata": {
    "collapsed": true
   },
   "outputs": [],
   "source": [
    "xg_train = xgb.DMatrix(X_train[predictores], label=y_train)\n",
    "xg_test = xgb.DMatrix(X_test[predictores], label=y_test)"
   ]
  },
  {
   "cell_type": "code",
   "execution_count": 21,
   "metadata": {
    "collapsed": true
   },
   "outputs": [],
   "source": [
    "param = {}\n",
    "# use softmax multi-class classification\n",
    "#param['objective'] = 'multi:softmax'\n",
    "param['objective'] = 'multi:softprob'\n",
    "# scale weight of positive examples\n",
    "param['eta'] = 0.1\n",
    "param['max_depth'] = 6\n",
    "param['silent'] = 1\n",
    "param['nthread'] = 4\n",
    "param['num_class'] = 4\n",
    "param['eval_metric'] = 'mlogloss'\n",
    "watchlist = [(xg_train, 'train'), (xg_test, 'test')]\n",
    "num_boost_round = 10"
   ]
  },
  {
   "cell_type": "code",
   "execution_count": 22,
   "metadata": {
    "collapsed": false,
    "scrolled": true
   },
   "outputs": [
    {
     "name": "stdout",
     "output_type": "stream",
     "text": [
      "[0]\ttrain-mlogloss:1.28903\ttest-mlogloss:1.28996\n",
      "[1]\ttrain-mlogloss:1.20871\ttest-mlogloss:1.21109\n",
      "[2]\ttrain-mlogloss:1.14055\ttest-mlogloss:1.14428\n",
      "[3]\ttrain-mlogloss:1.08254\ttest-mlogloss:1.08759\n",
      "[4]\ttrain-mlogloss:1.0322\ttest-mlogloss:1.03867\n",
      "[5]\ttrain-mlogloss:0.988396\ttest-mlogloss:0.996561\n",
      "[6]\ttrain-mlogloss:0.949853\ttest-mlogloss:0.959831\n",
      "[7]\ttrain-mlogloss:0.916005\ttest-mlogloss:0.927349\n",
      "[8]\ttrain-mlogloss:0.885718\ttest-mlogloss:0.898826\n",
      "[9]\ttrain-mlogloss:0.859122\ttest-mlogloss:0.873387\n"
     ]
    }
   ],
   "source": [
    "bst = xgb.train(param, xg_train, num_boost_round, watchlist)"
   ]
  },
  {
   "cell_type": "code",
   "execution_count": 23,
   "metadata": {
    "collapsed": true
   },
   "outputs": [],
   "source": [
    "y_pred_xgb = bst.predict(xg_test)"
   ]
  },
  {
   "cell_type": "code",
   "execution_count": 24,
   "metadata": {
    "collapsed": false
   },
   "outputs": [
    {
     "data": {
      "text/plain": [
       "0.87338711446523665"
      ]
     },
     "execution_count": 24,
     "metadata": {},
     "output_type": "execute_result"
    }
   ],
   "source": [
    "log_loss(yreal, y_pred_xgb)"
   ]
  },
  {
   "cell_type": "code",
   "execution_count": 25,
   "metadata": {
    "collapsed": false
   },
   "outputs": [
    {
     "data": {
      "text/plain": [
       "<matplotlib.axes._subplots.AxesSubplot at 0x7fd0953c4a90>"
      ]
     },
     "execution_count": 25,
     "metadata": {},
     "output_type": "execute_result"
    },
    {
     "data": {
      "image/png": "[encoded data removed]",
      "text/plain": [
       "<matplotlib.figure.Figure at 0x7fd0953874a8>"
      ]
     },
     "metadata": {},
     "output_type": "display_data"
    }
   ],
   "source": [
    "xgb.plot_importance(bst)"
   ]
  },
  {
   "cell_type": "markdown",
   "metadata": {
    "collapsed": true
   },
   "source": []
  }
 ],
 "metadata": {
  "kernelspec": {
   "display_name": "Python 3",
   "language": "python",
   "name": "python3"
  },
  "language_info": {
   "codemirror_mode": {
    "name": "ipython",
    "version": 3
   },
   "file_extension": ".py",
   "mimetype": "text/x-python",
   "name": "python",
   "nbconvert_exporter": "python",
   "pygments_lexer": "ipython3",
   "version": "3.6.0"
  }
 },
 "nbformat": 4,
 "nbformat_minor": 2
}
