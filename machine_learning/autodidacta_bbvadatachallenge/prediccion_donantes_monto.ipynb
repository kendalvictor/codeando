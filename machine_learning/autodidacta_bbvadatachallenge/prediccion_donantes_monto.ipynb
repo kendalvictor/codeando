{
 "cells": [
  {
   "cell_type": "code",
   "execution_count": 1,
   "metadata": {
    "collapsed": false
   },
   "outputs": [
    {
     "name": "stderr",
     "output_type": "stream",
     "text": [
      "/home/villacorta/anaconda3/lib/python3.6/site-packages/IPython/core/interactiveshell.py:2717: DtypeWarning: Columns (8) have mixed types. Specify dtype option on import or set low_memory=False.\n",
      "  interactivity=interactivity, compiler=compiler, result=result)\n"
     ]
    }
   ],
   "source": [
    "import pandas as pd\n",
    "import numpy as np \n",
    "import matplotlib.pyplot as plt \n",
    "import seaborn as sns \n",
    "from sklearn.preprocessing import LabelEncoder\n",
    "\n",
    "# graficos incrustados\n",
    "%matplotlib inline\n",
    "\n",
    "# parametros esteticos de seaborn\n",
    "sns.set_palette(\"deep\", desat=.6)\n",
    "sns.set_context(rc={\"figure.figsize\": (8, 4)})\n",
    "ONG_data = pd.read_csv('LEARNING.csv', header=0)"
   ]
  },
  {
   "cell_type": "code",
   "execution_count": 2,
   "metadata": {
    "collapsed": false
   },
   "outputs": [
    {
     "data": {
      "text/html": [
       "<div>\n",
       "<table border=\"1\" class=\"dataframe\">\n",
       "  <thead>\n",
       "    <tr style=\"text-align: right;\">\n",
       "      <th></th>\n",
       "      <th>ODATEDW</th>\n",
       "      <th>OSOURCE</th>\n",
       "      <th>TCODE</th>\n",
       "      <th>STATE</th>\n",
       "      <th>ZIP</th>\n",
       "      <th>MAILCODE</th>\n",
       "      <th>PVASTATE</th>\n",
       "      <th>DOB</th>\n",
       "      <th>NOEXCH</th>\n",
       "      <th>RECINHSE</th>\n",
       "    </tr>\n",
       "  </thead>\n",
       "  <tbody>\n",
       "    <tr>\n",
       "      <th>0</th>\n",
       "      <td>8901</td>\n",
       "      <td>GRI</td>\n",
       "      <td>0</td>\n",
       "      <td>IL</td>\n",
       "      <td>61081</td>\n",
       "      <td></td>\n",
       "      <td></td>\n",
       "      <td>3712</td>\n",
       "      <td>0</td>\n",
       "      <td></td>\n",
       "    </tr>\n",
       "    <tr>\n",
       "      <th>1</th>\n",
       "      <td>9401</td>\n",
       "      <td>NWN</td>\n",
       "      <td>0</td>\n",
       "      <td>LA</td>\n",
       "      <td>70611</td>\n",
       "      <td></td>\n",
       "      <td></td>\n",
       "      <td>0</td>\n",
       "      <td>0</td>\n",
       "      <td></td>\n",
       "    </tr>\n",
       "    <tr>\n",
       "      <th>2</th>\n",
       "      <td>9401</td>\n",
       "      <td>MSD</td>\n",
       "      <td>1</td>\n",
       "      <td>TN</td>\n",
       "      <td>37127-</td>\n",
       "      <td></td>\n",
       "      <td></td>\n",
       "      <td>3211</td>\n",
       "      <td>0</td>\n",
       "      <td></td>\n",
       "    </tr>\n",
       "    <tr>\n",
       "      <th>3</th>\n",
       "      <td>8901</td>\n",
       "      <td>ENQ</td>\n",
       "      <td>0</td>\n",
       "      <td>MN</td>\n",
       "      <td>56475</td>\n",
       "      <td></td>\n",
       "      <td></td>\n",
       "      <td>2603</td>\n",
       "      <td>0</td>\n",
       "      <td></td>\n",
       "    </tr>\n",
       "    <tr>\n",
       "      <th>4</th>\n",
       "      <td>9201</td>\n",
       "      <td>HCC</td>\n",
       "      <td>1</td>\n",
       "      <td>LA</td>\n",
       "      <td>70791</td>\n",
       "      <td></td>\n",
       "      <td></td>\n",
       "      <td>0</td>\n",
       "      <td>0</td>\n",
       "      <td>X</td>\n",
       "    </tr>\n",
       "    <tr>\n",
       "      <th>5</th>\n",
       "      <td>9301</td>\n",
       "      <td>USB</td>\n",
       "      <td>1</td>\n",
       "      <td>UT</td>\n",
       "      <td>84720</td>\n",
       "      <td></td>\n",
       "      <td></td>\n",
       "      <td>2709</td>\n",
       "      <td>0</td>\n",
       "      <td></td>\n",
       "    </tr>\n",
       "    <tr>\n",
       "      <th>6</th>\n",
       "      <td>9401</td>\n",
       "      <td>FRC</td>\n",
       "      <td>1</td>\n",
       "      <td>CA</td>\n",
       "      <td>90056</td>\n",
       "      <td></td>\n",
       "      <td></td>\n",
       "      <td>0</td>\n",
       "      <td>0</td>\n",
       "      <td></td>\n",
       "    </tr>\n",
       "    <tr>\n",
       "      <th>7</th>\n",
       "      <td>8801</td>\n",
       "      <td>PCH</td>\n",
       "      <td>2</td>\n",
       "      <td>IL</td>\n",
       "      <td>62376</td>\n",
       "      <td></td>\n",
       "      <td></td>\n",
       "      <td>5201</td>\n",
       "      <td>0</td>\n",
       "      <td></td>\n",
       "    </tr>\n",
       "    <tr>\n",
       "      <th>8</th>\n",
       "      <td>8601</td>\n",
       "      <td>AMB</td>\n",
       "      <td>28</td>\n",
       "      <td>FL</td>\n",
       "      <td>32810</td>\n",
       "      <td>B</td>\n",
       "      <td></td>\n",
       "      <td>3601</td>\n",
       "      <td>0</td>\n",
       "      <td></td>\n",
       "    </tr>\n",
       "    <tr>\n",
       "      <th>9</th>\n",
       "      <td>9501</td>\n",
       "      <td>L15</td>\n",
       "      <td>1</td>\n",
       "      <td>NC</td>\n",
       "      <td>27850</td>\n",
       "      <td></td>\n",
       "      <td></td>\n",
       "      <td>0</td>\n",
       "      <td>0</td>\n",
       "      <td></td>\n",
       "    </tr>\n",
       "    <tr>\n",
       "      <th>10</th>\n",
       "      <td>8701</td>\n",
       "      <td>BBK</td>\n",
       "      <td>2</td>\n",
       "      <td>MN</td>\n",
       "      <td>55125</td>\n",
       "      <td></td>\n",
       "      <td></td>\n",
       "      <td>3601</td>\n",
       "      <td>0</td>\n",
       "      <td></td>\n",
       "    </tr>\n",
       "    <tr>\n",
       "      <th>11</th>\n",
       "      <td>9301</td>\n",
       "      <td>L01</td>\n",
       "      <td>2</td>\n",
       "      <td>IL</td>\n",
       "      <td>60042</td>\n",
       "      <td></td>\n",
       "      <td></td>\n",
       "      <td>2311</td>\n",
       "      <td>0</td>\n",
       "      <td></td>\n",
       "    </tr>\n",
       "    <tr>\n",
       "      <th>12</th>\n",
       "      <td>9201</td>\n",
       "      <td>L01</td>\n",
       "      <td>1</td>\n",
       "      <td>MO</td>\n",
       "      <td>64468</td>\n",
       "      <td></td>\n",
       "      <td></td>\n",
       "      <td>1401</td>\n",
       "      <td>0</td>\n",
       "      <td></td>\n",
       "    </tr>\n",
       "    <tr>\n",
       "      <th>13</th>\n",
       "      <td>9201</td>\n",
       "      <td>L04</td>\n",
       "      <td>3</td>\n",
       "      <td>FL</td>\n",
       "      <td>33143</td>\n",
       "      <td></td>\n",
       "      <td></td>\n",
       "      <td>2904</td>\n",
       "      <td>0</td>\n",
       "      <td></td>\n",
       "    </tr>\n",
       "    <tr>\n",
       "      <th>14</th>\n",
       "      <td>9101</td>\n",
       "      <td>AML</td>\n",
       "      <td>1</td>\n",
       "      <td>OR</td>\n",
       "      <td>97008</td>\n",
       "      <td></td>\n",
       "      <td></td>\n",
       "      <td>0</td>\n",
       "      <td>0</td>\n",
       "      <td></td>\n",
       "    </tr>\n",
       "    <tr>\n",
       "      <th>15</th>\n",
       "      <td>8601</td>\n",
       "      <td>DUR</td>\n",
       "      <td>0</td>\n",
       "      <td>CA</td>\n",
       "      <td>90274</td>\n",
       "      <td></td>\n",
       "      <td></td>\n",
       "      <td>1002</td>\n",
       "      <td>0</td>\n",
       "      <td></td>\n",
       "    </tr>\n",
       "    <tr>\n",
       "      <th>16</th>\n",
       "      <td>8601</td>\n",
       "      <td>WKB</td>\n",
       "      <td>0</td>\n",
       "      <td>MN</td>\n",
       "      <td>55066-</td>\n",
       "      <td></td>\n",
       "      <td></td>\n",
       "      <td>1311</td>\n",
       "      <td>0</td>\n",
       "      <td></td>\n",
       "    </tr>\n",
       "    <tr>\n",
       "      <th>17</th>\n",
       "      <td>9301</td>\n",
       "      <td>AGR</td>\n",
       "      <td>0</td>\n",
       "      <td>IL</td>\n",
       "      <td>61604</td>\n",
       "      <td></td>\n",
       "      <td></td>\n",
       "      <td>2801</td>\n",
       "      <td>0</td>\n",
       "      <td></td>\n",
       "    </tr>\n",
       "    <tr>\n",
       "      <th>18</th>\n",
       "      <td>8701</td>\n",
       "      <td>STL</td>\n",
       "      <td>2</td>\n",
       "      <td>MI</td>\n",
       "      <td>49506</td>\n",
       "      <td></td>\n",
       "      <td></td>\n",
       "      <td>0</td>\n",
       "      <td>0</td>\n",
       "      <td></td>\n",
       "    </tr>\n",
       "    <tr>\n",
       "      <th>19</th>\n",
       "      <td>9201</td>\n",
       "      <td>IMA</td>\n",
       "      <td>0</td>\n",
       "      <td>WI</td>\n",
       "      <td>53221</td>\n",
       "      <td></td>\n",
       "      <td></td>\n",
       "      <td>4611</td>\n",
       "      <td>0</td>\n",
       "      <td></td>\n",
       "    </tr>\n",
       "    <tr>\n",
       "      <th>20</th>\n",
       "      <td>8601</td>\n",
       "      <td>DRK</td>\n",
       "      <td>0</td>\n",
       "      <td>IA</td>\n",
       "      <td>52402</td>\n",
       "      <td></td>\n",
       "      <td></td>\n",
       "      <td>3110</td>\n",
       "      <td>0</td>\n",
       "      <td></td>\n",
       "    </tr>\n",
       "    <tr>\n",
       "      <th>21</th>\n",
       "      <td>8901</td>\n",
       "      <td>ACS</td>\n",
       "      <td>1</td>\n",
       "      <td>WA</td>\n",
       "      <td>98116</td>\n",
       "      <td></td>\n",
       "      <td></td>\n",
       "      <td>3706</td>\n",
       "      <td>0</td>\n",
       "      <td></td>\n",
       "    </tr>\n",
       "    <tr>\n",
       "      <th>22</th>\n",
       "      <td>9501</td>\n",
       "      <td>ALZ</td>\n",
       "      <td>1</td>\n",
       "      <td>TX</td>\n",
       "      <td>75606</td>\n",
       "      <td></td>\n",
       "      <td></td>\n",
       "      <td>3001</td>\n",
       "      <td>0</td>\n",
       "      <td></td>\n",
       "    </tr>\n",
       "    <tr>\n",
       "      <th>23</th>\n",
       "      <td>9301</td>\n",
       "      <td>AGR</td>\n",
       "      <td>1002</td>\n",
       "      <td>IL</td>\n",
       "      <td>62959</td>\n",
       "      <td></td>\n",
       "      <td></td>\n",
       "      <td>5801</td>\n",
       "      <td>0</td>\n",
       "      <td></td>\n",
       "    </tr>\n",
       "    <tr>\n",
       "      <th>24</th>\n",
       "      <td>9501</td>\n",
       "      <td>HAR</td>\n",
       "      <td>0</td>\n",
       "      <td>CA</td>\n",
       "      <td>92801</td>\n",
       "      <td></td>\n",
       "      <td></td>\n",
       "      <td>0</td>\n",
       "      <td>0</td>\n",
       "      <td></td>\n",
       "    </tr>\n",
       "    <tr>\n",
       "      <th>25</th>\n",
       "      <td>9401</td>\n",
       "      <td>SGI</td>\n",
       "      <td>28</td>\n",
       "      <td>AL</td>\n",
       "      <td>36005</td>\n",
       "      <td></td>\n",
       "      <td></td>\n",
       "      <td>3601</td>\n",
       "      <td>0</td>\n",
       "      <td></td>\n",
       "    </tr>\n",
       "    <tr>\n",
       "      <th>26</th>\n",
       "      <td>9401</td>\n",
       "      <td>MBC</td>\n",
       "      <td>0</td>\n",
       "      <td>TX</td>\n",
       "      <td>75217</td>\n",
       "      <td></td>\n",
       "      <td></td>\n",
       "      <td>0</td>\n",
       "      <td>0</td>\n",
       "      <td></td>\n",
       "    </tr>\n",
       "    <tr>\n",
       "      <th>27</th>\n",
       "      <td>9601</td>\n",
       "      <td>BOA</td>\n",
       "      <td>0</td>\n",
       "      <td>TX</td>\n",
       "      <td>77515</td>\n",
       "      <td></td>\n",
       "      <td></td>\n",
       "      <td>6401</td>\n",
       "      <td>0</td>\n",
       "      <td></td>\n",
       "    </tr>\n",
       "    <tr>\n",
       "      <th>28</th>\n",
       "      <td>8601</td>\n",
       "      <td>GRI</td>\n",
       "      <td>0</td>\n",
       "      <td>IL</td>\n",
       "      <td>62022</td>\n",
       "      <td></td>\n",
       "      <td></td>\n",
       "      <td>2608</td>\n",
       "      <td>0</td>\n",
       "      <td></td>\n",
       "    </tr>\n",
       "    <tr>\n",
       "      <th>29</th>\n",
       "      <td>9001</td>\n",
       "      <td>APP</td>\n",
       "      <td>0</td>\n",
       "      <td>IN</td>\n",
       "      <td>47635</td>\n",
       "      <td></td>\n",
       "      <td></td>\n",
       "      <td>1401</td>\n",
       "      <td>0</td>\n",
       "      <td></td>\n",
       "    </tr>\n",
       "    <tr>\n",
       "      <th>...</th>\n",
       "      <td>...</td>\n",
       "      <td>...</td>\n",
       "      <td>...</td>\n",
       "      <td>...</td>\n",
       "      <td>...</td>\n",
       "      <td>...</td>\n",
       "      <td>...</td>\n",
       "      <td>...</td>\n",
       "      <td>...</td>\n",
       "      <td>...</td>\n",
       "    </tr>\n",
       "    <tr>\n",
       "      <th>71</th>\n",
       "      <td>8601</td>\n",
       "      <td>BHG</td>\n",
       "      <td>2</td>\n",
       "      <td>AR</td>\n",
       "      <td>72761</td>\n",
       "      <td></td>\n",
       "      <td></td>\n",
       "      <td>1902</td>\n",
       "      <td>0</td>\n",
       "      <td></td>\n",
       "    </tr>\n",
       "    <tr>\n",
       "      <th>72</th>\n",
       "      <td>8601</td>\n",
       "      <td>BHG</td>\n",
       "      <td>0</td>\n",
       "      <td>NM</td>\n",
       "      <td>88001</td>\n",
       "      <td></td>\n",
       "      <td></td>\n",
       "      <td>6101</td>\n",
       "      <td>0</td>\n",
       "      <td></td>\n",
       "    </tr>\n",
       "    <tr>\n",
       "      <th>73</th>\n",
       "      <td>9401</td>\n",
       "      <td>L01</td>\n",
       "      <td>2</td>\n",
       "      <td>CA</td>\n",
       "      <td>95926</td>\n",
       "      <td></td>\n",
       "      <td></td>\n",
       "      <td>3101</td>\n",
       "      <td>0</td>\n",
       "      <td></td>\n",
       "    </tr>\n",
       "    <tr>\n",
       "      <th>74</th>\n",
       "      <td>8801</td>\n",
       "      <td>DNA</td>\n",
       "      <td>1</td>\n",
       "      <td>TN</td>\n",
       "      <td>37217</td>\n",
       "      <td></td>\n",
       "      <td></td>\n",
       "      <td>3006</td>\n",
       "      <td>0</td>\n",
       "      <td></td>\n",
       "    </tr>\n",
       "    <tr>\n",
       "      <th>75</th>\n",
       "      <td>9001</td>\n",
       "      <td>CAW</td>\n",
       "      <td>1</td>\n",
       "      <td>OK</td>\n",
       "      <td>73505</td>\n",
       "      <td></td>\n",
       "      <td></td>\n",
       "      <td>2601</td>\n",
       "      <td>0</td>\n",
       "      <td></td>\n",
       "    </tr>\n",
       "    <tr>\n",
       "      <th>76</th>\n",
       "      <td>8601</td>\n",
       "      <td>MBC</td>\n",
       "      <td>1</td>\n",
       "      <td>MT</td>\n",
       "      <td>59801</td>\n",
       "      <td></td>\n",
       "      <td></td>\n",
       "      <td>3001</td>\n",
       "      <td>0</td>\n",
       "      <td></td>\n",
       "    </tr>\n",
       "    <tr>\n",
       "      <th>77</th>\n",
       "      <td>8801</td>\n",
       "      <td>GRI</td>\n",
       "      <td>0</td>\n",
       "      <td>SC</td>\n",
       "      <td>29604</td>\n",
       "      <td></td>\n",
       "      <td></td>\n",
       "      <td>2801</td>\n",
       "      <td>0</td>\n",
       "      <td></td>\n",
       "    </tr>\n",
       "    <tr>\n",
       "      <th>78</th>\n",
       "      <td>8801</td>\n",
       "      <td>DNA</td>\n",
       "      <td>28</td>\n",
       "      <td>FL</td>\n",
       "      <td>32801</td>\n",
       "      <td></td>\n",
       "      <td></td>\n",
       "      <td>1003</td>\n",
       "      <td>0</td>\n",
       "      <td></td>\n",
       "    </tr>\n",
       "    <tr>\n",
       "      <th>79</th>\n",
       "      <td>9601</td>\n",
       "      <td>HOS</td>\n",
       "      <td>0</td>\n",
       "      <td>GA</td>\n",
       "      <td>30905</td>\n",
       "      <td></td>\n",
       "      <td></td>\n",
       "      <td>0</td>\n",
       "      <td>0</td>\n",
       "      <td></td>\n",
       "    </tr>\n",
       "    <tr>\n",
       "      <th>80</th>\n",
       "      <td>8701</td>\n",
       "      <td>ASC</td>\n",
       "      <td>28</td>\n",
       "      <td>CA</td>\n",
       "      <td>95817-</td>\n",
       "      <td></td>\n",
       "      <td></td>\n",
       "      <td>0</td>\n",
       "      <td>0</td>\n",
       "      <td></td>\n",
       "    </tr>\n",
       "    <tr>\n",
       "      <th>81</th>\n",
       "      <td>9501</td>\n",
       "      <td>CWR</td>\n",
       "      <td>1</td>\n",
       "      <td>GA</td>\n",
       "      <td>31206</td>\n",
       "      <td></td>\n",
       "      <td></td>\n",
       "      <td>2801</td>\n",
       "      <td>0</td>\n",
       "      <td></td>\n",
       "    </tr>\n",
       "    <tr>\n",
       "      <th>82</th>\n",
       "      <td>9401</td>\n",
       "      <td>USB</td>\n",
       "      <td>0</td>\n",
       "      <td>FL</td>\n",
       "      <td>32789</td>\n",
       "      <td></td>\n",
       "      <td></td>\n",
       "      <td>5301</td>\n",
       "      <td>0</td>\n",
       "      <td></td>\n",
       "    </tr>\n",
       "    <tr>\n",
       "      <th>83</th>\n",
       "      <td>9201</td>\n",
       "      <td>FLD</td>\n",
       "      <td>0</td>\n",
       "      <td>NC</td>\n",
       "      <td>27948</td>\n",
       "      <td></td>\n",
       "      <td></td>\n",
       "      <td>5301</td>\n",
       "      <td>0</td>\n",
       "      <td></td>\n",
       "    </tr>\n",
       "    <tr>\n",
       "      <th>84</th>\n",
       "      <td>9501</td>\n",
       "      <td>AGS</td>\n",
       "      <td>1</td>\n",
       "      <td>KS</td>\n",
       "      <td>67122</td>\n",
       "      <td></td>\n",
       "      <td></td>\n",
       "      <td>0</td>\n",
       "      <td>0</td>\n",
       "      <td></td>\n",
       "    </tr>\n",
       "    <tr>\n",
       "      <th>85</th>\n",
       "      <td>8601</td>\n",
       "      <td>BHG</td>\n",
       "      <td>2</td>\n",
       "      <td>FL</td>\n",
       "      <td>33844</td>\n",
       "      <td></td>\n",
       "      <td></td>\n",
       "      <td>6011</td>\n",
       "      <td>0</td>\n",
       "      <td></td>\n",
       "    </tr>\n",
       "    <tr>\n",
       "      <th>86</th>\n",
       "      <td>9601</td>\n",
       "      <td>L25</td>\n",
       "      <td>1</td>\n",
       "      <td>MN</td>\n",
       "      <td>55804</td>\n",
       "      <td>B</td>\n",
       "      <td></td>\n",
       "      <td>0</td>\n",
       "      <td>0</td>\n",
       "      <td></td>\n",
       "    </tr>\n",
       "    <tr>\n",
       "      <th>87</th>\n",
       "      <td>9101</td>\n",
       "      <td>MER</td>\n",
       "      <td>0</td>\n",
       "      <td>NC</td>\n",
       "      <td>28560</td>\n",
       "      <td></td>\n",
       "      <td></td>\n",
       "      <td>3001</td>\n",
       "      <td>0</td>\n",
       "      <td></td>\n",
       "    </tr>\n",
       "    <tr>\n",
       "      <th>88</th>\n",
       "      <td>9101</td>\n",
       "      <td>LEO</td>\n",
       "      <td>0</td>\n",
       "      <td>CA</td>\n",
       "      <td>92592</td>\n",
       "      <td></td>\n",
       "      <td></td>\n",
       "      <td>5812</td>\n",
       "      <td>0</td>\n",
       "      <td></td>\n",
       "    </tr>\n",
       "    <tr>\n",
       "      <th>89</th>\n",
       "      <td>9401</td>\n",
       "      <td>SYC</td>\n",
       "      <td>0</td>\n",
       "      <td>MT</td>\n",
       "      <td>59643</td>\n",
       "      <td></td>\n",
       "      <td></td>\n",
       "      <td>0</td>\n",
       "      <td>0</td>\n",
       "      <td></td>\n",
       "    </tr>\n",
       "    <tr>\n",
       "      <th>90</th>\n",
       "      <td>9501</td>\n",
       "      <td>SYN</td>\n",
       "      <td>0</td>\n",
       "      <td>TX</td>\n",
       "      <td>75232</td>\n",
       "      <td></td>\n",
       "      <td></td>\n",
       "      <td>2401</td>\n",
       "      <td>0</td>\n",
       "      <td></td>\n",
       "    </tr>\n",
       "    <tr>\n",
       "      <th>91</th>\n",
       "      <td>9601</td>\n",
       "      <td>BOA</td>\n",
       "      <td>1</td>\n",
       "      <td>CA</td>\n",
       "      <td>93312</td>\n",
       "      <td></td>\n",
       "      <td></td>\n",
       "      <td>4101</td>\n",
       "      <td>0</td>\n",
       "      <td></td>\n",
       "    </tr>\n",
       "    <tr>\n",
       "      <th>92</th>\n",
       "      <td>8601</td>\n",
       "      <td>SPN</td>\n",
       "      <td>0</td>\n",
       "      <td>LA</td>\n",
       "      <td>70001</td>\n",
       "      <td></td>\n",
       "      <td></td>\n",
       "      <td>4901</td>\n",
       "      <td>0</td>\n",
       "      <td></td>\n",
       "    </tr>\n",
       "    <tr>\n",
       "      <th>93</th>\n",
       "      <td>9501</td>\n",
       "      <td>L02</td>\n",
       "      <td>2</td>\n",
       "      <td>WA</td>\n",
       "      <td>98205</td>\n",
       "      <td></td>\n",
       "      <td></td>\n",
       "      <td>3401</td>\n",
       "      <td>0</td>\n",
       "      <td></td>\n",
       "    </tr>\n",
       "    <tr>\n",
       "      <th>94</th>\n",
       "      <td>9001</td>\n",
       "      <td>SSS</td>\n",
       "      <td>0</td>\n",
       "      <td>MI</td>\n",
       "      <td>48446</td>\n",
       "      <td></td>\n",
       "      <td></td>\n",
       "      <td>1305</td>\n",
       "      <td>0</td>\n",
       "      <td></td>\n",
       "    </tr>\n",
       "    <tr>\n",
       "      <th>95</th>\n",
       "      <td>9501</td>\n",
       "      <td>AIR</td>\n",
       "      <td>0</td>\n",
       "      <td>WA</td>\n",
       "      <td>98513</td>\n",
       "      <td></td>\n",
       "      <td></td>\n",
       "      <td>5001</td>\n",
       "      <td>0</td>\n",
       "      <td></td>\n",
       "    </tr>\n",
       "    <tr>\n",
       "      <th>96</th>\n",
       "      <td>8801</td>\n",
       "      <td>IMP</td>\n",
       "      <td>0</td>\n",
       "      <td>AZ</td>\n",
       "      <td>85282</td>\n",
       "      <td></td>\n",
       "      <td></td>\n",
       "      <td>0</td>\n",
       "      <td>0</td>\n",
       "      <td></td>\n",
       "    </tr>\n",
       "    <tr>\n",
       "      <th>97</th>\n",
       "      <td>9301</td>\n",
       "      <td>DNB</td>\n",
       "      <td>2</td>\n",
       "      <td>FL</td>\n",
       "      <td>33838</td>\n",
       "      <td></td>\n",
       "      <td></td>\n",
       "      <td>1604</td>\n",
       "      <td>0</td>\n",
       "      <td></td>\n",
       "    </tr>\n",
       "    <tr>\n",
       "      <th>98</th>\n",
       "      <td>9101</td>\n",
       "      <td>HCC</td>\n",
       "      <td>1</td>\n",
       "      <td>WA</td>\n",
       "      <td>98902</td>\n",
       "      <td></td>\n",
       "      <td></td>\n",
       "      <td>5701</td>\n",
       "      <td>0</td>\n",
       "      <td></td>\n",
       "    </tr>\n",
       "    <tr>\n",
       "      <th>99</th>\n",
       "      <td>8801</td>\n",
       "      <td>STR</td>\n",
       "      <td>1</td>\n",
       "      <td>TX</td>\n",
       "      <td>77573</td>\n",
       "      <td></td>\n",
       "      <td>P</td>\n",
       "      <td>3309</td>\n",
       "      <td>0</td>\n",
       "      <td></td>\n",
       "    </tr>\n",
       "    <tr>\n",
       "      <th>100</th>\n",
       "      <td>9301</td>\n",
       "      <td>GPS</td>\n",
       "      <td>1</td>\n",
       "      <td>NM</td>\n",
       "      <td>87107</td>\n",
       "      <td></td>\n",
       "      <td></td>\n",
       "      <td>4001</td>\n",
       "      <td>0</td>\n",
       "      <td></td>\n",
       "    </tr>\n",
       "  </tbody>\n",
       "</table>\n",
       "<p>101 rows × 10 columns</p>\n",
       "</div>"
      ],
      "text/plain": [
       "     ODATEDW OSOURCE  TCODE STATE     ZIP MAILCODE PVASTATE   DOB NOEXCH  \\\n",
       "0       8901     GRI      0    IL   61081                    3712      0   \n",
       "1       9401     NWN      0    LA   70611                       0      0   \n",
       "2       9401     MSD      1    TN  37127-                    3211      0   \n",
       "3       8901     ENQ      0    MN   56475                    2603      0   \n",
       "4       9201     HCC      1    LA   70791                       0      0   \n",
       "5       9301     USB      1    UT   84720                    2709      0   \n",
       "6       9401     FRC      1    CA   90056                       0      0   \n",
       "7       8801     PCH      2    IL   62376                    5201      0   \n",
       "8       8601     AMB     28    FL   32810        B           3601      0   \n",
       "9       9501     L15      1    NC   27850                       0      0   \n",
       "10      8701     BBK      2    MN   55125                    3601      0   \n",
       "11      9301     L01      2    IL   60042                    2311      0   \n",
       "12      9201     L01      1    MO   64468                    1401      0   \n",
       "13      9201     L04      3    FL   33143                    2904      0   \n",
       "14      9101     AML      1    OR   97008                       0      0   \n",
       "15      8601     DUR      0    CA   90274                    1002      0   \n",
       "16      8601     WKB      0    MN  55066-                    1311      0   \n",
       "17      9301     AGR      0    IL   61604                    2801      0   \n",
       "18      8701     STL      2    MI   49506                       0      0   \n",
       "19      9201     IMA      0    WI   53221                    4611      0   \n",
       "20      8601     DRK      0    IA   52402                    3110      0   \n",
       "21      8901     ACS      1    WA   98116                    3706      0   \n",
       "22      9501     ALZ      1    TX   75606                    3001      0   \n",
       "23      9301     AGR   1002    IL   62959                    5801      0   \n",
       "24      9501     HAR      0    CA   92801                       0      0   \n",
       "25      9401     SGI     28    AL   36005                    3601      0   \n",
       "26      9401     MBC      0    TX   75217                       0      0   \n",
       "27      9601     BOA      0    TX   77515                    6401      0   \n",
       "28      8601     GRI      0    IL   62022                    2608      0   \n",
       "29      9001     APP      0    IN   47635                    1401      0   \n",
       "..       ...     ...    ...   ...     ...      ...      ...   ...    ...   \n",
       "71      8601     BHG      2    AR   72761                    1902      0   \n",
       "72      8601     BHG      0    NM   88001                    6101      0   \n",
       "73      9401     L01      2    CA   95926                    3101      0   \n",
       "74      8801     DNA      1    TN   37217                    3006      0   \n",
       "75      9001     CAW      1    OK   73505                    2601      0   \n",
       "76      8601     MBC      1    MT   59801                    3001      0   \n",
       "77      8801     GRI      0    SC   29604                    2801      0   \n",
       "78      8801     DNA     28    FL   32801                    1003      0   \n",
       "79      9601     HOS      0    GA   30905                       0      0   \n",
       "80      8701     ASC     28    CA  95817-                       0      0   \n",
       "81      9501     CWR      1    GA   31206                    2801      0   \n",
       "82      9401     USB      0    FL   32789                    5301      0   \n",
       "83      9201     FLD      0    NC   27948                    5301      0   \n",
       "84      9501     AGS      1    KS   67122                       0      0   \n",
       "85      8601     BHG      2    FL   33844                    6011      0   \n",
       "86      9601     L25      1    MN   55804        B              0      0   \n",
       "87      9101     MER      0    NC   28560                    3001      0   \n",
       "88      9101     LEO      0    CA   92592                    5812      0   \n",
       "89      9401     SYC      0    MT   59643                       0      0   \n",
       "90      9501     SYN      0    TX   75232                    2401      0   \n",
       "91      9601     BOA      1    CA   93312                    4101      0   \n",
       "92      8601     SPN      0    LA   70001                    4901      0   \n",
       "93      9501     L02      2    WA   98205                    3401      0   \n",
       "94      9001     SSS      0    MI   48446                    1305      0   \n",
       "95      9501     AIR      0    WA   98513                    5001      0   \n",
       "96      8801     IMP      0    AZ   85282                       0      0   \n",
       "97      9301     DNB      2    FL   33838                    1604      0   \n",
       "98      9101     HCC      1    WA   98902                    5701      0   \n",
       "99      8801     STR      1    TX   77573                 P  3309      0   \n",
       "100     9301     GPS      1    NM   87107                    4001      0   \n",
       "\n",
       "    RECINHSE  \n",
       "0             \n",
       "1             \n",
       "2             \n",
       "3             \n",
       "4          X  \n",
       "5             \n",
       "6             \n",
       "7             \n",
       "8             \n",
       "9             \n",
       "10            \n",
       "11            \n",
       "12            \n",
       "13            \n",
       "14            \n",
       "15            \n",
       "16            \n",
       "17            \n",
       "18            \n",
       "19            \n",
       "20            \n",
       "21            \n",
       "22            \n",
       "23            \n",
       "24            \n",
       "25            \n",
       "26            \n",
       "27            \n",
       "28            \n",
       "29            \n",
       "..       ...  \n",
       "71            \n",
       "72            \n",
       "73            \n",
       "74            \n",
       "75            \n",
       "76            \n",
       "77            \n",
       "78            \n",
       "79            \n",
       "80            \n",
       "81            \n",
       "82            \n",
       "83            \n",
       "84            \n",
       "85            \n",
       "86            \n",
       "87            \n",
       "88            \n",
       "89            \n",
       "90            \n",
       "91            \n",
       "92            \n",
       "93            \n",
       "94            \n",
       "95            \n",
       "96            \n",
       "97            \n",
       "98            \n",
       "99            \n",
       "100           \n",
       "\n",
       "[101 rows x 10 columns]"
      ]
     },
     "execution_count": 2,
     "metadata": {},
     "output_type": "execute_result"
    }
   ],
   "source": [
    "ONG_data.ix[:100, :10]"
   ]
  },
  {
   "cell_type": "code",
   "execution_count": 3,
   "metadata": {
    "collapsed": false
   },
   "outputs": [
    {
     "data": {
      "text/plain": [
       "(47720, 481)"
      ]
     },
     "execution_count": 3,
     "metadata": {},
     "output_type": "execute_result"
    }
   ],
   "source": [
    "ONG_data.shape"
   ]
  },
  {
   "cell_type": "code",
   "execution_count": 4,
   "metadata": {
    "collapsed": false
   },
   "outputs": [
    {
     "name": "stdout",
     "output_type": "stream",
     "text": [
      "47720\n",
      "47720\n",
      "47720\n",
      "47720\n"
     ]
    }
   ],
   "source": [
    "print(ONG_data['ODATEDW'].count())\n",
    "print(ONG_data['OSOURCE'].count())\n",
    "print(ONG_data['TCODE'].count())\n",
    "print(ONG_data['STATE'].count())"
   ]
  },
  {
   "cell_type": "code",
   "execution_count": 5,
   "metadata": {
    "collapsed": false
   },
   "outputs": [
    {
     "data": {
      "text/plain": [
       "ODATEDW         False\n",
       "OSOURCE         False\n",
       "TCODE           False\n",
       "STATE           False\n",
       "ZIP             False\n",
       "MAILCODE        False\n",
       "PVASTATE        False\n",
       "DOB             False\n",
       "NOEXCH          False\n",
       "RECINHSE        False\n",
       "RECP3           False\n",
       "RECPGVG         False\n",
       "RECSWEEP        False\n",
       "MDMAUD          False\n",
       "DOMAIN          False\n",
       "CLUSTER          True\n",
       "AGE              True\n",
       "AGEFLAG         False\n",
       "HOMEOWNR        False\n",
       "CHILD03         False\n",
       "CHILD07         False\n",
       "CHILD12         False\n",
       "CHILD18         False\n",
       "NUMCHLD          True\n",
       "INCOME           True\n",
       "GENDER          False\n",
       "WEALTH1          True\n",
       "HIT             False\n",
       "MBCRAFT          True\n",
       "MBGARDEN         True\n",
       "                ...  \n",
       "RAMNT_20         True\n",
       "RAMNT_21         True\n",
       "RAMNT_22         True\n",
       "RAMNT_23         True\n",
       "RAMNT_24         True\n",
       "RAMNTALL        False\n",
       "NGIFTALL        False\n",
       "CARDGIFT        False\n",
       "MINRAMNT        False\n",
       "MINRDATE        False\n",
       "MAXRAMNT        False\n",
       "MAXRDATE        False\n",
       "LASTGIFT        False\n",
       "LASTDATE        False\n",
       "FISTDATE        False\n",
       "NEXTDATE         True\n",
       "TIMELAG          True\n",
       "AVGGIFT         False\n",
       "IDX             False\n",
       "DONOR_FLAG      False\n",
       "DONOR_AMOUNT    False\n",
       "HPHONE_D        False\n",
       "RFA_2R          False\n",
       "RFA_2F          False\n",
       "RFA_2A          False\n",
       "MDMAUD_R        False\n",
       "MDMAUD_F        False\n",
       "MDMAUD_A        False\n",
       "CLUSTER2         True\n",
       "GEOCODE2         True\n",
       "dtype: bool"
      ]
     },
     "execution_count": 5,
     "metadata": {},
     "output_type": "execute_result"
    }
   ],
   "source": [
    "ONG_data.isnull().any()"
   ]
  },
  {
   "cell_type": "code",
   "execution_count": 6,
   "metadata": {
    "collapsed": false
   },
   "outputs": [
    {
     "data": {
      "text/plain": [
       "{dtype('int64'): Index(['ODATEDW', 'TCODE', 'DOB', 'HIT', 'MALEMILI', 'MALEVET', 'VIETVETS',\n",
       "        'WWIIVETS', 'LOCALGOV', 'STATEGOV',\n",
       "        ...\n",
       "        'NGIFTALL', 'CARDGIFT', 'MINRDATE', 'MAXRDATE', 'LASTDATE', 'FISTDATE',\n",
       "        'IDX', 'DONOR_FLAG', 'HPHONE_D', 'RFA_2F'],\n",
       "       dtype='object', length=310),\n",
       " dtype('float64'): Index(['CLUSTER', 'AGE', 'NUMCHLD', 'INCOME', 'WEALTH1', 'MBCRAFT', 'MBGARDEN',\n",
       "        'MBBOOKS', 'MBCOLECT', 'MAGFAML',\n",
       "        ...\n",
       "        'RAMNT_24', 'RAMNTALL', 'MINRAMNT', 'MAXRAMNT', 'LASTGIFT', 'NEXTDATE',\n",
       "        'TIMELAG', 'AVGGIFT', 'DONOR_AMOUNT', 'CLUSTER2'],\n",
       "       dtype='object', length=103),\n",
       " dtype('O'): Index(['OSOURCE', 'STATE', 'ZIP', 'MAILCODE', 'PVASTATE', 'NOEXCH', 'RECINHSE',\n",
       "        'RECP3', 'RECPGVG', 'RECSWEEP', 'MDMAUD', 'DOMAIN', 'AGEFLAG',\n",
       "        'HOMEOWNR', 'CHILD03', 'CHILD07', 'CHILD12', 'CHILD18', 'GENDER',\n",
       "        'MAJOR', 'COLLECT1', 'VETERANS', 'BIBLE', 'CATLG', 'HOMEE', 'PETS',\n",
       "        'CDPLAY', 'STEREO', 'PCOWNERS', 'PHOTO', 'CRAFTS', 'FISHER', 'GARDENIN',\n",
       "        'BOATS', 'WALKER', 'KIDSTUFF', 'CARDS', 'PLATES', 'PEPSTRFL', 'RFA_2',\n",
       "        'RFA_3', 'RFA_4', 'RFA_5', 'RFA_6', 'RFA_7', 'RFA_8', 'RFA_9', 'RFA_10',\n",
       "        'RFA_11', 'RFA_12', 'RFA_13', 'RFA_14', 'RFA_15', 'RFA_16', 'RFA_17',\n",
       "        'RFA_18', 'RFA_19', 'RFA_20', 'RFA_21', 'RFA_22', 'RFA_23', 'RFA_24',\n",
       "        'RFA_2R', 'RFA_2A', 'MDMAUD_R', 'MDMAUD_F', 'MDMAUD_A', 'GEOCODE2'],\n",
       "       dtype='object')}"
      ]
     },
     "execution_count": 6,
     "metadata": {},
     "output_type": "execute_result"
    }
   ],
   "source": [
    "tipos = ONG_data.columns.to_series().groupby(ONG_data.dtypes).groups\n",
    "tipos"
   ]
  },
  {
   "cell_type": "code",
   "execution_count": 7,
   "metadata": {
    "collapsed": false
   },
   "outputs": [
    {
     "name": "stdout",
     "output_type": "stream",
     "text": [
      "68\n",
      "Index(['OSOURCE', 'STATE', 'ZIP', 'MAILCODE', 'PVASTATE', 'NOEXCH', 'RECINHSE',\n",
      "       'RECP3', 'RECPGVG', 'RECSWEEP', 'MDMAUD', 'DOMAIN', 'AGEFLAG',\n",
      "       'HOMEOWNR', 'CHILD03', 'CHILD07', 'CHILD12', 'CHILD18', 'GENDER',\n",
      "       'MAJOR', 'COLLECT1', 'VETERANS', 'BIBLE', 'CATLG', 'HOMEE', 'PETS',\n",
      "       'CDPLAY', 'STEREO', 'PCOWNERS', 'PHOTO', 'CRAFTS', 'FISHER', 'GARDENIN',\n",
      "       'BOATS', 'WALKER', 'KIDSTUFF', 'CARDS', 'PLATES', 'PEPSTRFL', 'RFA_2',\n",
      "       'RFA_3', 'RFA_4', 'RFA_5', 'RFA_6', 'RFA_7', 'RFA_8', 'RFA_9', 'RFA_10',\n",
      "       'RFA_11', 'RFA_12', 'RFA_13', 'RFA_14', 'RFA_15', 'RFA_16', 'RFA_17',\n",
      "       'RFA_18', 'RFA_19', 'RFA_20', 'RFA_21', 'RFA_22', 'RFA_23', 'RFA_24',\n",
      "       'RFA_2R', 'RFA_2A', 'MDMAUD_R', 'MDMAUD_F', 'MDMAUD_A', 'GEOCODE2'],\n",
      "      dtype='object')\n"
     ]
    }
   ],
   "source": [
    "ctext = tipos[np.dtype('object')]\n",
    "print(len(ctext))\n",
    "print(ctext)"
   ]
  },
  {
   "cell_type": "code",
   "execution_count": 8,
   "metadata": {
    "collapsed": false
   },
   "outputs": [
    {
     "name": "stdout",
     "output_type": "stream",
     "text": [
      "413\n",
      "['EIC2', 'ANC4', 'RAMNT_8', 'LFC8', 'ADATE_21', 'RAMNT_10', 'DONOR_AMOUNT', 'AGEC1', 'ETHC3', 'EC5', 'OCC8', 'TPE2', 'OEDC2', 'DW1', 'EIC11', 'RDATE_9', 'RDATE_8', 'IC17', 'AGE904', 'AGEC7', 'TPE1', 'HHD2', 'WEALTH1', 'OCC4', 'RAMNT_3', 'EC1', 'LFC4', 'MC1', 'VOC3', 'POP90C5', 'IC5', 'HVP5', 'ADATE_13', 'RFA_2F', 'POBC2', 'AVGGIFT', 'ETH15', 'HIT', 'SEC1', 'TPE8', 'MAGFEM', 'RAMNT_4', 'LIFESRC', 'ADATE_16', 'RDATE_16', 'WWIIVETS', 'HHN4', 'TPE10', 'EIC6', 'MBBOOKS', 'NUMPRM12', 'IC12', 'EIC8', 'AFC1', 'HHD8', 'ETH6', 'DOB', 'HV1', 'LFC2', 'HVP4', 'HHN2', 'WEALTH2', 'SEC5', 'ANC13', 'SEC2', 'IC22', 'MC3', 'ANC10', 'POP90C1', 'RDATE_11', 'IC8', 'NUMCHLD', 'RAMNT_15', 'IC15', 'MSA', 'HC7', 'LFC7', 'ETH14', 'AC2', 'ADATE_22', 'RAMNTALL', 'INCOME', 'RAMNT_6', 'TPE7', 'ETH5', 'ETHC4', 'HC1', 'OCC10', 'LASTGIFT', 'RAMNT_16', 'ANC7', 'TPE11', 'IC10', 'RAMNT_21', 'TPE12', 'POP902', 'HC15', 'DW2', 'HVP1', 'TPE9', 'ETH1', 'HC19', 'PUBHLTH', 'RAMNT_18', 'ETHC2', 'DATASRCE', 'EIC4', 'HUR2', 'RDATE_24', 'RDATE_20', 'OCC6', 'ANC9', 'HUPA6', 'RAMNT_5', 'PUBOPP', 'RHP4', 'ADATE_4', 'ETHC1', 'CHILC3', 'HU5', 'RDATE_7', 'PUBNEWFN', 'HHAS1', 'HU1', 'HHN3', 'ODATEDW', 'RDATE_5', 'HVP6', 'TCODE', 'EIC15', 'HUPA7', 'FEDGOV', 'OCC11', 'AFC5', 'RAMNT_11', 'VOC2', 'HHN6', 'IC13', 'SOLIH', 'AGE905', 'ETH9', 'RP3', 'RDATE_18', 'RAMNT_24', 'NUMPROM', 'ADATE_2', 'CARDPM12', 'ADATE_24', 'MARR2', 'HC10', 'ADI', 'VC4', 'HHN1', 'CHIL3', 'EC2', 'MINRAMNT', 'SEC4', 'LFC6', 'MHUC2', 'RDATE_21', 'CARDPROM', 'ADATE_17', 'VC2', 'RP4', 'HHD10', 'RDATE_3', 'MAXRAMNT', 'EIC5', 'AGE901', 'OCC1', 'LFC10', 'ETHC6', 'ANC11', 'HHD7', 'HU2', 'RAMNT_17', 'RAMNT_22', 'RDATE_10', 'AGE903', 'OCC7', 'ETH3', 'MAXRDATE', 'RDATE_17', 'IC2', 'HHP2', 'ADATE_20', 'AGE906', 'HC12', 'RDATE_6', 'POP903', 'AFC2', 'HHAGE3', 'RDATE_4', 'OCC2', 'ADATE_5', 'VC1', 'IC16', 'HHD4', 'LSC2', 'RAMNT_20', 'DW3', 'OEDC5', 'CHIL2', 'ETH11', 'RAMNT_23', 'EC4', 'OCC5', 'ADATE_19', 'LFC5', 'POP90C2', 'IC6', 'ADATE_7', 'POBC1', 'HHAGE2', 'ANC1', 'TIMELAG', 'ETH4', 'HC6', 'EIC1', 'HC14', 'ADATE_12', 'CHILC4', 'LFC3', 'HUPA4', 'ANC2', 'OEDC3', 'ADATE_8', 'RAMNT_9', 'HC3', 'ETH12', 'OCC9', 'EC6', 'AGEC3', 'NGIFTALL', 'IC3', 'RDATE_19', 'HVP2', 'EIC7', 'MBGARDEN', 'HC16', 'TPE4', 'HHD5', 'AGEC5', 'CHILC2', 'EIC3', 'HPHONE_D', 'HHD6', 'AGEC4', 'ADATE_9', 'RAMNT_14', 'ETH16', 'VOC1', 'RHP2', 'RDATE_14', 'POP901', 'LSC1', 'HU4', 'RDATE_13', 'LSC3', 'MARR3', 'HHP1', 'ADATE_23', 'MARR1', 'HC21', 'RDATE_22', 'ANC15', 'PUBGARDN', 'DW5', 'MAGMALE', 'ADATE_14', 'IC4', 'POP90C3', 'OEDC7', 'ETH13', 'VC3', 'RAMNT_12', 'OCC3', 'ETHC5', 'HUPA5', 'PUBPHOTO', 'MARR4', 'ETH7', 'DW8', 'MHUC1', 'IC19', 'LSC4', 'TPE13', 'DMA', 'OCC12', 'STATEGOV', 'ANC14', 'HHD11', 'IC18', 'HV2', 'HUPA2', 'CHILC1', 'RHP1', 'TPE3', 'EC8', 'EIC14', 'EIC9', 'HC20', 'HHAS3', 'LFC9', 'CARDGIFT', 'CHILC5', 'HHAS4', 'ADATE_6', 'IC1', 'AFC3', 'LFC1', 'AGE', 'IC7', 'EC3', 'MINRDATE', 'TPE5', 'ANC5', 'ANC12', 'HC17', 'AC1', 'ADATE_10', 'AGE902', 'HHD3', 'MC2', 'OCC13', 'RP2', 'LOCALGOV', 'RP1', 'DONOR_FLAG', 'EIC13', 'DW6', 'IC23', 'AFC4', 'IC14', 'HC18', 'RDATE_23', 'FISTDATE', 'HC9', 'EC7', 'EIC10', 'LASTDATE', 'NEXTDATE', 'ETH10', 'HUPA3', 'ADATE_3', 'EIC12', 'RAMNT_19', 'IC9', 'RDATE_15', 'ANC8', 'PEC2', 'SEC3', 'HC4', 'AFC6', 'AGEC2', 'OEDC4', 'AGEC6', 'HHN5', 'ANC6', 'OEDC6', 'HC8', 'HHD1', 'RAMNT_13', 'RDATE_12', 'HHAGE1', 'MBCRAFT', 'EIC16', 'MAGFAML', 'OEDC1', 'DW7', 'VIETVETS', 'HHD12', 'SOLP3', 'RHP3', 'HHAS2', 'IDX', 'HHD9', 'ETH8', 'HU3', 'IC21', 'ADATE_15', 'RAMNT_7', 'TPE6', 'ADATE_18', 'MAXADATE', 'PUBCULIN', 'MALEMILI', 'GEOCODE', 'POP90C4', 'HV4', 'IC20', 'ANC3', 'CLUSTER2', 'HUR1', 'HC11', 'CLUSTER', 'HC2', 'PUBDOITY', 'HV3', 'DW4', 'MBCOLECT', 'HVP3', 'DW9', 'HC13', 'ADATE_11', 'ETH2', 'MALEVET', 'CHIL1', 'IC11', 'PEC1', 'HC5', 'AGE907', 'HUPA1']\n"
     ]
    }
   ],
   "source": [
    "columnas = ONG_data.columns  # lista de todas las columnas\n",
    "cnum = list(set(columnas) - set(ctext))\n",
    "print(len(cnum))\n",
    "print(cnum)"
   ]
  },
  {
   "cell_type": "code",
   "execution_count": 9,
   "metadata": {
    "collapsed": true
   },
   "outputs": [],
   "source": [
    "#COmpletando los valores nulos de colummnas numericas con la media\n",
    "for c in cnum:\n",
    "    mean = ONG_data[c].mean()\n",
    "    ONG_data[c] = ONG_data[c].fillna(mean)"
   ]
  },
  {
   "cell_type": "code",
   "execution_count": 10,
   "metadata": {
    "collapsed": true
   },
   "outputs": [],
   "source": [
    "# Completando valores nulos de columnas categóricas con la moda\n",
    "for c in ctext:\n",
    "    mode = ONG_data[c].mode()[0]\n",
    "    ONG_data[c] = ONG_data[c].fillna(mode)"
   ]
  },
  {
   "cell_type": "code",
   "execution_count": 11,
   "metadata": {
    "collapsed": false
   },
   "outputs": [
    {
     "data": {
      "text/plain": [
       "False"
      ]
     },
     "execution_count": 11,
     "metadata": {},
     "output_type": "execute_result"
    }
   ],
   "source": [
    "# Controlando que no hayan valores faltantes\n",
    "ONG_data.isnull().any().any()"
   ]
  },
  {
   "cell_type": "code",
   "execution_count": 12,
   "metadata": {
    "collapsed": true
   },
   "outputs": [],
   "source": [
    "# Guardando el dataset preprocesado\n",
    "ONG_data.to_csv(\"LEARNING_procesado.csv\", index=False)"
   ]
  },
  {
   "cell_type": "code",
   "execution_count": 13,
   "metadata": {
    "collapsed": false
   },
   "outputs": [
    {
     "name": "stdout",
     "output_type": "stream",
     "text": [
      "El procentaje de donantes de la base de datos es 5.08%\n"
     ]
    }
   ],
   "source": [
    "# Calculando el porcentaje de donantes sobre toda la base de datos\n",
    "porcent_donantes = (\n",
    "    ONG_data[ONG_data.DONOR_AMOUNT > 0]['DONOR_AMOUNT'].count() * 1.0\n",
    "       / ONG_data['DONOR_AMOUNT'].count()\n",
    ") * 100.0\n",
    "print(\"El procentaje de donantes de la base de datos es {0:.2f}%\".format(porcent_donantes))"
   ]
  },
  {
   "cell_type": "code",
   "execution_count": 14,
   "metadata": {
    "collapsed": false
   },
   "outputs": [
    {
     "data": {
      "image/png": "[encoded data removed]",
      "text/plain": [
       "<matplotlib.figure.Figure at 0x7f34083f9dd8>"
      ]
     },
     "metadata": {},
     "output_type": "display_data"
    }
   ],
   "source": [
    "# Grafico de totas del porcentaje de donantes\n",
    "# Agrupando por DONOR_FLAG\n",
    "donantes = ONG_data.groupby('DONOR_FLAG').IDX.count() \n",
    "# Creando las leyendas del grafico.\n",
    "labels = [ 'Donante\\n' + str(round(x * 1.0 / donantes.sum() * \n",
    "                            100.0, 2)) + '%'  for x in donantes ]\n",
    "labels[0] = 'No ' + labels[0]\n",
    "plt.pie(donantes, labels=labels)\n",
    "plt.title('Porcion de donantes')\n",
    "plt.show()"
   ]
  },
  {
   "cell_type": "code",
   "execution_count": 15,
   "metadata": {
    "collapsed": false
   },
   "outputs": [
    {
     "data": {
      "text/plain": [
       "2423"
      ]
     },
     "execution_count": 15,
     "metadata": {},
     "output_type": "execute_result"
    }
   ],
   "source": [
    "# Creando subset con solo los donates\n",
    "ONG_donantes = ONG_data[ONG_data.DONOR_AMOUNT > 0]\n",
    "# cantidad de donantes\n",
    "len(ONG_donantes)"
   ]
  },
  {
   "cell_type": "code",
   "execution_count": 16,
   "metadata": {
    "collapsed": false
   },
   "outputs": [
    {
     "data": {
      "image/png": "[encoded data removed]",
      "text/plain": [
       "<matplotlib.figure.Figure at 0x7f33d7ad3668>"
      ]
     },
     "metadata": {},
     "output_type": "display_data"
    }
   ],
   "source": [
    "# Analizando el importe de donanciones\n",
    "# Creando un segmentos de importes\n",
    "imp_segm = pd.cut(ONG_donantes['DONOR_AMOUNT'], \n",
    "                  [0, 10,  20, 30, 40, 50, 60, 100, 200])\n",
    "# Creando el grafico de barras desde pandas\n",
    "plot = pd.value_counts(imp_segm).plot(kind='bar',\n",
    "                                      title='Importes de donacion')\n",
    "plot.set_ylabel('Cant de donantes')\n",
    "plot.set_xlabel('Rango de importes')\n",
    "plt.show()"
   ]
  },
  {
   "cell_type": "code",
   "execution_count": 17,
   "metadata": {
    "collapsed": false
   },
   "outputs": [
    {
     "data": {
      "text/plain": [
       "(0, 10]       1026\n",
       "(10, 20]       921\n",
       "(20, 30]       358\n",
       "(30, 40]        53\n",
       "(40, 50]        43\n",
       "(60, 100]       15\n",
       "(50, 60]         4\n",
       "(100, 200]       3\n",
       "Name: DONOR_AMOUNT, dtype: int64"
      ]
     },
     "execution_count": 17,
     "metadata": {},
     "output_type": "execute_result"
    }
   ],
   "source": [
    "# Agrupación por segmento segun importe donado.\n",
    "pd.value_counts(imp_segm)"
   ]
  },
  {
   "cell_type": "code",
   "execution_count": 18,
   "metadata": {
    "collapsed": false
   },
   "outputs": [
    {
     "data": {
      "text/plain": [
       "15.598237721832438"
      ]
     },
     "execution_count": 18,
     "metadata": {},
     "output_type": "execute_result"
    }
   ],
   "source": [
    "# importe de donación promedio\n",
    "ONG_donantes['DONOR_AMOUNT'].mean()"
   ]
  },
  {
   "cell_type": "code",
   "execution_count": 19,
   "metadata": {
    "collapsed": false
   },
   "outputs": [
    {
     "data": {
      "image/png": "[encoded data removed]",
      "text/plain": [
       "<matplotlib.figure.Figure at 0x7f33d7604080>"
      ]
     },
     "metadata": {},
     "output_type": "display_data"
    }
   ],
   "source": [
    "# Gráfico de cajas del importe de donación\n",
    "sns.boxplot(list(ONG_donantes['DONOR_AMOUNT']))\n",
    "plt.title('importe de donación')\n",
    "plt.show()"
   ]
  },
  {
   "cell_type": "code",
   "execution_count": 20,
   "metadata": {
    "collapsed": false
   },
   "outputs": [
    {
     "data": {
      "image/png": "[encoded data removed]",
      "text/plain": [
       "<matplotlib.figure.Figure at 0x7f33d75b8b38>"
      ]
     },
     "metadata": {},
     "output_type": "display_data"
    }
   ],
   "source": [
    "# Grafico del género de los donantes\n",
    "ONG_donantes.groupby('GENDER').size().plot(kind='bar')\n",
    "plt.title('Distribución por género')\n",
    "plt.show()"
   ]
  },
  {
   "cell_type": "code",
   "execution_count": 21,
   "metadata": {
    "collapsed": false
   },
   "outputs": [
    {
     "data": {
      "image/png": "[encoded data removed]",
      "text/plain": [
       "<matplotlib.figure.Figure at 0x7f33d74f04a8>"
      ]
     },
     "metadata": {},
     "output_type": "display_data"
    }
   ],
   "source": [
    "# Donaciones segun el género\n",
    "ONG_donantes[(ONG_donantes.DONOR_AMOUNT <= 50)\n",
    "             & (ONG_donantes.GENDER.isin(['F', 'M'])\n",
    "               )][['DONOR_AMOUNT', 'GENDER']].boxplot(by='GENDER')\n",
    "plt.title('Donantes segun sexo')\n",
    "plt.show()"
   ]
  },
  {
   "cell_type": "code",
   "execution_count": 22,
   "metadata": {
    "collapsed": false
   },
   "outputs": [
    {
     "data": {
      "text/plain": [
       "DONOR_AMOUNT    14.610311\n",
       "dtype: float64"
      ]
     },
     "execution_count": 22,
     "metadata": {},
     "output_type": "execute_result"
    }
   ],
   "source": [
    "# Media de impote donado por mujeres\n",
    "ONG_donantes[ONG_donantes.GENDER == 'F'][['DONOR_AMOUNT']].mean()"
   ]
  },
  {
   "cell_type": "code",
   "execution_count": 23,
   "metadata": {
    "collapsed": false
   },
   "outputs": [
    {
     "data": {
      "text/plain": [
       "DONOR_AMOUNT    16.81989\n",
       "dtype: float64"
      ]
     },
     "execution_count": 23,
     "metadata": {},
     "output_type": "execute_result"
    }
   ],
   "source": [
    "# Media de impote donado por hombres\n",
    "ONG_donantes[ONG_donantes.GENDER == 'M'][['DONOR_AMOUNT']].mean()"
   ]
  },
  {
   "cell_type": "code",
   "execution_count": 24,
   "metadata": {
    "collapsed": false
   },
   "outputs": [
    {
     "data": {
      "image/png": "[encoded data removed]",
      "text/plain": [
       "<matplotlib.figure.Figure at 0x7f33d73a58d0>"
      ]
     },
     "metadata": {},
     "output_type": "display_data"
    }
   ],
   "source": [
    "# Distribución de la edad de los donantes\n",
    "ONG_donantes['AGE'].hist().set_title('Distribución de donantes segun edad')\n",
    "plt.show()"
   ]
  },
  {
   "cell_type": "code",
   "execution_count": 25,
   "metadata": {
    "collapsed": false
   },
   "outputs": [
    {
     "name": "stderr",
     "output_type": "stream",
     "text": [
      "/home/villacorta/anaconda3/lib/python3.6/site-packages/ipykernel/__main__.py:3: SettingWithCopyWarning: \n",
      "A value is trying to be set on a copy of a slice from a DataFrame.\n",
      "Try using .loc[row_indexer,col_indexer] = value instead\n",
      "\n",
      "See the caveats in the documentation: http://pandas.pydata.org/pandas-docs/stable/indexing.html#indexing-view-versus-copy\n",
      "  app.launch_new_instance()\n"
     ]
    },
    {
     "data": {
      "image/png": "[encoded data removed]",
      "text/plain": [
       "<matplotlib.figure.Figure at 0x7f33e5546a90>"
      ]
     },
     "metadata": {},
     "output_type": "display_data"
    }
   ],
   "source": [
    "# Agrupando la edad por rango de a 10\n",
    "AGE2 = pd.cut(ONG_donantes['AGE'], range(0, 100, 10))\n",
    "ONG_donantes['AGE2'] = AGE2\n",
    "\n",
    "# Gráfico de barras de donaciones por edad\n",
    "pd.value_counts(AGE2).plot(kind='bar', title='Donaciones por edad')\n",
    "plt.show()"
   ]
  },
  {
   "cell_type": "code",
   "execution_count": 26,
   "metadata": {
    "collapsed": false
   },
   "outputs": [
    {
     "data": {
      "image/png": "[encoded data removed]",
      "text/plain": [
       "<matplotlib.figure.Figure at 0x7f33d741d898>"
      ]
     },
     "metadata": {},
     "output_type": "display_data"
    }
   ],
   "source": [
    "# Importes de donación por grango de edad\n",
    "ONG_donantes[ONG_donantes.DONOR_AMOUNT <= 60][['DONOR_AMOUNT', \n",
    "                                               'AGE2']].boxplot(by='AGE2')\n",
    "plt.title('Importe de donación por edad')\n",
    "plt.show()"
   ]
  },
  {
   "cell_type": "code",
   "execution_count": null,
   "metadata": {
    "collapsed": true
   },
   "outputs": [],
   "source": []
  }
 ],
 "metadata": {
  "kernelspec": {
   "display_name": "Python 3",
   "language": "python",
   "name": "python3"
  },
  "language_info": {
   "codemirror_mode": {
    "name": "ipython",
    "version": 3
   },
   "file_extension": ".py",
   "mimetype": "text/x-python",
   "name": "python",
   "nbconvert_exporter": "python",
   "pygments_lexer": "ipython3",
   "version": "3.6.0"
  }
 },
 "nbformat": 4,
 "nbformat_minor": 2
}
