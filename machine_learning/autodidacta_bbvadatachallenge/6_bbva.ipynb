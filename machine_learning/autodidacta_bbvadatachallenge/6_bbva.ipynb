{
 "cells": [
  {
   "cell_type": "code",
   "execution_count": 1,
   "metadata": {
    "collapsed": false
   },
   "outputs": [
    {
     "name": "stdout",
     "output_type": "stream",
     "text": [
      "Data Train:  (70000, 53)\n",
      "Data Test:   (30000, 52)\n"
     ]
    }
   ],
   "source": [
    "#Importaciones basicas\n",
    "import pandas as pd\n",
    "import numpy as np \n",
    "import matplotlib.pyplot as plt \n",
    "# graficos incrustados\n",
    "%matplotlib inline\n",
    "\n",
    "#Carga de los CSV\n",
    "BBVA_data = pd.read_csv('train_clientes.csv', header=0)\n",
    "print(\"Data Train: \", BBVA_data.shape)\n",
    "BBVA_test = pd.read_csv('test_clientes.csv', header=0)\n",
    "print(\"Data Test:  \", BBVA_test.shape)"
   ]
  },
  {
   "cell_type": "code",
   "execution_count": 2,
   "metadata": {
    "collapsed": false
   },
   "outputs": [
    {
     "name": "stdout",
     "output_type": "stream",
     "text": [
      "Clean Data Test:  (70000, 53) False\n",
      "Clean Data Test:  (30000, 52) False\n"
     ]
    }
   ],
   "source": [
    "def completar_data(BBVA):\n",
    "    if BBVA.isnull().any().any():\n",
    "        tipos = BBVA.columns.to_series().groupby(BBVA.dtypes).groups\n",
    "        ctext = tipos[np.dtype('object')]\n",
    "        columnas = BBVA.columns  # lista de todas las columnas\n",
    "        cnum = list(set(columnas) - set(ctext))\n",
    "        #COmpletando los valores nulos de colummnas numericas con la media\n",
    "        for c in cnum:\n",
    "            mean = BBVA[c].mean()\n",
    "            BBVA[c] = BBVA[c].fillna(mean)\n",
    "        # Completando valores nulos de columnas categóricas con la moda\n",
    "        for c in ctext:\n",
    "            mode = BBVA[c].mode()[0]\n",
    "            BBVA[c] = BBVA[c].fillna(mode)\n",
    "        print(\"Clean Data Test: \", BBVA.shape, BBVA.isnull().any().any())\n",
    "\n",
    "completar_data(BBVA_data)\n",
    "completar_data(BBVA_test)"
   ]
  },
  {
   "cell_type": "code",
   "execution_count": 3,
   "metadata": {
    "collapsed": false
   },
   "outputs": [
    {
     "name": "stdout",
     "output_type": "stream",
     "text": [
      "<class 'pandas.core.frame.DataFrame'> (70000, 53)\n",
      "<class 'pandas.core.frame.DataFrame'> (30000, 52)\n"
     ]
    }
   ],
   "source": [
    "def factorizacion_data(datus):\n",
    "    #Pasando los datos de edad a rango de 10 años\n",
    "    EDAD2 = pd.cut(datus['EDAD'], range(0, 150, 10))\n",
    "    datus['EDAD'] = EDAD2\n",
    "    \n",
    "    #Factorizando la columna EDAD\n",
    "    datus['EDAD'], _ = pd.factorize(datus['EDAD'])\n",
    "    \n",
    "    #Factorizar las demas columnas de datos categoricos\n",
    "    tipos = datus.columns.to_series().groupby(datus.dtypes).groups\n",
    "    ctext = tipos[np.dtype('object')]\n",
    "    for c in ctext:\n",
    "        datus[c], _ = pd.factorize(datus[c])\n",
    "    print(type(datus), datus.shape)\n",
    "    return datus\n",
    "\n",
    "BBVA_data = factorizacion_data(BBVA_data)\n",
    "BBVA_test = factorizacion_data(BBVA_test)"
   ]
  },
  {
   "cell_type": "code",
   "execution_count": 4,
   "metadata": {
    "collapsed": false
   },
   "outputs": [
    {
     "name": "stdout",
     "output_type": "stream",
     "text": [
      "False\n",
      "False\n"
     ]
    }
   ],
   "source": [
    "print(BBVA_data.isnull().any().any())\n",
    "print(BBVA_test.isnull().any().any())"
   ]
  },
  {
   "cell_type": "code",
   "execution_count": 5,
   "metadata": {
    "collapsed": false
   },
   "outputs": [
    {
     "name": "stdout",
     "output_type": "stream",
     "text": [
      "<class 'pandas.core.frame.DataFrame'> (70000, 51)\n",
      "<class 'pandas.core.frame.DataFrame'> (30000, 51)\n",
      "<class 'numpy.ndarray'> (70000,)\n"
     ]
    }
   ],
   "source": [
    "X_train = BBVA_data.drop(['ID_CORRELATIVO', 'ATTRITION'], axis=1)\n",
    "print(type(X_train), X_train.shape)\n",
    "X_predic = BBVA_test.drop(['ID_CORRELATIVO'], axis=1)\n",
    "print(type(X_predic), X_predic.shape)\n",
    "y_train = BBVA_data['ATTRITION'].values\n",
    "print(type(y_train), y_train.shape)"
   ]
  },
  {
   "cell_type": "code",
   "execution_count": 6,
   "metadata": {
    "collapsed": false
   },
   "outputs": [
    {
     "name": "stdout",
     "output_type": "stream",
     "text": [
      "['RANG_INGRESO', 'EDAD', 'ANTIGUEDAD', 'RANG_SDO_PASIVO_MENOS0', 'SDO_ACTIVO_MENOS0', 'RANG_NRO_PRODUCTOS_MENOS0', 'NRO_ACCES_CANAL2_MENOS0', 'NRO_ACCES_CANAL3_MENOS0', 'NRO_ACCES_CANAL3_MENOS1', 'NRO_ACCES_CANAL3_MENOS2', 'NRO_ACCES_CANAL3_MENOS3', 'NRO_ACCES_CANAL3_MENOS4', 'NRO_ENTID_SSFF_MENOS0', 'NRO_ENTID_SSFF_MENOS3', 'NRO_ENTID_SSFF_MENOS5']\n"
     ]
    }
   ],
   "source": [
    "from sklearn.ensemble import ExtraTreesClassifier\n",
    "from sklearn.feature_selection import RFE\n",
    "\n",
    "columnas = list(X_train.columns.values)\n",
    "era = RFE(ExtraTreesClassifier(), 15)  # número de atributos a seleccionar\n",
    "era = era.fit(X_train.values, y_train)\n",
    "# imprimir resultados\n",
    "atrib = era.support_\n",
    "atributos = [columnas[i] for i in list(atrib.nonzero()[0])]\n",
    "print(atributos)"
   ]
  },
  {
   "cell_type": "code",
   "execution_count": 7,
   "metadata": {
    "collapsed": false
   },
   "outputs": [
    {
     "name": "stdout",
     "output_type": "stream",
     "text": [
      "<class 'pandas.core.frame.DataFrame'> <class 'pandas.core.frame.DataFrame'>\n",
      "<class 'pandas.core.frame.DataFrame'> (70000, 51)\n",
      "<class 'pandas.core.frame.DataFrame'> (30000, 51)\n"
     ]
    }
   ],
   "source": [
    "print(type(X_train), type(X_predic))\n",
    "xx_train = X_train.loc[:,atributos].values\n",
    "print(type(X_train), X_train.shape)\n",
    "xx_predic = X_predic.loc[:,atributos].values\n",
    "print(type(X_predic), X_predic.shape)"
   ]
  },
  {
   "cell_type": "code",
   "execution_count": 8,
   "metadata": {
    "collapsed": false
   },
   "outputs": [
    {
     "name": "stdout",
     "output_type": "stream",
     "text": [
      "<class 'numpy.ndarray'> <class 'numpy.ndarray'>\n",
      "X_smote::  (118355, 10)\n",
      "y_smote::  (118355,)\n"
     ]
    }
   ],
   "source": [
    "print(type(xx_train), type(y_train))\n",
    "from imblearn.over_sampling import SMOTE\n",
    "X_smote, y_smote = SMOTE(kind='svm').fit_sample(xx_train, y_train)\n",
    "\n",
    "print(\"X_smote:: \", X_smote.shape)\n",
    "print(\"y_smote:: \", y_smote.shape)"
   ]
  },
  {
   "cell_type": "code",
   "execution_count": 12,
   "metadata": {
    "collapsed": false
   },
   "outputs": [
    {
     "name": "stdout",
     "output_type": "stream",
     "text": [
      "X_smote_std (118355, 10)\n",
      "xx_train_std (70000, 10)\n",
      "X_train_std (70000, 51)\n"
     ]
    }
   ],
   "source": [
    "from sklearn.preprocessing import StandardScaler\n",
    "X_smote_std = StandardScaler().fit_transform(X_smote.astype(float))\n",
    "print(\"X_smote_std\", X_smote_std.shape)\n",
    "xx_train_std = StandardScaler().fit_transform(xx_train.astype(float))\n",
    "print(\"xx_train_std\", xx_train_std.shape)\n",
    "X_train_std = StandardScaler().fit_transform(X_train.values.astype(float))\n",
    "print(\"X_train_std\", X_train_std.shape)"
   ]
  },
  {
   "cell_type": "code",
   "execution_count": 13,
   "metadata": {
    "collapsed": false
   },
   "outputs": [
    {
     "data": {
      "text/plain": [
       "SVC(C=1.0, cache_size=200, class_weight=None, coef0=0.0,\n",
       "  decision_function_shape='ovr', degree=3, gamma='auto', kernel='rbf',\n",
       "  max_iter=-1, probability=True, random_state=None, shrinking=True,\n",
       "  tol=0.001, verbose=False)"
      ]
     },
     "execution_count": 13,
     "metadata": {},
     "output_type": "execute_result"
    }
   ],
   "source": [
    "from sklearn import svm\n",
    "svm.SVC(probability=True)\n",
    "clf_smote = svm.SVC(probability=True)\n",
    "clf_20 = svm.SVC(probability=True)\n",
    "clf_all = svm.SVC(probability=True)\n",
    "#Construimos el modelo sobre los datos de entrenamiento\n",
    "clf_smote.fit(X_smote_std,y_smote)\n",
    "clf_20.fit(xx_train_std,y_train)\n",
    "clf_all.fit(X_train_std,y_train)"
   ]
  },
  {
   "cell_type": "code",
   "execution_count": 14,
   "metadata": {
    "collapsed": false
   },
   "outputs": [
    {
     "data": {
      "text/plain": [
       "(30000, 10)"
      ]
     },
     "execution_count": 14,
     "metadata": {},
     "output_type": "execute_result"
    }
   ],
   "source": [
    "xx_predic.shape"
   ]
  },
  {
   "cell_type": "code",
   "execution_count": 15,
   "metadata": {
    "collapsed": false
   },
   "outputs": [
    {
     "data": {
      "text/plain": [
       "(30000, 51)"
      ]
     },
     "execution_count": 15,
     "metadata": {},
     "output_type": "execute_result"
    }
   ],
   "source": [
    "X_predic.shape"
   ]
  },
  {
   "cell_type": "code",
   "execution_count": 16,
   "metadata": {
    "collapsed": false
   },
   "outputs": [],
   "source": [
    "prediccion_smote = clf_smote.predict(xx_predic)\n",
    "prediccion_proba_smote = clf_smote.predict_proba(xx_predic)\n",
    "#////////////////////////////////////////////////\n",
    "prediccion_20 = clf_20.predict(xx_predic)\n",
    "prediccion_proba_20 = clf_20.predict_proba(xx_predic)\n",
    "#////////////////////////////////////////////////\n",
    "prediccion_all = clf_all.predict(X_predic)\n",
    "prediccion_proba_all = clf_all.predict_proba(X_predic)"
   ]
  },
  {
   "cell_type": "code",
   "execution_count": 17,
   "metadata": {
    "collapsed": false
   },
   "outputs": [
    {
     "name": "stdout",
     "output_type": "stream",
     "text": [
      "367 31 0\n"
     ]
    }
   ],
   "source": [
    "print(sum(prediccion_smote), sum(prediccion_20), sum(prediccion_all))"
   ]
  },
  {
   "cell_type": "code",
   "execution_count": 18,
   "metadata": {
    "collapsed": false
   },
   "outputs": [
    {
     "name": "stdout",
     "output_type": "stream",
     "text": [
      "30000 30000 30000\n"
     ]
    }
   ],
   "source": [
    "print(len(prediccion_smote), len(prediccion_20), len(prediccion_all))"
   ]
  },
  {
   "cell_type": "code",
   "execution_count": 19,
   "metadata": {
    "collapsed": false
   },
   "outputs": [],
   "source": [
    "result_smote = [float(\"{0:.4f}\".format(_)) for _ in list(zip(*prediccion_proba_smote))[1]]\n",
    "result_20 = [float(\"{0:.4f}\".format(_)) for _ in list(zip(*prediccion_proba_20))[1]]\n",
    "result_all = [float(\"{0:.4f}\".format(_)) for _ in list(zip(*prediccion_proba_all))[1]]"
   ]
  },
  {
   "cell_type": "code",
   "execution_count": 20,
   "metadata": {
    "collapsed": false
   },
   "outputs": [
    {
     "data": {
      "text/plain": [
       "(30000,)"
      ]
     },
     "execution_count": 20,
     "metadata": {},
     "output_type": "execute_result"
    }
   ],
   "source": [
    "idd = BBVA_test['ID_CORRELATIVO']\n",
    "idd.shape"
   ]
  },
  {
   "cell_type": "code",
   "execution_count": 21,
   "metadata": {
    "collapsed": true
   },
   "outputs": [],
   "source": [
    "resultados_smote = list(zip(list(idd), result_smote))\n",
    "resultados_20 = list(zip(list(idd), result_20))\n",
    "resultados_all = list(zip(list(idd), result_all))"
   ]
  },
  {
   "cell_type": "code",
   "execution_count": 22,
   "metadata": {
    "collapsed": false
   },
   "outputs": [
    {
     "name": "stdout",
     "output_type": "stream",
     "text": [
      "[('ID_CORRELATIVO', 'ATTRITION'), (47411, 0.1879), (39861, 0.046), (38898, 0.1887), (50927, 0.1672), (32969, 0.1692), (89661, 0.3141), (12197, 0.1878), (71520, 0.1879), (59759, 0.0708)]\n",
      "[('ID_CORRELATIVO', 'ATTRITION'), (47411, 0.3378), (39861, 0.1546), (38898, 0.3209), (50927, 0.2683), (32969, 0.1564), (89661, 0.4732), (12197, 0.3372), (71520, 0.3378), (59759, 0.1275)]\n",
      "[('ID_CORRELATIVO', 'ATTRITION'), (47411, 0.1823), (39861, 0.1823), (38898, 0.1823), (50927, 0.1823), (32969, 0.1823), (89661, 0.1823), (12197, 0.1823), (71520, 0.1823), (59759, 0.1823)]\n"
     ]
    }
   ],
   "source": [
    "import csv\n",
    "resultados_smote.insert(0, ('ID_CORRELATIVO', 'ATTRITION'))\n",
    "print(resultados_smote[:10])\n",
    "resultados_20.insert(0, ('ID_CORRELATIVO', 'ATTRITION'))\n",
    "print(resultados_20[:10])\n",
    "resultados_all.insert(0, ('ID_CORRELATIVO', 'ATTRITION'))\n",
    "print(resultados_all[:10])"
   ]
  },
  {
   "cell_type": "code",
   "execution_count": 23,
   "metadata": {
    "collapsed": true
   },
   "outputs": [],
   "source": [
    "with open(\"imputacion_factorizacion_15_SMOTE_estandarizacion_SVM.csv\", 'w') as resultFile:\n",
    "       wr = csv.writer(resultFile, dialect='excel')\n",
    "       for row in resultados_smote:\n",
    "           wr.writerow(row)\n",
    "with open(\"imputacion_factorizacion_15_NoBalanceado_estandarizacion_SVM.csv\", 'w') as resultFile:\n",
    "       wr = csv.writer(resultFile, dialect='excel')\n",
    "       for row in resultados_20:\n",
    "           wr.writerow(row)\n",
    "with open(\"imputacion_factorizacion_allVar_NoBalanceado_estandarizacion_SVM.csv\", 'w') as resultFile:\n",
    "       wr = csv.writer(resultFile, dialect='excel')\n",
    "       for row in resultados_all:\n",
    "           wr.writerow(row)"
   ]
  },
  {
   "cell_type": "code",
   "execution_count": 26,
   "metadata": {
    "collapsed": false
   },
   "outputs": [
    {
     "data": {
      "text/plain": [
       "LogisticRegression(C=1.0, class_weight=None, dual=False, fit_intercept=True,\n",
       "          intercept_scaling=1, max_iter=100, multi_class='ovr', n_jobs=1,\n",
       "          penalty='l2', random_state=0, solver='liblinear', tol=0.0001,\n",
       "          verbose=0, warm_start=False)"
      ]
     },
     "execution_count": 26,
     "metadata": {},
     "output_type": "execute_result"
    }
   ],
   "source": [
    "#Probando Regresion Logistica\n",
    "from sklearn.linear_model import LogisticRegression\n",
    "classifier_20 = LogisticRegression(random_state=0)\n",
    "classifier_all = LogisticRegression(random_state=0)\n",
    "\n",
    "#Construimos el modelo sobre los datos de entrenamiento\n",
    "classifier_20.fit(xx_train_std,y_train)\n",
    "classifier_all.fit(X_train_std,y_train)"
   ]
  },
  {
   "cell_type": "code",
   "execution_count": 27,
   "metadata": {
    "collapsed": false
   },
   "outputs": [
    {
     "name": "stdout",
     "output_type": "stream",
     "text": [
      "prediccion_20_log 265 (30000,)\n",
      "prediccion_proba_20_log [ 29042.37846512    957.62153489] (30000, 2)\n",
      "prediccion_all_log 2426 (30000,)\n",
      "prediccion_proba_all_log [ 26721.24817004   3278.75182996] (30000, 2)\n"
     ]
    },
    {
     "name": "stderr",
     "output_type": "stream",
     "text": [
      "/home/villacorta/anaconda3/lib/python3.6/site-packages/sklearn/linear_model/base.py:340: RuntimeWarning: overflow encountered in exp\n",
      "  np.exp(prob, prob)\n"
     ]
    }
   ],
   "source": [
    "prediccion_20_log = classifier_20.predict(xx_predic)\n",
    "prediccion_proba_20_log = classifier_20.predict_proba(xx_predic)\n",
    "print(\"prediccion_20_log\", sum(prediccion_20_log), prediccion_20_log.shape)\n",
    "print(\"prediccion_proba_20_log\", sum(prediccion_proba_20_log), prediccion_proba_20_log.shape)\n",
    "#////////////////////////////////////////////////\n",
    "prediccion_all_log = classifier_all.predict(X_predic)\n",
    "prediccion_proba_all_log = classifier_all.predict_proba(X_predic)\n",
    "print(\"prediccion_all_log\", sum(prediccion_all_log), prediccion_all_log.shape)\n",
    "print(\"prediccion_proba_all_log\", sum(prediccion_proba_all_log), prediccion_proba_all_log.shape)"
   ]
  },
  {
   "cell_type": "code",
   "execution_count": 29,
   "metadata": {
    "collapsed": false
   },
   "outputs": [],
   "source": [
    "result_20_log = [float(\"{0:.4f}\".format(_)) for _ in list(zip(*prediccion_proba_20_log))[1]]\n",
    "result_all_log = [float(\"{0:.4f}\".format(_)) for _ in list(zip(*prediccion_proba_all_log))[1]]\n",
    "\n",
    "resultados_20_log = list(zip(list(idd), result_20_log))\n",
    "resultados_all_log = list(zip(list(idd), result_all_log))"
   ]
  },
  {
   "cell_type": "code",
   "execution_count": 30,
   "metadata": {
    "collapsed": false
   },
   "outputs": [
    {
     "name": "stdout",
     "output_type": "stream",
     "text": [
      "[('ID_CORRELATIVO', 'ATTRITION'), (47411, 0.0002), (39861, 0.0564), (38898, 0.0004), (50927, 0.0009), (32969, 0.0415), (89661, 0.0044), (12197, 0.0031), (71520, 0.0), (59759, 0.0168)]\n",
      "[('ID_CORRELATIVO', 'ATTRITION'), (47411, 0.004), (39861, 0.0888), (38898, 0.0032), (50927, 0.0027), (32969, 0.0527), (89661, 0.0064), (12197, 0.005), (71520, 1.0), (59759, 0.0167)]\n"
     ]
    }
   ],
   "source": [
    "import csv\n",
    "resultados_20_log.insert(0, ('ID_CORRELATIVO', 'ATTRITION'))\n",
    "print(resultados_20_log[:10])\n",
    "resultados_all_log.insert(0, ('ID_CORRELATIVO', 'ATTRITION'))\n",
    "print(resultados_all_log[:10])"
   ]
  },
  {
   "cell_type": "code",
   "execution_count": 31,
   "metadata": {
    "collapsed": true
   },
   "outputs": [],
   "source": [
    "with open(\"imputacion_factorizacion_20_NoBalanceado_RegresionLogistica.csv\", 'w') as resultFile:\n",
    "       wr = csv.writer(resultFile, dialect='excel')\n",
    "       for row in resultados_20_log:\n",
    "           wr.writerow(row)\n",
    "with open(\"imputacion_factorizacion_allVar_NoBalanceado_RegresionLogistica.csv\", 'w') as resultFile:\n",
    "       wr = csv.writer(resultFile, dialect='excel')\n",
    "       for row in resultados_all_log:\n",
    "           wr.writerow(row)"
   ]
  },
  {
   "cell_type": "code",
   "execution_count": null,
   "metadata": {
    "collapsed": true
   },
   "outputs": [],
   "source": []
  }
 ],
 "metadata": {
  "kernelspec": {
   "display_name": "Python 3",
   "language": "python",
   "name": "python3"
  },
  "language_info": {
   "codemirror_mode": {
    "name": "ipython",
    "version": 3
   },
   "file_extension": ".py",
   "mimetype": "text/x-python",
   "name": "python",
   "nbconvert_exporter": "python",
   "pygments_lexer": "ipython3",
   "version": "3.6.4"
  }
 },
 "nbformat": 4,
 "nbformat_minor": 2
}
