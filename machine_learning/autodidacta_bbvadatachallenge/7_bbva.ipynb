{
 "cells": [
  {
   "cell_type": "code",
   "execution_count": 1,
   "metadata": {
    "collapsed": false
   },
   "outputs": [
    {
     "name": "stdout",
     "output_type": "stream",
     "text": [
      "Data Train:  (70000, 53)\n",
      "Data Test:   (30000, 52)\n"
     ]
    }
   ],
   "source": [
    "#Importaciones basicas\n",
    "import pandas as pd\n",
    "import numpy as np \n",
    "import matplotlib.pyplot as plt \n",
    "# graficos incrustados\n",
    "%matplotlib inline\n",
    "\n",
    "#Carga de los CSV\n",
    "BBVA_data = pd.read_csv('train_clientes.csv', header=0)\n",
    "print(\"Data Train: \", BBVA_data.shape)\n",
    "BBVA_test = pd.read_csv('test_clientes.csv', header=0)\n",
    "print(\"Data Test:  \", BBVA_test.shape)"
   ]
  },
  {
   "cell_type": "code",
   "execution_count": 2,
   "metadata": {
    "collapsed": false
   },
   "outputs": [
    {
     "name": "stdout",
     "output_type": "stream",
     "text": [
      "Clean Data Test:  (70000, 53) False\n",
      "Clean Data Test:  (30000, 52) False\n"
     ]
    }
   ],
   "source": [
    "def completar_data(BBVA):\n",
    "    if BBVA.isnull().any().any():\n",
    "        tipos = BBVA.columns.to_series().groupby(BBVA.dtypes).groups\n",
    "        ctext = tipos[np.dtype('object')]\n",
    "        columnas = BBVA.columns  # lista de todas las columnas\n",
    "        cnum = list(set(columnas) - set(ctext))\n",
    "        #COmpletando los valores nulos de colummnas numericas con la media\n",
    "        for c in cnum:\n",
    "            mean = BBVA[c].mean()\n",
    "            BBVA[c] = BBVA[c].fillna(mean)\n",
    "        # Completando valores nulos de columnas categóricas con la moda\n",
    "        for c in ctext:\n",
    "            mode = BBVA[c].mode()[0]\n",
    "            BBVA[c] = BBVA[c].fillna(mode)\n",
    "        print(\"Clean Data Test: \", BBVA.shape, BBVA.isnull().any().any())\n",
    "\n",
    "completar_data(BBVA_data)\n",
    "completar_data(BBVA_test)"
   ]
  },
  {
   "cell_type": "code",
   "execution_count": 3,
   "metadata": {
    "collapsed": false
   },
   "outputs": [
    {
     "name": "stdout",
     "output_type": "stream",
     "text": [
      "<class 'pandas.core.frame.DataFrame'> (70000, 53)\n",
      "<class 'pandas.core.frame.DataFrame'> (30000, 52)\n"
     ]
    }
   ],
   "source": [
    "def factorizacion_data(datus):\n",
    "    #Pasando los datos de edad a rango de 10 años\n",
    "    EDAD2 = pd.cut(datus['EDAD'], range(0, 150, 10))\n",
    "    datus['EDAD'] = EDAD2\n",
    "    \n",
    "    #Factorizando la columna EDAD\n",
    "    datus['EDAD'], _ = pd.factorize(datus['EDAD'])\n",
    "    \n",
    "    #Factorizar las demas columnas de datos categoricos\n",
    "    tipos = datus.columns.to_series().groupby(datus.dtypes).groups\n",
    "    ctext = tipos[np.dtype('object')]\n",
    "    for c in ctext:\n",
    "        datus[c], _ = pd.factorize(datus[c])\n",
    "    print(type(datus), datus.shape)\n",
    "    return datus\n",
    "\n",
    "BBVA_data = factorizacion_data(BBVA_data)\n",
    "BBVA_test = factorizacion_data(BBVA_test)"
   ]
  },
  {
   "cell_type": "code",
   "execution_count": 4,
   "metadata": {
    "collapsed": false
   },
   "outputs": [
    {
     "name": "stdout",
     "output_type": "stream",
     "text": [
      "False\n",
      "False\n"
     ]
    }
   ],
   "source": [
    "print(BBVA_data.isnull().any().any())\n",
    "print(BBVA_test.isnull().any().any())"
   ]
  },
  {
   "cell_type": "code",
   "execution_count": 5,
   "metadata": {
    "collapsed": false
   },
   "outputs": [
    {
     "name": "stdout",
     "output_type": "stream",
     "text": [
      "<class 'pandas.core.frame.DataFrame'> (70000, 51)\n",
      "<class 'pandas.core.frame.DataFrame'> (30000, 51)\n",
      "<class 'numpy.ndarray'> (70000,)\n"
     ]
    }
   ],
   "source": [
    "X_train = BBVA_data.drop(['ID_CORRELATIVO', 'ATTRITION'], axis=1)\n",
    "print(type(X_train), X_train.shape)\n",
    "X_predic = BBVA_test.drop(['ID_CORRELATIVO'], axis=1)\n",
    "print(type(X_predic), X_predic.shape)\n",
    "y_train = BBVA_data['ATTRITION'].values\n",
    "print(type(y_train), y_train.shape)"
   ]
  },
  {
   "cell_type": "code",
   "execution_count": 6,
   "metadata": {
    "collapsed": false
   },
   "outputs": [],
   "source": [
    "from sklearn.preprocessing import StandardScaler\n",
    "sc_X = StandardScaler(copy=True, with_mean=True, with_std=True)\n",
    "xx_train_std = sc_X.fit_transform(X_train.astype(float))\n",
    "xx_predic_std = sc_X.transform(X_predic.astype(float))\n",
    "\n",
    "from sklearn.preprocessing import MinMaxScaler\n",
    "sc_MM = MinMaxScaler()\n",
    "xx_train_mm = sc_MM.fit_transform(X_train.astype(float))\n",
    "xx_predic_mm = sc_MM.transform(X_predic.astype(float))"
   ]
  },
  {
   "cell_type": "code",
   "execution_count": 7,
   "metadata": {
    "collapsed": false
   },
   "outputs": [
    {
     "data": {
      "text/plain": [
       "RandomForestClassifier(bootstrap=True, class_weight=None, criterion='gini',\n",
       "            max_depth=None, max_features='auto', max_leaf_nodes=None,\n",
       "            min_impurity_decrease=0.0, min_impurity_split=None,\n",
       "            min_samples_leaf=1, min_samples_split=2,\n",
       "            min_weight_fraction_leaf=0.0, n_estimators=25, n_jobs=2,\n",
       "            oob_score=False, random_state=None, verbose=0,\n",
       "            warm_start=False)"
      ]
     },
     "execution_count": 7,
     "metadata": {},
     "output_type": "execute_result"
    }
   ],
   "source": [
    "#Probando con la data RECIEN IMPUTADA - FACTORIZADA - STANDARDSCALER O MINMAXSCALER\n",
    "from sklearn.ensemble import RandomForestClassifier\n",
    "clf_forest_gini = RandomForestClassifier(n_estimators=25, n_jobs=2)\n",
    "clf_forest_gini.fit(xx_train_std, y_train)\n",
    "clf_forest_entropy = RandomForestClassifier(n_estimators=25, n_jobs=2)\n",
    "clf_forest_entropy.fit(xx_train_mm, y_train)"
   ]
  },
  {
   "cell_type": "code",
   "execution_count": 8,
   "metadata": {
    "collapsed": true
   },
   "outputs": [],
   "source": [
    "result_gini = clf_forest_gini.predict_proba(xx_predic_std)\n",
    "result_entropy = clf_forest_entropy.predict_proba(xx_predic_mm)"
   ]
  },
  {
   "cell_type": "code",
   "execution_count": 9,
   "metadata": {
    "collapsed": true
   },
   "outputs": [],
   "source": [
    "result_gini = [float(\"{0:.4f}\".format(_)) for _ in list(zip(*result_gini))[1]]\n",
    "result_entropy = [float(\"{0:.4f}\".format(_)) for _ in list(zip(*result_entropy))[1]]"
   ]
  },
  {
   "cell_type": "code",
   "execution_count": 10,
   "metadata": {
    "collapsed": false
   },
   "outputs": [
    {
     "data": {
      "text/plain": [
       "(30000,)"
      ]
     },
     "execution_count": 10,
     "metadata": {},
     "output_type": "execute_result"
    }
   ],
   "source": [
    "idd = BBVA_test['ID_CORRELATIVO']\n",
    "idd.shape"
   ]
  },
  {
   "cell_type": "code",
   "execution_count": 11,
   "metadata": {
    "collapsed": false
   },
   "outputs": [
    {
     "name": "stdout",
     "output_type": "stream",
     "text": [
      "[('ID_CORRELATIVO', 'ATTRITION'), (47411, 0.12), (39861, 0.52), (38898, 0.04), (50927, 0.0), (32969, 0.0), (89661, 0.32), (12197, 0.32), (71520, 0.08), (59759, 0.08)]\n",
      "[('ID_CORRELATIVO', 'ATTRITION'), (47411, 0.16), (39861, 0.44), (38898, 0.0), (50927, 0.0), (32969, 0.16), (89661, 0.32), (12197, 0.16), (71520, 0.08), (59759, 0.0)]\n"
     ]
    }
   ],
   "source": [
    "resultados_gini = list(zip(list(idd), result_gini))\n",
    "resultados_gini.insert(0, ('ID_CORRELATIVO', 'ATTRITION'))\n",
    "print(resultados_gini[:10])\n",
    "\n",
    "resultados_entropy = list(zip(list(idd), result_entropy))\n",
    "resultados_entropy.insert(0, ('ID_CORRELATIVO', 'ATTRITION'))\n",
    "print(resultados_entropy[:10])"
   ]
  },
  {
   "cell_type": "code",
   "execution_count": 12,
   "metadata": {
    "collapsed": true
   },
   "outputs": [],
   "source": [
    "import csv\n",
    "with open(\"8_imputacion_factorizacion_allVar_STD2_RF25gini.csv\", 'w') as resultFile:\n",
    "       wr = csv.writer(resultFile, dialect='excel')\n",
    "       for row in resultados_gini:\n",
    "           wr.writerow(row)\n",
    "with open(\"8_imputacion_factorizacion_allVar_MINMAX2_RF25gini.csv\", 'w') as resultFile:\n",
    "       wr = csv.writer(resultFile, dialect='excel')\n",
    "       for row in resultados_entropy:\n",
    "           wr.writerow(row)"
   ]
  },
  {
   "cell_type": "code",
   "execution_count": 15,
   "metadata": {
    "collapsed": false
   },
   "outputs": [
    {
     "data": {
      "text/plain": [
       "SVC(C=1.0, cache_size=200, class_weight=None, coef0=0.0,\n",
       "  decision_function_shape='ovr', degree=3, gamma='auto', kernel='poly',\n",
       "  max_iter=-1, probability=True, random_state=None, shrinking=True,\n",
       "  tol=0.001, verbose=False)"
      ]
     },
     "execution_count": 15,
     "metadata": {},
     "output_type": "execute_result"
    }
   ],
   "source": [
    "#////////////////////////////////////// SVM\n",
    "from sklearn import svm\n",
    "clf_forest_gini = svm.SVC(probability=True)\n",
    "clf_forest_gini.fit(xx_train_std, y_train)\n",
    "clf_forest_entropy = svm.SVC(probability=True, kernel=\"poly\")\n",
    "clf_forest_entropy.fit(xx_train_mm, y_train)"
   ]
  },
  {
   "cell_type": "code",
   "execution_count": 16,
   "metadata": {
    "collapsed": false
   },
   "outputs": [],
   "source": [
    "result_gini = clf_forest_gini.predict_proba(xx_predic_std)\n",
    "result_entropy = clf_forest_entropy.predict_proba(xx_predic_mm)"
   ]
  },
  {
   "cell_type": "code",
   "execution_count": 17,
   "metadata": {
    "collapsed": false
   },
   "outputs": [
    {
     "name": "stdout",
     "output_type": "stream",
     "text": [
      "(30000,)\n"
     ]
    }
   ],
   "source": [
    "result_gini = [float(\"{0:.4f}\".format(_)) for _ in list(zip(*result_gini))[1]]\n",
    "result_entropy = [float(\"{0:.4f}\".format(_)) for _ in list(zip(*result_entropy))[1]]\n",
    "idd = BBVA_test['ID_CORRELATIVO']\n",
    "print(idd.shape)"
   ]
  },
  {
   "cell_type": "code",
   "execution_count": 18,
   "metadata": {
    "collapsed": false
   },
   "outputs": [
    {
     "name": "stdout",
     "output_type": "stream",
     "text": [
      "[('ID_CORRELATIVO', 'ATTRITION'), (47411, 0.253), (39861, 0.7479), (38898, 0.1294), (50927, 0.0837), (32969, 0.1281), (89661, 0.1407), (12197, 0.1325), (71520, 0.1573), (59759, 0.1306)]\n",
      "[('ID_CORRELATIVO', 'ATTRITION'), (47411, 0.1895), (39861, 0.6265), (38898, 0.2731), (50927, 0.1622), (32969, 0.1804), (89661, 0.1557), (12197, 0.1559), (71520, 0.0595), (59759, 0.1831)]\n"
     ]
    }
   ],
   "source": [
    "resultados_gini = list(zip(list(idd), result_gini))\n",
    "resultados_gini.insert(0, ('ID_CORRELATIVO', 'ATTRITION'))\n",
    "print(resultados_gini[:10])\n",
    "\n",
    "resultados_entropy = list(zip(list(idd), result_entropy))\n",
    "resultados_entropy.insert(0, ('ID_CORRELATIVO', 'ATTRITION'))\n",
    "print(resultados_entropy[:10])"
   ]
  },
  {
   "cell_type": "code",
   "execution_count": 22,
   "metadata": {
    "collapsed": true
   },
   "outputs": [],
   "source": [
    "import csv\n",
    "with open(\"9_imputacion_factorizacion_allVar_STD_SVMrbf.csv\", 'w') as resultFile:\n",
    "       wr = csv.writer(resultFile, dialect='excel')\n",
    "       for row in resultados_gini:\n",
    "           wr.writerow(row)\n",
    "with open(\"9_imputacion_factorizacion_allVar_MINMAX2_SVMpoly.csv\", 'w') as resultFile:\n",
    "       wr = csv.writer(resultFile, dialect='excel')\n",
    "       for row in resultados_entropy:\n",
    "           wr.writerow(row)"
   ]
  },
  {
   "cell_type": "code",
   "execution_count": 20,
   "metadata": {
    "collapsed": false
   },
   "outputs": [
    {
     "data": {
      "text/plain": [
       "SVC(C=1.0, cache_size=200, class_weight=None, coef0=0.0,\n",
       "  decision_function_shape='ovr', degree=3, gamma='auto', kernel='poly',\n",
       "  max_iter=-1, probability=True, random_state=None, shrinking=True,\n",
       "  tol=0.001, verbose=False)"
      ]
     },
     "execution_count": 20,
     "metadata": {},
     "output_type": "execute_result"
    }
   ],
   "source": [
    "clf_forest_gini = svm.SVC(probability=True)\n",
    "clf_forest_gini.fit(xx_train_mm, y_train)\n",
    "clf_forest_entropy = svm.SVC(probability=True, kernel=\"poly\")\n",
    "clf_forest_entropy.fit(xx_train_std, y_train)"
   ]
  },
  {
   "cell_type": "code",
   "execution_count": 23,
   "metadata": {
    "collapsed": true
   },
   "outputs": [],
   "source": [
    "result_gini = clf_forest_gini.predict_proba(xx_predic_mm)\n",
    "result_entropy = clf_forest_entropy.predict_proba(xx_predic_std)"
   ]
  },
  {
   "cell_type": "code",
   "execution_count": 24,
   "metadata": {
    "collapsed": false
   },
   "outputs": [
    {
     "name": "stdout",
     "output_type": "stream",
     "text": [
      "(30000,)\n"
     ]
    }
   ],
   "source": [
    "result_gini = [float(\"{0:.4f}\".format(_)) for _ in list(zip(*result_gini))[1]]\n",
    "result_entropy = [float(\"{0:.4f}\".format(_)) for _ in list(zip(*result_entropy))[1]]\n",
    "idd = BBVA_test['ID_CORRELATIVO']\n",
    "print(idd.shape)"
   ]
  },
  {
   "cell_type": "code",
   "execution_count": 25,
   "metadata": {
    "collapsed": false
   },
   "outputs": [
    {
     "name": "stdout",
     "output_type": "stream",
     "text": [
      "[('ID_CORRELATIVO', 'ATTRITION'), (47411, 0.1327), (39861, 0.9042), (38898, 0.1925), (50927, 0.141), (32969, 0.0977), (89661, 0.1738), (12197, 0.1652), (71520, 0.1635), (59759, 0.1672)]\n",
      "[('ID_CORRELATIVO', 'ATTRITION'), (47411, 0.328), (39861, 0.3607), (38898, 0.138), (50927, 0.1363), (32969, 0.1539), (89661, 0.163), (12197, 0.1635), (71520, 0.0006), (59759, 0.1635)]\n"
     ]
    }
   ],
   "source": [
    "resultados_gini = list(zip(list(idd), result_gini))\n",
    "resultados_gini.insert(0, ('ID_CORRELATIVO', 'ATTRITION'))\n",
    "print(resultados_gini[:10])\n",
    "\n",
    "resultados_entropy = list(zip(list(idd), result_entropy))\n",
    "resultados_entropy.insert(0, ('ID_CORRELATIVO', 'ATTRITION'))\n",
    "print(resultados_entropy[:10])"
   ]
  },
  {
   "cell_type": "code",
   "execution_count": 26,
   "metadata": {
    "collapsed": true
   },
   "outputs": [],
   "source": [
    "import csv\n",
    "with open(\"9_imputacion_factorizacion_allVar_MINMAX2_SVMrbf.csv\", 'w') as resultFile:\n",
    "       wr = csv.writer(resultFile, dialect='excel')\n",
    "       for row in resultados_gini:\n",
    "           wr.writerow(row)\n",
    "with open(\"9_imputacion_factorizacion_allVar_STD2_SVMpoly.csv\", 'w') as resultFile:\n",
    "       wr = csv.writer(resultFile, dialect='excel')\n",
    "       for row in resultados_entropy:\n",
    "           wr.writerow(row)"
   ]
  },
  {
   "cell_type": "code",
   "execution_count": null,
   "metadata": {
    "collapsed": true
   },
   "outputs": [],
   "source": []
  }
 ],
 "metadata": {
  "kernelspec": {
   "display_name": "Python 3",
   "language": "python",
   "name": "python3"
  },
  "language_info": {
   "codemirror_mode": {
    "name": "ipython",
    "version": 3
   },
   "file_extension": ".py",
   "mimetype": "text/x-python",
   "name": "python",
   "nbconvert_exporter": "python",
   "pygments_lexer": "ipython3",
   "version": "3.6.4"
  }
 },
 "nbformat": 4,
 "nbformat_minor": 2
}
