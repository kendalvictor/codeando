{
 "cells": [
  {
   "cell_type": "code",
   "execution_count": 1,
   "metadata": {
    "collapsed": false
   },
   "outputs": [
    {
     "name": "stdout",
     "output_type": "stream",
     "text": [
      "Data Train:  (70000, 53)\n",
      "Data Test:   (30000, 52)\n"
     ]
    }
   ],
   "source": [
    "from sklearn.neural_network import MLPClassifier\n",
    "import pandas as pd\n",
    "import numpy as np \n",
    "import matplotlib.pyplot as plt \n",
    "# graficos incrustados\n",
    "%matplotlib inline\n",
    "\n",
    "#Carga de los CSV\n",
    "BBVA_data = pd.read_csv('train_clientes.csv', header=0)\n",
    "print(\"Data Train: \", BBVA_data.shape)\n",
    "BBVA_test = pd.read_csv('test_clientes.csv', header=0)\n",
    "print(\"Data Test:  \", BBVA_test.shape)"
   ]
  },
  {
   "cell_type": "code",
   "execution_count": 2,
   "metadata": {
    "collapsed": false
   },
   "outputs": [
    {
     "name": "stdout",
     "output_type": "stream",
     "text": [
      "<class 'pandas.core.frame.DataFrame'> (70000, 47)\n",
      "<class 'pandas.core.frame.DataFrame'> (30000, 47)\n",
      "<class 'numpy.ndarray'> (70000,)\n"
     ]
    }
   ],
   "source": [
    "X_train = BBVA_data.drop(['ID_CORRELATIVO', 'ATTRITION', 'RANG_INGRESO', 'FLAG_LIMA_PROVINCIA', 'EDAD', 'ANTIGUEDAD'], axis=1)\n",
    "print(type(X_train), X_train.shape)\n",
    "X_predic = BBVA_test.drop(['ID_CORRELATIVO','RANG_INGRESO', 'FLAG_LIMA_PROVINCIA', 'EDAD', 'ANTIGUEDAD'], axis=1)\n",
    "print(type(X_predic), X_predic.shape)\n",
    "y_train = BBVA_data['ATTRITION'].values\n",
    "print(type(y_train), y_train.shape)"
   ]
  },
  {
   "cell_type": "code",
   "execution_count": 3,
   "metadata": {
    "collapsed": false
   },
   "outputs": [
    {
     "name": "stdout",
     "output_type": "stream",
     "text": [
      "False\n",
      "False\n"
     ]
    }
   ],
   "source": [
    "print(X_train.isnull().any().any())\n",
    "print(X_predic.isnull().any().any())"
   ]
  },
  {
   "cell_type": "code",
   "execution_count": 4,
   "metadata": {
    "collapsed": false
   },
   "outputs": [
    {
     "name": "stdout",
     "output_type": "stream",
     "text": [
      "<class 'pandas.core.frame.DataFrame'> (70000, 47)\n",
      "<class 'pandas.core.frame.DataFrame'> (30000, 47)\n"
     ]
    }
   ],
   "source": [
    "def factorizacion_data(datus):\n",
    "    #Pasando los datos de edad a rango de 10 años\n",
    "    #EDAD2 = pd.cut(datus['EDAD'], range(0, 150, 10))\n",
    "    #datus['EDAD'] = EDAD2\n",
    "    \n",
    "    #Factorizando la columna EDAD\n",
    "    #datus['EDAD'], _ = pd.factorize(datus['EDAD'])\n",
    "    \n",
    "    #Factorizar las demas columnas de datos categoricos\n",
    "    tipos = datus.columns.to_series().groupby(datus.dtypes).groups\n",
    "    ctext = tipos[np.dtype('object')]\n",
    "    for c in ctext:\n",
    "        datus[c], _ = pd.factorize(datus[c])\n",
    "    print(type(datus), datus.shape)\n",
    "    return datus\n",
    "\n",
    "X_train = factorizacion_data(X_train)\n",
    "X_predic = factorizacion_data(X_predic)"
   ]
  },
  {
   "cell_type": "code",
   "execution_count": 5,
   "metadata": {
    "collapsed": false
   },
   "outputs": [
    {
     "data": {
      "text/plain": [
       "(30000,)"
      ]
     },
     "execution_count": 5,
     "metadata": {},
     "output_type": "execute_result"
    }
   ],
   "source": [
    "from sklearn.preprocessing import StandardScaler\n",
    "sc_X = StandardScaler(copy=True, with_mean=True, with_std=True)\n",
    "xx_train_std = sc_X.fit_transform(X_train.astype(float))\n",
    "xx_predic_std = sc_X.transform(X_predic.astype(float))\n",
    "\n",
    "from sklearn.preprocessing import MinMaxScaler\n",
    "sc_MM = MinMaxScaler()\n",
    "xx_train_mm = sc_MM.fit_transform(X_train.astype(float))\n",
    "xx_predic_mm = sc_MM.transform(X_predic.astype(float))\n",
    "\n",
    "idd = BBVA_test['ID_CORRELATIVO']\n",
    "idd.shape"
   ]
  },
  {
   "cell_type": "code",
   "execution_count": 7,
   "metadata": {
    "collapsed": true
   },
   "outputs": [],
   "source": [
    "initial = 'quitcolumNULL_imputacion_factorizacion_allVar_'\n",
    "import csv\n",
    "def generate_csv(clf, predic, name):\n",
    "    name = initial + name\n",
    "    result = clf.predict_proba(predic)\n",
    "    result = [float(\"{0:.5f}\".format(_)) for _ in list(zip(*result))[1]]\n",
    "    result = list(zip(list(idd), result))\n",
    "    result.insert(0, ('ID_CORRELATIVO', 'ATTRITION'))\n",
    "    with open(\"{}.csv\".format(name), 'w') as resultFile:\n",
    "       wr = csv.writer(resultFile, dialect='excel')\n",
    "       for row in result:\n",
    "           wr.writerow(row)"
   ]
  },
  {
   "cell_type": "code",
   "execution_count": 8,
   "metadata": {
    "collapsed": false
   },
   "outputs": [
    {
     "name": "stdout",
     "output_type": "stream",
     "text": [
      "quitcolumNULL///////////////////////////////////////////////STD2_RedNeuronal_sgd\n",
      "quitcolumNULL///////////////////////////////////////////////MINMAX2_RedNeuronal_sgd\n"
     ]
    }
   ],
   "source": [
    "list_train = [(xx_train_std, xx_predic_std), (xx_train_mm, xx_predic_mm)]\n",
    "\n",
    "for ixx, train in enumerate(list_train):\n",
    "    red = MLPClassifier(max_iter=1000000000, hidden_layer_sizes=(100,100), alpha=0.0000000001, solver='sgd', random_state=2)\n",
    "    red.fit(train[0], y_train)\n",
    "    name ='{0}_RedNeuronal_{1}'.format(\n",
    "        'STD2' if ixx == 0 else 'MINMAX2', 'sgd')\n",
    "    generate_csv(red, train[1], name)\n",
    "    print(\"quitcolumNULL///////////////////////////////////////////////{0}\".format(name))"
   ]
  },
  {
   "cell_type": "code",
   "execution_count": 9,
   "metadata": {
    "collapsed": false
   },
   "outputs": [
    {
     "name": "stdout",
     "output_type": "stream",
     "text": [
      "quitcolumNULL///////////////////////////////////////////////STD2_RandomForest_arboles250_sp25\n",
      "quitcolumNULL///////////////////////////////////////////////MINMAX2_RandomForest_arboles250_sp25\n"
     ]
    }
   ],
   "source": [
    "list_train = [(xx_train_std, xx_predic_std), (xx_train_mm, xx_predic_mm)]\n",
    "from sklearn.ensemble import RandomForestClassifier\n",
    "for ixx, train in enumerate(list_train):\n",
    "    red =  RandomForestClassifier(n_estimators=250, n_jobs=2, min_samples_split=25,\n",
    "                                      max_features=0.99, random_state=2)\n",
    "    red.fit(train[0], y_train)\n",
    "    name ='{0}_RandomForest_{1}'.format(\n",
    "        'STD2' if ixx == 0 else 'MINMAX2', 'arboles250_sp25')\n",
    "    generate_csv(red, train[1], name)\n",
    "    print(\"quitcolumNULL///////////////////////////////////////////////{0}\".format(name))\n",
    "    "
   ]
  },
  {
   "cell_type": "code",
   "execution_count": 10,
   "metadata": {
    "collapsed": false
   },
   "outputs": [
    {
     "name": "stdout",
     "output_type": "stream",
     "text": [
      "quitcolumNULL///////////////////////////////////////////////STD2_RandomForest_arboles250_sp45\n",
      "quitcolumNULL///////////////////////////////////////////////MINMAX2_RandomForest_arboles250_sp45\n"
     ]
    }
   ],
   "source": [
    "list_train = [(xx_train_std, xx_predic_std), (xx_train_mm, xx_predic_mm)]\n",
    "from sklearn.ensemble import RandomForestClassifier\n",
    "for ixx, train in enumerate(list_train):\n",
    "    red =  RandomForestClassifier(n_estimators=250, n_jobs=2, min_samples_split=45,\n",
    "                                      max_features=0.99, random_state=2)\n",
    "    red.fit(train[0], y_train)\n",
    "    name ='{0}_RandomForest_{1}'.format(\n",
    "        'STD2' if ixx == 0 else 'MINMAX2', 'arboles250_sp45')\n",
    "    generate_csv(red, train[1], name)\n",
    "    print(\"quitcolumNULL///////////////////////////////////////////////{0}\".format(name))"
   ]
  },
  {
   "cell_type": "code",
   "execution_count": null,
   "metadata": {
    "collapsed": true
   },
   "outputs": [],
   "source": []
  }
 ],
 "metadata": {
  "kernelspec": {
   "display_name": "Python 3",
   "language": "python",
   "name": "python3"
  },
  "language_info": {
   "codemirror_mode": {
    "name": "ipython",
    "version": 3
   },
   "file_extension": ".py",
   "mimetype": "text/x-python",
   "name": "python",
   "nbconvert_exporter": "python",
   "pygments_lexer": "ipython3",
   "version": "3.6.4"
  }
 },
 "nbformat": 4,
 "nbformat_minor": 2
}
