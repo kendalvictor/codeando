{
 "cells": [
  {
   "cell_type": "code",
   "execution_count": 1,
   "metadata": {
    "collapsed": false
   },
   "outputs": [
    {
     "name": "stdout",
     "output_type": "stream",
     "text": [
      "Data Train:  (70000, 53)\n",
      "Data Test:   (30000, 52)\n",
      "Clean Data Test:  (70000, 53) False\n",
      "Clean Data Test:  (30000, 52) False\n",
      "<class 'pandas.core.frame.DataFrame'> (70000, 53)\n",
      "<class 'pandas.core.frame.DataFrame'> (30000, 52)\n",
      "False\n",
      "False\n",
      "<class 'numpy.ndarray'> (70000, 51)\n",
      "<class 'numpy.ndarray'> (30000, 51)\n",
      "<class 'numpy.ndarray'> (70000,)\n"
     ]
    }
   ],
   "source": [
    "from sklearn.neural_network import MLPClassifier\n",
    "import pandas as pd\n",
    "import numpy as np \n",
    "import matplotlib.pyplot as plt \n",
    "# graficos incrustados\n",
    "%matplotlib inline\n",
    "\n",
    "#Carga de los CSV\n",
    "BBVA_data = pd.read_csv('train_clientes.csv', header=0)\n",
    "print(\"Data Train: \", BBVA_data.shape)\n",
    "BBVA_test = pd.read_csv('test_clientes.csv', header=0)\n",
    "print(\"Data Test:  \", BBVA_test.shape)\n",
    "\n",
    "def completar_data(BBVA):\n",
    "    if BBVA.isnull().any().any():\n",
    "        tipos = BBVA.columns.to_series().groupby(BBVA.dtypes).groups\n",
    "        ctext = tipos[np.dtype('object')]\n",
    "        columnas = BBVA.columns  # lista de todas las columnas\n",
    "        cnum = list(set(columnas) - set(ctext))\n",
    "        #COmpletando los valores nulos de colummnas numericas con la media\n",
    "        for c in cnum:\n",
    "            mean = BBVA[c].mean()\n",
    "            BBVA[c] = BBVA[c].fillna(mean)\n",
    "        # Completando valores nulos de columnas categóricas con la moda\n",
    "        for c in ctext:\n",
    "            mode = BBVA[c].mode()[0]\n",
    "            BBVA[c] = BBVA[c].fillna(mode)\n",
    "        print(\"Clean Data Test: \", BBVA.shape, BBVA.isnull().any().any())\n",
    "\n",
    "completar_data(BBVA_data)\n",
    "completar_data(BBVA_test)\n",
    "\n",
    "def factorizacion_data(datus):\n",
    "    #Pasando los datos de edad a rango de 10 años\n",
    "    EDAD2 = pd.cut(datus['EDAD'], range(0, 150, 10))\n",
    "    datus['EDAD'] = EDAD2\n",
    "    \n",
    "    #Factorizando la columna EDAD\n",
    "    datus['EDAD'], _ = pd.factorize(datus['EDAD'])\n",
    "    \n",
    "    #Factorizar las demas columnas de datos categoricos\n",
    "    tipos = datus.columns.to_series().groupby(datus.dtypes).groups\n",
    "    ctext = tipos[np.dtype('object')]\n",
    "    for c in ctext:\n",
    "        datus[c], _ = pd.factorize(datus[c])\n",
    "    print(type(datus), datus.shape)\n",
    "    return datus\n",
    "\n",
    "BBVA_data = factorizacion_data(BBVA_data)\n",
    "BBVA_test = factorizacion_data(BBVA_test)\n",
    "print(BBVA_data.isnull().any().any())\n",
    "print(BBVA_test.isnull().any().any())\n",
    "\n",
    "X_train = BBVA_data.drop(['ID_CORRELATIVO', 'ATTRITION'], axis=1).values\n",
    "print(type(X_train), X_train.shape)\n",
    "X_predic = BBVA_test.drop(['ID_CORRELATIVO'], axis=1).values\n",
    "print(type(X_predic), X_predic.shape)\n",
    "y_train = BBVA_data['ATTRITION'].values\n",
    "print(type(y_train), y_train.shape)"
   ]
  },
  {
   "cell_type": "code",
   "execution_count": 2,
   "metadata": {
    "collapsed": false
   },
   "outputs": [],
   "source": [
    "from sklearn.preprocessing import StandardScaler\n",
    "sc_X = StandardScaler(copy=True, with_mean=True, with_std=True)\n",
    "xx_train_std = sc_X.fit_transform(X_train.astype(float))\n",
    "xx_predic_std = sc_X.transform(X_predic.astype(float))\n",
    "\n",
    "from sklearn.preprocessing import MinMaxScaler\n",
    "sc_MM = MinMaxScaler()\n",
    "xx_train_mm = sc_MM.fit_transform(X_train.astype(float))\n",
    "xx_predic_mm = sc_MM.transform(X_predic.astype(float))"
   ]
  },
  {
   "cell_type": "code",
   "execution_count": 3,
   "metadata": {
    "collapsed": false
   },
   "outputs": [
    {
     "data": {
      "text/plain": [
       "(30000,)"
      ]
     },
     "execution_count": 3,
     "metadata": {},
     "output_type": "execute_result"
    }
   ],
   "source": [
    "idd = BBVA_test['ID_CORRELATIVO']\n",
    "idd.shape"
   ]
  },
  {
   "cell_type": "code",
   "execution_count": 4,
   "metadata": {
    "collapsed": true
   },
   "outputs": [],
   "source": [
    "initial = 'svm_imputacion_factorizacion_allVar_'\n",
    "import csv\n",
    "def generate_csv(clf, predic, name):\n",
    "    name = initial + name\n",
    "    result = clf.predict_proba(predic)\n",
    "    result = [float(\"{0:.5f}\".format(_)) for _ in list(zip(*result))[1]]\n",
    "    result = list(zip(list(idd), result))\n",
    "    result.insert(0, ('ID_CORRELATIVO', 'ATTRITION'))\n",
    "    with open(\"{}.csv\".format(name), 'w') as resultFile:\n",
    "       wr = csv.writer(resultFile, dialect='excel')\n",
    "       for row in result:\n",
    "           wr.writerow(row)"
   ]
  },
  {
   "cell_type": "code",
   "execution_count": null,
   "metadata": {
    "collapsed": false
   },
   "outputs": [
    {
     "name": "stdout",
     "output_type": "stream",
     "text": [
      "STD2///////////////////////////////////////////////SVCrbf_c10_g1\n",
      "STD2///////////////////////////////////////////////SVCrbf_c10_g10\n",
      "MINMAX2///////////////////////////////////////////////SVCrbf_c1_g10\n",
      "MINMAX2///////////////////////////////////////////////SVCrbf_c10_g1\n",
      "MINMAX2///////////////////////////////////////////////SVCrbf_c10_g10\n"
     ]
    }
   ],
   "source": [
    "#////////////////////////////////////// SVM\n",
    "from sklearn import svm\n",
    "clf_rbf_1 = svm.SVC(kernel='rbf', C=10, gamma=1, probability=True, tol=0.0000001, cache_size=500)\n",
    "clf_rbf_1.fit(xx_train_std, y_train)\n",
    "generate_csv(clf_rbf_1, xx_predic_std, 'STD2_SVCrbf_c10_g1')\n",
    "print(\"STD2///////////////////////////////////////////////SVCrbf_c10_g1\")\n",
    "clf_rbf_1 = svm.SVC(kernel='rbf', C=10, gamma=10, probability=True, tol=0.0000001, cache_size=500)\n",
    "clf_rbf_1.fit(xx_train_std, y_train)\n",
    "generate_csv(clf_rbf_1, xx_predic_std, 'STD2_SVCrbf_c10_g10')\n",
    "print(\"STD2///////////////////////////////////////////////SVCrbf_c10_g10\")\n",
    "\n",
    "clf_rbf_2 = svm.SVC(kernel='rbf', C=1, gamma=10, probability=True, tol=0.0000001, cache_size=500)\n",
    "clf_rbf_2.fit(xx_train_mm, y_train)\n",
    "generate_csv(clf_rbf_2, xx_predic_mm, 'MINMAX2_SVCrbf_c1_g10')\n",
    "print(\"MINMAX2///////////////////////////////////////////////SVCrbf_c1_g10\")\n",
    "clf_rbf_2 = svm.SVC(kernel='rbf', C=10, gamma=1, probability=True, tol=0.0000001, cache_size=500)\n",
    "clf_rbf_2.fit(xx_train_mm, y_train)\n",
    "generate_csv(clf_rbf_2, xx_predic_mm, 'MINMAX2_SVCrbf_c10_g1')\n",
    "print(\"MINMAX2///////////////////////////////////////////////SVCrbf_c10_g1\")\n",
    "clf_rbf_2 = svm.SVC(kernel='rbf', C=10, gamma=10, probability=True, tol=0.0000001, cache_size=500)\n",
    "clf_rbf_2.fit(xx_train_mm, y_train)\n",
    "generate_csv(clf_rbf_2, xx_predic_mm, 'MINMAX2_SVCrbf_c10_g10')\n",
    "print(\"MINMAX2///////////////////////////////////////////////SVCrbf_c10_g10\")\n",
    "\n",
    "clf_rbf_1 = svm.SVC(kernel='rbf', C=1, gamma=10, probability=True, tol=0.0000001, cache_size=500)\n",
    "clf_rbf_1.fit(xx_train_std, y_train)\n",
    "generate_csv(clf_rbf_1, xx_predic_std, 'STD2_SVCrbf_c1_g10')\n",
    "print(\"STD2///////////////////////////////////////////////SVCrbf_c1_g10\")"
   ]
  },
  {
   "cell_type": "code",
   "execution_count": 6,
   "metadata": {
    "collapsed": true
   },
   "outputs": [],
   "source": []
  },
  {
   "cell_type": "code",
   "execution_count": null,
   "metadata": {
    "collapsed": true
   },
   "outputs": [],
   "source": []
  }
 ],
 "metadata": {
  "kernelspec": {
   "display_name": "Python 3",
   "language": "python",
   "name": "python3"
  },
  "language_info": {
   "codemirror_mode": {
    "name": "ipython",
    "version": 3
   },
   "file_extension": ".py",
   "mimetype": "text/x-python",
   "name": "python",
   "nbconvert_exporter": "python",
   "pygments_lexer": "ipython3",
   "version": "3.6.0"
  }
 },
 "nbformat": 4,
 "nbformat_minor": 2
}
