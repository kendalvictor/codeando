{
 "cells": [
  {
   "cell_type": "code",
   "execution_count": 1,
   "metadata": {},
   "outputs": [
    {
     "name": "stdout",
     "output_type": "stream",
     "text": [
      "Data Train:  (70000, 54)\n",
      "Data Test:   (30000, 53)\n"
     ]
    }
   ],
   "source": [
    "from sklearn.neural_network import MLPClassifier\n",
    "import pandas as pd\n",
    "import numpy as np \n",
    "import matplotlib.pyplot as plt \n",
    "# graficos incrustados\n",
    "%matplotlib inline\n",
    "\n",
    "#Carga de los CSV\n",
    "BBVA_data = pd.read_csv('labelencoder_train_clientes.csv', header=0)\n",
    "print(\"Data Train: \", BBVA_data.shape)\n",
    "BBVA_test = pd.read_csv('labelencoder_test_clientes.csv', header=0)\n",
    "print(\"Data Test:  \", BBVA_test.shape)"
   ]
  },
  {
   "cell_type": "code",
   "execution_count": 2,
   "metadata": {},
   "outputs": [
    {
     "data": {
      "text/plain": [
       "'Unnamed: 0'"
      ]
     },
     "execution_count": 2,
     "metadata": {},
     "output_type": "execute_result"
    }
   ],
   "source": [
    "primer = list(BBVA_data.columns.values)[0]\n",
    "primer"
   ]
  },
  {
   "cell_type": "code",
   "execution_count": 3,
   "metadata": {},
   "outputs": [
    {
     "name": "stdout",
     "output_type": "stream",
     "text": [
      "<class 'pandas.core.frame.DataFrame'> (70000, 51)\n",
      "<class 'pandas.core.frame.DataFrame'> (30000, 51)\n",
      "<class 'numpy.ndarray'> (70000,)\n"
     ]
    }
   ],
   "source": [
    "X_train = BBVA_data.drop([primer, 'ID_CORRELATIVO', 'ATTRITION'], axis=1)\n",
    "print(type(X_train), X_train.shape)\n",
    "X_predic = BBVA_test.drop([primer, 'ID_CORRELATIVO'], axis=1)\n",
    "print(type(X_predic), X_predic.shape)\n",
    "y_train = BBVA_data['ATTRITION'].values\n",
    "print(type(y_train), y_train.shape)"
   ]
  },
  {
   "cell_type": "code",
   "execution_count": 4,
   "metadata": {},
   "outputs": [
    {
     "name": "stdout",
     "output_type": "stream",
     "text": [
      "['RANG_INGRESO', 'EDAD', 'ANTIGUEDAD', 'RANG_SDO_PASIVO_MENOS0', 'FLG_SEGURO_MENOS2', 'RANG_NRO_PRODUCTOS_MENOS0', 'NRO_ACCES_CANAL3_MENOS0', 'NRO_ACCES_CANAL3_MENOS1', 'NRO_ACCES_CANAL3_MENOS2', 'NRO_ACCES_CANAL3_MENOS3', 'NRO_ENTID_SSFF_MENOS0', 'NRO_ENTID_SSFF_MENOS1', 'NRO_ENTID_SSFF_MENOS2', 'NRO_ENTID_SSFF_MENOS5', 'FLG_SDO_OTSSFF_MENOS0']\n"
     ]
    }
   ],
   "source": [
    "from sklearn.ensemble import ExtraTreesClassifier\n",
    "from sklearn.feature_selection import RFE\n",
    "extra = ExtraTreesClassifier(n_estimators=250, n_jobs=2, min_samples_split=25, \n",
    "                             max_features=0.99, random_state=2)\n",
    "columnas = list(X_train.columns.values)\n",
    "era = RFE(extra, 15)  # número de atributos a seleccionar\n",
    "era = era.fit(X_train.values, y_train)\n",
    "# imprimir resultados\n",
    "atrib = era.support_\n",
    "atributos = [columnas[i] for i in list(atrib.nonzero()[0])]\n",
    "print(atributos)"
   ]
  },
  {
   "cell_type": "code",
   "execution_count": 5,
   "metadata": {},
   "outputs": [
    {
     "name": "stdout",
     "output_type": "stream",
     "text": [
      "<class 'numpy.ndarray'> (70000, 15)\n",
      "<class 'numpy.ndarray'> (30000, 15)\n"
     ]
    }
   ],
   "source": [
    "X_train = X_train.loc[:,atributos].values\n",
    "print(type(X_train), X_train.shape)\n",
    "X_predic = X_predic.loc[:,atributos].values\n",
    "print(type(X_predic), X_predic.shape)"
   ]
  },
  {
   "cell_type": "code",
   "execution_count": 6,
   "metadata": {},
   "outputs": [
    {
     "name": "stdout",
     "output_type": "stream",
     "text": [
      "<class 'numpy.ndarray'> (70000, 15)\n",
      "<class 'numpy.ndarray'> (30000, 15)\n",
      "<class 'numpy.ndarray'> (70000, 15)\n",
      "<class 'numpy.ndarray'> (30000, 15)\n"
     ]
    },
    {
     "data": {
      "text/plain": [
       "(30000,)"
      ]
     },
     "execution_count": 6,
     "metadata": {},
     "output_type": "execute_result"
    }
   ],
   "source": [
    "from sklearn.preprocessing import StandardScaler\n",
    "sc_X = StandardScaler(copy=True, with_mean=True, with_std=True)\n",
    "xx_train_std = sc_X.fit_transform(X_train.astype(float))\n",
    "print(type(xx_train_std), xx_train_std.shape)\n",
    "xx_predic_std = sc_X.transform(X_predic.astype(float))\n",
    "print(type(xx_predic_std), xx_predic_std.shape)\n",
    "\n",
    "from sklearn.preprocessing import MinMaxScaler\n",
    "sc_MM = MinMaxScaler()\n",
    "xx_train_mm = sc_MM.fit_transform(X_train.astype(float))\n",
    "print(type(xx_train_mm), xx_train_mm.shape)\n",
    "xx_predic_mm = sc_MM.transform(X_predic.astype(float))\n",
    "print(type(xx_predic_mm), xx_predic_mm.shape)\n",
    "idd = BBVA_test['ID_CORRELATIVO']\n",
    "idd.shape"
   ]
  },
  {
   "cell_type": "code",
   "execution_count": 7,
   "metadata": {
    "collapsed": true
   },
   "outputs": [],
   "source": [
    "initial = '33_15_label_imputacion_factorizacion_15var_'\n",
    "import csv\n",
    "def generate_csv(clf, predic, name):\n",
    "    name = initial + name\n",
    "    result = clf.predict_proba(predic)\n",
    "    result = [float(\"{0:.5f}\".format(_)) for _ in list(zip(*result))[1]]\n",
    "    result = list(zip(list(idd), result))\n",
    "    result.insert(0, ('ID_CORRELATIVO', 'ATTRITION'))\n",
    "    with open(\"{}.csv\".format(name), 'w') as resultFile:\n",
    "       wr = csv.writer(resultFile, dialect='excel')\n",
    "       for row in result:\n",
    "           wr.writerow(row)"
   ]
  },
  {
   "cell_type": "code",
   "execution_count": 8,
   "metadata": {},
   "outputs": [
    {
     "name": "stdout",
     "output_type": "stream",
     "text": [
      "15varLABELENCODER///////////////////////////////////////////////STD2_RedNeuronal_sgd\n",
      "15varLABELENCODER///////////////////////////////////////////////MINMAX2_RedNeuronal_sgd\n"
     ]
    }
   ],
   "source": [
    "list_train = [(xx_train_std, xx_predic_std), (xx_train_mm, xx_predic_mm)]\n",
    "\n",
    "for ixx, train in enumerate(list_train):\n",
    "    red = MLPClassifier(max_iter=1000000000, hidden_layer_sizes=(100,100), alpha=0.0000000001, solver='sgd', random_state=2)\n",
    "    red.fit(train[0], y_train)\n",
    "    name ='{0}_RedNeuronal_{1}'.format(\n",
    "        'STD2' if ixx == 0 else 'MINMAX2', 'sgd')\n",
    "    generate_csv(red, train[1], name)\n",
    "    print(\"10varLABELENCODER///////////////////////////////////////////////{0}\".format(name))"
   ]
  },
  {
   "cell_type": "code",
   "execution_count": 10,
   "metadata": {},
   "outputs": [
    {
     "data": {
      "text/plain": [
       "10822"
      ]
     },
     "execution_count": 10,
     "metadata": {},
     "output_type": "execute_result"
    }
   ],
   "source": [
    "sum(y_train)\n"
   ]
  },
  {
   "cell_type": "code",
   "execution_count": 8,
   "metadata": {},
   "outputs": [
    {
     "name": "stdout",
     "output_type": "stream",
     "text": [
      "15varLABELENCODER///////////////////////////////////////////////STD2_RandomForest_arboles250_sp25\n",
      "15varLABELENCODER///////////////////////////////////////////////MINMAX2_RandomForest_arboles250_sp25\n"
     ]
    }
   ],
   "source": [
    "list_train = [(xx_train_std, xx_predic_std), (xx_train_mm, xx_predic_mm)]\n",
    "from sklearn.ensemble import RandomForestClassifier\n",
    "for ixx, train in enumerate(list_train):\n",
    "    red =  RandomForestClassifier(n_estimators=250, n_jobs=2, min_samples_split=25,\n",
    "                                      max_features=0.99, random_state=2)\n",
    "    red.fit(train[0], y_train)\n",
    "    name ='{0}_RandomForest_{1}'.format(\n",
    "        'STD2' if ixx == 0 else 'MINMAX2', 'arboles250_sp25')\n",
    "    generate_csv(red, train[1], name)\n",
    "    print(\"15varLABELENCODER///////////////////////////////////////////////{0}\".format(name))"
   ]
  },
  {
   "cell_type": "code",
   "execution_count": null,
   "metadata": {
    "collapsed": true
   },
   "outputs": [],
   "source": []
  }
 ],
 "metadata": {
  "kernelspec": {
   "display_name": "Python 3",
   "language": "python",
   "name": "python3"
  },
  "language_info": {
   "codemirror_mode": {
    "name": "ipython",
    "version": 3
   },
   "file_extension": ".py",
   "mimetype": "text/x-python",
   "name": "python",
   "nbconvert_exporter": "python",
   "pygments_lexer": "ipython3",
   "version": "3.6.3"
  }
 },
 "nbformat": 4,
 "nbformat_minor": 2
}
