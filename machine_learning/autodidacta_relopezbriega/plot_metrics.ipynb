{
 "cells": [
  {
   "cell_type": "code",
   "execution_count": null,
   "metadata": {
    "collapsed": false
   },
   "outputs": [],
   "source": [
    "%matplotlib inline"
   ]
  },
  {
   "cell_type": "markdown",
   "metadata": {},
   "source": [
    "\n",
    "# Metrics specific to imbalanced learning\n",
    "\n",
    "\n",
    "Specific metrics have been developed to evaluate classifier which\n",
    "has been trained using imbalanced data. `imblearn` provides mainly\n",
    "two additional metrics which are not implemented in `sklearn`: (i)\n",
    "geometric mean and (ii) index balanced accuracy.\n",
    "\n",
    "Se han desarrollado métricas específicas para evaluar el clasificador que\n",
    "ha sido entrenado usando datos desequilibrados. `imblearn` proporciona principalmente\n",
    "dos métricas adicionales que no están implementadas en `sklearn`: (i)\n",
    "media geométrica y (ii) precisión equilibrada del índice.\n",
    "\n"
   ]
  },
  {
   "cell_type": "code",
   "execution_count": 1,
   "metadata": {
    "collapsed": false
   },
   "outputs": [],
   "source": [
    "#IMportando Librerias\n",
    "from sklearn import datasets\n",
    "from sklearn.svm import LinearSVC\n",
    "from sklearn.model_selection import train_test_split\n",
    "\n",
    "from imblearn import over_sampling as os\n",
    "from imblearn import pipeline as pl\n",
    "from imblearn.metrics import (geometric_mean_score,\n",
    "                              make_index_balanced_accuracy)"
   ]
  },
  {
   "cell_type": "code",
   "execution_count": 2,
   "metadata": {
    "collapsed": false
   },
   "outputs": [
    {
     "name": "stdout",
     "output_type": "stream",
     "text": [
      "Automatically created module for IPython interactive environment\n",
      "X:  [[ 1.93014748 -1.66089547 -0.38084743 ..., -2.73212275 -0.59345283\n",
      "  -1.82735931]\n",
      " [ 2.91928918 -4.90325242 -1.8219177  ..., -2.19117273  0.19930255\n",
      "  -0.2654712 ]\n",
      " [ 0.51705259 -2.29323585 -1.30477851 ...,  4.08086622 -0.75239397\n",
      "  -1.35175836]\n",
      " ..., \n",
      " [ 2.68056563 -3.06298718  1.63033663 ...,  1.03479442 -0.40336959\n",
      "  -0.29926872]\n",
      " [-0.6628685  -0.9162271  -1.2739332  ...,  1.63878977  1.78474841\n",
      "   0.27198568]\n",
      " [-0.8644855   2.13395125 -0.52420666 ..., -1.72337071 -0.82731053\n",
      "   0.36980908]]\n",
      "y: [1 0 1 ..., 1 1 0]\n"
     ]
    }
   ],
   "source": [
    "print(__doc__)\n",
    "RANDOM_STATE = 42\n",
    "\n",
    "# Generate a dataset\n",
    "X, y = datasets.make_classification(n_classes=3, class_sep=2,\n",
    "                                    weights=[0.1, 0.9], n_informative=10,\n",
    "                                    n_redundant=1, flip_y=0, n_features=20,\n",
    "                                    n_clusters_per_class=4, n_samples=5000,\n",
    "                                    random_state=RANDOM_STATE)\n",
    "print(\"X: \", X)\n",
    "print(\"y:\", y)"
   ]
  },
  {
   "cell_type": "code",
   "execution_count": null,
   "metadata": {
    "collapsed": true
   },
   "outputs": [],
   "source": [
    "porcentaje_artitrion = (\n",
    "    BBVA_data[BBVA_data.ATTRITION > 0]['ATTRITION'].count() * 1.0\n",
    "       / BBVA_data['ATTRITION'].count()\n",
    ") * 100.0\n",
    "print(\"El procentaje de ARTITRION de la base de datos es {0:.2f}%\".format(porcentaje_artitrion))"
   ]
  },
  {
   "cell_type": "code",
   "execution_count": 13,
   "metadata": {
    "collapsed": false
   },
   "outputs": [
    {
     "data": {
      "text/plain": [
       "0.90000000000000002"
      ]
     },
     "execution_count": 13,
     "metadata": {},
     "output_type": "execute_result"
    }
   ],
   "source": [
    "sum(y)/len(y)"
   ]
  },
  {
   "cell_type": "code",
   "execution_count": 14,
   "metadata": {
    "collapsed": false
   },
   "outputs": [
    {
     "data": {
      "text/plain": [
       "Pipeline(memory=None,\n",
       "     steps=[('smote', SMOTE(k=None, k_neighbors=5, kind='regular', m=None, m_neighbors=10, n_jobs=1,\n",
       "   out_step=0.5, random_state=42, ratio='auto', svm_estimator=None)), ('linearsvc', LinearSVC(C=1.0, class_weight=None, dual=True, fit_intercept=True,\n",
       "     intercept_scaling=1, loss='squared_hinge', max_iter=1000,\n",
       "     multi_class='ovr', penalty='l2', random_state=42, tol=0.0001,\n",
       "     verbose=0))])"
      ]
     },
     "execution_count": 14,
     "metadata": {},
     "output_type": "execute_result"
    }
   ],
   "source": [
    "pipeline = pl.make_pipeline(os.SMOTE(random_state=RANDOM_STATE),\n",
    "                            LinearSVC(random_state=RANDOM_STATE))\n",
    "pipeline"
   ]
  },
  {
   "cell_type": "code",
   "execution_count": 15,
   "metadata": {
    "collapsed": false
   },
   "outputs": [
    {
     "data": {
      "text/plain": [
       "array([1, 1, 0, ..., 1, 1, 1])"
      ]
     },
     "execution_count": 15,
     "metadata": {},
     "output_type": "execute_result"
    }
   ],
   "source": [
    "# Split the data\n",
    "X_train, X_test, y_train, y_test = train_test_split(X, y, random_state=RANDOM_STATE)\n",
    "\n",
    "# Train the classifier with balancing\n",
    "pipeline.fit(X_train, y_train)\n",
    "\n",
    "# Test the classifier and get the prediction\n",
    "y_pred_bal = pipeline.predict(X_test)\n",
    "y_pred_bal"
   ]
  },
  {
   "cell_type": "code",
   "execution_count": 16,
   "metadata": {
    "collapsed": false
   },
   "outputs": [
    {
     "data": {
      "text/plain": [
       "0.84240000000000004"
      ]
     },
     "execution_count": 16,
     "metadata": {},
     "output_type": "execute_result"
    }
   ],
   "source": [
    "sum(y_pred_bal)/len(y_pred_bal)"
   ]
  },
  {
   "cell_type": "markdown",
   "metadata": {},
   "source": [
    "The geometric mean corresponds to the square root of the product of the\n",
    "sensitivity and specificity. Combining the two metrics should account for\n",
    "the balancing of the dataset.\n",
    "////////////////////////////////////////////////////////////////////////////////\n",
    "La media geométrica corresponde a la raíz cuadrada del producto del\n",
    "sensibilidad y especificidad. La combinación de las dos métricas debe tener en cuenta\n",
    "el equilibrio del conjunto de datos.\n",
    "\n"
   ]
  },
  {
   "cell_type": "code",
   "execution_count": 17,
   "metadata": {
    "collapsed": false
   },
   "outputs": [
    {
     "name": "stdout",
     "output_type": "stream",
     "text": [
      "The geometric mean is 0.9262633940760341\n"
     ]
    }
   ],
   "source": [
    "print('The geometric mean is {}'.format(geometric_mean_score(y_test, y_pred_bal)))"
   ]
  },
  {
   "cell_type": "markdown",
   "metadata": {},
   "source": [
    "The index balanced accuracy can transform any metric to be used in\n",
    "imbalanced learning problems.\n",
    "\n"
   ]
  },
  {
   "cell_type": "code",
   "execution_count": 18,
   "metadata": {
    "collapsed": false
   },
   "outputs": [
    {
     "name": "stdout",
     "output_type": "stream",
     "text": [
      "The IBA using alpha = 0.1 and the geometric mean: 0.8579638752052544\n",
      "The IBA using alpha = 0.5 and the geometric mean: 0.8579638752052544\n"
     ]
    }
   ],
   "source": [
    "alpha = 0.1\n",
    "geo_mean = make_index_balanced_accuracy(alpha=alpha, squared=True)(\n",
    "    geometric_mean_score)\n",
    "\n",
    "print('The IBA using alpha = {} and the geometric mean: {}'.format(\n",
    "    alpha, geo_mean(\n",
    "        y_test,\n",
    "        y_pred_bal)))\n",
    "\n",
    "alpha = 0.5\n",
    "geo_mean = make_index_balanced_accuracy(alpha=alpha, squared=True)(\n",
    "    geometric_mean_score)\n",
    "\n",
    "print('The IBA using alpha = {} and the geometric mean: {}'.format(\n",
    "    alpha, geo_mean(\n",
    "        y_test,\n",
    "        y_pred_bal)))"
   ]
  },
  {
   "cell_type": "code",
   "execution_count": null,
   "metadata": {
    "collapsed": true
   },
   "outputs": [],
   "source": []
  }
 ],
 "metadata": {
  "kernelspec": {
   "display_name": "Python 3",
   "language": "python",
   "name": "python3"
  },
  "language_info": {
   "codemirror_mode": {
    "name": "ipython",
    "version": 3
   },
   "file_extension": ".py",
   "mimetype": "text/x-python",
   "name": "python",
   "nbconvert_exporter": "python",
   "pygments_lexer": "ipython3",
   "version": "3.6.0"
  }
 },
 "nbformat": 4,
 "nbformat_minor": 0
}
