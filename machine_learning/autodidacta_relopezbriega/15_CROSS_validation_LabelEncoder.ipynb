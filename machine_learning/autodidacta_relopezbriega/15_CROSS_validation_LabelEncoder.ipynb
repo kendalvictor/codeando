{
 "cells": [
  {
   "cell_type": "code",
   "execution_count": 1,
   "metadata": {
    "collapsed": false
   },
   "outputs": [
    {
     "name": "stdout",
     "output_type": "stream",
     "text": [
      "Data Train:  (70000, 54)\n",
      "Data Test:   (30000, 53)\n"
     ]
    }
   ],
   "source": [
    "from sklearn.neural_network import MLPClassifier\n",
    "import pandas as pd\n",
    "import numpy as np \n",
    "import matplotlib.pyplot as plt \n",
    "# graficos incrustados\n",
    "%matplotlib inline\n",
    "\n",
    "#Carga de los CSV\n",
    "BBVA_data = pd.read_csv('labelencoder_train_clientes.csv', header=0)\n",
    "print(\"Data Train: \", BBVA_data.shape)\n",
    "BBVA_test = pd.read_csv('labelencoder_test_clientes.csv', header=0)\n",
    "print(\"Data Test:  \", BBVA_test.shape)"
   ]
  },
  {
   "cell_type": "code",
   "execution_count": 2,
   "metadata": {
    "collapsed": false
   },
   "outputs": [
    {
     "name": "stdout",
     "output_type": "stream",
     "text": [
      "False\n",
      "False\n",
      "<class 'numpy.ndarray'> (70000, 51)\n",
      "<class 'numpy.ndarray'> (30000, 51)\n",
      "<class 'numpy.ndarray'> (70000,)\n"
     ]
    }
   ],
   "source": [
    "primera = BBVA_data.columns.values[0]\n",
    "print(BBVA_data.isnull().any().any())\n",
    "print(BBVA_test.isnull().any().any())\n",
    "\n",
    "X_train = BBVA_data.drop([primera, 'ID_CORRELATIVO', 'ATTRITION'], axis=1).values\n",
    "print(type(X_train), X_train.shape)\n",
    "X_predic = BBVA_test.drop([primera, 'ID_CORRELATIVO'], axis=1).values\n",
    "print(type(X_predic), X_predic.shape)\n",
    "y_train = BBVA_data['ATTRITION'].values\n",
    "print(type(y_train), y_train.shape)"
   ]
  },
  {
   "cell_type": "code",
   "execution_count": 3,
   "metadata": {
    "collapsed": false
   },
   "outputs": [
    {
     "data": {
      "text/plain": [
       "(30000,)"
      ]
     },
     "execution_count": 3,
     "metadata": {},
     "output_type": "execute_result"
    }
   ],
   "source": [
    "from sklearn.preprocessing import StandardScaler\n",
    "sc_X = StandardScaler(copy=True, with_mean=True, with_std=True)\n",
    "xx_train_std = sc_X.fit_transform(X_train.astype(float))\n",
    "xx_predic_std = sc_X.transform(X_predic.astype(float))\n",
    "\n",
    "from sklearn.preprocessing import MinMaxScaler\n",
    "sc_MM = MinMaxScaler()\n",
    "xx_train_mm = sc_MM.fit_transform(X_train.astype(float))\n",
    "xx_predic_mm = sc_MM.transform(X_predic.astype(float))\n",
    "\n",
    "idd = BBVA_test['ID_CORRELATIVO']\n",
    "idd.shape"
   ]
  },
  {
   "cell_type": "code",
   "execution_count": 7,
   "metadata": {
    "collapsed": false
   },
   "outputs": [
    {
     "name": "stdout",
     "output_type": "stream",
     "text": [
      "---> DATA CON STD\n",
      "arboles: '100', sample_split '55' , featute 0.999 [ 0.88207985  0.88307978  0.88228571  0.88392028  0.88042003]\n",
      "Accuracy: 0.8824 (+/- 0.0023)\n",
      "////////////////////////////////////////\n",
      "arboles: '100', sample_split '50' , featute 0.999 [ 0.88215127  0.88257982  0.88285714  0.88370598  0.88127723]\n",
      "Accuracy: 0.8825 (+/- 0.0016)\n",
      "////////////////////////////////////////\n",
      "arboles: '100', sample_split '45' , featute 0.999 [ 0.88186558  0.88365117  0.88242857  0.88427745  0.8809915 ]\n",
      "Accuracy: 0.8826 (+/- 0.0024)\n",
      "////////////////////////////////////////\n",
      "arboles: '100', sample_split '40' , featute 0.999 [ 0.88300836  0.88322263  0.88235714  0.88349168  0.88177727]\n",
      "Accuracy: 0.8828 (+/- 0.0012)\n",
      "////////////////////////////////////////\n",
      "arboles: '100', sample_split '35' , featute 0.999 [ 0.88150846  0.88407971  0.88257143  0.88363455  0.88170584]\n",
      "Accuracy: 0.8827 (+/- 0.0020)\n",
      "////////////////////////////////////////\n",
      "arboles: '100', sample_split '30' , featute 0.999 [ 0.88065138  0.88386544  0.88264286  0.88349168  0.8818487 ]\n",
      "Accuracy: 0.8825 (+/- 0.0023)\n",
      "////////////////////////////////////////\n",
      "arboles: '100', sample_split '25' , featute 0.999 [ 0.88136562  0.88350832  0.88214286  0.88406315  0.88192014]\n",
      "Accuracy: 0.8826 (+/- 0.0020)\n",
      "////////////////////////////////////////\n",
      "arboles: '150', sample_split '55' , featute 0.999 [ 0.88207985  0.88350832  0.88228571  0.88377741  0.88070576]\n",
      "Accuracy: 0.8825 (+/- 0.0022)\n",
      "////////////////////////////////////////\n",
      "arboles: '150', sample_split '50' , featute 0.999 [ 0.88236555  0.88322263  0.883       0.88392028  0.88113437]\n",
      "Accuracy: 0.8827 (+/- 0.0019)\n",
      "////////////////////////////////////////\n",
      "arboles: '150', sample_split '45' , featute 0.999 [ 0.88186558  0.88422256  0.88292857  0.88384885  0.8814201 ]\n",
      "Accuracy: 0.8829 (+/- 0.0022)\n",
      "////////////////////////////////////////\n",
      "arboles: '150', sample_split '40' , featute 0.999 [ 0.88157989  0.88329405  0.88314286  0.88349168  0.88242017]\n",
      "Accuracy: 0.8828 (+/- 0.0014)\n",
      "////////////////////////////////////////\n",
      "arboles: '150', sample_split '35' , featute 0.999 [ 0.88250839  0.88379401  0.88285714  0.88363455  0.88213444]\n",
      "Accuracy: 0.8830 (+/- 0.0013)\n",
      "////////////////////////////////////////\n",
      "arboles: '150', sample_split '30' , featute 0.999 [ 0.88165131  0.88407971  0.88271429  0.88420601  0.88177727]\n",
      "Accuracy: 0.8829 (+/- 0.0022)\n",
      "////////////////////////////////////////\n",
      "arboles: '150', sample_split '25' , featute 0.999 [ 0.88079423  0.88357974  0.88264286  0.88363455  0.8818487 ]\n",
      "Accuracy: 0.8825 (+/- 0.0022)\n",
      "////////////////////////////////////////\n",
      "arboles: '250', sample_split '55' , featute 0.999 [ 0.8822227   0.88279409  0.8825      0.88356311  0.88092007]\n",
      "Accuracy: 0.8824 (+/- 0.0017)\n",
      "////////////////////////////////////////\n",
      "arboles: '250', sample_split '50' , featute 0.999 [ 0.88243697  0.88336547  0.88307143  0.88384885  0.88127723]\n",
      "Accuracy: 0.8828 (+/- 0.0018)\n",
      "////////////////////////////////////////\n",
      "arboles: '250', sample_split '45' , featute 0.999 [ 0.8822227   0.88357974  0.88307143  0.88334881  0.88156297]\n",
      "Accuracy: 0.8828 (+/- 0.0015)\n",
      "////////////////////////////////////////\n",
      "arboles: '250', sample_split '40' , featute 0.999 [ 0.88243697  0.8831512   0.88278571  0.88349168  0.882063  ]\n",
      "Accuracy: 0.8828 (+/- 0.0010)\n",
      "////////////////////////////////////////\n",
      "arboles: '250', sample_split '35' , featute 0.999 [ 0.88286551  0.88357974  0.88278571  0.88384885  0.88220587]\n",
      "Accuracy: 0.8831 (+/- 0.0012)\n",
      "////////////////////////////////////////\n",
      "arboles: '250', sample_split '30' , featute 0.999 [ 0.88243697  0.88457967  0.88314286  0.88399171  0.88220587]\n",
      "Accuracy: 0.8833 (+/- 0.0018)\n",
      "////////////////////////////////////////\n",
      "arboles: '250', sample_split '25' , featute 0.999 [ 0.88093708  0.88350832  0.88271429  0.88434888  0.8814201 ]\n",
      "Accuracy: 0.8826 (+/- 0.0025)\n",
      "////////////////////////////////////////\n",
      "arboles: '350', sample_split '55' , featute 0.999 [ 0.88165131  0.88272266  0.88235714  0.88377741  0.88049146]\n",
      "Accuracy: 0.8822 (+/- 0.0022)\n",
      "////////////////////////////////////////\n",
      "arboles: '350', sample_split '50' , featute 0.999 [ 0.88200843  0.88307978  0.88264286  0.88399171  0.88084863]\n",
      "Accuracy: 0.8825 (+/- 0.0021)\n",
      "////////////////////////////////////////\n",
      "arboles: '350', sample_split '45' , featute 0.999 [ 0.88250839  0.8831512   0.88321429  0.88327738  0.88156297]\n",
      "Accuracy: 0.8827 (+/- 0.0013)\n",
      "////////////////////////////////////////\n",
      "arboles: '350', sample_split '40' , featute 0.999 [ 0.88243697  0.88393686  0.883       0.88413458  0.88213444]\n",
      "Accuracy: 0.8831 (+/- 0.0016)\n",
      "////////////////////////////////////////\n",
      "arboles: '350', sample_split '35' , featute 0.999 [ 0.88286551  0.88365117  0.88342857  0.88384885  0.88199157]\n",
      "Accuracy: 0.8832 (+/- 0.0013)\n",
      "////////////////////////////////////////\n",
      "arboles: '350', sample_split '30' , featute 0.999 [ 0.88207985  0.88415113  0.88271429  0.88399171  0.8816344 ]\n",
      "Accuracy: 0.8829 (+/- 0.0020)\n",
      "////////////////////////////////////////\n",
      "arboles: '350', sample_split '25' , featute 0.999 [ 0.88122277  0.88329405  0.883       0.88399171  0.88127723]\n",
      "Accuracy: 0.8826 (+/- 0.0022)\n",
      "////////////////////////////////////////\n",
      "arboles: '500', sample_split '55' , featute 0.999 [ 0.88186558  0.88265124  0.88242857  0.88392028  0.88084863]\n",
      "Accuracy: 0.8823 (+/- 0.0020)\n",
      "////////////////////////////////////////\n",
      "arboles: '500', sample_split '50' , featute 0.999 [ 0.88236555  0.88329405  0.88278571  0.88384885  0.8809915 ]\n",
      "Accuracy: 0.8827 (+/- 0.0019)\n",
      "////////////////////////////////////////\n",
      "arboles: '500', sample_split '45' , featute 0.999 [ 0.88257982  0.88265124  0.88292857  0.88356311  0.8812058 ]\n",
      "Accuracy: 0.8826 (+/- 0.0015)\n",
      "////////////////////////////////////////\n",
      "arboles: '500', sample_split '40' , featute 0.999 [ 0.88293693  0.88379401  0.88285714  0.88413458  0.88192014]\n",
      "Accuracy: 0.8831 (+/- 0.0016)\n",
      "////////////////////////////////////////\n",
      "arboles: '500', sample_split '35' , featute 0.999 [ 0.88322263  0.88379401  0.88314286  0.88406315  0.88242017]\n",
      "Accuracy: 0.8833 (+/- 0.0011)\n",
      "////////////////////////////////////////\n",
      "arboles: '500', sample_split '30' , featute 0.999 [ 0.88272266  0.88393686  0.88278571  0.88392028  0.88227731]\n",
      "Accuracy: 0.8831 (+/- 0.0014)\n",
      "////////////////////////////////////////\n",
      "arboles: '500', sample_split '25' , featute 0.999 [ 0.88207985  0.88322263  0.88278571  0.88392028  0.8816344 ]\n",
      "Accuracy: 0.8827 (+/- 0.0016)\n",
      "////////////////////////////////////////\n"
     ]
    },
    {
     "ename": "KeyboardInterrupt",
     "evalue": "",
     "output_type": "error",
     "traceback": [
      "\u001b[0;31m---------------------------------------------------------------------------\u001b[0m",
      "\u001b[0;31mKeyboardInterrupt\u001b[0m                         Traceback (most recent call last)",
      "\u001b[0;32m<ipython-input-7-56d8f256f2f7>\u001b[0m in \u001b[0;36m<module>\u001b[0;34m()\u001b[0m\n\u001b[1;32m     14\u001b[0m             clf =  RandomForestClassifier(n_estimators=est, n_jobs=2, min_samples_split=sp,\n\u001b[1;32m     15\u001b[0m                                          max_features=ff, random_state=2)\n\u001b[0;32m---> 16\u001b[0;31m             \u001b[0mscores\u001b[0m \u001b[0;34m=\u001b[0m \u001b[0mcross_val_score\u001b[0m\u001b[0;34m(\u001b[0m\u001b[0mclf\u001b[0m\u001b[0;34m,\u001b[0m \u001b[0mxx_train_std\u001b[0m\u001b[0;34m,\u001b[0m \u001b[0my_train\u001b[0m\u001b[0;34m,\u001b[0m \u001b[0mcv\u001b[0m\u001b[0;34m=\u001b[0m\u001b[0;36m5\u001b[0m\u001b[0;34m)\u001b[0m\u001b[0;34m\u001b[0m\u001b[0m\n\u001b[0m\u001b[1;32m     17\u001b[0m             \u001b[0mprint\u001b[0m\u001b[0;34m(\u001b[0m\u001b[0;34m\"arboles: '{}', sample_split '{}' , featute {}\"\u001b[0m\u001b[0;34m.\u001b[0m\u001b[0mformat\u001b[0m\u001b[0;34m(\u001b[0m\u001b[0mest\u001b[0m\u001b[0;34m,\u001b[0m \u001b[0msp\u001b[0m\u001b[0;34m,\u001b[0m \u001b[0mff\u001b[0m\u001b[0;34m)\u001b[0m\u001b[0;34m,\u001b[0m \u001b[0mscores\u001b[0m\u001b[0;34m)\u001b[0m\u001b[0;34m\u001b[0m\u001b[0m\n\u001b[1;32m     18\u001b[0m             \u001b[0mprint\u001b[0m\u001b[0;34m(\u001b[0m\u001b[0;34m\"Accuracy: %0.4f (+/- %0.4f)\"\u001b[0m \u001b[0;34m%\u001b[0m \u001b[0;34m(\u001b[0m\u001b[0mscores\u001b[0m\u001b[0;34m.\u001b[0m\u001b[0mmean\u001b[0m\u001b[0;34m(\u001b[0m\u001b[0;34m)\u001b[0m\u001b[0;34m,\u001b[0m \u001b[0mscores\u001b[0m\u001b[0;34m.\u001b[0m\u001b[0mstd\u001b[0m\u001b[0;34m(\u001b[0m\u001b[0;34m)\u001b[0m \u001b[0;34m*\u001b[0m \u001b[0;36m2\u001b[0m\u001b[0;34m)\u001b[0m\u001b[0;34m)\u001b[0m\u001b[0;34m\u001b[0m\u001b[0m\n",
      "\u001b[0;32m/home/villacorta/anaconda3/lib/python3.6/site-packages/sklearn/model_selection/_validation.py\u001b[0m in \u001b[0;36mcross_val_score\u001b[0;34m(estimator, X, y, groups, scoring, cv, n_jobs, verbose, fit_params, pre_dispatch)\u001b[0m\n\u001b[1;32m    340\u001b[0m                                 \u001b[0mn_jobs\u001b[0m\u001b[0;34m=\u001b[0m\u001b[0mn_jobs\u001b[0m\u001b[0;34m,\u001b[0m \u001b[0mverbose\u001b[0m\u001b[0;34m=\u001b[0m\u001b[0mverbose\u001b[0m\u001b[0;34m,\u001b[0m\u001b[0;34m\u001b[0m\u001b[0m\n\u001b[1;32m    341\u001b[0m                                 \u001b[0mfit_params\u001b[0m\u001b[0;34m=\u001b[0m\u001b[0mfit_params\u001b[0m\u001b[0;34m,\u001b[0m\u001b[0;34m\u001b[0m\u001b[0m\n\u001b[0;32m--> 342\u001b[0;31m                                 pre_dispatch=pre_dispatch)\n\u001b[0m\u001b[1;32m    343\u001b[0m     \u001b[0;32mreturn\u001b[0m \u001b[0mcv_results\u001b[0m\u001b[0;34m[\u001b[0m\u001b[0;34m'test_score'\u001b[0m\u001b[0;34m]\u001b[0m\u001b[0;34m\u001b[0m\u001b[0m\n\u001b[1;32m    344\u001b[0m \u001b[0;34m\u001b[0m\u001b[0m\n",
      "\u001b[0;32m/home/villacorta/anaconda3/lib/python3.6/site-packages/sklearn/model_selection/_validation.py\u001b[0m in \u001b[0;36mcross_validate\u001b[0;34m(estimator, X, y, groups, scoring, cv, n_jobs, verbose, fit_params, pre_dispatch, return_train_score)\u001b[0m\n\u001b[1;32m    204\u001b[0m             \u001b[0mfit_params\u001b[0m\u001b[0;34m,\u001b[0m \u001b[0mreturn_train_score\u001b[0m\u001b[0;34m=\u001b[0m\u001b[0mreturn_train_score\u001b[0m\u001b[0;34m,\u001b[0m\u001b[0;34m\u001b[0m\u001b[0m\n\u001b[1;32m    205\u001b[0m             return_times=True)\n\u001b[0;32m--> 206\u001b[0;31m         for train, test in cv.split(X, y, groups))\n\u001b[0m\u001b[1;32m    207\u001b[0m \u001b[0;34m\u001b[0m\u001b[0m\n\u001b[1;32m    208\u001b[0m     \u001b[0;32mif\u001b[0m \u001b[0mreturn_train_score\u001b[0m\u001b[0;34m:\u001b[0m\u001b[0;34m\u001b[0m\u001b[0m\n",
      "\u001b[0;32m/home/villacorta/anaconda3/lib/python3.6/site-packages/sklearn/externals/joblib/parallel.py\u001b[0m in \u001b[0;36m__call__\u001b[0;34m(self, iterable)\u001b[0m\n\u001b[1;32m    777\u001b[0m             \u001b[0;31m# was dispatched. In particular this covers the edge\u001b[0m\u001b[0;34m\u001b[0m\u001b[0;34m\u001b[0m\u001b[0m\n\u001b[1;32m    778\u001b[0m             \u001b[0;31m# case of Parallel used with an exhausted iterator.\u001b[0m\u001b[0;34m\u001b[0m\u001b[0;34m\u001b[0m\u001b[0m\n\u001b[0;32m--> 779\u001b[0;31m             \u001b[0;32mwhile\u001b[0m \u001b[0mself\u001b[0m\u001b[0;34m.\u001b[0m\u001b[0mdispatch_one_batch\u001b[0m\u001b[0;34m(\u001b[0m\u001b[0miterator\u001b[0m\u001b[0;34m)\u001b[0m\u001b[0;34m:\u001b[0m\u001b[0;34m\u001b[0m\u001b[0m\n\u001b[0m\u001b[1;32m    780\u001b[0m                 \u001b[0mself\u001b[0m\u001b[0;34m.\u001b[0m\u001b[0m_iterating\u001b[0m \u001b[0;34m=\u001b[0m \u001b[0;32mTrue\u001b[0m\u001b[0;34m\u001b[0m\u001b[0m\n\u001b[1;32m    781\u001b[0m             \u001b[0;32melse\u001b[0m\u001b[0;34m:\u001b[0m\u001b[0;34m\u001b[0m\u001b[0m\n",
      "\u001b[0;32m/home/villacorta/anaconda3/lib/python3.6/site-packages/sklearn/externals/joblib/parallel.py\u001b[0m in \u001b[0;36mdispatch_one_batch\u001b[0;34m(self, iterator)\u001b[0m\n\u001b[1;32m    623\u001b[0m                 \u001b[0;32mreturn\u001b[0m \u001b[0;32mFalse\u001b[0m\u001b[0;34m\u001b[0m\u001b[0m\n\u001b[1;32m    624\u001b[0m             \u001b[0;32melse\u001b[0m\u001b[0;34m:\u001b[0m\u001b[0;34m\u001b[0m\u001b[0m\n\u001b[0;32m--> 625\u001b[0;31m                 \u001b[0mself\u001b[0m\u001b[0;34m.\u001b[0m\u001b[0m_dispatch\u001b[0m\u001b[0;34m(\u001b[0m\u001b[0mtasks\u001b[0m\u001b[0;34m)\u001b[0m\u001b[0;34m\u001b[0m\u001b[0m\n\u001b[0m\u001b[1;32m    626\u001b[0m                 \u001b[0;32mreturn\u001b[0m \u001b[0;32mTrue\u001b[0m\u001b[0;34m\u001b[0m\u001b[0m\n\u001b[1;32m    627\u001b[0m \u001b[0;34m\u001b[0m\u001b[0m\n",
      "\u001b[0;32m/home/villacorta/anaconda3/lib/python3.6/site-packages/sklearn/externals/joblib/parallel.py\u001b[0m in \u001b[0;36m_dispatch\u001b[0;34m(self, batch)\u001b[0m\n\u001b[1;32m    586\u001b[0m         \u001b[0mdispatch_timestamp\u001b[0m \u001b[0;34m=\u001b[0m \u001b[0mtime\u001b[0m\u001b[0;34m.\u001b[0m\u001b[0mtime\u001b[0m\u001b[0;34m(\u001b[0m\u001b[0;34m)\u001b[0m\u001b[0;34m\u001b[0m\u001b[0m\n\u001b[1;32m    587\u001b[0m         \u001b[0mcb\u001b[0m \u001b[0;34m=\u001b[0m \u001b[0mBatchCompletionCallBack\u001b[0m\u001b[0;34m(\u001b[0m\u001b[0mdispatch_timestamp\u001b[0m\u001b[0;34m,\u001b[0m \u001b[0mlen\u001b[0m\u001b[0;34m(\u001b[0m\u001b[0mbatch\u001b[0m\u001b[0;34m)\u001b[0m\u001b[0;34m,\u001b[0m \u001b[0mself\u001b[0m\u001b[0;34m)\u001b[0m\u001b[0;34m\u001b[0m\u001b[0m\n\u001b[0;32m--> 588\u001b[0;31m         \u001b[0mjob\u001b[0m \u001b[0;34m=\u001b[0m \u001b[0mself\u001b[0m\u001b[0;34m.\u001b[0m\u001b[0m_backend\u001b[0m\u001b[0;34m.\u001b[0m\u001b[0mapply_async\u001b[0m\u001b[0;34m(\u001b[0m\u001b[0mbatch\u001b[0m\u001b[0;34m,\u001b[0m \u001b[0mcallback\u001b[0m\u001b[0;34m=\u001b[0m\u001b[0mcb\u001b[0m\u001b[0;34m)\u001b[0m\u001b[0;34m\u001b[0m\u001b[0m\n\u001b[0m\u001b[1;32m    589\u001b[0m         \u001b[0mself\u001b[0m\u001b[0;34m.\u001b[0m\u001b[0m_jobs\u001b[0m\u001b[0;34m.\u001b[0m\u001b[0mappend\u001b[0m\u001b[0;34m(\u001b[0m\u001b[0mjob\u001b[0m\u001b[0;34m)\u001b[0m\u001b[0;34m\u001b[0m\u001b[0m\n\u001b[1;32m    590\u001b[0m \u001b[0;34m\u001b[0m\u001b[0m\n",
      "\u001b[0;32m/home/villacorta/anaconda3/lib/python3.6/site-packages/sklearn/externals/joblib/_parallel_backends.py\u001b[0m in \u001b[0;36mapply_async\u001b[0;34m(self, func, callback)\u001b[0m\n\u001b[1;32m    109\u001b[0m     \u001b[0;32mdef\u001b[0m \u001b[0mapply_async\u001b[0m\u001b[0;34m(\u001b[0m\u001b[0mself\u001b[0m\u001b[0;34m,\u001b[0m \u001b[0mfunc\u001b[0m\u001b[0;34m,\u001b[0m \u001b[0mcallback\u001b[0m\u001b[0;34m=\u001b[0m\u001b[0;32mNone\u001b[0m\u001b[0;34m)\u001b[0m\u001b[0;34m:\u001b[0m\u001b[0;34m\u001b[0m\u001b[0m\n\u001b[1;32m    110\u001b[0m         \u001b[0;34m\"\"\"Schedule a func to be run\"\"\"\u001b[0m\u001b[0;34m\u001b[0m\u001b[0m\n\u001b[0;32m--> 111\u001b[0;31m         \u001b[0mresult\u001b[0m \u001b[0;34m=\u001b[0m \u001b[0mImmediateResult\u001b[0m\u001b[0;34m(\u001b[0m\u001b[0mfunc\u001b[0m\u001b[0;34m)\u001b[0m\u001b[0;34m\u001b[0m\u001b[0m\n\u001b[0m\u001b[1;32m    112\u001b[0m         \u001b[0;32mif\u001b[0m \u001b[0mcallback\u001b[0m\u001b[0;34m:\u001b[0m\u001b[0;34m\u001b[0m\u001b[0m\n\u001b[1;32m    113\u001b[0m             \u001b[0mcallback\u001b[0m\u001b[0;34m(\u001b[0m\u001b[0mresult\u001b[0m\u001b[0;34m)\u001b[0m\u001b[0;34m\u001b[0m\u001b[0m\n",
      "\u001b[0;32m/home/villacorta/anaconda3/lib/python3.6/site-packages/sklearn/externals/joblib/_parallel_backends.py\u001b[0m in \u001b[0;36m__init__\u001b[0;34m(self, batch)\u001b[0m\n\u001b[1;32m    330\u001b[0m         \u001b[0;31m# Don't delay the application, to avoid keeping the input\u001b[0m\u001b[0;34m\u001b[0m\u001b[0;34m\u001b[0m\u001b[0m\n\u001b[1;32m    331\u001b[0m         \u001b[0;31m# arguments in memory\u001b[0m\u001b[0;34m\u001b[0m\u001b[0;34m\u001b[0m\u001b[0m\n\u001b[0;32m--> 332\u001b[0;31m         \u001b[0mself\u001b[0m\u001b[0;34m.\u001b[0m\u001b[0mresults\u001b[0m \u001b[0;34m=\u001b[0m \u001b[0mbatch\u001b[0m\u001b[0;34m(\u001b[0m\u001b[0;34m)\u001b[0m\u001b[0;34m\u001b[0m\u001b[0m\n\u001b[0m\u001b[1;32m    333\u001b[0m \u001b[0;34m\u001b[0m\u001b[0m\n\u001b[1;32m    334\u001b[0m     \u001b[0;32mdef\u001b[0m \u001b[0mget\u001b[0m\u001b[0;34m(\u001b[0m\u001b[0mself\u001b[0m\u001b[0;34m)\u001b[0m\u001b[0;34m:\u001b[0m\u001b[0;34m\u001b[0m\u001b[0m\n",
      "\u001b[0;32m/home/villacorta/anaconda3/lib/python3.6/site-packages/sklearn/externals/joblib/parallel.py\u001b[0m in \u001b[0;36m__call__\u001b[0;34m(self)\u001b[0m\n\u001b[1;32m    129\u001b[0m \u001b[0;34m\u001b[0m\u001b[0m\n\u001b[1;32m    130\u001b[0m     \u001b[0;32mdef\u001b[0m \u001b[0m__call__\u001b[0m\u001b[0;34m(\u001b[0m\u001b[0mself\u001b[0m\u001b[0;34m)\u001b[0m\u001b[0;34m:\u001b[0m\u001b[0;34m\u001b[0m\u001b[0m\n\u001b[0;32m--> 131\u001b[0;31m         \u001b[0;32mreturn\u001b[0m \u001b[0;34m[\u001b[0m\u001b[0mfunc\u001b[0m\u001b[0;34m(\u001b[0m\u001b[0;34m*\u001b[0m\u001b[0margs\u001b[0m\u001b[0;34m,\u001b[0m \u001b[0;34m**\u001b[0m\u001b[0mkwargs\u001b[0m\u001b[0;34m)\u001b[0m \u001b[0;32mfor\u001b[0m \u001b[0mfunc\u001b[0m\u001b[0;34m,\u001b[0m \u001b[0margs\u001b[0m\u001b[0;34m,\u001b[0m \u001b[0mkwargs\u001b[0m \u001b[0;32min\u001b[0m \u001b[0mself\u001b[0m\u001b[0;34m.\u001b[0m\u001b[0mitems\u001b[0m\u001b[0;34m]\u001b[0m\u001b[0;34m\u001b[0m\u001b[0m\n\u001b[0m\u001b[1;32m    132\u001b[0m \u001b[0;34m\u001b[0m\u001b[0m\n\u001b[1;32m    133\u001b[0m     \u001b[0;32mdef\u001b[0m \u001b[0m__len__\u001b[0m\u001b[0;34m(\u001b[0m\u001b[0mself\u001b[0m\u001b[0;34m)\u001b[0m\u001b[0;34m:\u001b[0m\u001b[0;34m\u001b[0m\u001b[0m\n",
      "\u001b[0;32m/home/villacorta/anaconda3/lib/python3.6/site-packages/sklearn/externals/joblib/parallel.py\u001b[0m in \u001b[0;36m<listcomp>\u001b[0;34m(.0)\u001b[0m\n\u001b[1;32m    129\u001b[0m \u001b[0;34m\u001b[0m\u001b[0m\n\u001b[1;32m    130\u001b[0m     \u001b[0;32mdef\u001b[0m \u001b[0m__call__\u001b[0m\u001b[0;34m(\u001b[0m\u001b[0mself\u001b[0m\u001b[0;34m)\u001b[0m\u001b[0;34m:\u001b[0m\u001b[0;34m\u001b[0m\u001b[0m\n\u001b[0;32m--> 131\u001b[0;31m         \u001b[0;32mreturn\u001b[0m \u001b[0;34m[\u001b[0m\u001b[0mfunc\u001b[0m\u001b[0;34m(\u001b[0m\u001b[0;34m*\u001b[0m\u001b[0margs\u001b[0m\u001b[0;34m,\u001b[0m \u001b[0;34m**\u001b[0m\u001b[0mkwargs\u001b[0m\u001b[0;34m)\u001b[0m \u001b[0;32mfor\u001b[0m \u001b[0mfunc\u001b[0m\u001b[0;34m,\u001b[0m \u001b[0margs\u001b[0m\u001b[0;34m,\u001b[0m \u001b[0mkwargs\u001b[0m \u001b[0;32min\u001b[0m \u001b[0mself\u001b[0m\u001b[0;34m.\u001b[0m\u001b[0mitems\u001b[0m\u001b[0;34m]\u001b[0m\u001b[0;34m\u001b[0m\u001b[0m\n\u001b[0m\u001b[1;32m    132\u001b[0m \u001b[0;34m\u001b[0m\u001b[0m\n\u001b[1;32m    133\u001b[0m     \u001b[0;32mdef\u001b[0m \u001b[0m__len__\u001b[0m\u001b[0;34m(\u001b[0m\u001b[0mself\u001b[0m\u001b[0;34m)\u001b[0m\u001b[0;34m:\u001b[0m\u001b[0;34m\u001b[0m\u001b[0m\n",
      "\u001b[0;32m/home/villacorta/anaconda3/lib/python3.6/site-packages/sklearn/model_selection/_validation.py\u001b[0m in \u001b[0;36m_fit_and_score\u001b[0;34m(estimator, X, y, scorer, train, test, verbose, parameters, fit_params, return_train_score, return_parameters, return_n_test_samples, return_times, error_score)\u001b[0m\n\u001b[1;32m    456\u001b[0m             \u001b[0mestimator\u001b[0m\u001b[0;34m.\u001b[0m\u001b[0mfit\u001b[0m\u001b[0;34m(\u001b[0m\u001b[0mX_train\u001b[0m\u001b[0;34m,\u001b[0m \u001b[0;34m**\u001b[0m\u001b[0mfit_params\u001b[0m\u001b[0;34m)\u001b[0m\u001b[0;34m\u001b[0m\u001b[0m\n\u001b[1;32m    457\u001b[0m         \u001b[0;32melse\u001b[0m\u001b[0;34m:\u001b[0m\u001b[0;34m\u001b[0m\u001b[0m\n\u001b[0;32m--> 458\u001b[0;31m             \u001b[0mestimator\u001b[0m\u001b[0;34m.\u001b[0m\u001b[0mfit\u001b[0m\u001b[0;34m(\u001b[0m\u001b[0mX_train\u001b[0m\u001b[0;34m,\u001b[0m \u001b[0my_train\u001b[0m\u001b[0;34m,\u001b[0m \u001b[0;34m**\u001b[0m\u001b[0mfit_params\u001b[0m\u001b[0;34m)\u001b[0m\u001b[0;34m\u001b[0m\u001b[0m\n\u001b[0m\u001b[1;32m    459\u001b[0m \u001b[0;34m\u001b[0m\u001b[0m\n\u001b[1;32m    460\u001b[0m     \u001b[0;32mexcept\u001b[0m \u001b[0mException\u001b[0m \u001b[0;32mas\u001b[0m \u001b[0me\u001b[0m\u001b[0;34m:\u001b[0m\u001b[0;34m\u001b[0m\u001b[0m\n",
      "\u001b[0;32m/home/villacorta/anaconda3/lib/python3.6/site-packages/sklearn/ensemble/forest.py\u001b[0m in \u001b[0;36mfit\u001b[0;34m(self, X, y, sample_weight)\u001b[0m\n\u001b[1;32m    326\u001b[0m                     \u001b[0mt\u001b[0m\u001b[0;34m,\u001b[0m \u001b[0mself\u001b[0m\u001b[0;34m,\u001b[0m \u001b[0mX\u001b[0m\u001b[0;34m,\u001b[0m \u001b[0my\u001b[0m\u001b[0;34m,\u001b[0m \u001b[0msample_weight\u001b[0m\u001b[0;34m,\u001b[0m \u001b[0mi\u001b[0m\u001b[0;34m,\u001b[0m \u001b[0mlen\u001b[0m\u001b[0;34m(\u001b[0m\u001b[0mtrees\u001b[0m\u001b[0;34m)\u001b[0m\u001b[0;34m,\u001b[0m\u001b[0;34m\u001b[0m\u001b[0m\n\u001b[1;32m    327\u001b[0m                     verbose=self.verbose, class_weight=self.class_weight)\n\u001b[0;32m--> 328\u001b[0;31m                 for i, t in enumerate(trees))\n\u001b[0m\u001b[1;32m    329\u001b[0m \u001b[0;34m\u001b[0m\u001b[0m\n\u001b[1;32m    330\u001b[0m             \u001b[0;31m# Collect newly grown trees\u001b[0m\u001b[0;34m\u001b[0m\u001b[0;34m\u001b[0m\u001b[0m\n",
      "\u001b[0;32m/home/villacorta/anaconda3/lib/python3.6/site-packages/sklearn/externals/joblib/parallel.py\u001b[0m in \u001b[0;36m__call__\u001b[0;34m(self, iterable)\u001b[0m\n\u001b[1;32m    787\u001b[0m                 \u001b[0;31m# consumption.\u001b[0m\u001b[0;34m\u001b[0m\u001b[0;34m\u001b[0m\u001b[0m\n\u001b[1;32m    788\u001b[0m                 \u001b[0mself\u001b[0m\u001b[0;34m.\u001b[0m\u001b[0m_iterating\u001b[0m \u001b[0;34m=\u001b[0m \u001b[0;32mFalse\u001b[0m\u001b[0;34m\u001b[0m\u001b[0m\n\u001b[0;32m--> 789\u001b[0;31m             \u001b[0mself\u001b[0m\u001b[0;34m.\u001b[0m\u001b[0mretrieve\u001b[0m\u001b[0;34m(\u001b[0m\u001b[0;34m)\u001b[0m\u001b[0;34m\u001b[0m\u001b[0m\n\u001b[0m\u001b[1;32m    790\u001b[0m             \u001b[0;31m# Make sure that we get a last message telling us we are done\u001b[0m\u001b[0;34m\u001b[0m\u001b[0;34m\u001b[0m\u001b[0m\n\u001b[1;32m    791\u001b[0m             \u001b[0melapsed_time\u001b[0m \u001b[0;34m=\u001b[0m \u001b[0mtime\u001b[0m\u001b[0;34m.\u001b[0m\u001b[0mtime\u001b[0m\u001b[0;34m(\u001b[0m\u001b[0;34m)\u001b[0m \u001b[0;34m-\u001b[0m \u001b[0mself\u001b[0m\u001b[0;34m.\u001b[0m\u001b[0m_start_time\u001b[0m\u001b[0;34m\u001b[0m\u001b[0m\n",
      "\u001b[0;32m/home/villacorta/anaconda3/lib/python3.6/site-packages/sklearn/externals/joblib/parallel.py\u001b[0m in \u001b[0;36mretrieve\u001b[0;34m(self)\u001b[0m\n\u001b[1;32m    697\u001b[0m             \u001b[0;32mtry\u001b[0m\u001b[0;34m:\u001b[0m\u001b[0;34m\u001b[0m\u001b[0m\n\u001b[1;32m    698\u001b[0m                 \u001b[0;32mif\u001b[0m \u001b[0mgetattr\u001b[0m\u001b[0;34m(\u001b[0m\u001b[0mself\u001b[0m\u001b[0;34m.\u001b[0m\u001b[0m_backend\u001b[0m\u001b[0;34m,\u001b[0m \u001b[0;34m'supports_timeout'\u001b[0m\u001b[0;34m,\u001b[0m \u001b[0;32mFalse\u001b[0m\u001b[0;34m)\u001b[0m\u001b[0;34m:\u001b[0m\u001b[0;34m\u001b[0m\u001b[0m\n\u001b[0;32m--> 699\u001b[0;31m                     \u001b[0mself\u001b[0m\u001b[0;34m.\u001b[0m\u001b[0m_output\u001b[0m\u001b[0;34m.\u001b[0m\u001b[0mextend\u001b[0m\u001b[0;34m(\u001b[0m\u001b[0mjob\u001b[0m\u001b[0;34m.\u001b[0m\u001b[0mget\u001b[0m\u001b[0;34m(\u001b[0m\u001b[0mtimeout\u001b[0m\u001b[0;34m=\u001b[0m\u001b[0mself\u001b[0m\u001b[0;34m.\u001b[0m\u001b[0mtimeout\u001b[0m\u001b[0;34m)\u001b[0m\u001b[0;34m)\u001b[0m\u001b[0;34m\u001b[0m\u001b[0m\n\u001b[0m\u001b[1;32m    700\u001b[0m                 \u001b[0;32melse\u001b[0m\u001b[0;34m:\u001b[0m\u001b[0;34m\u001b[0m\u001b[0m\n\u001b[1;32m    701\u001b[0m                     \u001b[0mself\u001b[0m\u001b[0;34m.\u001b[0m\u001b[0m_output\u001b[0m\u001b[0;34m.\u001b[0m\u001b[0mextend\u001b[0m\u001b[0;34m(\u001b[0m\u001b[0mjob\u001b[0m\u001b[0;34m.\u001b[0m\u001b[0mget\u001b[0m\u001b[0;34m(\u001b[0m\u001b[0;34m)\u001b[0m\u001b[0;34m)\u001b[0m\u001b[0;34m\u001b[0m\u001b[0m\n",
      "\u001b[0;32m/home/villacorta/anaconda3/lib/python3.6/multiprocessing/pool.py\u001b[0m in \u001b[0;36mget\u001b[0;34m(self, timeout)\u001b[0m\n\u001b[1;32m    600\u001b[0m \u001b[0;34m\u001b[0m\u001b[0m\n\u001b[1;32m    601\u001b[0m     \u001b[0;32mdef\u001b[0m \u001b[0mget\u001b[0m\u001b[0;34m(\u001b[0m\u001b[0mself\u001b[0m\u001b[0;34m,\u001b[0m \u001b[0mtimeout\u001b[0m\u001b[0;34m=\u001b[0m\u001b[0;32mNone\u001b[0m\u001b[0;34m)\u001b[0m\u001b[0;34m:\u001b[0m\u001b[0;34m\u001b[0m\u001b[0m\n\u001b[0;32m--> 602\u001b[0;31m         \u001b[0mself\u001b[0m\u001b[0;34m.\u001b[0m\u001b[0mwait\u001b[0m\u001b[0;34m(\u001b[0m\u001b[0mtimeout\u001b[0m\u001b[0;34m)\u001b[0m\u001b[0;34m\u001b[0m\u001b[0m\n\u001b[0m\u001b[1;32m    603\u001b[0m         \u001b[0;32mif\u001b[0m \u001b[0;32mnot\u001b[0m \u001b[0mself\u001b[0m\u001b[0;34m.\u001b[0m\u001b[0mready\u001b[0m\u001b[0;34m(\u001b[0m\u001b[0;34m)\u001b[0m\u001b[0;34m:\u001b[0m\u001b[0;34m\u001b[0m\u001b[0m\n\u001b[1;32m    604\u001b[0m             \u001b[0;32mraise\u001b[0m \u001b[0mTimeoutError\u001b[0m\u001b[0;34m\u001b[0m\u001b[0m\n",
      "\u001b[0;32m/home/villacorta/anaconda3/lib/python3.6/multiprocessing/pool.py\u001b[0m in \u001b[0;36mwait\u001b[0;34m(self, timeout)\u001b[0m\n\u001b[1;32m    597\u001b[0m \u001b[0;34m\u001b[0m\u001b[0m\n\u001b[1;32m    598\u001b[0m     \u001b[0;32mdef\u001b[0m \u001b[0mwait\u001b[0m\u001b[0;34m(\u001b[0m\u001b[0mself\u001b[0m\u001b[0;34m,\u001b[0m \u001b[0mtimeout\u001b[0m\u001b[0;34m=\u001b[0m\u001b[0;32mNone\u001b[0m\u001b[0;34m)\u001b[0m\u001b[0;34m:\u001b[0m\u001b[0;34m\u001b[0m\u001b[0m\n\u001b[0;32m--> 599\u001b[0;31m         \u001b[0mself\u001b[0m\u001b[0;34m.\u001b[0m\u001b[0m_event\u001b[0m\u001b[0;34m.\u001b[0m\u001b[0mwait\u001b[0m\u001b[0;34m(\u001b[0m\u001b[0mtimeout\u001b[0m\u001b[0;34m)\u001b[0m\u001b[0;34m\u001b[0m\u001b[0m\n\u001b[0m\u001b[1;32m    600\u001b[0m \u001b[0;34m\u001b[0m\u001b[0m\n\u001b[1;32m    601\u001b[0m     \u001b[0;32mdef\u001b[0m \u001b[0mget\u001b[0m\u001b[0;34m(\u001b[0m\u001b[0mself\u001b[0m\u001b[0;34m,\u001b[0m \u001b[0mtimeout\u001b[0m\u001b[0;34m=\u001b[0m\u001b[0;32mNone\u001b[0m\u001b[0;34m)\u001b[0m\u001b[0;34m:\u001b[0m\u001b[0;34m\u001b[0m\u001b[0m\n",
      "\u001b[0;32m/home/villacorta/anaconda3/lib/python3.6/threading.py\u001b[0m in \u001b[0;36mwait\u001b[0;34m(self, timeout)\u001b[0m\n\u001b[1;32m    549\u001b[0m             \u001b[0msignaled\u001b[0m \u001b[0;34m=\u001b[0m \u001b[0mself\u001b[0m\u001b[0;34m.\u001b[0m\u001b[0m_flag\u001b[0m\u001b[0;34m\u001b[0m\u001b[0m\n\u001b[1;32m    550\u001b[0m             \u001b[0;32mif\u001b[0m \u001b[0;32mnot\u001b[0m \u001b[0msignaled\u001b[0m\u001b[0;34m:\u001b[0m\u001b[0;34m\u001b[0m\u001b[0m\n\u001b[0;32m--> 551\u001b[0;31m                 \u001b[0msignaled\u001b[0m \u001b[0;34m=\u001b[0m \u001b[0mself\u001b[0m\u001b[0;34m.\u001b[0m\u001b[0m_cond\u001b[0m\u001b[0;34m.\u001b[0m\u001b[0mwait\u001b[0m\u001b[0;34m(\u001b[0m\u001b[0mtimeout\u001b[0m\u001b[0;34m)\u001b[0m\u001b[0;34m\u001b[0m\u001b[0m\n\u001b[0m\u001b[1;32m    552\u001b[0m             \u001b[0;32mreturn\u001b[0m \u001b[0msignaled\u001b[0m\u001b[0;34m\u001b[0m\u001b[0m\n\u001b[1;32m    553\u001b[0m \u001b[0;34m\u001b[0m\u001b[0m\n",
      "\u001b[0;32m/home/villacorta/anaconda3/lib/python3.6/threading.py\u001b[0m in \u001b[0;36mwait\u001b[0;34m(self, timeout)\u001b[0m\n\u001b[1;32m    293\u001b[0m         \u001b[0;32mtry\u001b[0m\u001b[0;34m:\u001b[0m    \u001b[0;31m# restore state no matter what (e.g., KeyboardInterrupt)\u001b[0m\u001b[0;34m\u001b[0m\u001b[0m\n\u001b[1;32m    294\u001b[0m             \u001b[0;32mif\u001b[0m \u001b[0mtimeout\u001b[0m \u001b[0;32mis\u001b[0m \u001b[0;32mNone\u001b[0m\u001b[0;34m:\u001b[0m\u001b[0;34m\u001b[0m\u001b[0m\n\u001b[0;32m--> 295\u001b[0;31m                 \u001b[0mwaiter\u001b[0m\u001b[0;34m.\u001b[0m\u001b[0macquire\u001b[0m\u001b[0;34m(\u001b[0m\u001b[0;34m)\u001b[0m\u001b[0;34m\u001b[0m\u001b[0m\n\u001b[0m\u001b[1;32m    296\u001b[0m                 \u001b[0mgotit\u001b[0m \u001b[0;34m=\u001b[0m \u001b[0;32mTrue\u001b[0m\u001b[0;34m\u001b[0m\u001b[0m\n\u001b[1;32m    297\u001b[0m             \u001b[0;32melse\u001b[0m\u001b[0;34m:\u001b[0m\u001b[0;34m\u001b[0m\u001b[0m\n",
      "\u001b[0;31mKeyboardInterrupt\u001b[0m: "
     ]
    }
   ],
   "source": [
    "from sklearn.model_selection import cross_val_score\n",
    "from sklearn.neural_network import MLPClassifier\n",
    "from sklearn.ensemble import ExtraTreesClassifier\n",
    "from sklearn.ensemble import RandomForestClassifier\n",
    "\n",
    "estimators = (100,150, 250, 350, 500, 650, 800, 950)\n",
    "splits =  (55, 50, 45, 40, 35, 30, 25)\n",
    "features =  (0.999,)\n",
    "\n",
    "print(\"---> DATA CON STD\")\n",
    "for est in estimators:\n",
    "    for sp in splits:\n",
    "        for ff in features:\n",
    "            clf =  RandomForestClassifier(n_estimators=est, n_jobs=2, min_samples_split=sp,\n",
    "                                         max_features=ff, random_state=2)\n",
    "            scores = cross_val_score(clf, xx_train_std, y_train, cv=5)\n",
    "            print(\"arboles: '{}', sample_split '{}' , featute {}\".format(est, sp, ff), scores)\n",
    "            print(\"Accuracy: %0.4f (+/- %0.4f)\" % (scores.mean(), scores.std() * 2))\n",
    "            print(\"////////////////////////////////////////\")  # ejecutando\n",
    "print(\"---\")\n",
    "print(\"---\")\n",
    "print(\"---> DATA CON MINMAX\")\n",
    "for est in estimators:\n",
    "    for sp in splits:\n",
    "        for ff in features:\n",
    "            clf =  RandomForestClassifier(n_estimators=est, n_jobs=2, min_samples_split=sp,\n",
    "                                         max_features=ff, random_state=2)\n",
    "            scores = cross_val_score(clf, xx_train_mm, y_train, cv=5)\n",
    "            print(\"arboles: '{}', sample_split '{}' , featute {}\".format(est, sp, ff), scores)\n",
    "            print(\"Accuracy: %0.4f (+/- %0.4f)\" % (scores.mean(), scores.std() * 2))\n",
    "            print(\"#########################################\")  # ejecutando"
   ]
  },
  {
   "cell_type": "code",
   "execution_count": 6,
   "metadata": {
    "collapsed": false
   },
   "outputs": [
    {
     "name": "stdout",
     "output_type": "stream",
     "text": [
      "---> DATA CON STD\n",
      "nodos: '50', solver 'adam'  [ 0.86543818  0.87258053  0.86457143  0.87527681  0.86970498]\n",
      "Accuracy: 0.8695 (+/- 0.0082)\n",
      "////////////////////////////////////////\n",
      "nodos: '50', solver 'sgd'  [ 0.86958074  0.87208057  0.86935714  0.86499036  0.86820487]\n",
      "Accuracy: 0.8688 (+/- 0.0046)\n",
      "////////////////////////////////////////\n",
      "nodos: '100', solver 'adam'  [ 0.85808157  0.8554389   0.85335714  0.87413387  0.87213372]\n",
      "Accuracy: 0.8626 (+/- 0.0175)\n",
      "////////////////////////////////////////\n",
      "nodos: '100', solver 'sgd'  [ 0.86908078  0.86808085  0.86821429  0.87241946  0.86999071]\n",
      "Accuracy: 0.8696 (+/- 0.0032)\n",
      "////////////////////////////////////////\n",
      "nodos: '200', solver 'adam'  [ 0.8484394   0.85222484  0.846       0.85741839  0.85813272]\n",
      "Accuracy: 0.8524 (+/- 0.0096)\n",
      "////////////////////////////////////////\n"
     ]
    },
    {
     "name": "stderr",
     "output_type": "stream",
     "text": [
      "/home/villacorta/anaconda3/lib/python3.6/site-packages/sklearn/neural_network/multilayer_perceptron.py:566: UserWarning: Training interrupted by user.\n",
      "  warnings.warn(\"Training interrupted by user.\")\n",
      "/home/villacorta/anaconda3/lib/python3.6/site-packages/sklearn/neural_network/multilayer_perceptron.py:566: UserWarning: Training interrupted by user.\n",
      "  warnings.warn(\"Training interrupted by user.\")\n",
      "/home/villacorta/anaconda3/lib/python3.6/site-packages/sklearn/neural_network/multilayer_perceptron.py:566: UserWarning: Training interrupted by user.\n",
      "  warnings.warn(\"Training interrupted by user.\")\n",
      "/home/villacorta/anaconda3/lib/python3.6/site-packages/sklearn/neural_network/multilayer_perceptron.py:566: UserWarning: Training interrupted by user.\n",
      "  warnings.warn(\"Training interrupted by user.\")\n"
     ]
    },
    {
     "name": "stdout",
     "output_type": "stream",
     "text": [
      "nodos: '200', solver 'sgd'  [ 0.853939    0.86379544  0.47757143  0.33252375  0.58997071]\n",
      "Accuracy: 0.6236 (+/- 0.4175)\n",
      "////////////////////////////////////////\n"
     ]
    },
    {
     "name": "stderr",
     "output_type": "stream",
     "text": [
      "/home/villacorta/anaconda3/lib/python3.6/site-packages/sklearn/neural_network/multilayer_perceptron.py:566: UserWarning: Training interrupted by user.\n",
      "  warnings.warn(\"Training interrupted by user.\")\n",
      "ERROR:root:Internal Python error in the inspect module.\n",
      "Below is the traceback from this internal error.\n",
      "\n"
     ]
    },
    {
     "name": "stdout",
     "output_type": "stream",
     "text": [
      "Traceback (most recent call last):\n",
      "  File \"/home/villacorta/anaconda3/lib/python3.6/site-packages/IPython/core/interactiveshell.py\", line 2881, in run_code\n",
      "    exec(code_obj, self.user_global_ns, self.user_ns)\n",
      "  File \"<ipython-input-6-ddca76a962df>\", line 12, in <module>\n",
      "    scores = cross_val_score(red, xx_train_std, y_train, cv=5)\n",
      "  File \"/home/villacorta/anaconda3/lib/python3.6/site-packages/sklearn/model_selection/_validation.py\", line 342, in cross_val_score\n",
      "    pre_dispatch=pre_dispatch)\n",
      "  File \"/home/villacorta/anaconda3/lib/python3.6/site-packages/sklearn/model_selection/_validation.py\", line 206, in cross_validate\n",
      "    for train, test in cv.split(X, y, groups))\n",
      "  File \"/home/villacorta/anaconda3/lib/python3.6/site-packages/sklearn/externals/joblib/parallel.py\", line 779, in __call__\n",
      "    while self.dispatch_one_batch(iterator):\n",
      "  File \"/home/villacorta/anaconda3/lib/python3.6/site-packages/sklearn/externals/joblib/parallel.py\", line 625, in dispatch_one_batch\n",
      "    self._dispatch(tasks)\n",
      "  File \"/home/villacorta/anaconda3/lib/python3.6/site-packages/sklearn/externals/joblib/parallel.py\", line 588, in _dispatch\n",
      "    job = self._backend.apply_async(batch, callback=cb)\n",
      "  File \"/home/villacorta/anaconda3/lib/python3.6/site-packages/sklearn/externals/joblib/_parallel_backends.py\", line 111, in apply_async\n",
      "    result = ImmediateResult(func)\n",
      "  File \"/home/villacorta/anaconda3/lib/python3.6/site-packages/sklearn/externals/joblib/_parallel_backends.py\", line 332, in __init__\n",
      "    self.results = batch()\n",
      "  File \"/home/villacorta/anaconda3/lib/python3.6/site-packages/sklearn/externals/joblib/parallel.py\", line 131, in __call__\n",
      "    return [func(*args, **kwargs) for func, args, kwargs in self.items]\n",
      "  File \"/home/villacorta/anaconda3/lib/python3.6/site-packages/sklearn/externals/joblib/parallel.py\", line 131, in <listcomp>\n",
      "    return [func(*args, **kwargs) for func, args, kwargs in self.items]\n",
      "  File \"/home/villacorta/anaconda3/lib/python3.6/site-packages/sklearn/model_selection/_validation.py\", line 488, in _fit_and_score\n",
      "    test_scores = _score(estimator, X_test, y_test, scorer, is_multimetric)\n",
      "  File \"/home/villacorta/anaconda3/lib/python3.6/site-packages/sklearn/model_selection/_validation.py\", line 523, in _score\n",
      "    return _multimetric_score(estimator, X_test, y_test, scorer)\n",
      "  File \"/home/villacorta/anaconda3/lib/python3.6/site-packages/sklearn/model_selection/_validation.py\", line 553, in _multimetric_score\n",
      "    score = scorer(estimator, X_test, y_test)\n",
      "  File \"/home/villacorta/anaconda3/lib/python3.6/site-packages/sklearn/metrics/scorer.py\", line 244, in _passthrough_scorer\n",
      "    return estimator.score(*args, **kwargs)\n",
      "  File \"/home/villacorta/anaconda3/lib/python3.6/site-packages/sklearn/base.py\", line 349, in score\n",
      "    return accuracy_score(y, self.predict(X), sample_weight=sample_weight)\n",
      "  File \"/home/villacorta/anaconda3/lib/python3.6/site-packages/sklearn/neural_network/multilayer_perceptron.py\", line 949, in predict\n",
      "    y_pred = self._predict(X)\n",
      "  File \"/home/villacorta/anaconda3/lib/python3.6/site-packages/sklearn/neural_network/multilayer_perceptron.py\", line 678, in _predict\n",
      "    self._forward_pass(activations)\n",
      "  File \"/home/villacorta/anaconda3/lib/python3.6/site-packages/sklearn/neural_network/multilayer_perceptron.py\", line 105, in _forward_pass\n",
      "    self.coefs_[i])\n",
      "  File \"/home/villacorta/anaconda3/lib/python3.6/site-packages/sklearn/utils/extmath.py\", line 140, in safe_sparse_dot\n",
      "    return np.dot(a, b)\n",
      "KeyboardInterrupt\n",
      "\n",
      "During handling of the above exception, another exception occurred:\n",
      "\n",
      "Traceback (most recent call last):\n",
      "  File \"/home/villacorta/anaconda3/lib/python3.6/site-packages/IPython/core/interactiveshell.py\", line 1821, in showtraceback\n",
      "    stb = value._render_traceback_()\n",
      "AttributeError: 'KeyboardInterrupt' object has no attribute '_render_traceback_'\n",
      "\n",
      "During handling of the above exception, another exception occurred:\n",
      "\n",
      "Traceback (most recent call last):\n",
      "  File \"/home/villacorta/anaconda3/lib/python3.6/site-packages/IPython/core/ultratb.py\", line 1132, in get_records\n",
      "    return _fixed_getinnerframes(etb, number_of_lines_of_context, tb_offset)\n",
      "  File \"/home/villacorta/anaconda3/lib/python3.6/site-packages/IPython/core/ultratb.py\", line 313, in wrapped\n",
      "    return f(*args, **kwargs)\n",
      "  File \"/home/villacorta/anaconda3/lib/python3.6/site-packages/IPython/core/ultratb.py\", line 358, in _fixed_getinnerframes\n",
      "    records = fix_frame_records_filenames(inspect.getinnerframes(etb, context))\n",
      "  File \"/home/villacorta/anaconda3/lib/python3.6/inspect.py\", line 1454, in getinnerframes\n",
      "    frameinfo = (tb.tb_frame,) + getframeinfo(tb, context)\n",
      "  File \"/home/villacorta/anaconda3/lib/python3.6/inspect.py\", line 1411, in getframeinfo\n",
      "    filename = getsourcefile(frame) or getfile(frame)\n",
      "  File \"/home/villacorta/anaconda3/lib/python3.6/inspect.py\", line 666, in getsourcefile\n",
      "    if getattr(getmodule(object, filename), '__loader__', None) is not None:\n",
      "  File \"/home/villacorta/anaconda3/lib/python3.6/inspect.py\", line 709, in getmodule\n",
      "    f = getabsfile(module)\n",
      "  File \"/home/villacorta/anaconda3/lib/python3.6/inspect.py\", line 679, in getabsfile\n",
      "    return os.path.normcase(os.path.abspath(_filename))\n",
      "  File \"/home/villacorta/anaconda3/lib/python3.6/posixpath.py\", line 376, in abspath\n",
      "    return normpath(path)\n",
      "  File \"/home/villacorta/anaconda3/lib/python3.6/posixpath.py\", line 355, in normpath\n",
      "    if (comp != dotdot or (not initial_slashes and not new_comps) or\n",
      "KeyboardInterrupt\n"
     ]
    },
    {
     "ename": "KeyboardInterrupt",
     "evalue": "",
     "output_type": "error",
     "traceback": [
      "\u001b[0;31m---------------------------------------------------------------------------\u001b[0m"
     ]
    }
   ],
   "source": [
    "from sklearn.model_selection import cross_val_score\n",
    "from sklearn.neural_network import MLPClassifier\n",
    "from sklearn.ensemble import RandomForestClassifier\n",
    "estimators = (50, 100, 200, 500)\n",
    "splits =  ['adam','sgd']\n",
    "\n",
    "print(\"---> DATA CON STD\")\n",
    "for est in estimators:\n",
    "    for sp in splits:\n",
    "        red = MLPClassifier(max_iter=1000000000, hidden_layer_sizes=(est,int(est/2),int(est/5), int(est/10)), activation='relu',\n",
    "                            alpha=0.0000000001, solver=sp, random_state=2, batch_size='auto')\n",
    "        scores = cross_val_score(red, xx_train_std, y_train, cv=5)\n",
    "        print(\"nodos: '{}', solver '{}' \".format(est, sp), scores)\n",
    "        print(\"Accuracy: %0.4f (+/- %0.4f)\" % (scores.mean(), scores.std() * 2))\n",
    "        print(\"////////////////////////////////////////\")  # ejecutando\n",
    "\n",
    "print(\"---> DATA CON MINMAX\")\n",
    "for est in estimators:\n",
    "    for sp in splits:\n",
    "        red = MLPClassifier(max_iter=1000000000, hidden_layer_sizes=(est,est,est,est), activation='relu',\n",
    "                            alpha=0.0000000001, solver=sp, random_state=2, batch_size='auto')\n",
    "        scores = cross_val_score(red, xx_train_mm, y_train, cv=5)\n",
    "        print(\"nodos: '{}', solver '{}' \".format(est, sp), scores)\n",
    "        print(\"Accuracy: %0.4f (+/- %0.4f)\" % (scores.mean(), scores.std() * 2))\n",
    "        print(\"////////////////////////////////////////\")  # ejecuta"
   ]
  },
  {
   "cell_type": "code",
   "execution_count": 4,
   "metadata": {
    "collapsed": true
   },
   "outputs": [],
   "source": [
    "from sklearn.model_selection import cross_val_score\n",
    "from sklearn.neural_network import MLPClassifier\n",
    "from sklearn.ensemble import RandomForestClassifier\n",
    "initial = 'MIXRFlabelencoder_imputacion_factorizacion_allVar_'\n",
    "import csv\n",
    "def generate_csv(clf, predic, name):\n",
    "    name = initial + name\n",
    "    result = clf.predict_proba(predic)\n",
    "    result = [float(\"{0:.5f}\".format(_)) for _ in list(zip(*result))[1]]\n",
    "    result = list(zip(list(idd), result))\n",
    "    result.insert(0, ('ID_CORRELATIVO', 'ATTRITION'))\n",
    "    with open(\"{}.csv\".format(name), 'w') as resultFile:\n",
    "       wr = csv.writer(resultFile, dialect='excel')\n",
    "       for row in result:\n",
    "           wr.writerow(row)"
   ]
  },
  {
   "cell_type": "code",
   "execution_count": 5,
   "metadata": {
    "collapsed": false
   },
   "outputs": [
    {
     "name": "stdout",
     "output_type": "stream",
     "text": [
      "RF///////////////////////////////////////////////STD2_RandomForest_arboles200_sp50\n",
      "RF///////////////////////////////////////////////MINMAX2_RandomForest_arboles200_sp50\n",
      "RF///////////////////////////////////////////////STD2_RandomForest_arboles300_sp50\n",
      "RF///////////////////////////////////////////////MINMAX2_RandomForest_arboles300_sp50\n",
      "RF///////////////////////////////////////////////STD2_RandomForest_arboles400_sp50\n",
      "RF///////////////////////////////////////////////MINMAX2_RandomForest_arboles400_sp50\n",
      "RF///////////////////////////////////////////////STD2_RandomForest_arboles550_sp50\n",
      "RF///////////////////////////////////////////////MINMAX2_RandomForest_arboles550_sp50\n",
      "RF///////////////////////////////////////////////STD2_RandomForest_arboles600_sp50\n",
      "RF///////////////////////////////////////////////MINMAX2_RandomForest_arboles600_sp50\n"
     ]
    }
   ],
   "source": [
    "list_train = [(xx_train_std, xx_predic_std), (xx_train_mm, xx_predic_mm)]\n",
    "from sklearn.ensemble import RandomForestClassifier\n",
    "for est in [200, 300, 400, 550, 600]:\n",
    "    for sp in [50]:\n",
    "        for ixx, train in enumerate(list_train):\n",
    "            red =  RandomForestClassifier(n_estimators=est, n_jobs=2, min_samples_split=sp,\n",
    "                                              max_features=0.99, random_state=2)\n",
    "            red.fit(train[0], y_train)\n",
    "            name ='{0}_RandomForest_{1}'.format(\n",
    "                'STD2' if ixx == 0 else 'MINMAX2', 'arboles{0}_sp{1}'.format(est, sp))\n",
    "            generate_csv(red, train[1], name)\n",
    "            print(\"RF///////////////////////////////////////////////{0}\".format(name))"
   ]
  },
  {
   "cell_type": "markdown",
   "metadata": {},
   "source": [
    "est = 100\n",
    "sp = 'sgd'\n",
    "list_train = [(xx_train_std, xx_predic_std), (xx_train_mm, xx_predic_mm)]\n",
    "from sklearn.ensemble import RandomForestClassifier\n",
    "for ixx, train in enumerate(list_train):\n",
    "    red =  red = MLPClassifier(max_iter=1000000000, hidden_layer_sizes=(est,est,est,est) activation='relu',\n",
    "                            alpha=0.0000000001, solver=sp, random_state=2, batch_size='auto')\n",
    "    red.fit(train[0], y_train)\n",
    "    name ='{0}_RedNeuronal_{1}'.format(\n",
    "        'STD2' if ixx == 0 else 'MINMAX2', 'capas_100_50_20_10')\n",
    "    generate_csv(red, train[1], name)\n",
    "    print(\"quitcolumNULL///////////////////////////////////////////////{0}\".format(name))"
   ]
  },
  {
   "cell_type": "code",
   "execution_count": 7,
   "metadata": {
    "collapsed": false
   },
   "outputs": [
    {
     "name": "stdout",
     "output_type": "stream",
     "text": [
      "quitcolumNULL///////////////////////////////////////////////STD2_RedNeuronal_layer_100_100_100_100\n",
      "quitcolumNULL///////////////////////////////////////////////MINMAX2_RedNeuronal_layer_100_100_100_100\n"
     ]
    }
   ],
   "source": [
    "from sklearn import svm\n",
    "list_train = [(xx_train_std, xx_predic_std), (xx_train_mm, xx_predic_mm)]\n",
    "from sklearn.ensemble import RandomForestClassifier\n",
    "for ixx, train in enumerate(list_train):\n",
    "    red = MLPClassifier(max_iter=1000000000, hidden_layer_sizes=(est,est,est,est), activation='relu',\n",
    "                            alpha=0.0000000001, solver=sp, random_state=2, batch_size='auto')\n",
    "    red.fit(train[0], y_train)\n",
    "    name ='{0}_SVM_{1}'.format(\n",
    "        'STD2' if ixx == 0 else 'MINMAX2', 'layer_100_100_100_100')\n",
    "    generate_csv(red, train[1], name)\n",
    "    print(\"quitcolumNULL///////////////////////////////////////////////{0}\".format(name))"
   ]
  },
  {
   "cell_type": "code",
   "execution_count": null,
   "metadata": {
    "collapsed": false
   },
   "outputs": [
    {
     "name": "stdout",
     "output_type": "stream",
     "text": [
      "C: '1', gamma '1' , tipo data STD2 [ 0.85886722  0.86022427  0.8595      0.85756125  0.8595614 ]\n",
      "Accuracy: 0.8591 (+/- 0.0018)\n",
      "////////////////////////////////////////\n",
      "C: '1', gamma '1' , tipo data MINMAX2 [ 0.85915292  0.86136705  0.86135714  0.8604186   0.86256161]\n",
      "Accuracy: 0.8610 (+/- 0.0023)\n",
      "////////////////////////////////////////\n"
     ]
    }
   ],
   "source": [
    "list_train = [(xx_train_std, xx_predic_std)] #(xx_train_mm, xx_predic_mm)\n",
    "pairs = [(1,1), (10, 1), (1, 10), (10, 10)]\n",
    "from sklearn import svm\n",
    "from sklearn.model_selection import cross_val_score\n",
    "for c, g in pairs:\n",
    "    for ixx, train in enumerate(list_train):\n",
    "        clf = svm.SVC(kernel='rbf', C=c, gamma=g, probability=True, tol=0.0000001, cache_size=500)\n",
    "        scores = cross_val_score(clf, train[0], y_train, cv=5)\n",
    "        print(\"C: '{}', gamma '{}' , tipo data {}\".format(c, g,'STD2' if ixx == 0 else 'MINMAX2'), scores)\n",
    "        print(\"Accuracy: %0.4f (+/- %0.4f)\" % (scores.mean(), scores.std() * 2))\n",
    "        print(\"////////////////////////////////////////\")  # ejecutando\n"
   ]
  },
  {
   "cell_type": "code",
   "execution_count": null,
   "metadata": {
    "collapsed": true
   },
   "outputs": [],
   "source": []
  }
 ],
 "metadata": {
  "kernelspec": {
   "display_name": "Python 3",
   "language": "python",
   "name": "python3"
  },
  "language_info": {
   "codemirror_mode": {
    "name": "ipython",
    "version": 3
   },
   "file_extension": ".py",
   "mimetype": "text/x-python",
   "name": "python",
   "nbconvert_exporter": "python",
   "pygments_lexer": "ipython3",
   "version": "3.6.0"
  }
 },
 "nbformat": 4,
 "nbformat_minor": 2
}
