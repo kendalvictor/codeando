{
 "cells": [
  {
   "cell_type": "code",
   "execution_count": 2,
   "metadata": {},
   "outputs": [
    {
     "name": "stdout",
     "output_type": "stream",
     "text": [
      "Data Train:  (70000, 54)\n",
      "Data Test:   (30000, 53)\n"
     ]
    }
   ],
   "source": [
    "from sklearn.neural_network import MLPClassifier\n",
    "from sklearn.ensemble import ExtraTreesClassifier\n",
    "from sklearn.feature_selection import RFE\n",
    "from sklearn.preprocessing import StandardScaler\n",
    "from sklearn.preprocessing import MinMaxScaler\n",
    "import pandas as pd\n",
    "import numpy as np \n",
    "import matplotlib.pyplot as plt \n",
    "import csv\n",
    "# graficos incrustados\n",
    "%matplotlib inline\n",
    "#Carga de los CSV\n",
    "BBVA_data = pd.read_csv('labelencoder_train_clientes.csv', header=0)\n",
    "BBVA_test = pd.read_csv('labelencoder_test_clientes.csv', header=0)\n",
    "\n",
    "primer = list(BBVA_data.columns.values)[0]\n",
    "X_train = BBVA_data.drop([primer, 'ID_CORRELATIVO', 'ATTRITION'], axis=1)\n",
    "X_predic = BBVA_test.drop([primer, 'ID_CORRELATIVO'], axis=1)\n",
    "y_train = BBVA_data['ATTRITION'].values"
   ]
  },
  {
   "cell_type": "code",
   "execution_count": null,
   "metadata": {
    "collapsed": true
   },
   "outputs": [],
   "source": [
    "class ProcessBBVa(object):\n",
    "    xx_train_std = None\n",
    "    xx_predic_std = None\n",
    "    xx_train_mm = None\n",
    "    xx_predic_mm = None\n",
    "    idd = None\n",
    "    initial = '33_15_label_imputacion_factorizacion_15var_'\n",
    "    \n",
    "    def __init__(self, x_train, x_predic, y_train):\n",
    "        self.x_train = x_train\n",
    "        seff.x_predic = x_predic\n",
    "        self.y_train = y_train\n",
    "    \n",
    "    def get_data_colum_classifier(self, nn):\n",
    "        extra = ExtraTreesClassifier(n_estimators=250, n_jobs=2, min_samples_split=25, \n",
    "                                     max_features=0.99, random_state=2)\n",
    "        columnas = list(self.x_train.values)\n",
    "        era = RFE(extra, nn)\n",
    "        era = era.fit(self.x_train.values, self.y_train)\n",
    "\n",
    "        atrib = era.support_\n",
    "        atributos = [columnas[i] for i in list(atrib.nonzero()[0])]\n",
    "        self.x_train = self.x_train.loc[:,atributos].values\n",
    "        seff.x_predic = seff.x_predic.loc[:,atributos].values\n",
    "    \n",
    "    def get_data_std_minmax(self):\n",
    "        sc_X = StandardScaler(copy=True, with_mean=True, with_std=True)\n",
    "        self.xx_train_std = sc_X.fit_transform(self.x_train.astype(float))\n",
    "        self.xx_predic_std = sc_X.transform(seff.x_predic.astype(float))\n",
    "\n",
    "        sc_MM = MinMaxScaler()\n",
    "        self.xx_train_mm = sc_MM.fit_transform(self.x_train.astype(float))\n",
    "        self.xx_predic_mm = sc_MM.transform(seff.x_predic.astype(float))\n",
    "        self.idd = BBVA_test['ID_CORRELATIVO']\n",
    "    \n",
    "    def generate_csv(clf, predic, name):\n",
    "        name = self.initial + name\n",
    "        result = clf.predict_proba(predic)\n",
    "        result = [float(\"{0:.5f}\".format(_)) for _ in list(zip(*result))[1]]\n",
    "        result = list(zip(list(idd), result))\n",
    "        result.insert(0, ('ID_CORRELATIVO', 'ATTRITION'))\n",
    "        with open(\"{}.csv\".format(name), 'w') as resultFile:\n",
    "           wr = csv.writer(resultFile, dialect='excel')\n",
    "           for row in result:\n",
    "               wr.writerow(row)\n",
    "    \n",
    "    def generate_result(self):\n",
    "        list_train = [(self.xx_train_std, self.xx_predic_std), (self.xx_train_mm, self.xx_predic_mm)]\n",
    "\n",
    "        for ixx, train in enumerate(list_train):\n",
    "            red = MLPClassifier(max_iter=1000000000, hidden_layer_sizes=(100,100), alpha=0.0000000001,\n",
    "                                solver='sgd', random_state=2)\n",
    "            red.fit(train[0], y_train)\n",
    "            name ='{0}_RedNeuronal_{1}'.format(\n",
    "                'STD2' if ixx == 0 else 'MINMAX2', 'sgd')\n",
    "            self.generate_csv(red, train[1], name)\n",
    "            print(\"///////////////////////////////////////////////{0}\".format(name))\n",
    "    \n",
    "\n",
    "    \n",
    "    \n",
    "    \n",
    "        \n",
    "        \n",
    "\n",
    "        "
   ]
  }
 ],
 "metadata": {
  "kernelspec": {
   "display_name": "Python 3",
   "language": "python",
   "name": "python3"
  },
  "language_info": {
   "codemirror_mode": {
    "name": "ipython",
    "version": 3
   },
   "file_extension": ".py",
   "mimetype": "text/x-python",
   "name": "python",
   "nbconvert_exporter": "python",
   "pygments_lexer": "ipython3",
   "version": "3.6.3"
  }
 },
 "nbformat": 4,
 "nbformat_minor": 2
}
