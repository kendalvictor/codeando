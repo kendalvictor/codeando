{
 "cells": [
  {
   "cell_type": "code",
   "execution_count": 1,
   "metadata": {
    "collapsed": false
   },
   "outputs": [
    {
     "name": "stdout",
     "output_type": "stream",
     "text": [
      "Data Train:  (70000, 53)\n"
     ]
    }
   ],
   "source": [
    "#Importaciones basicas\n",
    "import pandas as pd\n",
    "import numpy as np \n",
    "import matplotlib.pyplot as plt \n",
    "# graficos incrustados\n",
    "%matplotlib inline\n",
    "\n",
    "#Carga de los CSV\n",
    "BBVA_data = pd.read_csv('train_clientes.csv', header=0)\n",
    "print(\"Data Train: \", BBVA_data.shape)"
   ]
  },
  {
   "cell_type": "code",
   "execution_count": 2,
   "metadata": {
    "collapsed": false
   },
   "outputs": [
    {
     "name": "stdout",
     "output_type": "stream",
     "text": [
      "Clean Data Train:  (56262, 53)\n"
     ]
    }
   ],
   "source": [
    "if BBVA_data.isnull().any().any():\n",
    "    BBVA_data = BBVA_data.dropna()\n",
    "    print(\"Clean Data Train: \", BBVA_data.shape)"
   ]
  },
  {
   "cell_type": "code",
   "execution_count": 3,
   "metadata": {
    "collapsed": false
   },
   "outputs": [
    {
     "name": "stdout",
     "output_type": "stream",
     "text": [
      "entrenamiento 1:  (56262, 51) <class 'pandas.core.frame.DataFrame'>\n",
      "(56262, 51)\n"
     ]
    }
   ],
   "source": [
    "entrenar = BBVA_data.drop(['ID_CORRELATIVO', 'ATTRITION'], axis=1)\n",
    "print(\"entrenamiento 1: \", entrenar.shape, type(entrenar))\n",
    "print(entrenar.shape)"
   ]
  },
  {
   "cell_type": "code",
   "execution_count": 4,
   "metadata": {
    "collapsed": false
   },
   "outputs": [
    {
     "name": "stdout",
     "output_type": "stream",
     "text": [
      "<class 'pandas.core.frame.DataFrame'> (56262, 51)\n"
     ]
    }
   ],
   "source": [
    "# Separamos las columnas objetivo\n",
    "columna_artitrion = BBVA_data['ATTRITION']\n",
    "columna_id = BBVA_data['ID_CORRELATIVO']\n",
    "# Agregando la columna AGE2\n",
    "EDAD2 = pd.cut(entrenar['EDAD'], range(0, 150, 10))\n",
    "entrenar['EDAD'] = EDAD2\n",
    "entrenar['EDAD'], _ = pd.factorize(entrenar['EDAD'])\n",
    "#Factorizar los datos categoricos\n",
    "tipos = entrenar.columns.to_series().groupby(entrenar.dtypes).groups\n",
    "ctext = tipos[np.dtype('object')]\n",
    "for c in ctext:\n",
    "    entrenar[c], _ = pd.factorize(entrenar[c])\n",
    "print(type(entrenar), entrenar.shape)"
   ]
  },
  {
   "cell_type": "code",
   "execution_count": 5,
   "metadata": {
    "collapsed": false
   },
   "outputs": [
    {
     "name": "stdout",
     "output_type": "stream",
     "text": [
      "Feature ranking:\n",
      "1. feature 33 (0.082426)\n",
      "2. feature 34 (0.068726)\n",
      "3. feature 6 (0.065991)\n",
      "4. feature 2 (0.061077)\n",
      "5. feature 4 (0.056101)\n",
      "6. feature 35 (0.049544)\n",
      "7. feature 36 (0.040269)\n",
      "8. feature 5 (0.032338)\n",
      "9. feature 44 (0.029118)\n",
      "10. feature 41 (0.026767)\n",
      "11. feature 39 (0.024280)\n",
      "12. feature 19 (0.022384)\n",
      "13. feature 21 (0.021973)\n",
      "14. feature 38 (0.021794)\n",
      "15. feature 37 (0.021688)\n",
      "16. feature 40 (0.021413)\n",
      "17. feature 3 (0.019351)\n",
      "18. feature 27 (0.019046)\n",
      "19. feature 43 (0.019025)\n",
      "20. feature 42 (0.017963)\n",
      "21. feature 15 (0.017008)\n",
      "22. feature 20 (0.016986)\n",
      "23. feature 47 (0.016517)\n",
      "24. feature 7 (0.015765)\n",
      "25. feature 13 (0.015613)\n",
      "26. feature 22 (0.015005)\n",
      "27. feature 28 (0.012963)\n",
      "28. feature 45 (0.012701)\n",
      "29. feature 8 (0.010841)\n",
      "30. feature 23 (0.010090)\n",
      "31. feature 24 (0.009965)\n",
      "32. feature 10 (0.009268)\n",
      "33. feature 9 (0.008906)\n",
      "34. feature 29 (0.008473)\n",
      "35. feature 12 (0.008281)\n",
      "36. feature 25 (0.008198)\n",
      "37. feature 50 (0.007757)\n",
      "38. feature 26 (0.007441)\n",
      "39. feature 14 (0.007330)\n",
      "40. feature 46 (0.007230)\n",
      "41. feature 49 (0.007050)\n",
      "42. feature 11 (0.006844)\n",
      "43. feature 30 (0.006692)\n",
      "44. feature 32 (0.006051)\n",
      "45. feature 31 (0.005563)\n",
      "46. feature 16 (0.004691)\n",
      "47. feature 1 (0.004504)\n",
      "48. feature 48 (0.004299)\n",
      "49. feature 18 (0.003505)\n",
      "50. feature 17 (0.003192)\n",
      "51. feature 0 (0.000000)\n"
     ]
    },
    {
     "data": {
      "image/png": "[encoded data removed]",
      "text/plain": [
       "<matplotlib.figure.Figure at 0x7feb5a725e10>"
      ]
     },
     "metadata": {},
     "output_type": "display_data"
    }
   ],
   "source": [
    "from sklearn.ensemble import ExtraTreesClassifier\n",
    "X = entrenar\n",
    "forest = ExtraTreesClassifier(n_estimators=2, random_state=0)\n",
    "forest.fit(entrenar, columna_artitrion)\n",
    "importances = forest.feature_importances_\n",
    "std = np.std([tree.feature_importances_ for tree in forest.estimators_],\n",
    "             axis=0)\n",
    "indices = np.argsort(importances)[::-1]\n",
    "\n",
    "# Print the feature ranking\n",
    "print(\"Feature ranking:\")\n",
    "\n",
    "for f in range(X.shape[1]):\n",
    "    print(\"%d. feature %d (%f)\" % (f + 1, indices[f], importances[indices[f]]))\n",
    "\n",
    "# Plot the feature importances of the forest\n",
    "plt.figure()\n",
    "plt.title(\"Feature importances\")\n",
    "plt.bar(range(X.shape[1]), importances[indices],\n",
    "       color=\"r\", yerr=std[indices], align=\"center\")\n",
    "plt.xticks(range(X.shape[1]), indices)\n",
    "plt.xlim([-1, X.shape[1]])\n",
    "plt.show()"
   ]
  },
  {
   "cell_type": "code",
   "execution_count": 6,
   "metadata": {
    "collapsed": false
   },
   "outputs": [
    {
     "name": "stdout",
     "output_type": "stream",
     "text": [
      "<class 'pandas.core.frame.DataFrame'>\n",
      "['RANG_INGRESO', 'EDAD', 'ANTIGUEDAD', 'RANG_SDO_PASIVO_MENOS0', 'SDO_ACTIVO_MENOS0', 'SDO_ACTIVO_MENOS1', 'RANG_NRO_PRODUCTOS_MENOS0', 'NRO_ACCES_CANAL1_MENOS0', 'NRO_ACCES_CANAL2_MENOS0', 'NRO_ACCES_CANAL3_MENOS0', 'NRO_ACCES_CANAL3_MENOS1', 'NRO_ACCES_CANAL3_MENOS2', 'NRO_ACCES_CANAL3_MENOS3', 'NRO_ACCES_CANAL3_MENOS4', 'NRO_ACCES_CANAL3_MENOS5', 'NRO_ENTID_SSFF_MENOS0', 'NRO_ENTID_SSFF_MENOS1', 'NRO_ENTID_SSFF_MENOS3', 'NRO_ENTID_SSFF_MENOS4', 'NRO_ENTID_SSFF_MENOS5']\n"
     ]
    }
   ],
   "source": [
    "# Algoritmo de Eliminación Recursiva de atributos con ExtraTrees\n",
    "\n",
    "print(type(entrenar))\n",
    "from sklearn.feature_selection import RFE\n",
    "columnas = list(entrenar.columns.values)\n",
    "era = RFE(ExtraTreesClassifier(), 20)  # número de atributos a seleccionar\n",
    "era = era.fit(entrenar, columna_artitrion)\n",
    "# imprimir resultados\n",
    "atrib = era.support_\n",
    "atributos = [columnas[i] for i in list(atrib.nonzero()[0])]\n",
    "print(atributos)"
   ]
  },
  {
   "cell_type": "code",
   "execution_count": 11,
   "metadata": {
    "collapsed": false
   },
   "outputs": [
    {
     "name": "stdout",
     "output_type": "stream",
     "text": [
      "entrenamiento SMOTE:  (98892, 51)\n",
      "<class 'numpy.ndarray'>\n",
      "[[  2.01208000e+05   1.00000000e+00   0.00000000e+00 ...,   0.00000000e+00\n",
      "    0.00000000e+00   0.00000000e+00]\n",
      " [  2.01208000e+05   1.00000000e+00   1.00000000e+00 ...,   0.00000000e+00\n",
      "    0.00000000e+00   0.00000000e+00]\n",
      " [  2.01208000e+05   1.00000000e+00   2.00000000e+00 ...,   0.00000000e+00\n",
      "    0.00000000e+00   0.00000000e+00]\n",
      " ..., \n",
      " [  2.01208000e+05   1.00000000e+00   4.00000000e+00 ...,   0.00000000e+00\n",
      "    0.00000000e+00   0.00000000e+00]\n",
      " [  2.01208000e+05   1.00000000e+00   1.97484893e+00 ...,   1.00000000e+00\n",
      "    1.00000000e+00   1.00000000e+00]\n",
      " [  2.01208000e+05   1.00000000e+00   2.62809323e+00 ...,   1.00000000e+00\n",
      "    1.00000000e+00   1.00000000e+00]]\n"
     ]
    }
   ],
   "source": [
    "from imblearn.over_sampling import SMOTE\n",
    "save_entrenar = entrenar \n",
    "save_artitrion = columna_artitrion\n",
    "entrenar, columna_artitrion = SMOTE(kind='borderline2').fit_sample(entrenar, columna_artitrion)\n",
    "print(\"entrenamiento SMOTE: \", entrenar.shape)\n",
    "print(type(entrenar))\n",
    "print(entrenar)"
   ]
  },
  {
   "cell_type": "code",
   "execution_count": 8,
   "metadata": {
    "collapsed": false
   },
   "outputs": [
    {
     "name": "stdout",
     "output_type": "stream",
     "text": [
      "<class 'numpy.ndarray'>\n",
      "[0 0 0 ..., 1 1 1]\n"
     ]
    }
   ],
   "source": [
    "print(type(columna_artitrion))\n",
    "print(columna_artitrion)"
   ]
  },
  {
   "cell_type": "code",
   "execution_count": 9,
   "metadata": {
    "collapsed": false
   },
   "outputs": [
    {
     "name": "stdout",
     "output_type": "stream",
     "text": [
      "(74168, 51)\n",
      "(24723, 51)\n",
      "(74168,)\n",
      "(24723,)\n"
     ]
    }
   ],
   "source": [
    "from sklearn.model_selection import train_test_split\n",
    "X_train, X_test, y_train, y_test=train_test_split(entrenar,columna_artitrion)\n",
    "#Transformar a la misma escala\n",
    "from sklearn.preprocessing import StandardScaler\n",
    "sc_X=StandardScaler()\n",
    "X_train = sc_X.fit_transform(X_train.astype(float))\n",
    "X_test = sc_X.transform(X_test.astype(float))\n",
    "print(X_train.shape)\n",
    "print(X_test.shape)\n",
    "print(y_train.shape)\n",
    "print(y_test.shape)"
   ]
  },
  {
   "cell_type": "code",
   "execution_count": 10,
   "metadata": {
    "collapsed": false
   },
   "outputs": [
    {
     "name": "stdout",
     "output_type": "stream",
     "text": [
      "SCORE TRAIN:   0.997289936361\n",
      "SCORE TEST:   0.938276099179\n"
     ]
    }
   ],
   "source": [
    "#Importamos desde sklearn.ensamble, el algoritmo de Random Forest\n",
    "from sklearn.ensemble import RandomForestClassifier\n",
    "\n",
    "#Inicializamos el algoritmo Random Forest e indicamos el número de árboles que vamos a construir\n",
    "classifier=RandomForestClassifier(n_estimators=25)\n",
    "\n",
    "#Construimos el modelo sobre los datos de entrenamiento\n",
    "classifier.fit(X_train,y_train)\n",
    "\n",
    "print(\"SCORE TRAIN:  \", classifier.score(X_train, y_train))\n",
    "print(\"SCORE TEST:  \", classifier.score(X_test, y_test))"
   ]
  },
  {
   "cell_type": "code",
   "execution_count": 12,
   "metadata": {
    "collapsed": false
   },
   "outputs": [
    {
     "data": {
      "text/plain": [
       "(56262, 20)"
      ]
     },
     "execution_count": 12,
     "metadata": {},
     "output_type": "execute_result"
    }
   ],
   "source": [
    "X = save_entrenar.loc[:,atributos].values\n",
    "X.shape"
   ]
  },
  {
   "cell_type": "code",
   "execution_count": 14,
   "metadata": {
    "collapsed": false
   },
   "outputs": [],
   "source": [
    "X_train2, X_test2, y_train2, y_test2 = train_test_split(X, save_artitrion)\n",
    "from sklearn.preprocessing import StandardScaler\n",
    "sc_X2 = StandardScaler()\n",
    "X_train2 = sc_X2.fit_transform(X_train2.astype(float))\n",
    "X_test2 = sc_X2.transform(X_test2.astype(float))"
   ]
  },
  {
   "cell_type": "code",
   "execution_count": 15,
   "metadata": {
    "collapsed": false
   },
   "outputs": [
    {
     "name": "stdout",
     "output_type": "stream",
     "text": [
      "SCORE TRAIN:   0.989525073467\n",
      "SCORE TEST:   0.873027157685\n"
     ]
    }
   ],
   "source": [
    "classifier2=RandomForestClassifier(n_estimators=25)\n",
    "#Construimos el modelo sobre los datos de entrenamiento\n",
    "classifier2.fit(X_train2,y_train2)\n",
    "\n",
    "print(\"SCORE TRAIN:  \", classifier2.score(X_train2, y_train2))\n",
    "print(\"SCORE TEST:  \", classifier2.score(X_test2, y_test2))"
   ]
  },
  {
   "cell_type": "code",
   "execution_count": 16,
   "metadata": {
    "collapsed": false
   },
   "outputs": [
    {
     "data": {
      "text/plain": [
       "SVC(C=1.0, cache_size=200, class_weight=None, coef0=0.0,\n",
       "  decision_function_shape='ovr', degree=3, gamma='auto', kernel='rbf',\n",
       "  max_iter=-1, probability=True, random_state=None, shrinking=True,\n",
       "  tol=0.001, verbose=False)"
      ]
     },
     "execution_count": 16,
     "metadata": {},
     "output_type": "execute_result"
    }
   ],
   "source": [
    "from sklearn import svm\n",
    "algoritmo = svm.SVC(probability=True)\n",
    "algoritmo.fit(X_train, y_train)"
   ]
  },
  {
   "cell_type": "code",
   "execution_count": 18,
   "metadata": {
    "collapsed": false
   },
   "outputs": [
    {
     "name": "stdout",
     "output_type": "stream",
     "text": [
      "SCORE TRAIN:   0.865602416136\n",
      "SCORE TEST:   0.861141447235\n"
     ]
    }
   ],
   "source": [
    "print(\"SCORE TRAIN:  \", algoritmo.score(X_train, y_train))\n",
    "print(\"SCORE TEST:  \", algoritmo.score(X_test, y_test))"
   ]
  },
  {
   "cell_type": "code",
   "execution_count": 48,
   "metadata": {
    "collapsed": false
   },
   "outputs": [
    {
     "name": "stdout",
     "output_type": "stream",
     "text": [
      "Automatically created module for IPython interactive environment\n"
     ]
    },
    {
     "name": "stderr",
     "output_type": "stream",
     "text": [
      "/home/villacorta/anaconda3/lib/python3.6/site-packages/ipykernel/__main__.py:7: FutureWarning: in the future, boolean array-likes will be handled as a boolean array index\n",
      "/home/villacorta/anaconda3/lib/python3.6/site-packages/ipykernel/__main__.py:8: FutureWarning: in the future, boolean array-likes will be handled as a boolean array index\n"
     ]
    },
    {
     "data": {
      "image/png": "[encoded data removed]",
      "text/plain": [
       "<matplotlib.figure.Figure at 0x7fbbef4e7e80>"
      ]
     },
     "metadata": {},
     "output_type": "display_data"
    }
   ],
   "source": [
    "from imblearn.over_sampling import SMOTE\n",
    "from sklearn.decomposition import PCA\n",
    "print(__doc__)\n",
    "\n",
    "\n",
    "def plot_resampling(ax, X, y, title):\n",
    "    c0 = ax.scatter(X[y == 0, 0], X[y == 0, 1], label=\"Class #0\", alpha=0.5)\n",
    "    c1 = ax.scatter(X[y == 1, 0], X[y == 1, 1], label=\"Class #1\", alpha=0.5)\n",
    "    ax.set_title(title)\n",
    "    ax.spines['top'].set_visible(False)\n",
    "    ax.spines['right'].set_visible(False)\n",
    "    ax.get_xaxis().tick_bottom()\n",
    "    ax.get_yaxis().tick_left()\n",
    "    ax.spines['left'].set_position(('outward', 10))\n",
    "    ax.spines['bottom'].set_position(('outward', 10))\n",
    "    ax.set_xlim([-6, 8])\n",
    "    ax.set_ylim([-6, 6])\n",
    "\n",
    "    return c0, c1\n",
    "\n",
    "# Instanciate a PCA object for the sake of easy visualisation\n",
    "pca = PCA(n_components=2)\n",
    "# Fit and transform x to visualise inside a 2D feature space\n",
    "X_vis = pca.fit_transform(X_train2)\n",
    "\n",
    "# Apply regular SMOTE\n",
    "kind = ['regular', 'borderline1', 'borderline2', 'svm']\n",
    "X_resampled = []\n",
    "y_resampled = []\n",
    "X_res_vis = []\n",
    "for method in [SMOTE(kind=k) for k in kind]:\n",
    "    X_res, y_res = method.fit_sample(X_train2, y_train2)\n",
    "    X_resampled.append(X_res)\n",
    "    y_resampled.append(y_res)\n",
    "    X_res_vis.append(pca.transform(X_res))\n",
    "\n",
    "# Two subplots, unpack the axes array immediately\n",
    "f, ((ax1, ax2), (ax3, ax4), (ax5, ax6)) = plt.subplots(3, 2)\n",
    "# Remove axis for second plot\n",
    "ax2.axis('off')\n",
    "ax_res = [ax3, ax4, ax5, ax6]\n",
    "\n",
    "c0, c1 = plot_resampling(ax1, X_vis, y_train2, 'Original set')\n",
    "for i in range(len(kind)):\n",
    "    plot_resampling(ax_res[i], X_res_vis[i], y_resampled[i],\n",
    "                    'SMOTE {}'.format(kind[i]))\n",
    "\n",
    "ax2.legend((c0, c1), ('Class #0', 'Class #1'), loc='center',\n",
    "           ncol=1, labelspacing=0.)\n",
    "plt.tight_layout()\n",
    "plt.show()"
   ]
  },
  {
   "cell_type": "code",
   "execution_count": null,
   "metadata": {
    "collapsed": true
   },
   "outputs": [],
   "source": []
  }
 ],
 "metadata": {
  "kernelspec": {
   "display_name": "Python 3",
   "language": "python",
   "name": "python3"
  },
  "language_info": {
   "codemirror_mode": {
    "name": "ipython",
    "version": 3
   },
   "file_extension": ".py",
   "mimetype": "text/x-python",
   "name": "python",
   "nbconvert_exporter": "python",
   "pygments_lexer": "ipython3",
   "version": "3.6.0"
  }
 },
 "nbformat": 4,
 "nbformat_minor": 2
}
