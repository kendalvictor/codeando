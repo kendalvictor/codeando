{
 "cells": [
  {
   "cell_type": "code",
   "execution_count": 1,
   "metadata": {},
   "outputs": [],
   "source": [
    "import glob\n",
    "import pandas as pd"
   ]
  },
  {
   "cell_type": "code",
   "execution_count": 2,
   "metadata": {},
   "outputs": [],
   "source": [
    "def convert_data_model(data):\n",
    "    for val in data.fields[0]:\n",
    "        data[val] = data.fields.apply(lambda x: x.get(val))\n",
    "\n",
    "    for field in ['fields', 'model', 'pk']:\n",
    "        del data[field]\n",
    "    return data"
   ]
  },
  {
   "cell_type": "code",
   "execution_count": 3,
   "metadata": {},
   "outputs": [
    {
     "name": "stdout",
     "output_type": "stream",
     "text": [
      "all_user_promotions/raffles.json\n",
      "all_user_promotions/palco.json\n",
      "all_user_promotions/bajaj.json\n",
      "all_user_promotions/mujeractual.json\n",
      "all_user_promotions/divemotor.json\n",
      "all_user_promotions/fiaestelar.json\n",
      "all_user_promotions/edircom.json\n",
      "all_user_promotions/chimpunes.json\n",
      "all_user_promotions/startup.json\n",
      "all_user_promotions/tablets.json\n",
      "all_user_promotions/elbocon.json\n",
      "all_user_promotions/promosmart.json\n",
      "all_user_promotions/udep.json\n",
      "all_user_promotions/wedding.json\n",
      "all_user_promotions/utp.json\n",
      "all_user_promotions/upc.json\n",
      "all_user_promotions/piura.json\n",
      "all_user_promotions/tecsup.json\n",
      "all_user_promotions/laptops.json\n",
      "all_user_promotions/fiaestelar20.json\n",
      "all_user_promotions/fcontact.json\n",
      "all_user_promotions/ojo.json\n",
      "all_user_promotions/fil2017.json\n"
     ]
    }
   ],
   "source": [
    "writer = pd.ExcelWriter('users_promotions.xlsx', engine='xlsxwriter')\n",
    "\n",
    "for file_json in glob.iglob('all_user_promotions/*.json', recursive=True):\n",
    "    print(file_json)\n",
    "    data = pd.read_json(file_json)\n",
    "    if list(data.columns):\n",
    "        name_save = file_json.split('/')[-1].replace('.json', '')\n",
    "        convert_data_model(data).to_excel(writer, name_save)\n",
    "    del data\n",
    "    \n",
    "writer.save()"
   ]
  },
  {
   "cell_type": "code",
   "execution_count": null,
   "metadata": {},
   "outputs": [],
   "source": []
  }
 ],
 "metadata": {
  "kernelspec": {
   "display_name": "Python 3",
   "language": "python",
   "name": "python3"
  },
  "language_info": {
   "codemirror_mode": {
    "name": "ipython",
    "version": 3
   },
   "file_extension": ".py",
   "mimetype": "text/x-python",
   "name": "python",
   "nbconvert_exporter": "python",
   "pygments_lexer": "ipython3",
   "version": "3.5.2"
  }
 },
 "nbformat": 4,
 "nbformat_minor": 2
}
