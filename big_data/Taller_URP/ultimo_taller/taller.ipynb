{
 "cells": [
  {
   "cell_type": "markdown",
   "metadata": {},
   "source": [
    "Primera parte del taller:\n",
    "\n",
    "1. Ingestar las fuentes de información al HDFS.\n",
    "2. Crear tablas hive las cuales hagan referencia a las entidades ingestadas.\n",
    "3. Crear un archivo en jupyter(Spark) el cual lean los objetos creados en el punto2, luego proceder a unir los dos objetos por el numero_documento y generen un nuevo dataframe con esta unión(con todas las columnas), revisar la nueva entidad(columnas, tipos de dato, etc.), y guardar el dataframe en el hdfs de procesamiento.\n",
    "4. Utilice la columna FlagSample para dividir la muestra en entrenamiento y prueba.\n",
    "5. Cree un modelo randomforest con el nuevo dataframe( solo utilice las variables mencionadas en la diapositiva 6), pruebe elmodelo y guarde el modelo.\n",
    "\n",
    "/user/yarasca_bedon/data_in/dataentry/credito\n",
    "\n",
    "/user/yarasca_bedon/data_in/dbbanco/dbanco/base_clientes"
   ]
  },
  {
   "cell_type": "code",
   "execution_count": 1,
   "metadata": {},
   "outputs": [],
   "source": [
    "import findspark\n",
    "findspark.init('/opt/cloudera/parcels/SPARK2-2.3.0.cloudera3-1.cdh5.13.3.p0.458809/lib/spark2')"
   ]
  },
  {
   "cell_type": "code",
   "execution_count": 2,
   "metadata": {},
   "outputs": [],
   "source": [
    "import pyspark\n",
    "from pyspark.sql import SparkSession"
   ]
  },
  {
   "cell_type": "code",
   "execution_count": 3,
   "metadata": {},
   "outputs": [],
   "source": [
    "#spark = SparkSession.builder.appName('SESSION_M').getOrCreate()\n",
    "spark = SparkSession.builder.appName('martin_y').getOrCreate()\n"
   ]
  },
  {
   "cell_type": "code",
   "execution_count": 4,
   "metadata": {},
   "outputs": [
    {
     "name": "stdout",
     "output_type": "stream",
     "text": [
      "+------------+\n",
      "|databaseName|\n",
      "+------------+\n",
      "|       bd_jr|\n",
      "|bruno_martin|\n",
      "|  brunobedon|\n",
      "|     cahuana|\n",
      "| carloslopez|\n",
      "|      datag3|\n",
      "|     default|\n",
      "|    dnarvaez|\n",
      "|     gabarca|\n",
      "|       jonap|\n",
      "| joserosadio|\n",
      "|       jvega|\n",
      "|    mmedinac|\n",
      "|  msarachaga|\n",
      "|    myarasca|\n",
      "|    tableyap|\n",
      "|  temporales|\n",
      "|  villacorta|\n",
      "+------------+\n",
      "\n"
     ]
    }
   ],
   "source": [
    "spark.sql(\"show databases\").show()"
   ]
  },
  {
   "cell_type": "code",
   "execution_count": 5,
   "metadata": {},
   "outputs": [],
   "source": [
    "credito = spark.sql('SELECT * FROM bruno_martin.chilean_credit')\n",
    "clientes = spark.sql('SELECT * FROM bruno_martin.clientes_banco')"
   ]
  },
  {
   "cell_type": "code",
   "execution_count": 6,
   "metadata": {},
   "outputs": [
    {
     "name": "stdout",
     "output_type": "stream",
     "text": [
      "<class 'pyspark.sql.dataframe.DataFrame'>\n",
      "<class 'pyspark.sql.dataframe.DataFrame'>\n"
     ]
    }
   ],
   "source": [
    "print( type(credito) )\n",
    "print( type(clientes) )"
   ]
  },
  {
   "cell_type": "code",
   "execution_count": 7,
   "metadata": {},
   "outputs": [
    {
     "name": "stdout",
     "output_type": "stream",
     "text": [
      "7703\n",
      "50000\n"
     ]
    }
   ],
   "source": [
    "print( credito.count() ) \n",
    "print( clientes.count() ) "
   ]
  },
  {
   "cell_type": "code",
   "execution_count": 8,
   "metadata": {},
   "outputs": [
    {
     "name": "stdout",
     "output_type": "stream",
     "text": [
      "7703\n",
      "50000\n",
      "15404\n"
     ]
    }
   ],
   "source": [
    "df = credito.withColumnRenamed(\"customerid\", \"numerodocumento\")\n",
    "\n",
    "df = df.join(clientes, on=\"numerodocumento\", how=\"inner\")\n",
    "\n",
    "print( credito.count() )\n",
    "print( clientes.count() )\n",
    "print( df.count() )"
   ]
  },
  {
   "cell_type": "code",
   "execution_count": 9,
   "metadata": {},
   "outputs": [
    {
     "name": "stdout",
     "output_type": "stream",
     "text": [
      "+---------------+---+--------+----------+--------+-----------------+------+----------+----------+----------+---------------+----+----+------------+---------+--------------------+------------------+-----------+\n",
      "|numerodocumento|tob|   bal01|maxdqbin01|mtgbal01|nonbanktradesdq01|flaggb|flagsample|    APEPAT|    APEMAT|        NOMBRES|EDAD|SEXO|DEPARTAMENTO|PROVINCIA|            DISTRITO|ESTADOCIVILTITULAR|IncomeLevel|\n",
      "+---------------+---+--------+----------+--------+-----------------+------+----------+----------+----------+---------------+----+----+------------+---------+--------------------+------------------+-----------+\n",
      "|       41011903| 43|  613.21|         0|       0|                0|     1|         1|      DIAZ|   CORDOVA|  LORENA ROXANA|  33|   F|        LIMA|     LIMA|   MAGDALENA DEL MAR|                CS|          2|\n",
      "|       41011903| 43|  613.21|         0|       0|                0|     1|         1|      DIAZ|   CORDOVA|  LORENA ROXANA|  33|   F|        LIMA|     LIMA|   MAGDALENA DEL MAR|                CS|          2|\n",
      "|       41098867| 48|  568.16|         0|       0|                0|     1|         1|     PALMA|      RUIZ|   ALEX WILLIAN|  35|   M|        LIMA|     LIMA|VILLA MARIA DEL T...|                CS|          1|\n",
      "|       41098867| 48|  568.16|         0|       0|                0|     1|         1|     PALMA|      RUIZ|   ALEX WILLIAN|  35|   M|        LIMA|     LIMA|VILLA MARIA DEL T...|                CS|          1|\n",
      "|       41118388| 12| 2487.05|         0|       0|                0|     1|         1|   VICENTE|     CASIO|         ROSITA|  33|   F|        LIMA|     LIMA|SAN JUAN DE MIRAF...|                 S|          1|\n",
      "|       41118388| 12| 2487.05|         0|       0|                0|     1|         1|   VICENTE|     CASIO|         ROSITA|  33|   F|        LIMA|     LIMA|SAN JUAN DE MIRAF...|                 S|          1|\n",
      "|       41143790|  6|  798.64|         0|       0|                0|     0|         0|    LIZANA|  CASTILLO|     KELY ROCIO|  33|   F|        LIMA|     LIMA|                 ATE|                CS|          0|\n",
      "|       41143790|  6|  798.64|         0|       0|                0|     0|         0|    LIZANA|  CASTILLO|     KELY ROCIO|  33|   F|        LIMA|     LIMA|                 ATE|                CS|          0|\n",
      "|       41195611|217|18814.28|         0|   76821|                0|     1|         1|   MEMENZA|    ROMERO|MERCEDES ISABEL|  33|   F|        LIMA|     LIMA|           SAN BORJA|                CS|          3|\n",
      "|       41195611|217|18814.28|         0|   76821|                0|     1|         1|   MEMENZA|    ROMERO|MERCEDES ISABEL|  33|   F|        LIMA|     LIMA|           SAN BORJA|                CS|          3|\n",
      "|       41213957| 20| 1802.66|         0|       0|                0|     0|         1|   MONTOYA|     PARRA|      JOSE LUIS|  33|   M|        LIMA|     LIMA|SAN JUAN DE LURIG...|                 S|          1|\n",
      "|       41213957| 20| 1802.66|         0|       0|                0|     0|         1|   MONTOYA|     PARRA|      JOSE LUIS|  33|   M|        LIMA|     LIMA|SAN JUAN DE LURIG...|                 S|          1|\n",
      "|       41291114|133|  883.97|         0|       0|                0|     1|         1|    RIVERA|    HUAMAN|      JOSE LUIS|  36|   M|        LIMA|     LIMA|   VILLA EL SALVADOR|                CS|          0|\n",
      "|       41291114|133|  883.97|         0|       0|                0|     1|         1|    RIVERA|    HUAMAN|      JOSE LUIS|  36|   M|        LIMA|     LIMA|   VILLA EL SALVADOR|                CS|          0|\n",
      "|       41310042| 17| 1032.68|         0|       0|                3|     0|         1|    GUERRA|   PADILLA|TONINHO ALFONSO|  33|   M|        LIMA|   HUAURA|             HUALMAY|                 S|          0|\n",
      "|       41310042| 17| 1032.68|         0|       0|                3|     0|         1|    GUERRA|   PADILLA|TONINHO ALFONSO|  33|   M|        LIMA|   HUAURA|             HUALMAY|                 S|          0|\n",
      "|       41318259| 41|  149.81|         0|       0|                1|     1|         1|    CARPIO|  CHICHIPE|      ALEXANDER|  38|   M|        LIMA|     LIMA|SAN MARTIN DE PORRES|                 S|          1|\n",
      "|       41318259| 41|  149.81|         0|       0|                1|     1|         1|    CARPIO|  CHICHIPE|      ALEXANDER|  38|   M|        LIMA|     LIMA|SAN MARTIN DE PORRES|                 S|          1|\n",
      "|       41329590| 29|13616.95|         0|       0|                0|     0|         1|SAPALLANAY|VALENZUELA|EDITH MARCELINA|  33|   F|        LIMA|     LIMA|       PUENTE PIEDRA|                 S|          1|\n",
      "|       41329590| 29|13616.95|         0|       0|                0|     0|         1|SAPALLANAY|VALENZUELA|EDITH MARCELINA|  33|   F|        LIMA|     LIMA|       PUENTE PIEDRA|                 S|          1|\n",
      "+---------------+---+--------+----------+--------+-----------------+------+----------+----------+----------+---------------+----+----+------------+---------+--------------------+------------------+-----------+\n",
      "only showing top 20 rows\n",
      "\n"
     ]
    }
   ],
   "source": [
    "df.show()"
   ]
  },
  {
   "cell_type": "code",
   "execution_count": 10,
   "metadata": {},
   "outputs": [
    {
     "name": "stdout",
     "output_type": "stream",
     "text": [
      "['numerodocumento', 'tob', 'bal01', 'maxdqbin01', 'mtgbal01', 'nonbanktradesdq01', 'flaggb', 'flagsample', 'APEPAT', 'APEMAT', 'NOMBRES', 'EDAD', 'SEXO', 'DEPARTAMENTO', 'PROVINCIA', 'DISTRITO', 'ESTADOCIVILTITULAR', 'IncomeLevel']\n",
      "\n",
      "\n",
      "[('numerodocumento', 'string'), ('tob', 'int'), ('bal01', 'float'), ('maxdqbin01', 'int'), ('mtgbal01', 'int'), ('nonbanktradesdq01', 'int'), ('flaggb', 'int'), ('flagsample', 'int'), ('APEPAT', 'string'), ('APEMAT', 'string'), ('NOMBRES', 'string'), ('EDAD', 'int'), ('SEXO', 'string'), ('DEPARTAMENTO', 'string'), ('PROVINCIA', 'string'), ('DISTRITO', 'string'), ('ESTADOCIVILTITULAR', 'string'), ('IncomeLevel', 'int')]\n"
     ]
    }
   ],
   "source": [
    "print( df.columns ) ; print(\"\\n\");\n",
    "print( df.dtypes ) "
   ]
  },
  {
   "cell_type": "code",
   "execution_count": 12,
   "metadata": {},
   "outputs": [],
   "source": [
    "df.write.saveAsTable('credito_clientes')"
   ]
  },
  {
   "cell_type": "code",
   "execution_count": 13,
   "metadata": {},
   "outputs": [
    {
     "name": "stdout",
     "output_type": "stream",
     "text": [
      "++\n",
      "||\n",
      "++\n",
      "++\n",
      "\n",
      "+------------+----------------+-----------+\n",
      "|    database|       tableName|isTemporary|\n",
      "+------------+----------------+-----------+\n",
      "|bruno_martin|  chilean_credit|      false|\n",
      "|bruno_martin|  clientes_banco|      false|\n",
      "|bruno_martin|credito_clientes|      false|\n",
      "+------------+----------------+-----------+\n",
      "\n"
     ]
    }
   ],
   "source": [
    "spark.sql(\"use bruno_martin\").show();\n",
    "spark.sql(\"show tables\").show()"
   ]
  },
  {
   "cell_type": "code",
   "execution_count": 14,
   "metadata": {},
   "outputs": [
    {
     "name": "stdout",
     "output_type": "stream",
     "text": [
      "+---------------+---+--------+----------+--------+-----------------+------+----------+-------+----------------+----------------+----+----+------------+---------+----------+------------------+-----------+\n",
      "|numerodocumento|tob|   bal01|maxdqbin01|mtgbal01|nonbanktradesdq01|flaggb|flagsample| apepat|          apemat|         nombres|edad|sexo|departamento|provincia|  distrito|estadociviltitular|incomelevel|\n",
      "+---------------+---+--------+----------+--------+-----------------+------+----------+-------+----------------+----------------+----+----+------------+---------+----------+------------------+-----------+\n",
      "|       41004726|  5|10179.99|         0|       0|                0|     0|         1| ARAUJO|MOLINA DE QUISPE|    LIDIA TERESA|  34|   F|        LIMA|     LIMA|CARABAYLLO|                CS|          0|\n",
      "|       41004726|  5|10179.99|         0|       0|                0|     0|         1| ARAUJO|MOLINA DE QUISPE|    LIDIA TERESA|  34|   F|        LIMA|     LIMA|CARABAYLLO|                CS|          0|\n",
      "|       41021947| 68|11024.31|         0|   48689|                0|     1|         1|ZAMUDIO|         HUERTAS|ELIZABETH SUSANA|  34|   F|        LIMA|   HUAURA|     SAYAN|                CS|          1|\n",
      "+---------------+---+--------+----------+--------+-----------------+------+----------+-------+----------------+----------------+----+----+------------+---------+----------+------------------+-----------+\n",
      "\n"
     ]
    }
   ],
   "source": [
    "spark.sql(\"select * from bruno_martin.credito_clientes limit 3\").show()"
   ]
  },
  {
   "cell_type": "code",
   "execution_count": 15,
   "metadata": {},
   "outputs": [
    {
     "name": "stdout",
     "output_type": "stream",
     "text": [
      "+----------+--------+\n",
      "|flagsample|count(1)|\n",
      "+----------+--------+\n",
      "|         1|   11600|\n",
      "|         0|    3804|\n",
      "+----------+--------+\n",
      "\n"
     ]
    }
   ],
   "source": [
    "spark.sql(\"select flagsample, count(*) from credito_clientes group by flagsample\").show()"
   ]
  },
  {
   "cell_type": "code",
   "execution_count": 16,
   "metadata": {},
   "outputs": [],
   "source": [
    "from pyspark.ml.classification import RandomForestClassifier\n",
    "from pyspark.ml.linalg import Vectors\n",
    "from pyspark.ml.feature import VectorAssembler, StandardScaler\n",
    "from pandas.tools.plotting import scatter_matrix\n",
    "%matplotlib inline \n",
    "import matplotlib.pyplot as plt, numpy as np"
   ]
  },
  {
   "cell_type": "code",
   "execution_count": 17,
   "metadata": {},
   "outputs": [
    {
     "name": "stdout",
     "output_type": "stream",
     "text": [
      "+---------------+---+-----------+-------+----------+--------+-----------------+------+----------+\n",
      "|numerodocumento|tob|incomelevel|  bal01|maxdqbin01|mtgbal01|nonbanktradesdq01|flaggb|flagsample|\n",
      "+---------------+---+-----------+-------+----------+--------+-----------------+------+----------+\n",
      "|       41040309| 76|          1| 107.48|         0|       0|                0|     1|         1|\n",
      "|       41040309| 76|          1| 107.48|         0|       0|                0|     1|         1|\n",
      "|       41051503|  4|          0|  78.61|         0|       0|                0|     0|         1|\n",
      "|       41051503|  4|          0|  78.61|         0|       0|                0|     0|         1|\n",
      "|       41073444|  0|          1|   3.17|         0|       0|                0|     1|         1|\n",
      "|       41073444|  0|          1|   3.17|         0|       0|                0|     1|         1|\n",
      "|       41113246|  7|          0| 445.21|         0|       0|                1|     1|         1|\n",
      "|       41113246|  7|          0| 445.21|         0|       0|                1|     1|         1|\n",
      "|       41114467| 35|          1| 358.86|         0|       0|                0|     1|         1|\n",
      "|       41114467| 35|          1| 358.86|         0|       0|                0|     1|         1|\n",
      "|       41145322|  8|          0|2561.98|         0|       0|                0|     1|         1|\n",
      "|       41145322|  8|          0|2561.98|         0|       0|                0|     1|         1|\n",
      "|       41151774| 95|          0|  50.78|         0|       0|                0|     1|         1|\n",
      "|       41151774| 95|          0|  50.78|         0|       0|                0|     1|         1|\n",
      "|       41171632| 18|          1|8683.77|         2|   39568|                1|     1|         1|\n",
      "|       41171632| 18|          1|8683.77|         2|   39568|                1|     1|         1|\n",
      "|       41206774| 82|          1| 534.88|         0|       0|                0|     0|         1|\n",
      "|       41206774| 82|          1| 534.88|         0|       0|                0|     0|         1|\n",
      "|       41221800| 46|          0|5430.87|         0|       0|                0|     1|         1|\n",
      "|       41221800| 46|          0|5430.87|         0|       0|                0|     1|         1|\n",
      "+---------------+---+-----------+-------+----------+--------+-----------------+------+----------+\n",
      "only showing top 20 rows\n",
      "\n"
     ]
    }
   ],
   "source": [
    "training_data = spark.sql(\"select numerodocumento, tob, incomelevel, bal01, maxdqbin01, mtgbal01, nonbanktradesdq01, flaggb, flagsample   from credito_clientes where flagsample=1\")\n",
    "test_data = spark.sql(\"select numerodocumento, tob, incomelevel, bal01, maxdqbin01, mtgbal01, nonbanktradesdq01, flaggb, flagsample   from credito_clientes where flagsample=0\")\n",
    "training_data.show()"
   ]
  },
  {
   "cell_type": "code",
   "execution_count": 18,
   "metadata": {},
   "outputs": [],
   "source": [
    "assembler = VectorAssembler(inputCols=[\"tob\", \"incomelevel\", \"bal01\", \"maxdqbin01\", \"mtgbal01\", \"nonbanktradesdq01\"], outputCol=\"features\")\n",
    "assem_data = assembler.transform(training_data)\n",
    "\n",
    "assembler_test = VectorAssembler(inputCols=[\"tob\", \"incomelevel\", \"bal01\", \"maxdqbin01\", \"mtgbal01\", \"nonbanktradesdq01\"], outputCol=\"features\")\n",
    "assem_data_test = assembler_test.transform(test_data)"
   ]
  },
  {
   "cell_type": "code",
   "execution_count": 19,
   "metadata": {},
   "outputs": [],
   "source": [
    "train_scaler = StandardScaler(inputCol=\"features\", outputCol=\"scaled_features\", withStd=True, withMean=True)\n",
    "train_scaler_model = train_scaler.fit(assem_data)\n",
    "scaled_data_train = train_scaler_model.transform(assem_data)\n",
    "\n",
    "test_scaler = StandardScaler(inputCol=\"features\", outputCol=\"scaled_features\", withStd=True, withMean=True)\n",
    "test_scaler_model = test_scaler.fit(assem_data_test)\n",
    "scaled_data_test = test_scaler_model.transform(assem_data_test)"
   ]
  },
  {
   "cell_type": "code",
   "execution_count": 20,
   "metadata": {},
   "outputs": [],
   "source": [
    "rf = RandomForestClassifier(labelCol=\"flaggb\", featuresCol=\"scaled_features\")\n",
    "rfModel = rf.fit(scaled_data_train)"
   ]
  },
  {
   "cell_type": "code",
   "execution_count": 21,
   "metadata": {},
   "outputs": [
    {
     "name": "stdout",
     "output_type": "stream",
     "text": [
      "+---------------+---+-----------+--------+----------+--------+-----------------+------+----------+--------------------+--------------------+--------------------+--------------------+----------+\n",
      "|numerodocumento|tob|incomelevel|   bal01|maxdqbin01|mtgbal01|nonbanktradesdq01|flaggb|flagsample|            features|     scaled_features|       rawPrediction|         probability|prediction|\n",
      "+---------------+---+-----------+--------+----------+--------+-----------------+------+----------+--------------------+--------------------+--------------------+--------------------+----------+\n",
      "|       41165325| 10|          0| 1151.95|         1|       0|                1|     0|         0|[10.0,0.0,1151.94...|[-0.7423597740252...|[12.1548899012001...|[0.60774449506000...|       0.0|\n",
      "|       41165325| 10|          0| 1151.95|         1|       0|                1|     0|         0|[10.0,0.0,1151.94...|[-0.7423597740252...|[12.1548899012001...|[0.60774449506000...|       0.0|\n",
      "|       41344521|182|          1|14097.37|         0|       0|                0|     1|         0|[182.0,1.0,14097....|[2.78797145509601...|[1.36018015195300...|[0.06800900759765...|       1.0|\n",
      "|       41344521|182|          1|14097.37|         0|       0|                0|     1|         0|[182.0,1.0,14097....|[2.78797145509601...|[1.36018015195300...|[0.06800900759765...|       1.0|\n",
      "|       41444452| 22|          1| 2566.68|         0|    9540|                0|     1|         0|[22.0,1.0,2566.67...|[-0.4960575952493...|[1.94834902483288...|[0.09741745124164...|       1.0|\n",
      "|       41444452| 22|          1| 2566.68|         0|    9540|                0|     1|         0|[22.0,1.0,2566.67...|[-0.4960575952493...|[1.94834902483288...|[0.09741745124164...|       1.0|\n",
      "|       41477822| 13|          2|27737.41|         0|       0|                0|     0|         0|[13.0,2.0,27737.4...|[-0.6807842293312...|[2.04431677394835...|[0.10221583869741...|       1.0|\n",
      "|       41477822| 13|          2|27737.41|         0|       0|                0|     0|         0|[13.0,2.0,27737.4...|[-0.6807842293312...|[2.04431677394835...|[0.10221583869741...|       1.0|\n",
      "|       41515312|132|          1| 3854.66|         0|       0|                0|     1|         0|[132.0,1.0,3854.6...|[1.76171237686309...|[1.46120408725595...|[0.07306020436279...|       1.0|\n",
      "|       41515312|132|          1| 3854.66|         0|       0|                0|     1|         0|[132.0,1.0,3854.6...|[1.76171237686309...|[1.46120408725595...|[0.07306020436279...|       1.0|\n",
      "|       41582237| 94|          5|19105.41|         0|  177395|                0|     1|         0|[94.0,5.0,19105.4...|[0.98175547740607...|[0.91655898080604...|[0.04582794904030...|       1.0|\n",
      "|       41582237| 94|          5|19105.41|         0|  177395|                0|     1|         0|[94.0,5.0,19105.4...|[0.98175547740607...|[0.91655898080604...|[0.04582794904030...|       1.0|\n",
      "|       41591403| 12|          0| 1826.31|         0|       0|                0|     1|         0|(6,[0,2],[12.0,18...|[-0.7013094108959...|[2.38419883773658...|[0.11920994188682...|       1.0|\n",
      "|       41591403| 12|          0| 1826.31|         0|       0|                0|     1|         0|(6,[0,2],[12.0,18...|[-0.7013094108959...|[2.38419883773658...|[0.11920994188682...|       1.0|\n",
      "|       41813872| 24|          0|  250.24|         3|       0|                7|     0|         0|[24.0,0.0,250.240...|[-0.4550072321200...|[17.2078280427211...|[0.86039140213605...|       0.0|\n",
      "|       41813872| 24|          0|  250.24|         3|       0|                7|     0|         0|[24.0,0.0,250.240...|[-0.4550072321200...|[17.2078280427211...|[0.86039140213605...|       0.0|\n",
      "|       41949047|  9|          0| 1176.18|         0|       0|                0|     1|         0|(6,[0,2],[9.0,117...|[-0.7628849555898...|[2.38419883773658...|[0.11920994188682...|       1.0|\n",
      "|       41949047|  9|          0| 1176.18|         0|       0|                0|     1|         0|(6,[0,2],[9.0,117...|[-0.7628849555898...|[2.38419883773658...|[0.11920994188682...|       1.0|\n",
      "|       41957483| 40|          1|  1433.4|         0|       0|                0|     1|         0|[40.0,1.0,1433.40...|[-0.1266043270854...|[1.46120408725595...|[0.07306020436279...|       1.0|\n",
      "|       41957483| 40|          1|  1433.4|         0|       0|                0|     1|         0|[40.0,1.0,1433.40...|[-0.1266043270854...|[1.46120408725595...|[0.07306020436279...|       1.0|\n",
      "+---------------+---+-----------+--------+----------+--------+-----------------+------+----------+--------------------+--------------------+--------------------+--------------------+----------+\n",
      "only showing top 20 rows\n",
      "\n"
     ]
    }
   ],
   "source": [
    "# Score test Data\n",
    "predictions = rfModel.transform(scaled_data_test)\n",
    "predictions.show()"
   ]
  },
  {
   "cell_type": "code",
   "execution_count": 22,
   "metadata": {},
   "outputs": [
    {
     "name": "stdout",
     "output_type": "stream",
     "text": [
      "+------------+----------------+-----------+\n",
      "|    database|       tableName|isTemporary|\n",
      "+------------+----------------+-----------+\n",
      "|bruno_martin|  chilean_credit|      false|\n",
      "|bruno_martin|  clientes_banco|      false|\n",
      "|bruno_martin|credito_clientes|      false|\n",
      "+------------+----------------+-----------+\n",
      "\n"
     ]
    }
   ],
   "source": [
    "spark.sql(\"show tables\").show()"
   ]
  },
  {
   "cell_type": "code",
   "execution_count": 23,
   "metadata": {},
   "outputs": [],
   "source": [
    "#codigo para obtener la matriz de confusión\n",
    "predictions.createOrReplaceTempView(\"rf_model_bruno_martin\")"
   ]
  },
  {
   "cell_type": "code",
   "execution_count": 24,
   "metadata": {},
   "outputs": [
    {
     "name": "stdout",
     "output_type": "stream",
     "text": [
      "+------------+--------------------+-----------+\n",
      "|    database|           tableName|isTemporary|\n",
      "+------------+--------------------+-----------+\n",
      "|bruno_martin|      chilean_credit|      false|\n",
      "|bruno_martin|      clientes_banco|      false|\n",
      "|bruno_martin|    credito_clientes|      false|\n",
      "|            |rf_model_bruno_ma...|       true|\n",
      "+------------+--------------------+-----------+\n",
      "\n"
     ]
    }
   ],
   "source": [
    "spark.sql(\"show tables\").show()"
   ]
  },
  {
   "cell_type": "code",
   "execution_count": 25,
   "metadata": {},
   "outputs": [
    {
     "name": "stdout",
     "output_type": "stream",
     "text": [
      "+----+----------+--------+\n",
      "|real|prediction|cantidad|\n",
      "+----+----------+--------+\n",
      "|   0|       0.0|     650|\n",
      "|   0|       1.0|     318|\n",
      "|   1|       0.0|     370|\n",
      "|   1|       1.0|    2466|\n",
      "+----+----------+--------+\n",
      "\n"
     ]
    }
   ],
   "source": [
    "spark.sql(\"\"\"\n",
    "            select flaggb as real, prediction, count(1) as cantidad\n",
    "              from rf_model_bruno_martin\n",
    "              group by flaggb, prediction\n",
    "              order by 1, 2 asc\n",
    "          \"\"\").show()"
   ]
  },
  {
   "cell_type": "code",
   "execution_count": 26,
   "metadata": {},
   "outputs": [
    {
     "data": {
      "text/plain": [
       "['numerodocumento',\n",
       " 'tob',\n",
       " 'incomelevel',\n",
       " 'bal01',\n",
       " 'maxdqbin01',\n",
       " 'mtgbal01',\n",
       " 'nonbanktradesdq01',\n",
       " 'flaggb',\n",
       " 'flagsample',\n",
       " 'features',\n",
       " 'scaled_features',\n",
       " 'rawPrediction',\n",
       " 'probability',\n",
       " 'prediction']"
      ]
     },
     "execution_count": 26,
     "metadata": {},
     "output_type": "execute_result"
    }
   ],
   "source": [
    "predictions.columns"
   ]
  },
  {
   "cell_type": "code",
   "execution_count": 27,
   "metadata": {},
   "outputs": [
    {
     "name": "stdout",
     "output_type": "stream",
     "text": [
      "+---------------+------+--------------------+----------+\n",
      "|numerodocumento|flaggb|         probability|prediction|\n",
      "+---------------+------+--------------------+----------+\n",
      "|       41165325|     0|[0.60774449506000...|       0.0|\n",
      "|       41165325|     0|[0.60774449506000...|       0.0|\n",
      "|       41344521|     1|[0.06800900759765...|       1.0|\n",
      "|       41344521|     1|[0.06800900759765...|       1.0|\n",
      "|       41444452|     1|[0.09741745124164...|       1.0|\n",
      "|       41444452|     1|[0.09741745124164...|       1.0|\n",
      "|       41477822|     0|[0.10221583869741...|       1.0|\n",
      "|       41477822|     0|[0.10221583869741...|       1.0|\n",
      "|       41515312|     1|[0.07306020436279...|       1.0|\n",
      "|       41515312|     1|[0.07306020436279...|       1.0|\n",
      "|       41582237|     1|[0.04582794904030...|       1.0|\n",
      "|       41582237|     1|[0.04582794904030...|       1.0|\n",
      "|       41591403|     1|[0.11920994188682...|       1.0|\n",
      "|       41591403|     1|[0.11920994188682...|       1.0|\n",
      "|       41813872|     0|[0.86039140213605...|       0.0|\n",
      "|       41813872|     0|[0.86039140213605...|       0.0|\n",
      "|       41949047|     1|[0.11920994188682...|       1.0|\n",
      "|       41949047|     1|[0.11920994188682...|       1.0|\n",
      "|       41957483|     1|[0.07306020436279...|       1.0|\n",
      "|       41957483|     1|[0.07306020436279...|       1.0|\n",
      "+---------------+------+--------------------+----------+\n",
      "only showing top 20 rows\n",
      "\n"
     ]
    }
   ],
   "source": [
    "predictions.select(\"numerodocumento\", \"flaggb\", \"probability\", \"prediction\").show()"
   ]
  },
  {
   "cell_type": "code",
   "execution_count": 58,
   "metadata": {},
   "outputs": [
    {
     "name": "stdout",
     "output_type": "stream",
     "text": [
      "+---------------+------+----------+--------------------+--------------------+\n",
      "|numerodocumento|flaggb|prediction|                  p0|                  p1|\n",
      "+---------------+------+----------+--------------------+--------------------+\n",
      "|       41165325|     0|       0.0| [0.607744495060009,|0.39225550493999095]|\n",
      "|       41165325|     0|       0.0| [0.607744495060009,|0.39225550493999095]|\n",
      "|       41344521|     1|       1.0|[0.06800900759765...| 0.9319909924023495]|\n",
      "|       41344521|     1|       1.0|[0.06800900759765...| 0.9319909924023495]|\n",
      "|       41444452|     1|       1.0|[0.0974174512416445,| 0.9025825487583555]|\n",
      "|       41444452|     1|       1.0|[0.0974174512416445,| 0.9025825487583555]|\n",
      "|       41477822|     0|       1.0|[0.10221583869741...|  0.897784161302582]|\n",
      "|       41477822|     0|       1.0|[0.10221583869741...|  0.897784161302582]|\n",
      "|       41515312|     1|       1.0|[0.07306020436279...| 0.9269397956372024]|\n",
      "|       41515312|     1|       1.0|[0.07306020436279...| 0.9269397956372024]|\n",
      "|       41582237|     1|       1.0|[0.04582794904030...| 0.9541720509596978]|\n",
      "|       41582237|     1|       1.0|[0.04582794904030...| 0.9541720509596978]|\n",
      "|       41591403|     1|       1.0|[0.11920994188682...| 0.8807900581131707]|\n",
      "|       41591403|     1|       1.0|[0.11920994188682...| 0.8807900581131707]|\n",
      "|       41813872|     0|       0.0| [0.860391402136056,|0.13960859786394392]|\n",
      "|       41813872|     0|       0.0| [0.860391402136056,|0.13960859786394392]|\n",
      "|       41949047|     1|       1.0|[0.11920994188682...| 0.8807900581131707]|\n",
      "|       41949047|     1|       1.0|[0.11920994188682...| 0.8807900581131707]|\n",
      "|       41957483|     1|       1.0|[0.07306020436279...| 0.9269397956372024]|\n",
      "|       41957483|     1|       1.0|[0.07306020436279...| 0.9269397956372024]|\n",
      "+---------------+------+----------+--------------------+--------------------+\n",
      "only showing top 20 rows\n",
      "\n"
     ]
    }
   ],
   "source": [
    "from pyspark.sql.functions import  expr\n",
    "prediction_2 = predictions.select(expr(\"*\"),expr(\"cast(probability as string)  as probability_2\"))\n",
    "\n",
    "prediction_2 = prediction_2.select(\"numerodocumento\", \"flaggb\", \"prediction\", expr(\"substr(probability_2,1,instr(probability_2,',')) as p0\"),\n",
    "                       expr(\"substr(probability_2,instr(probability_2,',')+1,length(probability_2)) as p1\"),\n",
    "                      )\n",
    "prediction_2.show()"
   ]
  },
  {
   "cell_type": "code",
   "execution_count": 63,
   "metadata": {},
   "outputs": [],
   "source": [
    "from pyspark.sql.functions import * \n",
    "#prediction_2 = prediction_2.withColumn('p0', regexp_replace('p0', '[', '0'))\n",
    "#prediction_2 = prediction_2.withColumn('p0', regexp_replace('p0', '[', ''))\n",
    "prediction_2 = prediction_2.select('numerodocumento', \"flaggb\",\"prediction\",expr(\"replace(replace(p0,'[',''),',','') as p0\"),expr(\"replace(p1,']','') as p1\"))"
   ]
  },
  {
   "cell_type": "code",
   "execution_count": 64,
   "metadata": {},
   "outputs": [
    {
     "name": "stdout",
     "output_type": "stream",
     "text": [
      "+---------------+------+----------+-------------------+-------------------+\n",
      "|numerodocumento|flaggb|prediction|                 p0|                 p1|\n",
      "+---------------+------+----------+-------------------+-------------------+\n",
      "|       41165325|     0|       0.0|  0.607744495060009|0.39225550493999095|\n",
      "|       41165325|     0|       0.0|  0.607744495060009|0.39225550493999095|\n",
      "|       41344521|     1|       1.0|0.06800900759765044| 0.9319909924023495|\n",
      "|       41344521|     1|       1.0|0.06800900759765044| 0.9319909924023495|\n",
      "|       41444452|     1|       1.0| 0.0974174512416445| 0.9025825487583555|\n",
      "|       41444452|     1|       1.0| 0.0974174512416445| 0.9025825487583555|\n",
      "|       41477822|     0|       1.0|0.10221583869741795|  0.897784161302582|\n",
      "|       41477822|     0|       1.0|0.10221583869741795|  0.897784161302582|\n",
      "|       41515312|     1|       1.0|0.07306020436279752| 0.9269397956372024|\n",
      "|       41515312|     1|       1.0|0.07306020436279752| 0.9269397956372024|\n",
      "|       41582237|     1|       1.0|0.04582794904030223| 0.9541720509596978|\n",
      "|       41582237|     1|       1.0|0.04582794904030223| 0.9541720509596978|\n",
      "|       41591403|     1|       1.0|0.11920994188682939| 0.8807900581131707|\n",
      "|       41591403|     1|       1.0|0.11920994188682939| 0.8807900581131707|\n",
      "|       41813872|     0|       0.0|  0.860391402136056|0.13960859786394392|\n",
      "|       41813872|     0|       0.0|  0.860391402136056|0.13960859786394392|\n",
      "|       41949047|     1|       1.0|0.11920994188682939| 0.8807900581131707|\n",
      "|       41949047|     1|       1.0|0.11920994188682939| 0.8807900581131707|\n",
      "|       41957483|     1|       1.0|0.07306020436279752| 0.9269397956372024|\n",
      "|       41957483|     1|       1.0|0.07306020436279752| 0.9269397956372024|\n",
      "+---------------+------+----------+-------------------+-------------------+\n",
      "only showing top 20 rows\n",
      "\n"
     ]
    }
   ],
   "source": [
    "prediction_2.show()"
   ]
  },
  {
   "cell_type": "code",
   "execution_count": 38,
   "metadata": {},
   "outputs": [
    {
     "name": "stdout",
     "output_type": "stream",
     "text": [
      "+------------+--------------------+-----------+\n",
      "|    database|           tableName|isTemporary|\n",
      "+------------+--------------------+-----------+\n",
      "|bruno_martin|      chilean_credit|      false|\n",
      "|bruno_martin|      clientes_banco|      false|\n",
      "|bruno_martin|    credito_clientes|      false|\n",
      "|bruno_martin|credito_clientes_...|      false|\n",
      "|bruno_martin|    prediction_p0_p1|      false|\n",
      "|            |rf_model_bruno_ma...|       true|\n",
      "+------------+--------------------+-----------+\n",
      "\n"
     ]
    }
   ],
   "source": [
    "prediction_2.write.saveAsTable('prediction_p0_p1')\n",
    "spark.sql(\"show tables\").show()"
   ]
  },
  {
   "cell_type": "code",
   "execution_count": 39,
   "metadata": {},
   "outputs": [],
   "source": [
    "import sys\n",
    "import os\n",
    "sys.path.append(os.path.abspath(\"/home/jupyter/funciones\"))"
   ]
  },
  {
   "cell_type": "code",
   "execution_count": 65,
   "metadata": {},
   "outputs": [],
   "source": [
    "df_pandas = prediction_2.toPandas()"
   ]
  },
  {
   "cell_type": "code",
   "execution_count": 41,
   "metadata": {},
   "outputs": [],
   "source": [
    "import pyspark_ml_util as miutil"
   ]
  },
  {
   "cell_type": "code",
   "execution_count": 66,
   "metadata": {},
   "outputs": [
    {
     "data": {
      "text/html": [
       "<div>\n",
       "<style scoped>\n",
       "    .dataframe tbody tr th:only-of-type {\n",
       "        vertical-align: middle;\n",
       "    }\n",
       "\n",
       "    .dataframe tbody tr th {\n",
       "        vertical-align: top;\n",
       "    }\n",
       "\n",
       "    .dataframe thead th {\n",
       "        text-align: right;\n",
       "    }\n",
       "</style>\n",
       "<table border=\"1\" class=\"dataframe\">\n",
       "  <thead>\n",
       "    <tr style=\"text-align: right;\">\n",
       "      <th></th>\n",
       "      <th>numerodocumento</th>\n",
       "      <th>flaggb</th>\n",
       "      <th>prediction</th>\n",
       "      <th>p0</th>\n",
       "      <th>p1</th>\n",
       "    </tr>\n",
       "  </thead>\n",
       "  <tbody>\n",
       "    <tr>\n",
       "      <th>0</th>\n",
       "      <td>41165325</td>\n",
       "      <td>0</td>\n",
       "      <td>0.0</td>\n",
       "      <td>0.607744495060009</td>\n",
       "      <td>0.39225550493999095</td>\n",
       "    </tr>\n",
       "    <tr>\n",
       "      <th>1</th>\n",
       "      <td>41165325</td>\n",
       "      <td>0</td>\n",
       "      <td>0.0</td>\n",
       "      <td>0.607744495060009</td>\n",
       "      <td>0.39225550493999095</td>\n",
       "    </tr>\n",
       "    <tr>\n",
       "      <th>2</th>\n",
       "      <td>41344521</td>\n",
       "      <td>1</td>\n",
       "      <td>1.0</td>\n",
       "      <td>0.06800900759765044</td>\n",
       "      <td>0.9319909924023495</td>\n",
       "    </tr>\n",
       "    <tr>\n",
       "      <th>3</th>\n",
       "      <td>41344521</td>\n",
       "      <td>1</td>\n",
       "      <td>1.0</td>\n",
       "      <td>0.06800900759765044</td>\n",
       "      <td>0.9319909924023495</td>\n",
       "    </tr>\n",
       "    <tr>\n",
       "      <th>4</th>\n",
       "      <td>41444452</td>\n",
       "      <td>1</td>\n",
       "      <td>1.0</td>\n",
       "      <td>0.0974174512416445</td>\n",
       "      <td>0.9025825487583555</td>\n",
       "    </tr>\n",
       "  </tbody>\n",
       "</table>\n",
       "</div>"
      ],
      "text/plain": [
       "  numerodocumento  flaggb  prediction                   p0  \\\n",
       "0        41165325       0         0.0    0.607744495060009   \n",
       "1        41165325       0         0.0    0.607744495060009   \n",
       "2        41344521       1         1.0  0.06800900759765044   \n",
       "3        41344521       1         1.0  0.06800900759765044   \n",
       "4        41444452       1         1.0   0.0974174512416445   \n",
       "\n",
       "                    p1  \n",
       "0  0.39225550493999095  \n",
       "1  0.39225550493999095  \n",
       "2   0.9319909924023495  \n",
       "3   0.9319909924023495  \n",
       "4   0.9025825487583555  "
      ]
     },
     "execution_count": 66,
     "metadata": {},
     "output_type": "execute_result"
    }
   ],
   "source": [
    "df_pandas.head()"
   ]
  },
  {
   "cell_type": "code",
   "execution_count": 67,
   "metadata": {},
   "outputs": [
    {
     "data": {
      "image/png": "[encoded data removed]",
      "text/plain": [
       "<Figure size 432x288 with 1 Axes>"
      ]
     },
     "metadata": {},
     "output_type": "display_data"
    },
    {
     "data": {
      "image/png": "[encoded data removed]",
      "text/plain": [
       "<Figure size 432x288 with 1 Axes>"
      ]
     },
     "metadata": {},
     "output_type": "display_data"
    }
   ],
   "source": [
    "miutil.reporte_ganancia_lift(df_pandas['flaggb'],df_pandas['p1'],10)"
   ]
  },
  {
   "cell_type": "code",
   "execution_count": 68,
   "metadata": {},
   "outputs": [
    {
     "data": {
      "text/plain": [
       "array([[ 650,  318],\n",
       "       [ 370, 2466]])"
      ]
     },
     "execution_count": 68,
     "metadata": {},
     "output_type": "execute_result"
    }
   ],
   "source": [
    "miutil.confusion_matrix(df_pandas['flaggb'], df_pandas['prediction'])"
   ]
  },
  {
   "cell_type": "code",
   "execution_count": 69,
   "metadata": {},
   "outputs": [
    {
     "data": {
      "text/html": [
       "<div>\n",
       "<style scoped>\n",
       "    .dataframe tbody tr th:only-of-type {\n",
       "        vertical-align: middle;\n",
       "    }\n",
       "\n",
       "    .dataframe tbody tr th {\n",
       "        vertical-align: top;\n",
       "    }\n",
       "\n",
       "    .dataframe thead th {\n",
       "        text-align: right;\n",
       "    }\n",
       "</style>\n",
       "<table border=\"1\" class=\"dataframe\">\n",
       "  <thead>\n",
       "    <tr style=\"text-align: right;\">\n",
       "      <th></th>\n",
       "      <th>numerodocumento</th>\n",
       "      <th>flaggb</th>\n",
       "      <th>prediction</th>\n",
       "      <th>p0</th>\n",
       "      <th>p1</th>\n",
       "    </tr>\n",
       "  </thead>\n",
       "  <tbody>\n",
       "    <tr>\n",
       "      <th>0</th>\n",
       "      <td>41165325</td>\n",
       "      <td>0</td>\n",
       "      <td>0.0</td>\n",
       "      <td>0.607744495060009</td>\n",
       "      <td>0.39225550493999095</td>\n",
       "    </tr>\n",
       "    <tr>\n",
       "      <th>1</th>\n",
       "      <td>41165325</td>\n",
       "      <td>0</td>\n",
       "      <td>0.0</td>\n",
       "      <td>0.607744495060009</td>\n",
       "      <td>0.39225550493999095</td>\n",
       "    </tr>\n",
       "    <tr>\n",
       "      <th>2</th>\n",
       "      <td>41344521</td>\n",
       "      <td>1</td>\n",
       "      <td>1.0</td>\n",
       "      <td>0.06800900759765044</td>\n",
       "      <td>0.9319909924023495</td>\n",
       "    </tr>\n",
       "    <tr>\n",
       "      <th>3</th>\n",
       "      <td>41344521</td>\n",
       "      <td>1</td>\n",
       "      <td>1.0</td>\n",
       "      <td>0.06800900759765044</td>\n",
       "      <td>0.9319909924023495</td>\n",
       "    </tr>\n",
       "    <tr>\n",
       "      <th>4</th>\n",
       "      <td>41444452</td>\n",
       "      <td>1</td>\n",
       "      <td>1.0</td>\n",
       "      <td>0.0974174512416445</td>\n",
       "      <td>0.9025825487583555</td>\n",
       "    </tr>\n",
       "  </tbody>\n",
       "</table>\n",
       "</div>"
      ],
      "text/plain": [
       "  numerodocumento  flaggb  prediction                   p0  \\\n",
       "0        41165325       0         0.0    0.607744495060009   \n",
       "1        41165325       0         0.0    0.607744495060009   \n",
       "2        41344521       1         1.0  0.06800900759765044   \n",
       "3        41344521       1         1.0  0.06800900759765044   \n",
       "4        41444452       1         1.0   0.0974174512416445   \n",
       "\n",
       "                    p1  \n",
       "0  0.39225550493999095  \n",
       "1  0.39225550493999095  \n",
       "2   0.9319909924023495  \n",
       "3   0.9319909924023495  \n",
       "4   0.9025825487583555  "
      ]
     },
     "execution_count": 69,
     "metadata": {},
     "output_type": "execute_result"
    }
   ],
   "source": [
    "df_pandas.head()"
   ]
  },
  {
   "cell_type": "code",
   "execution_count": 52,
   "metadata": {},
   "outputs": [
    {
     "data": {
      "text/plain": [
       "0    0.39225550493999095]\n",
       "1    0.39225550493999095]\n",
       "2     0.9319909924023495]\n",
       "3     0.9319909924023495]\n",
       "4     0.9025825487583555]\n",
       "Name: p1, dtype: object"
      ]
     },
     "execution_count": 52,
     "metadata": {},
     "output_type": "execute_result"
    }
   ],
   "source": [
    "df_pandas['p1'].head()"
   ]
  },
  {
   "cell_type": "code",
   "execution_count": null,
   "metadata": {},
   "outputs": [],
   "source": [
    "df_pandas['p1'] = "
   ]
  },
  {
   "cell_type": "code",
   "execution_count": 49,
   "metadata": {},
   "outputs": [
    {
     "data": {
      "text/plain": [
       "0    0.39225550493999095]\n",
       "1    0.39225550493999095]\n",
       "2     0.9319909924023495]\n",
       "3     0.9319909924023495]\n",
       "4     0.9025825487583555]\n",
       "Name: p1, dtype: object"
      ]
     },
     "execution_count": 49,
     "metadata": {},
     "output_type": "execute_result"
    }
   ],
   "source": [
    "df_pandas['p1'].head()"
   ]
  },
  {
   "cell_type": "code",
   "execution_count": 70,
   "metadata": {},
   "outputs": [
    {
     "data": {
      "image/png": "[encoded data removed]",
      "text/plain": [
       "<Figure size 432x288 with 1 Axes>"
      ]
     },
     "metadata": {},
     "output_type": "display_data"
    }
   ],
   "source": [
    "miutil.density_chart(df_pandas['flaggb'], df_pandas['p1'])"
   ]
  },
  {
   "cell_type": "code",
   "execution_count": 72,
   "metadata": {},
   "outputs": [
    {
     "data": {
      "image/png": "[encoded data removed]",
      "text/plain": [
       "<Figure size 432x288 with 1 Axes>"
      ]
     },
     "metadata": {},
     "output_type": "display_data"
    }
   ],
   "source": [
    "miutil.indicadores_modelos(df_pandas['flaggb'], df_pandas['p1'])"
   ]
  },
  {
   "cell_type": "code",
   "execution_count": null,
   "metadata": {},
   "outputs": [],
   "source": []
  },
  {
   "cell_type": "code",
   "execution_count": null,
   "metadata": {},
   "outputs": [],
   "source": []
  }
 ],
 "metadata": {
  "kernelspec": {
   "display_name": "Python 2",
   "language": "python",
   "name": "python2"
  },
  "language_info": {
   "codemirror_mode": {
    "name": "ipython",
    "version": 2
   },
   "file_extension": ".py",
   "mimetype": "text/x-python",
   "name": "python",
   "nbconvert_exporter": "python",
   "pygments_lexer": "ipython2",
   "version": "2.7.15"
  }
 },
 "nbformat": 4,
 "nbformat_minor": 2
}
