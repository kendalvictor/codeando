{
 "cells": [
  {
   "cell_type": "code",
   "execution_count": 2,
   "metadata": {},
   "outputs": [],
   "source": [
    "import findspark\n",
    "findspark.init('/opt/cloudera/parcels/SPARK2-2.3.0.cloudera3-1.cdh5.13.3.p0.458809/lib/spark2')\n",
    "from pyspark.sql import SparkSession\n",
    "spark = SparkSession.builder.appName('victor_joseph_jhonatan').getOrCreate()"
   ]
  },
  {
   "cell_type": "code",
   "execution_count": 3,
   "metadata": {},
   "outputs": [
    {
     "name": "stdout",
     "output_type": "stream",
     "text": [
      "+--------+--------------------+-----------+\n",
      "|database|           tableName|isTemporary|\n",
      "+--------+--------------------+-----------+\n",
      "|  datag3|       base_clientes|      false|\n",
      "|  datag3|data_in_base_clie...|      false|\n",
      "|  datag3|data_in_info_clie...|      false|\n",
      "|  datag3|       info_clientes|      false|\n",
      "+--------+--------------------+-----------+\n",
      "\n"
     ]
    }
   ],
   "source": [
    "spark.sql(\"show tables from datag3\").show()"
   ]
  },
  {
   "cell_type": "code",
   "execution_count": 4,
   "metadata": {},
   "outputs": [
    {
     "name": "stdout",
     "output_type": "stream",
     "text": [
      "+---------------+----------+-------------------+-----------------+----+----+------------+---------+-------------+------------------+-----------+\n",
      "|NUMERODOCUMENTO|    APEPAT|             APEMAT|          NOMBRES|EDAD|SEXO|DEPARTAMENTO|PROVINCIA|     DISTRITO|ESTADOCIVILTITULAR|IncomeLevel|\n",
      "+---------------+----------+-------------------+-----------------+----+----+------------+---------+-------------+------------------+-----------+\n",
      "|       41854018|     PINTO|            CONDORI|        JOSE LUIS|  31|   M|        LIMA|     LIMA|         LIMA|                 S|          1|\n",
      "|       41020654|    TORRES|               NAPA|     LUIS ENRIQUE|  34|   M|        LIMA|     LIMA|         LIMA|                 S|          1|\n",
      "|       41591162| CASTANEDA|          TANTALEAN|  SHIRLEY JANETTE|  33|   F|        LIMA|     LIMA|         LIMA|                 S|          1|\n",
      "|       41034300|    TAPARA|             FLORES| MARIELA MERCEDES|  37|   F|        LIMA|     LIMA|         LIMA|                 S|          1|\n",
      "|       41150271|  CARBAJAL|               RUIZ|ROSALIA HORTENCIA|  35|   F|        LIMA|     LIMA|         LIMA|                 S|          0|\n",
      "|       41125546|    GRADOS|            CONDORI|       ERIKA ANAI|  37|   F|        LIMA|     LIMA|         LIMA|                CS|          0|\n",
      "|       41919700|   CONDORI|             HUANCA|       ELIDA SONY|  31|   F|        LIMA|     LIMA|         LIMA|                CS|          0|\n",
      "|       41678951|   ESCOBAR|CASTANEDA DE SEGAMA|      LUISA YUDIT|  38|   F|        LIMA|     LIMA|          ATE|                CS|          1|\n",
      "|       41676527| CANGALAYA|         NINAHUANCA|   LOURDES AURORA|  32|   F|        LIMA|     LIMA|  SANTA ANITA|                 S|          0|\n",
      "|       41062987|      ECHE|         COLMENARES|   MARIA MILAGROS|  33|   F|        LIMA|     LIMA|         BREA|                CS|          0|\n",
      "|       41004637|   VASQUEZ|         DEL AGUILA| NIURKHA MILUSKHA|  35|   F|        LIMA|     LIMA|         BREA|                CS|          1|\n",
      "|       41290421|   NORIEGA|            NAVARRO|SAMANTA ROSSMANIS|  33|   F|        LIMA|     LIMA|         BREA|                 S|          0|\n",
      "|       41133448|     DIEGO|          NAVARRETE|       MARIA NELA|  38|   F|        LIMA|     LIMA|         BREA|                CS|          4|\n",
      "|       41899533|   PAREDES|           CASTILLO|      STEVEN JOEL|  32|   M|        LIMA|     LIMA|         BREA|                CS|          1|\n",
      "|       41869858|     MATOS|              FALLA|   JIMMY FRANKLIN|  34|   M|        LIMA|     LIMA|        COMAS|                 S|          0|\n",
      "|       41316157|    CHACON|           TERRONES|        JACKELINE|  32|   F|        LIMA|     LIMA|        COMAS|                 S|          1|\n",
      "|       41180904|      BOZA|          PACHERREZ|     CARMEN LUISA|  33|   F|        LIMA|     LIMA|   CHORRILLOS|                 S|          1|\n",
      "|       41225156|ECHEVARRIA|             FALCON|     MAYITA HYLDA|  33|   F|        LIMA|     LIMA|INDEPENDENCIA|                CS|          1|\n",
      "|       41564419|  MELENDEZ|               LEON|  MAURO CRISTOBAL|  39|   M|        LIMA|     LIMA|INDEPENDENCIA|                CS|          1|\n",
      "|       41303274|    ALFARO|              PEREZ|            EDWIN|  35|   M|        LIMA|     LIMA|INDEPENDENCIA|                 S|          0|\n",
      "+---------------+----------+-------------------+-----------------+----+----+------------+---------+-------------+------------------+-----------+\n",
      "only showing top 20 rows\n",
      "\n"
     ]
    }
   ],
   "source": [
    "df_base_clientes = spark.sql(\"select * from datag3.data_in_base_clientes\")\n",
    "df_base_clientes.show()"
   ]
  },
  {
   "cell_type": "code",
   "execution_count": 5,
   "metadata": {},
   "outputs": [
    {
     "name": "stdout",
     "output_type": "stream",
     "text": [
      "+----------+---+-------+----------+--------+-----------------+------+----------+\n",
      "|CustomerId|TOB|  Bal01|MaxDqBin01|MtgBal01|NonBankTradesDq01|FlagGB|FlagSample|\n",
      "+----------+---+-------+----------+--------+-----------------+------+----------+\n",
      "|  41854018| 44| 604.86|         0|       0|                0|     1|         1|\n",
      "|  41020654| 79|1006.21|         0|       0|                0|     1|         1|\n",
      "|  41591162|102| 299.23|         0|       0|                0|     1|         1|\n",
      "|  41034300|  0| 645.19|         0|       0|                0|     1|         1|\n",
      "|  41150271|109|    218|         0|       0|                0|     1|         1|\n",
      "|  41125546|183|  10.32|         0|       0|                0|     1|         1|\n",
      "|  41919700|172|3517.07|         0|       0|                0|     1|         1|\n",
      "|  41678951| 76| 216.52|         0|       0|                0|     1|         1|\n",
      "|  41676527|136|1908.69|         0|       0|                0|     1|         1|\n",
      "|  41062987|171|1895.19|         0|       0|                0|     1|         1|\n",
      "|  41004637| 93|1310.43|         0|       0|                0|     1|         1|\n",
      "|  41290421| 11|2638.83|         0|       0|                0|     1|         0|\n",
      "|  41133448| 52|7879.69|         0|17744.98|                1|     1|         0|\n",
      "|  41899533|119|5085.55|         0|       0|                0|     1|         1|\n",
      "|  41869858|  9| 4871.7|         0|       0|                0|     1|         1|\n",
      "|  41316157| 17|  193.4|         0|       0|                0|     1|         1|\n",
      "|  41180904|122|  83.34|         0|       0|                0|     1|         1|\n",
      "|  41225156| 40| 996.52|         0|       0|                1|     1|         0|\n",
      "|  41564419|133| 5121.6|         0|       0|                0|     1|         0|\n",
      "|  41303274| 59|  39.77|         0|       0|                0|     1|         1|\n",
      "+----------+---+-------+----------+--------+-----------------+------+----------+\n",
      "only showing top 20 rows\n",
      "\n"
     ]
    }
   ],
   "source": [
    "df_info_clientes = spark.sql(\"select * from datag3.data_in_info_clientes\")\n",
    "df_info_clientes.show()"
   ]
  },
  {
   "cell_type": "code",
   "execution_count": 6,
   "metadata": {},
   "outputs": [
    {
     "name": "stdout",
     "output_type": "stream",
     "text": [
      "+---------------+----------+----------+---------------+----+----+------------+---------+--------------------+------------------+-----------+----------+---+--------+----------+--------+-----------------+------+----------+\n",
      "|NUMERODOCUMENTO|    APEPAT|    APEMAT|        NOMBRES|EDAD|SEXO|DEPARTAMENTO|PROVINCIA|            DISTRITO|ESTADOCIVILTITULAR|IncomeLevel|CustomerId|TOB|   Bal01|MaxDqBin01|MtgBal01|NonBankTradesDq01|FlagGB|FlagSample|\n",
      "+---------------+----------+----------+---------------+----+----+------------+---------+--------------------+------------------+-----------+----------+---+--------+----------+--------+-----------------+------+----------+\n",
      "|       41011903|      DIAZ|   CORDOVA|  LORENA ROXANA|  33|   F|        LIMA|     LIMA|   MAGDALENA DEL MAR|                CS|          2|  41011903| 43|  613.21|         0|       0|                0|     1|         1|\n",
      "|       41011903|      DIAZ|   CORDOVA|  LORENA ROXANA|  33|   F|        LIMA|     LIMA|   MAGDALENA DEL MAR|                CS|          2|  41011903| 43|  613.21|         0|       0|                0|     1|         1|\n",
      "|       41098867|     PALMA|      RUIZ|   ALEX WILLIAN|  35|   M|        LIMA|     LIMA|VILLA MARIA DEL T...|                CS|          1|  41098867| 48|  568.16|         0|       0|                0|     1|         1|\n",
      "|       41098867|     PALMA|      RUIZ|   ALEX WILLIAN|  35|   M|        LIMA|     LIMA|VILLA MARIA DEL T...|                CS|          1|  41098867| 48|  568.16|         0|       0|                0|     1|         1|\n",
      "|       41118388|   VICENTE|     CASIO|         ROSITA|  33|   F|        LIMA|     LIMA|SAN JUAN DE MIRAF...|                 S|          1|  41118388| 12| 2487.05|         0|       0|                0|     1|         1|\n",
      "|       41118388|   VICENTE|     CASIO|         ROSITA|  33|   F|        LIMA|     LIMA|SAN JUAN DE MIRAF...|                 S|          1|  41118388| 12| 2487.05|         0|       0|                0|     1|         1|\n",
      "|       41143790|    LIZANA|  CASTILLO|     KELY ROCIO|  33|   F|        LIMA|     LIMA|                 ATE|                CS|          0|  41143790|  6|  798.64|         0|       0|                0|     0|         0|\n",
      "|       41143790|    LIZANA|  CASTILLO|     KELY ROCIO|  33|   F|        LIMA|     LIMA|                 ATE|                CS|          0|  41143790|  6|  798.64|         0|       0|                0|     0|         0|\n",
      "|       41195611|   MEMENZA|    ROMERO|MERCEDES ISABEL|  33|   F|        LIMA|     LIMA|           SAN BORJA|                CS|          3|  41195611|217|18814.28|         0|76821.18|                0|     1|         1|\n",
      "|       41195611|   MEMENZA|    ROMERO|MERCEDES ISABEL|  33|   F|        LIMA|     LIMA|           SAN BORJA|                CS|          3|  41195611|217|18814.28|         0|76821.18|                0|     1|         1|\n",
      "|       41213957|   MONTOYA|     PARRA|      JOSE LUIS|  33|   M|        LIMA|     LIMA|SAN JUAN DE LURIG...|                 S|          1|  41213957| 20| 1802.66|         0|       0|                0|     0|         1|\n",
      "|       41213957|   MONTOYA|     PARRA|      JOSE LUIS|  33|   M|        LIMA|     LIMA|SAN JUAN DE LURIG...|                 S|          1|  41213957| 20| 1802.66|         0|       0|                0|     0|         1|\n",
      "|       41291114|    RIVERA|    HUAMAN|      JOSE LUIS|  36|   M|        LIMA|     LIMA|   VILLA EL SALVADOR|                CS|          0|  41291114|133|  883.97|         0|       0|                0|     1|         1|\n",
      "|       41291114|    RIVERA|    HUAMAN|      JOSE LUIS|  36|   M|        LIMA|     LIMA|   VILLA EL SALVADOR|                CS|          0|  41291114|133|  883.97|         0|       0|                0|     1|         1|\n",
      "|       41310042|    GUERRA|   PADILLA|TONINHO ALFONSO|  33|   M|        LIMA|   HUAURA|             HUALMAY|                 S|          0|  41310042| 17| 1032.68|         0|       0|                3|     0|         1|\n",
      "|       41310042|    GUERRA|   PADILLA|TONINHO ALFONSO|  33|   M|        LIMA|   HUAURA|             HUALMAY|                 S|          0|  41310042| 17| 1032.68|         0|       0|                3|     0|         1|\n",
      "|       41318259|    CARPIO|  CHICHIPE|      ALEXANDER|  38|   M|        LIMA|     LIMA|SAN MARTIN DE PORRES|                 S|          1|  41318259| 41|  149.81|         0|       0|                1|     1|         1|\n",
      "|       41318259|    CARPIO|  CHICHIPE|      ALEXANDER|  38|   M|        LIMA|     LIMA|SAN MARTIN DE PORRES|                 S|          1|  41318259| 41|  149.81|         0|       0|                1|     1|         1|\n",
      "|       41329590|SAPALLANAY|VALENZUELA|EDITH MARCELINA|  33|   F|        LIMA|     LIMA|       PUENTE PIEDRA|                 S|          1|  41329590| 29|13616.95|         0|       0|                0|     0|         1|\n",
      "|       41329590|SAPALLANAY|VALENZUELA|EDITH MARCELINA|  33|   F|        LIMA|     LIMA|       PUENTE PIEDRA|                 S|          1|  41329590| 29|13616.95|         0|       0|                0|     0|         1|\n",
      "+---------------+----------+----------+---------------+----+----+------------+---------+--------------------+------------------+-----------+----------+---+--------+----------+--------+-----------------+------+----------+\n",
      "only showing top 20 rows\n",
      "\n"
     ]
    }
   ],
   "source": [
    "DF3 = df_base_clientes.join(df_info_clientes, [df_base_clientes.NUMERODOCUMENTO==df_info_clientes.CustomerId])\n",
    "DF3.show()"
   ]
  },
  {
   "cell_type": "code",
   "execution_count": 7,
   "metadata": {},
   "outputs": [
    {
     "data": {
      "text/plain": [
       "15404"
      ]
     },
     "execution_count": 7,
     "metadata": {},
     "output_type": "execute_result"
    }
   ],
   "source": [
    "DF3.count()"
   ]
  },
  {
   "cell_type": "code",
   "execution_count": 8,
   "metadata": {},
   "outputs": [
    {
     "name": "stdout",
     "output_type": "stream",
     "text": [
      "+---------------+----------+----------+---------------+----+----+------------+---------+--------------------+------------------+-----------+----------+---+--------+----------+--------+-----------------+------+----------+\n",
      "|NUMERODOCUMENTO|    APEPAT|    APEMAT|        NOMBRES|EDAD|SEXO|DEPARTAMENTO|PROVINCIA|            DISTRITO|ESTADOCIVILTITULAR|IncomeLevel|CustomerId|TOB|   Bal01|MaxDqBin01|MtgBal01|NonBankTradesDq01|FlagGB|FlagSample|\n",
      "+---------------+----------+----------+---------------+----+----+------------+---------+--------------------+------------------+-----------+----------+---+--------+----------+--------+-----------------+------+----------+\n",
      "|       41011903|      DIAZ|   CORDOVA|  LORENA ROXANA|  33|   F|        LIMA|     LIMA|   MAGDALENA DEL MAR|                CS|          2|  41011903| 43|  613.21|         0|       0|                0|     1|         1|\n",
      "|       41011903|      DIAZ|   CORDOVA|  LORENA ROXANA|  33|   F|        LIMA|     LIMA|   MAGDALENA DEL MAR|                CS|          2|  41011903| 43|  613.21|         0|       0|                0|     1|         1|\n",
      "|       41098867|     PALMA|      RUIZ|   ALEX WILLIAN|  35|   M|        LIMA|     LIMA|VILLA MARIA DEL T...|                CS|          1|  41098867| 48|  568.16|         0|       0|                0|     1|         1|\n",
      "|       41098867|     PALMA|      RUIZ|   ALEX WILLIAN|  35|   M|        LIMA|     LIMA|VILLA MARIA DEL T...|                CS|          1|  41098867| 48|  568.16|         0|       0|                0|     1|         1|\n",
      "|       41118388|   VICENTE|     CASIO|         ROSITA|  33|   F|        LIMA|     LIMA|SAN JUAN DE MIRAF...|                 S|          1|  41118388| 12| 2487.05|         0|       0|                0|     1|         1|\n",
      "|       41118388|   VICENTE|     CASIO|         ROSITA|  33|   F|        LIMA|     LIMA|SAN JUAN DE MIRAF...|                 S|          1|  41118388| 12| 2487.05|         0|       0|                0|     1|         1|\n",
      "|       41195611|   MEMENZA|    ROMERO|MERCEDES ISABEL|  33|   F|        LIMA|     LIMA|           SAN BORJA|                CS|          3|  41195611|217|18814.28|         0|76821.18|                0|     1|         1|\n",
      "|       41195611|   MEMENZA|    ROMERO|MERCEDES ISABEL|  33|   F|        LIMA|     LIMA|           SAN BORJA|                CS|          3|  41195611|217|18814.28|         0|76821.18|                0|     1|         1|\n",
      "|       41213957|   MONTOYA|     PARRA|      JOSE LUIS|  33|   M|        LIMA|     LIMA|SAN JUAN DE LURIG...|                 S|          1|  41213957| 20| 1802.66|         0|       0|                0|     0|         1|\n",
      "|       41213957|   MONTOYA|     PARRA|      JOSE LUIS|  33|   M|        LIMA|     LIMA|SAN JUAN DE LURIG...|                 S|          1|  41213957| 20| 1802.66|         0|       0|                0|     0|         1|\n",
      "|       41291114|    RIVERA|    HUAMAN|      JOSE LUIS|  36|   M|        LIMA|     LIMA|   VILLA EL SALVADOR|                CS|          0|  41291114|133|  883.97|         0|       0|                0|     1|         1|\n",
      "|       41291114|    RIVERA|    HUAMAN|      JOSE LUIS|  36|   M|        LIMA|     LIMA|   VILLA EL SALVADOR|                CS|          0|  41291114|133|  883.97|         0|       0|                0|     1|         1|\n",
      "|       41310042|    GUERRA|   PADILLA|TONINHO ALFONSO|  33|   M|        LIMA|   HUAURA|             HUALMAY|                 S|          0|  41310042| 17| 1032.68|         0|       0|                3|     0|         1|\n",
      "|       41310042|    GUERRA|   PADILLA|TONINHO ALFONSO|  33|   M|        LIMA|   HUAURA|             HUALMAY|                 S|          0|  41310042| 17| 1032.68|         0|       0|                3|     0|         1|\n",
      "|       41318259|    CARPIO|  CHICHIPE|      ALEXANDER|  38|   M|        LIMA|     LIMA|SAN MARTIN DE PORRES|                 S|          1|  41318259| 41|  149.81|         0|       0|                1|     1|         1|\n",
      "|       41318259|    CARPIO|  CHICHIPE|      ALEXANDER|  38|   M|        LIMA|     LIMA|SAN MARTIN DE PORRES|                 S|          1|  41318259| 41|  149.81|         0|       0|                1|     1|         1|\n",
      "|       41329590|SAPALLANAY|VALENZUELA|EDITH MARCELINA|  33|   F|        LIMA|     LIMA|       PUENTE PIEDRA|                 S|          1|  41329590| 29|13616.95|         0|       0|                0|     0|         1|\n",
      "|       41329590|SAPALLANAY|VALENZUELA|EDITH MARCELINA|  33|   F|        LIMA|     LIMA|       PUENTE PIEDRA|                 S|          1|  41329590| 29|13616.95|         0|       0|                0|     0|         1|\n",
      "|       41358348|     CUEVA|    RONDAN| WILLIAM SILVIO|  33|   M|        LIMA|     LIMA|       PUENTE PIEDRA|                 S|          1|  41358348|182| 1915.41|         0|       0|                0|     1|         1|\n",
      "|       41358348|     CUEVA|    RONDAN| WILLIAM SILVIO|  33|   M|        LIMA|     LIMA|       PUENTE PIEDRA|                 S|          1|  41358348|182| 1915.41|         0|       0|                0|     1|         1|\n",
      "+---------------+----------+----------+---------------+----+----+------------+---------+--------------------+------------------+-----------+----------+---+--------+----------+--------+-----------------+------+----------+\n",
      "only showing top 20 rows\n",
      "\n"
     ]
    }
   ],
   "source": [
    "train = DF3.filter(\"FlagSample == 1\")\n",
    "train.show()"
   ]
  },
  {
   "cell_type": "code",
   "execution_count": 9,
   "metadata": {},
   "outputs": [
    {
     "name": "stdout",
     "output_type": "stream",
     "text": [
      "+---------------+-----------+----------+--------------------+----+----+------------+---------+--------------------+------------------+-----------+----------+---+-------+----------+--------+-----------------+------+----------+\n",
      "|NUMERODOCUMENTO|     APEPAT|    APEMAT|             NOMBRES|EDAD|SEXO|DEPARTAMENTO|PROVINCIA|            DISTRITO|ESTADOCIVILTITULAR|IncomeLevel|CustomerId|TOB|  Bal01|MaxDqBin01|MtgBal01|NonBankTradesDq01|FlagGB|FlagSample|\n",
      "+---------------+-----------+----------+--------------------+----+----+------------+---------+--------------------+------------------+-----------+----------+---+-------+----------+--------+-----------------+------+----------+\n",
      "|       41143790|     LIZANA|  CASTILLO|          KELY ROCIO|  33|   F|        LIMA|     LIMA|                 ATE|                CS|          0|  41143790|  6| 798.64|         0|       0|                0|     0|         0|\n",
      "|       41143790|     LIZANA|  CASTILLO|          KELY ROCIO|  33|   F|        LIMA|     LIMA|                 ATE|                CS|          0|  41143790|  6| 798.64|         0|       0|                0|     0|         0|\n",
      "|       41648858|     NAHUIS|  MENDIVIL|        VANESSA INES|  32|   F|        LIMA|     LIMA|       INDEPENDENCIA|                CS|          1|  41648858| 30|4499.01|         0|       0|                0|     1|         0|\n",
      "|       41648858|     NAHUIS|  MENDIVIL|        VANESSA INES|  32|   F|        LIMA|     LIMA|       INDEPENDENCIA|                CS|          1|  41648858| 30|4499.01|         0|       0|                0|     1|         0|\n",
      "|       41710463|      PININ|  VILLEGAS|          JUAN REYES|  35|   M|        LIMA|     LIMA|                 ATE|                 S|          0|  41710463| 41|4510.94|         0|       0|                0|     1|         0|\n",
      "|       41710463|      PININ|  VILLEGAS|          JUAN REYES|  35|   M|        LIMA|     LIMA|                 ATE|                 S|          0|  41710463| 41|4510.94|         0|       0|                0|     1|         0|\n",
      "|       41879799|       PENA| JARAMILLO|        MARIA MAXIMA|  81|   F|        LIMA|     LIMA|   VILLA EL SALVADOR|                CS|          1|  41879799|  0|2420.84|         0|       0|                0|     0|         0|\n",
      "|       41879799|       PENA| JARAMILLO|        MARIA MAXIMA|  81|   F|        LIMA|     LIMA|   VILLA EL SALVADOR|                CS|          1|  41879799|  0|2420.84|         0|       0|                0|     0|         0|\n",
      "|       41116900|    DELGADO|   SALDANA|MARCOS ENRIQUE VI...|  33|   M|        LIMA|     LIMA|               RIMAC|                 S|          1|  41116900| 22| 432.22|         0|       0|                0|     1|         0|\n",
      "|       41116900|    DELGADO|   SALDANA|MARCOS ENRIQUE VI...|  33|   M|        LIMA|     LIMA|               RIMAC|                 S|          1|  41116900| 22| 432.22|         0|       0|                0|     1|         0|\n",
      "|       41313332|   MARTINEZ|     VIVAS|    CRISTHIAN ANDRES|  33|   M|        LIMA|     LIMA|                LIMA|                CS|          1|  41313332| 71| 662.34|         0|       0|                0|     1|         0|\n",
      "|       41313332|   MARTINEZ|     VIVAS|    CRISTHIAN ANDRES|  33|   M|        LIMA|     LIMA|                LIMA|                CS|          1|  41313332| 71| 662.34|         0|       0|                0|     1|         0|\n",
      "|       41441727|LE BIENVENU|VELAOCHAGA|         JEAN PIERRE|  32|   M|        LIMA|     LIMA|          SAN ISIDRO|                CS|          0|  41441727| 44| 930.75|         0|       0|                1|     1|         0|\n",
      "|       41441727|LE BIENVENU|VELAOCHAGA|         JEAN PIERRE|  32|   M|        LIMA|     LIMA|          SAN ISIDRO|                CS|          0|  41441727| 44| 930.75|         0|       0|                1|     1|         0|\n",
      "|       41533760|      REANO|      ARCE|ANTUANETTE DEL CA...|  32|   F|        LIMA|     LIMA|          MIRAFLORES|                 S|          2|  41533760| 27|   0.53|         0|       0|                0|     1|         0|\n",
      "|       41533760|      REANO|      ARCE|ANTUANETTE DEL CA...|  32|   F|        LIMA|     LIMA|          MIRAFLORES|                 S|          2|  41533760| 27|   0.53|         0|       0|                0|     1|         0|\n",
      "|       41564744|  SEMINARIO|   QUIQUIA|       NELLY VIOLETA|  33|   F|        LIMA|     LIMA|SAN JUAN DE LURIG...|                 S|          1|  41564744|  0| 381.79|         1| 3486.01|                0|     1|         0|\n",
      "|       41564744|  SEMINARIO|   QUIQUIA|       NELLY VIOLETA|  33|   F|        LIMA|     LIMA|SAN JUAN DE LURIG...|                 S|          1|  41564744|  0| 381.79|         1| 3486.01|                0|     1|         0|\n",
      "|       41724881|        ODE|    JACOME|              SHADIA|  32|   F|        LIMA|     LIMA|           SAN BORJA|                 S|          3|  41724881|164| 862.16|         0|       0|                1|     1|         0|\n",
      "|       41724881|        ODE|    JACOME|              SHADIA|  32|   F|        LIMA|     LIMA|           SAN BORJA|                 S|          3|  41724881|164| 862.16|         0|       0|                1|     1|         0|\n",
      "+---------------+-----------+----------+--------------------+----+----+------------+---------+--------------------+------------------+-----------+----------+---+-------+----------+--------+-----------------+------+----------+\n",
      "only showing top 20 rows\n",
      "\n"
     ]
    }
   ],
   "source": [
    "test = DF3.filter(\"FlagSample == 0\")\n",
    "test.show()"
   ]
  },
  {
   "cell_type": "code",
   "execution_count": 10,
   "metadata": {},
   "outputs": [
    {
     "data": {
      "text/plain": [
       "[('NUMERODOCUMENTO', 'string'),\n",
       " ('APEPAT', 'string'),\n",
       " ('APEMAT', 'string'),\n",
       " ('NOMBRES', 'string'),\n",
       " ('EDAD', 'int'),\n",
       " ('SEXO', 'string'),\n",
       " ('DEPARTAMENTO', 'string'),\n",
       " ('PROVINCIA', 'string'),\n",
       " ('DISTRITO', 'string'),\n",
       " ('ESTADOCIVILTITULAR', 'string'),\n",
       " ('IncomeLevel', 'int'),\n",
       " ('CustomerId', 'string'),\n",
       " ('TOB', 'string'),\n",
       " ('Bal01', 'string'),\n",
       " ('MaxDqBin01', 'string'),\n",
       " ('MtgBal01', 'string'),\n",
       " ('NonBankTradesDq01', 'string'),\n",
       " ('FlagGB', 'string'),\n",
       " ('FlagSample', 'string')]"
      ]
     },
     "execution_count": 10,
     "metadata": {},
     "output_type": "execute_result"
    }
   ],
   "source": [
    "train.dtypes"
   ]
  },
  {
   "cell_type": "code",
   "execution_count": 11,
   "metadata": {},
   "outputs": [
    {
     "data": {
      "text/plain": [
       "[('NUMERODOCUMENTO', 'string'),\n",
       " ('APEPAT', 'string'),\n",
       " ('APEMAT', 'string'),\n",
       " ('NOMBRES', 'string'),\n",
       " ('EDAD', 'int'),\n",
       " ('SEXO', 'string'),\n",
       " ('DEPARTAMENTO', 'string'),\n",
       " ('PROVINCIA', 'string'),\n",
       " ('DISTRITO', 'string'),\n",
       " ('ESTADOCIVILTITULAR', 'string'),\n",
       " ('IncomeLevel', 'int'),\n",
       " ('CustomerId', 'string'),\n",
       " ('TOB', 'string'),\n",
       " ('Bal01', 'string'),\n",
       " ('MaxDqBin01', 'string'),\n",
       " ('MtgBal01', 'string'),\n",
       " ('NonBankTradesDq01', 'string'),\n",
       " ('FlagGB', 'string'),\n",
       " ('FlagSample', 'string')]"
      ]
     },
     "execution_count": 11,
     "metadata": {},
     "output_type": "execute_result"
    }
   ],
   "source": [
    "test.dtypes"
   ]
  },
  {
   "cell_type": "code",
   "execution_count": 12,
   "metadata": {},
   "outputs": [
    {
     "name": "stdout",
     "output_type": "stream",
     "text": [
      "+---------------+----------+----------+---------------+----+----+------------+---------+--------------------+------------------+-----------+----------+---+--------+----------+--------+-----------------+------+----------+\n",
      "|NUMERODOCUMENTO|    APEPAT|    APEMAT|        NOMBRES|EDAD|SEXO|DEPARTAMENTO|PROVINCIA|            DISTRITO|ESTADOCIVILTITULAR|IncomeLevel|CustomerId|TOB|   Bal01|MaxDqBin01|MtgBal01|NonBankTradesDq01|FlagGB|FlagSample|\n",
      "+---------------+----------+----------+---------------+----+----+------------+---------+--------------------+------------------+-----------+----------+---+--------+----------+--------+-----------------+------+----------+\n",
      "|       41011903|      DIAZ|   CORDOVA|  LORENA ROXANA|  33|   F|        LIMA|     LIMA|   MAGDALENA DEL MAR|                CS|          2|  41011903| 43|  613.21|         0|       0|                0|     1|         1|\n",
      "|       41011903|      DIAZ|   CORDOVA|  LORENA ROXANA|  33|   F|        LIMA|     LIMA|   MAGDALENA DEL MAR|                CS|          2|  41011903| 43|  613.21|         0|       0|                0|     1|         1|\n",
      "|       41098867|     PALMA|      RUIZ|   ALEX WILLIAN|  35|   M|        LIMA|     LIMA|VILLA MARIA DEL T...|                CS|          1|  41098867| 48|  568.16|         0|       0|                0|     1|         1|\n",
      "|       41098867|     PALMA|      RUIZ|   ALEX WILLIAN|  35|   M|        LIMA|     LIMA|VILLA MARIA DEL T...|                CS|          1|  41098867| 48|  568.16|         0|       0|                0|     1|         1|\n",
      "|       41118388|   VICENTE|     CASIO|         ROSITA|  33|   F|        LIMA|     LIMA|SAN JUAN DE MIRAF...|                 S|          1|  41118388| 12| 2487.05|         0|       0|                0|     1|         1|\n",
      "|       41118388|   VICENTE|     CASIO|         ROSITA|  33|   F|        LIMA|     LIMA|SAN JUAN DE MIRAF...|                 S|          1|  41118388| 12| 2487.05|         0|       0|                0|     1|         1|\n",
      "|       41195611|   MEMENZA|    ROMERO|MERCEDES ISABEL|  33|   F|        LIMA|     LIMA|           SAN BORJA|                CS|          3|  41195611|217|18814.28|         0|76821.18|                0|     1|         1|\n",
      "|       41195611|   MEMENZA|    ROMERO|MERCEDES ISABEL|  33|   F|        LIMA|     LIMA|           SAN BORJA|                CS|          3|  41195611|217|18814.28|         0|76821.18|                0|     1|         1|\n",
      "|       41213957|   MONTOYA|     PARRA|      JOSE LUIS|  33|   M|        LIMA|     LIMA|SAN JUAN DE LURIG...|                 S|          1|  41213957| 20| 1802.66|         0|       0|                0|     0|         1|\n",
      "|       41213957|   MONTOYA|     PARRA|      JOSE LUIS|  33|   M|        LIMA|     LIMA|SAN JUAN DE LURIG...|                 S|          1|  41213957| 20| 1802.66|         0|       0|                0|     0|         1|\n",
      "|       41291114|    RIVERA|    HUAMAN|      JOSE LUIS|  36|   M|        LIMA|     LIMA|   VILLA EL SALVADOR|                CS|          0|  41291114|133|  883.97|         0|       0|                0|     1|         1|\n",
      "|       41291114|    RIVERA|    HUAMAN|      JOSE LUIS|  36|   M|        LIMA|     LIMA|   VILLA EL SALVADOR|                CS|          0|  41291114|133|  883.97|         0|       0|                0|     1|         1|\n",
      "|       41310042|    GUERRA|   PADILLA|TONINHO ALFONSO|  33|   M|        LIMA|   HUAURA|             HUALMAY|                 S|          0|  41310042| 17| 1032.68|         0|       0|                3|     0|         1|\n",
      "|       41310042|    GUERRA|   PADILLA|TONINHO ALFONSO|  33|   M|        LIMA|   HUAURA|             HUALMAY|                 S|          0|  41310042| 17| 1032.68|         0|       0|                3|     0|         1|\n",
      "|       41318259|    CARPIO|  CHICHIPE|      ALEXANDER|  38|   M|        LIMA|     LIMA|SAN MARTIN DE PORRES|                 S|          1|  41318259| 41|  149.81|         0|       0|                1|     1|         1|\n",
      "|       41318259|    CARPIO|  CHICHIPE|      ALEXANDER|  38|   M|        LIMA|     LIMA|SAN MARTIN DE PORRES|                 S|          1|  41318259| 41|  149.81|         0|       0|                1|     1|         1|\n",
      "|       41329590|SAPALLANAY|VALENZUELA|EDITH MARCELINA|  33|   F|        LIMA|     LIMA|       PUENTE PIEDRA|                 S|          1|  41329590| 29|13616.95|         0|       0|                0|     0|         1|\n",
      "|       41329590|SAPALLANAY|VALENZUELA|EDITH MARCELINA|  33|   F|        LIMA|     LIMA|       PUENTE PIEDRA|                 S|          1|  41329590| 29|13616.95|         0|       0|                0|     0|         1|\n",
      "|       41358348|     CUEVA|    RONDAN| WILLIAM SILVIO|  33|   M|        LIMA|     LIMA|       PUENTE PIEDRA|                 S|          1|  41358348|182| 1915.41|         0|       0|                0|     1|         1|\n",
      "|       41358348|     CUEVA|    RONDAN| WILLIAM SILVIO|  33|   M|        LIMA|     LIMA|       PUENTE PIEDRA|                 S|          1|  41358348|182| 1915.41|         0|       0|                0|     1|         1|\n",
      "+---------------+----------+----------+---------------+----+----+------------+---------+--------------------+------------------+-----------+----------+---+--------+----------+--------+-----------------+------+----------+\n",
      "only showing top 20 rows\n",
      "\n"
     ]
    }
   ],
   "source": [
    "train.show()"
   ]
  },
  {
   "cell_type": "code",
   "execution_count": 13,
   "metadata": {},
   "outputs": [
    {
     "data": {
      "text/plain": [
       "['NUMERODOCUMENTO',\n",
       " 'APEPAT',\n",
       " 'APEMAT',\n",
       " 'NOMBRES',\n",
       " 'EDAD',\n",
       " 'SEXO',\n",
       " 'DEPARTAMENTO',\n",
       " 'PROVINCIA',\n",
       " 'DISTRITO',\n",
       " 'ESTADOCIVILTITULAR',\n",
       " 'IncomeLevel',\n",
       " 'CustomerId',\n",
       " 'TOB',\n",
       " 'Bal01',\n",
       " 'MaxDqBin01',\n",
       " 'MtgBal01',\n",
       " 'NonBankTradesDq01',\n",
       " 'FlagGB',\n",
       " 'FlagSample']"
      ]
     },
     "execution_count": 13,
     "metadata": {},
     "output_type": "execute_result"
    }
   ],
   "source": [
    "train.columns"
   ]
  },
  {
   "cell_type": "code",
   "execution_count": 14,
   "metadata": {},
   "outputs": [],
   "source": [
    "train_model = train[[\n",
    " 'EDAD',\n",
    " 'SEXO',\n",
    " 'DEPARTAMENTO',\n",
    " 'PROVINCIA',\n",
    " 'DISTRITO',\n",
    " 'ESTADOCIVILTITULAR',\n",
    " 'IncomeLevel',\n",
    " 'TOB',\n",
    " 'Bal01',\n",
    " 'MaxDqBin01',\n",
    " 'MtgBal01',\n",
    " 'NonBankTradesDq01',\n",
    " 'FlagGB']]"
   ]
  },
  {
   "cell_type": "code",
   "execution_count": 15,
   "metadata": {},
   "outputs": [],
   "source": [
    "test_model = test[[\n",
    " 'EDAD',\n",
    " 'SEXO',\n",
    " 'DEPARTAMENTO',\n",
    " 'PROVINCIA',\n",
    " 'DISTRITO',\n",
    " 'ESTADOCIVILTITULAR',\n",
    " 'IncomeLevel',\n",
    " 'TOB',\n",
    " 'Bal01',\n",
    " 'MaxDqBin01',\n",
    " 'MtgBal01',\n",
    " 'NonBankTradesDq01',\n",
    " 'FlagGB']]"
   ]
  },
  {
   "cell_type": "code",
   "execution_count": 16,
   "metadata": {},
   "outputs": [
    {
     "data": {
      "text/plain": [
       "(11600, 3804)"
      ]
     },
     "execution_count": 16,
     "metadata": {},
     "output_type": "execute_result"
    }
   ],
   "source": [
    "train_model.count(), test_model.count()"
   ]
  },
  {
   "cell_type": "code",
   "execution_count": 17,
   "metadata": {},
   "outputs": [
    {
     "data": {
      "text/plain": [
       "[('EDAD', 'int'),\n",
       " ('SEXO', 'string'),\n",
       " ('DEPARTAMENTO', 'string'),\n",
       " ('PROVINCIA', 'string'),\n",
       " ('DISTRITO', 'string'),\n",
       " ('ESTADOCIVILTITULAR', 'string'),\n",
       " ('IncomeLevel', 'int'),\n",
       " ('TOB', 'string'),\n",
       " ('Bal01', 'string'),\n",
       " ('MaxDqBin01', 'string'),\n",
       " ('MtgBal01', 'string'),\n",
       " ('NonBankTradesDq01', 'string'),\n",
       " ('FlagGB', 'string')]"
      ]
     },
     "execution_count": 17,
     "metadata": {},
     "output_type": "execute_result"
    }
   ],
   "source": [
    "train_model.dtypes"
   ]
  },
  {
   "cell_type": "code",
   "execution_count": 18,
   "metadata": {},
   "outputs": [],
   "source": [
    "from pyspark.ml.classification import RandomForestClassifier\n",
    "from pyspark.ml.linalg import Vectors\n",
    "from pyspark.ml.feature import VectorAssembler, StandardScaler\n",
    "from pandas.tools.plotting import scatter_matrix\n",
    "%matplotlib inline \n",
    "import matplotlib.pyplot as plt, numpy as np\n",
    "\n",
    "from pyspark.sql.functions import col"
   ]
  },
  {
   "cell_type": "code",
   "execution_count": 21,
   "metadata": {},
   "outputs": [
    {
     "data": {
      "text/plain": [
       "[('NUMERODOCUMENTO', 'string'),\n",
       " ('APEPAT', 'string'),\n",
       " ('APEMAT', 'string'),\n",
       " ('NOMBRES', 'string'),\n",
       " ('EDAD', 'int'),\n",
       " ('SEXO', 'string'),\n",
       " ('DEPARTAMENTO', 'string'),\n",
       " ('PROVINCIA', 'string'),\n",
       " ('DISTRITO', 'string'),\n",
       " ('ESTADOCIVILTITULAR', 'string'),\n",
       " ('IncomeLevel', 'int'),\n",
       " ('CustomerId', 'string'),\n",
       " ('TOB', 'string'),\n",
       " ('Bal01', 'string'),\n",
       " ('MaxDqBin01', 'string'),\n",
       " ('MtgBal01', 'string'),\n",
       " ('NonBankTradesDq01', 'string'),\n",
       " ('FlagGB', 'string'),\n",
       " ('FlagSample', 'string'),\n",
       " ('ESTADOCIVILTITULAR_index', 'double'),\n",
       " ('DISTRITO_index', 'double'),\n",
       " ('PROVINCIA_index', 'double'),\n",
       " ('DEPARTAMENTO_index', 'double'),\n",
       " ('SEXO_index', 'double')]"
      ]
     },
     "execution_count": 21,
     "metadata": {},
     "output_type": "execute_result"
    }
   ],
   "source": [
    "from pyspark.ml.feature import StringIndexer\n",
    "from pyspark.ml import Pipeline\n",
    "from pyspark.ml.feature import StringIndexer\n",
    "list_category = ['ESTADOCIVILTITULAR', 'DISTRITO', 'PROVINCIA', 'DEPARTAMENTO', 'SEXO']\n",
    "indexers = [StringIndexer(inputCol=column, outputCol=column+\"_index\").fit(train) for column in list_category ]\n",
    "pipeline = Pipeline(stages=indexers)\n",
    "train = pipeline.fit(train).transform(train)\n",
    "train.dtypes"
   ]
  },
  {
   "cell_type": "code",
   "execution_count": 25,
   "metadata": {},
   "outputs": [
    {
     "name": "stdout",
     "output_type": "stream",
     "text": [
      "+------+-----------------+--------+----------+-----+---+----+-----------+--------------+------------------------+---------------+------------------+----------+\n",
      "|FlagGB|NonBankTradesDq01|MtgBal01|MaxDqBin01|Bal01|TOB|EDAD|IncomeLevel|DISTRITO_index|ESTADOCIVILTITULAR_index|PROVINCIA_index|DEPARTAMENTO_index|SEXO_index|\n",
      "+------+-----------------+--------+----------+-----+---+----+-----------+--------------+------------------------+---------------+------------------+----------+\n",
      "|     1|                0|       0|         0|  613| 43|  33|          2|          29.0|                     1.0|            0.0|               0.0|       1.0|\n",
      "|     1|                0|       0|         0|  613| 43|  33|          2|          29.0|                     1.0|            0.0|               0.0|       1.0|\n",
      "|     1|                0|       0|         0|  568| 48|  35|          1|           9.0|                     1.0|            0.0|               0.0|       0.0|\n",
      "|     1|                0|       0|         0|  568| 48|  35|          1|           9.0|                     1.0|            0.0|               0.0|       0.0|\n",
      "|     1|                0|       0|         0| 2487| 12|  33|          1|           6.0|                     0.0|            0.0|               0.0|       1.0|\n",
      "|     1|                0|       0|         0| 2487| 12|  33|          1|           6.0|                     0.0|            0.0|               0.0|       1.0|\n",
      "|     1|                0|   76821|         0|18814|217|  33|          3|          16.0|                     1.0|            0.0|               0.0|       1.0|\n",
      "|     1|                0|   76821|         0|18814|217|  33|          3|          16.0|                     1.0|            0.0|               0.0|       1.0|\n",
      "|     0|                0|       0|         0| 1802| 20|  33|          1|           0.0|                     0.0|            0.0|               0.0|       0.0|\n",
      "|     0|                0|       0|         0| 1802| 20|  33|          1|           0.0|                     0.0|            0.0|               0.0|       0.0|\n",
      "|     1|                0|       0|         0|  883|133|  36|          0|           7.0|                     1.0|            0.0|               0.0|       0.0|\n",
      "|     1|                0|       0|         0|  883|133|  36|          0|           7.0|                     1.0|            0.0|               0.0|       0.0|\n",
      "|     0|                3|       0|         0| 1032| 17|  33|          0|          52.0|                     0.0|            2.0|               0.0|       0.0|\n",
      "|     0|                3|       0|         0| 1032| 17|  33|          0|          52.0|                     0.0|            2.0|               0.0|       0.0|\n",
      "|     1|                1|       0|         0|  149| 41|  38|          1|           1.0|                     0.0|            0.0|               0.0|       0.0|\n",
      "|     1|                1|       0|         0|  149| 41|  38|          1|           1.0|                     0.0|            0.0|               0.0|       0.0|\n",
      "|     0|                0|       0|         0|13616| 29|  33|          1|          17.0|                     0.0|            0.0|               0.0|       1.0|\n",
      "|     0|                0|       0|         0|13616| 29|  33|          1|          17.0|                     0.0|            0.0|               0.0|       1.0|\n",
      "|     1|                0|       0|         0| 1915|182|  33|          1|          17.0|                     0.0|            0.0|               0.0|       0.0|\n",
      "|     1|                0|       0|         0| 1915|182|  33|          1|          17.0|                     0.0|            0.0|               0.0|       0.0|\n",
      "+------+-----------------+--------+----------+-----+---+----+-----------+--------------+------------------------+---------------+------------------+----------+\n",
      "only showing top 20 rows\n",
      "\n"
     ]
    }
   ],
   "source": [
    "from pyspark.sql.types import DoubleType, IntegerType\n",
    "list_val_col = []\n",
    "list_val_numeric = ['FlagGB', 'NonBankTradesDq01', 'MtgBal01', 'MaxDqBin01', 'Bal01', 'TOB']\n",
    "list_int = ['EDAD', 'IncomeLevel', 'DISTRITO_index', 'ESTADOCIVILTITULAR_index', 'PROVINCIA_index', 'DEPARTAMENTO_index', 'SEXO_index']\n",
    "\n",
    "cols_select = [col(_).cast(IntegerType()) for _ in list_val_numeric] + [col(_) for _ in list_int] \n",
    "train_x = train.select(*cols_select)\n",
    "train_x.show()"
   ]
  },
  {
   "cell_type": "code",
   "execution_count": 26,
   "metadata": {},
   "outputs": [
    {
     "data": {
      "text/plain": [
       "[('NUMERODOCUMENTO', 'string'),\n",
       " ('APEPAT', 'string'),\n",
       " ('APEMAT', 'string'),\n",
       " ('NOMBRES', 'string'),\n",
       " ('EDAD', 'int'),\n",
       " ('SEXO', 'string'),\n",
       " ('DEPARTAMENTO', 'string'),\n",
       " ('PROVINCIA', 'string'),\n",
       " ('DISTRITO', 'string'),\n",
       " ('ESTADOCIVILTITULAR', 'string'),\n",
       " ('IncomeLevel', 'int'),\n",
       " ('CustomerId', 'string'),\n",
       " ('TOB', 'string'),\n",
       " ('Bal01', 'string'),\n",
       " ('MaxDqBin01', 'string'),\n",
       " ('MtgBal01', 'string'),\n",
       " ('NonBankTradesDq01', 'string'),\n",
       " ('FlagGB', 'string'),\n",
       " ('FlagSample', 'string'),\n",
       " ('ESTADOCIVILTITULAR_index', 'double'),\n",
       " ('DISTRITO_index', 'double'),\n",
       " ('PROVINCIA_index', 'double'),\n",
       " ('DEPARTAMENTO_index', 'double'),\n",
       " ('SEXO_index', 'double')]"
      ]
     },
     "execution_count": 26,
     "metadata": {},
     "output_type": "execute_result"
    }
   ],
   "source": [
    "list_category = ['ESTADOCIVILTITULAR', 'DISTRITO', 'PROVINCIA', 'DEPARTAMENTO', 'SEXO']\n",
    "indexers = [StringIndexer(inputCol=column, outputCol=column+\"_index\").fit(test) for column in list_category ]\n",
    "pipeline = Pipeline(stages=indexers)\n",
    "test = pipeline.fit(test).transform(test)\n",
    "test.dtypes"
   ]
  },
  {
   "cell_type": "code",
   "execution_count": 27,
   "metadata": {},
   "outputs": [
    {
     "name": "stdout",
     "output_type": "stream",
     "text": [
      "+------+-----------------+--------+----------+-----+---+----+-----------+--------------+------------------------+---------------+------------------+----------+\n",
      "|FlagGB|NonBankTradesDq01|MtgBal01|MaxDqBin01|Bal01|TOB|EDAD|IncomeLevel|DISTRITO_index|ESTADOCIVILTITULAR_index|PROVINCIA_index|DEPARTAMENTO_index|SEXO_index|\n",
      "+------+-----------------+--------+----------+-----+---+----+-----------+--------------+------------------------+---------------+------------------+----------+\n",
      "|     0|                0|       0|         0|  798|  6|  33|          0|           3.0|                     1.0|            0.0|               0.0|       1.0|\n",
      "|     0|                0|       0|         0|  798|  6|  33|          0|           3.0|                     1.0|            0.0|               0.0|       1.0|\n",
      "|     1|                0|       0|         0| 4499| 30|  32|          1|          16.0|                     1.0|            0.0|               0.0|       1.0|\n",
      "|     1|                0|       0|         0| 4499| 30|  32|          1|          16.0|                     1.0|            0.0|               0.0|       1.0|\n",
      "|     1|                0|       0|         0| 4510| 41|  35|          0|           3.0|                     0.0|            0.0|               0.0|       0.0|\n",
      "|     1|                0|       0|         0| 4510| 41|  35|          0|           3.0|                     0.0|            0.0|               0.0|       0.0|\n",
      "|     0|                0|       0|         0| 2420|  0|  81|          1|           8.0|                     1.0|            0.0|               0.0|       1.0|\n",
      "|     0|                0|       0|         0| 2420|  0|  81|          1|           8.0|                     1.0|            0.0|               0.0|       1.0|\n",
      "|     1|                0|       0|         0|  432| 22|  33|          1|          22.0|                     0.0|            0.0|               0.0|       0.0|\n",
      "|     1|                0|       0|         0|  432| 22|  33|          1|          22.0|                     0.0|            0.0|               0.0|       0.0|\n",
      "|     1|                0|       0|         0|  662| 71|  33|          1|           5.0|                     1.0|            0.0|               0.0|       0.0|\n",
      "|     1|                0|       0|         0|  662| 71|  33|          1|           5.0|                     1.0|            0.0|               0.0|       0.0|\n",
      "|     1|                1|       0|         0|  930| 44|  32|          0|          26.0|                     1.0|            0.0|               0.0|       0.0|\n",
      "|     1|                1|       0|         0|  930| 44|  32|          0|          26.0|                     1.0|            0.0|               0.0|       0.0|\n",
      "|     1|                0|       0|         0|    0| 27|  32|          2|          13.0|                     0.0|            0.0|               0.0|       1.0|\n",
      "|     1|                0|       0|         0|    0| 27|  32|          2|          13.0|                     0.0|            0.0|               0.0|       1.0|\n",
      "|     1|                0|    3486|         1|  381|  0|  33|          1|           0.0|                     0.0|            0.0|               0.0|       1.0|\n",
      "|     1|                0|    3486|         1|  381|  0|  33|          1|           0.0|                     0.0|            0.0|               0.0|       1.0|\n",
      "|     1|                1|       0|         0|  862|164|  32|          3|          21.0|                     0.0|            0.0|               0.0|       1.0|\n",
      "|     1|                1|       0|         0|  862|164|  32|          3|          21.0|                     0.0|            0.0|               0.0|       1.0|\n",
      "+------+-----------------+--------+----------+-----+---+----+-----------+--------------+------------------------+---------------+------------------+----------+\n",
      "only showing top 20 rows\n",
      "\n"
     ]
    }
   ],
   "source": [
    "from pyspark.sql.types import DoubleType, IntegerType\n",
    "list_val_col = []\n",
    "list_val_numeric = ['FlagGB', 'NonBankTradesDq01', 'MtgBal01', 'MaxDqBin01', 'Bal01', 'TOB']\n",
    "list_int = ['EDAD', 'IncomeLevel', 'DISTRITO_index', 'ESTADOCIVILTITULAR_index', 'PROVINCIA_index', 'DEPARTAMENTO_index', 'SEXO_index']\n",
    "\n",
    "cols_select = [col(_).cast(IntegerType()) for _ in list_val_numeric] + [col(_) for _ in list_int] \n",
    "test_x = test.select(*cols_select)\n",
    "test_x.show()"
   ]
  },
  {
   "cell_type": "code",
   "execution_count": 28,
   "metadata": {},
   "outputs": [
    {
     "data": {
      "text/plain": [
       "[('FlagGB', 'int'),\n",
       " ('NonBankTradesDq01', 'int'),\n",
       " ('MtgBal01', 'int'),\n",
       " ('MaxDqBin01', 'int'),\n",
       " ('Bal01', 'int'),\n",
       " ('TOB', 'int'),\n",
       " ('EDAD', 'int'),\n",
       " ('IncomeLevel', 'int'),\n",
       " ('DISTRITO_index', 'double'),\n",
       " ('ESTADOCIVILTITULAR_index', 'double'),\n",
       " ('PROVINCIA_index', 'double'),\n",
       " ('DEPARTAMENTO_index', 'double'),\n",
       " ('SEXO_index', 'double')]"
      ]
     },
     "execution_count": 28,
     "metadata": {},
     "output_type": "execute_result"
    }
   ],
   "source": [
    "test_x.dtypes"
   ]
  },
  {
   "cell_type": "code",
   "execution_count": 34,
   "metadata": {},
   "outputs": [
    {
     "data": {
      "text/plain": [
       "['EDAD',\n",
       " 'SEXO_index',\n",
       " 'NonBankTradesDq01',\n",
       " 'Bal01',\n",
       " 'MtgBal01',\n",
       " 'MaxDqBin01',\n",
       " 'FlagGB',\n",
       " 'PROVINCIA_index',\n",
       " 'ESTADOCIVILTITULAR_index',\n",
       " 'TOB',\n",
       " 'DEPARTAMENTO_index',\n",
       " 'IncomeLevel',\n",
       " 'DISTRITO_index']"
      ]
     },
     "execution_count": 34,
     "metadata": {},
     "output_type": "execute_result"
    }
   ],
   "source": [
    "list(set(train_x.columns) - set('FlagGB'))\n"
   ]
  },
  {
   "cell_type": "code",
   "execution_count": 35,
   "metadata": {},
   "outputs": [],
   "source": [
    "target_train = train_x['FlagGB']\n",
    "target_test = test_x['FlagGB']\n",
    "train_x = train_x[list(set(train_x.columns) - set('FlagGB'))]\n",
    "test_x = test_x[list(set(train_x.columns) - set('FlagGB'))]"
   ]
  },
  {
   "cell_type": "code",
   "execution_count": 37,
   "metadata": {},
   "outputs": [
    {
     "data": {
      "text/plain": [
       "(Column<FlagGB['columns']>, Column<FlagGB['columns']>)"
      ]
     },
     "execution_count": 37,
     "metadata": {},
     "output_type": "execute_result"
    }
   ],
   "source": [
    "target_train.columns, target_test.columns"
   ]
  },
  {
   "cell_type": "code",
   "execution_count": 38,
   "metadata": {},
   "outputs": [
    {
     "data": {
      "text/plain": [
       "['EDAD',\n",
       " 'SEXO_index',\n",
       " 'NonBankTradesDq01',\n",
       " 'Bal01',\n",
       " 'MtgBal01',\n",
       " 'MaxDqBin01',\n",
       " 'FlagGB',\n",
       " 'PROVINCIA_index',\n",
       " 'ESTADOCIVILTITULAR_index',\n",
       " 'TOB',\n",
       " 'DEPARTAMENTO_index',\n",
       " 'IncomeLevel',\n",
       " 'DISTRITO_index']"
      ]
     },
     "execution_count": 38,
     "metadata": {},
     "output_type": "execute_result"
    }
   ],
   "source": [
    "train_x.columns"
   ]
  },
  {
   "cell_type": "code",
   "execution_count": null,
   "metadata": {},
   "outputs": [],
   "source": []
  }
 ],
 "metadata": {
  "kernelspec": {
   "display_name": "Python 2",
   "language": "python",
   "name": "python2"
  },
  "language_info": {
   "codemirror_mode": {
    "name": "ipython",
    "version": 2
   },
   "file_extension": ".py",
   "mimetype": "text/x-python",
   "name": "python",
   "nbconvert_exporter": "python",
   "pygments_lexer": "ipython2",
   "version": "2.7.15"
  }
 },
 "nbformat": 4,
 "nbformat_minor": 2
}
