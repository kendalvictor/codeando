{
 "cells": [
  {
   "cell_type": "code",
   "execution_count": 1,
   "metadata": {},
   "outputs": [],
   "source": [
    "import findspark\n",
    "findspark.init('/opt/cloudera/parcels/SPARK2-2.3.0.cloudera3-1.cdh5.13.3.p0.458809/lib/spark2')\n",
    "import pyspark\n",
    "from pyspark.sql import SparkSession\n",
    "spark = SparkSession.builder.appName('regresion_logistica').getOrCreate()"
   ]
  },
  {
   "cell_type": "code",
   "execution_count": 3,
   "metadata": {},
   "outputs": [
    {
     "name": "stdout",
     "output_type": "stream",
     "text": [
      "+----+--------------------+\n",
      "|spam|             message|\n",
      "+----+--------------------+\n",
      "| ham|Go until jurong p...|\n",
      "| ham|Ok lar... Joking ...|\n",
      "|spam|Free entry in 2 a...|\n",
      "| ham|U dun say so earl...|\n",
      "| ham|Nah I don't think...|\n",
      "|spam|FreeMsg Hey there...|\n",
      "| ham|Even my brother i...|\n",
      "| ham|As per your reque...|\n",
      "|spam|WINNER!! As a val...|\n",
      "|spam|Had your mobile 1...|\n",
      "| ham|I'm gonna be home...|\n",
      "|spam|SIX chances to wi...|\n",
      "|spam|URGENT! You have ...|\n",
      "| ham|I've been searchi...|\n",
      "| ham|I HAVE A DATE ON ...|\n",
      "|spam|XXXMobileMovieClu...|\n",
      "| ham|Oh k...i'm watchi...|\n",
      "| ham|Eh u remember how...|\n",
      "| ham|Fine if thats th...|\n",
      "|spam|England v Macedon...|\n",
      "+----+--------------------+\n",
      "only showing top 20 rows\n",
      "\n",
      "+----+----------------------------------------------------------------------------------------------------------------------------------------------------------------------------------------------------+\n",
      "|spam|message                                                                                                                                                                                             |\n",
      "+----+----------------------------------------------------------------------------------------------------------------------------------------------------------------------------------------------------+\n",
      "|ham |Go until jurong point, crazy.. Available only in bugis n great world la e buffet... Cine there got amore wat...                                                                                     |\n",
      "|ham |Ok lar... Joking wif u oni...                                                                                                                                                                       |\n",
      "|spam|Free entry in 2 a wkly comp to win FA Cup final tkts 21st May 2005. Text FA to 87121 to receive entry question(std txt rate)T&C's apply 08452810075over18's                                         |\n",
      "|ham |U dun say so early hor... U c already then say...                                                                                                                                                   |\n",
      "|ham |Nah I don't think he goes to usf, he lives around here though                                                                                                                                       |\n",
      "|spam|FreeMsg Hey there darling it's been 3 week's now and no word back! I'd like some fun you up for it still? Tb ok! XxX std chgs to send, £1.50 to rcv                                                 |\n",
      "|ham |Even my brother is not like to speak with me. They treat me like aids patent.                                                                                                                       |\n",
      "|ham |As per your request 'Melle Melle (Oru Minnaminunginte Nurungu Vettam)' has been set as your callertune for all Callers. Press *9 to copy your friends Callertune                                    |\n",
      "|spam|WINNER!! As a valued network customer you have been selected to receivea £900 prize reward! To claim call 09061701461. Claim code KL341. Valid 12 hours only.                                       |\n",
      "|spam|Had your mobile 11 months or more? U R entitled to Update to the latest colour mobiles with camera for Free! Call The Mobile Update Co FREE on 08002986030                                          |\n",
      "|ham |I'm gonna be home soon and i don't want to talk about this stuff anymore tonight, k? I've cried enough today.                                                                                       |\n",
      "|spam|SIX chances to win CASH! From 100 to 20,000 pounds txt> CSH11 and send to 87575. Cost 150p/day, 6days, 16+ TsandCs apply Reply HL 4 info                                                            |\n",
      "|spam|URGENT! You have won a 1 week FREE membership in our £100,000 Prize Jackpot! Txt the word: CLAIM to No: 81010 T&C www.dbuk.net LCCLTD POBOX 4403LDNW1A7RW18                                         |\n",
      "|ham |I've been searching for the right words to thank you for this breather. I promise i wont take your help for granted and will fulfil my promise. You have been wonderful and a blessing at all times.|\n",
      "|ham |I HAVE A DATE ON SUNDAY WITH WILL!!                                                                                                                                                                 |\n",
      "|spam|XXXMobileMovieClub: To use your credit, click the WAP link in the next txt message or click here>> http://wap. xxxmobilemovieclub.com?n=QJKGIGHJJGCBL                                               |\n",
      "|ham |Oh k...i'm watching here:)                                                                                                                                                                          |\n",
      "|ham |Eh u remember how 2 spell his name... Yes i did. He v naughty make until i v wet.                                                                                                                   |\n",
      "|ham |Fine if thats the way u feel. Thats the way its gota b                                                                                                                                            |\n",
      "|spam|England v Macedonia - dont miss the goals/team news. Txt ur national team to 87077 eg ENGLAND to 87077 Try:WALES, SCOTLAND 4txt/ú1.20 POBOXox36504W45WQ 16+                                         |\n",
      "+----+----------------------------------------------------------------------------------------------------------------------------------------------------------------------------------------------------+\n",
      "only showing top 20 rows\n",
      "\n",
      "root\n",
      " |-- spam: string (nullable = true)\n",
      " |-- message: string (nullable = true)\n",
      "\n"
     ]
    }
   ],
   "source": [
    "from pyspark.sql.types import *   # Importamos los tipos de datos para definir el esquema\n",
    "%matplotlib inline \n",
    "import matplotlib.pyplot as plt, numpy as np\n",
    "import pandas\n",
    "\n",
    "## El dataset sólo tiene dos columnas, el mensaje SMS (texto) \n",
    "## y una etiqueta que indica si fué spam o no \n",
    "spam_schema = StructType([\n",
    "                         StructField(\"spam\", StringType(), True), \n",
    "                         StructField(\"message\", StringType(), True)\n",
    "              ])\n",
    "\n",
    "\n",
    "ds = spark.read.csv(\"/user/carloslopez/datasets/spam\", sep=\"\\t\", schema=spam_schema)\n",
    "ds.show()\n",
    "ds.show(truncate=False)\n",
    "ds.printSchema()"
   ]
  },
  {
   "cell_type": "code",
   "execution_count": 4,
   "metadata": {},
   "outputs": [
    {
     "name": "stdout",
     "output_type": "stream",
     "text": [
      "+----+--------------------+-----+\n",
      "|spam|             message|label|\n",
      "+----+--------------------+-----+\n",
      "| ham|Go until jurong p...|  0.0|\n",
      "| ham|Ok lar... Joking ...|  0.0|\n",
      "|spam|Free entry in 2 a...|  1.0|\n",
      "| ham|U dun say so earl...|  0.0|\n",
      "| ham|Nah I don't think...|  0.0|\n",
      "|spam|FreeMsg Hey there...|  1.0|\n",
      "| ham|Even my brother i...|  0.0|\n",
      "| ham|As per your reque...|  0.0|\n",
      "|spam|WINNER!! As a val...|  1.0|\n",
      "|spam|Had your mobile 1...|  1.0|\n",
      "| ham|I'm gonna be home...|  0.0|\n",
      "|spam|SIX chances to wi...|  1.0|\n",
      "|spam|URGENT! You have ...|  1.0|\n",
      "| ham|I've been searchi...|  0.0|\n",
      "| ham|I HAVE A DATE ON ...|  0.0|\n",
      "|spam|XXXMobileMovieClu...|  1.0|\n",
      "| ham|Oh k...i'm watchi...|  0.0|\n",
      "| ham|Eh u remember how...|  0.0|\n",
      "| ham|Fine if thats th...|  0.0|\n",
      "|spam|England v Macedon...|  1.0|\n",
      "+----+--------------------+-----+\n",
      "only showing top 20 rows\n",
      "\n",
      "+----+--------------------+-----+--------------------+\n",
      "|spam|             message|label|              tokens|\n",
      "+----+--------------------+-----+--------------------+\n",
      "| ham|Go until jurong p...|  0.0|[go, until, juron...|\n",
      "| ham|Ok lar... Joking ...|  0.0|[ok, lar..., joki...|\n",
      "|spam|Free entry in 2 a...|  1.0|[free, entry, in,...|\n",
      "| ham|U dun say so earl...|  0.0|[u, dun, say, so,...|\n",
      "| ham|Nah I don't think...|  0.0|[nah, i, don't, t...|\n",
      "|spam|FreeMsg Hey there...|  1.0|[freemsg, hey, th...|\n",
      "| ham|Even my brother i...|  0.0|[even, my, brothe...|\n",
      "| ham|As per your reque...|  0.0|[as, per, your, r...|\n",
      "|spam|WINNER!! As a val...|  1.0|[winner!!, as, a,...|\n",
      "|spam|Had your mobile 1...|  1.0|[had, your, mobil...|\n",
      "| ham|I'm gonna be home...|  0.0|[i'm, gonna, be, ...|\n",
      "|spam|SIX chances to wi...|  1.0|[six, chances, to...|\n",
      "|spam|URGENT! You have ...|  1.0|[urgent!, you, ha...|\n",
      "| ham|I've been searchi...|  0.0|[i've, been, sear...|\n",
      "| ham|I HAVE A DATE ON ...|  0.0|[i, have, a, date...|\n",
      "|spam|XXXMobileMovieClu...|  1.0|[xxxmobilemoviecl...|\n",
      "| ham|Oh k...i'm watchi...|  0.0|[oh, k...i'm, wat...|\n",
      "| ham|Eh u remember how...|  0.0|[eh, u, remember,...|\n",
      "| ham|Fine if thats th...|  0.0|[fine, if, thats...|\n",
      "|spam|England v Macedon...|  1.0|[england, v, mace...|\n",
      "+----+--------------------+-----+--------------------+\n",
      "only showing top 20 rows\n",
      "\n",
      "+----+--------------------+-----+--------------------+--------------------+\n",
      "|spam|             message|label|              tokens|                  tf|\n",
      "+----+--------------------+-----+--------------------+--------------------+\n",
      "| ham|Go until jurong p...|  0.0|[go, until, juron...|(262144,[3168,408...|\n",
      "| ham|Ok lar... Joking ...|  0.0|[ok, lar..., joki...|(262144,[122516,1...|\n",
      "|spam|Free entry in 2 a...|  1.0|[free, entry, in,...|(262144,[7958,944...|\n",
      "| ham|U dun say so earl...|  0.0|[u, dun, say, so,...|(262144,[28698,35...|\n",
      "| ham|Nah I don't think...|  0.0|[nah, i, don't, t...|(262144,[2710,244...|\n",
      "|spam|FreeMsg Hey there...|  1.0|[freemsg, hey, th...|(262144,[8443,163...|\n",
      "| ham|Even my brother i...|  0.0|[even, my, brothe...|(262144,[2089,158...|\n",
      "| ham|As per your reque...|  0.0|[as, per, your, r...|(262144,[16332,38...|\n",
      "|spam|WINNER!! As a val...|  1.0|[winner!!, as, a,...|(262144,[50940,61...|\n",
      "|spam|Had your mobile 1...|  1.0|[had, your, mobil...|(262144,[10951,16...|\n",
      "| ham|I'm gonna be home...|  0.0|[i'm, gonna, be, ...|(262144,[6258,178...|\n",
      "|spam|SIX chances to wi...|  1.0|[six, chances, to...|(262144,[28027,60...|\n",
      "|spam|URGENT! You have ...|  1.0|[urgent!, you, ha...|(262144,[7958,961...|\n",
      "| ham|I've been searchi...|  0.0|[i've, been, sear...|(262144,[16332,24...|\n",
      "| ham|I HAVE A DATE ON ...|  0.0|[i, have, a, date...|(262144,[24417,41...|\n",
      "|spam|XXXMobileMovieClu...|  1.0|[xxxmobilemoviecl...|(262144,[7958,440...|\n",
      "| ham|Oh k...i'm watchi...|  0.0|[oh, k...i'm, wat...|(262144,[24978,63...|\n",
      "| ham|Eh u remember how...|  0.0|[eh, u, remember,...|(262144,[739,4081...|\n",
      "| ham|Fine if thats th...|  0.0|[fine, if, thats...|(262144,[30913,55...|\n",
      "|spam|England v Macedon...|  1.0|[england, v, mace...|(262144,[7958,415...|\n",
      "+----+--------------------+-----+--------------------+--------------------+\n",
      "only showing top 20 rows\n",
      "\n",
      "+----+--------------------+-----+--------------------+--------------------+--------------------+\n",
      "|spam|             message|label|              tokens|                  tf|                 idf|\n",
      "+----+--------------------+-----+--------------------+--------------------+--------------------+\n",
      "| ham|Go until jurong p...|  0.0|[go, until, juron...|(262144,[3168,408...|(262144,[3168,408...|\n",
      "| ham|Ok lar... Joking ...|  0.0|[ok, lar..., joki...|(262144,[122516,1...|(262144,[122516,1...|\n",
      "|spam|Free entry in 2 a...|  1.0|[free, entry, in,...|(262144,[7958,944...|(262144,[7958,944...|\n",
      "| ham|U dun say so earl...|  0.0|[u, dun, say, so,...|(262144,[28698,35...|(262144,[28698,35...|\n",
      "| ham|Nah I don't think...|  0.0|[nah, i, don't, t...|(262144,[2710,244...|(262144,[2710,244...|\n",
      "|spam|FreeMsg Hey there...|  1.0|[freemsg, hey, th...|(262144,[8443,163...|(262144,[8443,163...|\n",
      "| ham|Even my brother i...|  0.0|[even, my, brothe...|(262144,[2089,158...|(262144,[2089,158...|\n",
      "| ham|As per your reque...|  0.0|[as, per, your, r...|(262144,[16332,38...|(262144,[16332,38...|\n",
      "|spam|WINNER!! As a val...|  1.0|[winner!!, as, a,...|(262144,[50940,61...|(262144,[50940,61...|\n",
      "|spam|Had your mobile 1...|  1.0|[had, your, mobil...|(262144,[10951,16...|(262144,[10951,16...|\n",
      "| ham|I'm gonna be home...|  0.0|[i'm, gonna, be, ...|(262144,[6258,178...|(262144,[6258,178...|\n",
      "|spam|SIX chances to wi...|  1.0|[six, chances, to...|(262144,[28027,60...|(262144,[28027,60...|\n",
      "|spam|URGENT! You have ...|  1.0|[urgent!, you, ha...|(262144,[7958,961...|(262144,[7958,961...|\n",
      "| ham|I've been searchi...|  0.0|[i've, been, sear...|(262144,[16332,24...|(262144,[16332,24...|\n",
      "| ham|I HAVE A DATE ON ...|  0.0|[i, have, a, date...|(262144,[24417,41...|(262144,[24417,41...|\n",
      "|spam|XXXMobileMovieClu...|  1.0|[xxxmobilemoviecl...|(262144,[7958,440...|(262144,[7958,440...|\n",
      "| ham|Oh k...i'm watchi...|  0.0|[oh, k...i'm, wat...|(262144,[24978,63...|(262144,[24978,63...|\n",
      "| ham|Eh u remember how...|  0.0|[eh, u, remember,...|(262144,[739,4081...|(262144,[739,4081...|\n",
      "| ham|Fine if thats th...|  0.0|[fine, if, thats...|(262144,[30913,55...|(262144,[30913,55...|\n",
      "|spam|England v Macedon...|  1.0|[england, v, mace...|(262144,[7958,415...|(262144,[7958,415...|\n",
      "+----+--------------------+-----+--------------------+--------------------+--------------------+\n",
      "only showing top 20 rows\n",
      "\n",
      "+----+--------------------+-----+--------------------+--------------------+--------------------+--------------------+\n",
      "|spam|             message|label|              tokens|                  tf|                 idf|            features|\n",
      "+----+--------------------+-----+--------------------+--------------------+--------------------+--------------------+\n",
      "| ham|Go until jurong p...|  0.0|[go, until, juron...|(262144,[3168,408...|(262144,[3168,408...|(262144,[3168,408...|\n",
      "| ham|Ok lar... Joking ...|  0.0|[ok, lar..., joki...|(262144,[122516,1...|(262144,[122516,1...|(262144,[122516,1...|\n",
      "|spam|Free entry in 2 a...|  1.0|[free, entry, in,...|(262144,[7958,944...|(262144,[7958,944...|(262144,[7958,944...|\n",
      "| ham|U dun say so earl...|  0.0|[u, dun, say, so,...|(262144,[28698,35...|(262144,[28698,35...|(262144,[28698,35...|\n",
      "| ham|Nah I don't think...|  0.0|[nah, i, don't, t...|(262144,[2710,244...|(262144,[2710,244...|(262144,[2710,244...|\n",
      "|spam|FreeMsg Hey there...|  1.0|[freemsg, hey, th...|(262144,[8443,163...|(262144,[8443,163...|(262144,[8443,163...|\n",
      "| ham|Even my brother i...|  0.0|[even, my, brothe...|(262144,[2089,158...|(262144,[2089,158...|(262144,[2089,158...|\n",
      "| ham|As per your reque...|  0.0|[as, per, your, r...|(262144,[16332,38...|(262144,[16332,38...|(262144,[16332,38...|\n",
      "|spam|WINNER!! As a val...|  1.0|[winner!!, as, a,...|(262144,[50940,61...|(262144,[50940,61...|(262144,[50940,61...|\n",
      "|spam|Had your mobile 1...|  1.0|[had, your, mobil...|(262144,[10951,16...|(262144,[10951,16...|(262144,[10951,16...|\n",
      "| ham|I'm gonna be home...|  0.0|[i'm, gonna, be, ...|(262144,[6258,178...|(262144,[6258,178...|(262144,[6258,178...|\n",
      "|spam|SIX chances to wi...|  1.0|[six, chances, to...|(262144,[28027,60...|(262144,[28027,60...|(262144,[28027,60...|\n",
      "|spam|URGENT! You have ...|  1.0|[urgent!, you, ha...|(262144,[7958,961...|(262144,[7958,961...|(262144,[7958,961...|\n",
      "| ham|I've been searchi...|  0.0|[i've, been, sear...|(262144,[16332,24...|(262144,[16332,24...|(262144,[16332,24...|\n",
      "| ham|I HAVE A DATE ON ...|  0.0|[i, have, a, date...|(262144,[24417,41...|(262144,[24417,41...|(262144,[24417,41...|\n",
      "|spam|XXXMobileMovieClu...|  1.0|[xxxmobilemoviecl...|(262144,[7958,440...|(262144,[7958,440...|(262144,[7958,440...|\n",
      "| ham|Oh k...i'm watchi...|  0.0|[oh, k...i'm, wat...|(262144,[24978,63...|(262144,[24978,63...|(262144,[24978,63...|\n",
      "| ham|Eh u remember how...|  0.0|[eh, u, remember,...|(262144,[739,4081...|(262144,[739,4081...|(262144,[739,4081...|\n",
      "| ham|Fine if thats th...|  0.0|[fine, if, thats...|(262144,[30913,55...|(262144,[30913,55...|(262144,[30913,55...|\n",
      "|spam|England v Macedon...|  1.0|[england, v, mace...|(262144,[7958,415...|(262144,[7958,415...|(262144,[7958,415...|\n",
      "+----+--------------------+-----+--------------------+--------------------+--------------------+--------------------+\n",
      "only showing top 20 rows\n",
      "\n"
     ]
    }
   ],
   "source": [
    "from pyspark.ml.feature import StringIndexer\n",
    "indexer = StringIndexer(inputCol=\"spam\", outputCol=\"label\")\n",
    "indexed = indexer.fit(ds).transform(ds)\n",
    "indexed.show()\n",
    "\n",
    "from pyspark.ml.feature import Tokenizer\n",
    "tokenizer = Tokenizer(inputCol=\"message\", outputCol=\"tokens\")\n",
    "tokenized = tokenizer.transform(indexed)\n",
    "tokenized.show()\n",
    "\n",
    "from pyspark.ml.feature import HashingTF, IDF, VectorAssembler\n",
    "hashingTF = HashingTF(inputCol=\"tokens\", outputCol=\"tf\")\n",
    "tf_data = hashingTF.transform(tokenized)\n",
    "tf_data.show()\n",
    "\n",
    "idf = IDF(inputCol=\"tf\", outputCol=\"idf\")\n",
    "idfModel = idf.fit(tf_data)\n",
    "idf_data = idfModel.transform(tf_data)\n",
    "idf_data.show()\n",
    "\n",
    "assembler = VectorAssembler(inputCols=[\"idf\"], outputCol=\"features\")\n",
    "assembled_data = assembler.transform(idf_data)\n",
    "assembled_data.show()"
   ]
  },
  {
   "cell_type": "code",
   "execution_count": 4,
   "metadata": {},
   "outputs": [
    {
     "data": {
      "text/plain": [
       "[Row(spam=u'ham', message=u'Go until jurong point, crazy.. Available only in bugis n great world la e buffet... Cine there got amore wat...', label=0.0, tokens=[u'go', u'until', u'jurong', u'point,', u'crazy..', u'available', u'only', u'in', u'bugis', u'n', u'great', u'world', u'la', u'e', u'buffet...', u'cine', u'there', u'got', u'amore', u'wat...'], tf=SparseVector(262144, {3168: 1.0, 4081: 1.0, 17222: 1.0, 26042: 1.0, 31463: 1.0, 59729: 1.0, 65510: 1.0, 95595: 1.0, 100743: 1.0, 120767: 1.0, 138356: 1.0, 172477: 1.0, 180535: 1.0, 181635: 1.0, 181726: 1.0, 184181: 1.0, 201474: 1.0, 222453: 1.0, 231671: 1.0, 238163: 1.0}), idf=SparseVector(262144, {3168: 7.9329, 4081: 5.2938, 17222: 4.322, 26042: 6.8343, 31463: 3.2055, 59729: 7.5274, 65510: 7.9329, 95595: 6.6801, 100743: 3.822, 120767: 7.9329, 138356: 4.2072, 172477: 3.1126, 180535: 3.8058, 181635: 3.4443, 181726: 5.4072, 184181: 7.9329, 201474: 6.1411, 222453: 1.9706, 231671: 7.9329, 238163: 5.918}), features=SparseVector(262144, {3168: 7.9329, 4081: 5.2938, 17222: 4.322, 26042: 6.8343, 31463: 3.2055, 59729: 7.5274, 65510: 7.9329, 95595: 6.6801, 100743: 3.822, 120767: 7.9329, 138356: 4.2072, 172477: 3.1126, 180535: 3.8058, 181635: 3.4443, 181726: 5.4072, 184181: 7.9329, 201474: 6.1411, 222453: 1.9706, 231671: 7.9329, 238163: 5.918})),\n",
       " Row(spam=u'ham', message=u'Ok lar... Joking wif u oni...', label=0.0, tokens=[u'ok', u'lar...', u'joking', u'wif', u'u', u'oni...'], tf=SparseVector(262144, {122516: 1.0, 149099: 1.0, 175796: 1.0, 211926: 1.0, 212612: 1.0, 218684: 1.0}), idf=SparseVector(262144, {122516: 3.5762, 149099: 7.5274, 175796: 5.3302, 211926: 2.0167, 212612: 5.7357, 218684: 7.2398}), features=SparseVector(262144, {122516: 3.5762, 149099: 7.5274, 175796: 5.3302, 211926: 2.0167, 212612: 5.7357, 218684: 7.2398}))]"
      ]
     },
     "execution_count": 4,
     "metadata": {},
     "output_type": "execute_result"
    }
   ],
   "source": [
    "assembled_data.head(2)"
   ]
  },
  {
   "cell_type": "code",
   "execution_count": 5,
   "metadata": {},
   "outputs": [],
   "source": [
    "## Esto no habría que hacerlo, deberíamos usar una especie de magic loop, cross-validation, etc\n",
    "training_data, test_data = assembled_data.randomSplit(weights=[0.7, 0.3], \n",
    "                                                      seed=12345)\n",
    "\n",
    "from pyspark.ml.classification import LogisticRegression\n",
    "lr = LogisticRegression(labelCol=\"label\", featuresCol=\"features\")\n",
    "lrModel = lr.fit(training_data)\n"
   ]
  },
  {
   "cell_type": "code",
   "execution_count": 6,
   "metadata": {},
   "outputs": [
    {
     "name": "stdout",
     "output_type": "stream",
     "text": [
      "+-----+-----+\n",
      "|label|count|\n",
      "+-----+-----+\n",
      "|  0.0| 3350|\n",
      "|  1.0|  530|\n",
      "+-----+-----+\n",
      "\n"
     ]
    }
   ],
   "source": [
    "training_data.groupBy(\"label\").count().show()"
   ]
  },
  {
   "cell_type": "code",
   "execution_count": 7,
   "metadata": {},
   "outputs": [
    {
     "name": "stdout",
     "output_type": "stream",
     "text": [
      "+-----+-----+\n",
      "|label|count|\n",
      "+-----+-----+\n",
      "|  0.0| 1477|\n",
      "|  1.0|  217|\n",
      "+-----+-----+\n",
      "\n"
     ]
    }
   ],
   "source": [
    "test_data.groupBy(\"label\").count().show()"
   ]
  },
  {
   "cell_type": "code",
   "execution_count": 11,
   "metadata": {},
   "outputs": [],
   "source": [
    "predictions = lrModel.transform(test_data)\n",
    "predictions.createOrReplaceTempView(\"tablita\")"
   ]
  },
  {
   "cell_type": "code",
   "execution_count": 14,
   "metadata": {},
   "outputs": [
    {
     "name": "stdout",
     "output_type": "stream",
     "text": [
      "+-----+----------+--------+\n",
      "|label|prediction|count(1)|\n",
      "+-----+----------+--------+\n",
      "|  0.0|       0.0|    1473|\n",
      "|  0.0|       1.0|       4|\n",
      "|  1.0|       0.0|      51|\n",
      "|  1.0|       1.0|     166|\n",
      "+-----+----------+--------+\n",
      "\n"
     ]
    }
   ],
   "source": [
    "spark.sql(\"\"\"\n",
    "            select label, prediction, count(1)\n",
    "              from tablita\n",
    "            group by label, prediction\n",
    "            order by 1, 2 asc\n",
    "          \"\"\").show()"
   ]
  },
  {
   "cell_type": "code",
   "execution_count": 10,
   "metadata": {},
   "outputs": [
    {
     "data": {
      "text/plain": [
       "[Row(spam=u'ham', message=u' came to look at the flat, seems ok, in his 50s? * Is away alot wiv work. Got woman coming at 6.30 too.', label=0.0, tokens=[u'', u'came', u'to', u'look', u'at', u'the', u'flat,', u'seems', u'ok,', u'in', u'his', u'50s?', u'*', u'is', u'away', u'alot', u'wiv', u'work.', u'got', u'woman', u'coming', u'at', u'6.30', u'too.'], tf=SparseVector(262144, {9129: 1.0, 13471: 1.0, 15889: 1.0, 31463: 1.0, 53777: 1.0, 61193: 1.0, 65844: 1.0, 66980: 1.0, 73366: 1.0, 80458: 1.0, 103838: 1.0, 121808: 1.0, 148195: 1.0, 158129: 1.0, 170186: 1.0, 176964: 2.0, 197150: 1.0, 205044: 1.0, 205408: 1.0, 206331: 1.0, 222453: 1.0, 223763: 1.0, 249180: 1.0}), idf=SparseVector(262144, {9129: 5.5815, 13471: 6.6801, 15889: 2.0344, 31463: 3.2055, 53777: 5.7928, 61193: 6.5466, 65844: 5.3302, 66980: 4.5152, 73366: 4.8419, 80458: 5.1295, 103838: 1.6868, 121808: 7.5274, 148195: 7.9329, 158129: 6.1411, 170186: 7.9329, 176964: 5.4089, 197150: 7.5274, 205044: 1.1983, 205408: 5.987, 206331: 5.6303, 222453: 1.9706, 223763: 5.1921, 249180: 3.0615}), features=SparseVector(262144, {9129: 5.5815, 13471: 6.6801, 15889: 2.0344, 31463: 3.2055, 53777: 5.7928, 61193: 6.5466, 65844: 5.3302, 66980: 4.5152, 73366: 4.8419, 80458: 5.1295, 103838: 1.6868, 121808: 7.5274, 148195: 7.9329, 158129: 6.1411, 170186: 7.9329, 176964: 5.4089, 197150: 7.5274, 205044: 1.1983, 205408: 5.987, 206331: 5.6303, 222453: 1.9706, 223763: 5.1921, 249180: 3.0615}), rawPrediction=DenseVector([36.0386, -36.0386]), probability=DenseVector([1.0, 0.0]), prediction=0.0),\n",
       " Row(spam=u'ham', message=u\" gonna let me know cos comes bak from holiday that day.  is coming. Don't4get2text me  number. \", label=0.0, tokens=[u'', u'gonna', u'let', u'me', u'know', u'cos', u'comes', u'bak', u'from', u'holiday', u'that', u'day.', u'', u'is', u'coming.', u\"don't4get2text\", u'me', u'', u'number.'], tf=SparseVector(262144, {15889: 1.0, 21945: 1.0, 48448: 1.0, 56715: 1.0, 64188: 1.0, 90362: 1.0, 98438: 1.0, 101169: 1.0, 109219: 1.0, 124355: 1.0, 140931: 1.0, 202002: 1.0, 204743: 1.0, 221047: 2.0, 234626: 1.0, 249180: 3.0}), idf=SparseVector(262144, {15889: 2.0344, 21945: 7.9329, 48448: 2.5787, 56715: 5.7928, 64188: 4.3919, 90362: 4.9125, 98438: 6.5466, 101169: 3.0313, 109219: 6.1411, 124355: 7.0166, 140931: 3.2416, 202002: 4.7548, 204743: 4.583, 221047: 4.6432, 234626: 4.3356, 249180: 9.1846}), features=SparseVector(262144, {15889: 2.0344, 21945: 7.9329, 48448: 2.5787, 56715: 5.7928, 64188: 4.3919, 90362: 4.9125, 98438: 6.5466, 101169: 3.0313, 109219: 6.1411, 124355: 7.0166, 140931: 3.2416, 202002: 4.7548, 204743: 4.583, 221047: 4.6432, 234626: 4.3356, 249180: 9.1846}), rawPrediction=DenseVector([28.3881, -28.3881]), probability=DenseVector([1.0, 0.0]), prediction=0.0),\n",
       " Row(spam=u'ham', message=u\" says that he's quitting at least5times a day so i wudn't take much notice of that. Nah, she didn't mind. Are you gonna see him again? Do you want to come to taunton tonight? U can tell me all about !\", label=0.0, tokens=[u'', u'says', u'that', u\"he's\", u'quitting', u'at', u'least5times', u'a', u'day', u'so', u'i', u\"wudn't\", u'take', u'much', u'notice', u'of', u'that.', u'nah,', u'she', u\"didn't\", u'mind.', u'are', u'you', u'gonna', u'see', u'him', u'again?', u'do', u'you', u'want', u'to', u'come', u'to', u'taunton', u'tonight?', u'u', u'can', u'tell', u'me', u'all', u'about', u'!'], tf=SparseVector(262144, {9639: 1.0, 12084: 1.0, 13957: 1.0, 22618: 1.0, 23893: 1.0, 24417: 1.0, 27920: 1.0, 28990: 1.0, 36073: 1.0, 37470: 1.0, 38621: 1.0, 48448: 1.0, 55639: 1.0, 76764: 1.0, 77559: 1.0, 85530: 1.0, 91137: 1.0, 106274: 1.0, 135341: 1.0, 135560: 1.0, 149468: 1.0, 161826: 1.0, 165312: 1.0, 167122: 1.0, 172634: 1.0, 176964: 1.0, 188424: 1.0, 190256: 1.0, 204380: 1.0, 204743: 1.0, 205044: 2.0, 211926: 1.0, 213798: 1.0, 215995: 1.0, 221047: 1.0, 227410: 1.0, 246507: 1.0, 249180: 1.0, 249181: 1.0, 252801: 2.0}), idf=SparseVector(262144, {9639: 2.3216, 12084: 4.8648, 13957: 3.9721, 22618: 7.2398, 23893: 4.1834, 24417: 1.2464, 27920: 6.6801, 28990: 4.8194, 36073: 2.7568, 37470: 2.8546, 38621: 5.918, 48448: 2.5787, 55639: 3.7977, 76764: 4.1487, 77559: 7.9329, 85530: 3.7357, 91137: 3.6632, 106274: 5.448, 135341: 7.9329, 135560: 3.1207, 149468: 6.4288, 161826: 5.3302, 165312: 5.2588, 167122: 2.5415, 172634: 4.1043, 176964: 2.7045, 188424: 2.6421, 190256: 3.4499, 204380: 3.2933, 204743: 4.583, 205044: 2.3966, 211926: 2.0167, 213798: 7.9329, 215995: 3.6493, 221047: 2.3216, 227410: 1.5613, 246507: 7.2398, 249180: 3.0615, 249181: 5.5815, 252801: 2.7367}), features=SparseVector(262144, {9639: 2.3216, 12084: 4.8648, 13957: 3.9721, 22618: 7.2398, 23893: 4.1834, 24417: 1.2464, 27920: 6.6801, 28990: 4.8194, 36073: 2.7568, 37470: 2.8546, 38621: 5.918, 48448: 2.5787, 55639: 3.7977, 76764: 4.1487, 77559: 7.9329, 85530: 3.7357, 91137: 3.6632, 106274: 5.448, 135341: 7.9329, 135560: 3.1207, 149468: 6.4288, 161826: 5.3302, 165312: 5.2588, 167122: 2.5415, 172634: 4.1043, 176964: 2.7045, 188424: 2.6421, 190256: 3.4499, 204380: 3.2933, 204743: 4.583, 205044: 2.3966, 211926: 2.0167, 213798: 7.9329, 215995: 3.6493, 221047: 2.3216, 227410: 1.5613, 246507: 7.2398, 249180: 3.0615, 249181: 5.5815, 252801: 2.7367}), rawPrediction=DenseVector([54.4883, -54.4883]), probability=DenseVector([1.0, 0.0]), prediction=0.0),\n",
       " Row(spam=u'ham', message=u' what number do u live at? Is it 11?', label=0.0, tokens=[u'', u'what', u'number', u'do', u'u', u'live', u'at?', u'is', u'it', u'11?'], tf=SparseVector(262144, {15889: 1.0, 33053: 1.0, 37470: 1.0, 81566: 1.0, 86175: 1.0, 109805: 1.0, 109968: 1.0, 211926: 1.0, 229103: 1.0, 249180: 1.0}), idf=SparseVector(262144, {15889: 2.0344, 33053: 5.0425, 37470: 2.8546, 81566: 3.133, 86175: 2.6197, 109805: 7.2398, 109968: 7.9329, 211926: 2.0167, 229103: 4.3919, 249180: 3.0615}), features=SparseVector(262144, {15889: 2.0344, 33053: 5.0425, 37470: 2.8546, 81566: 3.133, 86175: 2.6197, 109805: 7.2398, 109968: 7.9329, 211926: 2.0167, 229103: 4.3919, 249180: 3.0615}), rawPrediction=DenseVector([25.0979, -25.0979]), probability=DenseVector([1.0, 0.0]), prediction=0.0),\n",
       " Row(spam=u'ham', message=u'\"Speak only when you feel your words are better than the silence...\" Gud mrng:-)', label=0.0, tokens=[u'\"speak', u'only', u'when', u'you', u'feel', u'your', u'words', u'are', u'better', u'than', u'the', u'silence...\"', u'gud', u'mrng:-)'], tf=SparseVector(262144, {24980: 1.0, 52583: 1.0, 55039: 1.0, 59020: 1.0, 61899: 1.0, 103838: 1.0, 115917: 1.0, 126889: 1.0, 139277: 1.0, 146580: 1.0, 160141: 1.0, 167122: 1.0, 181635: 1.0, 252801: 1.0}), idf=SparseVector(262144, {24980: 3.0809, 52583: 7.9329, 55039: 2.2544, 59020: 7.9329, 61899: 4.6371, 103838: 1.6868, 115917: 5.0707, 126889: 5.8535, 139277: 7.9329, 146580: 4.5656, 160141: 5.0151, 167122: 2.5415, 181635: 3.4443, 252801: 1.3683}), features=SparseVector(262144, {24980: 3.0809, 52583: 7.9329, 55039: 2.2544, 59020: 7.9329, 61899: 4.6371, 103838: 1.6868, 115917: 5.0707, 126889: 5.8535, 139277: 7.9329, 146580: 4.5656, 160141: 5.0151, 167122: 2.5415, 181635: 3.4443, 252801: 1.3683}), rawPrediction=DenseVector([16.0978, -16.0978]), probability=DenseVector([1.0, 0.0]), prediction=0.0),\n",
       " Row(spam=u'ham', message=u'\"The world suffers a lot... Not because of the violence of bad people. But because of the silence of good people!\", Gud night....', label=0.0, tokens=[u'\"the', u'world', u'suffers', u'a', u'lot...', u'not', u'because', u'of', u'the', u'violence', u'of', u'bad', u'people.', u'but', u'because', u'of', u'the', u'silence', u'of', u'good', u'people!\",', u'gud', u'night....'], tf=SparseVector(262144, {9639: 4.0, 46762: 1.0, 93304: 1.0, 96638: 1.0, 97704: 1.0, 103838: 2.0, 113432: 1.0, 122925: 2.0, 133523: 1.0, 139098: 1.0, 140809: 1.0, 144582: 1.0, 144959: 1.0, 146580: 1.0, 181726: 1.0, 189683: 1.0, 216238: 1.0, 227410: 1.0}), idf=SparseVector(262144, {9639: 9.2864, 46762: 7.2398, 93304: 7.9329, 96638: 5.3302, 97704: 6.6801, 103838: 3.3736, 113432: 3.3686, 122925: 10.3206, 133523: 7.9329, 139098: 2.6702, 140809: 7.9329, 144582: 7.0166, 144959: 7.9329, 146580: 4.5656, 181726: 5.4072, 189683: 2.6396, 216238: 7.2398, 227410: 1.5613}), features=SparseVector(262144, {9639: 9.2864, 46762: 7.2398, 93304: 7.9329, 96638: 5.3302, 97704: 6.6801, 103838: 3.3736, 113432: 3.3686, 122925: 10.3206, 133523: 7.9329, 139098: 2.6702, 140809: 7.9329, 144582: 7.0166, 144959: 7.9329, 146580: 4.5656, 181726: 5.4072, 189683: 2.6396, 216238: 7.2398, 227410: 1.5613}), rawPrediction=DenseVector([26.1825, -26.1825]), probability=DenseVector([1.0, 0.0]), prediction=0.0),\n",
       " Row(spam=u'ham', message=u'\"Wen u miss someone, the person is definitely special for u..... But if the person is so special, why to miss them, just Keep-in-touch\" gdeve..', label=0.0, tokens=[u'\"wen', u'u', u'miss', u'someone,', u'the', u'person', u'is', u'definitely', u'special', u'for', u'u.....', u'but', u'if', u'the', u'person', u'is', u'so', u'special,', u'why', u'to', u'miss', u'them,', u'just', u'keep-in-touch\"', u'gdeve..'], tf=SparseVector(262144, {15889: 2.0, 16332: 1.0, 19626: 1.0, 45471: 1.0, 55242: 1.0, 93850: 1.0, 97171: 1.0, 97278: 1.0, 103838: 2.0, 139533: 1.0, 159281: 1.0, 188424: 1.0, 189683: 1.0, 205044: 1.0, 205305: 2.0, 211926: 1.0, 213723: 1.0, 224915: 1.0, 232735: 2.0, 236294: 1.0, 238280: 1.0}), idf=SparseVector(262144, {15889: 4.0687, 16332: 2.1963, 19626: 7.9329, 45471: 7.9329, 55242: 2.7883, 93850: 6.5466, 97171: 2.7483, 97278: 7.9329, 103838: 3.3736, 139533: 4.2953, 159281: 5.1921, 188424: 2.6421, 189683: 2.6396, 205044: 1.1983, 205305: 10.3841, 211926: 2.0167, 213723: 7.9329, 224915: 7.9329, 232735: 8.7267, 236294: 7.9329, 238280: 7.5274}), features=SparseVector(262144, {15889: 4.0687, 16332: 2.1963, 19626: 7.9329, 45471: 7.9329, 55242: 2.7883, 93850: 6.5466, 97171: 2.7483, 97278: 7.9329, 103838: 3.3736, 139533: 4.2953, 159281: 5.1921, 188424: 2.6421, 189683: 2.6396, 205044: 1.1983, 205305: 10.3841, 211926: 2.0167, 213723: 7.9329, 224915: 7.9329, 232735: 8.7267, 236294: 7.9329, 238280: 7.5274}), rawPrediction=DenseVector([23.8737, -23.8737]), probability=DenseVector([1.0, 0.0]), prediction=0.0),\n",
       " Row(spam=u'ham', message=u\"&lt;#&gt;  is fast approaching. So, Wish u a very Happy New Year Happy Sankranti Happy republic day Happy Valentines Day Happy Shivratri Happy Ugadi Happy Fools day Happy May Day Happy Independence Day, Happy Friendship,Mother,Father,Teachers,Childrens Day, &amp; HAPPY BIRTHDAY 4 U. Happy Ganesh festival Happy Dasara Happy Diwali Happy Christmas  &lt;#&gt;  Good Mornings Afternoons, Evenings Nights. RememberI AM the first to WISHING U ALL THESE...your's Raj\", label=0.0, tokens=[u'&lt;#&gt;', u'', u'is', u'fast', u'approaching.', u'so,', u'wish', u'u', u'a', u'very', u'happy', u'new', u'year', u'happy', u'sankranti', u'happy', u'republic', u'day', u'happy', u'valentines', u'day', u'happy', u'shivratri', u'happy', u'ugadi', u'happy', u'fools', u'day', u'happy', u'may', u'day', u'happy', u'independence', u'day,', u'happy', u'friendship,mother,father,teachers,childrens', u'day,', u'&amp;', u'happy', u'birthday', u'4', u'u.', u'happy', u'ganesh', u'festival', u'happy', u'dasara', u'happy', u'diwali', u'happy', u'christmas', u'', u'&lt;#&gt;', u'', u'good', u'mornings', u'afternoons,', u'evenings', u'nights.', u'rememberi', u'am', u'the', u'first', u'to', u'wishing', u'u', u'all', u\"these...your's\", u'raj'], tf=SparseVector(262144, {1921: 1.0, 2039: 2.0, 11789: 1.0, 13957: 4.0, 15889: 1.0, 19370: 1.0, 20719: 1.0, 29945: 1.0, 38842: 1.0, 45083: 1.0, 50420: 1.0, 55157: 1.0, 57120: 1.0, 82111: 1.0, 85125: 1.0, 86293: 15.0, 102258: 1.0, 103838: 1.0, 113432: 1.0, 113503: 1.0, 114744: 1.0, 123319: 1.0, 127318: 1.0, 127844: 1.0, 134835: 1.0, 135560: 1.0, 140586: 1.0, 152711: 1.0, 166629: 1.0, 194708: 1.0, 197608: 1.0, 201059: 1.0, 205044: 1.0, 210040: 1.0, 210606: 1.0, 211926: 2.0, 213022: 1.0, 221315: 1.0, 222191: 1.0, 227410: 1.0, 228967: 1.0, 229198: 1.0, 233878: 1.0, 233926: 1.0, 249180: 3.0, 249665: 2.0, 250788: 1.0}), idf=SparseVector(262144, {1921: 7.9329, 2039: 6.5108, 11789: 7.5274, 13957: 15.8883, 15889: 2.0344, 19370: 7.9329, 20719: 4.8648, 29945: 3.7282, 38842: 7.5274, 45083: 7.9329, 50420: 7.9329, 55157: 7.9329, 57120: 7.9329, 82111: 4.714, 85125: 7.9329, 86293: 65.0338, 102258: 7.9329, 103838: 1.6868, 113432: 3.3686, 113503: 6.2282, 114744: 7.9329, 123319: 7.2398, 127318: 7.5274, 127844: 7.9329, 134835: 7.5274, 135560: 3.1207, 140586: 4.8419, 152711: 7.9329, 166629: 3.2982, 194708: 6.4288, 197608: 6.2282, 201059: 7.9329, 205044: 1.1983, 210040: 4.4065, 210606: 6.4288, 211926: 4.0334, 213022: 4.4065, 221315: 5.1603, 222191: 7.2398, 227410: 1.5613, 228967: 5.535, 229198: 4.8884, 233878: 3.1454, 233926: 7.5274, 249180: 9.1846, 249665: 12.4563, 250788: 6.8343}), features=SparseVector(262144, {1921: 7.9329, 2039: 6.5108, 11789: 7.5274, 13957: 15.8883, 15889: 2.0344, 19370: 7.9329, 20719: 4.8648, 29945: 3.7282, 38842: 7.5274, 45083: 7.9329, 50420: 7.9329, 55157: 7.9329, 57120: 7.9329, 82111: 4.714, 85125: 7.9329, 86293: 65.0338, 102258: 7.9329, 103838: 1.6868, 113432: 3.3686, 113503: 6.2282, 114744: 7.9329, 123319: 7.2398, 127318: 7.5274, 127844: 7.9329, 134835: 7.5274, 135560: 3.1207, 140586: 4.8419, 152711: 7.9329, 166629: 3.2982, 194708: 6.4288, 197608: 6.2282, 201059: 7.9329, 205044: 1.1983, 210040: 4.4065, 210606: 6.4288, 211926: 4.0334, 213022: 4.4065, 221315: 5.1603, 222191: 7.2398, 227410: 1.5613, 228967: 5.535, 229198: 4.8884, 233878: 3.1454, 233926: 7.5274, 249180: 9.1846, 249665: 12.4563, 250788: 6.8343}), rawPrediction=DenseVector([77.5406, -77.5406]), probability=DenseVector([1.0, 0.0]), prediction=0.0),\n",
       " Row(spam=u'ham', message=u\"&lt;#&gt; , that's all? Guess that's easy enough\", label=0.0, tokens=[u'&lt;#&gt;', u',', u\"that's\", u'all?', u'guess', u\"that's\", u'easy', u'enough'], tf=SparseVector(262144, {2039: 1.0, 5173: 1.0, 39081: 2.0, 47032: 1.0, 52904: 1.0, 96984: 1.0, 210995: 1.0}), idf=SparseVector(262144, {2039: 3.2554, 5173: 5.0425, 39081: 9.2374, 47032: 5.4906, 52904: 7.5274, 96984: 5.918, 210995: 5.1921}), features=SparseVector(262144, {2039: 3.2554, 5173: 5.0425, 39081: 9.2374, 47032: 5.4906, 52904: 7.5274, 96984: 5.918, 210995: 5.1921}), rawPrediction=DenseVector([16.0408, -16.0408]), probability=DenseVector([1.0, 0.0]), prediction=0.0),\n",
       " Row(spam=u'ham', message=u\"* Was a nice day and, impressively, i was sensible, went home early and now feel fine. Or am i just boring?! When's yours, i can't remember.\", label=0.0, tokens=[u'*', u'was', u'a', u'nice', u'day', u'and,', u'impressively,', u'i', u'was', u'sensible,', u'went', u'home', u'early', u'and', u'now', u'feel', u'fine.', u'or', u'am', u'i', u'just', u'boring?!', u\"when's\", u'yours,', u'i', u\"can't\", u'remember.'], tf=SparseVector(262144, {2977: 1.0, 13957: 1.0, 17893: 1.0, 18976: 1.0, 22346: 1.0, 23533: 1.0, 24417: 3.0, 25570: 2.0, 28402: 1.0, 35028: 1.0, 42493: 1.0, 61899: 1.0, 80458: 1.0, 91677: 1.0, 97171: 1.0, 99159: 1.0, 146139: 1.0, 152716: 1.0, 166629: 1.0, 173982: 1.0, 204265: 1.0, 215205: 1.0, 227410: 1.0, 247107: 1.0}), idf=SparseVector(262144, {2977: 7.5274, 13957: 3.9721, 17893: 3.9165, 18976: 4.6371, 22346: 4.8648, 23533: 7.5274, 24417: 3.7392, 25570: 6.6959, 28402: 3.1371, 35028: 5.4072, 42493: 7.9329, 61899: 4.6371, 80458: 5.1295, 91677: 1.9565, 97171: 2.7483, 99159: 7.9329, 146139: 4.6558, 152716: 5.8535, 166629: 3.2982, 173982: 7.9329, 204265: 7.9329, 215205: 7.2398, 227410: 1.5613, 247107: 2.6548}), features=SparseVector(262144, {2977: 7.5274, 13957: 3.9721, 17893: 3.9165, 18976: 4.6371, 22346: 4.8648, 23533: 7.5274, 24417: 3.7392, 25570: 6.6959, 28402: 3.1371, 35028: 5.4072, 42493: 7.9329, 61899: 4.6371, 80458: 5.1295, 91677: 1.9565, 97171: 2.7483, 99159: 7.9329, 146139: 4.6558, 152716: 5.8535, 166629: 3.2982, 173982: 7.9329, 204265: 7.9329, 215205: 7.2398, 227410: 1.5613, 247107: 2.6548}), rawPrediction=DenseVector([40.5048, -40.5048]), probability=DenseVector([1.0, 0.0]), prediction=0.0),\n",
       " Row(spam=u'ham', message=u'* You gonna ring this weekend or wot?', label=0.0, tokens=[u'*', u'you', u'gonna', u'ring', u'this', u'weekend', u'or', u'wot?'], tf=SparseVector(262144, {49295: 1.0, 80458: 1.0, 108541: 1.0, 166162: 1.0, 204743: 1.0, 247014: 1.0, 247107: 1.0, 252801: 1.0}), idf=SparseVector(262144, {49295: 7.2398, 80458: 5.1295, 108541: 2.9493, 166162: 5.918, 204743: 4.583, 247014: 5.7357, 247107: 2.6548, 252801: 1.3683}), features=SparseVector(262144, {49295: 7.2398, 80458: 5.1295, 108541: 2.9493, 166162: 5.918, 204743: 4.583, 247014: 5.7357, 247107: 2.6548, 252801: 1.3683}), rawPrediction=DenseVector([13.4325, -13.4325]), probability=DenseVector([1.0, 0.0]), prediction=0.0),\n",
       " Row(spam=u'ham', message=u', ,  and  picking them up from various points | going 2 yeovil | and they will do the motor project 4 3 hours | and then u take them home. || 12 2 5.30 max. || Very easy', label=0.0, tokens=[u',', u',', u'', u'and', u'', u'picking', u'them', u'up', u'from', u'various', u'points', u'|', u'going', u'2', u'yeovil', u'|', u'and', u'they', u'will', u'do', u'the', u'motor', u'project', u'4', u'3', u'hours', u'|', u'and', u'then', u'u', u'take', u'them', u'home.', u'||', u'12', u'2', u'5.30', u'max.', u'||', u'very', u'easy'], tf=SparseVector(262144, {34116: 2.0, 37470: 1.0, 47528: 1.0, 48935: 1.0, 55639: 1.0, 63409: 1.0, 74575: 1.0, 89074: 1.0, 89356: 1.0, 91677: 3.0, 96984: 1.0, 101169: 1.0, 103382: 3.0, 103838: 1.0, 132270: 1.0, 151536: 1.0, 179344: 1.0, 200013: 2.0, 200155: 1.0, 210040: 1.0, 210995: 2.0, 211926: 1.0, 212053: 2.0, 224369: 1.0, 232685: 1.0, 233383: 1.0, 233878: 1.0, 249180: 2.0, 257807: 1.0, 258125: 1.0, 259362: 1.0, 261309: 1.0}), idf=SparseVector(262144, {34116: 8.9343, 37470: 2.8546, 47528: 7.5274, 48935: 7.2398, 55639: 3.7977, 63409: 5.7357, 74575: 7.9329, 89074: 4.7342, 89356: 2.7738, 91677: 5.8696, 96984: 5.918, 101169: 3.0313, 103382: 21.7193, 103838: 1.6868, 132270: 3.6356, 151536: 3.9626, 179344: 3.0809, 200013: 13.6686, 200155: 7.9329, 210040: 4.4065, 210995: 10.3841, 211926: 2.0167, 212053: 5.4089, 224369: 6.0611, 232685: 3.5698, 233383: 6.2282, 233878: 3.1454, 249180: 6.1231, 257807: 7.0166, 258125: 3.3378, 259362: 6.4288, 261309: 7.9329}), features=SparseVector(262144, {34116: 8.9343, 37470: 2.8546, 47528: 7.5274, 48935: 7.2398, 55639: 3.7977, 63409: 5.7357, 74575: 7.9329, 89074: 4.7342, 89356: 2.7738, 91677: 5.8696, 96984: 5.918, 101169: 3.0313, 103382: 21.7193, 103838: 1.6868, 132270: 3.6356, 151536: 3.9626, 179344: 3.0809, 200013: 13.6686, 200155: 7.9329, 210040: 4.4065, 210995: 10.3841, 211926: 2.0167, 212053: 5.4089, 224369: 6.0611, 232685: 3.5698, 233383: 6.2282, 233878: 3.1454, 249180: 6.1231, 257807: 7.0166, 258125: 3.3378, 259362: 6.4288, 261309: 7.9329}), rawPrediction=DenseVector([48.4328, -48.4328]), probability=DenseVector([1.0, 0.0]), prediction=0.0),\n",
       " Row(spam=u'ham', message=u\"1's finish meeting call me.\", label=0.0, tokens=[u\"1's\", u'finish', u'meeting', u'call', u'me.'], tf=SparseVector(262144, {52206: 1.0, 56407: 1.0, 109706: 1.0, 158845: 1.0, 164966: 1.0}), idf=SparseVector(262144, {52206: 5.0425, 56407: 4.0411, 109706: 2.3646, 158845: 4.9885, 164966: 7.5274}), features=SparseVector(262144, {52206: 5.0425, 56407: 4.0411, 109706: 2.3646, 158845: 4.9885, 164966: 7.5274}), rawPrediction=DenseVector([13.8306, -13.8306]), probability=DenseVector([1.0, 0.0]), prediction=0.0),\n",
       " Row(spam=u'ham', message=u\"1's reach home call me.\", label=0.0, tokens=[u\"1's\", u'reach', u'home', u'call', u'me.'], tf=SparseVector(262144, {17893: 1.0, 45093: 1.0, 56407: 1.0, 109706: 1.0, 164966: 1.0}), idf=SparseVector(262144, {17893: 3.9165, 45093: 5.1921, 56407: 4.0411, 109706: 2.3646, 164966: 7.5274}), features=SparseVector(262144, {17893: 3.9165, 45093: 5.1921, 56407: 4.0411, 109706: 2.3646, 164966: 7.5274}), rawPrediction=DenseVector([14.3974, -14.3974]), probability=DenseVector([1.0, 0.0]), prediction=0.0),\n",
       " Row(spam=u'ham', message=u'1. Tension face 2. Smiling face 3. Waste face 4. Innocent face 5.Terror face 6.Cruel face 7.Romantic face 8.Lovable face 9.decent face  &lt;#&gt; .joker face.', label=0.0, tokens=[u'1.', u'tension', u'face', u'2.', u'smiling', u'face', u'3.', u'waste', u'face', u'4.', u'innocent', u'face', u'5.terror', u'face', u'6.cruel', u'face', u'7.romantic', u'face', u'8.lovable', u'face', u'9.decent', u'face', u'', u'&lt;#&gt;', u'.joker', u'face.'], tf=SparseVector(262144, {2039: 1.0, 4089: 1.0, 8258: 1.0, 34806: 1.0, 86910: 1.0, 102512: 1.0, 115062: 1.0, 116408: 1.0, 147750: 1.0, 154554: 1.0, 180203: 1.0, 185979: 1.0, 218847: 1.0, 219953: 1.0, 224088: 1.0, 231140: 1.0, 247394: 9.0, 249180: 1.0}), idf=SparseVector(262144, {2039: 3.2554, 4089: 6.1411, 8258: 6.0611, 34806: 7.0166, 86910: 7.9329, 102512: 7.9329, 115062: 6.1411, 116408: 7.2398, 147750: 6.4288, 154554: 6.8343, 180203: 7.9329, 185979: 7.9329, 218847: 7.9329, 219953: 7.5274, 224088: 7.9329, 231140: 6.0611, 247394: 51.6211, 249180: 3.0615}), features=SparseVector(262144, {2039: 3.2554, 4089: 6.1411, 8258: 6.0611, 34806: 7.0166, 86910: 7.9329, 102512: 7.9329, 115062: 6.1411, 116408: 7.2398, 147750: 6.4288, 154554: 6.8343, 180203: 7.9329, 185979: 7.9329, 218847: 7.9329, 219953: 7.5274, 224088: 7.9329, 231140: 6.0611, 247394: 51.6211, 249180: 3.0615}), rawPrediction=DenseVector([32.3476, -32.3476]), probability=DenseVector([1.0, 0.0]), prediction=0.0),\n",
       " Row(spam=u'ham', message=u'3 pa but not selected.', label=0.0, tokens=[u'3', u'pa', u'but', u'not', u'selected.'], tf=SparseVector(262144, {14747: 1.0, 89074: 1.0, 139098: 1.0, 189683: 1.0, 247009: 1.0}), idf=SparseVector(262144, {14747: 7.9329, 89074: 4.7342, 139098: 2.6702, 189683: 2.6396, 247009: 6.2282}), features=SparseVector(262144, {14747: 7.9329, 89074: 4.7342, 139098: 2.6702, 189683: 2.6396, 247009: 6.2282}), rawPrediction=DenseVector([9.2732, -9.2732]), probability=DenseVector([0.9999, 0.0001]), prediction=0.0),\n",
       " Row(spam=u'ham', message=u'4 tacos + 1 rajas burrito, right?', label=0.0, tokens=[u'4', u'tacos', u'+', u'1', u'rajas', u'burrito,', u'right?'], tf=SparseVector(262144, {98167: 1.0, 104913: 1.0, 156327: 1.0, 171871: 1.0, 174120: 1.0, 233878: 1.0, 236232: 1.0}), idf=SparseVector(262144, {98167: 5.448, 104913: 7.9329, 156327: 7.9329, 171871: 7.5274, 174120: 5.7357, 233878: 3.1454, 236232: 4.4672}), features=SparseVector(262144, {98167: 5.448, 104913: 7.9329, 156327: 7.9329, 171871: 7.5274, 174120: 5.7357, 233878: 3.1454, 236232: 4.4672}), rawPrediction=DenseVector([10.2962, -10.2962]), probability=DenseVector([1.0, 0.0]), prediction=0.0),\n",
       " Row(spam=u'ham', message=u'645', label=0.0, tokens=[u'645'], tf=SparseVector(262144, {18396: 1.0}), idf=SparseVector(262144, {18396: 7.9329}), features=SparseVector(262144, {18396: 7.9329}), rawPrediction=DenseVector([6.1874, -6.1874]), probability=DenseVector([0.9979, 0.0021]), prediction=0.0),\n",
       " Row(spam=u'ham', message=u'7 lor... Change 2 suntec... Wat time u coming?', label=0.0, tokens=[u'7', u'lor...', u'change', u'2', u'suntec...', u'wat', u'time', u'u', u'coming?'], tf=SparseVector(262144, {61398: 1.0, 77099: 1.0, 82070: 1.0, 92646: 1.0, 121517: 1.0, 128073: 1.0, 195680: 1.0, 211926: 1.0, 212053: 1.0}), idf=SparseVector(262144, {61398: 4.4672, 77099: 5.7928, 82070: 7.2398, 92646: 5.5815, 121517: 3.5323, 128073: 7.9329, 195680: 4.6007, 211926: 2.0167, 212053: 2.7045}), features=SparseVector(262144, {61398: 4.4672, 77099: 5.7928, 82070: 7.2398, 92646: 5.5815, 121517: 3.5323, 128073: 7.9329, 195680: 4.6007, 211926: 2.0167, 212053: 2.7045}), rawPrediction=DenseVector([26.3672, -26.3672]), probability=DenseVector([1.0, 0.0]), prediction=0.0),\n",
       " Row(spam=u'ham', message=u'7 wonders in My WORLD 7th You 6th Ur style 5th Ur smile 4th Ur Personality 3rd Ur Nature 2nd Ur SMS and 1st \"Ur Lovely Friendship\"... good morning dear', label=0.0, tokens=[u'7', u'wonders', u'in', u'my', u'world', u'7th', u'you', u'6th', u'ur', u'style', u'5th', u'ur', u'smile', u'4th', u'ur', u'personality', u'3rd', u'ur', u'nature', u'2nd', u'ur', u'sms', u'and', u'1st', u'\"ur', u'lovely', u'friendship\"...', u'good', u'morning', u'dear'], tf=SparseVector(262144, {11951: 1.0, 34836: 1.0, 35226: 1.0, 37852: 1.0, 38276: 1.0, 67314: 1.0, 68516: 1.0, 77099: 1.0, 81677: 1.0, 91677: 1.0, 113432: 1.0, 118497: 1.0, 122295: 1.0, 133902: 1.0, 162286: 1.0, 172152: 1.0, 172469: 1.0, 181726: 1.0, 188977: 1.0, 190892: 1.0, 200950: 1.0, 221619: 1.0, 222453: 1.0, 238611: 5.0, 245815: 1.0, 252801: 1.0}), idf=SparseVector(262144, {11951: 4.8194, 34836: 7.0166, 35226: 5.368, 37852: 2.2175, 38276: 6.6801, 67314: 7.0166, 68516: 7.0166, 77099: 5.7928, 81677: 6.5466, 91677: 1.9565, 113432: 3.3686, 118497: 7.0166, 122295: 5.0707, 133902: 4.2693, 162286: 5.1921, 172152: 7.0166, 172469: 7.0166, 181726: 5.4072, 188977: 7.0166, 190892: 5.8535, 200950: 6.6801, 221619: 7.0166, 222453: 1.9706, 238611: 14.4635, 245815: 5.0707, 252801: 1.3683}), features=SparseVector(262144, {11951: 4.8194, 34836: 7.0166, 35226: 5.368, 37852: 2.2175, 38276: 6.6801, 67314: 7.0166, 68516: 7.0166, 77099: 5.7928, 81677: 6.5466, 91677: 1.9565, 113432: 3.3686, 118497: 7.0166, 122295: 5.0707, 133902: 4.2693, 162286: 5.1921, 172152: 7.0166, 172469: 7.0166, 181726: 5.4072, 188977: 7.0166, 190892: 5.8535, 200950: 6.6801, 221619: 7.0166, 222453: 1.9706, 238611: 14.4635, 245815: 5.0707, 252801: 1.3683}), rawPrediction=DenseVector([23.0888, -23.0888]), probability=DenseVector([1.0, 0.0]), prediction=0.0),\n",
       " Row(spam=u'ham', message=u'7 wonders in My WORLD 7th You 6th Ur style 5th Ur smile 4th Ur Personality 3rd Ur Nature 2nd Ur SMS and 1st \"Ur Lovely Friendship\"... good morning dear', label=0.0, tokens=[u'7', u'wonders', u'in', u'my', u'world', u'7th', u'you', u'6th', u'ur', u'style', u'5th', u'ur', u'smile', u'4th', u'ur', u'personality', u'3rd', u'ur', u'nature', u'2nd', u'ur', u'sms', u'and', u'1st', u'\"ur', u'lovely', u'friendship\"...', u'good', u'morning', u'dear'], tf=SparseVector(262144, {11951: 1.0, 34836: 1.0, 35226: 1.0, 37852: 1.0, 38276: 1.0, 67314: 1.0, 68516: 1.0, 77099: 1.0, 81677: 1.0, 91677: 1.0, 113432: 1.0, 118497: 1.0, 122295: 1.0, 133902: 1.0, 162286: 1.0, 172152: 1.0, 172469: 1.0, 181726: 1.0, 188977: 1.0, 190892: 1.0, 200950: 1.0, 221619: 1.0, 222453: 1.0, 238611: 5.0, 245815: 1.0, 252801: 1.0}), idf=SparseVector(262144, {11951: 4.8194, 34836: 7.0166, 35226: 5.368, 37852: 2.2175, 38276: 6.6801, 67314: 7.0166, 68516: 7.0166, 77099: 5.7928, 81677: 6.5466, 91677: 1.9565, 113432: 3.3686, 118497: 7.0166, 122295: 5.0707, 133902: 4.2693, 162286: 5.1921, 172152: 7.0166, 172469: 7.0166, 181726: 5.4072, 188977: 7.0166, 190892: 5.8535, 200950: 6.6801, 221619: 7.0166, 222453: 1.9706, 238611: 14.4635, 245815: 5.0707, 252801: 1.3683}), features=SparseVector(262144, {11951: 4.8194, 34836: 7.0166, 35226: 5.368, 37852: 2.2175, 38276: 6.6801, 67314: 7.0166, 68516: 7.0166, 77099: 5.7928, 81677: 6.5466, 91677: 1.9565, 113432: 3.3686, 118497: 7.0166, 122295: 5.0707, 133902: 4.2693, 162286: 5.1921, 172152: 7.0166, 172469: 7.0166, 181726: 5.4072, 188977: 7.0166, 190892: 5.8535, 200950: 6.6801, 221619: 7.0166, 222453: 1.9706, 238611: 14.4635, 245815: 5.0707, 252801: 1.3683}), rawPrediction=DenseVector([23.0888, -23.0888]), probability=DenseVector([1.0, 0.0]), prediction=0.0),\n",
       " Row(spam=u'ham', message=u\"8 at the latest, g's still there if you can scrounge up some ammo and want to give the new ak a try\", label=0.0, tokens=[u'8', u'at', u'the', u'latest,', u\"g's\", u'still', u'there', u'if', u'you', u'can', u'scrounge', u'up', u'some', u'ammo', u'and', u'want', u'to', u'give', u'the', u'new', u'ak', u'a', u'try'], tf=SparseVector(262144, {7754: 1.0, 19208: 1.0, 29945: 1.0, 36073: 1.0, 36200: 1.0, 55242: 1.0, 91677: 1.0, 98962: 1.0, 103838: 2.0, 107367: 1.0, 122169: 1.0, 141407: 1.0, 176964: 1.0, 179344: 1.0, 180535: 1.0, 190256: 1.0, 191887: 1.0, 205044: 1.0, 212914: 1.0, 218030: 1.0, 227410: 1.0, 252801: 1.0}), idf=SparseVector(262144, {7754: 7.9329, 19208: 3.8554, 29945: 3.7282, 36073: 2.7568, 36200: 3.6154, 55242: 2.7883, 91677: 1.9565, 98962: 6.1411, 103838: 3.3736, 107367: 4.0617, 122169: 7.9329, 141407: 4.7759, 176964: 2.7045, 179344: 3.0809, 180535: 3.8058, 190256: 3.4499, 191887: 7.5274, 205044: 1.1983, 212914: 7.9329, 218030: 7.2398, 227410: 1.5613, 252801: 1.3683}), features=SparseVector(262144, {7754: 7.9329, 19208: 3.8554, 29945: 3.7282, 36073: 2.7568, 36200: 3.6154, 55242: 2.7883, 91677: 1.9565, 98962: 6.1411, 103838: 3.3736, 107367: 4.0617, 122169: 7.9329, 141407: 4.7759, 176964: 2.7045, 179344: 3.0809, 180535: 3.8058, 190256: 3.4499, 191887: 7.5274, 205044: 1.1983, 212914: 7.9329, 218030: 7.2398, 227410: 1.5613, 252801: 1.3683}), rawPrediction=DenseVector([27.76, -27.76]), probability=DenseVector([1.0, 0.0]), prediction=0.0),\n",
       " Row(spam=u'ham', message=u':) ', label=0.0, tokens=[u':)'], tf=SparseVector(262144, {222992: 1.0}), idf=SparseVector(262144, {222992: 4.5485}), features=SparseVector(262144, {222992: 4.5485}), rawPrediction=DenseVector([9.9825, -9.9825]), probability=DenseVector([1.0, 0.0]), prediction=0.0),\n",
       " Row(spam=u'ham', message=u':-( sad puppy noise', label=0.0, tokens=[u':-(', u'sad', u'puppy', u'noise'], tf=SparseVector(262144, {14759: 1.0, 232591: 1.0, 258668: 1.0, 260542: 1.0}), idf=SparseVector(262144, {14759: 7.9329, 232591: 7.9329, 258668: 5.7357, 260542: 5.8535}), features=SparseVector(262144, {14759: 7.9329, 232591: 7.9329, 258668: 5.7357, 260542: 5.8535}), rawPrediction=DenseVector([10.5866, -10.5866]), probability=DenseVector([1.0, 0.0]), prediction=0.0),\n",
       " Row(spam=u'ham', message=u'A bit of Ur smile is my hppnss, a drop of Ur tear is my sorrow, a part of Ur heart is my life, a heart like mine wil care for U, forevr as my GOODFRIEND', label=0.0, tokens=[u'a', u'bit', u'of', u'ur', u'smile', u'is', u'my', u'hppnss,', u'a', u'drop', u'of', u'ur', u'tear', u'is', u'my', u'sorrow,', u'a', u'part', u'of', u'ur', u'heart', u'is', u'my', u'life,', u'a', u'heart', u'like', u'mine', u'wil', u'care', u'for', u'u,', u'forevr', u'as', u'my', u'goodfriend'], tf=SparseVector(262144, {8804: 1.0, 9639: 3.0, 14385: 1.0, 15889: 3.0, 16332: 1.0, 17540: 1.0, 24175: 1.0, 35226: 1.0, 37852: 4.0, 46473: 1.0, 50940: 1.0, 71619: 1.0, 88087: 1.0, 99741: 1.0, 102296: 2.0, 109230: 1.0, 110533: 1.0, 139959: 1.0, 141854: 1.0, 201632: 1.0, 208258: 1.0, 227410: 4.0, 238611: 3.0}), idf=SparseVector(262144, {8804: 5.3302, 9639: 6.9648, 14385: 5.8535, 15889: 6.1031, 16332: 2.1963, 17540: 6.8343, 24175: 5.987, 35226: 5.368, 37852: 8.8701, 46473: 7.5274, 50940: 3.6022, 71619: 6.6801, 88087: 7.5274, 99741: 7.5274, 102296: 10.5175, 109230: 4.714, 110533: 5.6303, 139959: 7.5274, 141854: 4.9125, 201632: 5.987, 208258: 3.2279, 227410: 6.2452, 238611: 8.6781}), features=SparseVector(262144, {8804: 5.3302, 9639: 6.9648, 14385: 5.8535, 15889: 6.1031, 16332: 2.1963, 17540: 6.8343, 24175: 5.987, 35226: 5.368, 37852: 8.8701, 46473: 7.5274, 50940: 3.6022, 71619: 6.6801, 88087: 7.5274, 99741: 7.5274, 102296: 10.5175, 109230: 4.714, 110533: 5.6303, 139959: 7.5274, 141854: 4.9125, 201632: 5.987, 208258: 3.2279, 227410: 6.2452, 238611: 8.6781}), rawPrediction=DenseVector([26.0488, -26.0488]), probability=DenseVector([1.0, 0.0]), prediction=0.0),\n",
       " Row(spam=u'ham', message=u'A bit of Ur smile is my hppnss, a drop of Ur tear is my sorrow, a part of Ur heart is my life, a heart like mine wil care for U, forevr as my GOODFRIEND', label=0.0, tokens=[u'a', u'bit', u'of', u'ur', u'smile', u'is', u'my', u'hppnss,', u'a', u'drop', u'of', u'ur', u'tear', u'is', u'my', u'sorrow,', u'a', u'part', u'of', u'ur', u'heart', u'is', u'my', u'life,', u'a', u'heart', u'like', u'mine', u'wil', u'care', u'for', u'u,', u'forevr', u'as', u'my', u'goodfriend'], tf=SparseVector(262144, {8804: 1.0, 9639: 3.0, 14385: 1.0, 15889: 3.0, 16332: 1.0, 17540: 1.0, 24175: 1.0, 35226: 1.0, 37852: 4.0, 46473: 1.0, 50940: 1.0, 71619: 1.0, 88087: 1.0, 99741: 1.0, 102296: 2.0, 109230: 1.0, 110533: 1.0, 139959: 1.0, 141854: 1.0, 201632: 1.0, 208258: 1.0, 227410: 4.0, 238611: 3.0}), idf=SparseVector(262144, {8804: 5.3302, 9639: 6.9648, 14385: 5.8535, 15889: 6.1031, 16332: 2.1963, 17540: 6.8343, 24175: 5.987, 35226: 5.368, 37852: 8.8701, 46473: 7.5274, 50940: 3.6022, 71619: 6.6801, 88087: 7.5274, 99741: 7.5274, 102296: 10.5175, 109230: 4.714, 110533: 5.6303, 139959: 7.5274, 141854: 4.9125, 201632: 5.987, 208258: 3.2279, 227410: 6.2452, 238611: 8.6781}), features=SparseVector(262144, {8804: 5.3302, 9639: 6.9648, 14385: 5.8535, 15889: 6.1031, 16332: 2.1963, 17540: 6.8343, 24175: 5.987, 35226: 5.368, 37852: 8.8701, 46473: 7.5274, 50940: 3.6022, 71619: 6.6801, 88087: 7.5274, 99741: 7.5274, 102296: 10.5175, 109230: 4.714, 110533: 5.6303, 139959: 7.5274, 141854: 4.9125, 201632: 5.987, 208258: 3.2279, 227410: 6.2452, 238611: 8.6781}), rawPrediction=DenseVector([26.0488, -26.0488]), probability=DenseVector([1.0, 0.0]), prediction=0.0),\n",
       " Row(spam=u'ham', message=u'A cute thought for friendship: \"Its not necessary to share every secret with ur close Frnd, but watever u shared should be true\"....', label=0.0, tokens=[u'a', u'cute', u'thought', u'for', u'friendship:', u'\"its', u'not', u'necessary', u'to', u'share', u'every', u'secret', u'with', u'ur', u'close', u'frnd,', u'but', u'watever', u'u', u'shared', u'should', u'be', u'true\"....'], tf=SparseVector(262144, {3233: 1.0, 16332: 1.0, 23837: 1.0, 99585: 1.0, 103833: 1.0, 120431: 1.0, 120516: 1.0, 126208: 1.0, 126466: 1.0, 139098: 1.0, 167152: 1.0, 181654: 1.0, 189683: 1.0, 191829: 1.0, 205044: 1.0, 208137: 1.0, 211926: 1.0, 227410: 1.0, 237337: 1.0, 238611: 1.0, 240227: 1.0, 242361: 1.0, 257740: 1.0}), idf=SparseVector(262144, {3233: 7.5274, 16332: 2.1963, 23837: 6.8343, 99585: 4.1487, 103833: 7.5274, 120431: 7.2398, 120516: 7.9329, 126208: 4.4364, 126466: 2.7767, 139098: 2.6702, 167152: 2.7825, 181654: 5.8535, 189683: 2.6396, 191829: 7.5274, 205044: 1.1983, 208137: 7.9329, 211926: 2.0167, 227410: 1.5613, 237337: 6.6801, 238611: 2.8927, 240227: 5.918, 242361: 4.8884, 257740: 7.5274}), features=SparseVector(262144, {3233: 7.5274, 16332: 2.1963, 23837: 6.8343, 99585: 4.1487, 103833: 7.5274, 120431: 7.2398, 120516: 7.9329, 126208: 4.4364, 126466: 2.7767, 139098: 2.6702, 167152: 2.7825, 181654: 5.8535, 189683: 2.6396, 191829: 7.5274, 205044: 1.1983, 208137: 7.9329, 211926: 2.0167, 227410: 1.5613, 237337: 6.6801, 238611: 2.8927, 240227: 5.918, 242361: 4.8884, 257740: 7.5274}), rawPrediction=DenseVector([13.4454, -13.4454]), probability=DenseVector([1.0, 0.0]), prediction=0.0),\n",
       " Row(spam=u'ham', message=u\"A famous quote : when you develop the ability to listen to 'anything' unconditionally without losing your temper or self confidence, it means you are ......... 'MARRIED'\", label=0.0, tokens=[u'a', u'famous', u'quote', u':', u'when', u'you', u'develop', u'the', u'ability', u'to', u'listen', u'to', u\"'anything'\", u'unconditionally', u'without', u'losing', u'your', u'temper', u'or', u'self', u'confidence,', u'it', u'means', u'you', u'are', u'.........', u\"'married'\"], tf=SparseVector(262144, {6061: 1.0, 20495: 1.0, 24197: 1.0, 24980: 1.0, 48648: 1.0, 54735: 1.0, 55039: 1.0, 60138: 1.0, 86175: 1.0, 89867: 1.0, 103838: 1.0, 151146: 1.0, 167122: 1.0, 169645: 1.0, 178881: 1.0, 185302: 1.0, 205044: 2.0, 215263: 1.0, 223579: 1.0, 223714: 1.0, 227410: 1.0, 231428: 1.0, 246397: 1.0, 247107: 1.0, 252801: 2.0}), idf=SparseVector(262144, {6061: 7.0166, 20495: 7.5274, 24197: 7.9329, 24980: 3.0809, 48648: 6.4288, 54735: 7.9329, 55039: 2.2544, 60138: 7.9329, 86175: 2.6197, 89867: 7.5274, 103838: 1.6868, 151146: 5.368, 167122: 2.5415, 169645: 7.9329, 178881: 7.5274, 185302: 6.2282, 205044: 2.3966, 215263: 6.2282, 223579: 7.9329, 223714: 7.0166, 227410: 1.5613, 231428: 5.4906, 246397: 7.9329, 247107: 2.6548, 252801: 2.7367}), features=SparseVector(262144, {6061: 7.0166, 20495: 7.5274, 24197: 7.9329, 24980: 3.0809, 48648: 6.4288, 54735: 7.9329, 55039: 2.2544, 60138: 7.9329, 86175: 2.6197, 89867: 7.5274, 103838: 1.6868, 151146: 5.368, 167122: 2.5415, 169645: 7.9329, 178881: 7.5274, 185302: 6.2282, 205044: 2.3966, 215263: 6.2282, 223579: 7.9329, 223714: 7.0166, 227410: 1.5613, 231428: 5.4906, 246397: 7.9329, 247107: 2.6548, 252801: 2.7367}), rawPrediction=DenseVector([16.1017, -16.1017]), probability=DenseVector([1.0, 0.0]), prediction=0.0),\n",
       " Row(spam=u'ham', message=u'A swt thought: \"Nver get tired of doing little things 4 lovable persons..\" Coz..somtimes those little things occupy d biggest part in their Hearts.. Gud ni8', label=0.0, tokens=[u'a', u'swt', u'thought:', u'\"nver', u'get', u'tired', u'of', u'doing', u'little', u'things', u'4', u'lovable', u'persons..\"', u'coz..somtimes', u'those', u'little', u'things', u'occupy', u'd', u'biggest', u'part', u'in', u'their', u'hearts..', u'gud', u'ni8'], tf=SparseVector(262144, {8804: 1.0, 9639: 1.0, 13396: 1.0, 18292: 1.0, 19635: 1.0, 27526: 1.0, 96670: 1.0, 99566: 1.0, 99736: 1.0, 99895: 1.0, 136894: 1.0, 141195: 1.0, 142804: 1.0, 142888: 1.0, 146580: 1.0, 166217: 1.0, 170164: 1.0, 181519: 2.0, 212683: 1.0, 222453: 1.0, 226568: 2.0, 227410: 1.0, 233878: 1.0, 256152: 1.0}), idf=SparseVector(262144, {8804: 5.3302, 9639: 2.3216, 13396: 4.4065, 18292: 7.5274, 19635: 7.0166, 27526: 4.6187, 96670: 7.5274, 99566: 7.9329, 99736: 5.3302, 99895: 2.7511, 136894: 6.2282, 141195: 7.5274, 142804: 7.9329, 142888: 7.9329, 146580: 4.5656, 166217: 5.987, 170164: 6.3235, 181519: 10.5175, 212683: 5.918, 222453: 1.9706, 226568: 9.925, 227410: 1.5613, 233878: 3.1454, 256152: 7.9329}), features=SparseVector(262144, {8804: 5.3302, 9639: 2.3216, 13396: 4.4065, 18292: 7.5274, 19635: 7.0166, 27526: 4.6187, 96670: 7.5274, 99566: 7.9329, 99736: 5.3302, 99895: 2.7511, 136894: 6.2282, 141195: 7.5274, 142804: 7.9329, 142888: 7.9329, 146580: 4.5656, 166217: 5.987, 170164: 6.3235, 181519: 10.5175, 212683: 5.918, 222453: 1.9706, 226568: 9.925, 227410: 1.5613, 233878: 3.1454, 256152: 7.9329}), rawPrediction=DenseVector([12.1813, -12.1813]), probability=DenseVector([1.0, 0.0]), prediction=0.0),\n",
       " Row(spam=u'ham', message=u'AH POOR BABY!HOPE URFEELING BETTERSN LUV! PROBTHAT OVERDOSE OF WORK HEY GO CAREFUL SPK 2 U SN LOTS OF LOVEJEN XXX.', label=0.0, tokens=[u'ah', u'poor', u'baby!hope', u'urfeeling', u'bettersn', u'luv!', u'probthat', u'overdose', u'of', u'work', u'hey', u'go', u'careful', u'spk', u'2', u'u', u'sn', u'lots', u'of', u'lovejen', u'xxx.'], tf=SparseVector(262144, {9639: 2.0, 34343: 1.0, 66130: 1.0, 85735: 1.0, 87244: 1.0, 114324: 1.0, 137233: 1.0, 148971: 1.0, 152535: 1.0, 162099: 1.0, 172477: 1.0, 184538: 1.0, 193196: 1.0, 193866: 1.0, 195387: 1.0, 211926: 1.0, 212053: 1.0, 212934: 1.0, 220152: 1.0, 222759: 1.0}), idf=SparseVector(262144, {9639: 4.6432, 34343: 4.3776, 66130: 4.1487, 85735: 6.3235, 87244: 7.2398, 114324: 6.8343, 137233: 7.9329, 148971: 7.9329, 152535: 6.8343, 162099: 7.9329, 172477: 3.1126, 184538: 7.9329, 193196: 7.9329, 193866: 5.7928, 195387: 7.2398, 211926: 2.0167, 212053: 2.7045, 212934: 7.0166, 220152: 7.5274, 222759: 7.5274}), features=SparseVector(262144, {9639: 4.6432, 34343: 4.3776, 66130: 4.1487, 85735: 6.3235, 87244: 7.2398, 114324: 6.8343, 137233: 7.9329, 148971: 7.9329, 152535: 6.8343, 162099: 7.9329, 172477: 3.1126, 184538: 7.9329, 193196: 7.9329, 193866: 5.7928, 195387: 7.2398, 211926: 2.0167, 212053: 2.7045, 212934: 7.0166, 220152: 7.5274, 222759: 7.5274}), rawPrediction=DenseVector([26.423, -26.423]), probability=DenseVector([1.0, 0.0]), prediction=0.0),\n",
       " Row(spam=u'ham', message=u'ALRITE HUNNY!WOT U UP 2 2NITE? DIDNT END UP GOIN DOWN TOWN JUS DA PUB INSTEAD! JUS CHILLIN AT DA MO IN ME BEDROOM!LOVE JEN XXX.', label=0.0, tokens=[u'alrite', u'hunny!wot', u'u', u'up', u'2', u'2nite?', u'didnt', u'end', u'up', u'goin', u'down', u'town', u'jus', u'da', u'pub', u'instead!', u'jus', u'chillin', u'at', u'da', u'mo', u'in', u'me', u'bedroom!love', u'jen', u'xxx.'], tf=SparseVector(262144, {6569: 1.0, 8533: 1.0, 25217: 1.0, 64558: 1.0, 78372: 1.0, 99179: 1.0, 111793: 2.0, 114324: 1.0, 171772: 1.0, 176964: 1.0, 179344: 2.0, 188304: 1.0, 195580: 1.0, 210404: 1.0, 211926: 1.0, 212053: 1.0, 218228: 1.0, 221047: 1.0, 222453: 1.0, 240748: 2.0, 249351: 1.0, 255356: 1.0, 258945: 1.0}), idf=SparseVector(262144, {6569: 6.8343, 8533: 7.9329, 25217: 4.7548, 64558: 7.0166, 78372: 7.9329, 99179: 5.4906, 111793: 8.6712, 114324: 6.8343, 171772: 5.7357, 176964: 2.7045, 179344: 6.1617, 188304: 5.2249, 195580: 7.9329, 210404: 6.8343, 211926: 2.0167, 212053: 2.7045, 218228: 6.0611, 221047: 2.3216, 222453: 1.9706, 240748: 10.2591, 249351: 7.0166, 255356: 5.1921, 258945: 7.2398}), features=SparseVector(262144, {6569: 6.8343, 8533: 7.9329, 25217: 4.7548, 64558: 7.0166, 78372: 7.9329, 99179: 5.4906, 111793: 8.6712, 114324: 6.8343, 171772: 5.7357, 176964: 2.7045, 179344: 6.1617, 188304: 5.2249, 195580: 7.9329, 210404: 6.8343, 211926: 2.0167, 212053: 2.7045, 218228: 6.0611, 221047: 2.3216, 222453: 1.9706, 240748: 10.2591, 249351: 7.0166, 255356: 5.1921, 258945: 7.2398}), rawPrediction=DenseVector([53.6944, -53.6944]), probability=DenseVector([1.0, 0.0]), prediction=0.0),\n",
       " Row(spam=u'ham', message=u'ALSO TELL HIM I SAID HAPPY BIRTHDAY', label=0.0, tokens=[u'also', u'tell', u'him', u'i', u'said', u'happy', u'birthday'], tf=SparseVector(262144, {23893: 1.0, 24417: 1.0, 85530: 1.0, 86293: 1.0, 147136: 1.0, 168976: 1.0, 228967: 1.0}), idf=SparseVector(262144, {23893: 4.1834, 24417: 1.2464, 85530: 3.7357, 86293: 4.3356, 147136: 4.5152, 168976: 4.4517, 228967: 5.535}), features=SparseVector(262144, {23893: 4.1834, 24417: 1.2464, 85530: 3.7357, 86293: 4.3356, 147136: 4.5152, 168976: 4.4517, 228967: 5.535}), rawPrediction=DenseVector([16.1914, -16.1914]), probability=DenseVector([1.0, 0.0]), prediction=0.0),\n",
       " Row(spam=u'ham', message=u'Abeg, make profit. But its a start. Are you using it to get sponsors for the next event?', label=0.0, tokens=[u'abeg,', u'make', u'profit.', u'but', u'its', u'a', u'start.', u'are', u'you', u'using', u'it', u'to', u'get', u'sponsors', u'for', u'the', u'next', u'event?'], tf=SparseVector(262144, {16332: 1.0, 54961: 1.0, 57400: 1.0, 69733: 1.0, 86175: 1.0, 89717: 1.0, 99895: 1.0, 103838: 1.0, 120904: 1.0, 132167: 1.0, 167122: 1.0, 188755: 1.0, 189683: 1.0, 205044: 1.0, 215073: 1.0, 227410: 1.0, 245268: 1.0, 252801: 1.0}), idf=SparseVector(262144, {16332: 2.1963, 54961: 4.5485, 57400: 6.3235, 69733: 7.9329, 86175: 2.6197, 89717: 4.0309, 99895: 2.7511, 103838: 1.6868, 120904: 3.3686, 132167: 7.9329, 167122: 2.5415, 188755: 7.9329, 189683: 2.6396, 205044: 1.1983, 215073: 7.9329, 227410: 1.5613, 245268: 7.9329, 252801: 1.3683}), features=SparseVector(262144, {16332: 2.1963, 54961: 4.5485, 57400: 6.3235, 69733: 7.9329, 86175: 2.6197, 89717: 4.0309, 99895: 2.7511, 103838: 1.6868, 120904: 3.3686, 132167: 7.9329, 167122: 2.5415, 188755: 7.9329, 189683: 2.6396, 205044: 1.1983, 215073: 7.9329, 227410: 1.5613, 245268: 7.9329, 252801: 1.3683}), rawPrediction=DenseVector([18.9911, -18.9911]), probability=DenseVector([1.0, 0.0]), prediction=0.0),\n",
       " Row(spam=u'ham', message=u\"Actually I decided I was too hungry so I haven't left yet :V\", label=0.0, tokens=[u'actually', u'i', u'decided', u'i', u'was', u'too', u'hungry', u'so', u'i', u\"haven't\", u'left', u'yet', u':v'], tf=SparseVector(262144, {24417: 3.0, 25570: 1.0, 132975: 1.0, 146582: 1.0, 159636: 1.0, 161061: 1.0, 167315: 1.0, 168436: 1.0, 170414: 1.0, 188424: 1.0, 262014: 1.0}), idf=SparseVector(262144, {24417: 3.7392, 25570: 3.3479, 132975: 5.1603, 146582: 6.4288, 159636: 4.3356, 161061: 5.0425, 167315: 6.5466, 168436: 5.5815, 170414: 5.3302, 188424: 2.6421, 262014: 5.7928}), features=SparseVector(262144, {24417: 3.7392, 25570: 3.3479, 132975: 5.1603, 146582: 6.4288, 159636: 4.3356, 161061: 5.0425, 167315: 6.5466, 168436: 5.5815, 170414: 5.3302, 188424: 2.6421, 262014: 5.7928}), rawPrediction=DenseVector([23.5218, -23.5218]), probability=DenseVector([1.0, 0.0]), prediction=0.0),\n",
       " Row(spam=u'ham', message=u'Actually getting ready to leave the house.', label=0.0, tokens=[u'actually', u'getting', u'ready', u'to', u'leave', u'the', u'house.'], tf=SparseVector(262144, {34140: 1.0, 83756: 1.0, 92900: 1.0, 103838: 1.0, 132975: 1.0, 148073: 1.0, 205044: 1.0}), idf=SparseVector(262144, {34140: 4.7548, 83756: 4.7342, 92900: 5.1295, 103838: 1.6868, 132975: 5.1603, 148073: 6.4288, 205044: 1.1983}), features=SparseVector(262144, {34140: 4.7548, 83756: 4.7342, 92900: 5.1295, 103838: 1.6868, 132975: 5.1603, 148073: 6.4288, 205044: 1.1983}), rawPrediction=DenseVector([14.7277, -14.7277]), probability=DenseVector([1.0, 0.0]), prediction=0.0),\n",
       " Row(spam=u'ham', message=u'Ah, well that confuses things, doesnt it? I thought was friends with now. Maybe i did the wrong thing but i already sort of invited -tho he may not come cos of money.', label=0.0, tokens=[u'ah,', u'well', u'that', u'confuses', u'things,', u'doesnt', u'it?', u'i', u'thought', u'was', u'friends', u'with', u'now.', u'maybe', u'i', u'did', u'the', u'wrong', u'thing', u'but', u'i', u'already', u'sort', u'of', u'invited', u'-tho', u'he', u'may', u'not', u'come', u'cos', u'of', u'money.'], tf=SparseVector(262144, {9639: 2.0, 24417: 3.0, 25570: 1.0, 27564: 1.0, 37197: 1.0, 48448: 1.0, 49933: 1.0, 62713: 1.0, 90784: 1.0, 103838: 1.0, 107499: 1.0, 124670: 1.0, 126466: 1.0, 137248: 1.0, 139098: 1.0, 140586: 1.0, 175143: 1.0, 186925: 1.0, 189683: 1.0, 190266: 1.0, 195871: 1.0, 204380: 1.0, 209304: 1.0, 211617: 1.0, 222394: 1.0, 234626: 1.0, 242101: 1.0, 242361: 1.0, 251326: 1.0, 255206: 1.0}), idf=SparseVector(262144, {9639: 4.6432, 24417: 3.7392, 25570: 3.3479, 27564: 6.3235, 37197: 7.5274, 48448: 2.5787, 49933: 6.1411, 62713: 4.7342, 90784: 7.9329, 103838: 1.6868, 107499: 4.7759, 124670: 7.5274, 126466: 2.7767, 137248: 5.7357, 139098: 2.6702, 140586: 4.8419, 175143: 5.2249, 186925: 4.2316, 189683: 2.6396, 190266: 4.0722, 195871: 3.9347, 204380: 3.2933, 209304: 6.1411, 211617: 6.3235, 222394: 5.0151, 234626: 4.3356, 242101: 3.6988, 242361: 4.8884, 251326: 6.1411, 255206: 6.8343}), features=SparseVector(262144, {9639: 4.6432, 24417: 3.7392, 25570: 3.3479, 27564: 6.3235, 37197: 7.5274, 48448: 2.5787, 49933: 6.1411, 62713: 4.7342, 90784: 7.9329, 103838: 1.6868, 107499: 4.7759, 124670: 7.5274, 126466: 2.7767, 137248: 5.7357, 139098: 2.6702, 140586: 4.8419, 175143: 5.2249, 186925: 4.2316, 189683: 2.6396, 190266: 4.0722, 195871: 3.9347, 204380: 3.2933, 209304: 6.1411, 211617: 6.3235, 222394: 5.0151, 234626: 4.3356, 242101: 3.6988, 242361: 4.8884, 251326: 6.1411, 255206: 6.8343}), rawPrediction=DenseVector([46.8898, -46.8898]), probability=DenseVector([1.0, 0.0]), prediction=0.0),\n",
       " Row(spam=u'ham', message=u'Ah, well that confuses things, doesn\\u2018t it?', label=0.0, tokens=[u'ah,', u'well', u'that', u'confuses', u'things,', u'doesn\\u2018t', u'it?'], tf=SparseVector(262144, {19319: 1.0, 37197: 1.0, 48448: 1.0, 124670: 1.0, 137248: 1.0, 186925: 1.0, 255206: 1.0}), idf=SparseVector(262144, {19319: 7.9329, 37197: 7.5274, 48448: 2.5787, 124670: 7.5274, 137248: 5.7357, 186925: 4.2316, 255206: 6.8343}), features=SparseVector(262144, {19319: 7.9329, 37197: 7.5274, 48448: 2.5787, 124670: 7.5274, 137248: 5.7357, 186925: 4.2316, 255206: 6.8343}), rawPrediction=DenseVector([12.5695, -12.5695]), probability=DenseVector([1.0, 0.0]), prediction=0.0),\n",
       " Row(spam=u'ham', message=u'Ahhh. Work. I vaguely remember that! What does it feel like? Lol', label=0.0, tokens=[u'ahhh.', u'work.', u'i', u'vaguely', u'remember', u'that!', u'what', u'does', u'it', u'feel', u'like?', u'lol'], tf=SparseVector(262144, {2619: 1.0, 11901: 1.0, 24417: 1.0, 31950: 1.0, 58162: 1.0, 61899: 1.0, 81566: 1.0, 86175: 1.0, 143936: 1.0, 196997: 1.0, 206331: 1.0, 209175: 1.0}), idf=SparseVector(262144, {2619: 7.9329, 11901: 7.0166, 24417: 1.2464, 31950: 4.5317, 58162: 5.1921, 61899: 4.6371, 81566: 3.133, 86175: 2.6197, 143936: 6.5466, 196997: 5.2249, 206331: 5.6303, 209175: 7.9329}), features=SparseVector(262144, {2619: 7.9329, 11901: 7.0166, 24417: 1.2464, 31950: 4.5317, 58162: 5.1921, 61899: 4.6371, 81566: 3.133, 86175: 2.6197, 143936: 6.5466, 196997: 5.2249, 206331: 5.6303, 209175: 7.9329}), rawPrediction=DenseVector([32.1714, -32.1714]), probability=DenseVector([1.0, 0.0]), prediction=0.0),\n",
       " Row(spam=u'ham', message=u'Ahhhh...just woken up!had a bad dream about u tho,so i dont like u right now :) i didnt know anything about comedy night but i guess im up for it.', label=0.0, tokens=[u'ahhhh...just', u'woken', u'up!had', u'a', u'bad', u'dream', u'about', u'u', u'tho,so', u'i', u'dont', u'like', u'u', u'right', u'now', u':)', u'i', u'didnt', u'know', u'anything', u'about', u'comedy', u'night', u'but', u'i', u'guess', u'im', u'up', u'for', u'it.'], tf=SparseVector(262144, {5173: 1.0, 10287: 1.0, 16332: 1.0, 24417: 3.0, 28402: 1.0, 59641: 1.0, 66092: 1.0, 75394: 1.0, 87273: 1.0, 91137: 2.0, 96638: 1.0, 101402: 1.0, 107810: 1.0, 118590: 1.0, 140931: 1.0, 179344: 1.0, 188304: 1.0, 188822: 1.0, 189683: 1.0, 208258: 1.0, 209468: 1.0, 211926: 2.0, 222992: 1.0, 227410: 1.0, 252370: 1.0, 255988: 1.0}), idf=SparseVector(262144, {5173: 5.0425, 10287: 7.2398, 16332: 2.1963, 24417: 3.7392, 28402: 3.1371, 59641: 7.9329, 66092: 4.3634, 75394: 7.5274, 87273: 3.7509, 91137: 7.3264, 96638: 5.3302, 101402: 4.3086, 107810: 4.5152, 118590: 4.4829, 140931: 3.2416, 179344: 3.0809, 188304: 5.2249, 188822: 4.583, 189683: 2.6396, 208258: 3.2279, 209468: 6.4288, 211926: 4.0334, 222992: 4.5485, 227410: 1.5613, 252370: 7.9329, 255988: 7.2398}), features=SparseVector(262144, {5173: 5.0425, 10287: 7.2398, 16332: 2.1963, 24417: 3.7392, 28402: 3.1371, 59641: 7.9329, 66092: 4.3634, 75394: 7.5274, 87273: 3.7509, 91137: 7.3264, 96638: 5.3302, 101402: 4.3086, 107810: 4.5152, 118590: 4.4829, 140931: 3.2416, 179344: 3.0809, 188304: 5.2249, 188822: 4.583, 189683: 2.6396, 208258: 3.2279, 209468: 6.4288, 211926: 4.0334, 222992: 4.5485, 227410: 1.5613, 252370: 7.9329, 255988: 7.2398}), rawPrediction=DenseVector([41.822, -41.822]), probability=DenseVector([1.0, 0.0]), prediction=0.0),\n",
       " Row(spam=u'ham', message=u\"Aight I've been set free, think you could text me blake's address? It occurs to me I'm not quite as sure what I'm doing as I thought I was\", label=0.0, tokens=[u'aight', u\"i've\", u'been', u'set', u'free,', u'think', u'you', u'could', u'text', u'me', u\"blake's\", u'address?', u'it', u'occurs', u'to', u'me', u\"i'm\", u'not', u'quite', u'as', u'sure', u'what', u\"i'm\", u'doing', u'as', u'i', u'thought', u'i', u'was'], tf=SparseVector(262144, {10715: 1.0, 13396: 1.0, 24417: 2.0, 25570: 1.0, 46944: 1.0, 47272: 1.0, 50940: 2.0, 70028: 1.0, 81566: 1.0, 86175: 1.0, 96486: 1.0, 134125: 1.0, 135533: 1.0, 137841: 1.0, 139098: 1.0, 143985: 1.0, 147765: 1.0, 165159: 1.0, 169364: 2.0, 205044: 1.0, 221047: 2.0, 227431: 1.0, 235406: 1.0, 242361: 1.0, 252801: 1.0}), idf=SparseVector(262144, {10715: 7.2398, 13396: 4.4065, 24417: 2.4928, 25570: 3.3479, 46944: 5.7357, 47272: 7.9329, 50940: 7.2043, 70028: 3.7977, 81566: 3.133, 86175: 2.6197, 96486: 6.4288, 134125: 4.6007, 135533: 5.4072, 137841: 6.6801, 139098: 2.6702, 143985: 3.5635, 147765: 4.583, 165159: 5.0707, 169364: 5.5534, 205044: 1.1983, 221047: 4.6432, 227431: 3.7898, 235406: 4.4829, 242361: 4.8884, 252801: 1.3683}), features=SparseVector(262144, {10715: 7.2398, 13396: 4.4065, 24417: 2.4928, 25570: 3.3479, 46944: 5.7357, 47272: 7.9329, 50940: 7.2043, 70028: 3.7977, 81566: 3.133, 86175: 2.6197, 96486: 6.4288, 134125: 4.6007, 135533: 5.4072, 137841: 6.6801, 139098: 2.6702, 143985: 3.5635, 147765: 4.583, 165159: 5.0707, 169364: 5.5534, 205044: 1.1983, 221047: 4.6432, 227431: 3.7898, 235406: 4.4829, 242361: 4.8884, 252801: 1.3683}), rawPrediction=DenseVector([46.3538, -46.3538]), probability=DenseVector([1.0, 0.0]), prediction=0.0),\n",
       " Row(spam=u'ham', message=u\"Aight that'll work, thanks\", label=0.0, tokens=[u'aight', u\"that'll\", u'work,', u'thanks'], tf=SparseVector(262144, {15068: 1.0, 46944: 1.0, 49646: 1.0, 221790: 1.0}), idf=SparseVector(262144, {15068: 7.0166, 46944: 5.7357, 49646: 7.5274, 221790: 4.5152}), features=SparseVector(262144, {15068: 7.0166, 46944: 5.7357, 49646: 7.5274, 221790: 4.5152}), rawPrediction=DenseVector([11.6735, -11.6735]), probability=DenseVector([1.0, 0.0]), prediction=0.0),\n",
       " Row(spam=u'ham', message=u'Aight will do, thanks again for comin out', label=0.0, tokens=[u'aight', u'will', u'do,', u'thanks', u'again', u'for', u'comin', u'out'], tf=SparseVector(262144, {16332: 1.0, 46944: 1.0, 89356: 1.0, 96930: 1.0, 127695: 1.0, 140390: 1.0, 147231: 1.0, 221790: 1.0}), idf=SparseVector(262144, {16332: 2.1963, 46944: 5.7357, 89356: 2.7738, 96930: 6.8343, 127695: 6.3235, 140390: 3.2648, 147231: 5.1295, 221790: 4.5152}), features=SparseVector(262144, {16332: 2.1963, 46944: 5.7357, 89356: 2.7738, 96930: 6.8343, 127695: 6.3235, 140390: 3.2648, 147231: 5.1295, 221790: 4.5152}), rawPrediction=DenseVector([17.7771, -17.7771]), probability=DenseVector([1.0, 0.0]), prediction=0.0),\n",
       " Row(spam=u'ham', message=u'Aight, I should be there by 8 at the latest, probably closer to 7. Are jay and tyler down or should we just do two trips?', label=0.0, tokens=[u'aight,', u'i', u'should', u'be', u'there', u'by', u'8', u'at', u'the', u'latest,', u'probably', u'closer', u'to', u'7.', u'are', u'jay', u'and', u'tyler', u'down', u'or', u'should', u'we', u'just', u'do', u'two', u'trips?'], tf=SparseVector(262144, {15664: 1.0, 24417: 1.0, 25217: 1.0, 37470: 1.0, 65800: 1.0, 74262: 1.0, 78315: 1.0, 91677: 1.0, 97171: 1.0, 98962: 1.0, 99585: 2.0, 103838: 1.0, 107800: 1.0, 133143: 1.0, 147489: 1.0, 148921: 1.0, 167122: 1.0, 167152: 1.0, 176964: 1.0, 180535: 1.0, 191887: 1.0, 205044: 1.0, 210752: 1.0, 243898: 1.0, 247107: 1.0}), idf=SparseVector(262144, {15664: 5.2249, 24417: 1.2464, 25217: 4.7548, 37470: 2.8546, 65800: 6.1411, 74262: 7.2398, 78315: 6.5466, 91677: 1.9565, 97171: 2.7483, 98962: 6.1411, 99585: 8.2974, 103838: 1.6868, 107800: 5.8535, 133143: 3.5635, 147489: 2.909, 148921: 5.1603, 167122: 2.5415, 167152: 2.7825, 176964: 2.7045, 180535: 3.8058, 191887: 7.5274, 205044: 1.1983, 210752: 7.5274, 243898: 6.8343, 247107: 2.6548}), features=SparseVector(262144, {15664: 5.2249, 24417: 1.2464, 25217: 4.7548, 37470: 2.8546, 65800: 6.1411, 74262: 7.2398, 78315: 6.5466, 91677: 1.9565, 97171: 2.7483, 98962: 6.1411, 99585: 8.2974, 103838: 1.6868, 107800: 5.8535, 133143: 3.5635, 147489: 2.909, 148921: 5.1603, 167122: 2.5415, 167152: 2.7825, 176964: 2.7045, 180535: 3.8058, 191887: 7.5274, 205044: 1.1983, 210752: 7.5274, 243898: 6.8343, 247107: 2.6548}), rawPrediction=DenseVector([41.9594, -41.9594]), probability=DenseVector([1.0, 0.0]), prediction=0.0),\n",
       " Row(spam=u'ham', message=u\"Aight, I'll hit you up when I get some cash\", label=0.0, tokens=[u'aight,', u\"i'll\", u'hit', u'you', u'up', u'when', u'i', u'get', u'some', u'cash'], tf=SparseVector(262144, {19208: 1.0, 24417: 1.0, 24980: 1.0, 99895: 1.0, 107800: 1.0, 148039: 1.0, 159775: 1.0, 179344: 1.0, 214737: 1.0, 252801: 1.0}), idf=SparseVector(262144, {19208: 3.8554, 24417: 1.2464, 24980: 3.0809, 99895: 2.7511, 107800: 5.8535, 148039: 3.4961, 159775: 4.4517, 179344: 3.0809, 214737: 5.987, 252801: 1.3683}), features=SparseVector(262144, {19208: 3.8554, 24417: 1.2464, 24980: 3.0809, 99895: 2.7511, 107800: 5.8535, 148039: 3.4961, 159775: 4.4517, 179344: 3.0809, 214737: 5.987, 252801: 1.3683}), rawPrediction=DenseVector([20.4132, -20.4132]), probability=DenseVector([1.0, 0.0]), prediction=0.0),\n",
       " Row(spam=u'ham', message=u'Aight, can you text me the address?', label=0.0, tokens=[u'aight,', u'can', u'you', u'text', u'me', u'the', u'address?'], tf=SparseVector(262144, {36073: 1.0, 103838: 1.0, 107800: 1.0, 137841: 1.0, 143985: 1.0, 221047: 1.0, 252801: 1.0}), idf=SparseVector(262144, {36073: 2.7568, 103838: 1.6868, 107800: 5.8535, 137841: 6.6801, 143985: 3.5635, 221047: 2.3216, 252801: 1.3683}), features=SparseVector(262144, {36073: 2.7568, 103838: 1.6868, 107800: 5.8535, 137841: 6.6801, 143985: 3.5635, 221047: 2.3216, 252801: 1.3683}), rawPrediction=DenseVector([20.3442, -20.3442]), probability=DenseVector([1.0, 0.0]), prediction=0.0),\n",
       " Row(spam=u'ham', message=u\"Aight, lemme know what's up\", label=0.0, tokens=[u'aight,', u'lemme', u'know', u\"what's\", u'up'], tf=SparseVector(262144, {107800: 1.0, 140931: 1.0, 167131: 1.0, 179344: 1.0, 208260: 1.0}), idf=SparseVector(262144, {107800: 5.8535, 140931: 3.2416, 167131: 5.4906, 179344: 3.0809, 208260: 6.4288}), features=SparseVector(262144, {107800: 5.8535, 140931: 3.2416, 167131: 5.4906, 179344: 3.0809, 208260: 6.4288}), rawPrediction=DenseVector([20.8656, -20.8656]), probability=DenseVector([1.0, 0.0]), prediction=0.0),\n",
       " Row(spam=u'ham', message=u\"Aight, let me know when you're gonna be around usf\", label=0.0, tokens=[u'aight,', u'let', u'me', u'know', u'when', u\"you're\", u'gonna', u'be', u'around', u'usf'], tf=SparseVector(262144, {24980: 1.0, 38796: 1.0, 39818: 1.0, 64188: 1.0, 78329: 1.0, 107800: 1.0, 140931: 1.0, 167152: 1.0, 204743: 1.0, 221047: 1.0}), idf=SparseVector(262144, {24980: 3.0809, 38796: 4.6942, 39818: 6.4288, 64188: 4.3919, 78329: 4.714, 107800: 5.8535, 140931: 3.2416, 167152: 2.7825, 204743: 4.583, 221047: 2.3216}), features=SparseVector(262144, {24980: 3.0809, 38796: 4.6942, 39818: 6.4288, 64188: 4.3919, 78329: 4.714, 107800: 5.8535, 140931: 3.2416, 167152: 2.7825, 204743: 4.583, 221047: 2.3216}), rawPrediction=DenseVector([23.5218, -23.5218]), probability=DenseVector([1.0, 0.0]), prediction=0.0),\n",
       " Row(spam=u'ham', message=u'Aight, sounds good. When do you want me to come down?', label=0.0, tokens=[u'aight,', u'sounds', u'good.', u'when', u'do', u'you', u'want', u'me', u'to', u'come', u'down?'], tf=SparseVector(262144, {24492: 1.0, 24980: 1.0, 37470: 1.0, 107800: 1.0, 126366: 1.0, 150903: 1.0, 190256: 1.0, 204380: 1.0, 205044: 1.0, 221047: 1.0, 252801: 1.0}), idf=SparseVector(262144, {24492: 7.5274, 24980: 3.0809, 37470: 2.8546, 107800: 5.8535, 126366: 5.7928, 150903: 5.6303, 190256: 3.4499, 204380: 3.2933, 205044: 1.1983, 221047: 2.3216, 252801: 1.3683}), features=SparseVector(262144, {24492: 7.5274, 24980: 3.0809, 37470: 2.8546, 107800: 5.8535, 126366: 5.7928, 150903: 5.6303, 190256: 3.4499, 204380: 3.2933, 205044: 1.1983, 221047: 2.3216, 252801: 1.3683}), rawPrediction=DenseVector([19.9422, -19.9422]), probability=DenseVector([1.0, 0.0]), prediction=0.0),\n",
       " Row(spam=u'ham', message=u\"Aight, text me tonight and we'll see what's up\", label=0.0, tokens=[u'aight,', u'text', u'me', u'tonight', u'and', u\"we'll\", u'see', u\"what's\", u'up'], tf=SparseVector(262144, {91677: 1.0, 93917: 1.0, 107800: 1.0, 143985: 1.0, 167131: 1.0, 179344: 1.0, 215995: 1.0, 221047: 1.0, 249259: 1.0}), idf=SparseVector(262144, {91677: 1.9565, 93917: 5.2938, 107800: 5.8535, 143985: 3.5635, 167131: 5.4906, 179344: 3.0809, 215995: 3.6493, 221047: 2.3216, 249259: 5.5815}), features=SparseVector(262144, {91677: 1.9565, 93917: 5.2938, 107800: 5.8535, 143985: 3.5635, 167131: 5.4906, 179344: 3.0809, 215995: 3.6493, 221047: 2.3216, 249259: 5.5815}), rawPrediction=DenseVector([18.9567, -18.9567]), probability=DenseVector([1.0, 0.0]), prediction=0.0),\n",
       " Row(spam=u'ham', message=u'Aiyah e rain like quite big leh. If drizzling i can at least run home.', label=0.0, tokens=[u'aiyah', u'e', u'rain', u'like', u'quite', u'big', u'leh.', u'if', u'drizzling', u'i', u'can', u'at', u'least', u'run', u'home.'], tf=SparseVector(262144, {17222: 1.0, 24417: 1.0, 25123: 1.0, 30006: 1.0, 36073: 1.0, 55242: 1.0, 67917: 1.0, 84557: 1.0, 107332: 1.0, 124161: 1.0, 132270: 1.0, 165159: 1.0, 176964: 1.0, 193254: 1.0, 208258: 1.0}), idf=SparseVector(262144, {17222: 4.322, 24417: 1.2464, 25123: 7.9329, 30006: 5.1603, 36073: 2.7568, 55242: 2.7883, 67917: 6.6801, 84557: 6.0611, 107332: 5.535, 124161: 6.5466, 132270: 3.6356, 165159: 5.0707, 176964: 2.7045, 193254: 6.5466, 208258: 3.2279}), features=SparseVector(262144, {17222: 4.322, 24417: 1.2464, 25123: 7.9329, 30006: 5.1603, 36073: 2.7568, 55242: 2.7883, 67917: 6.6801, 84557: 6.0611, 107332: 5.535, 124161: 6.5466, 132270: 3.6356, 165159: 5.0707, 176964: 2.7045, 193254: 6.5466, 208258: 3.2279}), rawPrediction=DenseVector([26.3002, -26.3002]), probability=DenseVector([1.0, 0.0]), prediction=0.0)]"
      ]
     },
     "execution_count": 10,
     "metadata": {},
     "output_type": "execute_result"
    }
   ],
   "source": [
    "predictions.head(50)"
   ]
  },
  {
   "cell_type": "code",
   "execution_count": 22,
   "metadata": {},
   "outputs": [
    {
     "name": "stdout",
     "output_type": "stream",
     "text": [
      "+----+-------------------------------------------+----------+-----+\n",
      "|spam|probability                                |prediction|label|\n",
      "+----+-------------------------------------------+----------+-----+\n",
      "|ham |[0.9999999999999993,5.893336188403968E-16] |0.0       |0.0  |\n",
      "|ham |[0.9999999999987219,1.278068203353027E-12] |0.0       |0.0  |\n",
      "|ham |[1.0,4.158197333982635E-24]                |0.0       |0.0  |\n",
      "|ham |[0.9999999999698668,3.013324135712556E-11] |0.0       |0.0  |\n",
      "|ham |[0.9999998977488163,1.022511836279667E-7]  |0.0       |0.0  |\n",
      "|ham |[0.9999999999954396,4.560253881374639E-12] |0.0       |0.0  |\n",
      "|ham |[0.9999999998690658,1.3093417959804142E-10]|0.0       |0.0  |\n",
      "|ham |[1.0,1.6841575527438628E-33]               |0.0       |0.0  |\n",
      "|ham |[0.9999998607896353,1.392103646489647E-7]  |0.0       |0.0  |\n",
      "|ham |[1.0,5.908301262149189E-17]                |0.0       |0.0  |\n",
      "|ham |[0.9999975171362772,2.48286372273592E-6]   |0.0       |0.0  |\n",
      "|ham |[1.0,3.9952354694499075E-21]               |0.0       |0.0  |\n",
      "|ham |[0.9999985982200105,1.401779989469592E-6]  |0.0       |0.0  |\n",
      "|ham |[0.9999991255835067,8.744164933689168E-7]  |0.0       |0.0  |\n",
      "|ham |[0.9999999999999876,1.2505000369260157E-14]|0.0       |0.0  |\n",
      "|ham |[0.9998568379242373,1.4316207576268978E-4] |0.0       |0.0  |\n",
      "|ham |[0.9999494873275375,5.0512672462598796E-5] |0.0       |0.0  |\n",
      "|ham |[0.9975311111401606,0.0024688888598393415] |0.0       |0.0  |\n",
      "|ham |[0.9999999999901352,9.864767288010514E-12] |0.0       |0.0  |\n",
      "|ham |[0.9999999999121714,8.782853755489502E-11] |0.0       |0.0  |\n",
      "+----+-------------------------------------------+----------+-----+\n",
      "only showing top 20 rows\n",
      "\n"
     ]
    },
    {
     "data": {
      "text/plain": [
       "'Test error: 0.118865616878'"
      ]
     },
     "execution_count": 22,
     "metadata": {},
     "output_type": "execute_result"
    }
   ],
   "source": [
    "predict = lrModel.transform(test_data)\n",
    "predict.select(\"spam\", \"probability\", \"prediction\", \"label\").show(truncate=False)\n",
    "\n",
    "from pyspark.ml.evaluation import BinaryClassificationEvaluator\n",
    "evaluator = BinaryClassificationEvaluator().setRawPredictionCol(\"prediction\")\n",
    "accuracy = evaluator.evaluate(predict)\n",
    "\n",
    "\"Test error: {}\".format(1.0 - accuracy)\n"
   ]
  },
  {
   "cell_type": "code",
   "execution_count": 23,
   "metadata": {},
   "outputs": [
    {
     "data": {
      "text/plain": [
       "<pyspark.ml.classification.BinaryLogisticRegressionTrainingSummary at 0x31a6790>"
      ]
     },
     "execution_count": 23,
     "metadata": {},
     "output_type": "execute_result"
    }
   ],
   "source": [
    "summary = lrModel.summary\n",
    "summary"
   ]
  },
  {
   "cell_type": "code",
   "execution_count": 25,
   "metadata": {},
   "outputs": [
    {
     "name": "stdout",
     "output_type": "stream",
     "text": [
      "('ROC', 0.9998856660095748)\n",
      "('vars:', DataFrame[FPR: double, TPR: double])\n",
      "('vars:', DataFrame[recall: double, precision: double])\n"
     ]
    }
   ],
   "source": [
    "print(\"ROC\",summary.areaUnderROC)\n",
    "print(\"vars:\",summary.roc)"
   ]
  },
  {
   "cell_type": "code",
   "execution_count": 26,
   "metadata": {},
   "outputs": [],
   "source": [
    "spark.stop()"
   ]
  },
  {
   "cell_type": "code",
   "execution_count": null,
   "metadata": {},
   "outputs": [],
   "source": []
  }
 ],
 "metadata": {
  "kernelspec": {
   "display_name": "Python 2",
   "language": "python",
   "name": "python2"
  },
  "language_info": {
   "codemirror_mode": {
    "name": "ipython",
    "version": 2
   },
   "file_extension": ".py",
   "mimetype": "text/x-python",
   "name": "python",
   "nbconvert_exporter": "python",
   "pygments_lexer": "ipython2",
   "version": "2.7.15"
  }
 },
 "nbformat": 4,
 "nbformat_minor": 2
}
