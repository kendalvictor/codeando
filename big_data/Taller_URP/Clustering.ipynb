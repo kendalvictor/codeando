{
 "cells": [
  {
   "cell_type": "code",
   "execution_count": 42,
   "metadata": {
    "collapsed": true
   },
   "outputs": [],
   "source": [
    "import findspark\n",
    "findspark.init('/opt/cloudera/parcels/SPARK2-2.3.0.cloudera3-1.cdh5.13.3.p0.458809/lib/spark2')\n",
    "import pyspark\n"
   ]
  },
  {
   "cell_type": "code",
   "execution_count": 43,
   "metadata": {
    "collapsed": true
   },
   "outputs": [],
   "source": [
    "from pyspark.sql import SparkSession\n",
    "spark = SparkSession.builder.appName('kmeansEder').getOrCreate()"
   ]
  },
  {
   "cell_type": "code",
   "execution_count": 44,
   "metadata": {
    "collapsed": true
   },
   "outputs": [],
   "source": [
    "from pyspark.ml.linalg import Vectors\n",
    "from pyspark.ml.feature import VectorAssembler\n",
    "import pandas as pd\n",
    "%matplotlib inline \n",
    "import matplotlib.pyplot as plt, numpy as np"
   ]
  },
  {
   "cell_type": "code",
   "execution_count": 47,
   "metadata": {
    "collapsed": false
   },
   "outputs": [
    {
     "name": "stdout",
     "output_type": "stream",
     "text": [
      "+--------+--------------------+-----------+\n",
      "|database|           tableName|isTemporary|\n",
      "+--------+--------------------+-----------+\n",
      "| default|     personas_reniec|      false|\n",
      "| default|personas_reniec_j...|      false|\n",
      "| default|personas_reniec_msar|      false|\n",
      "| default|personas_reniec_part|      false|\n",
      "| default|       piloto_ventas|      false|\n",
      "| default|      piloto_ventas1|      false|\n",
      "| default|      piloto_ventas2|      false|\n",
      "| default|piloto_ventas_jhosep|      false|\n",
      "| default| piloto_ventas_jonap|      false|\n",
      "| default|piloto_ventas_victor|      false|\n",
      "| default|  piloto_ventas_yhap|      false|\n",
      "| default|           tmp_table|      false|\n",
      "+--------+--------------------+-----------+\n",
      "\n"
     ]
    }
   ],
   "source": [
    "spark.sql(\"show tables\").show()"
   ]
  },
  {
   "cell_type": "code",
   "execution_count": 48,
   "metadata": {
    "collapsed": false
   },
   "outputs": [
    {
     "name": "stdout",
     "output_type": "stream",
     "text": [
      "+--------+--------------------+-----------+\n",
      "|database|           tableName|isTemporary|\n",
      "+--------+--------------------+-----------+\n",
      "|dnarvaez|     personas_reniec|      false|\n",
      "|dnarvaez|       piloto_ventas|      false|\n",
      "|dnarvaez|piloto_ventas_par...|      false|\n",
      "|dnarvaez|piloto_ventas_par...|      false|\n",
      "|dnarvaez|      stg_formato_01|      false|\n",
      "|dnarvaez| stg_formato_01_hist|      false|\n",
      "|dnarvaez|stg_formato_01_hi...|      false|\n",
      "+--------+--------------------+-----------+\n",
      "\n"
     ]
    }
   ],
   "source": [
    "spark.sql(\"show tables from dnarvaez\").show()"
   ]
  },
  {
   "cell_type": "code",
   "execution_count": 30,
   "metadata": {
    "collapsed": true
   },
   "outputs": [],
   "source": [
    "df1=spark.sql(\"select * from default.personas_reniec\")"
   ]
  },
  {
   "cell_type": "code",
   "execution_count": 32,
   "metadata": {
    "collapsed": true
   },
   "outputs": [],
   "source": [
    "#df1.head(2)"
   ]
  },
  {
   "cell_type": "code",
   "execution_count": 49,
   "metadata": {
    "collapsed": false
   },
   "outputs": [
    {
     "name": "stdout",
     "output_type": "stream",
     "text": [
      "root\n",
      " |-- model: string (nullable = true)\n",
      " |-- mpg: double (nullable = true)\n",
      " |-- cyl: integer (nullable = true)\n",
      " |-- disp: double (nullable = true)\n",
      " |-- hp: integer (nullable = true)\n",
      " |-- drat: double (nullable = true)\n",
      " |-- wt: double (nullable = true)\n",
      " |-- qsec: double (nullable = true)\n",
      " |-- vs: integer (nullable = true)\n",
      " |-- am: integer (nullable = true)\n",
      " |-- gear: integer (nullable = true)\n",
      " |-- carb: integer (nullable = true)\n",
      "\n",
      "+-------------------+----+---+-----+---+----+-----+-----+---+---+----+----+\n",
      "|              model| mpg|cyl| disp| hp|drat|   wt| qsec| vs| am|gear|carb|\n",
      "+-------------------+----+---+-----+---+----+-----+-----+---+---+----+----+\n",
      "|          Mazda RX4|21.0|  6|160.0|110| 3.9| 2.62|16.46|  0|  1|   4|   4|\n",
      "|      Mazda RX4 Wag|21.0|  6|160.0|110| 3.9|2.875|17.02|  0|  1|   4|   4|\n",
      "|         Datsun 710|22.8|  4|108.0| 93|3.85| 2.32|18.61|  1|  1|   4|   1|\n",
      "|     Hornet 4 Drive|21.4|  6|258.0|110|3.08|3.215|19.44|  1|  0|   3|   1|\n",
      "|  Hornet Sportabout|18.7|  8|360.0|175|3.15| 3.44|17.02|  0|  0|   3|   2|\n",
      "|            Valiant|18.1|  6|225.0|105|2.76| 3.46|20.22|  1|  0|   3|   1|\n",
      "|         Duster 360|14.3|  8|360.0|245|3.21| 3.57|15.84|  0|  0|   3|   4|\n",
      "|          Merc 240D|24.4|  4|146.7| 62|3.69| 3.19| 20.0|  1|  0|   4|   2|\n",
      "|           Merc 230|22.8|  4|140.8| 95|3.92| 3.15| 22.9|  1|  0|   4|   2|\n",
      "|           Merc 280|19.2|  6|167.6|123|3.92| 3.44| 18.3|  1|  0|   4|   4|\n",
      "|          Merc 280C|17.8|  6|167.6|123|3.92| 3.44| 18.9|  1|  0|   4|   4|\n",
      "|         Merc 450SE|16.4|  8|275.8|180|3.07| 4.07| 17.4|  0|  0|   3|   3|\n",
      "|         Merc 450SL|17.3|  8|275.8|180|3.07| 3.73| 17.6|  0|  0|   3|   3|\n",
      "|        Merc 450SLC|15.2|  8|275.8|180|3.07| 3.78| 18.0|  0|  0|   3|   3|\n",
      "| Cadillac Fleetwood|10.4|  8|472.0|205|2.93| 5.25|17.98|  0|  0|   3|   4|\n",
      "|Lincoln Continental|10.4|  8|460.0|215| 3.0|5.424|17.82|  0|  0|   3|   4|\n",
      "|  Chrysler Imperial|14.7|  8|440.0|230|3.23|5.345|17.42|  0|  0|   3|   4|\n",
      "|           Fiat 128|32.4|  4| 78.7| 66|4.08|  2.2|19.47|  1|  1|   4|   1|\n",
      "|        Honda Civic|30.4|  4| 75.7| 52|4.93|1.615|18.52|  1|  1|   4|   2|\n",
      "|     Toyota Corolla|33.9|  4| 71.1| 65|4.22|1.835| 19.9|  1|  1|   4|   1|\n",
      "+-------------------+----+---+-----+---+----+-----+-----+---+---+----+----+\n",
      "only showing top 20 rows\n",
      "\n"
     ]
    }
   ],
   "source": [
    "ds = spark.read.csv(\"/user/epinedac/datasets/mtcars\", header=True, nullValue=\"?\", inferSchema=True)\n",
    "ds.printSchema()\n",
    "ds.count()\n",
    "ds.show()"
   ]
  },
  {
   "cell_type": "code",
   "execution_count": 50,
   "metadata": {
    "collapsed": false
   },
   "outputs": [
    {
     "data": {
      "text/plain": [
       "<matplotlib.axes._subplots.AxesSubplot at 0x7f3c1ec93cd0>"
      ]
     },
     "execution_count": 50,
     "metadata": {},
     "output_type": "execute_result"
    },
    {
     "data": {
      "image/png": "[encoded data removed]",
      "text/plain": [
       "<Figure size 432x288 with 2 Axes>"
      ]
     },
     "metadata": {},
     "output_type": "display_data"
    }
   ],
   "source": [
    "\n",
    "cluster_pd_df = ds.toPandas()\n",
    "import seaborn as sns\n",
    "\n",
    "spearman_corr = cluster_pd_df.corr(method='spearman')\n",
    "sns.heatmap(spearman_corr, annot=True, fmt=\".2f\")\n"
   ]
  },
  {
   "cell_type": "code",
   "execution_count": 51,
   "metadata": {
    "collapsed": false
   },
   "outputs": [
    {
     "name": "stdout",
     "output_type": "stream",
     "text": [
      "+-------------------+----+---+-----+---+----+-----+-----+---+---+----+----+--------------------+--------------------+\n",
      "|              model| mpg|cyl| disp| hp|drat|   wt| qsec| vs| am|gear|carb|            features|     scaled_features|\n",
      "+-------------------+----+---+-----+---+----+-----+-----+---+---+----+----+--------------------+--------------------+\n",
      "|          Mazda RX4|21.0|  6|160.0|110| 3.9| 2.62|16.46|  0|  1|   4|   4|[21.0,6.0,160.0,3...|[0.15088482464765...|\n",
      "|      Mazda RX4 Wag|21.0|  6|160.0|110| 3.9|2.875|17.02|  0|  1|   4|   4|[21.0,6.0,160.0,3...|[0.15088482464765...|\n",
      "|         Datsun 710|22.8|  4|108.0| 93|3.85| 2.32|18.61|  1|  1|   4|   1|[22.8,4.0,108.0,3...|[0.44954344663064...|\n",
      "|     Hornet 4 Drive|21.4|  6|258.0|110|3.08|3.215|19.44|  1|  0|   3|   1|[21.4,6.0,258.0,3...|[0.21725340731054...|\n",
      "|  Hornet Sportabout|18.7|  8|360.0|175|3.15| 3.44|17.02|  0|  0|   3|   2|[18.7,8.0,360.0,3...|[-0.2307345256639...|\n",
      "|            Valiant|18.1|  6|225.0|105|2.76| 3.46|20.22|  1|  0|   3|   1|[18.1,6.0,225.0,2...|[-0.3302873996582...|\n",
      "|         Duster 360|14.3|  8|360.0|245|3.21| 3.57|15.84|  0|  0|   3|   4|[14.3,8.0,360.0,3...|[-0.9607889349556...|\n",
      "|          Merc 240D|24.4|  4|146.7| 62|3.69| 3.19| 20.0|  1|  0|   4|   2|[24.4,4.0,146.7,3...|[0.71501777728219...|\n",
      "|           Merc 230|22.8|  4|140.8| 95|3.92| 3.15| 22.9|  1|  0|   4|   2|[22.8,4.0,140.8,3...|[0.44954344663064...|\n",
      "|           Merc 280|19.2|  6|167.6|123|3.92| 3.44| 18.3|  1|  0|   4|   4|[19.2,6.0,167.6,3...|[-0.1477737973353...|\n",
      "|          Merc 280C|17.8|  6|167.6|123|3.92| 3.44| 18.9|  1|  0|   4|   4|[17.8,6.0,167.6,3...|[-0.3800638366554...|\n",
      "|         Merc 450SE|16.4|  8|275.8|180|3.07| 4.07| 17.4|  0|  0|   3|   3|[16.4,8.0,275.8,3...|[-0.6123538759755...|\n",
      "|         Merc 450SL|17.3|  8|275.8|180|3.07| 3.73| 17.6|  0|  0|   3|   3|[17.3,8.0,275.8,3...|[-0.4630245649840...|\n",
      "|        Merc 450SLC|15.2|  8|275.8|180|3.07| 3.78| 18.0|  0|  0|   3|   3|[15.2,8.0,275.8,3...|[-0.8114596239642...|\n",
      "| Cadillac Fleetwood|10.4|  8|472.0|205|2.93| 5.25|17.98|  0|  0|   3|   4|[10.4,8.0,472.0,2...|[-1.6078826159188...|\n",
      "|Lincoln Continental|10.4|  8|460.0|215| 3.0|5.424|17.82|  0|  0|   3|   4|[10.4,8.0,460.0,3...|[-1.6078826159188...|\n",
      "|  Chrysler Imperial|14.7|  8|440.0|230|3.23|5.345|17.42|  0|  0|   3|   4|[14.7,8.0,440.0,3...|[-0.8944203522928...|\n",
      "|           Fiat 128|32.4|  4| 78.7| 66|4.08|  2.2|19.47|  1|  1|   4|   1|[32.4,4.0,78.7,4....|[2.04238943053992...|\n",
      "|        Honda Civic|30.4|  4| 75.7| 52|4.93|1.615|18.52|  1|  1|   4|   2|[30.4,4.0,75.7,4....|[1.71054651722549...|\n",
      "|     Toyota Corolla|33.9|  4| 71.1| 65|4.22|1.835| 19.9|  1|  1|   4|   1|[33.9,4.0,71.1,4....|[2.29127161552575...|\n",
      "+-------------------+----+---+-----+---+----+-----+-----+---+---+----+----+--------------------+--------------------+\n",
      "only showing top 20 rows\n",
      "\n"
     ]
    }
   ],
   "source": [
    "assembler = VectorAssembler(inputCols=[\"mpg\", \"cyl\", \"disp\", \"drat\", \"wt\"], outputCol=\"features\")\n",
    "assem_data = assembler.transform(ds)\n",
    "\n",
    "from pyspark.ml.feature import StandardScaler\n",
    "\n",
    "scaler = StandardScaler(inputCol=\"features\", outputCol=\"scaled_features\", withStd=True, withMean=True)\n",
    "scaler_model = scaler.fit(assem_data)\n",
    "scaled_data = scaler_model.transform(assem_data)\n",
    "scaled_data.show()\n"
   ]
  },
  {
   "cell_type": "code",
   "execution_count": 52,
   "metadata": {
    "collapsed": true
   },
   "outputs": [],
   "source": [
    "import numpy as np\n",
    "import pandas as pd\n",
    "from pyspark.ml.clustering import KMeans\n",
    "\n",
    "cost = np.zeros(20)\n",
    "for k in range(2,20):\n",
    "    kmeans = KMeans().setK(k).setSeed(1).setFeaturesCol(\"features\")\n",
    "    model = kmeans.fit(scaled_data.sample(False,0.5, seed=42))\n",
    "    cost[k] = model.computeCost(scaled_data) # requires Spark 2.0 or later\n",
    "\n"
   ]
  },
  {
   "cell_type": "code",
   "execution_count": 37,
   "metadata": {
    "collapsed": false
   },
   "outputs": [
    {
     "data": {
      "text/plain": [
       "array([     0.        ,      0.        , 103714.73805267,  56407.4186061 ,\n",
       "        31702.35275389,  27019.88076611,  10722.62496638,   8039.38127044,\n",
       "         6379.79209249,   5124.07435656,   5004.42143211,   4905.411671  ,\n",
       "         4894.893996  ,   4546.86526   ,   4537.17501   ,   4476.81135   ,\n",
       "         4464.646775  ,   4464.646775  ,   4457.831475  ,   4457.831475  ])"
      ]
     },
     "execution_count": 37,
     "metadata": {},
     "output_type": "execute_result"
    }
   ],
   "source": [
    "cost"
   ]
  },
  {
   "cell_type": "code",
   "execution_count": 38,
   "metadata": {
    "collapsed": false
   },
   "outputs": [
    {
     "name": "stdout",
     "output_type": "stream",
     "text": [
      "Help on method computeCost in module pyspark.ml.clustering:\n",
      "\n",
      "computeCost(self, dataset) method of pyspark.ml.clustering.KMeansModel instance\n",
      "    Return the K-means cost (sum of squared distances of points to their nearest center)\n",
      "    for this model on the given data.\n",
      "    \n",
      "    .. versionadded:: 2.0.0\n",
      "\n"
     ]
    }
   ],
   "source": [
    "help(model.computeCost)"
   ]
  },
  {
   "cell_type": "code",
   "execution_count": 39,
   "metadata": {
    "collapsed": false
   },
   "outputs": [
    {
     "data": {
      "text/plain": [
       "array([103714.73805267,  56407.4186061 ,  31702.35275389,  27019.88076611,\n",
       "        10722.62496638,   8039.38127044,   6379.79209249,   5124.07435656,\n",
       "         5004.42143211,   4905.411671  ,   4894.893996  ,   4546.86526   ,\n",
       "         4537.17501   ,   4476.81135   ,   4464.646775  ,   4464.646775  ,\n",
       "         4457.831475  ,   4457.831475  ])"
      ]
     },
     "execution_count": 39,
     "metadata": {},
     "output_type": "execute_result"
    }
   ],
   "source": [
    "cost[2:20]"
   ]
  },
  {
   "cell_type": "code",
   "execution_count": 37,
   "metadata": {
    "collapsed": false
   },
   "outputs": [
    {
     "data": {
      "text/plain": [
       "Text(0,0.5,'cost')"
      ]
     },
     "execution_count": 37,
     "metadata": {},
     "output_type": "execute_result"
    },
    {
     "data": {
      "image/png": "[encoded data removed]",
      "text/plain": [
       "<Figure size 1008x432 with 1 Axes>"
      ]
     },
     "metadata": {},
     "output_type": "display_data"
    }
   ],
   "source": [
    "fig, ax = plt.subplots(1,1, figsize =(14,6))\n",
    "ax.plot(range(2,20),cost[2:20])\n",
    "ax.set_xlabel('k')\n",
    "ax.set_ylabel('cost')"
   ]
  },
  {
   "cell_type": "code",
   "execution_count": 38,
   "metadata": {
    "collapsed": true
   },
   "outputs": [],
   "source": [
    "clusters = 5\n",
    "\n",
    "from pyspark.ml.clustering import KMeans\n",
    "\n",
    "## Puedes utiliizar también métodos para pasar los hiper-parámetros\n",
    "kmeans = KMeans()\\\n",
    "         .setK(clusters)\\\n",
    "         .setMaxIter(1000)\\\n",
    "         .setFeaturesCol(\"scaled_features\")\\\n",
    "         .setPredictionCol(\"cluster\")\n",
    "\n",
    "model = kmeans.fit(scaled_data)\n",
    "## Calculamos la distancia de los puntos a su centro más cercano\n",
    "## Entre más pequeño\n",
    "wssse = model.computeCost(scaled_data)\n",
    "\n",
    "predict = model.transform(scaled_data)\n",
    "df_pandas=predict.toPandas()\n"
   ]
  },
  {
   "cell_type": "code",
   "execution_count": 39,
   "metadata": {
    "collapsed": false
   },
   "outputs": [
    {
     "data": {
      "text/plain": [
       "<matplotlib.colorbar.Colorbar at 0x7f3c1ec75190>"
      ]
     },
     "execution_count": 39,
     "metadata": {},
     "output_type": "execute_result"
    },
    {
     "data": {
      "image/png": "[encoded data removed]",
      "text/plain": [
       "<Figure size 432x288 with 2 Axes>"
      ]
     },
     "metadata": {},
     "output_type": "display_data"
    }
   ],
   "source": [
    "wh1 = df_pandas.loc[:,['disp', 'wt']]\n",
    "\n",
    "fig = plt.figure()\n",
    "ax = fig.add_subplot(111)\n",
    "scatter = ax.scatter(wh1['disp'],wh1['wt'],\n",
    "                     c=df_pandas['cluster'],s=50)\n",
    "ax.set_title('K-Means Clustering')\n",
    "ax.set_xlabel('rbasica')\n",
    "ax.set_ylabel('tvidam')\n",
    "plt.colorbar(scatter)"
   ]
  },
  {
   "cell_type": "code",
   "execution_count": 42,
   "metadata": {
    "collapsed": false
   },
   "outputs": [
    {
     "name": "stdout",
     "output_type": "stream",
     "text": [
      "+-----------------+----+---+-----+---+----+-----+-----+---+---+----+----+--------------------+--------------------+-------+\n",
      "|            model| mpg|cyl| disp| hp|drat|   wt| qsec| vs| am|gear|carb|            features|     scaled_features|cluster|\n",
      "+-----------------+----+---+-----+---+----+-----+-----+---+---+----+----+--------------------+--------------------+-------+\n",
      "|        Mazda RX4|21.0|  6|160.0|110| 3.9| 2.62|16.46|  0|  1|   4|   4|[21.0,6.0,160.0,3...|[0.15088482464765...|      2|\n",
      "|    Mazda RX4 Wag|21.0|  6|160.0|110| 3.9|2.875|17.02|  0|  1|   4|   4|[21.0,6.0,160.0,3...|[0.15088482464765...|      2|\n",
      "|       Datsun 710|22.8|  4|108.0| 93|3.85| 2.32|18.61|  1|  1|   4|   1|[22.8,4.0,108.0,3...|[0.44954344663064...|      3|\n",
      "|   Hornet 4 Drive|21.4|  6|258.0|110|3.08|3.215|19.44|  1|  0|   3|   1|[21.4,6.0,258.0,3...|[0.21725340731054...|      0|\n",
      "|Hornet Sportabout|18.7|  8|360.0|175|3.15| 3.44|17.02|  0|  0|   3|   2|[18.7,8.0,360.0,3...|[-0.2307345256639...|      4|\n",
      "|          Valiant|18.1|  6|225.0|105|2.76| 3.46|20.22|  1|  0|   3|   1|[18.1,6.0,225.0,2...|[-0.3302873996582...|      0|\n",
      "|       Duster 360|14.3|  8|360.0|245|3.21| 3.57|15.84|  0|  0|   3|   4|[14.3,8.0,360.0,3...|[-0.9607889349556...|      4|\n",
      "|        Merc 240D|24.4|  4|146.7| 62|3.69| 3.19| 20.0|  1|  0|   4|   2|[24.4,4.0,146.7,3...|[0.71501777728219...|      3|\n",
      "|         Merc 230|22.8|  4|140.8| 95|3.92| 3.15| 22.9|  1|  0|   4|   2|[22.8,4.0,140.8,3...|[0.44954344663064...|      3|\n",
      "|         Merc 280|19.2|  6|167.6|123|3.92| 3.44| 18.3|  1|  0|   4|   4|[19.2,6.0,167.6,3...|[-0.1477737973353...|      2|\n",
      "+-----------------+----+---+-----+---+----+-----+-----+---+---+----+----+--------------------+--------------------+-------+\n",
      "only showing top 10 rows\n",
      "\n"
     ]
    }
   ],
   "source": [
    "predict.show(10)"
   ]
  },
  {
   "cell_type": "code",
   "execution_count": 40,
   "metadata": {
    "collapsed": false
   },
   "outputs": [
    {
     "name": "stdout",
     "output_type": "stream",
     "text": [
      "+-------+-----+\n",
      "|cluster|count|\n",
      "+-------+-----+\n",
      "|      1|    3|\n",
      "|      3|   11|\n",
      "|      4|   10|\n",
      "|      2|    6|\n",
      "|      0|    2|\n",
      "+-------+-----+\n",
      "\n"
     ]
    }
   ],
   "source": [
    "predict.groupBy('cluster').count().show()"
   ]
  },
  {
   "cell_type": "code",
   "execution_count": 41,
   "metadata": {
    "collapsed": false
   },
   "outputs": [
    {
     "name": "stdout",
     "output_type": "stream",
     "text": [
      "cluster 0\n",
      "Row(features=DenseVector([21.4, 6.0, 258.0, 3.08, 3.215]), cluster=0)\n",
      "Row(features=DenseVector([18.1, 6.0, 225.0, 2.76, 3.46]), cluster=0)\n",
      "===========================================================================\n",
      "cluster 1\n",
      "Row(features=DenseVector([10.4, 8.0, 472.0, 2.93, 5.25]), cluster=1)\n",
      "Row(features=DenseVector([10.4, 8.0, 460.0, 3.0, 5.424]), cluster=1)\n",
      "Row(features=DenseVector([14.7, 8.0, 440.0, 3.23, 5.345]), cluster=1)\n",
      "===========================================================================\n",
      "cluster 2\n",
      "Row(features=DenseVector([21.0, 6.0, 160.0, 3.9, 2.62]), cluster=2)\n",
      "Row(features=DenseVector([21.0, 6.0, 160.0, 3.9, 2.875]), cluster=2)\n",
      "Row(features=DenseVector([19.2, 6.0, 167.6, 3.92, 3.44]), cluster=2)\n",
      "Row(features=DenseVector([17.8, 6.0, 167.6, 3.92, 3.44]), cluster=2)\n",
      "Row(features=DenseVector([15.8, 8.0, 351.0, 4.22, 3.17]), cluster=2)\n",
      "Row(features=DenseVector([19.7, 6.0, 145.0, 3.62, 2.77]), cluster=2)\n",
      "===========================================================================\n",
      "cluster 3\n",
      "Row(features=DenseVector([22.8, 4.0, 108.0, 3.85, 2.32]), cluster=3)\n",
      "Row(features=DenseVector([24.4, 4.0, 146.7, 3.69, 3.19]), cluster=3)\n",
      "Row(features=DenseVector([22.8, 4.0, 140.8, 3.92, 3.15]), cluster=3)\n",
      "Row(features=DenseVector([32.4, 4.0, 78.7, 4.08, 2.2]), cluster=3)\n",
      "Row(features=DenseVector([30.4, 4.0, 75.7, 4.93, 1.615]), cluster=3)\n",
      "Row(features=DenseVector([33.9, 4.0, 71.1, 4.22, 1.835]), cluster=3)\n",
      "Row(features=DenseVector([21.5, 4.0, 120.1, 3.7, 2.465]), cluster=3)\n",
      "Row(features=DenseVector([27.3, 4.0, 79.0, 4.08, 1.935]), cluster=3)\n",
      "Row(features=DenseVector([26.0, 4.0, 120.3, 4.43, 2.14]), cluster=3)\n",
      "Row(features=DenseVector([30.4, 4.0, 95.1, 3.77, 1.513]), cluster=3)\n",
      "Row(features=DenseVector([21.4, 4.0, 121.0, 4.11, 2.78]), cluster=3)\n",
      "===========================================================================\n",
      "cluster 4\n",
      "Row(features=DenseVector([18.7, 8.0, 360.0, 3.15, 3.44]), cluster=4)\n",
      "Row(features=DenseVector([14.3, 8.0, 360.0, 3.21, 3.57]), cluster=4)\n",
      "Row(features=DenseVector([16.4, 8.0, 275.8, 3.07, 4.07]), cluster=4)\n",
      "Row(features=DenseVector([17.3, 8.0, 275.8, 3.07, 3.73]), cluster=4)\n",
      "Row(features=DenseVector([15.2, 8.0, 275.8, 3.07, 3.78]), cluster=4)\n",
      "Row(features=DenseVector([15.5, 8.0, 318.0, 2.76, 3.52]), cluster=4)\n",
      "Row(features=DenseVector([15.2, 8.0, 304.0, 3.15, 3.435]), cluster=4)\n",
      "Row(features=DenseVector([13.3, 8.0, 350.0, 3.73, 3.84]), cluster=4)\n",
      "Row(features=DenseVector([19.2, 8.0, 400.0, 3.08, 3.845]), cluster=4)\n",
      "Row(features=DenseVector([15.0, 8.0, 301.0, 3.54, 3.57]), cluster=4)\n",
      "===========================================================================\n"
     ]
    }
   ],
   "source": [
    "from pyspark.sql.functions import col\n",
    "\n",
    "for i in range(clusters):\n",
    "    predictionPerCol = predict.filter(col(\"cluster\") == i)\n",
    "    print(\"cluster {}\".format(i))\n",
    "    for c in predictionPerCol.select(col(\"features\"), col(\"cluster\")).collect():\n",
    "        print(c)\n",
    "    print(\"=\"*75)\n"
   ]
  },
  {
   "cell_type": "code",
   "execution_count": 53,
   "metadata": {
    "collapsed": true
   },
   "outputs": [],
   "source": [
    "spark.stop()"
   ]
  },
  {
   "cell_type": "code",
   "execution_count": 31,
   "metadata": {
    "collapsed": true
   },
   "outputs": [],
   "source": [
    "data_tp=predict.toPandas()"
   ]
  },
  {
   "cell_type": "code",
   "execution_count": 32,
   "metadata": {
    "collapsed": false
   },
   "outputs": [
    {
     "data": {
      "text/plain": [
       "<matplotlib.axes._subplots.AxesSubplot at 0x8301ed0>"
      ]
     },
     "execution_count": 32,
     "metadata": {},
     "output_type": "execute_result"
    },
    {
     "data": {
      "image/png": "[encoded data removed]",
      "text/plain": [
       "<Figure size 432x288 with 2 Axes>"
      ]
     },
     "metadata": {},
     "output_type": "display_data"
    }
   ],
   "source": [
    "import seaborn as sns\n",
    "\n",
    "wh1 = data_tp[['mpg', 'cyl', 'disp', 'drat', 'wt']] \n",
    "cor = wh1.corr() #Calculate the correlation of the above variables\n",
    "sns.heatmap(cor, square = True) #Plot the correlation as heat map\n"
   ]
  },
  {
   "cell_type": "code",
   "execution_count": 57,
   "metadata": {
    "collapsed": false
   },
   "outputs": [
    {
     "data": {
      "text/plain": [
       "Index([u'model', u'mpg', u'cyl', u'disp', u'hp', u'drat', u'wt', u'qsec',\n",
       "       u'vs', u'am', u'gear', u'carb', u'features', u'scaled_features',\n",
       "       u'prediction'],\n",
       "      dtype='object')"
      ]
     },
     "execution_count": 57,
     "metadata": {},
     "output_type": "execute_result"
    }
   ],
   "source": [
    "data_tp.columns"
   ]
  },
  {
   "cell_type": "code",
   "execution_count": 60,
   "metadata": {
    "collapsed": false
   },
   "outputs": [
    {
     "data": {
      "text/plain": [
       "0     4\n",
       "1     4\n",
       "2     4\n",
       "3     0\n",
       "4     0\n",
       "5     0\n",
       "6     0\n",
       "7     4\n",
       "8     4\n",
       "9     4\n",
       "10    4\n",
       "11    0\n",
       "12    0\n",
       "13    0\n",
       "14    1\n",
       "15    1\n",
       "16    1\n",
       "17    2\n",
       "18    5\n",
       "19    2\n",
       "20    4\n",
       "21    0\n",
       "22    0\n",
       "23    3\n",
       "24    0\n",
       "25    2\n",
       "26    2\n",
       "27    2\n",
       "28    3\n",
       "29    4\n",
       "30    3\n",
       "31    4\n",
       "Name: prediction, dtype: int64"
      ]
     },
     "execution_count": 60,
     "metadata": {},
     "output_type": "execute_result"
    }
   ],
   "source": [
    "data_tp['prediction']"
   ]
  },
  {
   "cell_type": "code",
   "execution_count": 33,
   "metadata": {
    "collapsed": false
   },
   "outputs": [
    {
     "data": {
      "text/plain": [
       "<matplotlib.colorbar.Colorbar at 0x7dfd750>"
      ]
     },
     "execution_count": 33,
     "metadata": {},
     "output_type": "execute_result"
    },
    {
     "data": {
      "image/png": "[encoded data removed]",
      "text/plain": [
       "<Figure size 432x288 with 2 Axes>"
      ]
     },
     "metadata": {},
     "output_type": "display_data"
    }
   ],
   "source": [
    "fig = plt.figure()\n",
    "ax = fig.add_subplot(111)\n",
    "scatter = ax.scatter(wh1['disp'],wh1['wt'],\n",
    "                     c=data_tp['prediction'],s=50)\n",
    "ax.set_title('K-Means Clustering')\n",
    "ax.set_xlabel('disp')\n",
    "ax.set_ylabel('cyl')\n",
    "plt.colorbar(scatter)\n",
    "\n",
    "# 'mpg', 'cyl', 'disp', 'drat', 'wt'"
   ]
  },
  {
   "cell_type": "code",
   "execution_count": 9,
   "metadata": {
    "collapsed": false
   },
   "outputs": [
    {
     "name": "stdout",
     "output_type": "stream",
     "text": [
      "[ 0.41304073 -1.22485777 -0.83429857  0.48148071 -0.44585485]\n",
      "[-0.59990977  1.01488215  0.72982151 -0.98482035  0.46655069]\n",
      "[-0.71190675  1.01488215  0.97046468  1.16600392 -0.0482903 ]\n",
      "[ 2.16683052 -1.22485777 -1.25724961  1.03508418 -1.22616472]\n",
      "[-0.05817621 -0.10498781 -0.57029708  0.47774015 -0.19239467]\n",
      "[-1.37006186  1.01488215  1.82841574 -1.01599172  2.16914561]\n",
      "[-0.98567715  1.01488215  0.7647178   0.07188896  0.49848872]\n",
      "[-0.056517   -0.10498781  0.08696336 -1.26536265  0.12289753]\n",
      "[ 1.29574288 -1.22485777 -1.12196768  1.65227723 -1.34965843]\n",
      "[ 1.71054652 -1.22485777 -1.09426581  0.32437703 -1.74177223]\n"
     ]
    }
   ],
   "source": [
    "\n",
    "## Imprimimos los centros de los clusters\n",
    "for center in model.clusterCenters():\n",
    "    print(center)\n"
   ]
  },
  {
   "cell_type": "code",
   "execution_count": 10,
   "metadata": {
    "collapsed": false
   },
   "outputs": [
    {
     "name": "stdout",
     "output_type": "stream",
     "text": [
      "+-------------------+----+---+-----+---+----+-----+-----+---+---+----+----+--------------------+--------------------+----------+\n",
      "|              model| mpg|cyl| disp| hp|drat|   wt| qsec| vs| am|gear|carb|            features|     scaled_features|prediction|\n",
      "+-------------------+----+---+-----+---+----+-----+-----+---+---+----+----+--------------------+--------------------+----------+\n",
      "|          Mazda RX4|21.0|  6|160.0|110| 3.9| 2.62|16.46|  0|  1|   4|   4|[21.0,6.0,160.0,3...|[0.15088482464765...|         4|\n",
      "|      Mazda RX4 Wag|21.0|  6|160.0|110| 3.9|2.875|17.02|  0|  1|   4|   4|[21.0,6.0,160.0,3...|[0.15088482464765...|         4|\n",
      "|         Datsun 710|22.8|  4|108.0| 93|3.85| 2.32|18.61|  1|  1|   4|   1|[22.8,4.0,108.0,3...|[0.44954344663064...|         0|\n",
      "|     Hornet 4 Drive|21.4|  6|258.0|110|3.08|3.215|19.44|  1|  0|   3|   1|[21.4,6.0,258.0,3...|[0.21725340731054...|         7|\n",
      "|  Hornet Sportabout|18.7|  8|360.0|175|3.15| 3.44|17.02|  0|  0|   3|   2|[18.7,8.0,360.0,3...|[-0.2307345256639...|         1|\n",
      "|            Valiant|18.1|  6|225.0|105|2.76| 3.46|20.22|  1|  0|   3|   1|[18.1,6.0,225.0,2...|[-0.3302873996582...|         7|\n",
      "|         Duster 360|14.3|  8|360.0|245|3.21| 3.57|15.84|  0|  0|   3|   4|[14.3,8.0,360.0,3...|[-0.9607889349556...|         1|\n",
      "|          Merc 240D|24.4|  4|146.7| 62|3.69| 3.19| 20.0|  1|  0|   4|   2|[24.4,4.0,146.7,3...|[0.71501777728219...|         0|\n",
      "|           Merc 230|22.8|  4|140.8| 95|3.92| 3.15| 22.9|  1|  0|   4|   2|[22.8,4.0,140.8,3...|[0.44954344663064...|         0|\n",
      "|           Merc 280|19.2|  6|167.6|123|3.92| 3.44| 18.3|  1|  0|   4|   4|[19.2,6.0,167.6,3...|[-0.1477737973353...|         4|\n",
      "|          Merc 280C|17.8|  6|167.6|123|3.92| 3.44| 18.9|  1|  0|   4|   4|[17.8,6.0,167.6,3...|[-0.3800638366554...|         4|\n",
      "|         Merc 450SE|16.4|  8|275.8|180|3.07| 4.07| 17.4|  0|  0|   3|   3|[16.4,8.0,275.8,3...|[-0.6123538759755...|         1|\n",
      "|         Merc 450SL|17.3|  8|275.8|180|3.07| 3.73| 17.6|  0|  0|   3|   3|[17.3,8.0,275.8,3...|[-0.4630245649840...|         1|\n",
      "|        Merc 450SLC|15.2|  8|275.8|180|3.07| 3.78| 18.0|  0|  0|   3|   3|[15.2,8.0,275.8,3...|[-0.8114596239642...|         1|\n",
      "| Cadillac Fleetwood|10.4|  8|472.0|205|2.93| 5.25|17.98|  0|  0|   3|   4|[10.4,8.0,472.0,2...|[-1.6078826159188...|         5|\n",
      "|Lincoln Continental|10.4|  8|460.0|215| 3.0|5.424|17.82|  0|  0|   3|   4|[10.4,8.0,460.0,3...|[-1.6078826159188...|         5|\n",
      "|  Chrysler Imperial|14.7|  8|440.0|230|3.23|5.345|17.42|  0|  0|   3|   4|[14.7,8.0,440.0,3...|[-0.8944203522928...|         5|\n",
      "|           Fiat 128|32.4|  4| 78.7| 66|4.08|  2.2|19.47|  1|  1|   4|   1|[32.4,4.0,78.7,4....|[2.04238943053992...|         3|\n",
      "|        Honda Civic|30.4|  4| 75.7| 52|4.93|1.615|18.52|  1|  1|   4|   2|[30.4,4.0,75.7,4....|[1.71054651722549...|         8|\n",
      "|     Toyota Corolla|33.9|  4| 71.1| 65|4.22|1.835| 19.9|  1|  1|   4|   1|[33.9,4.0,71.1,4....|[2.29127161552575...|         3|\n",
      "|      Toyota Corona|21.5|  4|120.1| 97| 3.7|2.465|20.01|  1|  0|   3|   1|[21.5,4.0,120.1,3...|[0.23384555297626...|         0|\n",
      "|   Dodge Challenger|15.5|  8|318.0|150|2.76| 3.52|16.87|  0|  0|   3|   2|[15.5,8.0,318.0,2...|[-0.7616831869670...|         1|\n",
      "|        AMC Javelin|15.2|  8|304.0|150|3.15|3.435| 17.3|  0|  0|   3|   2|[15.2,8.0,304.0,3...|[-0.8114596239642...|         1|\n",
      "|         Camaro Z28|13.3|  8|350.0|245|3.73| 3.84|15.41|  0|  0|   3|   4|[13.3,8.0,350.0,3...|[-1.1267103916129...|         6|\n",
      "|   Pontiac Firebird|19.2|  8|400.0|175|3.08|3.845|17.05|  0|  0|   3|   2|[19.2,8.0,400.0,3...|[-0.1477737973353...|         1|\n",
      "|          Fiat X1-9|27.3|  4| 79.0| 66|4.08|1.935| 18.9|  1|  1|   4|   1|[27.3,4.0,79.0,4....|[1.19619000158812...|         8|\n",
      "|      Porsche 914-2|26.0|  4|120.3| 91|4.43| 2.14| 16.7|  0|  1|   5|   2|[26.0,4.0,120.3,4...|[0.98049210793374...|         8|\n",
      "|       Lotus Europa|30.4|  4| 95.1|113|3.77|1.513| 16.9|  1|  1|   5|   2|[30.4,4.0,95.1,3....|[1.71054651722549...|         9|\n",
      "|     Ford Pantera L|15.8|  8|351.0|264|4.22| 3.17| 14.5|  0|  1|   5|   4|[15.8,8.0,351.0,4...|[-0.7119067499698...|         2|\n",
      "|       Ferrari Dino|19.7|  6|145.0|175|3.62| 2.77| 15.5|  0|  1|   5|   6|[19.7,6.0,145.0,3...|[-0.0648130690067...|         4|\n",
      "|      Maserati Bora|15.0|  8|301.0|335|3.54| 3.57| 14.6|  0|  1|   5|   8|[15.0,8.0,301.0,3...|[-0.8446439152956...|         6|\n",
      "|         Volvo 142E|21.4|  4|121.0|109|4.11| 2.78| 18.6|  1|  1|   4|   2|[21.4,4.0,121.0,4...|[0.21725340731054...|         0|\n",
      "+-------------------+----+---+-----+---+----+-----+-----+---+---+----+----+--------------------+--------------------+----------+\n",
      "\n",
      "===============\n"
     ]
    }
   ],
   "source": [
    "predict = model.transform(scaled_data)\n",
    "predict.show(1000)\n",
    "print(\"=\"*15)\n"
   ]
  },
  {
   "cell_type": "code",
   "execution_count": 11,
   "metadata": {
    "collapsed": false,
    "scrolled": true
   },
   "outputs": [
    {
     "name": "stdout",
     "output_type": "stream",
     "text": [
      "cluster 0\n",
      "Row(features=DenseVector([22.8, 4.0, 108.0, 3.85, 2.32]), prediction=0)\n",
      "Row(features=DenseVector([24.4, 4.0, 146.7, 3.69, 3.19]), prediction=0)\n",
      "Row(features=DenseVector([22.8, 4.0, 140.8, 3.92, 3.15]), prediction=0)\n",
      "Row(features=DenseVector([21.5, 4.0, 120.1, 3.7, 2.465]), prediction=0)\n",
      "Row(features=DenseVector([21.4, 4.0, 121.0, 4.11, 2.78]), prediction=0)\n",
      "===========================================================================\n",
      "cluster 1\n",
      "Row(features=DenseVector([18.7, 8.0, 360.0, 3.15, 3.44]), prediction=1)\n",
      "Row(features=DenseVector([14.3, 8.0, 360.0, 3.21, 3.57]), prediction=1)\n",
      "Row(features=DenseVector([16.4, 8.0, 275.8, 3.07, 4.07]), prediction=1)\n",
      "Row(features=DenseVector([17.3, 8.0, 275.8, 3.07, 3.73]), prediction=1)\n",
      "Row(features=DenseVector([15.2, 8.0, 275.8, 3.07, 3.78]), prediction=1)\n",
      "Row(features=DenseVector([15.5, 8.0, 318.0, 2.76, 3.52]), prediction=1)\n",
      "Row(features=DenseVector([15.2, 8.0, 304.0, 3.15, 3.435]), prediction=1)\n",
      "Row(features=DenseVector([19.2, 8.0, 400.0, 3.08, 3.845]), prediction=1)\n",
      "===========================================================================\n",
      "cluster 2\n",
      "Row(features=DenseVector([15.8, 8.0, 351.0, 4.22, 3.17]), prediction=2)\n",
      "===========================================================================\n",
      "cluster 3\n",
      "Row(features=DenseVector([32.4, 4.0, 78.7, 4.08, 2.2]), prediction=3)\n",
      "Row(features=DenseVector([33.9, 4.0, 71.1, 4.22, 1.835]), prediction=3)\n",
      "===========================================================================\n",
      "cluster 4\n",
      "Row(features=DenseVector([21.0, 6.0, 160.0, 3.9, 2.62]), prediction=4)\n",
      "Row(features=DenseVector([21.0, 6.0, 160.0, 3.9, 2.875]), prediction=4)\n",
      "Row(features=DenseVector([19.2, 6.0, 167.6, 3.92, 3.44]), prediction=4)\n",
      "Row(features=DenseVector([17.8, 6.0, 167.6, 3.92, 3.44]), prediction=4)\n",
      "Row(features=DenseVector([19.7, 6.0, 145.0, 3.62, 2.77]), prediction=4)\n",
      "===========================================================================\n",
      "cluster 5\n",
      "Row(features=DenseVector([10.4, 8.0, 472.0, 2.93, 5.25]), prediction=5)\n",
      "Row(features=DenseVector([10.4, 8.0, 460.0, 3.0, 5.424]), prediction=5)\n",
      "Row(features=DenseVector([14.7, 8.0, 440.0, 3.23, 5.345]), prediction=5)\n",
      "===========================================================================\n",
      "cluster 6\n",
      "Row(features=DenseVector([13.3, 8.0, 350.0, 3.73, 3.84]), prediction=6)\n",
      "Row(features=DenseVector([15.0, 8.0, 301.0, 3.54, 3.57]), prediction=6)\n",
      "===========================================================================\n",
      "cluster 7\n",
      "Row(features=DenseVector([21.4, 6.0, 258.0, 3.08, 3.215]), prediction=7)\n",
      "Row(features=DenseVector([18.1, 6.0, 225.0, 2.76, 3.46]), prediction=7)\n",
      "===========================================================================\n",
      "cluster 8\n",
      "Row(features=DenseVector([30.4, 4.0, 75.7, 4.93, 1.615]), prediction=8)\n",
      "Row(features=DenseVector([27.3, 4.0, 79.0, 4.08, 1.935]), prediction=8)\n",
      "Row(features=DenseVector([26.0, 4.0, 120.3, 4.43, 2.14]), prediction=8)\n",
      "===========================================================================\n",
      "cluster 9\n",
      "Row(features=DenseVector([30.4, 4.0, 95.1, 3.77, 1.513]), prediction=9)\n",
      "===========================================================================\n"
     ]
    }
   ],
   "source": [
    "\n",
    "from pyspark.sql.functions import col\n",
    "\n",
    "for i in range(clusters):\n",
    "    predictionPerCol = predict.filter(col(\"prediction\") == i)\n",
    "    print(\"cluster {}\".format(i))\n",
    "    for c in predictionPerCol.select(col(\"features\"), col(\"prediction\")).collect():\n",
    "        print(c)\n",
    "    print(\"=\"*75)\n"
   ]
  },
  {
   "cell_type": "code",
   "execution_count": 21,
   "metadata": {
    "collapsed": true
   },
   "outputs": [],
   "source": [
    "spark.stop()"
   ]
  },
  {
   "cell_type": "code",
   "execution_count": 1,
   "metadata": {
    "collapsed": false
   },
   "outputs": [
    {
     "data": {
      "text/plain": [
       "'Linux-3.10.0-327.el7.x86_64-x86_64-with-redhat-7.2-Maipo'"
      ]
     },
     "execution_count": 1,
     "metadata": {},
     "output_type": "execute_result"
    }
   ],
   "source": [
    "import platform\n",
    "platform.platform()"
   ]
  },
  {
   "cell_type": "code",
   "execution_count": 2,
   "metadata": {
    "collapsed": false
   },
   "outputs": [
    {
     "data": {
      "text/plain": [
       "'Linux'"
      ]
     },
     "execution_count": 2,
     "metadata": {},
     "output_type": "execute_result"
    }
   ],
   "source": [
    "platform.system()"
   ]
  },
  {
   "cell_type": "code",
   "execution_count": 3,
   "metadata": {
    "collapsed": false
   },
   "outputs": [
    {
     "data": {
      "text/plain": [
       "'3.10.0-327.el7.x86_64'"
      ]
     },
     "execution_count": 3,
     "metadata": {},
     "output_type": "execute_result"
    }
   ],
   "source": [
    "platform.release()"
   ]
  },
  {
   "cell_type": "code",
   "execution_count": 4,
   "metadata": {
    "collapsed": false
   },
   "outputs": [
    {
     "data": {
      "text/plain": [
       "'#1 SMP Thu Oct 29 17:29:29 EDT 2015'"
      ]
     },
     "execution_count": 4,
     "metadata": {},
     "output_type": "execute_result"
    }
   ],
   "source": [
    "platform.version()"
   ]
  },
  {
   "cell_type": "code",
   "execution_count": 5,
   "metadata": {
    "collapsed": false,
    "scrolled": true
   },
   "outputs": [
    {
     "name": "stdout",
     "output_type": "stream",
     "text": [
      "Python version: ['2.7.5 (default, Aug  2 2016, 04:20:16) ', '[GCC 4.8.5 20150623 (Red Hat 4.8.5-4)]']\n",
      "dist: ('redhat', '7.2', 'Maipo')\n",
      "linux_distribution: ('Red Hat Enterprise Linux Server', '7.2', 'Maipo')\n",
      "system: Linux\n",
      "machine: x86_64\n",
      "platform: Linux-3.10.0-327.el7.x86_64-x86_64-with-redhat-7.2-Maipo\n",
      "uname: ('Linux', 'lmavtbigdata02.nextelperu.net', '3.10.0-327.el7.x86_64', '#1 SMP Thu Oct 29 17:29:29 EDT 2015', 'x86_64', 'x86_64')\n",
      "version: #1 SMP Thu Oct 29 17:29:29 EDT 2015\n",
      "mac_ver: ('', ('', '', ''), '')\n",
      "\n"
     ]
    }
   ],
   "source": [
    "import platform\n",
    "import sys\n",
    "\n",
    "def linux_distribution():\n",
    "  try:\n",
    "    return platform.linux_distribution()\n",
    "  except:\n",
    "    return \"N/A\"\n",
    "\n",
    "print(\"\"\"Python version: %s\n",
    "dist: %s\n",
    "linux_distribution: %s\n",
    "system: %s\n",
    "machine: %s\n",
    "platform: %s\n",
    "uname: %s\n",
    "version: %s\n",
    "mac_ver: %s\n",
    "\"\"\" % (\n",
    "sys.version.split('\\n'),\n",
    "str(platform.dist()),\n",
    "linux_distribution(),\n",
    "platform.system(),\n",
    "platform.machine(),\n",
    "platform.platform(),\n",
    "platform.uname(),\n",
    "platform.version(),\n",
    "platform.mac_ver(),\n",
    "))"
   ]
  },
  {
   "cell_type": "code",
   "execution_count": 6,
   "metadata": {
    "collapsed": false
   },
   "outputs": [
    {
     "name": "stdout",
     "output_type": "stream",
     "text": [
      "posix\n"
     ]
    }
   ],
   "source": [
    "import os\n",
    "print os.name"
   ]
  },
  {
   "cell_type": "code",
   "execution_count": null,
   "metadata": {
    "collapsed": true
   },
   "outputs": [],
   "source": [
    "spark."
   ]
  }
 ],
 "metadata": {
  "kernelspec": {
   "display_name": "Python 3",
   "language": "python",
   "name": "python3"
  },
  "language_info": {
   "codemirror_mode": {
    "name": "ipython",
    "version": 3
   },
   "file_extension": ".py",
   "mimetype": "text/x-python",
   "name": "python",
   "nbconvert_exporter": "python",
   "pygments_lexer": "ipython3",
   "version": "3.6.4"
  }
 },
 "nbformat": 4,
 "nbformat_minor": 2
}
