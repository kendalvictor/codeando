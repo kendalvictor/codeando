{
 "cells": [
  {
   "cell_type": "code",
   "execution_count": 1,
   "metadata": {},
   "outputs": [],
   "source": [
    "import findspark\n",
    "findspark.init('/opt/cloudera/parcels/SPARK2-2.3.0.cloudera3-1.cdh5.13.3.p0.458809/lib/spark2')\n",
    "##findspark.init(\"/home/ubuntu/spark-2.2.1-bin-hadoop2.7\")\n",
    "from pyspark.sql import SparkSession\n",
    "spark = SparkSession.builder.appName('KENDVIC_27_08_2018').getOrCreate()"
   ]
  },
  {
   "cell_type": "code",
   "execution_count": 2,
   "metadata": {},
   "outputs": [
    {
     "name": "stdout",
     "output_type": "stream",
     "text": [
      "+--------+---------+-----------+\n",
      "|database|tableName|isTemporary|\n",
      "+--------+---------+-----------+\n",
      "| default|   reniec|      false|\n",
      "+--------+---------+-----------+\n",
      "\n"
     ]
    }
   ],
   "source": [
    "spark.sql(\"show tables from default\").show()"
   ]
  },
  {
   "cell_type": "code",
   "execution_count": 3,
   "metadata": {},
   "outputs": [
    {
     "name": "stdout",
     "output_type": "stream",
     "text": [
      "+--------+---------+-----------+\n",
      "|database|tableName|isTemporary|\n",
      "+--------+---------+-----------+\n",
      "|   salud|  essalud|      false|\n",
      "+--------+---------+-----------+\n",
      "\n"
     ]
    }
   ],
   "source": [
    "spark.sql(\"show tables from salud\").show()"
   ]
  },
  {
   "cell_type": "code",
   "execution_count": 4,
   "metadata": {},
   "outputs": [
    {
     "name": "stdout",
     "output_type": "stream",
     "text": [
      "+------------+--------------+--------------------+----------------+-------+----+\n",
      "|       cussp|numerodocument|           domicilio|        telefono|    ram| afp|\n",
      "+------------+--------------+--------------------+----------------+-------+----+\n",
      "|560080RALRE3|      41854018|CALLE LOS BAMBUES...|         3652571|  39382|  IN|\n",
      "|573180MAMNT6|      41020654|    CL.LAS MORAS 246|         4952535|   2680|  UV|\n",
      "|262020MACVP1|      41591162|CA LOS FICOS LT-5...|         3654289|  37170|  IN|\n",
      "|257001MASVO5|      41034300|  CL. VALLADOLID 176|         4954206|   3546|  PR|\n",
      "|542411CAZSI0|      41150271|JR ANTUNES  DE MA...|         4352899|  25269|  IN|\n",
      "|239720GARSG9|      41125546|  \"CALLE MANAGUA 165| SANTA PATRICIA\"|9726462|3818|\n",
      "|239611CARIC5|      41919700|URB EL REMANSO DE...|         4953756|   6936|  HO|\n",
      "|247191RASOD2|      41678951|CALZADA DE FRAILE...|         3655147|   4600|  UV|\n",
      "|513131JAGEM4|      41676527| MZ.W/LT.22 DPTO.202|         3481863|   7473|  UV|\n",
      "|543611CAMEA9|      41062987|CL. LOS MANZANERO...|         3654129|   2924|  HO|\n",
      "|555720MACAM9|      41004637|LOS AGROLOGOS 352...|         3480565|  16533|  IN|\n",
      "|251031RACAM3|      41290421|CL LAS HIGUERAS-R...|         4377540|   6788|  HO|\n",
      "|531710JADAI3|      41133448|DEL PARQUE 620 LA...|         4790436|   3000|  UV|\n",
      "|541751JADAI4|      41899533|BARLOVENTO MZ 3LL...|         4790822|   4644|  IN|\n",
      "|575310FAMIS6|      41869858|LAS TIPUANAS/LA M...|         4952430|   3500|  UV|\n",
      "|525760MATII3|      41316157|MANUEL ASCENZO SE...|         3487040|   7033|  IN|\n",
      "|509841VASIC4|      41180904|CALLE 43 (CALLE T...|         3488258|   3583|  UV|\n",
      "|497461JAAIS4|      41225156|CALLE MAGISTERIO ...|         3493660|  56109|  IN|\n",
      "|249280NASIU5|      41564419|AV LA ARBOLEDA 43...|         3650268|  83742|  IN|\n",
      "|531001FACIV5|      41303274|URB.PARQUE MONTER...|         4372516|   4400|  UV|\n",
      "+------------+--------------+--------------------+----------------+-------+----+\n",
      "only showing top 20 rows\n",
      "\n"
     ]
    }
   ],
   "source": [
    "spark.sql(\"select * from salud.essalud\").show()"
   ]
  },
  {
   "cell_type": "code",
   "execution_count": 5,
   "metadata": {},
   "outputs": [
    {
     "name": "stdout",
     "output_type": "stream",
     "text": [
      "+--------------------+-------------------+-----+\n",
      "|   DEST_COUNTRY_NAME|ORIGIN_COUNTRY_NAME|count|\n",
      "+--------------------+-------------------+-----+\n",
      "|       United States|            Romania|   15|\n",
      "|       United States|            Croatia|    1|\n",
      "|       United States|            Ireland|  344|\n",
      "|               Egypt|      United States|   15|\n",
      "|       United States|              India|   62|\n",
      "|       United States|          Singapore|    1|\n",
      "|       United States|            Grenada|   62|\n",
      "|          Costa Rica|      United States|  588|\n",
      "|             Senegal|      United States|   40|\n",
      "|             Moldova|      United States|    1|\n",
      "|       United States|       Sint Maarten|  325|\n",
      "|       United States|   Marshall Islands|   39|\n",
      "|              Guyana|      United States|   64|\n",
      "|               Malta|      United States|    1|\n",
      "|            Anguilla|      United States|   41|\n",
      "|             Bolivia|      United States|   30|\n",
      "|       United States|           Paraguay|    6|\n",
      "|             Algeria|      United States|    4|\n",
      "|Turks and Caicos ...|      United States|  230|\n",
      "|       United States|          Gibraltar|    1|\n",
      "+--------------------+-------------------+-----+\n",
      "only showing top 20 rows\n",
      "\n"
     ]
    }
   ],
   "source": [
    "df_csv = spark.read.csv('/user/grupo_3/villacorta/csv/2015-summary.csv', inferSchema=True, header=True)\n",
    "df_csv.show()"
   ]
  },
  {
   "cell_type": "code",
   "execution_count": 7,
   "metadata": {},
   "outputs": [
    {
     "data": {
      "text/plain": [
       "[('DEST_COUNTRY_NAME', 'string'),\n",
       " ('ORIGIN_COUNTRY_NAME', 'string'),\n",
       " ('count', 'int')]"
      ]
     },
     "execution_count": 7,
     "metadata": {},
     "output_type": "execute_result"
    }
   ],
   "source": [
    "df_csv.dtypes"
   ]
  },
  {
   "cell_type": "code",
   "execution_count": 12,
   "metadata": {},
   "outputs": [],
   "source": [
    "from pyspark.sql.functions import col, expr\n",
    "df_csv = df_csv.withColumn('nueva_columna', (col(\"count\")*3))"
   ]
  },
  {
   "cell_type": "code",
   "execution_count": 13,
   "metadata": {},
   "outputs": [
    {
     "data": {
      "text/plain": [
       "['DEST_COUNTRY_NAME', 'ORIGIN_COUNTRY_NAME', 'count', 'nueva_columna']"
      ]
     },
     "execution_count": 13,
     "metadata": {},
     "output_type": "execute_result"
    }
   ],
   "source": [
    "df_csv.columns"
   ]
  },
  {
   "cell_type": "code",
   "execution_count": 14,
   "metadata": {},
   "outputs": [
    {
     "name": "stdout",
     "output_type": "stream",
     "text": [
      "+--------------------+-------------------+-----+-------------+\n",
      "|   DEST_COUNTRY_NAME|ORIGIN_COUNTRY_NAME|count|nueva_columna|\n",
      "+--------------------+-------------------+-----+-------------+\n",
      "|       United States|            Romania|   15|           45|\n",
      "|       United States|            Croatia|    1|            3|\n",
      "|       United States|            Ireland|  344|         1032|\n",
      "|               Egypt|      United States|   15|           45|\n",
      "|       United States|              India|   62|          186|\n",
      "|       United States|          Singapore|    1|            3|\n",
      "|       United States|            Grenada|   62|          186|\n",
      "|          Costa Rica|      United States|  588|         1764|\n",
      "|             Senegal|      United States|   40|          120|\n",
      "|             Moldova|      United States|    1|            3|\n",
      "|       United States|       Sint Maarten|  325|          975|\n",
      "|       United States|   Marshall Islands|   39|          117|\n",
      "|              Guyana|      United States|   64|          192|\n",
      "|               Malta|      United States|    1|            3|\n",
      "|            Anguilla|      United States|   41|          123|\n",
      "|             Bolivia|      United States|   30|           90|\n",
      "|       United States|           Paraguay|    6|           18|\n",
      "|             Algeria|      United States|    4|           12|\n",
      "|Turks and Caicos ...|      United States|  230|          690|\n",
      "|       United States|          Gibraltar|    1|            3|\n",
      "+--------------------+-------------------+-----+-------------+\n",
      "only showing top 20 rows\n",
      "\n"
     ]
    }
   ],
   "source": [
    "df_csv.show()"
   ]
  },
  {
   "cell_type": "code",
   "execution_count": 15,
   "metadata": {},
   "outputs": [
    {
     "name": "stdout",
     "output_type": "stream",
     "text": [
      "+--------------------+-------------+\n",
      "|   DEST_COUNTRY_NAME|nueva_columna|\n",
      "+--------------------+-------------+\n",
      "|       United States|           45|\n",
      "|       United States|            3|\n",
      "|       United States|         1032|\n",
      "|               Egypt|           45|\n",
      "|       United States|          186|\n",
      "|       United States|            3|\n",
      "|       United States|          186|\n",
      "|          Costa Rica|         1764|\n",
      "|             Senegal|          120|\n",
      "|             Moldova|            3|\n",
      "|       United States|          975|\n",
      "|       United States|          117|\n",
      "|              Guyana|          192|\n",
      "|               Malta|            3|\n",
      "|            Anguilla|          123|\n",
      "|             Bolivia|           90|\n",
      "|       United States|           18|\n",
      "|             Algeria|           12|\n",
      "|Turks and Caicos ...|          690|\n",
      "|       United States|            3|\n",
      "+--------------------+-------------+\n",
      "only showing top 20 rows\n",
      "\n"
     ]
    }
   ],
   "source": [
    "df_csv.select(\"DEST_COUNTRY_NAME\", \"nueva_columna\").show()"
   ]
  },
  {
   "cell_type": "code",
   "execution_count": 22,
   "metadata": {},
   "outputs": [
    {
     "data": {
      "text/plain": [
       "['DEST_COUNTRY_NAME', 'ORIGIN_COUNTRY_NAME', 'cantidad', 'nueva_columna']"
      ]
     },
     "execution_count": 22,
     "metadata": {},
     "output_type": "execute_result"
    }
   ],
   "source": [
    "df_csv = df_csv.withColumnRenamed('count', 'cantidad')\n",
    "df_csv.columns"
   ]
  },
  {
   "cell_type": "code",
   "execution_count": 23,
   "metadata": {},
   "outputs": [
    {
     "name": "stdout",
     "output_type": "stream",
     "text": [
      "+--------------------+-------------------+--------+-------------+\n",
      "|   DEST_COUNTRY_NAME|ORIGIN_COUNTRY_NAME|cantidad|nueva_columna|\n",
      "+--------------------+-------------------+--------+-------------+\n",
      "|       United States|            Romania|      15|           45|\n",
      "|       United States|            Croatia|       1|            3|\n",
      "|       United States|            Ireland|     344|         1032|\n",
      "|               Egypt|      United States|      15|           45|\n",
      "|       United States|              India|      62|          186|\n",
      "|       United States|          Singapore|       1|            3|\n",
      "|       United States|            Grenada|      62|          186|\n",
      "|          Costa Rica|      United States|     588|         1764|\n",
      "|             Senegal|      United States|      40|          120|\n",
      "|             Moldova|      United States|       1|            3|\n",
      "|       United States|       Sint Maarten|     325|          975|\n",
      "|       United States|   Marshall Islands|      39|          117|\n",
      "|              Guyana|      United States|      64|          192|\n",
      "|               Malta|      United States|       1|            3|\n",
      "|            Anguilla|      United States|      41|          123|\n",
      "|             Bolivia|      United States|      30|           90|\n",
      "|       United States|           Paraguay|       6|           18|\n",
      "|             Algeria|      United States|       4|           12|\n",
      "|Turks and Caicos ...|      United States|     230|          690|\n",
      "|       United States|          Gibraltar|       1|            3|\n",
      "+--------------------+-------------------+--------+-------------+\n",
      "only showing top 20 rows\n",
      "\n"
     ]
    }
   ],
   "source": [
    "df_csv.show()"
   ]
  },
  {
   "cell_type": "code",
   "execution_count": 25,
   "metadata": {},
   "outputs": [
    {
     "name": "stdout",
     "output_type": "stream",
     "text": [
      "+--------------------+-------------------+--------+-------------+----+\n",
      "|   DEST_COUNTRY_NAME|ORIGIN_COUNTRY_NAME|cantidad|nueva_columna|flat|\n",
      "+--------------------+-------------------+--------+-------------+----+\n",
      "|       United States|            Romania|      15|           45|   1|\n",
      "|       United States|            Croatia|       1|            3|   1|\n",
      "|       United States|            Ireland|     344|         1032|   1|\n",
      "|               Egypt|      United States|      15|           45|   1|\n",
      "|       United States|              India|      62|          186|   1|\n",
      "|       United States|          Singapore|       1|            3|   1|\n",
      "|       United States|            Grenada|      62|          186|   1|\n",
      "|          Costa Rica|      United States|     588|         1764|   1|\n",
      "|             Senegal|      United States|      40|          120|   1|\n",
      "|             Moldova|      United States|       1|            3|   1|\n",
      "|       United States|       Sint Maarten|     325|          975|   1|\n",
      "|       United States|   Marshall Islands|      39|          117|   1|\n",
      "|              Guyana|      United States|      64|          192|   1|\n",
      "|               Malta|      United States|       1|            3|   1|\n",
      "|            Anguilla|      United States|      41|          123|   1|\n",
      "|             Bolivia|      United States|      30|           90|   1|\n",
      "|       United States|           Paraguay|       6|           18|   1|\n",
      "|             Algeria|      United States|       4|           12|   1|\n",
      "|Turks and Caicos ...|      United States|     230|          690|   1|\n",
      "|       United States|          Gibraltar|       1|            3|   1|\n",
      "+--------------------+-------------------+--------+-------------+----+\n",
      "only showing top 20 rows\n",
      "\n"
     ]
    }
   ],
   "source": [
    "df_csv.select(expr('*'), expr('1 as flat')).show()"
   ]
  },
  {
   "cell_type": "code",
   "execution_count": 26,
   "metadata": {},
   "outputs": [
    {
     "name": "stdout",
     "output_type": "stream",
     "text": [
      "+--------------------+-----+\n",
      "|   DEST_COUNTRY_NAME|count|\n",
      "+--------------------+-----+\n",
      "|            Anguilla|    1|\n",
      "|              Russia|    1|\n",
      "|            Paraguay|    1|\n",
      "|             Senegal|    1|\n",
      "|              Sweden|    1|\n",
      "|            Kiribati|    1|\n",
      "|              Guyana|    1|\n",
      "|         Philippines|    1|\n",
      "|            Djibouti|    1|\n",
      "|            Malaysia|    1|\n",
      "|           Singapore|    1|\n",
      "|                Fiji|    1|\n",
      "|              Turkey|    1|\n",
      "|                Iraq|    1|\n",
      "|             Germany|    1|\n",
      "|              Jordan|    1|\n",
      "|               Palau|    1|\n",
      "|Turks and Caicos ...|    1|\n",
      "|              France|    1|\n",
      "|              Greece|    1|\n",
      "+--------------------+-----+\n",
      "only showing top 20 rows\n",
      "\n"
     ]
    }
   ],
   "source": [
    "df_csv.groupby('DEST_COUNTRY_NAME').count().show()"
   ]
  },
  {
   "cell_type": "code",
   "execution_count": 27,
   "metadata": {},
   "outputs": [
    {
     "name": "stdout",
     "output_type": "stream",
     "text": [
      "+--------------------+-------------------+--------+-------------+------------+\n",
      "|   DEST_COUNTRY_NAME|ORIGIN_COUNTRY_NAME|cantidad|nueva_columna|otra_columna|\n",
      "+--------------------+-------------------+--------+-------------+------------+\n",
      "|       United States|            Romania|      15|           45|        3.75|\n",
      "|       United States|            Croatia|       1|            3|        0.25|\n",
      "|       United States|            Ireland|     344|         1032|        86.0|\n",
      "|               Egypt|      United States|      15|           45|        3.75|\n",
      "|       United States|              India|      62|          186|        15.5|\n",
      "|       United States|          Singapore|       1|            3|        0.25|\n",
      "|       United States|            Grenada|      62|          186|        15.5|\n",
      "|          Costa Rica|      United States|     588|         1764|       147.0|\n",
      "|             Senegal|      United States|      40|          120|        10.0|\n",
      "|             Moldova|      United States|       1|            3|        0.25|\n",
      "|       United States|       Sint Maarten|     325|          975|       81.25|\n",
      "|       United States|   Marshall Islands|      39|          117|        9.75|\n",
      "|              Guyana|      United States|      64|          192|        16.0|\n",
      "|               Malta|      United States|       1|            3|        0.25|\n",
      "|            Anguilla|      United States|      41|          123|       10.25|\n",
      "|             Bolivia|      United States|      30|           90|         7.5|\n",
      "|       United States|           Paraguay|       6|           18|         1.5|\n",
      "|             Algeria|      United States|       4|           12|         1.0|\n",
      "|Turks and Caicos ...|      United States|     230|          690|        57.5|\n",
      "|       United States|          Gibraltar|       1|            3|        0.25|\n",
      "+--------------------+-------------------+--------+-------------+------------+\n",
      "only showing top 20 rows\n",
      "\n"
     ]
    }
   ],
   "source": [
    "df_csv = df_csv.withColumn('otra_columna', (col(\"cantidad\")/4))\n",
    "df_csv.show()"
   ]
  },
  {
   "cell_type": "code",
   "execution_count": 28,
   "metadata": {},
   "outputs": [
    {
     "name": "stdout",
     "output_type": "stream",
     "text": [
      "+--------------------+------------+\n",
      "|   DEST_COUNTRY_NAME|otra_columna|\n",
      "+--------------------+------------+\n",
      "|       United States|        3.75|\n",
      "|       United States|        0.25|\n",
      "|       United States|        86.0|\n",
      "|               Egypt|        3.75|\n",
      "|       United States|        15.5|\n",
      "|       United States|        0.25|\n",
      "|       United States|        15.5|\n",
      "|          Costa Rica|       147.0|\n",
      "|             Senegal|        10.0|\n",
      "|             Moldova|        0.25|\n",
      "|       United States|       81.25|\n",
      "|       United States|        9.75|\n",
      "|              Guyana|        16.0|\n",
      "|               Malta|        0.25|\n",
      "|            Anguilla|       10.25|\n",
      "|             Bolivia|         7.5|\n",
      "|       United States|         1.5|\n",
      "|             Algeria|         1.0|\n",
      "|Turks and Caicos ...|        57.5|\n",
      "|       United States|        0.25|\n",
      "+--------------------+------------+\n",
      "only showing top 20 rows\n",
      "\n"
     ]
    }
   ],
   "source": [
    "df_csv.select(\"DEST_COUNTRY_NAME\", \"otra_columna\").show()"
   ]
  },
  {
   "cell_type": "code",
   "execution_count": 29,
   "metadata": {},
   "outputs": [],
   "source": [
    "from pyspark.sql.functions import lit"
   ]
  },
  {
   "cell_type": "code",
   "execution_count": 32,
   "metadata": {},
   "outputs": [
    {
     "name": "stdout",
     "output_type": "stream",
     "text": [
      "+--------------------+-------------------+--------+-------------+------------+----+\n",
      "|   DEST_COUNTRY_NAME|ORIGIN_COUNTRY_NAME|cantidad|nueva_columna|otra_columna|flat|\n",
      "+--------------------+-------------------+--------+-------------+------------+----+\n",
      "|       United States|            Romania|      15|           45|        3.75|   3|\n",
      "|       United States|            Croatia|       1|            3|        0.25|   3|\n",
      "|       United States|            Ireland|     344|         1032|        86.0|   3|\n",
      "|               Egypt|      United States|      15|           45|        3.75|   3|\n",
      "|       United States|              India|      62|          186|        15.5|   3|\n",
      "|       United States|          Singapore|       1|            3|        0.25|   3|\n",
      "|       United States|            Grenada|      62|          186|        15.5|   3|\n",
      "|          Costa Rica|      United States|     588|         1764|       147.0|   3|\n",
      "|             Senegal|      United States|      40|          120|        10.0|   3|\n",
      "|             Moldova|      United States|       1|            3|        0.25|   3|\n",
      "|       United States|       Sint Maarten|     325|          975|       81.25|   3|\n",
      "|       United States|   Marshall Islands|      39|          117|        9.75|   3|\n",
      "|              Guyana|      United States|      64|          192|        16.0|   3|\n",
      "|               Malta|      United States|       1|            3|        0.25|   3|\n",
      "|            Anguilla|      United States|      41|          123|       10.25|   3|\n",
      "|             Bolivia|      United States|      30|           90|         7.5|   3|\n",
      "|       United States|           Paraguay|       6|           18|         1.5|   3|\n",
      "|             Algeria|      United States|       4|           12|         1.0|   3|\n",
      "|Turks and Caicos ...|      United States|     230|          690|        57.5|   3|\n",
      "|       United States|          Gibraltar|       1|            3|        0.25|   3|\n",
      "+--------------------+-------------------+--------+-------------+------------+----+\n",
      "only showing top 20 rows\n",
      "\n"
     ]
    }
   ],
   "source": [
    "df_csv = df_csv.select(expr('*'), lit(3).alias('flat'))\n",
    "df_csv.show()"
   ]
  },
  {
   "cell_type": "code",
   "execution_count": 33,
   "metadata": {},
   "outputs": [
    {
     "data": {
      "text/plain": [
       "['DEST_COUNTRY_NAME',\n",
       " 'ORIGIN_COUNTRY_NAME',\n",
       " 'cantidad',\n",
       " 'nueva_columna',\n",
       " 'otra_columna',\n",
       " 'flat']"
      ]
     },
     "execution_count": 33,
     "metadata": {},
     "output_type": "execute_result"
    }
   ],
   "source": [
    "df_csv.columns"
   ]
  },
  {
   "cell_type": "code",
   "execution_count": 34,
   "metadata": {},
   "outputs": [],
   "source": [
    "def mult_game(val):\n",
    "    return (val**2)*3.45"
   ]
  },
  {
   "cell_type": "code",
   "execution_count": 35,
   "metadata": {},
   "outputs": [
    {
     "name": "stdout",
     "output_type": "stream",
     "text": [
      "+--------------------+-------------------+--------+-------------+------------+----+------------------+\n",
      "|   DEST_COUNTRY_NAME|ORIGIN_COUNTRY_NAME|cantidad|nueva_columna|otra_columna|flat| resultado_funcion|\n",
      "+--------------------+-------------------+--------+-------------+------------+----+------------------+\n",
      "|       United States|            Romania|      15|           45|        3.75|   3|            776.25|\n",
      "|       United States|            Croatia|       1|            3|        0.25|   3|              3.45|\n",
      "|       United States|            Ireland|     344|         1032|        86.0|   3|          408259.2|\n",
      "|               Egypt|      United States|      15|           45|        3.75|   3|            776.25|\n",
      "|       United States|              India|      62|          186|        15.5|   3|13261.800000000001|\n",
      "|       United States|          Singapore|       1|            3|        0.25|   3|              3.45|\n",
      "|       United States|            Grenada|      62|          186|        15.5|   3|13261.800000000001|\n",
      "|          Costa Rica|      United States|     588|         1764|       147.0|   3|         1192816.8|\n",
      "|             Senegal|      United States|      40|          120|        10.0|   3|            5520.0|\n",
      "|             Moldova|      United States|       1|            3|        0.25|   3|              3.45|\n",
      "|       United States|       Sint Maarten|     325|          975|       81.25|   3|         364406.25|\n",
      "|       United States|   Marshall Islands|      39|          117|        9.75|   3|           5247.45|\n",
      "|              Guyana|      United States|      64|          192|        16.0|   3|           14131.2|\n",
      "|               Malta|      United States|       1|            3|        0.25|   3|              3.45|\n",
      "|            Anguilla|      United States|      41|          123|       10.25|   3| 5799.450000000001|\n",
      "|             Bolivia|      United States|      30|           90|         7.5|   3|            3105.0|\n",
      "|       United States|           Paraguay|       6|           18|         1.5|   3|             124.2|\n",
      "|             Algeria|      United States|       4|           12|         1.0|   3|              55.2|\n",
      "|Turks and Caicos ...|      United States|     230|          690|        57.5|   3|          182505.0|\n",
      "|       United States|          Gibraltar|       1|            3|        0.25|   3|              3.45|\n",
      "+--------------------+-------------------+--------+-------------+------------+----+------------------+\n",
      "only showing top 20 rows\n",
      "\n"
     ]
    }
   ],
   "source": [
    "df_csv = df_csv.select(expr('*'), mult_game(col('cantidad')).alias('resultado_funcion'))\n",
    "df_csv.show()"
   ]
  },
  {
   "cell_type": "markdown",
   "metadata": {},
   "source": [
    "## COMANDOS SQL"
   ]
  },
  {
   "cell_type": "code",
   "execution_count": 38,
   "metadata": {},
   "outputs": [
    {
     "name": "stdout",
     "output_type": "stream",
     "text": [
      "+--------+----------+-------------------+-----------------+----+----+----+----+-------------+------------+--------------+\n",
      "| num_doc|   ape_pat|            ape_mat|           nombre|edad|sexo|dept|prov|         dist|estado_civil|flag_propiedad|\n",
      "+--------+----------+-------------------+-----------------+----+----+----+----+-------------+------------+--------------+\n",
      "|41854018|     PINTO|            CONDORI|        JOSE LUIS|  31|   M|LIMA|LIMA|         LIMA|           S|             1|\n",
      "|41020654|    TORRES|               NAPA|     LUIS ENRIQUE|  34|   M|LIMA|LIMA|         LIMA|           S|             1|\n",
      "|41591162| CASTANEDA|          TANTALEAN|  SHIRLEY JANETTE|  33|   F|LIMA|LIMA|         LIMA|           S|             1|\n",
      "|41034300|    TAPARA|             FLORES| MARIELA MERCEDES|  37|   F|LIMA|LIMA|         LIMA|           S|             1|\n",
      "|41150271|  CARBAJAL|               RUIZ|ROSALIA HORTENCIA|  35|   F|LIMA|LIMA|         LIMA|           S|             0|\n",
      "|41125546|    GRADOS|            CONDORI|       ERIKA ANAI|  37|   F|LIMA|LIMA|         LIMA|          CS|             0|\n",
      "|41919700|   CONDORI|             HUANCA|       ELIDA SONY|  31|   F|LIMA|LIMA|         LIMA|          CS|             0|\n",
      "|41678951|   ESCOBAR|CASTANEDA DE SEGAMA|      LUISA YUDIT|  38|   F|LIMA|LIMA|          ATE|          CS|             1|\n",
      "|41676527| CANGALAYA|         NINAHUANCA|   LOURDES AURORA|  32|   F|LIMA|LIMA|  SANTA ANITA|           S|             0|\n",
      "|41062987|      ECHE|         COLMENARES|   MARIA MILAGROS|  33|   F|LIMA|LIMA|         BREA|          CS|             0|\n",
      "|41004637|   VASQUEZ|         DEL AGUILA| NIURKHA MILUSKHA|  35|   F|LIMA|LIMA|         BREA|          CS|             1|\n",
      "|41290421|   NORIEGA|            NAVARRO|SAMANTA ROSSMANIS|  33|   F|LIMA|LIMA|         BREA|           S|             0|\n",
      "|41133448|     DIEGO|          NAVARRETE|       MARIA NELA|  38|   F|LIMA|LIMA|         BREA|          CS|             4|\n",
      "|41899533|   PAREDES|           CASTILLO|      STEVEN JOEL|  32|   M|LIMA|LIMA|         BREA|          CS|             1|\n",
      "|41869858|     MATOS|              FALLA|   JIMMY FRANKLIN|  34|   M|LIMA|LIMA|        COMAS|           S|             0|\n",
      "|41316157|    CHACON|           TERRONES|        JACKELINE|  32|   F|LIMA|LIMA|        COMAS|           S|             1|\n",
      "|41180904|      BOZA|          PACHERREZ|     CARMEN LUISA|  33|   F|LIMA|LIMA|   CHORRILLOS|           S|             1|\n",
      "|41225156|ECHEVARRIA|             FALCON|     MAYITA HYLDA|  33|   F|LIMA|LIMA|INDEPENDENCIA|          CS|             1|\n",
      "|41564419|  MELENDEZ|               LEON|  MAURO CRISTOBAL|  39|   M|LIMA|LIMA|INDEPENDENCIA|          CS|             1|\n",
      "|41303274|    ALFARO|              PEREZ|            EDWIN|  35|   M|LIMA|LIMA|INDEPENDENCIA|           S|             0|\n",
      "+--------+----------+-------------------+-----------------+----+----+----+----+-------------+------------+--------------+\n",
      "only showing top 20 rows\n",
      "\n"
     ]
    }
   ],
   "source": [
    "spark.sql(\"\"\"\n",
    "    select * from default.reniec\n",
    "\"\"\").show()"
   ]
  },
  {
   "cell_type": "code",
   "execution_count": 39,
   "metadata": {},
   "outputs": [
    {
     "name": "stdout",
     "output_type": "stream",
     "text": [
      "+--------+----------------+-----------+\n",
      "| num_doc|apellido_paterno|tipo_cambio|\n",
      "+--------+----------------+-----------+\n",
      "|41854018|           PINTO|     3.1400|\n",
      "|41020654|          TORRES|     3.1400|\n",
      "|41591162|       CASTANEDA|     3.1400|\n",
      "|41034300|          TAPARA|     3.1400|\n",
      "|41150271|        CARBAJAL|     3.1400|\n",
      "|41125546|          GRADOS|     3.1400|\n",
      "|41919700|         CONDORI|     3.1400|\n",
      "|41678951|         ESCOBAR|     3.1400|\n",
      "|41676527|       CANGALAYA|     3.1400|\n",
      "|41062987|            ECHE|     3.1400|\n",
      "|41004637|         VASQUEZ|     3.1400|\n",
      "|41290421|         NORIEGA|     3.1400|\n",
      "|41133448|           DIEGO|     3.1400|\n",
      "|41899533|         PAREDES|     3.1400|\n",
      "|41869858|           MATOS|     3.1400|\n",
      "|41316157|          CHACON|     3.1400|\n",
      "|41180904|            BOZA|     3.1400|\n",
      "|41225156|      ECHEVARRIA|     3.1400|\n",
      "|41564419|        MELENDEZ|     3.1400|\n",
      "|41303274|          ALFARO|     3.1400|\n",
      "+--------+----------------+-----------+\n",
      "only showing top 20 rows\n",
      "\n"
     ]
    }
   ],
   "source": [
    "spark.sql(\"\"\"\n",
    "    select num_doc, \n",
    "        ape_pat as apellido_paterno,\n",
    "        cast(3.14 as decimal(8, 4)) as tipo_cambio\n",
    "    from default.reniec\n",
    "\"\"\").show()"
   ]
  },
  {
   "cell_type": "markdown",
   "metadata": {},
   "source": [
    "## Registrar DATAFRAME EN CATALOGO METASTORE"
   ]
  },
  {
   "cell_type": "code",
   "execution_count": 41,
   "metadata": {},
   "outputs": [],
   "source": [
    "df_csv.createOrReplaceTempView('kendal_table')"
   ]
  },
  {
   "cell_type": "code",
   "execution_count": null,
   "metadata": {},
   "outputs": [],
   "source": [
    "spark.sql(\"show databases\").show()"
   ]
  },
  {
   "cell_type": "code",
   "execution_count": null,
   "metadata": {},
   "outputs": [],
   "source": [
    "spark.sql(\"show tables from default\").show()"
   ]
  },
  {
   "cell_type": "code",
   "execution_count": null,
   "metadata": {},
   "outputs": [],
   "source": [
    "dicc_sexo = {\n",
    "    'sexo': ['M', 'F'],\n",
    "    'descsexo': ['Masculino', 'Femenino']\n",
    "}\n",
    "df_sexo = spark.createDataFrameateDataFrameateDataFrameateDataFrameateDataFrameateDataFrame"
   ]
  },
  {
   "cell_type": "code",
   "execution_count": null,
   "metadata": {},
   "outputs": [],
   "source": []
  }
 ],
 "metadata": {
  "kernelspec": {
   "display_name": "Python 2",
   "language": "python",
   "name": "python2"
  },
  "language_info": {
   "codemirror_mode": {
    "name": "ipython",
    "version": 2
   },
   "file_extension": ".py",
   "mimetype": "text/x-python",
   "name": "python",
   "nbconvert_exporter": "python",
   "pygments_lexer": "ipython2",
   "version": "2.7.15"
  }
 },
 "nbformat": 4,
 "nbformat_minor": 2
}
