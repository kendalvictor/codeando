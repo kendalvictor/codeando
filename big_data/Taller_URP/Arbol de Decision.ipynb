{
 "cells": [
  {
   "cell_type": "code",
   "execution_count": 4,
   "metadata": {},
   "outputs": [],
   "source": [
    "import findspark\n",
    "findspark.init(\"/opt/cloudera/parcels/SPARK2-2.2.0.cloudera1-1.cdh5.12.0.p0.142354/lib/spark2/\")\n",
    "import pyspark\n",
    "from pyspark.sql import SparkSession\n",
    "spark = SparkSession.builder.appName('arbol_decision').getOrCreate()\n",
    "import pandas"
   ]
  },
  {
   "cell_type": "code",
   "execution_count": 5,
   "metadata": {},
   "outputs": [],
   "source": [
    "from pyspark.ml.classification import DecisionTreeClassifier\n",
    "from pyspark.ml.linalg import Vectors\n",
    "from pyspark.ml.feature import VectorAssembler, StandardScaler\n",
    "from pandas.tools.plotting import scatter_matrix\n",
    "%matplotlib inline \n",
    "import matplotlib.pyplot as plt, numpy as np\n"
   ]
  },
  {
   "cell_type": "code",
   "execution_count": 6,
   "metadata": {
    "scrolled": true
   },
   "outputs": [
    {
     "name": "stdout",
     "output_type": "stream",
     "text": [
      "+------------+-----------+------------+-----------+-------+-----+\n",
      "|Sepal_Length|Sepal_Width|Petal_Length|Petal_Width|Species|label|\n",
      "+------------+-----------+------------+-----------+-------+-----+\n",
      "|         5.1|        3.5|         1.4|        0.2| setosa|    1|\n",
      "|         4.9|        3.0|         1.4|        0.2| setosa|    1|\n",
      "|         4.7|        3.2|         1.3|        0.2| setosa|    1|\n",
      "|         4.6|        3.1|         1.5|        0.2| setosa|    1|\n",
      "|         5.0|        3.6|         1.4|        0.2| setosa|    1|\n",
      "|         5.4|        3.9|         1.7|        0.4| setosa|    1|\n",
      "|         4.6|        3.4|         1.4|        0.3| setosa|    1|\n",
      "|         5.0|        3.4|         1.5|        0.2| setosa|    1|\n",
      "|         4.4|        2.9|         1.4|        0.2| setosa|    1|\n",
      "|         4.9|        3.1|         1.5|        0.1| setosa|    1|\n",
      "|         5.4|        3.7|         1.5|        0.2| setosa|    1|\n",
      "|         4.8|        3.4|         1.6|        0.2| setosa|    1|\n",
      "|         4.8|        3.0|         1.4|        0.1| setosa|    1|\n",
      "|         4.3|        3.0|         1.1|        0.1| setosa|    1|\n",
      "|         5.8|        4.0|         1.2|        0.2| setosa|    1|\n",
      "|         5.7|        4.4|         1.5|        0.4| setosa|    1|\n",
      "|         5.4|        3.9|         1.3|        0.4| setosa|    1|\n",
      "|         5.1|        3.5|         1.4|        0.3| setosa|    1|\n",
      "|         5.7|        3.8|         1.7|        0.3| setosa|    1|\n",
      "|         5.1|        3.8|         1.5|        0.3| setosa|    1|\n",
      "+------------+-----------+------------+-----------+-------+-----+\n",
      "only showing top 20 rows\n",
      "\n"
     ]
    }
   ],
   "source": [
    "trainning = spark.read.csv(\"/user/epinedac/datasets/iris\", header=True, nullValue=\"?\", inferSchema=True)\n",
    "trainning.show()"
   ]
  },
  {
   "cell_type": "code",
   "execution_count": 7,
   "metadata": {},
   "outputs": [],
   "source": [
    "training_data, test_data = trainning.randomSplit(weights=[0.7, 0.3], seed=12345)"
   ]
  },
  {
   "cell_type": "code",
   "execution_count": 8,
   "metadata": {},
   "outputs": [],
   "source": [
    "assembler = VectorAssembler(inputCols=[\"Sepal_Length\", \"Sepal_Width\", \"Petal_Length\", \"Petal_Width\"], outputCol=\"features\")\n",
    "assem_data = assembler.transform(training_data)\n",
    "\n",
    "assembler_test = VectorAssembler(inputCols=[\"Sepal_Length\", \"Sepal_Width\", \"Petal_Length\", \"Petal_Width\"], outputCol=\"features\")\n",
    "assem_data_test = assembler_test.transform(test_data)"
   ]
  },
  {
   "cell_type": "code",
   "execution_count": 9,
   "metadata": {},
   "outputs": [],
   "source": [
    "train_scaler = StandardScaler(inputCol=\"features\", outputCol=\"scaled_features\", withStd=True, withMean=True)\n",
    "train_scaler_model = train_scaler.fit(assem_data)\n",
    "scaled_data_train = train_scaler_model.transform(assem_data)\n",
    "\n",
    "test_scaler = StandardScaler(inputCol=\"features\", outputCol=\"scaled_features\", withStd=True, withMean=True)\n",
    "test_scaler_model = test_scaler.fit(assem_data_test)\n",
    "scaled_data_test = test_scaler_model.transform(assem_data_test)"
   ]
  },
  {
   "cell_type": "code",
   "execution_count": 11,
   "metadata": {},
   "outputs": [],
   "source": [
    "dt = DecisionTreeClassifier(labelCol=\"label\", featuresCol=\"features\")\n",
    "dtModel = dt.fit(scaled_data_train)"
   ]
  },
  {
   "cell_type": "code",
   "execution_count": 12,
   "metadata": {},
   "outputs": [
    {
     "name": "stdout",
     "output_type": "stream",
     "text": [
      "+------------+-----------+------------+-----------+----------+-----+-----------------+--------------------+------------------+-----------------+----------+\n",
      "|Sepal_Length|Sepal_Width|Petal_Length|Petal_Width|   Species|label|         features|     scaled_features|     rawPrediction|      probability|prediction|\n",
      "+------------+-----------+------------+-----------+----------+-----+-----------------+--------------------+------------------+-----------------+----------+\n",
      "|         4.5|        2.3|         1.3|        0.3|    setosa|    1|[4.5,2.3,1.3,0.3]|[-1.6550481964773...|[0.0,38.0,0.0,0.0]|[0.0,1.0,0.0,0.0]|       1.0|\n",
      "|         4.6|        3.1|         1.5|        0.2|    setosa|    1|[4.6,3.1,1.5,0.2]|[-1.5356676708297...|[0.0,38.0,0.0,0.0]|[0.0,1.0,0.0,0.0]|       1.0|\n",
      "|         4.6|        3.4|         1.4|        0.3|    setosa|    1|[4.6,3.4,1.4,0.3]|[-1.5356676708297...|[0.0,38.0,0.0,0.0]|[0.0,1.0,0.0,0.0]|       1.0|\n",
      "|         4.6|        3.6|         1.0|        0.2|    setosa|    1|[4.6,3.6,1.0,0.2]|[-1.5356676708297...|[0.0,38.0,0.0,0.0]|[0.0,1.0,0.0,0.0]|       1.0|\n",
      "|         4.8|        3.4|         1.9|        0.2|    setosa|    1|[4.8,3.4,1.9,0.2]|[-1.2969066195346...|[0.0,0.0,35.0,0.0]|[0.0,0.0,1.0,0.0]|       2.0|\n",
      "|         4.9|        2.4|         3.3|        1.0|versicolor|    2|[4.9,2.4,3.3,1.0]|[-1.1775260938871...|[0.0,0.0,35.0,0.0]|[0.0,0.0,1.0,0.0]|       2.0|\n",
      "|         4.9|        2.5|         4.5|        1.7| virginica|    3|[4.9,2.5,4.5,1.7]|[-1.1775260938871...|[0.0,0.0,35.0,0.0]|[0.0,0.0,1.0,0.0]|       2.0|\n",
      "|         4.9|        3.1|         1.5|        0.2|    setosa|    1|[4.9,3.1,1.5,0.2]|[-1.1775260938871...|[0.0,38.0,0.0,0.0]|[0.0,1.0,0.0,0.0]|       1.0|\n",
      "|         5.0|        2.3|         3.3|        1.0|versicolor|    2|[5.0,2.3,3.3,1.0]|[-1.0581455682395...|[0.0,0.0,35.0,0.0]|[0.0,0.0,1.0,0.0]|       2.0|\n",
      "|         5.1|        3.5|         1.4|        0.2|    setosa|    1|[5.1,3.5,1.4,0.2]|[-0.9387650425920...|[0.0,38.0,0.0,0.0]|[0.0,1.0,0.0,0.0]|       1.0|\n",
      "|         5.1|        3.8|         1.9|        0.4|    setosa|    1|[5.1,3.8,1.9,0.4]|[-0.9387650425920...|[0.0,0.0,35.0,0.0]|[0.0,0.0,1.0,0.0]|       2.0|\n",
      "|         5.2|        3.4|         1.4|        0.2|    setosa|    1|[5.2,3.4,1.4,0.2]|[-0.8193845169445...|[0.0,38.0,0.0,0.0]|[0.0,1.0,0.0,0.0]|       1.0|\n",
      "|         5.4|        3.9|         1.7|        0.4|    setosa|    1|[5.4,3.9,1.7,0.4]|[-0.5806234656494...|[0.0,38.0,0.0,0.0]|[0.0,1.0,0.0,0.0]|       1.0|\n",
      "|         5.5|        2.3|         4.0|        1.3|versicolor|    2|[5.5,2.3,4.0,1.3]|[-0.4612429400018...|[0.0,0.0,35.0,0.0]|[0.0,0.0,1.0,0.0]|       2.0|\n",
      "|         5.5|        2.6|         4.4|        1.2|versicolor|    2|[5.5,2.6,4.4,1.2]|[-0.4612429400018...|[0.0,0.0,35.0,0.0]|[0.0,0.0,1.0,0.0]|       2.0|\n",
      "|         5.7|        2.6|         3.5|        1.0|versicolor|    2|[5.7,2.6,3.5,1.0]|[-0.2224818887067...|[0.0,0.0,35.0,0.0]|[0.0,0.0,1.0,0.0]|       2.0|\n",
      "|         5.7|        2.8|         4.5|        1.3|versicolor|    2|[5.7,2.8,4.5,1.3]|[-0.2224818887067...|[0.0,0.0,35.0,0.0]|[0.0,0.0,1.0,0.0]|       2.0|\n",
      "|         5.7|        3.0|         4.2|        1.2|versicolor|    2|[5.7,3.0,4.2,1.2]|[-0.2224818887067...|[0.0,0.0,35.0,0.0]|[0.0,0.0,1.0,0.0]|       2.0|\n",
      "|         5.7|        4.4|         1.5|        0.4|    setosa|    1|[5.7,4.4,1.5,0.4]|[-0.2224818887067...|[0.0,38.0,0.0,0.0]|[0.0,1.0,0.0,0.0]|       1.0|\n",
      "|         5.8|        2.7|         3.9|        1.2|versicolor|    2|[5.8,2.7,3.9,1.2]|[-0.1031013630592...|[0.0,0.0,35.0,0.0]|[0.0,0.0,1.0,0.0]|       2.0|\n",
      "+------------+-----------+------------+-----------+----------+-----+-----------------+--------------------+------------------+-----------------+----------+\n",
      "only showing top 20 rows\n",
      "\n"
     ]
    }
   ],
   "source": [
    "predictions = dtModel.transform(scaled_data_test)\n",
    "predictions.show()"
   ]
  },
  {
   "cell_type": "code",
   "execution_count": 14,
   "metadata": {},
   "outputs": [],
   "source": [
    "#codigo para obtener la matriz de confusión\n",
    "predictions.createOrReplaceTempView(\"rf_modelpd_2\")"
   ]
  },
  {
   "cell_type": "code",
   "execution_count": 15,
   "metadata": {},
   "outputs": [
    {
     "name": "stdout",
     "output_type": "stream",
     "text": [
      "+----+----------+--------+\n",
      "|real|prediction|cantidad|\n",
      "+----+----------+--------+\n",
      "|   1|       1.0|      10|\n",
      "|   1|       2.0|       2|\n",
      "|   2|       2.0|      12|\n",
      "|   3|       2.0|       1|\n",
      "|   3|       3.0|      19|\n",
      "+----+----------+--------+\n",
      "\n"
     ]
    }
   ],
   "source": [
    "spark.sql(\"\"\"\n",
    "            select label as real, prediction, count(1) as cantidad\n",
    "              from rf_modelpd_2\n",
    "              group by label, prediction\n",
    "              order by 1, 2 asc\n",
    "          \"\"\").show()"
   ]
  },
  {
   "cell_type": "code",
   "execution_count": 16,
   "metadata": {},
   "outputs": [],
   "source": [
    "spark.stop()"
   ]
  },
  {
   "cell_type": "code",
   "execution_count": 11,
   "metadata": {},
   "outputs": [],
   "source": [
    "import matplotlib.pyplot as plt"
   ]
  },
  {
   "cell_type": "code",
   "execution_count": 12,
   "metadata": {},
   "outputs": [],
   "source": [
    "df_pandas=trainning.toPandas()"
   ]
  },
  {
   "cell_type": "code",
   "execution_count": 15,
   "metadata": {},
   "outputs": [
    {
     "data": {
      "text/plain": [
       "Index([u'Sepal_Length', u'Sepal_Width', u'Petal_Length', u'Petal_Width',\n",
       "       u'Species', u'label'],\n",
       "      dtype='object')"
      ]
     },
     "execution_count": 15,
     "metadata": {},
     "output_type": "execute_result"
    }
   ],
   "source": [
    "df_pandas.columns"
   ]
  },
  {
   "cell_type": "code",
   "execution_count": 27,
   "metadata": {},
   "outputs": [
    {
     "data": {
      "image/png": "[encoded data removed]",
      "text/plain": [
       "<Figure size 432x288 with 1 Axes>"
      ]
     },
     "metadata": {},
     "output_type": "display_data"
    }
   ],
   "source": [
    "p1=plt.scatter(df_pandas['Sepal_Length'],df_pandas['Petal_Width'])"
   ]
  },
  {
   "cell_type": "code",
   "execution_count": 28,
   "metadata": {},
   "outputs": [
    {
     "data": {
      "text/plain": [
       "matplotlib.collections.PathCollection"
      ]
     },
     "execution_count": 28,
     "metadata": {},
     "output_type": "execute_result"
    }
   ],
   "source": [
    "type(plot_save)"
   ]
  },
  {
   "cell_type": "code",
   "execution_count": 31,
   "metadata": {},
   "outputs": [],
   "source": [
    "plt.show()\n",
    "plt.savefig('to_4.png') \n",
    "\n",
    "plt.close()"
   ]
  },
  {
   "cell_type": "code",
   "execution_count": 30,
   "metadata": {},
   "outputs": [],
   "source": [
    "#help(plt.savefig)"
   ]
  },
  {
   "cell_type": "code",
   "execution_count": 32,
   "metadata": {},
   "outputs": [
    {
     "data": {
      "text/plain": [
       "[<matplotlib.lines.Line2D at 0x5e67b10>]"
      ]
     },
     "execution_count": 32,
     "metadata": {},
     "output_type": "execute_result"
    },
    {
     "data": {
      "image/png": "[encoded data removed]",
      "text/plain": [
       "<Figure size 432x288 with 1 Axes>"
      ]
     },
     "metadata": {},
     "output_type": "display_data"
    }
   ],
   "source": [
    "plt.plot([0, 1, 2, 3, 4], [0, 3, 5, 9, 11])"
   ]
  },
  {
   "cell_type": "code",
   "execution_count": 33,
   "metadata": {},
   "outputs": [
    {
     "data": {
      "text/plain": [
       "Text(0,0.5,'Books Read')"
      ]
     },
     "execution_count": 33,
     "metadata": {},
     "output_type": "execute_result"
    },
    {
     "data": {
      "image/png": "[encoded data removed]",
      "text/plain": [
       "<Figure size 432x288 with 1 Axes>"
      ]
     },
     "metadata": {},
     "output_type": "display_data"
    }
   ],
   "source": [
    "plt.xlabel('Months')\n",
    "plt.ylabel('Books Read')"
   ]
  },
  {
   "cell_type": "code",
   "execution_count": 34,
   "metadata": {},
   "outputs": [],
   "source": [
    "plt.show()"
   ]
  },
  {
   "cell_type": "code",
   "execution_count": 35,
   "metadata": {},
   "outputs": [
    {
     "data": {
      "text/plain": [
       "<Figure size 432x288 with 0 Axes>"
      ]
     },
     "metadata": {},
     "output_type": "display_data"
    }
   ],
   "source": [
    "plt.savefig('books_read.png')"
   ]
  },
  {
   "cell_type": "code",
   "execution_count": 38,
   "metadata": {},
   "outputs": [
    {
     "data": {
      "image/png": "[encoded data removed]",
      "text/plain": [
       "<Figure size 432x288 with 1 Axes>"
      ]
     },
     "metadata": {},
     "output_type": "display_data"
    }
   ],
   "source": [
    "import matplotlib\n",
    "import matplotlib.pyplot as plt\n",
    "import numpy as np\n",
    " \n",
    "y = df_pandas['Sepal_Length']\n",
    "x = df_pandas['Petal_Width']\n",
    "fig = plt.figure()\n",
    "ax = plt.subplot(111)\n",
    "ax.scatter(x, y, label='$y = numbers')\n",
    "plt.title('Legend inside')\n",
    "ax.legend()\n",
    "#plt.show()\n",
    " \n",
    "fig.savefig('plot_3.png')"
   ]
  },
  {
   "cell_type": "code",
   "execution_count": null,
   "metadata": {},
   "outputs": [],
   "source": []
  }
 ],
 "metadata": {
  "kernelspec": {
   "display_name": "Python 2",
   "language": "python",
   "name": "python2"
  },
  "language_info": {
   "codemirror_mode": {
    "name": "ipython",
    "version": 2
   },
   "file_extension": ".py",
   "mimetype": "text/x-python",
   "name": "python",
   "nbconvert_exporter": "python",
   "pygments_lexer": "ipython2",
   "version": "2.7.15"
  }
 },
 "nbformat": 4,
 "nbformat_minor": 2
}
