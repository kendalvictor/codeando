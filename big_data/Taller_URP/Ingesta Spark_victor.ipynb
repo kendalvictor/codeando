{
 "cells": [
  {
   "cell_type": "code",
   "execution_count": 1,
   "metadata": {},
   "outputs": [],
   "source": [
    "import findspark\n",
    "findspark.init('/opt/cloudera/parcels/SPARK2-2.3.0.cloudera3-1.cdh5.13.3.p0.458809/lib/spark2')\n",
    "from pyspark.sql import SparkSession\n",
    "spark = SparkSession.builder.appName('con_eder').getOrCreate()"
   ]
  },
  {
   "cell_type": "code",
   "execution_count": 2,
   "metadata": {},
   "outputs": [],
   "source": [
    "url = \"jdbc:postgresql://mydabasesesprueba.ctqd53cbomwx.us-east-2.rds.amazonaws.com/dbprueba\"\n",
    "\n",
    "connectionProperties = {\n",
    "    'user' : 'epinedac',\n",
    "    'password' : 'epinedac'\n",
    "}"
   ]
  },
  {
   "cell_type": "code",
   "execution_count": 13,
   "metadata": {},
   "outputs": [],
   "source": [
    "url = \"jdbc:mysql://MYSQL5009.site4now.net:3306/db_a05768_ederp\"\n",
    "\n",
    "connectionProperties = {\n",
    "  'user' : 'a05768_ederp',\n",
    "  'password' : 'eder2018'\n",
    "}\n",
    "\n",
    "query = \"\"\"(select *\n",
    "            from personas_reniec) personas_reniec\"\"\"\n",
    "\n",
    "query_2 = \"\"\"\n",
    "            (select a.*\n",
    "                from stg_formato_01 a\n",
    "            inner join stg_formato_01_hist b on a.vchnumid = b.vchnumid\n",
    "            ) query_minagri\"\"\"\n"
   ]
  },
  {
   "cell_type": "code",
   "execution_count": 11,
   "metadata": {},
   "outputs": [],
   "source": [
    "df_mysql = spark.read.jdbc(url=url,table=\"personas_reniec\",properties=connectionProperties)"
   ]
  },
  {
   "cell_type": "code",
   "execution_count": 8,
   "metadata": {},
   "outputs": [],
   "source": [
    "df_mysql_2 = spark.read.jdbc(url=url,table=query,properties=connectionProperties)"
   ]
  },
  {
   "cell_type": "code",
   "execution_count": 14,
   "metadata": {},
   "outputs": [],
   "source": [
    "df_mysql_3 = spark.read.jdbc(url=url,table=query_2,properties=connectionProperties)"
   ]
  },
  {
   "cell_type": "code",
   "execution_count": 9,
   "metadata": {},
   "outputs": [
    {
     "data": {
      "text/plain": [
       "5000"
      ]
     },
     "execution_count": 9,
     "metadata": {},
     "output_type": "execute_result"
    }
   ],
   "source": [
    "df_mysql_2.count()"
   ]
  },
  {
   "cell_type": "code",
   "execution_count": 6,
   "metadata": {},
   "outputs": [
    {
     "data": {
      "text/plain": [
       "5000"
      ]
     },
     "execution_count": 6,
     "metadata": {},
     "output_type": "execute_result"
    }
   ],
   "source": [
    "df_mysql.count()"
   ]
  },
  {
   "cell_type": "code",
   "execution_count": 15,
   "metadata": {},
   "outputs": [
    {
     "data": {
      "text/plain": [
       "16956"
      ]
     },
     "execution_count": 15,
     "metadata": {},
     "output_type": "execute_result"
    }
   ],
   "source": [
    "df_mysql_3.count()"
   ]
  },
  {
   "cell_type": "code",
   "execution_count": 7,
   "metadata": {},
   "outputs": [],
   "source": [
    "df_mysql.write.format(\"parquet\").mode(\"overwrite\").save(\"/user/dnarvaez/data_out/personas_reniec\")"
   ]
  },
  {
   "cell_type": "code",
   "execution_count": null,
   "metadata": {},
   "outputs": [],
   "source": []
  }
 ],
 "metadata": {
  "kernelspec": {
   "display_name": "Python 3",
   "language": "python",
   "name": "python3"
  },
  "language_info": {
   "codemirror_mode": {
    "name": "ipython",
    "version": 3
   },
   "file_extension": ".py",
   "mimetype": "text/x-python",
   "name": "python",
   "nbconvert_exporter": "python",
   "pygments_lexer": "ipython3",
   "version": "3.6.5"
  }
 },
 "nbformat": 4,
 "nbformat_minor": 2
}
