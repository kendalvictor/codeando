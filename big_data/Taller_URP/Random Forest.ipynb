{
 "cells": [
  {
   "cell_type": "code",
   "execution_count": 1,
   "metadata": {},
   "outputs": [
    {
     "name": "stderr",
     "output_type": "stream",
     "text": [
      "/usr/lib/python2.7/site-packages/subprocess32.py:146: RuntimeWarning: The _posixsubprocess module is not being used. Child process reliability may suffer if your program uses threads.\n",
      "  \"program uses threads.\", RuntimeWarning)\n"
     ]
    }
   ],
   "source": [
    "import findspark\n",
    "findspark.init(\"/opt/cloudera/parcels/SPARK2-2.2.0.cloudera1-1.cdh5.12.0.p0.142354/lib/spark2/\")\n",
    "\n",
    "import pyspark\n",
    "from pyspark.sql import SparkSession\n",
    "spark = SparkSession.builder.appName('random_forest').getOrCreate()\n",
    "import pandas"
   ]
  },
  {
   "cell_type": "code",
   "execution_count": 8,
   "metadata": {},
   "outputs": [],
   "source": [
    "from pyspark.ml.classification import RandomForestClassifier\n",
    "from pyspark.ml.linalg import Vectors\n",
    "from pyspark.ml.feature import VectorAssembler, StandardScaler\n",
    "from pandas.tools.plotting import scatter_matrix\n",
    "%matplotlib inline \n",
    "import matplotlib.pyplot as plt, numpy as np\n"
   ]
  },
  {
   "cell_type": "code",
   "execution_count": 9,
   "metadata": {},
   "outputs": [
    {
     "name": "stdout",
     "output_type": "stream",
     "text": [
      "+------------+-----------+------------+-----------+-------+-----+\n",
      "|Sepal_Length|Sepal_Width|Petal_Length|Petal_Width|Species|label|\n",
      "+------------+-----------+------------+-----------+-------+-----+\n",
      "|         5.1|        3.5|         1.4|        0.2| setosa|    1|\n",
      "|         4.9|        3.0|         1.4|        0.2| setosa|    1|\n",
      "|         4.7|        3.2|         1.3|        0.2| setosa|    1|\n",
      "|         4.6|        3.1|         1.5|        0.2| setosa|    1|\n",
      "|         5.0|        3.6|         1.4|        0.2| setosa|    1|\n",
      "|         5.4|        3.9|         1.7|        0.4| setosa|    1|\n",
      "|         4.6|        3.4|         1.4|        0.3| setosa|    1|\n",
      "|         5.0|        3.4|         1.5|        0.2| setosa|    1|\n",
      "|         4.4|        2.9|         1.4|        0.2| setosa|    1|\n",
      "|         4.9|        3.1|         1.5|        0.1| setosa|    1|\n",
      "|         5.4|        3.7|         1.5|        0.2| setosa|    1|\n",
      "|         4.8|        3.4|         1.6|        0.2| setosa|    1|\n",
      "|         4.8|        3.0|         1.4|        0.1| setosa|    1|\n",
      "|         4.3|        3.0|         1.1|        0.1| setosa|    1|\n",
      "|         5.8|        4.0|         1.2|        0.2| setosa|    1|\n",
      "|         5.7|        4.4|         1.5|        0.4| setosa|    1|\n",
      "|         5.4|        3.9|         1.3|        0.4| setosa|    1|\n",
      "|         5.1|        3.5|         1.4|        0.3| setosa|    1|\n",
      "|         5.7|        3.8|         1.7|        0.3| setosa|    1|\n",
      "|         5.1|        3.8|         1.5|        0.3| setosa|    1|\n",
      "+------------+-----------+------------+-----------+-------+-----+\n",
      "only showing top 20 rows\n",
      "\n"
     ]
    }
   ],
   "source": [
    "\n",
    "# En esta sección se carga el dataset (dataframe) de datos\n",
    "# este codigo puede ser cambiado por el spark.sql si tuviesemos la tabla cargada en Hive o Impala\n",
    "\n",
    "trainning = spark.read.csv(\"/user/epinedac/datasets/iris\", header=True, nullValue=\"?\", inferSchema=True)\n",
    "trainning.show()"
   ]
  },
  {
   "cell_type": "code",
   "execution_count": 10,
   "metadata": {},
   "outputs": [],
   "source": [
    "training_data, test_data = trainning.randomSplit(weights=[0.7, 0.3], seed=12345)"
   ]
  },
  {
   "cell_type": "code",
   "execution_count": 11,
   "metadata": {},
   "outputs": [],
   "source": [
    "assembler = VectorAssembler(inputCols=[\"Sepal_Length\", \"Sepal_Width\", \"Petal_Length\", \"Petal_Width\"], outputCol=\"features\")\n",
    "assem_data = assembler.transform(training_data)\n",
    "\n",
    "assembler_test = VectorAssembler(inputCols=[\"Sepal_Length\", \"Sepal_Width\", \"Petal_Length\", \"Petal_Width\"], outputCol=\"features\")\n",
    "assem_data_test = assembler_test.transform(test_data)"
   ]
  },
  {
   "cell_type": "code",
   "execution_count": 12,
   "metadata": {},
   "outputs": [],
   "source": [
    "\n",
    "train_scaler = StandardScaler(inputCol=\"features\", outputCol=\"scaled_features\", withStd=True, withMean=True)\n",
    "train_scaler_model = train_scaler.fit(assem_data)\n",
    "scaled_data_train = train_scaler_model.transform(assem_data)\n",
    "\n",
    "test_scaler = StandardScaler(inputCol=\"features\", outputCol=\"scaled_features\", withStd=True, withMean=True)\n",
    "test_scaler_model = test_scaler.fit(assem_data_test)\n",
    "scaled_data_test = test_scaler_model.transform(assem_data_test)\n",
    "\n"
   ]
  },
  {
   "cell_type": "code",
   "execution_count": 13,
   "metadata": {},
   "outputs": [],
   "source": [
    "rf = RandomForestClassifier(labelCol=\"label\", featuresCol=\"scaled_features\")\n",
    "rfModel = rf.fit(scaled_data_train)"
   ]
  },
  {
   "cell_type": "code",
   "execution_count": 14,
   "metadata": {},
   "outputs": [
    {
     "name": "stdout",
     "output_type": "stream",
     "text": [
      "+------------+-----------+------------+-----------+----------+-----+-----------------+--------------------+--------------------+--------------------+----------+\n",
      "|Sepal_Length|Sepal_Width|Petal_Length|Petal_Width|   Species|label|         features|     scaled_features|       rawPrediction|         probability|prediction|\n",
      "+------------+-----------+------------+-----------+----------+-----+-----------------+--------------------+--------------------+--------------------+----------+\n",
      "|         4.5|        2.3|         1.3|        0.3|    setosa|    1|[4.5,2.3,1.3,0.3]|[-1.6550481964773...|  [0.0,19.0,1.0,0.0]| [0.0,0.95,0.05,0.0]|       1.0|\n",
      "|         4.6|        3.1|         1.5|        0.2|    setosa|    1|[4.6,3.1,1.5,0.2]|[-1.5356676708297...|  [0.0,20.0,0.0,0.0]|   [0.0,1.0,0.0,0.0]|       1.0|\n",
      "|         4.6|        3.4|         1.4|        0.3|    setosa|    1|[4.6,3.4,1.4,0.3]|[-1.5356676708297...|  [0.0,20.0,0.0,0.0]|   [0.0,1.0,0.0,0.0]|       1.0|\n",
      "|         4.6|        3.6|         1.0|        0.2|    setosa|    1|[4.6,3.6,1.0,0.2]|[-1.5356676708297...|  [0.0,20.0,0.0,0.0]|   [0.0,1.0,0.0,0.0]|       1.0|\n",
      "|         4.8|        3.4|         1.9|        0.2|    setosa|    1|[4.8,3.4,1.9,0.2]|[-1.2969066195346...|  [0.0,20.0,0.0,0.0]|   [0.0,1.0,0.0,0.0]|       1.0|\n",
      "|         4.9|        2.4|         3.3|        1.0|versicolor|    2|[4.9,2.4,3.3,1.0]|[-1.1775260938871...|  [0.0,0.0,20.0,0.0]|   [0.0,0.0,1.0,0.0]|       2.0|\n",
      "|         4.9|        2.5|         4.5|        1.7| virginica|    3|[4.9,2.5,4.5,1.7]|[-1.1775260938871...|  [0.0,1.0,17.0,2.0]| [0.0,0.05,0.85,0.1]|       2.0|\n",
      "|         4.9|        3.1|         1.5|        0.2|    setosa|    1|[4.9,3.1,1.5,0.2]|[-1.1775260938871...|  [0.0,20.0,0.0,0.0]|   [0.0,1.0,0.0,0.0]|       1.0|\n",
      "|         5.0|        2.3|         3.3|        1.0|versicolor|    2|[5.0,2.3,3.3,1.0]|[-1.0581455682395...|  [0.0,0.0,20.0,0.0]|   [0.0,0.0,1.0,0.0]|       2.0|\n",
      "|         5.1|        3.5|         1.4|        0.2|    setosa|    1|[5.1,3.5,1.4,0.2]|[-0.9387650425920...|  [0.0,20.0,0.0,0.0]|   [0.0,1.0,0.0,0.0]|       1.0|\n",
      "|         5.1|        3.8|         1.9|        0.4|    setosa|    1|[5.1,3.8,1.9,0.4]|[-0.9387650425920...|  [0.0,20.0,0.0,0.0]|   [0.0,1.0,0.0,0.0]|       1.0|\n",
      "|         5.2|        3.4|         1.4|        0.2|    setosa|    1|[5.2,3.4,1.4,0.2]|[-0.8193845169445...|  [0.0,20.0,0.0,0.0]|   [0.0,1.0,0.0,0.0]|       1.0|\n",
      "|         5.4|        3.9|         1.7|        0.4|    setosa|    1|[5.4,3.9,1.7,0.4]|[-0.5806234656494...|  [0.0,20.0,0.0,0.0]|   [0.0,1.0,0.0,0.0]|       1.0|\n",
      "|         5.5|        2.3|         4.0|        1.3|versicolor|    2|[5.5,2.3,4.0,1.3]|[-0.4612429400018...|  [0.0,0.0,20.0,0.0]|   [0.0,0.0,1.0,0.0]|       2.0|\n",
      "|         5.5|        2.6|         4.4|        1.2|versicolor|    2|[5.5,2.6,4.4,1.2]|[-0.4612429400018...|  [0.0,1.0,19.0,0.0]| [0.0,0.05,0.95,0.0]|       2.0|\n",
      "|         5.7|        2.6|         3.5|        1.0|versicolor|    2|[5.7,2.6,3.5,1.0]|[-0.2224818887067...|[0.0,0.0,19.92307...|[0.0,0.0,0.996153...|       2.0|\n",
      "|         5.7|        2.8|         4.5|        1.3|versicolor|    2|[5.7,2.8,4.5,1.3]|[-0.2224818887067...|  [0.0,0.0,20.0,0.0]|   [0.0,0.0,1.0,0.0]|       2.0|\n",
      "|         5.7|        3.0|         4.2|        1.2|versicolor|    2|[5.7,3.0,4.2,1.2]|[-0.2224818887067...|  [0.0,0.0,20.0,0.0]|   [0.0,0.0,1.0,0.0]|       2.0|\n",
      "|         5.7|        4.4|         1.5|        0.4|    setosa|    1|[5.7,4.4,1.5,0.4]|[-0.2224818887067...|  [0.0,18.0,2.0,0.0]|   [0.0,0.9,0.1,0.0]|       1.0|\n",
      "|         5.8|        2.7|         3.9|        1.2|versicolor|    2|[5.8,2.7,3.9,1.2]|[-0.1031013630592...|[0.0,0.0,19.92307...|[0.0,0.0,0.996153...|       2.0|\n",
      "+------------+-----------+------------+-----------+----------+-----+-----------------+--------------------+--------------------+--------------------+----------+\n",
      "only showing top 20 rows\n",
      "\n"
     ]
    }
   ],
   "source": [
    "# Score test Data\n",
    "predictions = rfModel.transform(scaled_data_test)\n",
    "predictions.show()"
   ]
  },
  {
   "cell_type": "code",
   "execution_count": 16,
   "metadata": {},
   "outputs": [],
   "source": [
    "#codigo para obtener la matriz de confusión\n",
    "predictions.createOrReplaceTempView(\"rf_modelpd_2\")"
   ]
  },
  {
   "cell_type": "code",
   "execution_count": 17,
   "metadata": {},
   "outputs": [
    {
     "name": "stdout",
     "output_type": "stream",
     "text": [
      "+----+----------+--------+\n",
      "|real|prediction|cantidad|\n",
      "+----+----------+--------+\n",
      "|   1|       1.0|      12|\n",
      "|   2|       2.0|      12|\n",
      "|   3|       2.0|       3|\n",
      "|   3|       3.0|      17|\n",
      "+----+----------+--------+\n",
      "\n"
     ]
    }
   ],
   "source": [
    "spark.sql(\"\"\"\n",
    "            select label as real, prediction, count(1) as cantidad\n",
    "              from rf_modelpd_2\n",
    "              group by label, prediction\n",
    "              order by 1, 2 asc\n",
    "          \"\"\").show()"
   ]
  },
  {
   "cell_type": "code",
   "execution_count": 18,
   "metadata": {},
   "outputs": [],
   "source": [
    "spark.stop()"
   ]
  },
  {
   "cell_type": "code",
   "execution_count": null,
   "metadata": {},
   "outputs": [],
   "source": []
  }
 ],
 "metadata": {
  "kernelspec": {
   "display_name": "Python 2",
   "language": "python",
   "name": "python2"
  },
  "language_info": {
   "codemirror_mode": {
    "name": "ipython",
    "version": 2
   },
   "file_extension": ".py",
   "mimetype": "text/x-python",
   "name": "python",
   "nbconvert_exporter": "python",
   "pygments_lexer": "ipython2",
   "version": "2.7.15"
  }
 },
 "nbformat": 4,
 "nbformat_minor": 2
}
