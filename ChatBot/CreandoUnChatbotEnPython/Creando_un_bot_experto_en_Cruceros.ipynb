{
 "cells": [
  {
   "cell_type": "code",
   "execution_count": 3,
   "metadata": {
    "collapsed": true
   },
   "outputs": [
    {
     "name": "stdout",
     "output_type": "stream",
     "text": [
      "chatbot :  <chatterbot.chatterbot.ChatBot object at 0x7fa1b0065be0>\n",
      "['__class__', '__delattr__', '__dict__', '__dir__', '__doc__', '__eq__', '__format__', '__ge__', '__getattribute__', '__gt__', '__hash__', '__init__', '__init_subclass__', '__le__', '__lt__', '__module__', '__ne__', '__new__', '__reduce__', '__reduce_ex__', '__repr__', '__setattr__', '__sizeof__', '__str__', '__subclasshook__', '__weakref__', 'default_conversation_id', 'default_session', 'filters', 'generate_response', 'get_response', 'initialize', 'input', 'learn_response', 'logger', 'logic', 'name', 'output', 'preprocessors', 'read_only', 'set_trainer', 'storage', 'train', 'trainer', 'training_data']\n"
     ]
    },
    {
     "ename": "AttributeError",
     "evalue": "'NoneType' object has no attribute 'id'",
     "output_type": "error",
     "traceback": [
      "\u001b[0;31m-----------------------------------\u001b[0m",
      "\u001b[0;31mAttributeError\u001b[0mTraceback (most recent call last)",
      "\u001b[0;32m<ipython-input-3-04ec090725a0>\u001b[0m in \u001b[0;36m<module>\u001b[0;34m()\u001b[0m\n\u001b[1;32m     40\u001b[0m \u001b[0mprint\u001b[0m\u001b[0;34m(\u001b[0m\u001b[0;34m'chatbot : '\u001b[0m\u001b[0;34m,\u001b[0m \u001b[0mchatbot\u001b[0m\u001b[0;34m)\u001b[0m\u001b[0;34m\u001b[0m\u001b[0m\n\u001b[1;32m     41\u001b[0m \u001b[0mprint\u001b[0m\u001b[0;34m(\u001b[0m\u001b[0mdir\u001b[0m\u001b[0;34m(\u001b[0m\u001b[0mchatbot\u001b[0m\u001b[0;34m)\u001b[0m\u001b[0;34m)\u001b[0m\u001b[0;34m\u001b[0m\u001b[0m\n\u001b[0;32m---> 42\u001b[0;31m \u001b[0mDEFAULT_SESSION_ID\u001b[0m \u001b[0;34m=\u001b[0m \u001b[0mchatbot\u001b[0m\u001b[0;34m.\u001b[0m\u001b[0mdefault_session\u001b[0m\u001b[0;34m.\u001b[0m\u001b[0mid\u001b[0m\u001b[0;34m\u001b[0m\u001b[0m\n\u001b[0m",
      "\u001b[0;31mAttributeError\u001b[0m: 'NoneType' object has no attribute 'id'"
     ]
    }
   ],
   "source": [
    "from chatterbot import ChatBot\n",
    "\n",
    "\n",
    "chatbot = ChatBot(\n",
    "    \"Experto_cruceros\",\n",
    "\n",
    "    storage_adapter='chatterbot.storage.MongoDatabaseAdapter',\n",
    "    database_uri='mongodb://localhost:27017/',\n",
    "    database='chatterbot_cruises',\n",
    "    \n",
    "    input_adapter=\"chatterbot.input.TerminalAdapter\",\n",
    "    \n",
    "    output_adapter=\"chatterbot.output.OutputAdapter\",\n",
    "    output_format=\"text\",\n",
    "\n",
    "    logic_adapters=[\n",
    "        {\n",
    "            \"import_path\": \"chatterbot.logic.BestMatch\",\n",
    "            \"statement_comparison_function\": \"chatterbot.comparisons.levenshtein_distance\",\n",
    "            \"response_selection_method\": \"chatterbot.response_selection.get_most_frequent_response\"\n",
    "        },\n",
    "        {\n",
    "            'import_path': 'chatterbot.logic.LowConfidenceAdapter',\n",
    "            'threshold': 0.51,\n",
    "            'default_response': 'Disculpa, no te he entendido bien, sólo soy experto en viajes. ¿Puedes ser más específico?.'\n",
    "        },\n",
    "        {\n",
    "            'import_path': 'chatterbot.logic.SpecificResponseAdapter',\n",
    "            'input_text': 'Quiero reservar un crucero',\n",
    "            'output_text': 'Puedes reservarlo ahora en: https://www.logitravel.com/cruceros/'\n",
    "        },\n",
    "    ],\n",
    "    \n",
    "    preprocessors=[\n",
    "        'chatterbot.preprocessors.clean_whitespace'\n",
    "    ],\n",
    "    read_only=False,\n",
    ")\n",
    "print('chatbot : ', chatbot)\n",
    "print(dir(chatbot))\n",
    "DEFAULT_SESSION_ID = chatbot.default_session.id"
   ]
  },
  {
   "cell_type": "code",
   "execution_count": 2,
   "metadata": {
    "collapsed": true
   },
   "outputs": [],
   "source": [
    "from chatterbot.trainers import ChatterBotCorpusTrainer\n",
    "\n",
    "chatbot.set_trainer(ChatterBotCorpusTrainer)\n",
    "chatbot.train(\"./cruises_ES.yml\")"
   ]
  },
  {
   "cell_type": "code",
   "execution_count": 3,
   "metadata": {},
   "outputs": [
    {
     "name": "stdout",
     "output_type": "stream",
     "text": [
      "¿que puedo hacer en un crucero?\n",
      "\n",
      "Los Cruceros son las vacaciones 10. El viajar en un crucero es más que ir de un puerto interesante a otro. Es una manera agradable de viajar, evitando el barullo de hacerlo por aire, tren o automóvil y teniendo que entrar y salir de hoteles. No hay que hacer y deshacer maletas, no hay que manejar dinero ni divisas, no viajes en taxi a aeropuertos y largas esperas en las terminales,... Añade a eso los placeres y la tranquilidad de estar en un barco de crucero, que provee transporte, hospedaje, comidas y entretenimiento todo en un paquete.\n",
      "\n",
      "\n",
      "¿puedo utilizar un móvil?\n",
      "\n",
      "Puedes usar el teléfono móvil siempre que tengas cobertura suficiente. Esto suele ser normalmente cuando el buque se encuentra en puerto o navegando cerca de la costa. Algunas navieras disponen de comunicación GSM en todo el barco, incluso en alta mar.\n",
      "\n",
      "\n",
      "¿tendré internet?\n",
      "\n",
      "La mayoría de buques ya disponen de internet como servicio.\n",
      "\n",
      "\n",
      "¿Se come bien en un crucero?\n",
      "\n",
      "Los Cruceros son las vacaciones 10. El viajar en un crucero es más que ir de un puerto interesante a otro. Es una manera agradable de viajar, evitando el barullo de hacerlo por aire, tren o automóvil y teniendo que entrar y salir de hoteles. No hay que hacer y deshacer maletas, no hay que manejar dinero ni divisas, no viajes en taxi a aeropuertos y largas esperas en las terminales,... Añade a eso los placeres y la tranquilidad de estar en un barco de crucero, que provee transporte, hospedaje, comidas y entretenimiento todo en un paquete.\n",
      "\n",
      "\n",
      "¿se come bien?\n",
      "\n",
      "Los cruceros son una oportunidad única para poder degustar una amplia gama de alta calidad, con una diversidad de platos típicos de todas las partes del mundo, ya sea con sabor mediterráneo como al más propio estilo americano.\n",
      "\n",
      "\n",
      "¿Y que ropa llevo?\n",
      "\n",
      "El programa del día le indicará siempre la ropa más adecuada. Durante las noches informales, las camisas de cuello abierto, pantalones y atuendos deportivos son los más adecuados. Durante las noches semi-informales las mujeres suelen vestir vestidos o trajes-pantalón, mientras que los hombres lucen pantalones y camisa. En las noches formales como la cena de gala del capitán, etc, las mujeres se visten con trajes de noche o vestidos de fiesta y los hombres de smoking, de etiqueta o con trajes oscuros, o también será correcto unos pantalones y una camisa elegante.\n",
      "\n",
      "\n",
      "¿cena de gala?\n",
      "\n",
      "La cena de gala es un encuentro especial que ofrece un menú de exquisiteces, en una atmósfera elegante y festiva, con la presencia del Capitán y de su tripulación (salvo exigencias de servicio).\n",
      "\n",
      "\n",
      "No tengo ropa de gala, ¿puedo comprarlo en el crucero?\n",
      "\n",
      "Disculpa, no te he entendido bien, sólo soy experto en viajes. ¿Puedes ser más específico?.\n",
      "\n",
      "\n",
      "Puedo ir de compras en el crucero?\n",
      "\n",
      "Sí, en las tiendas a bordo puedes ir de compras. Las compras pueden realizarse como duty-free en casi todos los cruceros. Durante la parada en los puertos las tiendas permanecerán cerradas.\n",
      "\n",
      "\n",
      "¿Se puede fumar?\n",
      "\n",
      "En los teatros, en los restaurantes y buffet de autoservicio (locales cerrados), en los corredores, pasillos, vestíbulos, antesalas e interiores de los ascensores y escaleras está terminantemente prohibido fumar. En los salones se han previsto zonas reservadas para los fumadores. Pipas, cigarrillos y puros están permitidos sólo en algunos lugares dedicados a tal fin.\n",
      "\n",
      "\n",
      "Puedo llevar niños?\n",
      "\n",
      "No se admiten mascotas a bordo.\n",
      "\n",
      "\n"
     ]
    }
   ],
   "source": [
    "while True:\n",
    "    input_statement = chatbot.input.process_input_statement()\n",
    "    statement, response = chatbot.generate_response(input_statement, DEFAULT_SESSION_ID)\n",
    "    print(\"\\n%s\\n\\n\" % response)"
   ]
  },
  {
   "cell_type": "code",
   "execution_count": null,
   "metadata": {
    "collapsed": true
   },
   "outputs": [],
   "source": []
  }
 ],
 "metadata": {
  "kernelspec": {
   "display_name": "Python 3",
   "language": "python",
   "name": "python3"
  },
  "language_info": {
   "codemirror_mode": {
    "name": "ipython",
    "version": 3
   },
   "file_extension": ".py",
   "mimetype": "text/x-python",
   "name": "python",
   "nbconvert_exporter": "python",
   "pygments_lexer": "ipython3",
   "version": "3.6.5"
  }
 },
 "nbformat": 4,
 "nbformat_minor": 2
}
