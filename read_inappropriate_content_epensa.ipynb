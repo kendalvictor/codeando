{
 "cells": [
  {
   "cell_type": "code",
   "execution_count": 17,
   "metadata": {},
   "outputs": [
    {
     "data": {
      "text/html": [
       "<div>\n",
       "<style scoped>\n",
       "    .dataframe tbody tr th:only-of-type {\n",
       "        vertical-align: middle;\n",
       "    }\n",
       "\n",
       "    .dataframe tbody tr th {\n",
       "        vertical-align: top;\n",
       "    }\n",
       "\n",
       "    .dataframe thead th {\n",
       "        text-align: right;\n",
       "    }\n",
       "</style>\n",
       "<table border=\"1\" class=\"dataframe\">\n",
       "  <thead>\n",
       "    <tr style=\"text-align: right;\">\n",
       "      <th></th>\n",
       "      <th>0</th>\n",
       "    </tr>\n",
       "  </thead>\n",
       "  <tbody>\n",
       "    <tr>\n",
       "      <th>0</th>\n",
       "      <td>diariocorreo.pe/amp/cultura/paginas-para-ver-p...</td>\n",
       "    </tr>\n",
       "    <tr>\n",
       "      <th>1</th>\n",
       "      <td>diariocorreo.pe/cultura/las-mejores-peliculas-...</td>\n",
       "    </tr>\n",
       "    <tr>\n",
       "      <th>2</th>\n",
       "      <td>diariocorreo.pe/cultura/literatura-erotica-est...</td>\n",
       "    </tr>\n",
       "    <tr>\n",
       "      <th>3</th>\n",
       "      <td>diariocorreo.pe/cultura/ocho-peliculas-donde-l...</td>\n",
       "    </tr>\n",
       "    <tr>\n",
       "      <th>4</th>\n",
       "      <td>diariocorreo.pe/cultura/paginas-para-ver-pelic...</td>\n",
       "    </tr>\n",
       "    <tr>\n",
       "      <th>5</th>\n",
       "      <td>diariocorreo.pe/cultura/ver-peliculas-online-g...</td>\n",
       "    </tr>\n",
       "    <tr>\n",
       "      <th>6</th>\n",
       "      <td>diariocorreo.pe/deportes/makelele-y-los-mitos-...</td>\n",
       "    </tr>\n",
       "    <tr>\n",
       "      <th>7</th>\n",
       "      <td>diariocorreo.pe/edicion/ica/mujer-fue-brutalme...</td>\n",
       "    </tr>\n",
       "    <tr>\n",
       "      <th>8</th>\n",
       "      <td>diariocorreo.pe/edicion/lima/en-galeria-comerc...</td>\n",
       "    </tr>\n",
       "    <tr>\n",
       "      <th>9</th>\n",
       "      <td>diariocorreo.pe/edicion/puno/al-menos-14-muert...</td>\n",
       "    </tr>\n",
       "  </tbody>\n",
       "</table>\n",
       "</div>"
      ],
      "text/plain": [
       "                                                   0\n",
       "0  diariocorreo.pe/amp/cultura/paginas-para-ver-p...\n",
       "1  diariocorreo.pe/cultura/las-mejores-peliculas-...\n",
       "2  diariocorreo.pe/cultura/literatura-erotica-est...\n",
       "3  diariocorreo.pe/cultura/ocho-peliculas-donde-l...\n",
       "4  diariocorreo.pe/cultura/paginas-para-ver-pelic...\n",
       "5  diariocorreo.pe/cultura/ver-peliculas-online-g...\n",
       "6  diariocorreo.pe/deportes/makelele-y-los-mitos-...\n",
       "7  diariocorreo.pe/edicion/ica/mujer-fue-brutalme...\n",
       "8  diariocorreo.pe/edicion/lima/en-galeria-comerc...\n",
       "9  diariocorreo.pe/edicion/puno/al-menos-14-muert..."
      ]
     },
     "execution_count": 17,
     "metadata": {},
     "output_type": "execute_result"
    }
   ],
   "source": [
    "import pandas as pd\n",
    "\n",
    "correo = pd.read_csv('data/diario_correo.csv', header=None)\n",
    "correo.head(10)"
   ]
  },
  {
   "cell_type": "code",
   "execution_count": 107,
   "metadata": {},
   "outputs": [],
   "source": [
    "list_num = []\n",
    "list_tag = []\n",
    "def detected_type(data):\n",
    "    data = str(data).split('?')[0]\n",
    "    if data.endswith('/'):\n",
    "        data = data[:-1]\n",
    "    if '-' in data:\n",
    "        val = data.split('-')[-1].split('/')[0]\n",
    "        if val.isdigit():\n",
    "            list_num.append(int(val))\n",
    "            return val\n",
    "        \n",
    "    val = data.split('/')[-1]\n",
    "    list_tag.append(val)\n",
    "    return val"
   ]
  },
  {
   "cell_type": "code",
   "execution_count": 76,
   "metadata": {},
   "outputs": [
    {
     "data": {
      "text/plain": [
       "Int64Index([0, 1], dtype='int64')"
      ]
     },
     "execution_count": 76,
     "metadata": {},
     "output_type": "execute_result"
    }
   ],
   "source": [
    "correo.columns"
   ]
  },
  {
   "cell_type": "code",
   "execution_count": 77,
   "metadata": {},
   "outputs": [],
   "source": [
    "correo[1] = correo[0].apply(detected_type)"
   ]
  },
  {
   "cell_type": "code",
   "execution_count": 78,
   "metadata": {},
   "outputs": [
    {
     "data": {
      "text/html": [
       "<div>\n",
       "<style scoped>\n",
       "    .dataframe tbody tr th:only-of-type {\n",
       "        vertical-align: middle;\n",
       "    }\n",
       "\n",
       "    .dataframe tbody tr th {\n",
       "        vertical-align: top;\n",
       "    }\n",
       "\n",
       "    .dataframe thead th {\n",
       "        text-align: right;\n",
       "    }\n",
       "</style>\n",
       "<table border=\"1\" class=\"dataframe\">\n",
       "  <thead>\n",
       "    <tr style=\"text-align: right;\">\n",
       "      <th></th>\n",
       "      <th>0</th>\n",
       "      <th>1</th>\n",
       "    </tr>\n",
       "  </thead>\n",
       "  <tbody>\n",
       "    <tr>\n",
       "      <th>0</th>\n",
       "      <td>diariocorreo.pe/amp/cultura/paginas-para-ver-p...</td>\n",
       "      <td>821798</td>\n",
       "    </tr>\n",
       "    <tr>\n",
       "      <th>1</th>\n",
       "      <td>diariocorreo.pe/cultura/las-mejores-peliculas-...</td>\n",
       "      <td>834601</td>\n",
       "    </tr>\n",
       "    <tr>\n",
       "      <th>2</th>\n",
       "      <td>diariocorreo.pe/cultura/literatura-erotica-est...</td>\n",
       "      <td>711716</td>\n",
       "    </tr>\n",
       "    <tr>\n",
       "      <th>3</th>\n",
       "      <td>diariocorreo.pe/cultura/ocho-peliculas-donde-l...</td>\n",
       "      <td>629095</td>\n",
       "    </tr>\n",
       "    <tr>\n",
       "      <th>4</th>\n",
       "      <td>diariocorreo.pe/cultura/paginas-para-ver-pelic...</td>\n",
       "      <td>821798</td>\n",
       "    </tr>\n",
       "  </tbody>\n",
       "</table>\n",
       "</div>"
      ],
      "text/plain": [
       "                                                   0       1\n",
       "0  diariocorreo.pe/amp/cultura/paginas-para-ver-p...  821798\n",
       "1  diariocorreo.pe/cultura/las-mejores-peliculas-...  834601\n",
       "2  diariocorreo.pe/cultura/literatura-erotica-est...  711716\n",
       "3  diariocorreo.pe/cultura/ocho-peliculas-donde-l...  629095\n",
       "4  diariocorreo.pe/cultura/paginas-para-ver-pelic...  821798"
      ]
     },
     "execution_count": 78,
     "metadata": {},
     "output_type": "execute_result"
    }
   ],
   "source": [
    "correo.head()"
   ]
  },
  {
   "cell_type": "code",
   "execution_count": 79,
   "metadata": {},
   "outputs": [
    {
     "name": "stdout",
     "output_type": "stream",
     "text": [
      "[821798, 834601, 711716, 629095, 821798, 835037, 99960, 840049, 804568, 697309, 580148, 221882, 820380, 771336, 39838, 660954, 15234, 712887, 833053, 785987, 659853, 476939, 217904, 825732, 771721, 840381, 68598, 784332, 805558, 831064, 796912, 709072, 822369, 838886, 792586, 629318, 559383, 793433, 836063, 767803, 765403, 438012, 77271, 840521, 794140, 797061, 39937, 839866, 661475, 636013, 662148, 672633, 8137, 774638, 839721, 797043, 825787, 53278, 768249, 643311, 837143, 675022, 623579, 618076, 725669, 835386, 752220, 44438, 595675, 644433, 685278, 690759, 77814, 29131, 624196, 602809, 39908, 775981, 792165, 684921, 656862, 611896, 46993, 640681, 748046, 768080, 617124, 673459, 242269, 641954, 642396, 729621, 656294, 670699, 644771, 745235, 623640, 728274, 789575, 747516, 593363, 657248, 591560, 499110, 642007, 625556, 61725, 651451, 696625, 695651, 645846, 670268, 547547, 697849, 837216, 636004, 807712]\n"
     ]
    }
   ],
   "source": [
    "print(list_num)"
   ]
  },
  {
   "cell_type": "code",
   "execution_count": 80,
   "metadata": {},
   "outputs": [
    {
     "name": "stdout",
     "output_type": "stream",
     "text": [
      "['desnudos', 'kate-middleton-topless', 'mia-khalifa', 'pedofilia', 'playboy', 'porno', 'relaciones-sexuales', 'sexo']\n"
     ]
    }
   ],
   "source": [
    "print(list_tag)"
   ]
  },
  {
   "cell_type": "code",
   "execution_count": 81,
   "metadata": {},
   "outputs": [
    {
     "data": {
      "text/plain": [
       "(117, 8)"
      ]
     },
     "execution_count": 81,
     "metadata": {},
     "output_type": "execute_result"
    }
   ],
   "source": [
    "len(list_num), len(list_tag)"
   ]
  },
  {
   "cell_type": "code",
   "execution_count": 82,
   "metadata": {},
   "outputs": [],
   "source": [
    "DRAGONFLY_ADBLOCK_IDS = [\n",
    "    697849, 696625, 242269, 745, 748945, 745235, 732254, 200682, 761726, 207289, 661475, 710959, 629095,\n",
    "    514781, 749201, 733164, 725669, 657248, 756397, 205507, 748852, 777143, 716654, 782402, 783915,\n",
    "    749660, 709868, 697309, 519340, 85180, 693811, 748322, 688300, 645868, 61725, 642007, 792165,\n",
    "    700699, 677853, 729621, 821798, 834601, 711716, 629095, 821798, 835037, 99960, 840049, 804568, \n",
    "    697309, 580148, 221882, 820380, 771336, 39838, 660954, 15234, 712887, 833053, 785987, 659853, \n",
    "    476939, 217904, 825732, 771721, 840381, 68598, 784332, 805558, 831064, 796912, 709072, 822369, \n",
    "    838886, 792586, 629318, 559383, 793433, 836063, 767803, 765403, 438012, 77271, 840521, 794140, \n",
    "    797061, 39937, 839866, 661475, 636013, 662148, 672633, 8137, 774638, 839721, 797043, 825787, 53278,\n",
    "    768249, 643311, 837143, 675022, 623579, 618076, 725669, 835386, 752220, 44438, 595675, 644433, \n",
    "    685278, 690759, 77814, 29131, 624196, 602809, 39908, 775981, 792165, 684921, 656862, 611896, \n",
    "    46993, 640681, 748046, 768080, 617124, 673459, 242269, 641954, 642396, 729621, 656294, 670699, \n",
    "    644771, 745235, 623640, 728274, 789575, 747516, 593363, 657248, 591560, 499110, 642007, 625556, \n",
    "    61725, 651451, 696625, 695651, 645846, 670268, 547547, 697849, 837216, 636004, 807712\n",
    "]"
   ]
  },
  {
   "cell_type": "code",
   "execution_count": 84,
   "metadata": {},
   "outputs": [
    {
     "name": "stdout",
     "output_type": "stream",
     "text": [
      "[39937, 792586, 748046, 729621, 837143, 623640, 794140, 833053, 53278, 711716, 821798, 834601, 839721, 783915, 693811, 580148, 611896, 670268, 782402, 785987, 624196, 629318, 690759, 789575, 768080, 831064, 749660, 242269, 732254, 618076, 752220, 822369, 837216, 636004, 792165, 636013, 99960, 662148, 771721, 749201, 820380, 644771, 617124, 725669, 640681, 519340, 756397, 688300, 673459, 805558, 712887, 602809, 221882, 839866, 85180, 840381, 651451, 205507, 591560, 675022, 728274, 645846, 804568, 595675, 547547, 514781, 685278, 838886, 745, 709868, 645868, 643311, 796912, 768249, 438012, 771336, 476939, 745235, 559383, 700699, 61725, 807712, 748322, 775981, 710959, 217904, 696625, 748852, 835386, 767803, 840521, 644433, 793433, 642396, 657248, 695651, 629095, 716654, 840049, 797043, 672633, 684921, 761726, 15234, 825732, 797061, 659853, 748945, 46993, 625556, 44438, 39838, 641954, 656294, 499110, 777143, 207289, 825787, 8137, 29131, 784332, 709072, 593363, 77271, 642007, 660954, 765403, 623579, 697309, 677853, 835037, 836063, 656862, 661475, 39908, 200682, 670699, 733164, 774638, 68598, 77814, 697849, 747516]\n"
     ]
    }
   ],
   "source": [
    "print(list(set(DRAGONFLY_ADBLOCK_IDS)))"
   ]
  },
  {
   "cell_type": "code",
   "execution_count": 85,
   "metadata": {},
   "outputs": [],
   "source": [
    "DRAGONFLY_ADBLOCK_SLUGS = list(set(['opinion', 'pedofilia', 'linchamiento', 'desnudos'] + list_tag))"
   ]
  },
  {
   "cell_type": "code",
   "execution_count": 86,
   "metadata": {},
   "outputs": [
    {
     "data": {
      "text/plain": [
       "['mia-khalifa',\n",
       " 'sexo',\n",
       " 'playboy',\n",
       " 'pedofilia',\n",
       " 'kate-middleton-topless',\n",
       " 'linchamiento',\n",
       " 'opinion',\n",
       " 'desnudos',\n",
       " 'relaciones-sexuales',\n",
       " 'porno']"
      ]
     },
     "execution_count": 86,
     "metadata": {},
     "output_type": "execute_result"
    }
   ],
   "source": [
    "DRAGONFLY_ADBLOCK_SLUGS"
   ]
  },
  {
   "cell_type": "markdown",
   "metadata": {},
   "source": [
    "## OJO"
   ]
  },
  {
   "cell_type": "code",
   "execution_count": null,
   "metadata": {},
   "outputs": [],
   "source": [
    "#OJO\n",
    "list_num = []\n",
    "list_tag = []\n",
    "ojo = pd.read_csv('data/ojo.csv', header=None)\n",
    "ojo.head()"
   ]
  },
  {
   "cell_type": "code",
   "execution_count": 88,
   "metadata": {},
   "outputs": [],
   "source": [
    "ojo[1] = ojo[0].apply(detected_type)"
   ]
  },
  {
   "cell_type": "code",
   "execution_count": 89,
   "metadata": {},
   "outputs": [
    {
     "name": "stdout",
     "output_type": "stream",
     "text": [
      "[138130, 179413, 154192, 95438, 56957, 250781, 23570, 158770, 152545, 256891, 197433, 204077, 208547, 261760, 206777, 258954, 247452, 243260, 219437, 250001, 248891, 257116, 207760, 215794, 222395, 217137, 245932, 259525, 222032, 211040, 216968, 250000, 213645, 214501, 259604, 199481, 249326, 216489, 259334, 253837, 252548, 214013, 210747, 222540, 252027, 201431, 225788, 203383, 261631, 251986, 189026, 198169, 177017, 101629, 254551, 219858]\n"
     ]
    }
   ],
   "source": [
    "print(list_num)"
   ]
  },
  {
   "cell_type": "code",
   "execution_count": 90,
   "metadata": {},
   "outputs": [
    {
     "name": "stdout",
     "output_type": "stream",
     "text": [
      "['3', 'desnudo', 'jefferson-farfan', 'playboy', 'porno', 'prostitucion', 'redes-sociales', 'redes-sociales', 'video-porno', 'violacion-sexual', 'policial']\n"
     ]
    }
   ],
   "source": [
    "print(list_tag)"
   ]
  },
  {
   "cell_type": "code",
   "execution_count": 92,
   "metadata": {},
   "outputs": [
    {
     "data": {
      "text/plain": [
       "(56, 11, 67)"
      ]
     },
     "execution_count": 92,
     "metadata": {},
     "output_type": "execute_result"
    }
   ],
   "source": [
    "len(list_num), len(list_tag), ojo.shape[0]"
   ]
  },
  {
   "cell_type": "code",
   "execution_count": 93,
   "metadata": {},
   "outputs": [],
   "source": [
    "list_num.append(205931)"
   ]
  },
  {
   "cell_type": "code",
   "execution_count": 94,
   "metadata": {},
   "outputs": [],
   "source": [
    "DRAGONFLY_ADBLOCK_IDS = [\n",
    "    9797, 20728, 145237, 158231, 161734, 162757, 170209, 193123, 200682, 203129, 203195,\n",
    "    205507, 207155, 207289, 207760, 209302, 209797, 209855, 210656, 211040, 211375,\n",
    "    211706, 212464, 212617, 214275, 214933, 215515, 215602, 215794, 216185, 216196,\n",
    "    216489, 216601, 216960, 217598, 217922, 219373, 220446, 220817, 221250, 221324,\n",
    "    221546, 221609, 222032, 222195, 223791, 226539, 226546, 227314, 228765, 229410,\n",
    "    230223, 230947, 230951, 231165, 231542, 231937, 232193, 237847, 237941, 237946,\n",
    "    250001, 253780, 253795, 253855, 253860\n",
    "] + list_num"
   ]
  },
  {
   "cell_type": "code",
   "execution_count": 95,
   "metadata": {},
   "outputs": [
    {
     "name": "stdout",
     "output_type": "stream",
     "text": [
      "[231937, 23570, 259604, 158231, 216601, 198169, 229410, 230947, 230951, 223791, 217137, 215602, 158770, 248891, 243260, 221250, 9797, 154192, 251986, 254551, 257116, 211040, 189026, 193123, 205931, 231542, 203383, 216185, 252027, 56957, 261760, 216196, 252548, 212617, 221324, 213645, 250000, 220817, 250001, 247452, 208547, 245932, 222395, 205507, 95438, 219858, 179413, 201431, 210656, 170209, 226539, 219373, 215794, 226546, 20728, 211706, 231165, 101629, 232193, 214275, 259334, 237847, 220446, 204077, 219437, 207155, 197433, 199481, 210747, 217922, 222540, 230223, 222032, 253780, 145237, 253795, 221546, 237941, 203129, 237946, 256891, 177017, 216960, 209797, 216968, 258954, 253837, 207760, 138130, 214933, 209302, 228765, 250781, 253855, 253860, 216489, 221609, 211375, 207289, 206777, 203195, 209855, 162757, 161734, 259525, 215515, 152545, 214501, 200682, 249326, 212464, 227314, 222195, 225788, 214013, 217598, 261631]\n"
     ]
    }
   ],
   "source": [
    "print(list(set(DRAGONFLY_ADBLOCK_IDS)))"
   ]
  },
  {
   "cell_type": "markdown",
   "metadata": {},
   "source": [
    "## EL BOCON"
   ]
  },
  {
   "cell_type": "code",
   "execution_count": 96,
   "metadata": {},
   "outputs": [
    {
     "data": {
      "text/html": [
       "<div>\n",
       "<style scoped>\n",
       "    .dataframe tbody tr th:only-of-type {\n",
       "        vertical-align: middle;\n",
       "    }\n",
       "\n",
       "    .dataframe tbody tr th {\n",
       "        vertical-align: top;\n",
       "    }\n",
       "\n",
       "    .dataframe thead th {\n",
       "        text-align: right;\n",
       "    }\n",
       "</style>\n",
       "<table border=\"1\" class=\"dataframe\">\n",
       "  <thead>\n",
       "    <tr style=\"text-align: right;\">\n",
       "      <th></th>\n",
       "      <th>0</th>\n",
       "    </tr>\n",
       "  </thead>\n",
       "  <tbody>\n",
       "    <tr>\n",
       "      <th>0</th>\n",
       "      <td>elbocon.pe/futbol-peruano/rosangela-espinoza-d...</td>\n",
       "    </tr>\n",
       "    <tr>\n",
       "      <th>1</th>\n",
       "      <td>elbocon.pe/futbol-peruano/rosangela-espinoza-d...</td>\n",
       "    </tr>\n",
       "    <tr>\n",
       "      <th>2</th>\n",
       "      <td>elbocon.pe/futbol-peruano/rosangela-espinoza-d...</td>\n",
       "    </tr>\n",
       "    <tr>\n",
       "      <th>3</th>\n",
       "      <td>elbocon.pe/futbol-peruano/rosangela-espinoza-d...</td>\n",
       "    </tr>\n",
       "    <tr>\n",
       "      <th>4</th>\n",
       "      <td>elbocon.pe/futbol-peruano/yahaira-plasencia-y-...</td>\n",
       "    </tr>\n",
       "  </tbody>\n",
       "</table>\n",
       "</div>"
      ],
      "text/plain": [
       "                                                   0\n",
       "0  elbocon.pe/futbol-peruano/rosangela-espinoza-d...\n",
       "1  elbocon.pe/futbol-peruano/rosangela-espinoza-d...\n",
       "2  elbocon.pe/futbol-peruano/rosangela-espinoza-d...\n",
       "3  elbocon.pe/futbol-peruano/rosangela-espinoza-d...\n",
       "4  elbocon.pe/futbol-peruano/yahaira-plasencia-y-..."
      ]
     },
     "execution_count": 96,
     "metadata": {},
     "output_type": "execute_result"
    }
   ],
   "source": [
    "list_num = []\n",
    "list_tag = []\n",
    "bocon = pd.read_csv('data/el_bocon.csv', header=None)\n",
    "bocon.head()"
   ]
  },
  {
   "cell_type": "code",
   "execution_count": 97,
   "metadata": {},
   "outputs": [],
   "source": [
    "bocon[1] = bocon[0].apply(detected_type)"
   ]
  },
  {
   "cell_type": "code",
   "execution_count": 98,
   "metadata": {},
   "outputs": [
    {
     "name": "stdout",
     "output_type": "stream",
     "text": [
      "[112382, 113331, 140680, 119363]\n"
     ]
    }
   ],
   "source": [
    "print(list_num)"
   ]
  },
  {
   "cell_type": "code",
   "execution_count": 99,
   "metadata": {},
   "outputs": [
    {
     "name": "stdout",
     "output_type": "stream",
     "text": [
      "['2', '3', '4', 'desnuda', 'desnudo', 'nissu-cauti', 'rosangela-espinoza-desnuda']\n"
     ]
    }
   ],
   "source": [
    "print(list_tag)"
   ]
  },
  {
   "cell_type": "code",
   "execution_count": 100,
   "metadata": {},
   "outputs": [],
   "source": [
    "DRAGONFLY_ADBLOCK_IDS = [\n",
    "    112740, 108519, 71857, 125375, 112114, 68539, 124971, 129314, 138957, 126311, 125042, 88310,\n",
    "    107750, 66604, 110891, 111220, 120055, 110898, 89892, 106358, 110787, 75437, 109880, 75337,\n",
    "    80929, 83385, 74328, 125674, 125606, 123692, 125902, 119977, 86789, 125431, 110276, 111277,\n",
    "    111371, 125438, 123064, 125223, 125225, 134856, 24443, 135216, 124359, 126123, 131712, 129689,\n",
    "    110206, 76844, 105337, 108781, 110344, 126527, 78292, 127063, 109733, 72201, 110755, 111215,\n",
    "    78924, 140680, 108405, 106305, 77817, 128633, 85217, 111343, 107913, 125955, 124705, 77318,\n",
    "    131851, 112723, 112531, 110221, 64320, 83856, 74369, 108320, 26051, 123425, 67447, 107247,\n",
    "    70909, 80386, 66487, 119895, 113331\n",
    "] + list_num"
   ]
  },
  {
   "cell_type": "code",
   "execution_count": 101,
   "metadata": {},
   "outputs": [
    {
     "name": "stdout",
     "output_type": "stream",
     "text": [
      "[80386, 125955, 77318, 72201, 80929, 123425, 124971, 66604, 76844, 135216, 126527, 119363, 75337, 78924, 112723, 127063, 74328, 119895, 112740, 111215, 125042, 111220, 128633, 110206, 131712, 74369, 110221, 129689, 110755, 109733, 125606, 119977, 126123, 75437, 111277, 71857, 113331, 123064, 110787, 110276, 134856, 138957, 85217, 107750, 125674, 108781, 111343, 107247, 88310, 120055, 70909, 112382, 86789, 110344, 111371, 131851, 108320, 124705, 129314, 89892, 125223, 125225, 110891, 123692, 110898, 109880, 64320, 106305, 126311, 108405, 106358, 67447, 105337, 24443, 140680, 107913, 83856, 112531, 66487, 83385, 68539, 125375, 26051, 124359, 125902, 78292, 108519, 112114, 125431, 77817, 125438]\n"
     ]
    }
   ],
   "source": [
    "print(list(set(DRAGONFLY_ADBLOCK_IDS)))"
   ]
  },
  {
   "cell_type": "markdown",
   "metadata": {},
   "source": [
    "## EL SHOW"
   ]
  },
  {
   "cell_type": "code",
   "execution_count": 112,
   "metadata": {},
   "outputs": [
    {
     "data": {
      "text/html": [
       "<div>\n",
       "<style scoped>\n",
       "    .dataframe tbody tr th:only-of-type {\n",
       "        vertical-align: middle;\n",
       "    }\n",
       "\n",
       "    .dataframe tbody tr th {\n",
       "        vertical-align: top;\n",
       "    }\n",
       "\n",
       "    .dataframe thead th {\n",
       "        text-align: right;\n",
       "    }\n",
       "</style>\n",
       "<table border=\"1\" class=\"dataframe\">\n",
       "  <thead>\n",
       "    <tr style=\"text-align: right;\">\n",
       "      <th></th>\n",
       "      <th>0</th>\n",
       "    </tr>\n",
       "  </thead>\n",
       "  <tbody>\n",
       "    <tr>\n",
       "      <th>0</th>\n",
       "      <td>elshow.pe/cine/x-men-apocalipsis-porno-youtube...</td>\n",
       "    </tr>\n",
       "    <tr>\n",
       "      <th>1</th>\n",
       "      <td>elshow.pe/espectaculos/actriz-porno-heidi-van-...</td>\n",
       "    </tr>\n",
       "    <tr>\n",
       "      <th>2</th>\n",
       "      <td>elshow.pe/espectaculos/alejandra-baigorria-pad...</td>\n",
       "    </tr>\n",
       "    <tr>\n",
       "      <th>3</th>\n",
       "      <td>elshow.pe/espectaculos/alessandra-fuller-publi...</td>\n",
       "    </tr>\n",
       "    <tr>\n",
       "      <th>4</th>\n",
       "      <td>elshow.pe/espectaculos/ambar-montenegro-se-hiz...</td>\n",
       "    </tr>\n",
       "  </tbody>\n",
       "</table>\n",
       "</div>"
      ],
      "text/plain": [
       "                                                   0\n",
       "0  elshow.pe/cine/x-men-apocalipsis-porno-youtube...\n",
       "1  elshow.pe/espectaculos/actriz-porno-heidi-van-...\n",
       "2  elshow.pe/espectaculos/alejandra-baigorria-pad...\n",
       "3  elshow.pe/espectaculos/alessandra-fuller-publi...\n",
       "4  elshow.pe/espectaculos/ambar-montenegro-se-hiz..."
      ]
     },
     "execution_count": 112,
     "metadata": {},
     "output_type": "execute_result"
    }
   ],
   "source": [
    "list_num = []\n",
    "list_tag = []\n",
    "show = pd.read_csv('data/el_show.csv', header=None)\n",
    "show.head()"
   ]
  },
  {
   "cell_type": "code",
   "execution_count": 113,
   "metadata": {},
   "outputs": [],
   "source": [
    "show[1] = show[0].apply(detected_type)"
   ]
  },
  {
   "cell_type": "code",
   "execution_count": 114,
   "metadata": {},
   "outputs": [
    {
     "name": "stdout",
     "output_type": "stream",
     "text": [
      "[119390, 101749, 132116, 134302, 129408, 134575, 134575, 100844, 134561, 132771, 103116, 133991, 103133, 85672, 101159, 130363, 134295, 134295, 86961, 69668, 134107, 134537, 134537, 134537, 97018, 90984, 90984, 90984, 133536, 101267, 134570, 134570, 134570, 23220, 97050, 134529, 106407, 134556, 134556, 134556, 102323, 134525, 107431, 84219, 108275, 105654, 132884, 90935, 90935, 90935, 90935, 115253, 112731, 90056, 86763, 134249, 103945, 117677, 134151, 134151, 132904, 114449, 118257, 108357, 110604, 116964, 118757]\n"
     ]
    }
   ],
   "source": [
    "print(list_num)"
   ]
  },
  {
   "cell_type": "code",
   "execution_count": 115,
   "metadata": {},
   "outputs": [
    {
     "name": "stdout",
     "output_type": "stream",
     "text": [
      "['actriz-porno', 'desnudo', 'porno', 'pornografia', 'sexo', 'vania-bludau-desnuda', 'video-intimo']\n"
     ]
    }
   ],
   "source": [
    "print(list_tag)"
   ]
  },
  {
   "cell_type": "code",
   "execution_count": 117,
   "metadata": {},
   "outputs": [
    {
     "data": {
      "text/plain": [
       "(67, 7, 74)"
      ]
     },
     "execution_count": 117,
     "metadata": {},
     "output_type": "execute_result"
    }
   ],
   "source": [
    "len(list_num), len(list_tag), show.shape[0]"
   ]
  },
  {
   "cell_type": "code",
   "execution_count": 118,
   "metadata": {},
   "outputs": [],
   "source": [
    "DRAGONFLY_ADBLOCK_IDS = [\n",
    "    104749, 118982, 115510, 93649, 117677, 123113, 101159, 84114, 87627, 119433,\n",
    "    117151, 116964, 75978, 116689, 104800, 119216, 110604, 110291, 104731, 128858,\n",
    "    119977, 115495, 97018, 119394, 119390, 98154, 114449\n",
    "] + list_num"
   ]
  },
  {
   "cell_type": "code",
   "execution_count": 119,
   "metadata": {},
   "outputs": [
    {
     "name": "stdout",
     "output_type": "stream",
     "text": [
      "[129408, 134529, 132904, 134151, 119433, 134537, 103945, 110604, 114449, 84114, 101267, 132116, 132884, 134295, 97050, 104731, 134556, 134302, 117151, 133536, 134561, 132771, 69668, 101159, 115495, 119977, 85672, 134570, 106407, 104749, 117677, 134575, 119216, 86961, 102323, 23220, 115253, 115510, 105654, 90935, 130363, 108357, 118982, 90056, 75978, 87627, 103116, 93649, 116689, 110291, 128858, 134107, 112731, 103133, 119390, 104800, 107431, 119394, 116964, 118757, 133991, 90984, 123113, 98154, 86763, 100844, 134249, 118257, 108275, 101749, 97018, 84219, 134525]\n"
     ]
    }
   ],
   "source": [
    "print(list(set(DRAGONFLY_ADBLOCK_IDS)))"
   ]
  },
  {
   "cell_type": "markdown",
   "metadata": {},
   "source": [
    "## MUJER PANDORA"
   ]
  },
  {
   "cell_type": "code",
   "execution_count": 120,
   "metadata": {},
   "outputs": [
    {
     "data": {
      "text/html": [
       "<div>\n",
       "<style scoped>\n",
       "    .dataframe tbody tr th:only-of-type {\n",
       "        vertical-align: middle;\n",
       "    }\n",
       "\n",
       "    .dataframe tbody tr th {\n",
       "        vertical-align: top;\n",
       "    }\n",
       "\n",
       "    .dataframe thead th {\n",
       "        text-align: right;\n",
       "    }\n",
       "</style>\n",
       "<table border=\"1\" class=\"dataframe\">\n",
       "  <thead>\n",
       "    <tr style=\"text-align: right;\">\n",
       "      <th></th>\n",
       "      <th>0</th>\n",
       "    </tr>\n",
       "  </thead>\n",
       "  <tbody>\n",
       "    <tr>\n",
       "      <th>0</th>\n",
       "      <td>mujerpandora.com/amor-y-sexo/</td>\n",
       "    </tr>\n",
       "    <tr>\n",
       "      <th>1</th>\n",
       "      <td>mujerpandora.com/amor-y-sexo/10-cosas-que-te-e...</td>\n",
       "    </tr>\n",
       "    <tr>\n",
       "      <th>2</th>\n",
       "      <td>mujerpandora.com/amor-y-sexo/17-cosas-para-hac...</td>\n",
       "    </tr>\n",
       "    <tr>\n",
       "      <th>3</th>\n",
       "      <td>mujerpandora.com/amor-y-sexo/3-cosas-que-debes...</td>\n",
       "    </tr>\n",
       "    <tr>\n",
       "      <th>4</th>\n",
       "      <td>mujerpandora.com/amor-y-sexo/3-cosas-que-las-m...</td>\n",
       "    </tr>\n",
       "  </tbody>\n",
       "</table>\n",
       "</div>"
      ],
      "text/plain": [
       "                                                   0\n",
       "0                      mujerpandora.com/amor-y-sexo/\n",
       "1  mujerpandora.com/amor-y-sexo/10-cosas-que-te-e...\n",
       "2  mujerpandora.com/amor-y-sexo/17-cosas-para-hac...\n",
       "3  mujerpandora.com/amor-y-sexo/3-cosas-que-debes...\n",
       "4  mujerpandora.com/amor-y-sexo/3-cosas-que-las-m..."
      ]
     },
     "execution_count": 120,
     "metadata": {},
     "output_type": "execute_result"
    }
   ],
   "source": [
    "list_num = []\n",
    "list_tag = []\n",
    "pandora = pd.read_csv('data/mujer_pandora.csv', header=None)\n",
    "pandora.head()"
   ]
  },
  {
   "cell_type": "code",
   "execution_count": 121,
   "metadata": {},
   "outputs": [],
   "source": [
    "pandora[1] = pandora[0].apply(detected_type)"
   ]
  },
  {
   "cell_type": "code",
   "execution_count": 122,
   "metadata": {},
   "outputs": [
    {
     "name": "stdout",
     "output_type": "stream",
     "text": [
      "[25175, 25476, 18809, 17156, 27460, 17666, 28041, 18551, 13207, 25706, 24347, 27714, 25364, 18361, 23372, 20326, 28043, 13581, 23333, 28252, 4471, 24748, 26620, 18680, 20840, 27352, 3997, 22376, 26367, 23152, 5465, 28002, 24874, 15169, 28187, 25707, 25755, 23193, 26869, 24885, 28967, 24457, 26874, 27450, 19105, 26051, 28874, 28684, 16940, 26704, 15506, 21790, 17912, 1891, 27971, 17082, 18284, 21085, 14893, 17055, 27911, 22252, 26904, 22856, 26847, 21054, 21637, 16751, 27297, 17200, 21784, 19174, 28094, 24422, 28198, 28126, 23482, 16547, 24405, 27301, 16454, 19537, 26081, 19902, 27765, 20225, 17969, 27020, 9154, 15646, 517, 15722, 17950, 19395, 24238, 16159, 20012, 26233, 15704, 22440, 28251, 23397, 2720, 24020, 27636, 23317, 4464, 22655, 3218, 5325, 15425, 19880, 17548, 27820, 26401, 26705, 27449, 26737, 26633, 25024, 25014, 26938, 28219, 15334, 16292, 10589, 1614, 27602, 23521, 20846, 22039, 23081, 17868, 15061, 17359, 27143, 14204, 27634, 23918, 28340, 18262, 21253, 20627, 24199, 27407, 27980, 28153, 14778, 20913, 19076, 28934, 1894, 22302, 26267, 22307, 15105, 17477, 28758, 16849, 20645, 15619, 17406, 15848, 15620, 715, 3361, 15949, 19433, 17626, 28070, 18883, 5947, 18053, 583, 25074, 26369, 26203, 15769, 27766, 15059, 8993, 15794, 15243, 21317, 15168, 14770, 27379, 23981, 24226, 22023, 25373, 22027, 13064, 25945, 20927, 16545, 22054, 19996, 27794, 1427, 5617, 4763, 21188, 19544, 1597, 2600, 20654, 20125, 23101, 17489, 17795, 20590, 18432, 27133, 17642, 27800, 18810, 18760, 5677, 17553, 9492, 23588, 23119, 23071, 10081, 17532, 22375, 24150, 19039, 20667, 18842, 24553, 20455, 28555, 23943, 24246, 13806, 29197, 5167, 23528, 12591, 1228, 26903, 20150, 26398, 23062, 26417, 8865, 2326, 18126, 16158, 14849, 16766, 14814, 16582, 16938, 15328, 15359, 5645, 4601, 23307, 27790, 27409, 19717, 17003, 20027, 14892, 28226, 1096, 16979, 21916, 17602, 20771, 19016, 19692, 22675, 22183, 19574, 20570, 28218, 15529, 16905, 15164, 22057, 25025, 15457, 8182, 16411, 15421, 14850, 15846, 21381, 21385, 4722, 21966, 22980, 18184, 23017, 5129, 28975, 5893, 22460, 3754, 23600, 16177, 17786, 22283, 18242, 18081, 16439, 813, 38213, 29969, 18791, 38007, 13724, 29368, 20479, 20586, 21685, 22292, 17743, 24797, 20872, 18039, 30486, 19283, 27068, 31633, 25081, 4681, 22031, 4425, 5625, 25112, 34821, 22560, 4208, 23721, 20276, 22935, 27739, 37642, 7808, 2718, 30540, 28808, 37447, 36993, 14711, 5333, 18851, 20025, 8712, 872, 1415, 32819, 28111, 25424, 24543, 26981, 37781, 33929, 1671, 26808]\n"
     ]
    }
   ],
   "source": [
    "print(list_num)"
   ]
  },
  {
   "cell_type": "code",
   "execution_count": 123,
   "metadata": {},
   "outputs": [
    {
     "name": "stdout",
     "output_type": "stream",
     "text": [
      "['amor-y-sexo', 'amor-y-sexo', 'amor-y-sexo', 'amor-y-sexo', 'buscar', 'buscar', 'actividad-sexual', 'ariana-grande-desnuda', 'cibersexo', 'intimidad', 'juegos-eroticos', 'pene', 'posiciones', 'posturas-sexuales', 'revista-soho-peru', 'sexo-salvaje', 'sexo', 'video-porno']\n"
     ]
    }
   ],
   "source": [
    "print(list_tag)"
   ]
  },
  {
   "cell_type": "code",
   "execution_count": 124,
   "metadata": {},
   "outputs": [],
   "source": [
    "DRAGONFLY_ADBLOCK_IDS = [\n",
    "    24184, 18317, 15700, 17553, 18551, 17406, 28684, 15287, 18039, 17532, 13064, 15061, 27450, 14770,\n",
    "    27036, 27857, 19039, 29113, 26051, 15674, 15732, 14942, 27271, 18284, 28251, 23943, 5129, 23565,\n",
    "    21265, 23981, 19545, 17912, 19782, 18029, 15334, 24457, 26633, 28555, 18688, 26778, 5333, 18398,\n",
    "    25958, 28043, 28891, 28153, 517,\n",
    "    18688, 517, 13064, 26633, 18317, 17553, 26778, 23981, 14770, 14942, 24457, 15674, 18551, 26051, 15287, 23565, 24184, 15700, 15061, 19545, 18398,\n",
    "    25958, 15334, 21265, 18029, 15732, 18039, 17912, 17532, 17406, 5333, 19782, 28043, 27450, 28684, 18284, 19039, 27271, 28251, 28891, 28153, 28555,\n",
    "    18551, 24457, 24184, 17912, 15287, 23565, 517, 15334, 18029, 18284, 27036, 28251, 27857, 28153, 29113, 23981, 19039, 23943, 5129,\n",
    "    16751, 27718, 28153, 16849, 2600, 28891, 20455, 1096, 15529\n",
    "] + list_num"
   ]
  },
  {
   "cell_type": "code",
   "execution_count": 125,
   "metadata": {},
   "outputs": [
    {
     "name": "stdout",
     "output_type": "stream",
     "text": [
      "[18432, 34821, 26633, 28684, 16411, 22560, 32819, 16439, 16454, 26704, 26705, 28758, 20570, 20586, 20590, 4208, 26737, 18551, 22655, 36993, 28808, 20627, 22675, 26778, 16545, 16547, 20645, 24748, 20654, 26808, 20667, 16582, 28874, 28891, 24797, 26847, 26869, 18680, 26874, 18688, 28934, 2326, 26903, 26904, 20771, 28967, 24874, 12591, 28975, 24885, 26938, 22856, 18760, 4425, 10589, 26981, 18791, 20840, 20846, 16751, 4464, 4471, 14711, 18809, 18810, 16766, 20872, 27020, 22935, 18842, 27036, 18851, 20913, 14770, 25014, 29113, 14778, 27068, 20927, 25024, 25025, 18883, 22980, 16849, 14814, 23017, 25074, 4601, 25081, 27133, 14849, 14850, 517, 27143, 8712, 16905, 29197, 23062, 25112, 23071, 2600, 23081, 16938, 16940, 14893, 14892, 23101, 21054, 583, 19016, 4681, 37447, 23119, 16979, 25175, 21085, 14942, 19039, 17003, 23152, 4722, 19076, 27271, 23193, 4763, 2718, 17055, 2720, 19105, 27297, 8865, 27301, 29368, 17082, 21188, 715, 15059, 15061, 27352, 19174, 27379, 15105, 17156, 21253, 13064, 37642, 23307, 27407, 21265, 27409, 25364, 23317, 25373, 8993, 23333, 813, 17200, 27449, 27450, 15164, 15168, 15169, 27460, 21317, 23372, 25424, 19283, 23397, 872, 25476, 21381, 21385, 15243, 31633, 37781, 13207, 15287, 23482, 9154, 19395, 17359, 27602, 15328, 23521, 15334, 23528, 19433, 27634, 27636, 17406, 15359, 5129, 23565, 23588, 5167, 23600, 15421, 15425, 27714, 17477, 27718, 1096, 19537, 17489, 19544, 19545, 27739, 15457, 25706, 25707, 27765, 27766, 19574, 38007, 17532, 21637, 33929, 17548, 27790, 17553, 15506, 3218, 27794, 27800, 25755, 15529, 23721, 27820, 21685, 17602, 1228, 5325, 27857, 5333, 17626, 17642, 19692, 17666, 15619, 15620, 19717, 27911, 13581, 29969, 9492, 21784, 21790, 15646, 3361, 15674, 27971, 38213, 19782, 27980, 17743, 15700, 15704, 5465, 25945, 28002, 25958, 15722, 23918, 15732, 17786, 17795, 23943, 1415, 28041, 28043, 1427, 15769, 21916, 13724, 28070, 19880, 23981, 15794, 28094, 19902, 26051, 17868, 21966, 28111, 24020, 28126, 26081, 15846, 15848, 13806, 5617, 17912, 28153, 5625, 22023, 22027, 5645, 22031, 22039, 28187, 19996, 17950, 28198, 22054, 22057, 20012, 5677, 17969, 20025, 28218, 28219, 20027, 1597, 28226, 15949, 1614, 24150, 28251, 28252, 26203, 18029, 18039, 24184, 26233, 7808, 18053, 24199, 1671, 26267, 20125, 18081, 24226, 22183, 3754, 24238, 28340, 24246, 20150, 18126, 22252, 26367, 26369, 20225, 5893, 18184, 22283, 22292, 30486, 24347, 26398, 16159, 22302, 26401, 16158, 22307, 26417, 16177, 20276, 5947, 18242, 30540, 24405, 18262, 10081, 1891, 20326, 24422, 22376, 1894, 22375, 18284, 14204, 24457, 28555, 18317, 3997, 16292, 22440, 18361, 22460, 18398, 24543, 20455, 24553, 8182, 26620, 20479]\n"
     ]
    }
   ],
   "source": [
    "print(list(set(DRAGONFLY_ADBLOCK_IDS)))"
   ]
  },
  {
   "cell_type": "code",
   "execution_count": 126,
   "metadata": {},
   "outputs": [],
   "source": [
    "DRAGONFLY_ADBLOCK_SLUGS = ['posturas-sexuales', 'sexo', 'sexo-oral', 'poses-sexuales'] + list_tag"
   ]
  },
  {
   "cell_type": "code",
   "execution_count": 127,
   "metadata": {},
   "outputs": [
    {
     "name": "stdout",
     "output_type": "stream",
     "text": [
      "['intimidad', 'video-porno', 'pene', 'poses-sexuales', 'ariana-grande-desnuda', 'amor-y-sexo', 'sexo', 'posiciones', 'revista-soho-peru', 'cibersexo', 'actividad-sexual', 'sexo-oral', 'juegos-eroticos', 'buscar', 'sexo-salvaje', 'posturas-sexuales']\n"
     ]
    }
   ],
   "source": [
    "print(list(set(DRAGONFLY_ADBLOCK_SLUGS)))"
   ]
  },
  {
   "cell_type": "code",
   "execution_count": 128,
   "metadata": {},
   "outputs": [
    {
     "data": {
      "text/plain": [
       "(365, 18, 383)"
      ]
     },
     "execution_count": 128,
     "metadata": {},
     "output_type": "execute_result"
    }
   ],
   "source": [
    "len(list_num), len(list_tag), pandora.shape[0]"
   ]
  },
  {
   "cell_type": "code",
   "execution_count": null,
   "metadata": {},
   "outputs": [],
   "source": []
  }
 ],
 "metadata": {
  "kernelspec": {
   "display_name": "Python 3",
   "language": "python",
   "name": "python3"
  },
  "language_info": {
   "codemirror_mode": {
    "name": "ipython",
    "version": 3
   },
   "file_extension": ".py",
   "mimetype": "text/x-python",
   "name": "python",
   "nbconvert_exporter": "python",
   "pygments_lexer": "ipython3",
   "version": "3.5.4"
  }
 },
 "nbformat": 4,
 "nbformat_minor": 2
}
