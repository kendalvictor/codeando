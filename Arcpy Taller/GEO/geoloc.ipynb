{
 "cells": [
  {
   "cell_type": "code",
   "execution_count": 1,
   "metadata": {},
   "outputs": [],
   "source": [
    "import pandas as pd\n",
    "import geopandas as gpd\n",
    "import requests\n",
    "from shapely.geometry import Point"
   ]
  },
  {
   "cell_type": "code",
   "execution_count": 2,
   "metadata": {},
   "outputs": [
    {
     "data": {
      "text/html": [
       "<div>\n",
       "<style scoped>\n",
       "    .dataframe tbody tr th:only-of-type {\n",
       "        vertical-align: middle;\n",
       "    }\n",
       "\n",
       "    .dataframe tbody tr th {\n",
       "        vertical-align: top;\n",
       "    }\n",
       "\n",
       "    .dataframe thead th {\n",
       "        text-align: right;\n",
       "    }\n",
       "</style>\n",
       "<table border=\"1\" class=\"dataframe\">\n",
       "  <thead>\n",
       "    <tr style=\"text-align: right;\">\n",
       "      <th></th>\n",
       "      <th>Id</th>\n",
       "      <th>longitud</th>\n",
       "      <th>latitud</th>\n",
       "    </tr>\n",
       "  </thead>\n",
       "  <tbody>\n",
       "    <tr>\n",
       "      <th>0</th>\n",
       "      <td>1</td>\n",
       "      <td>-77.924728</td>\n",
       "      <td>-6.690365</td>\n",
       "    </tr>\n",
       "    <tr>\n",
       "      <th>1</th>\n",
       "      <td>2</td>\n",
       "      <td>-76.991578</td>\n",
       "      <td>-12.173440</td>\n",
       "    </tr>\n",
       "    <tr>\n",
       "      <th>2</th>\n",
       "      <td>3</td>\n",
       "      <td>-76.836053</td>\n",
       "      <td>-12.291546</td>\n",
       "    </tr>\n",
       "    <tr>\n",
       "      <th>3</th>\n",
       "      <td>4</td>\n",
       "      <td>-79.211503</td>\n",
       "      <td>-0.549836</td>\n",
       "    </tr>\n",
       "  </tbody>\n",
       "</table>\n",
       "</div>"
      ],
      "text/plain": [
       "   Id   longitud    latitud\n",
       "0   1 -77.924728  -6.690365\n",
       "1   2 -76.991578 -12.173440\n",
       "2   3 -76.836053 -12.291546\n",
       "3   4 -79.211503  -0.549836"
      ]
     },
     "execution_count": 2,
     "metadata": {},
     "output_type": "execute_result"
    }
   ],
   "source": [
    "set_parameter_csv = {\n",
    "    'sep': ',',\n",
    "    'encoding': 'ISO-8859-1',\n",
    "    'low_memory': False\n",
    "}\n",
    "zips = pd.read_csv('coordenadas.csv', **set_parameter_csv)\n",
    "zips.head(5)"
   ]
  },
  {
   "cell_type": "code",
   "execution_count": 3,
   "metadata": {},
   "outputs": [],
   "source": [
    "geom = zips.apply(lambda x : Point([x['longitud'],x['latitud']]), axis=1)"
   ]
  },
  {
   "cell_type": "code",
   "execution_count": 4,
   "metadata": {},
   "outputs": [
    {
     "data": {
      "text/plain": [
       "(0    POINT (-77.924728 -6.690364999999999)\n",
       " 1             POINT (-76.991578 -12.17344)\n",
       " 2    POINT (-76.83605300000001 -12.291546)\n",
       " 3     POINT (-79.21150300000001 -0.549836)\n",
       " dtype: object, pandas.core.series.Series)"
      ]
     },
     "execution_count": 4,
     "metadata": {},
     "output_type": "execute_result"
    }
   ],
   "source": [
    "geom, type(geom)"
   ]
  },
  {
   "cell_type": "code",
   "execution_count": 5,
   "metadata": {},
   "outputs": [
    {
     "name": "stdout",
     "output_type": "stream",
     "text": [
      "**********\n",
      "<class 'geopandas.geodataframe.GeoDataFrame'>\n",
      "**********\n",
      "   Id   longitud    latitud                               geometry\n",
      "0   1 -77.924728  -6.690365  POINT (-77.924728 -6.690364999999999)\n",
      "1   2 -76.991578 -12.173440           POINT (-76.991578 -12.17344)\n",
      "2   3 -76.836053 -12.291546  POINT (-76.83605300000001 -12.291546)\n",
      "3   4 -79.211503  -0.549836   POINT (-79.21150300000001 -0.549836)\n"
     ]
    }
   ],
   "source": [
    "zips = gpd.GeoDataFrame(zips, geometry=geom)\n",
    "zips.crs = {'init' : 'epsg:4326'}\n",
    "print(\"*\"*10)\n",
    "print (type(zips))\n",
    "print(\"*\"*10)\n",
    "print( zips.head())"
   ]
  },
  {
   "cell_type": "markdown",
   "metadata": {},
   "source": [
    "## LEYENDO SHAPEFILE"
   ]
  },
  {
   "cell_type": "code",
   "execution_count": 6,
   "metadata": {},
   "outputs": [
    {
     "name": "stdout",
     "output_type": "stream",
     "text": [
      "**********\n",
      "<class 'geopandas.geodataframe.GeoDataFrame'>\n",
      "**********\n",
      "  DEPARTAMEN PROVINCIA                              DISTRITO INSTITUCIO  \\\n",
      "0      TACNA     TACNA  CORONEL GREGORIO ALBARRACIN LANCHIPA        IGN   \n",
      "1      TACNA     TACNA                              POCOLLAY        IGN   \n",
      "2      TACNA     TACNA                                CALANA        IGN   \n",
      "3      TACNA     TACNA                                 TACNA        IGN   \n",
      "4      TACNA     TACNA                                  SAMA        IGN   \n",
      "\n",
      "                                            geometry  \n",
      "0  POLYGON ((-70.17413339799998 -18.1289555689999...  \n",
      "1  POLYGON ((-69.93474908999997 -17.9255745129999...  \n",
      "2  POLYGON ((-70.116044957 -17.91105616299994, -7...  \n",
      "3  POLYGON ((-70.31490482099997 -17.9449767399998...  \n",
      "4  POLYGON ((-70.42497392199992 -17.8893362009998...  \n"
     ]
    }
   ],
   "source": [
    "distritos = gpd.read_file('DISTRITOS.shp')\n",
    "print(\"*\"*10)\n",
    "print (type(distritos))\n",
    "print(\"*\"*10)\n",
    "print( distritos.head())"
   ]
  },
  {
   "cell_type": "code",
   "execution_count": 9,
   "metadata": {},
   "outputs": [
    {
     "name": "stdout",
     "output_type": "stream",
     "text": [
      "Collecting Rtree\n",
      "  Downloading https://files.pythonhosted.org/packages/33/0d/0bcb0fdd759570e85697189f675fa462131e5636482f2832288bbe4bb6f7/Rtree-0.8.3-py3-none-any.whl\n",
      "Requirement already satisfied: setuptools in /home/villacorta/anaconda3/lib/python3.6/site-packages (from Rtree) (39.2.0)\n",
      "Installing collected packages: Rtree\n",
      "Successfully installed Rtree-0.8.3\n"
     ]
    }
   ],
   "source": [
    "!pip install Rtree"
   ]
  },
  {
   "cell_type": "code",
   "execution_count": 12,
   "metadata": {},
   "outputs": [
    {
     "name": "stdout",
     "output_type": "stream",
     "text": [
      "Solving environment: done\n",
      "\n",
      "## Package Plan ##\n",
      "\n",
      "  environment location: /home/villacorta/anaconda3\n",
      "\n",
      "  added / updated specs: \n",
      "    - rtree\n",
      "\n",
      "\n",
      "The following packages will be downloaded:\n",
      "\n",
      "    package                    |            build\n",
      "    ---------------------------|-----------------\n",
      "    rtree-0.8.3                |           py36_0          46 KB\n",
      "    libspatialindex-1.8.5      |       h20b78c2_2         666 KB\n",
      "    ------------------------------------------------------------\n",
      "                                           Total:         711 KB\n",
      "\n",
      "The following NEW packages will be INSTALLED:\n",
      "\n",
      "    libspatialindex: 1.8.5-h20b78c2_2\n",
      "    rtree:           0.8.3-py36_0    \n",
      "\n",
      "\n",
      "Downloading and Extracting Packages\n",
      "rtree-0.8.3          | 46 KB     | ##################################### | 100% \n",
      "libspatialindex-1.8. | 666 KB    | ##################################### | 100% \n",
      "Preparing transaction: done\n",
      "Verifying transaction: done\n",
      "Executing transaction: done\n"
     ]
    }
   ],
   "source": [
    "!conda install Rtree -y"
   ]
  },
  {
   "cell_type": "code",
   "execution_count": 15,
   "metadata": {},
   "outputs": [
    {
     "name": "stdout",
     "output_type": "stream",
     "text": [
      "**********\n",
      "<class 'geopandas.geodataframe.GeoDataFrame'>\n",
      "**********\n"
     ]
    },
    {
     "data": {
      "text/html": [
       "<div>\n",
       "<style scoped>\n",
       "    .dataframe tbody tr th:only-of-type {\n",
       "        vertical-align: middle;\n",
       "    }\n",
       "\n",
       "    .dataframe tbody tr th {\n",
       "        vertical-align: top;\n",
       "    }\n",
       "\n",
       "    .dataframe thead th {\n",
       "        text-align: right;\n",
       "    }\n",
       "</style>\n",
       "<table border=\"1\" class=\"dataframe\">\n",
       "  <thead>\n",
       "    <tr style=\"text-align: right;\">\n",
       "      <th></th>\n",
       "      <th>Id</th>\n",
       "      <th>longitud</th>\n",
       "      <th>latitud</th>\n",
       "      <th>geometry</th>\n",
       "      <th>index_right</th>\n",
       "      <th>DEPARTAMEN</th>\n",
       "      <th>PROVINCIA</th>\n",
       "      <th>DISTRITO</th>\n",
       "      <th>INSTITUCIO</th>\n",
       "    </tr>\n",
       "  </thead>\n",
       "  <tbody>\n",
       "    <tr>\n",
       "      <th>0</th>\n",
       "      <td>1</td>\n",
       "      <td>-77.924728</td>\n",
       "      <td>-6.690365</td>\n",
       "      <td>POINT (-77.924728 -6.690364999999999)</td>\n",
       "      <td>1466.0</td>\n",
       "      <td>AMAZONAS</td>\n",
       "      <td>LUYA</td>\n",
       "      <td>SAN FRANCISCO DEL YESO</td>\n",
       "      <td>IGN</td>\n",
       "    </tr>\n",
       "    <tr>\n",
       "      <th>1</th>\n",
       "      <td>2</td>\n",
       "      <td>-76.991578</td>\n",
       "      <td>-12.173440</td>\n",
       "      <td>POINT (-76.991578 -12.17344)</td>\n",
       "      <td>1861.0</td>\n",
       "      <td>LIMA</td>\n",
       "      <td>LIMA</td>\n",
       "      <td>CHORRILLOS</td>\n",
       "      <td>IGN</td>\n",
       "    </tr>\n",
       "    <tr>\n",
       "      <th>2</th>\n",
       "      <td>3</td>\n",
       "      <td>-76.836053</td>\n",
       "      <td>-12.291546</td>\n",
       "      <td>POINT (-76.83605300000001 -12.291546)</td>\n",
       "      <td>1867.0</td>\n",
       "      <td>LIMA</td>\n",
       "      <td>LIMA</td>\n",
       "      <td>LURIN</td>\n",
       "      <td>IGN</td>\n",
       "    </tr>\n",
       "    <tr>\n",
       "      <th>3</th>\n",
       "      <td>4</td>\n",
       "      <td>-79.211503</td>\n",
       "      <td>-0.549836</td>\n",
       "      <td>POINT (-79.21150300000001 -0.549836)</td>\n",
       "      <td>NaN</td>\n",
       "      <td>NaN</td>\n",
       "      <td>NaN</td>\n",
       "      <td>NaN</td>\n",
       "      <td>NaN</td>\n",
       "    </tr>\n",
       "  </tbody>\n",
       "</table>\n",
       "</div>"
      ],
      "text/plain": [
       "   Id   longitud    latitud                               geometry  \\\n",
       "0   1 -77.924728  -6.690365  POINT (-77.924728 -6.690364999999999)   \n",
       "1   2 -76.991578 -12.173440           POINT (-76.991578 -12.17344)   \n",
       "2   3 -76.836053 -12.291546  POINT (-76.83605300000001 -12.291546)   \n",
       "3   4 -79.211503  -0.549836   POINT (-79.21150300000001 -0.549836)   \n",
       "\n",
       "   index_right DEPARTAMEN PROVINCIA                DISTRITO INSTITUCIO  \n",
       "0       1466.0   AMAZONAS      LUYA  SAN FRANCISCO DEL YESO        IGN  \n",
       "1       1861.0       LIMA      LIMA              CHORRILLOS        IGN  \n",
       "2       1867.0       LIMA      LIMA                   LURIN        IGN  \n",
       "3          NaN        NaN       NaN                     NaN        NaN  "
      ]
     },
     "execution_count": 15,
     "metadata": {},
     "output_type": "execute_result"
    }
   ],
   "source": [
    "merge = gpd.sjoin(\n",
    "    zips, distritos, how='left', op='intersects', lsuffix='left', rsuffix='right'\n",
    ")\n",
    "print(\"*\"*10)\n",
    "print (type(merge))\n",
    "print(\"*\"*10)\n",
    "merge.head()"
   ]
  },
  {
   "cell_type": "code",
   "execution_count": null,
   "metadata": {},
   "outputs": [],
   "source": []
  }
 ],
 "metadata": {
  "kernelspec": {
   "display_name": "Python 3",
   "language": "python",
   "name": "python3"
  },
  "language_info": {
   "codemirror_mode": {
    "name": "ipython",
    "version": 3
   },
   "file_extension": ".py",
   "mimetype": "text/x-python",
   "name": "python",
   "nbconvert_exporter": "python",
   "pygments_lexer": "ipython3",
   "version": "3.6.4"
  }
 },
 "nbformat": 4,
 "nbformat_minor": 2
}
